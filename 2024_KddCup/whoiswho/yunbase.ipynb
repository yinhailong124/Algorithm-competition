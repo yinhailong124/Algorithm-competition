{
 "cells": [
  {
   "cell_type": "markdown",
   "id": "364835e6-f5b0-42fd-94f6-4e39f70f5983",
   "metadata": {},
   "source": [
    "# 开源方案\n",
    "- https://github.com/yunsuxiaozi/AI-and-competition/blob/main/2024kddWhoiswhotop37solution/2024kdd-data.ipynb"
   ]
  },
  {
   "cell_type": "code",
   "execution_count": 2,
   "id": "ae17e1ea-38bb-4d9b-9c6f-ddc825d027b6",
   "metadata": {
    "tags": []
   },
   "outputs": [],
   "source": [
    "#necessary\n",
    "import pandas as pd#导入csv文件的库\n",
    "import numpy as np#进行矩阵运算的库\n",
    "import json#用于读取和写入json数据格式\n",
    "import re#用于正则表达式提取\n",
    "import warnings#避免一些可以忽略的报错\n",
    "warnings.filterwarnings('ignore')#filterwarnings()方法是用于设置警告过滤器的方法，它可以控制警告信息的输出方式和级别。"
   ]
  },
  {
   "cell_type": "markdown",
   "id": "dbda4e61-6d05-4c06-84e5-7d9f2de0f9ee",
   "metadata": {},
   "source": [
    "## 文本可读性指数"
   ]
  },
  {
   "cell_type": "code",
   "execution_count": null,
   "id": "a5777752-7ce1-41c6-bfe1-3ce2a9573959",
   "metadata": {},
   "outputs": [],
   "source": [
    "#文本的自动可读性指数 旨在衡量文本的可理解性.输出是理解课文所需的美国年级水平的近似表示.\n",
    "#https://www.nhooo.com/note/qa0tpe.html\n",
    "#初步理解:相同词数的情况下,句子越少,说明句子相对来说会很长,越长越不容易理解.words/sentence就会越大.\n",
    "#字符数相同的情况下,词数越多,单词越短,短的单词可能简单,所以就好理解.characters/words变小.\n",
    "#数值小就好理解,数值大就不好理解.具体的公式可能用数据做过实验得出?\n",
    "def ARI(txt):\n",
    "    if txt==None:\n",
    "        txt=\"q\"\n",
    "    characters=len(txt)\n",
    "    words=len(re.split(' |\\\\n|\\\\.|\\\\?|\\\\!|\\,',txt))#空格,换行符,句号,问号,感叹号,逗号分开.\n",
    "    sentence=len(re.split('\\\\.|\\\\?|\\\\!',txt))#句号,问号,感叹号分开的句子.\n",
    "    ari_score=4.71*(characters/words)+0.5*(words/sentence)-21.43\n",
    "    return ari_score\n",
    "\"\"\"\n",
    "http://www.supermagnus.com/mac/Word_Counter/index.html\n",
    "McAlpine EFLAW© Test\n",
    "     (W + SW) / S\n",
    "McAlpine EFLAW© Readability\n",
    "     Scale:\n",
    "     1-20: Easy\n",
    "     21-25: Quite Easy\n",
    "     26-29: Mildly Difficult\n",
    "     ≥ 30: Very Confusing\n",
    "     S:total sentences\n",
    "     W:total words\n",
    "\"\"\"\n",
    "def McAlpine_EFLAW(txt):\n",
    "    if txt==None:\n",
    "        txt=\"q\"\n",
    "    W=len(re.split(' |\\\\n|\\\\.|\\\\?|\\\\!|\\,',txt))#空格,换行符,句号,问号,感叹号,逗号分开.\n",
    "    S=len(re.split('\\\\.|\\\\?|\\\\!',txt))#句号,问号,感叹号分开的句子.\n",
    "    mcalpine_eflaw_score=(W+S*W)/S\n",
    "    return mcalpine_eflaw_score\n",
    "\"\"\"\n",
    "https://readable.com/readability/coleman-liau-readability-index/\n",
    "\n",
    "=0.0588*L-0.296*S-15.8\n",
    "L是每100个单词有多少个字母,S是平均每100个单词有多少句子.\n",
    "\"\"\"\n",
    "def CLRI(txt):\n",
    "    if txt==None:\n",
    "        txt=\"q\"\n",
    "    characters=len(txt)\n",
    "    words=len(re.split(' |\\\\n|\\\\.|\\\\?|\\\\!|\\,',txt))#空格,换行符,句号,问号,感叹号,逗号分开.\n",
    "    sentence=len(re.split('\\\\.|\\\\?|\\\\!',txt))#句号,问号,感叹号分开的句子.\n",
    "    L=100*characters/words\n",
    "    S=100*sentence/words\n",
    "    clri_score=0.0588*L-0.296*S-15.8\n",
    "    return clri_score\n",
    "\n",
    "#统计txt文本中出现find_word几次\n",
    "def calwordcnt(txt,find_word):\n",
    "    wordcnt=0\n",
    "    words=txt.split()\n",
    "    for word in words:\n",
    "        word=word.lower()\n",
    "        wordcnt+=int(word==find_word)\n",
    "    return wordcnt"
   ]
  },
  {
   "cell_type": "markdown",
   "id": "1687f037-da3e-49a6-b31e-0edc00ac3546",
   "metadata": {},
   "source": [
    "## 右侧长尾或者右偏态数据处理"
   ]
  },
  {
   "cell_type": "code",
   "execution_count": null,
   "id": "a99e9d2c-95da-404d-94b6-8997973f96a5",
   "metadata": {},
   "outputs": [],
   "source": [
    "train_feats.replace([np.inf, -np.inf], np.nan, inplace=True)\n",
    "valid_feats.replace([np.inf, -np.inf], np.nan, inplace=True)\n",
    "\n",
    "for col in valid_feats.columns:\n",
    "    #数据呈现右偏,并且可以进行log1p处理\n",
    "    if (train_feats[col].skew()>1) and train_feats[col].min()>-1:\n",
    "        print(f\"skew:{col}\")\n",
    "        train_feats[col]=np.log1p(train_feats[col])\n",
    "        valid_feats[col]=np.log1p(valid_feats[col])"
   ]
  },
  {
   "cell_type": "markdown",
   "id": "f7f68144-93e5-4030-8949-b4728ff8479f",
   "metadata": {},
   "source": [
    "## 左侧长尾或者右偏态数据"
   ]
  },
  {
   "cell_type": "markdown",
   "id": "cf396e22-d005-49db-9911-0367e0ed9ebd",
   "metadata": {},
   "source": [
    "- 反向对数变换（Inverse Log Transformation）：\n",
    "    - 对于左偏分布的数据，可以进行反向对数变换。即对数据取负值，然后再应用对数变换。"
   ]
  },
  {
   "cell_type": "code",
   "execution_count": null,
   "id": "03f2ea45-34e7-4779-a1da-592dda569f3c",
   "metadata": {},
   "outputs": [],
   "source": [
    "'''\n",
    "先取负值（-train_feats[col]）将左偏数据转换为右偏数据。\n",
    "减去最小值以确保所有值为正（避免log(0)的情况）。\n",
    "再加1确保所有值大于0，然后应用log1p变换。\n",
    "'''\n",
    "\n",
    "train_feats[col] = np.log1p(-train_feats[col] - train_feats[col].min() + 1)\n",
    "valid_feats[col] = np.log1p(-valid_feats[col] - valid_feats[col].min() + 1)"
   ]
  },
  {
   "cell_type": "markdown",
   "id": "7128a4d8-180a-4b3e-8500-1274cf4d55e6",
   "metadata": {},
   "source": [
    "- 平方变换（Square Transformation）：\n",
    "    - 另一种方法是对数据进行平方变换。这对于数据偏度不严重的情况效果较好。\n",
    "    \n",
    "- 平方根变换（Square Root Transformation）：\n",
    "    - 对于左偏数据，可以取平方根来使数据分布更加对称。"
   ]
  },
  {
   "cell_type": "code",
   "execution_count": 4,
   "id": "7637a196-550a-4025-b9fd-0676479addb1",
   "metadata": {
    "tags": []
   },
   "outputs": [],
   "source": [
    "'''\n",
    "对数据进行平方变换，减少偏度。\n",
    "'''\n",
    "train_feats[col] = train_feats[col] ** 2\n",
    "valid_feats[col] = valid_feats[col] ** 2\n",
    "\n",
    "\n",
    "'''\n",
    "平方根变换\n",
    "'''\n",
    "\n",
    "train_feats[col] = np.sqrt(train_feats[col] - train_feats[col].min() + 1)\n",
    "valid_feats[col] = np.sqrt(valid_feats[col] - valid_feats[col].min() + 1)"
   ]
  },
  {
   "cell_type": "code",
   "execution_count": null,
   "id": "dc004ceb-a132-49c3-979c-5b038488260d",
   "metadata": {},
   "outputs": [],
   "source": []
  }
 ],
 "metadata": {
  "kernelspec": {
   "display_name": "pytorch",
   "language": "python",
   "name": "pytorch"
  },
  "language_info": {
   "codemirror_mode": {
    "name": "ipython",
    "version": 3
   },
   "file_extension": ".py",
   "mimetype": "text/x-python",
   "name": "python",
   "nbconvert_exporter": "python",
   "pygments_lexer": "ipython3",
   "version": "3.8.18"
  }
 },
 "nbformat": 4,
 "nbformat_minor": 5
}
