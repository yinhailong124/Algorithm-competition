{
 "cells": [
  {
   "cell_type": "code",
   "execution_count": 1,
   "id": "297bc180-241b-4eb9-a31b-a231b6cfd6e3",
   "metadata": {
    "tags": []
   },
   "outputs": [],
   "source": [
    "import os, glob, random, soundfile, torch, sys, tqdm, time, pickle, numpy, argparse, warnings, math, librosa\n",
    "import numpy as np\n",
    "import pandas as pd\n",
    "\n",
    "from sklearn import metrics\n",
    "from operator import itemgetter\n",
    "\n",
    "import torchvision.models as models\n",
    "import torch\n",
    "import torch.nn as nn\n",
    "import torch.nn.functional as F\n",
    "from torch.utils.data import Dataset\n",
    "import torchaudio\n",
    "from torch import flatten\n",
    "from scipy import signal"
   ]
  },
  {
   "cell_type": "markdown",
   "id": "ee9b04ae-1aaa-440e-9055-2686f65eba64",
   "metadata": {},
   "source": [
    "# 在官方的base的基础上，增加上1st的模型\n",
    "# 再此基础上，修改loss 和 optimi\n",
    "# 增加上drop_aug\n",
    "- 改进\n",
    "    - 1.对每个batch，都进行转图谱 + 增强操作（生成双倍的数据）（先放弃）\n",
    "    - 2.使用1st的模型"
   ]
  },
  {
   "cell_type": "markdown",
   "id": "b69509a8-0605-4be3-a3f7-b0a9e3bf5283",
   "metadata": {},
   "source": [
    "## 官方base的功能函数"
   ]
  },
  {
   "cell_type": "code",
   "execution_count": 2,
   "id": "4e206c45-137c-4ab9-8d14-3ba1e0a49204",
   "metadata": {
    "tags": []
   },
   "outputs": [],
   "source": [
    "def init_args(args):\n",
    "    args.score_save_path    = os.path.join(args.save_path, 'score.txt')\n",
    "    args.model_save_path    = os.path.join(args.save_path, 'base_1st_res_model')\n",
    "    os.makedirs(args.model_save_path, exist_ok = True)\n",
    "    return args\n",
    "\n",
    "def metrics_scores(output, target):\n",
    "    # output = output.detach().cpu().numpy().argmax(axis=1)\n",
    "    output = output.detach().cpu().numpy()\n",
    "    output = output >= 0.5  # 这会创建一个布尔数组，True 表示原值大于0.5，False 表示小于等于0.5\n",
    "    output = output.astype(int)  # 将布尔值转换为整数，True 变为 1，False 变为 0\n",
    "    \n",
    "    target = target.detach().cpu().numpy()\n",
    "    accuracy = metrics.accuracy_score(target, output)\n",
    "    recall = metrics.recall_score(target, output)\n",
    "    precision = metrics.precision_score(target, output)\n",
    "    F1 = metrics.f1_score(target, output)   \n",
    "    return accuracy*100, recall*100, precision, F1\n",
    "\n",
    "\n",
    "class train_loader(object):\n",
    "    def __init__(self, train_list, num_frames, **kwargs):\n",
    "        self.num_frames = num_frames\n",
    "        # Load data & labels\n",
    "        df_train = pd.read_csv(train_list)\n",
    "        self.data_list = df_train['wav_path'].tolist()\n",
    "        self.data_label = df_train['label'].tolist()\n",
    "\n",
    "    def __getitem__(self, index):\n",
    "        # Read the utterance and randomly select the segment\n",
    "        # 每次获取数据时随机选择一个片段进行训练，以增加数据多样性。\n",
    "        audio, sr = soundfile.read(self.data_list[index])\n",
    "        length = self.num_frames * 80\n",
    "        if audio.shape[0] <= length:\n",
    "            shortage = length - audio.shape[0]\n",
    "            audio = numpy.pad(audio, (0, shortage), 'wrap')\n",
    "        start_frame = numpy.int64(random.random()*(audio.shape[0]-length))\n",
    "        audio = audio[start_frame:start_frame + length]\n",
    "        audio = numpy.stack([audio],axis=0)  # [1, 1600]\n",
    "        return torch.FloatTensor(audio[0]), self.data_label[index]\n",
    "\n",
    "    def __len__(self):\n",
    "        return len(self.data_list)"
   ]
  },
  {
   "cell_type": "markdown",
   "id": "a1b12edb-2b15-40e9-b342-c43a53c9d633",
   "metadata": {},
   "source": [
    "## 1st的功能函数\n",
    "- 1.对频谱图求log\n",
    "- 2.对频谱图做随机drop"
   ]
  },
  {
   "cell_type": "code",
   "execution_count": 3,
   "id": "5aab2160-5798-45f7-a7c1-bfa8d33c1b22",
   "metadata": {
    "tags": []
   },
   "outputs": [],
   "source": [
    "# 生成离散傅里叶变换（DFT）和逆离散傅里叶变换（IDFT）矩阵。\n",
    "class DFTBase(nn.Module):\n",
    "    def __init__(self):\n",
    "        \"\"\"Base class for DFT and IDFT matrix\"\"\"\n",
    "        super(DFTBase, self).__init__()\n",
    "\n",
    "    def dft_matrix(self, n):\n",
    "        (x, y) = np.meshgrid(np.arange(n), np.arange(n))\n",
    "        omega = np.exp(-2 * np.pi * 1j / n)\n",
    "        W = np.power(omega, x * y)\n",
    "        return W\n",
    "\n",
    "    def idft_matrix(self, n):\n",
    "        (x, y) = np.meshgrid(np.arange(n), np.arange(n))\n",
    "        omega = np.exp(2 * np.pi * 1j / n)\n",
    "        W = np.power(omega, x * y)\n",
    "        return W\n",
    "    \n",
    "# 继承自 DFTBase，实现了使用卷积1D进行短时傅里叶变换（STFT）。\n",
    "class STFT(DFTBase):\n",
    "    def __init__(self, n_fft=2048, hop_length=None, win_length=None, window='hann', \n",
    "                 center=True, pad_mode='reflect', freeze_parameters=True):\n",
    "        \n",
    "        \"\"\"Implementation of STFT with Conv1d. The function has the same output \n",
    "        of librosa.core.stft\n",
    "        \"\"\"\n",
    "        # 使用 super()，调用父类（超类）的构造函数\n",
    "        super(STFT, self).__init__()\n",
    "\n",
    "        assert pad_mode in ['constant', 'reflect']\n",
    "\n",
    "        self.n_fft = n_fft\n",
    "        self.center = center\n",
    "        self.pad_mode = pad_mode\n",
    "\n",
    "        # By default, use the entire frame\n",
    "        if win_length is None:\n",
    "            win_length = n_fft\n",
    "\n",
    "        # Set the default hop, if it's not already specified\n",
    "        if hop_length is None:\n",
    "            hop_length = int(win_length // 4)\n",
    "\n",
    "        fft_window = librosa.filters.get_window(window, win_length, fftbins=True)\n",
    "\n",
    "        # Pad the window out to n_fft size\n",
    "        fft_window = librosa.util.pad_center(fft_window, size = n_fft)\n",
    "\n",
    "        # DFT & IDFT matrix\n",
    "        self.W = self.dft_matrix(n_fft)\n",
    "\n",
    "        out_channels = n_fft // 2 + 1\n",
    "\n",
    "        self.conv_real = nn.Conv1d(in_channels=1, out_channels=out_channels, \n",
    "            kernel_size=n_fft, stride=hop_length, padding=0, dilation=1, \n",
    "            groups=1, bias=False)\n",
    "\n",
    "        self.conv_imag = nn.Conv1d(in_channels=1, out_channels=out_channels, \n",
    "            kernel_size=n_fft, stride=hop_length, padding=0, dilation=1, \n",
    "            groups=1, bias=False)\n",
    "\n",
    "        self.conv_real.weight.data = torch.Tensor(\n",
    "            np.real(self.W[:, 0 : out_channels] * fft_window[:, None]).T)[:, None, :]\n",
    "        # (n_fft // 2 + 1, 1, n_fft)\n",
    "\n",
    "        self.conv_imag.weight.data = torch.Tensor(\n",
    "            np.imag(self.W[:, 0 : out_channels] * fft_window[:, None]).T)[:, None, :]\n",
    "        # (n_fft // 2 + 1, 1, n_fft)\n",
    "\n",
    "        if freeze_parameters:\n",
    "            for param in self.parameters():\n",
    "                param.requires_grad = False\n",
    "\n",
    "    def forward(self, input):\n",
    "        \"\"\"input: (batch_size, data_length)\n",
    "        Returns:\n",
    "          real: (batch_size, n_fft // 2 + 1, time_steps)\n",
    "          imag: (batch_size, n_fft // 2 + 1, time_steps)\n",
    "        \"\"\"\n",
    "\n",
    "        x = input[:, None, :]   # (batch_size, channels_num, data_length)\n",
    "\n",
    "        if self.center:\n",
    "            x = F.pad(x, pad=(self.n_fft // 2, self.n_fft // 2), mode=self.pad_mode)\n",
    "\n",
    "        real = self.conv_real(x)\n",
    "        imag = self.conv_imag(x)\n",
    "        # (batch_size, n_fft // 2 + 1, time_steps)\n",
    "\n",
    "        real = real[:, None, :, :].transpose(2, 3)\n",
    "        imag = imag[:, None, :, :].transpose(2, 3)\n",
    "        # (batch_size, 1, time_steps, n_fft // 2 + 1)\n",
    "\n",
    "        return real, imag\n",
    "    \n",
    "# 用于计算音频信号的频谱图    \n",
    "class Spectrogram(nn.Module):\n",
    "    def __init__(self, n_fft=2048, hop_length=512, win_length=1024, window='hann',\n",
    "                 center=True, pad_mode='reflect', power=2.0, freeze_parameters=True):\n",
    "        \"\"\"Calculate spectrogram using pytorch. The STFT is implemented with \n",
    "        Conv1d. The function has the same output of librosa.core.stft\n",
    "        \"\"\"\n",
    "        super(Spectrogram, self).__init__()\n",
    "        self.power = power\n",
    "        self.stft = STFT(n_fft=n_fft, hop_length=hop_length, win_length=win_length, \n",
    "                         window=window, center=center, pad_mode=pad_mode, freeze_parameters=True)\n",
    "\n",
    "    # PyTorch中 forward 方法是在调用模型实例时自动触发的。当你调用一个继承自 nn.Module 的类的实例，\n",
    "    # 并向其传递输入数据时，PyTorch 会自动调用该类中的 forward 方法来执行前向传播操作。\n",
    "    def forward(self, input):\n",
    "        \"\"\"input: (batch_size, 1, time_steps, n_fft // 2 + 1)\n",
    "        Returns:\n",
    "          spectrogram: (batch_size, 1, time_steps, n_fft // 2 + 1)\n",
    "        \"\"\"\n",
    "        (real, imag) = self.stft.forward(input)\n",
    "        # (batch_size, n_fft // 2 + 1, time_steps)\n",
    "\n",
    "        spectrogram = real ** 2 + imag ** 2\n",
    "\n",
    "        if self.power == 2.0:\n",
    "            pass\n",
    "        else:\n",
    "            spectrogram = spectrogram ** (self.power / 2.0)\n",
    "\n",
    "        return spectrogram\n",
    "\n",
    "class LogmelFilterBank(nn.Module):\n",
    "    def __init__(self, sr=32000, n_fft=2048, n_mels=64, fmin=50, fmax=14000, is_log=True, ref=1.0,\n",
    "                 amin=1e-10, top_db=80.0, freeze_parameters=True):\n",
    "        \"\"\"Calculate logmel spectrogram using pytorch. The mel filter bank is \n",
    "        the pytorch implementation of as librosa.filters.mel \n",
    "        \"\"\"\n",
    "        super(LogmelFilterBank, self).__init__()\n",
    "\n",
    "        self.is_log = is_log\n",
    "        self.ref = ref\n",
    "        self.amin = amin\n",
    "        self.top_db = top_db\n",
    "\n",
    "        self.melW = librosa.filters.mel(sr=sr, n_fft=n_fft, n_mels=n_mels,\n",
    "            fmin=fmin, fmax=fmax).T\n",
    "        # (n_fft // 2 + 1, mel_bins)\n",
    "\n",
    "        self.melW = nn.Parameter(torch.Tensor(self.melW))\n",
    "\n",
    "        if freeze_parameters:\n",
    "            for param in self.parameters():\n",
    "                param.requires_grad = False\n",
    "\n",
    "    def forward(self, input):\n",
    "        \"\"\"input: (batch_size, channels, time_steps)\n",
    "        \n",
    "        Output: (batch_size, time_steps, mel_bins)\n",
    "        \"\"\"\n",
    "\n",
    "        # Mel spectrogram\n",
    "        mel_spectrogram = torch.matmul(input, self.melW)\n",
    "\n",
    "        # Logmel spectrogram\n",
    "        if self.is_log:\n",
    "            output = self.power_to_db(mel_spectrogram)\n",
    "        else:\n",
    "            output = mel_spectrogram\n",
    "\n",
    "        return output\n",
    "\n",
    "\n",
    "    def power_to_db(self, input):\n",
    "        \"\"\"Power to db, this function is the pytorch implementation of \n",
    "        librosa.core.power_to_lb\n",
    "        \"\"\"\n",
    "        ref_value = self.ref\n",
    "        log_spec = 10.0 * torch.log10(torch.clamp(input, min=self.amin, max=np.inf))\n",
    "        log_spec -= 10.0 * np.log10(np.maximum(self.amin, ref_value))\n",
    "\n",
    "        if self.top_db is not None:\n",
    "            if self.top_db < 0:\n",
    "                raise ValueError('top_db must be non-negative')\n",
    "            log_spec = torch.clamp(log_spec, min=log_spec.max().item() - self.top_db, max=np.inf)\n",
    "\n",
    "        return log_spec\n",
    "\n",
    "# 用于在输入的频谱图上随机丢弃条纹的模块\n",
    "class DropStripes(nn.Module):\n",
    "    def __init__(self, dim, drop_width, stripes_num):\n",
    "        \"\"\"Drop stripes. \n",
    "        Args:\n",
    "          dim: int, dimension along which to drop\n",
    "          drop_width: int, maximum width of stripes to drop\n",
    "          stripes_num: int, how many stripes to drop\n",
    "        \"\"\"\n",
    "        super(DropStripes, self).__init__()\n",
    "\n",
    "        assert dim in [2, 1]    # dim 1:freq:指定的n_mels ; dim 2:time:算出来的\n",
    "\n",
    "        self.dim = dim\n",
    "        self.drop_width = drop_width\n",
    "        self.stripes_num = stripes_num\n",
    "\n",
    "    def forward(self, input):\n",
    "        \"\"\"input: (batch_size, channels, time_steps, freq_bins)\"\"\"\n",
    "        assert input.ndimension() == 3\n",
    "        \n",
    "        if self.training is False:\n",
    "            return input\n",
    "        else:\n",
    "            batch_size = input.shape[0]\n",
    "            total_width = input.shape[self.dim]\n",
    "            for n in range(batch_size):\n",
    "                self.transform_slice(input[n], total_width)\n",
    "            return input\n",
    "        \n",
    "    def transform_slice(self, e, total_width):\n",
    "        \"\"\"e: (channels, time_steps, freq_bins)\"\"\"\n",
    "        for _ in range(self.stripes_num):\n",
    "            distance = torch.randint(low=0, high=self.drop_width, size=(1,))[0]\n",
    "            bgn = torch.randint(low=0, high=total_width - distance, size=(1,))[0]\n",
    "            if self.dim == 1:\n",
    "                e[bgn : bgn + distance, :] = 0\n",
    "            elif self.dim == 2:\n",
    "                e[:, bgn : bgn + distance] = 0\n",
    "\n",
    "# 用于实现频谱图的数据增强操作，其中包含了时间维度和频率维度的条纹丢弃操作。\n",
    "class SpecAugmentation(nn.Module):\n",
    "    def __init__(self, time_drop_width, time_stripes_num, freq_drop_width, freq_stripes_num):\n",
    "        \"\"\"Spec augmetation. \n",
    "        [ref] Park, D.S., Chan, W., Zhang, Y., Chiu, C.C., Zoph, B., Cubuk, E.D. \n",
    "        and Le, Q.V., 2019. Specaugment: A simple data augmentation method \n",
    "        for automatic speech recognition. arXiv preprint arXiv:1904.08779.\n",
    "        Args:\n",
    "          time_drop_width: int\n",
    "          time_stripes_num: int\n",
    "          freq_drop_width: int\n",
    "          freq_stripes_num: int\n",
    "        \"\"\"\n",
    "        super(SpecAugmentation, self).__init__()\n",
    "        \n",
    "        self.freq_dropper = DropStripes(dim=1, drop_width=freq_drop_width,\n",
    "                                        stripes_num=freq_stripes_num)\n",
    "        \n",
    "        self.time_dropper = DropStripes(dim=2, drop_width=time_drop_width,\n",
    "                                        stripes_num=time_stripes_num)\n",
    "\n",
    "    def forward(self, input):\n",
    "        x = self.time_dropper(input)\n",
    "        x = self.freq_dropper(x)\n",
    "        return x"
   ]
  },
  {
   "cell_type": "markdown",
   "id": "019321be-5c8a-4636-bb0a-211e25474793",
   "metadata": {},
   "source": [
    "## 1st的模型函数"
   ]
  },
  {
   "cell_type": "code",
   "execution_count": 4,
   "id": "a652506b-8c8c-4220-92a8-aec822b0b3e3",
   "metadata": {
    "tags": []
   },
   "outputs": [],
   "source": [
    "def init_layer(layer):\n",
    "    nn.init.xavier_uniform_(layer.weight)\n",
    "    if hasattr(layer, \"bias\"):\n",
    "        if layer.bias is not None:\n",
    "            layer.bias.data.fill_(0.)\n",
    "            \n",
    "def init_bn(bn):\n",
    "    bn.bias.data.fill_(0.)\n",
    "    bn.weight.data.fill_(1.0)\n",
    "\n",
    "def interpolate(x: torch.Tensor, ratio: int):\n",
    "    \"\"\"Interpolate data in time domain. This is used to compensate the\n",
    "    resolution reduction in downsampling of a CNN.\n",
    "    \n",
    "    对输入的三维张量 x 在时间维度上进行插值，以补偿卷积神经网络 (CNN) 下采样时造成的分辨率降低。\n",
    "    具体地，它通过重复时间步的方式进行插值。\n",
    "    \n",
    "    Args:\n",
    "      x: (batch_size, time_steps, classes_num)\n",
    "      ratio: int, ratio to interpolate\n",
    "    Returns:\n",
    "      upsampled: (batch_size, time_steps * ratio, classes_num)\n",
    "    \"\"\"\n",
    "    (batch_size, time_steps, classes_num) = x.shape\n",
    "    upsampled = x[:, :, None, :].repeat(1, 1, ratio, 1)\n",
    "    upsampled = upsampled.reshape(batch_size, time_steps * ratio, classes_num)\n",
    "    return upsampled\n",
    "\n",
    "def pad_framewise_output(framewise_output: torch.Tensor, frames_num: int):\n",
    "    \"\"\"Pad framewise_output to the same length as input frames. The pad value\n",
    "    is the same as the value of the last frame.\n",
    "    \n",
    "    将 framewise_output 张量填充到指定的帧数长度 frames_num，填充值为最后一帧的值。\n",
    "    填充后的张量将与输入帧的长度一致。\n",
    "    \n",
    "    Args:\n",
    "      framewise_output: (batch_size, frames_num, classes_num)\n",
    "      frames_num: int, number of frames to pad\n",
    "    Outputs:\n",
    "      output: (batch_size, frames_num, classes_num)\n",
    "    \"\"\"\n",
    "    pad = framewise_output[:, -1:, :].repeat(\n",
    "        1, frames_num - framewise_output.shape[1], 1)\n",
    "    \"\"\"tensor for padding\"\"\"\n",
    "\n",
    "    output = torch.cat((framewise_output, pad), dim=1)\n",
    "    \"\"\"(batch_size, frames_num, classes_num)\"\"\"\n",
    "\n",
    "    return output\n",
    "\n",
    "class ConvBlock(nn.Module):\n",
    "    def __init__(self, in_channels: int, out_channels: int):\n",
    "        super().__init__()\n",
    "\n",
    "        self.conv1 = nn.Conv2d(\n",
    "            in_channels=in_channels,\n",
    "            out_channels=out_channels,\n",
    "            kernel_size=(3, 3),\n",
    "            stride=(1, 1),\n",
    "            padding=(1, 1),\n",
    "            bias=False)\n",
    "\n",
    "        self.conv2 = nn.Conv2d(\n",
    "            in_channels=out_channels,\n",
    "            out_channels=out_channels,\n",
    "            kernel_size=(3, 3),\n",
    "            stride=(1, 1),\n",
    "            padding=(1, 1),\n",
    "            bias=False)\n",
    "\n",
    "        self.bn1 = nn.BatchNorm2d(out_channels)\n",
    "        self.bn2 = nn.BatchNorm2d(out_channels)\n",
    "\n",
    "        self.init_weight()\n",
    "\n",
    "    def init_weight(self):\n",
    "        init_layer(self.conv1)\n",
    "        init_layer(self.conv2)\n",
    "        init_bn(self.bn1)\n",
    "        init_bn(self.bn2)\n",
    "\n",
    "    def forward(self, input, pool_size=(2, 2), pool_type='avg'):\n",
    "\n",
    "        x = input\n",
    "        x = F.relu_(self.bn1(self.conv1(x)))\n",
    "        x = F.relu_(self.bn2(self.conv2(x)))\n",
    "        if pool_type == 'max':\n",
    "            x = F.max_pool2d(x, kernel_size=pool_size)\n",
    "        elif pool_type == 'avg':\n",
    "            x = F.avg_pool2d(x, kernel_size=pool_size)\n",
    "        elif pool_type == 'avg+max':\n",
    "            x1 = F.avg_pool2d(x, kernel_size=pool_size)\n",
    "            x2 = F.max_pool2d(x, kernel_size=pool_size)\n",
    "            x = x1 + x2\n",
    "        else:\n",
    "            raise Exception('Incorrect argument!')\n",
    "\n",
    "        return x\n",
    "\n",
    "class AttBlock(nn.Module):\n",
    "    def __init__(self,\n",
    "                 in_features: int,\n",
    "                 out_features: int,\n",
    "                 activation=\"linear\",\n",
    "                 temperature=1.0):\n",
    "        super().__init__()\n",
    "\n",
    "        self.activation = activation\n",
    "        self.temperature = temperature\n",
    "        self.att = nn.Conv1d(\n",
    "            in_channels=in_features,\n",
    "            out_channels=out_features,\n",
    "            kernel_size=1,\n",
    "            stride=1,\n",
    "            padding=0,\n",
    "            bias=True)\n",
    "        self.cla = nn.Conv1d(\n",
    "            in_channels=in_features,\n",
    "            out_channels=out_features,\n",
    "            kernel_size=1,\n",
    "            stride=1,\n",
    "            padding=0,\n",
    "            bias=True)\n",
    "\n",
    "        self.bn_att = nn.BatchNorm1d(out_features)\n",
    "        self.init_weights()\n",
    "\n",
    "    def init_weights(self):\n",
    "        init_layer(self.att)\n",
    "        init_layer(self.cla)\n",
    "        init_bn(self.bn_att)\n",
    "\n",
    "    def forward(self, x):\n",
    "        # x: (n_samples, n_in, n_time)\n",
    "        norm_att = torch.softmax(torch.tanh(self.att(x)), dim=-1)\n",
    "        cla = self.nonlinear_transform(self.cla(x))\n",
    "        x = torch.sum(norm_att * cla, dim=2)\n",
    "        return x, norm_att, cla\n",
    "\n",
    "    def nonlinear_transform(self, x):\n",
    "        if self.activation == 'linear':\n",
    "            return x\n",
    "        elif self.activation == 'sigmoid':\n",
    "            return torch.sigmoid(x)"
   ]
  },
  {
   "cell_type": "markdown",
   "id": "2f805f25-e99f-4d03-9df6-ca4305d01542",
   "metadata": {
    "jp-MarkdownHeadingCollapsed": true,
    "tags": []
   },
   "source": [
    "### 构造数据集"
   ]
  },
  {
   "cell_type": "code",
   "execution_count": 22,
   "id": "b1bd56fe-227e-4466-8c8b-68b7ae01a832",
   "metadata": {
    "tags": []
   },
   "outputs": [],
   "source": [
    "class train_loader(Dataset):\n",
    "    def __init__(self, train_list, num_frames, **kwargs):\n",
    "        self.num_frames = num_frames\n",
    "        # Load data & labels\n",
    "        df_train = pd.read_csv(train_list)\n",
    "        self.data_list = df_train['wav_path'].tolist()\n",
    "        self.data_label = df_train['label'].tolist()\n",
    "        self.torchfbank = torch.nn.Sequential(\n",
    "            PreEmphasis(),            \n",
    "            torchaudio.transforms.MelSpectrogram(sample_rate=16000, n_fft=512, win_length=400, \n",
    "                                                 hop_length=160, window_fn=torch.hamming_window, \n",
    "                                                 n_mels=40))\n",
    "        \n",
    "        self.spectrogram_extractor = Spectrogram()\n",
    "        self.logmel_extractor = LogmelFilterBank()\n",
    "        self.spec_augmenter = SpecAugmentation(\n",
    "            time_drop_width=64,\n",
    "            time_stripes_num=2,\n",
    "            freq_drop_width=8,\n",
    "            freq_stripes_num=2)\n",
    "        \n",
    "    def process_audio_flag_1(self, feats):\n",
    "        feats = torch.tensor(feats)  # [5, 16000]\n",
    "        with torch.no_grad():\n",
    "            processed_audio = self.torchfbank(feats)\n",
    "            x = self.torchfbank(processed_audio)+1e-6\n",
    "            x = x.log()  \n",
    "            x = x - torch.mean(x, dim=-1, keepdim=True)\n",
    "        return x.numpy()\n",
    "    \n",
    "    def process_audio_flag_2(self, feats):\n",
    "        x = self.spectrogram_extractor(feats)  # (batch_size, 1, time_steps, freq_bins)\n",
    "        x = self.logmel_extractor(x)  # (batch_size, 1, time_steps, mel_bins)\n",
    "        x = self.spec_augmenter(x)\n",
    "        return x.numpy()\n",
    "        \n",
    "    def __getitem__(self, index):\n",
    "        # Read the utterance and randomly select the segment\n",
    "        # 每次获取数据时随机选择一个片段进行训练，以增加数据多样性。（舍弃）\n",
    "        \n",
    "        audio, sr = soundfile.read(self.data_list[index])\n",
    "        max_audio = self.num_frames * 80\n",
    "        if audio.shape[0] <= max_audio:\n",
    "            shortage = max_audio - audio.shape[0]\n",
    "            audio = numpy.pad(audio, (0, shortage), 'wrap')\n",
    "        feats = []\n",
    "        startframe = numpy.linspace(0, audio.shape[0]-max_audio, num=5)\n",
    "        for asf in startframe:\n",
    "            feats.append(audio[int(asf):int(asf)+max_audio])\n",
    "        feats = numpy.stack(feats, axis = 0).astype(np.float32) \n",
    "        print(feats.shape)  # (5, 16000)\n",
    "        \n",
    "        x1 = self.process_audio_flag_1(feats)\n",
    "        x2 = self.process_audio_flag_2(feats)\n",
    "        \n",
    "        return  [x1, x2]\n",
    "\n",
    "    def __len__(self):\n",
    "        return len(self.data_list)"
   ]
  },
  {
   "cell_type": "markdown",
   "id": "49792d7e-d6b7-44d1-bd5b-e579ed925e60",
   "metadata": {
    "jp-MarkdownHeadingCollapsed": true,
    "tags": []
   },
   "source": [
    "### 构造数据集2"
   ]
  },
  {
   "cell_type": "code",
   "execution_count": 11,
   "id": "2cb96e24-9f11-410b-b5a0-3dfa9e51504b",
   "metadata": {
    "tags": []
   },
   "outputs": [],
   "source": [
    "class train_loader(Dataset):\n",
    "    def __init__(self, train_list, num_frames, **kwargs):\n",
    "        self.num_frames = num_frames\n",
    "        # Load data & labels\n",
    "        df_train = pd.read_csv(train_list)\n",
    "        self.data_list = df_train['wav_path'].tolist()\n",
    "        self.data_label = df_train['label'].tolist()\n",
    "        \n",
    "        self.spectrogram_extractor = Spectrogram()\n",
    "        self.logmel_extractor = LogmelFilterBank()\n",
    "        self.spec_augmenter = SpecAugmentation(\n",
    "            time_drop_width=20,\n",
    "            time_stripes_num=2,\n",
    "            freq_drop_width=8,\n",
    "            freq_stripes_num=2)\n",
    "        \n",
    "    \n",
    "    def process_audio_flag_2(self, feats):\n",
    "        feats = torch.tensor(feats)\n",
    "        x = self.spectrogram_extractor(feats)  # (batch_size, 1, time_steps, freq_bins)\n",
    "        x = self.logmel_extractor(x)  # (batch_size, 1, time_steps, mel_bins)\n",
    "        x = self.spec_augmenter(x)\n",
    "        return x.numpy()\n",
    "    \n",
    "        \n",
    "    def __getitem__(self, index):\n",
    "        # Read the utterance and randomly select the segment\n",
    "        # 每次获取数据时随机选择一个片段进行训练，以增加数据多样性。（舍弃）\n",
    "        \n",
    "        audio, sr = soundfile.read(self.data_list[index])\n",
    "        max_audio = self.num_frames * 80\n",
    "        if audio.shape[0] <= max_audio:\n",
    "            shortage = max_audio - audio.shape[0]\n",
    "            audio = numpy.pad(audio, (0, shortage), 'wrap')\n",
    "        feats = []\n",
    "        startframe = numpy.linspace(0, audio.shape[0]-max_audio, num=5)\n",
    "        for asf in startframe:\n",
    "            feats.append(audio[int(asf):int(asf)+max_audio])\n",
    "        feats = numpy.stack(feats, axis = 0).astype(np.float32) \n",
    "        x2 = self.process_audio_flag_2(feats)\n",
    "        print(x2.shape)\n",
    "        return  x2\n",
    "\n",
    "    def __len__(self):\n",
    "        return len(self.data_list)"
   ]
  },
  {
   "cell_type": "code",
   "execution_count": 12,
   "id": "2e819c82-a611-4f04-8842-32df40766352",
   "metadata": {
    "tags": []
   },
   "outputs": [],
   "source": [
    "filepath = \"../user_data/train_data.csv\"\n",
    "trainloader = train_loader(filepath, num_frames=200)\n",
    "trainLoader = torch.utils.data.DataLoader(trainloader, batch_size = 128, shuffle = True,\n",
    "                                          num_workers = 0, drop_last = True)"
   ]
  },
  {
   "cell_type": "code",
   "execution_count": 13,
   "id": "91347d15-7697-447a-830b-459af4d0b84d",
   "metadata": {
    "collapsed": true,
    "jupyter": {
     "outputs_hidden": true
    },
    "tags": []
   },
   "outputs": [
    {
     "name": "stdout",
     "output_type": "stream",
     "text": [
      "(5, 1, 32, 64)\n",
      "(5, 1, 32, 64)\n",
      "(5, 1, 32, 64)\n",
      "(5, 1, 32, 64)\n",
      "(5, 1, 32, 64)\n",
      "(5, 1, 32, 64)\n",
      "(5, 1, 32, 64)\n",
      "(5, 1, 32, 64)\n",
      "(5, 1, 32, 64)\n",
      "(5, 1, 32, 64)\n",
      "(5, 1, 32, 64)\n",
      "(5, 1, 32, 64)\n",
      "(5, 1, 32, 64)\n",
      "(5, 1, 32, 64)\n",
      "(5, 1, 32, 64)\n",
      "(5, 1, 32, 64)\n",
      "(5, 1, 32, 64)\n",
      "(5, 1, 32, 64)\n",
      "(5, 1, 32, 64)\n",
      "(5, 1, 32, 64)\n",
      "(5, 1, 32, 64)\n",
      "(5, 1, 32, 64)\n",
      "(5, 1, 32, 64)\n",
      "(5, 1, 32, 64)\n",
      "(5, 1, 32, 64)\n",
      "(5, 1, 32, 64)\n",
      "(5, 1, 32, 64)\n",
      "(5, 1, 32, 64)\n",
      "(5, 1, 32, 64)\n",
      "(5, 1, 32, 64)\n",
      "(5, 1, 32, 64)\n",
      "(5, 1, 32, 64)\n",
      "(5, 1, 32, 64)\n",
      "(5, 1, 32, 64)\n",
      "(5, 1, 32, 64)\n",
      "(5, 1, 32, 64)\n",
      "(5, 1, 32, 64)\n",
      "(5, 1, 32, 64)\n",
      "(5, 1, 32, 64)\n",
      "(5, 1, 32, 64)\n",
      "(5, 1, 32, 64)\n",
      "(5, 1, 32, 64)\n",
      "(5, 1, 32, 64)\n",
      "(5, 1, 32, 64)\n",
      "(5, 1, 32, 64)\n",
      "(5, 1, 32, 64)\n",
      "(5, 1, 32, 64)\n",
      "(5, 1, 32, 64)\n",
      "(5, 1, 32, 64)\n",
      "(5, 1, 32, 64)\n",
      "(5, 1, 32, 64)\n",
      "(5, 1, 32, 64)\n",
      "(5, 1, 32, 64)\n",
      "(5, 1, 32, 64)\n",
      "(5, 1, 32, 64)\n",
      "(5, 1, 32, 64)\n",
      "(5, 1, 32, 64)\n",
      "(5, 1, 32, 64)\n",
      "(5, 1, 32, 64)\n",
      "(5, 1, 32, 64)\n",
      "(5, 1, 32, 64)\n",
      "(5, 1, 32, 64)\n"
     ]
    },
    {
     "ename": "KeyboardInterrupt",
     "evalue": "",
     "output_type": "error",
     "traceback": [
      "\u001b[1;31m---------------------------------------------------------------------------\u001b[0m",
      "\u001b[1;31mKeyboardInterrupt\u001b[0m                         Traceback (most recent call last)",
      "Cell \u001b[1;32mIn[13], line 1\u001b[0m\n\u001b[1;32m----> 1\u001b[0m \u001b[38;5;28;01mfor\u001b[39;00m num, (data, labels) \u001b[38;5;129;01min\u001b[39;00m \u001b[38;5;28menumerate\u001b[39m(trainLoader, start \u001b[38;5;241m=\u001b[39m \u001b[38;5;241m1\u001b[39m):\n\u001b[0;32m      2\u001b[0m     \u001b[38;5;28;01mif\u001b[39;00m num \u001b[38;5;241m==\u001b[39m\u001b[38;5;241m1\u001b[39m:\n\u001b[0;32m      3\u001b[0m         \u001b[38;5;28mprint\u001b[39m(data\u001b[38;5;241m.\u001b[39mshape)\n",
      "File \u001b[1;32mF:\\Anaconda\\envs\\pytorch\\lib\\site-packages\\torch\\utils\\data\\dataloader.py:633\u001b[0m, in \u001b[0;36m_BaseDataLoaderIter.__next__\u001b[1;34m(self)\u001b[0m\n\u001b[0;32m    630\u001b[0m \u001b[38;5;28;01mif\u001b[39;00m \u001b[38;5;28mself\u001b[39m\u001b[38;5;241m.\u001b[39m_sampler_iter \u001b[38;5;129;01mis\u001b[39;00m \u001b[38;5;28;01mNone\u001b[39;00m:\n\u001b[0;32m    631\u001b[0m     \u001b[38;5;66;03m# TODO(https://github.com/pytorch/pytorch/issues/76750)\u001b[39;00m\n\u001b[0;32m    632\u001b[0m     \u001b[38;5;28mself\u001b[39m\u001b[38;5;241m.\u001b[39m_reset()  \u001b[38;5;66;03m# type: ignore[call-arg]\u001b[39;00m\n\u001b[1;32m--> 633\u001b[0m data \u001b[38;5;241m=\u001b[39m \u001b[38;5;28;43mself\u001b[39;49m\u001b[38;5;241;43m.\u001b[39;49m\u001b[43m_next_data\u001b[49m\u001b[43m(\u001b[49m\u001b[43m)\u001b[49m\n\u001b[0;32m    634\u001b[0m \u001b[38;5;28mself\u001b[39m\u001b[38;5;241m.\u001b[39m_num_yielded \u001b[38;5;241m+\u001b[39m\u001b[38;5;241m=\u001b[39m \u001b[38;5;241m1\u001b[39m\n\u001b[0;32m    635\u001b[0m \u001b[38;5;28;01mif\u001b[39;00m \u001b[38;5;28mself\u001b[39m\u001b[38;5;241m.\u001b[39m_dataset_kind \u001b[38;5;241m==\u001b[39m _DatasetKind\u001b[38;5;241m.\u001b[39mIterable \u001b[38;5;129;01mand\u001b[39;00m \\\n\u001b[0;32m    636\u001b[0m         \u001b[38;5;28mself\u001b[39m\u001b[38;5;241m.\u001b[39m_IterableDataset_len_called \u001b[38;5;129;01mis\u001b[39;00m \u001b[38;5;129;01mnot\u001b[39;00m \u001b[38;5;28;01mNone\u001b[39;00m \u001b[38;5;129;01mand\u001b[39;00m \\\n\u001b[0;32m    637\u001b[0m         \u001b[38;5;28mself\u001b[39m\u001b[38;5;241m.\u001b[39m_num_yielded \u001b[38;5;241m>\u001b[39m \u001b[38;5;28mself\u001b[39m\u001b[38;5;241m.\u001b[39m_IterableDataset_len_called:\n",
      "File \u001b[1;32mF:\\Anaconda\\envs\\pytorch\\lib\\site-packages\\torch\\utils\\data\\dataloader.py:677\u001b[0m, in \u001b[0;36m_SingleProcessDataLoaderIter._next_data\u001b[1;34m(self)\u001b[0m\n\u001b[0;32m    675\u001b[0m \u001b[38;5;28;01mdef\u001b[39;00m \u001b[38;5;21m_next_data\u001b[39m(\u001b[38;5;28mself\u001b[39m):\n\u001b[0;32m    676\u001b[0m     index \u001b[38;5;241m=\u001b[39m \u001b[38;5;28mself\u001b[39m\u001b[38;5;241m.\u001b[39m_next_index()  \u001b[38;5;66;03m# may raise StopIteration\u001b[39;00m\n\u001b[1;32m--> 677\u001b[0m     data \u001b[38;5;241m=\u001b[39m \u001b[38;5;28;43mself\u001b[39;49m\u001b[38;5;241;43m.\u001b[39;49m\u001b[43m_dataset_fetcher\u001b[49m\u001b[38;5;241;43m.\u001b[39;49m\u001b[43mfetch\u001b[49m\u001b[43m(\u001b[49m\u001b[43mindex\u001b[49m\u001b[43m)\u001b[49m  \u001b[38;5;66;03m# may raise StopIteration\u001b[39;00m\n\u001b[0;32m    678\u001b[0m     \u001b[38;5;28;01mif\u001b[39;00m \u001b[38;5;28mself\u001b[39m\u001b[38;5;241m.\u001b[39m_pin_memory:\n\u001b[0;32m    679\u001b[0m         data \u001b[38;5;241m=\u001b[39m _utils\u001b[38;5;241m.\u001b[39mpin_memory\u001b[38;5;241m.\u001b[39mpin_memory(data, \u001b[38;5;28mself\u001b[39m\u001b[38;5;241m.\u001b[39m_pin_memory_device)\n",
      "File \u001b[1;32mF:\\Anaconda\\envs\\pytorch\\lib\\site-packages\\torch\\utils\\data\\_utils\\fetch.py:51\u001b[0m, in \u001b[0;36m_MapDatasetFetcher.fetch\u001b[1;34m(self, possibly_batched_index)\u001b[0m\n\u001b[0;32m     49\u001b[0m         data \u001b[38;5;241m=\u001b[39m \u001b[38;5;28mself\u001b[39m\u001b[38;5;241m.\u001b[39mdataset\u001b[38;5;241m.\u001b[39m__getitems__(possibly_batched_index)\n\u001b[0;32m     50\u001b[0m     \u001b[38;5;28;01melse\u001b[39;00m:\n\u001b[1;32m---> 51\u001b[0m         data \u001b[38;5;241m=\u001b[39m [\u001b[38;5;28mself\u001b[39m\u001b[38;5;241m.\u001b[39mdataset[idx] \u001b[38;5;28;01mfor\u001b[39;00m idx \u001b[38;5;129;01min\u001b[39;00m possibly_batched_index]\n\u001b[0;32m     52\u001b[0m \u001b[38;5;28;01melse\u001b[39;00m:\n\u001b[0;32m     53\u001b[0m     data \u001b[38;5;241m=\u001b[39m \u001b[38;5;28mself\u001b[39m\u001b[38;5;241m.\u001b[39mdataset[possibly_batched_index]\n",
      "File \u001b[1;32mF:\\Anaconda\\envs\\pytorch\\lib\\site-packages\\torch\\utils\\data\\_utils\\fetch.py:51\u001b[0m, in \u001b[0;36m<listcomp>\u001b[1;34m(.0)\u001b[0m\n\u001b[0;32m     49\u001b[0m         data \u001b[38;5;241m=\u001b[39m \u001b[38;5;28mself\u001b[39m\u001b[38;5;241m.\u001b[39mdataset\u001b[38;5;241m.\u001b[39m__getitems__(possibly_batched_index)\n\u001b[0;32m     50\u001b[0m     \u001b[38;5;28;01melse\u001b[39;00m:\n\u001b[1;32m---> 51\u001b[0m         data \u001b[38;5;241m=\u001b[39m [\u001b[38;5;28;43mself\u001b[39;49m\u001b[38;5;241;43m.\u001b[39;49m\u001b[43mdataset\u001b[49m\u001b[43m[\u001b[49m\u001b[43midx\u001b[49m\u001b[43m]\u001b[49m \u001b[38;5;28;01mfor\u001b[39;00m idx \u001b[38;5;129;01min\u001b[39;00m possibly_batched_index]\n\u001b[0;32m     52\u001b[0m \u001b[38;5;28;01melse\u001b[39;00m:\n\u001b[0;32m     53\u001b[0m     data \u001b[38;5;241m=\u001b[39m \u001b[38;5;28mself\u001b[39m\u001b[38;5;241m.\u001b[39mdataset[possibly_batched_index]\n",
      "Cell \u001b[1;32mIn[11], line 30\u001b[0m, in \u001b[0;36mtrain_loader.__getitem__\u001b[1;34m(self, index)\u001b[0m\n\u001b[0;32m     26\u001b[0m \u001b[38;5;28;01mdef\u001b[39;00m \u001b[38;5;21m__getitem__\u001b[39m(\u001b[38;5;28mself\u001b[39m, index):\n\u001b[0;32m     27\u001b[0m     \u001b[38;5;66;03m# Read the utterance and randomly select the segment\u001b[39;00m\n\u001b[0;32m     28\u001b[0m     \u001b[38;5;66;03m# 每次获取数据时随机选择一个片段进行训练，以增加数据多样性。（舍弃）\u001b[39;00m\n\u001b[1;32m---> 30\u001b[0m     audio, sr \u001b[38;5;241m=\u001b[39m \u001b[43msoundfile\u001b[49m\u001b[38;5;241;43m.\u001b[39;49m\u001b[43mread\u001b[49m\u001b[43m(\u001b[49m\u001b[38;5;28;43mself\u001b[39;49m\u001b[38;5;241;43m.\u001b[39;49m\u001b[43mdata_list\u001b[49m\u001b[43m[\u001b[49m\u001b[43mindex\u001b[49m\u001b[43m]\u001b[49m\u001b[43m)\u001b[49m\n\u001b[0;32m     31\u001b[0m     max_audio \u001b[38;5;241m=\u001b[39m \u001b[38;5;28mself\u001b[39m\u001b[38;5;241m.\u001b[39mnum_frames \u001b[38;5;241m*\u001b[39m \u001b[38;5;241m80\u001b[39m\n\u001b[0;32m     32\u001b[0m     \u001b[38;5;28;01mif\u001b[39;00m audio\u001b[38;5;241m.\u001b[39mshape[\u001b[38;5;241m0\u001b[39m] \u001b[38;5;241m<\u001b[39m\u001b[38;5;241m=\u001b[39m max_audio:\n",
      "File \u001b[1;32mF:\\Anaconda\\envs\\pytorch\\lib\\site-packages\\soundfile.py:288\u001b[0m, in \u001b[0;36mread\u001b[1;34m(file, frames, start, stop, dtype, always_2d, fill_value, out, samplerate, channels, format, subtype, endian, closefd)\u001b[0m\n\u001b[0;32m    285\u001b[0m \u001b[38;5;28;01mwith\u001b[39;00m SoundFile(file, \u001b[38;5;124m'\u001b[39m\u001b[38;5;124mr\u001b[39m\u001b[38;5;124m'\u001b[39m, samplerate, channels,\n\u001b[0;32m    286\u001b[0m                subtype, endian, \u001b[38;5;28mformat\u001b[39m, closefd) \u001b[38;5;28;01mas\u001b[39;00m f:\n\u001b[0;32m    287\u001b[0m     frames \u001b[38;5;241m=\u001b[39m f\u001b[38;5;241m.\u001b[39m_prepare_read(start, stop, frames)\n\u001b[1;32m--> 288\u001b[0m     data \u001b[38;5;241m=\u001b[39m \u001b[43mf\u001b[49m\u001b[38;5;241;43m.\u001b[39;49m\u001b[43mread\u001b[49m\u001b[43m(\u001b[49m\u001b[43mframes\u001b[49m\u001b[43m,\u001b[49m\u001b[43m \u001b[49m\u001b[43mdtype\u001b[49m\u001b[43m,\u001b[49m\u001b[43m \u001b[49m\u001b[43malways_2d\u001b[49m\u001b[43m,\u001b[49m\u001b[43m \u001b[49m\u001b[43mfill_value\u001b[49m\u001b[43m,\u001b[49m\u001b[43m \u001b[49m\u001b[43mout\u001b[49m\u001b[43m)\u001b[49m\n\u001b[0;32m    289\u001b[0m \u001b[38;5;28;01mreturn\u001b[39;00m data, f\u001b[38;5;241m.\u001b[39msamplerate\n",
      "File \u001b[1;32mF:\\Anaconda\\envs\\pytorch\\lib\\site-packages\\soundfile.py:895\u001b[0m, in \u001b[0;36mSoundFile.read\u001b[1;34m(self, frames, dtype, always_2d, fill_value, out)\u001b[0m\n\u001b[0;32m    893\u001b[0m     \u001b[38;5;28;01mif\u001b[39;00m frames \u001b[38;5;241m<\u001b[39m \u001b[38;5;241m0\u001b[39m \u001b[38;5;129;01mor\u001b[39;00m frames \u001b[38;5;241m>\u001b[39m \u001b[38;5;28mlen\u001b[39m(out):\n\u001b[0;32m    894\u001b[0m         frames \u001b[38;5;241m=\u001b[39m \u001b[38;5;28mlen\u001b[39m(out)\n\u001b[1;32m--> 895\u001b[0m frames \u001b[38;5;241m=\u001b[39m \u001b[38;5;28;43mself\u001b[39;49m\u001b[38;5;241;43m.\u001b[39;49m\u001b[43m_array_io\u001b[49m\u001b[43m(\u001b[49m\u001b[38;5;124;43m'\u001b[39;49m\u001b[38;5;124;43mread\u001b[39;49m\u001b[38;5;124;43m'\u001b[39;49m\u001b[43m,\u001b[49m\u001b[43m \u001b[49m\u001b[43mout\u001b[49m\u001b[43m,\u001b[49m\u001b[43m \u001b[49m\u001b[43mframes\u001b[49m\u001b[43m)\u001b[49m\n\u001b[0;32m    896\u001b[0m \u001b[38;5;28;01mif\u001b[39;00m \u001b[38;5;28mlen\u001b[39m(out) \u001b[38;5;241m>\u001b[39m frames:\n\u001b[0;32m    897\u001b[0m     \u001b[38;5;28;01mif\u001b[39;00m fill_value \u001b[38;5;129;01mis\u001b[39;00m \u001b[38;5;28;01mNone\u001b[39;00m:\n",
      "File \u001b[1;32mF:\\Anaconda\\envs\\pytorch\\lib\\site-packages\\soundfile.py:1344\u001b[0m, in \u001b[0;36mSoundFile._array_io\u001b[1;34m(self, action, array, frames)\u001b[0m\n\u001b[0;32m   1342\u001b[0m \u001b[38;5;28;01massert\u001b[39;00m array\u001b[38;5;241m.\u001b[39mdtype\u001b[38;5;241m.\u001b[39mitemsize \u001b[38;5;241m==\u001b[39m _ffi\u001b[38;5;241m.\u001b[39msizeof(ctype)\n\u001b[0;32m   1343\u001b[0m cdata \u001b[38;5;241m=\u001b[39m _ffi\u001b[38;5;241m.\u001b[39mcast(ctype \u001b[38;5;241m+\u001b[39m \u001b[38;5;124m'\u001b[39m\u001b[38;5;124m*\u001b[39m\u001b[38;5;124m'\u001b[39m, array\u001b[38;5;241m.\u001b[39m__array_interface__[\u001b[38;5;124m'\u001b[39m\u001b[38;5;124mdata\u001b[39m\u001b[38;5;124m'\u001b[39m][\u001b[38;5;241m0\u001b[39m])\n\u001b[1;32m-> 1344\u001b[0m \u001b[38;5;28;01mreturn\u001b[39;00m \u001b[38;5;28;43mself\u001b[39;49m\u001b[38;5;241;43m.\u001b[39;49m\u001b[43m_cdata_io\u001b[49m\u001b[43m(\u001b[49m\u001b[43maction\u001b[49m\u001b[43m,\u001b[49m\u001b[43m \u001b[49m\u001b[43mcdata\u001b[49m\u001b[43m,\u001b[49m\u001b[43m \u001b[49m\u001b[43mctype\u001b[49m\u001b[43m,\u001b[49m\u001b[43m \u001b[49m\u001b[43mframes\u001b[49m\u001b[43m)\u001b[49m\n",
      "File \u001b[1;32mF:\\Anaconda\\envs\\pytorch\\lib\\site-packages\\soundfile.py:1353\u001b[0m, in \u001b[0;36mSoundFile._cdata_io\u001b[1;34m(self, action, data, ctype, frames)\u001b[0m\n\u001b[0;32m   1351\u001b[0m     curr \u001b[38;5;241m=\u001b[39m \u001b[38;5;28mself\u001b[39m\u001b[38;5;241m.\u001b[39mtell()\n\u001b[0;32m   1352\u001b[0m func \u001b[38;5;241m=\u001b[39m \u001b[38;5;28mgetattr\u001b[39m(_snd, \u001b[38;5;124m'\u001b[39m\u001b[38;5;124msf_\u001b[39m\u001b[38;5;124m'\u001b[39m \u001b[38;5;241m+\u001b[39m action \u001b[38;5;241m+\u001b[39m \u001b[38;5;124m'\u001b[39m\u001b[38;5;124mf_\u001b[39m\u001b[38;5;124m'\u001b[39m \u001b[38;5;241m+\u001b[39m ctype)\n\u001b[1;32m-> 1353\u001b[0m frames \u001b[38;5;241m=\u001b[39m \u001b[43mfunc\u001b[49m\u001b[43m(\u001b[49m\u001b[38;5;28;43mself\u001b[39;49m\u001b[38;5;241;43m.\u001b[39;49m\u001b[43m_file\u001b[49m\u001b[43m,\u001b[49m\u001b[43m \u001b[49m\u001b[43mdata\u001b[49m\u001b[43m,\u001b[49m\u001b[43m \u001b[49m\u001b[43mframes\u001b[49m\u001b[43m)\u001b[49m\n\u001b[0;32m   1354\u001b[0m _error_check(\u001b[38;5;28mself\u001b[39m\u001b[38;5;241m.\u001b[39m_errorcode)\n\u001b[0;32m   1355\u001b[0m \u001b[38;5;28;01mif\u001b[39;00m \u001b[38;5;28mself\u001b[39m\u001b[38;5;241m.\u001b[39mseekable():\n",
      "\u001b[1;31mKeyboardInterrupt\u001b[0m: "
     ]
    }
   ],
   "source": [
    "for num, (data, labels) in enumerate(trainLoader, start = 1):\n",
    "    if num ==1:\n",
    "        print(data.shape)"
   ]
  },
  {
   "cell_type": "markdown",
   "id": "419090a9-0d07-487f-a223-e230bc5fb9ea",
   "metadata": {},
   "source": [
    "# 定义模型"
   ]
  },
  {
   "cell_type": "code",
   "execution_count": 5,
   "id": "629ec1ce-51f5-4334-9f35-01312a430450",
   "metadata": {
    "tags": []
   },
   "outputs": [],
   "source": [
    "# 对音频信号进行预处理。预加重是一种常见的音频信号处理技术，\n",
    "# 用于增强高频成分，以便在后续处理（如特征提取、分析等）中获得更好的性能。\n",
    "class PreEmphasis(torch.nn.Module):\n",
    "    def __init__(self, coef: float = 0.97):\n",
    "        super().__init__()\n",
    "        self.coef = coef\n",
    "        self.register_buffer(\n",
    "            'flipped_filter', torch.FloatTensor([-self.coef, 1.]).unsqueeze(0).unsqueeze(0))\n",
    "        \n",
    "    def forward(self, input: torch.tensor) -> torch.tensor:\n",
    "        input = input.unsqueeze(1) # [128, 1, 16000]  # 这里仅加上bs\n",
    "        input = F.pad(input, (1, 0), 'reflect')\n",
    "        return F.conv1d(input, self.flipped_filter).squeeze(1)\n",
    "    \n",
    "class CNN(nn.Module):\n",
    "    def __init__(self, in_features, nclass=2, **kwargs):\n",
    "        super(CNN, self).__init__()\n",
    "        \n",
    "        self.torchfbank = torch.nn.Sequential(\n",
    "            PreEmphasis(),            \n",
    "            torchaudio.transforms.MelSpectrogram(sample_rate=32000, n_fft=1024, win_length=1024, \n",
    "                                                 hop_length=256, window_fn=torch.hamming_window, \n",
    "                                                 n_mels=64),  # [bs, n_mels, time_frames]\n",
    "            # 这个里面就是放类的。\n",
    "            SpecAugmentation(\n",
    "                freq_drop_width=6, freq_stripes_num=2,\n",
    "                time_drop_width=3, time_stripes_num=2,\n",
    "                            )\n",
    "        )\n",
    "        \n",
    "        self.fc1 = nn.Linear(2048, 1024, bias=True)\n",
    "        self.att_block = AttBlock(1024, 1, activation='sigmoid')\n",
    "        self.densenet_features = models.densenet121(pretrained=True).features\n",
    "        \n",
    "        self.resnet_features = models.resnet101(pretrained=True)\n",
    "        self.resnet_features = nn.Sequential(*list(self.resnet_features.children())[:-2])  # Extract features only\n",
    "        \n",
    "        self.init_weight()\n",
    "        \n",
    "    def init_weight(self):\n",
    "        init_layer(self.fc1)\n",
    "        \n",
    "    def cnn_feature_extractor(self, x):\n",
    "        x = self.densenet_features(x)\n",
    "        return x\n",
    "    \n",
    "    def resnet_feature_extractor(self, x):\n",
    "        x = self.resnet_features(x)\n",
    "        return x\n",
    "\n",
    "    def forward(self, x: torch.Tensor):\n",
    "        with torch.no_grad():\n",
    "            x = self.torchfbank(x)+1e-6\n",
    "            x = x.log()  \n",
    "            x = x - torch.mean(x, dim=-1, keepdim=True)\n",
    "        x = x.unsqueeze(1)  # torch.Size([bs, 1, n_mel(freq), time])\n",
    "        x = x.expand(x.shape[0], 3, x.shape[2], x.shape[3]) # torch.Size([128, 3, 40, 101])\n",
    "        x = self.resnet_feature_extractor(x)\n",
    "        \n",
    "        # Aggregate in frequency axis\n",
    "        x = torch.mean(x, dim=3)\n",
    "        x1 = F.max_pool1d(x, kernel_size=3, stride=1, padding=1)\n",
    "        x2 = F.avg_pool1d(x, kernel_size=3, stride=1, padding=1)\n",
    "        x = x1 + x2\n",
    "        \n",
    "        x = F.dropout(x, p=0.5, training=self.training)\n",
    "        x = x.transpose(1, 2)\n",
    "        x = F.relu_(self.fc1(x))\n",
    "        x = x.transpose(1, 2)\n",
    "        x = F.dropout(x, p=0.5, training=self.training)\n",
    "\n",
    "        (clipwise_output, norm_att, segmentwise_output) = self.att_block(x)\n",
    "        return clipwise_output"
   ]
  },
  {
   "cell_type": "code",
   "execution_count": 9,
   "id": "f86bd709-af05-40d5-81ec-bdfb305ed2cf",
   "metadata": {
    "tags": []
   },
   "outputs": [],
   "source": [
    "class FakeModel(nn.Module):\n",
    "    def __init__(self, lr, lr_decay, n_class, device, test_step, **kwargs):\n",
    "        super(FakeModel, self).__init__()\n",
    "        ## ResNet\n",
    "        self.device = device\n",
    "        self.speaker_encoder = CNN(in_features=1, nclass=n_class).to(self.device)\n",
    "        \n",
    "        ## 配置\n",
    "        self.speaker_loss = nn.CrossEntropyLoss()\n",
    "        # 定义二分类交叉熵损失函数\n",
    "        self.speaker_loss = nn.BCELoss()\n",
    "        \n",
    "        self.optim = torch.optim.Adam(self.parameters(), lr = lr, weight_decay = 2e-5)\n",
    "        # 定义 AdamW 优化器\n",
    "        self.optim = torch.optim.AdamW(self.parameters(), lr=lr, weight_decay=2e-5)  # weight_decay 表示权重衰减系数\n",
    "        \n",
    "        self.scheduler = torch.optim.lr_scheduler.StepLR(self.optim, \n",
    "                                                         step_size = test_step, gamma=lr_decay)\n",
    "        print(time.strftime(\"%m-%d %H:%M:%S\") + \" Model para number = %.2f\"%(sum(param.numel() for param in self.speaker_encoder.parameters()) / 1024 / 1024))\n",
    "\n",
    "    def train_network(self, epoch, loader):\n",
    "        self.train()\n",
    "        ## Update the learning rate based on the current epcoh\n",
    "        self.scheduler.step(epoch - 1)\n",
    "        index, acc, loss, recall, F1 = 0, 0, 0, 0, 0\n",
    "        lr = self.optim.param_groups[0]['lr']\n",
    "        for num, (data, labels) in enumerate(loader, start = 1):\n",
    "            self.zero_grad()\n",
    "            labels = torch.LongTensor(labels).to(self.device) # （bs）\n",
    "            \n",
    "            outputs = self.speaker_encoder.forward(data.to(self.device))  # 二维（bs, 1）\n",
    "            outputs = outputs.view(-1,)\n",
    "            \n",
    "            outputs = outputs.float()\n",
    "            labels = labels.float()\n",
    "            \n",
    "            nloss = self.speaker_loss(outputs, labels)\n",
    "            acc_t, recall_t, prec_t, F1_t = metrics_scores(outputs, labels)\n",
    "            nloss.backward()\n",
    "            self.optim.step()\n",
    "            index += len(labels)\n",
    "            acc += acc_t\n",
    "            recall += recall_t\n",
    "            F1 += F1_t\n",
    "            loss += nloss.detach().cpu().numpy()\n",
    "            sys.stderr.write(time.strftime(\"%m-%d %H:%M:%S\") + \\\n",
    "            \" [%2d] Lr: %5f, Training: %.2f%%, \"%(epoch, lr, 100 * (num / loader.__len__())) + \\\n",
    "            \" Loss: %.5f, Acc: %2.2f%%, Recall: %2.2f%%, F1: %2.2f%%\\r\" %(loss/(num), acc/index*len(labels), recall/index*len(labels), F1/index*len(labels)*100))\n",
    "            sys.stderr.flush()\n",
    "        sys.stdout.write(\"\\n\")\n",
    "        return loss/num, lr, acc/index*len(labels), recall/index*len(labels), F1/index*len(labels)*100 \n",
    "\n",
    "    def eval_network(self, eval_list, num_frames):\n",
    "        self.eval()\n",
    "        files = []\n",
    "        outputs = torch.tensor([]).to(self.device)\n",
    "        df_test = pd.read_csv(eval_list)\n",
    "        label_list = list(np.array(df_test[\"label\"].tolist()).reshape(-1, 1))\n",
    "        \n",
    "        setfiles = df_test[\"wav_path\"].tolist()\n",
    "        loss, top1 = 0, 0\n",
    "        for idx, file in tqdm.tqdm(enumerate(setfiles), total = len(setfiles)):\n",
    "            audio, _ = soundfile.read(file)\n",
    "\n",
    "            # Spliited utterance matrix\n",
    "            max_audio = num_frames * 80\n",
    "            if audio.shape[0] <= max_audio:\n",
    "                shortage = max_audio - audio.shape[0]\n",
    "                audio = numpy.pad(audio, (0, shortage), 'wrap')\n",
    "            feats = []\n",
    "            startframe = numpy.linspace(0, audio.shape[0]-max_audio, num=5)\n",
    "            for asf in startframe:\n",
    "                feats.append(audio[int(asf):int(asf)+max_audio])\n",
    "            feats = numpy.stack(feats, axis = 0).astype(np.float32)\n",
    "            data_2 = torch.FloatTensor(feats).to(self.device)\n",
    "            # Speaker embeddings\n",
    "            with torch.no_grad():\n",
    "                output = self.speaker_encoder.forward(data_2)\n",
    "                output = torch.mean(output, dim=0).view(1, -1)\n",
    "            outputs = torch.cat((outputs, output), 0)\n",
    "        \n",
    "        acc, recall, prec, F1 = metrics_scores(outputs, torch.tensor(label_list).to(self.device))\n",
    "        return acc, recall, F1*100\n",
    "    \n",
    "    def save_parameters(self, path):\n",
    "        torch.save(self.state_dict(), path)\n",
    "        \n",
    "    def load_parameters(self, path):\n",
    "        self_state = self.state_dict()\n",
    "        loaded_state = torch.load(path)\n",
    "        for name, param in loaded_state.items():\n",
    "            origname = name\n",
    "            if name not in self_state:\n",
    "                name = name.replace(\"module.\", \"\")\n",
    "                if name not in self_state:\n",
    "                    print(\"%s is not in the model.\"%origname)\n",
    "                    continue\n",
    "            if self_state[name].size() != loaded_state[origname].size():\n",
    "                print(\"Wrong parameter length: %s, model: %s, loaded: %s\"%(origname, self_state[name].size(), loaded_state[origname].size()))\n",
    "                continue\n",
    "            self_state[name].copy_(param)"
   ]
  },
  {
   "cell_type": "code",
   "execution_count": 10,
   "id": "dd3c1d04-4553-4429-8d5a-461b77f035b8",
   "metadata": {
    "tags": []
   },
   "outputs": [],
   "source": [
    "parser = argparse.ArgumentParser()\n",
    "parser.add_argument('--device', type=str, default='cuda:0', help='Device training on ')\n",
    "## Training Settings\n",
    "parser.add_argument('--num_frames', type=int, default=500, help='Duration of the input segments, eg: 200 for 2 second')\n",
    "parser.add_argument('--max_epoch', type=int, default=2000, help='Maximum number of epochs')\n",
    "parser.add_argument('--batch_size', type=int, default=64, help='Batch size')\n",
    "\n",
    "# jupyter中，dataloader的num_workers中能为0\n",
    "parser.add_argument('--n_cpu', type=int, default=0, help='Number of loader threads')\n",
    "parser.add_argument('--test_step', type=int, default=5, help='Test and save every [test_step] epochs')\n",
    "parser.add_argument('--lr', type=float, default=0.001, help='Learning rate')\n",
    "parser.add_argument(\"--lr_decay\", type=float, default=0.97, help='Learning rate decay every [test_step] epochs')\n",
    "\n",
    "\n",
    "parser.add_argument('--save_path',  type=str, default=\"../out_put/\", help='Path to save the score.txt and models')\n",
    "parser.add_argument('--initial_model',  type=str, default=\"\", help='Path of the initial_model')\n",
    "\n",
    "## Model and Loss settings\n",
    "parser.add_argument('--n_class', type=int, default=2, help='Number of class')\n",
    "\n",
    "## Command\n",
    "parser.add_argument('--eval', dest='eval', action='store_true', help='Only do evaluation')\n",
    "\n",
    "## Initialization\n",
    "warnings.simplefilter(\"ignore\")\n",
    "torch.multiprocessing.set_sharing_strategy('file_system')\n",
    "args = parser.parse_args(args=[])\n",
    "args = init_args(args)"
   ]
  },
  {
   "cell_type": "code",
   "execution_count": 46,
   "id": "64c6b98d-fca2-46f0-8258-33f0a41c354d",
   "metadata": {
    "tags": []
   },
   "outputs": [
    {
     "name": "stdout",
     "output_type": "stream",
     "text": [
      "torch.Size([64])\n",
      "torch.Size([64, 1])\n",
      "torch.Size([64])\n"
     ]
    }
   ],
   "source": [
    "# trainloader = train_loader(filepath, num_frames=args.num_frames)\n",
    "# trainLoader = torch.utils.data.DataLoader(trainloader, batch_size = args.batch_size, shuffle = True,\n",
    "#                                           num_workers = args.n_cpu, drop_last = True)\n",
    "\n",
    "# model = CNN(in_features=1, nclass=1)\n",
    "# for num, (data, labels) in enumerate(trainLoader, start = 1):\n",
    "#     if num ==1:\n",
    "#         print(labels.shape)\n",
    "#         output = model(data)\n",
    "#         print(output.shape)\n",
    "#         outputs = output.view(-1,)\n",
    "#         print(outputs.shape)\n",
    "        \n",
    "# output = output.detach().cpu().numpy()\n",
    "# output = output > 0.5  # 这会创建一个布尔数组，True 表示原值大于0.5，False 表示小于等于0.5\n",
    "# output = output.astype(int)  # 将布尔值转换为整数，True 变为 1，False 变为 0"
   ]
  },
  {
   "cell_type": "code",
   "execution_count": 11,
   "id": "53db0b15-6148-4792-bafe-9c88ee821be8",
   "metadata": {
    "tags": []
   },
   "outputs": [
    {
     "name": "stdout",
     "output_type": "stream",
     "text": [
      "05-25 01:42:54 Model para number = 49.17\n",
      "1\n"
     ]
    },
    {
     "name": "stderr",
     "output_type": "stream",
     "text": [
      "05-25 01:44:08 [ 1] Lr: 0.001000, Training: 100.00%,  Loss: 0.95651, Acc: 63.71%, Recall: 59.99%, F1: 58.85%\r"
     ]
    },
    {
     "name": "stdout",
     "output_type": "stream",
     "text": [
      "\n",
      "2\n"
     ]
    },
    {
     "name": "stderr",
     "output_type": "stream",
     "text": [
      "05-25 01:45:21 [ 2] Lr: 0.001000, Training: 100.00%,  Loss: 0.60689, Acc: 75.42%, Recall: 79.47%, F1: 74.85%\r"
     ]
    },
    {
     "name": "stdout",
     "output_type": "stream",
     "text": [
      "\n",
      "3\n"
     ]
    },
    {
     "name": "stderr",
     "output_type": "stream",
     "text": [
      "05-25 01:46:33 [ 3] Lr: 0.001000, Training: 100.00%,  Loss: 0.90032, Acc: 77.47%, Recall: 79.88%, F1: 76.59%\r"
     ]
    },
    {
     "name": "stdout",
     "output_type": "stream",
     "text": [
      "\n",
      "4\n"
     ]
    },
    {
     "name": "stderr",
     "output_type": "stream",
     "text": [
      "05-25 01:47:46 [ 4] Lr: 0.001000, Training: 100.00%,  Loss: 0.93803, Acc: 71.57%, Recall: 75.24%, F1: 70.94%\r"
     ]
    },
    {
     "name": "stdout",
     "output_type": "stream",
     "text": [
      "\n",
      "5\n"
     ]
    },
    {
     "name": "stderr",
     "output_type": "stream",
     "text": [
      "05-25 01:48:59 [ 5] Lr: 0.001000, Training: 100.00%,  Loss: 1.01538, Acc: 70.68%, Recall: 75.96%, F1: 70.49%\r"
     ]
    },
    {
     "name": "stdout",
     "output_type": "stream",
     "text": [
      "\n"
     ]
    },
    {
     "name": "stderr",
     "output_type": "stream",
     "text": [
      "100%|███████████████████████████████████████████████████████████████████████████████████████████████████████████| 5100/5100 [02:57<00:00, 28.67it/s]\n"
     ]
    },
    {
     "name": "stdout",
     "output_type": "stream",
     "text": [
      "2024-05-25 01:51:57 5 epoch, Acc 70.68%, Recall 75.96%, F1 70.49%, Val_acc 68.55%, Best_acc 68.55%, Val_recall 38.45%, Best_recall 38.45%, Val_f1  53.48%, Best_f1 53.48%\n",
      "6\n"
     ]
    },
    {
     "name": "stderr",
     "output_type": "stream",
     "text": [
      "05-25 01:53:10 [ 6] Lr: 0.000970, Training: 100.00%,  Loss: 0.85727, Acc: 70.32%, Recall: 73.52%, F1: 69.71%\r"
     ]
    },
    {
     "name": "stdout",
     "output_type": "stream",
     "text": [
      "\n",
      "7\n"
     ]
    },
    {
     "name": "stderr",
     "output_type": "stream",
     "text": [
      "05-25 01:54:22 [ 7] Lr: 0.000970, Training: 100.00%,  Loss: 0.89039, Acc: 70.92%, Recall: 77.44%, F1: 71.20%\r"
     ]
    },
    {
     "name": "stdout",
     "output_type": "stream",
     "text": [
      "\n",
      "8\n"
     ]
    },
    {
     "name": "stderr",
     "output_type": "stream",
     "text": [
      "05-25 01:55:35 [ 8] Lr: 0.000970, Training: 100.00%,  Loss: 0.78191, Acc: 73.11%, Recall: 79.11%, F1: 73.23%\r"
     ]
    },
    {
     "name": "stdout",
     "output_type": "stream",
     "text": [
      "\n",
      "9\n"
     ]
    },
    {
     "name": "stderr",
     "output_type": "stream",
     "text": [
      "05-25 01:56:47 [ 9] Lr: 0.000970, Training: 100.00%,  Loss: 0.74065, Acc: 73.23%, Recall: 80.93%, F1: 73.77%\r"
     ]
    },
    {
     "name": "stdout",
     "output_type": "stream",
     "text": [
      "\n",
      "10\n"
     ]
    },
    {
     "name": "stderr",
     "output_type": "stream",
     "text": [
      "05-25 01:57:59 [10] Lr: 0.000970, Training: 100.00%,  Loss: 0.63164, Acc: 76.35%, Recall: 83.67%, F1: 76.71%\r"
     ]
    },
    {
     "name": "stdout",
     "output_type": "stream",
     "text": [
      "\n"
     ]
    },
    {
     "name": "stderr",
     "output_type": "stream",
     "text": [
      "100%|███████████████████████████████████████████████████████████████████████████████████████████████████████████| 5100/5100 [01:35<00:00, 53.36it/s]\n"
     ]
    },
    {
     "name": "stdout",
     "output_type": "stream",
     "text": [
      "2024-05-25 01:59:36 10 epoch, Acc 76.35%, Recall 83.67%, F1 76.71%, Val_acc 75.06%, Best_acc 75.06%, Val_recall 97.96%, Best_recall 97.96%, Val_f1  78.69%, Best_f1 78.69%\n",
      "11\n"
     ]
    },
    {
     "name": "stderr",
     "output_type": "stream",
     "text": [
      "05-25 02:00:48 [11] Lr: 0.000941, Training: 100.00%,  Loss: 0.59006, Acc: 76.30%, Recall: 82.24%, F1: 76.34%\r"
     ]
    },
    {
     "name": "stdout",
     "output_type": "stream",
     "text": [
      "\n",
      "12\n"
     ]
    },
    {
     "name": "stderr",
     "output_type": "stream",
     "text": [
      "05-25 02:02:01 [12] Lr: 0.000941, Training: 100.00%,  Loss: 0.42363, Acc: 78.84%, Recall: 83.92%, F1: 78.65%\r"
     ]
    },
    {
     "name": "stdout",
     "output_type": "stream",
     "text": [
      "\n",
      "13\n"
     ]
    },
    {
     "name": "stderr",
     "output_type": "stream",
     "text": [
      "05-25 02:03:13 [13] Lr: 0.000941, Training: 100.00%,  Loss: 0.39633, Acc: 80.57%, Recall: 84.85%, F1: 80.30%\r"
     ]
    },
    {
     "name": "stdout",
     "output_type": "stream",
     "text": [
      "\n",
      "14\n"
     ]
    },
    {
     "name": "stderr",
     "output_type": "stream",
     "text": [
      "05-25 02:04:26 [14] Lr: 0.000941, Training: 100.00%,  Loss: 0.37840, Acc: 82.22%, Recall: 86.33%, F1: 81.89%\r"
     ]
    },
    {
     "name": "stdout",
     "output_type": "stream",
     "text": [
      "\n",
      "15\n"
     ]
    },
    {
     "name": "stderr",
     "output_type": "stream",
     "text": [
      "05-25 02:05:38 [15] Lr: 0.000941, Training: 100.00%,  Loss: 0.35754, Acc: 83.22%, Recall: 86.32%, F1: 82.76%\r"
     ]
    },
    {
     "name": "stdout",
     "output_type": "stream",
     "text": [
      "\n"
     ]
    },
    {
     "name": "stderr",
     "output_type": "stream",
     "text": [
      "100%|███████████████████████████████████████████████████████████████████████████████████████████████████████████| 5100/5100 [01:32<00:00, 55.02it/s]\n"
     ]
    },
    {
     "name": "stdout",
     "output_type": "stream",
     "text": [
      "2024-05-25 02:07:12 15 epoch, Acc 83.22%, Recall 86.32%, F1 82.76%, Val_acc 87.49%, Best_acc 87.49%, Val_recall 94.70%, Best_recall 97.96%, Val_f1  87.68%, Best_f1 87.68%\n",
      "16\n"
     ]
    },
    {
     "name": "stderr",
     "output_type": "stream",
     "text": [
      "05-25 02:08:24 [16] Lr: 0.000913, Training: 100.00%,  Loss: 0.33606, Acc: 84.21%, Recall: 86.89%, F1: 83.74%\r"
     ]
    },
    {
     "name": "stdout",
     "output_type": "stream",
     "text": [
      "\n",
      "17\n"
     ]
    },
    {
     "name": "stderr",
     "output_type": "stream",
     "text": [
      "05-25 02:09:37 [17] Lr: 0.000913, Training: 100.00%,  Loss: 0.33226, Acc: 84.54%, Recall: 88.15%, F1: 84.09%\r"
     ]
    },
    {
     "name": "stdout",
     "output_type": "stream",
     "text": [
      "\n",
      "18\n"
     ]
    },
    {
     "name": "stderr",
     "output_type": "stream",
     "text": [
      "05-25 02:10:49 [18] Lr: 0.000913, Training: 100.00%,  Loss: 0.31058, Acc: 85.78%, Recall: 88.99%, F1: 85.36%\r"
     ]
    },
    {
     "name": "stdout",
     "output_type": "stream",
     "text": [
      "\n",
      "19\n"
     ]
    },
    {
     "name": "stderr",
     "output_type": "stream",
     "text": [
      "05-25 02:12:02 [19] Lr: 0.000913, Training: 100.00%,  Loss: 0.30113, Acc: 86.41%, Recall: 88.65%, F1: 85.87%\r"
     ]
    },
    {
     "name": "stdout",
     "output_type": "stream",
     "text": [
      "\n",
      "20\n"
     ]
    },
    {
     "name": "stderr",
     "output_type": "stream",
     "text": [
      "05-25 02:13:15 [20] Lr: 0.000913, Training: 100.00%,  Loss: 0.28940, Acc: 87.08%, Recall: 89.25%, F1: 86.56%\r"
     ]
    },
    {
     "name": "stdout",
     "output_type": "stream",
     "text": [
      "\n"
     ]
    },
    {
     "name": "stderr",
     "output_type": "stream",
     "text": [
      "100%|███████████████████████████████████████████████████████████████████████████████████████████████████████████| 5100/5100 [01:33<00:00, 54.81it/s]\n"
     ]
    },
    {
     "name": "stdout",
     "output_type": "stream",
     "text": [
      "2024-05-25 02:14:48 20 epoch, Acc 87.08%, Recall 89.25%, F1 86.56%, Val_acc 83.69%, Best_acc 87.49%, Val_recall 99.08%, Best_recall 99.08%, Val_f1  85.10%, Best_f1 87.68%\n",
      "21\n"
     ]
    },
    {
     "name": "stderr",
     "output_type": "stream",
     "text": [
      "05-25 02:16:11 [21] Lr: 0.000885, Training: 100.00%,  Loss: 0.27689, Acc: 87.69%, Recall: 89.80%, F1: 87.18%\r"
     ]
    },
    {
     "name": "stdout",
     "output_type": "stream",
     "text": [
      "\n",
      "22\n"
     ]
    },
    {
     "name": "stderr",
     "output_type": "stream",
     "text": [
      "05-25 02:17:23 [22] Lr: 0.000885, Training: 100.00%,  Loss: 0.26547, Acc: 88.58%, Recall: 90.53%, F1: 88.02%\r"
     ]
    },
    {
     "name": "stdout",
     "output_type": "stream",
     "text": [
      "\n",
      "23\n"
     ]
    },
    {
     "name": "stderr",
     "output_type": "stream",
     "text": [
      "05-25 02:18:35 [23] Lr: 0.000885, Training: 100.00%,  Loss: 0.24837, Acc: 89.26%, Recall: 90.93%, F1: 88.75%\r"
     ]
    },
    {
     "name": "stdout",
     "output_type": "stream",
     "text": [
      "\n",
      "24\n"
     ]
    },
    {
     "name": "stderr",
     "output_type": "stream",
     "text": [
      "05-25 02:19:48 [24] Lr: 0.000885, Training: 100.00%,  Loss: 0.23681, Acc: 89.53%, Recall: 90.93%, F1: 88.96%\r"
     ]
    },
    {
     "name": "stdout",
     "output_type": "stream",
     "text": [
      "\n",
      "25\n"
     ]
    },
    {
     "name": "stderr",
     "output_type": "stream",
     "text": [
      "05-25 02:21:00 [25] Lr: 0.000885, Training: 100.00%,  Loss: 0.22916, Acc: 90.39%, Recall: 91.54%, F1: 89.86%\r"
     ]
    },
    {
     "name": "stdout",
     "output_type": "stream",
     "text": [
      "\n"
     ]
    },
    {
     "name": "stderr",
     "output_type": "stream",
     "text": [
      "100%|███████████████████████████████████████████████████████████████████████████████████████████████████████████| 5100/5100 [01:37<00:00, 52.18it/s]\n"
     ]
    },
    {
     "name": "stdout",
     "output_type": "stream",
     "text": [
      "2024-05-25 02:22:39 25 epoch, Acc 90.39%, Recall 91.54%, F1 89.86%, Val_acc 79.45%, Best_acc 87.49%, Val_recall 58.30%, Best_recall 99.08%, Val_f1  72.74%, Best_f1 87.68%\n",
      "26\n"
     ]
    },
    {
     "name": "stderr",
     "output_type": "stream",
     "text": [
      "05-25 02:23:51 [26] Lr: 0.000859, Training: 100.00%,  Loss: 0.21172, Acc: 91.06%, Recall: 92.64%, F1: 90.61%\r"
     ]
    },
    {
     "name": "stdout",
     "output_type": "stream",
     "text": [
      "\n",
      "27\n"
     ]
    },
    {
     "name": "stderr",
     "output_type": "stream",
     "text": [
      "05-25 02:25:04 [27] Lr: 0.000859, Training: 100.00%,  Loss: 0.20205, Acc: 91.65%, Recall: 92.75%, F1: 91.18%\r"
     ]
    },
    {
     "name": "stdout",
     "output_type": "stream",
     "text": [
      "\n",
      "28\n"
     ]
    },
    {
     "name": "stderr",
     "output_type": "stream",
     "text": [
      "05-25 02:26:17 [28] Lr: 0.000859, Training: 100.00%,  Loss: 0.18790, Acc: 92.13%, Recall: 93.25%, F1: 91.68%\r"
     ]
    },
    {
     "name": "stdout",
     "output_type": "stream",
     "text": [
      "\n",
      "29\n"
     ]
    },
    {
     "name": "stderr",
     "output_type": "stream",
     "text": [
      "05-25 02:27:29 [29] Lr: 0.000859, Training: 100.00%,  Loss: 0.17674, Acc: 92.89%, Recall: 94.01%, F1: 92.49%\r"
     ]
    },
    {
     "name": "stdout",
     "output_type": "stream",
     "text": [
      "\n",
      "30\n"
     ]
    },
    {
     "name": "stderr",
     "output_type": "stream",
     "text": [
      "05-25 02:28:42 [30] Lr: 0.000859, Training: 100.00%,  Loss: 0.16796, Acc: 93.23%, Recall: 94.14%, F1: 92.85%\r"
     ]
    },
    {
     "name": "stdout",
     "output_type": "stream",
     "text": [
      "\n"
     ]
    },
    {
     "name": "stderr",
     "output_type": "stream",
     "text": [
      "100%|███████████████████████████████████████████████████████████████████████████████████████████████████████████| 5100/5100 [01:31<00:00, 55.50it/s]\n"
     ]
    },
    {
     "name": "stdout",
     "output_type": "stream",
     "text": [
      "2024-05-25 02:30:14 30 epoch, Acc 93.23%, Recall 94.14%, F1 92.85%, Val_acc 94.69%, Best_acc 94.69%, Val_recall 99.79%, Best_recall 99.79%, Val_f1  94.64%, Best_f1 94.64%\n",
      "31\n"
     ]
    },
    {
     "name": "stderr",
     "output_type": "stream",
     "text": [
      "05-25 02:31:27 [31] Lr: 0.000833, Training: 100.00%,  Loss: 0.15317, Acc: 93.91%, Recall: 94.69%, F1: 93.57%\r"
     ]
    },
    {
     "name": "stdout",
     "output_type": "stream",
     "text": [
      "\n",
      "32\n"
     ]
    },
    {
     "name": "stderr",
     "output_type": "stream",
     "text": [
      "05-25 02:32:40 [32] Lr: 0.000833, Training: 100.00%,  Loss: 0.15330, Acc: 94.07%, Recall: 94.74%, F1: 93.66%\r"
     ]
    },
    {
     "name": "stdout",
     "output_type": "stream",
     "text": [
      "\n",
      "33\n"
     ]
    },
    {
     "name": "stderr",
     "output_type": "stream",
     "text": [
      "05-25 02:33:52 [33] Lr: 0.000833, Training: 100.00%,  Loss: 0.13715, Acc: 94.58%, Recall: 95.32%, F1: 94.25%\r"
     ]
    },
    {
     "name": "stdout",
     "output_type": "stream",
     "text": [
      "\n",
      "34\n"
     ]
    },
    {
     "name": "stderr",
     "output_type": "stream",
     "text": [
      "05-25 02:35:05 [34] Lr: 0.000833, Training: 100.00%,  Loss: 0.13044, Acc: 94.76%, Recall: 95.22%, F1: 94.40%\r"
     ]
    },
    {
     "name": "stdout",
     "output_type": "stream",
     "text": [
      "\n",
      "35\n"
     ]
    },
    {
     "name": "stderr",
     "output_type": "stream",
     "text": [
      "05-25 02:36:17 [35] Lr: 0.000833, Training: 100.00%,  Loss: 0.12339, Acc: 95.22%, Recall: 95.81%, F1: 94.91%\r"
     ]
    },
    {
     "name": "stdout",
     "output_type": "stream",
     "text": [
      "\n"
     ]
    },
    {
     "name": "stderr",
     "output_type": "stream",
     "text": [
      "100%|███████████████████████████████████████████████████████████████████████████████████████████████████████████| 5100/5100 [01:36<00:00, 52.61it/s]\n"
     ]
    },
    {
     "name": "stdout",
     "output_type": "stream",
     "text": [
      "2024-05-25 02:37:55 35 epoch, Acc 95.22%, Recall 95.81%, F1 94.91%, Val_acc 91.51%, Best_acc 94.69%, Val_recall 99.37%, Best_recall 99.79%, Val_f1  91.67%, Best_f1 94.64%\n",
      "36\n"
     ]
    },
    {
     "name": "stderr",
     "output_type": "stream",
     "text": [
      "05-25 02:39:08 [36] Lr: 0.000808, Training: 100.00%,  Loss: 0.12315, Acc: 95.10%, Recall: 95.88%, F1: 94.81%\r"
     ]
    },
    {
     "name": "stdout",
     "output_type": "stream",
     "text": [
      "\n",
      "37\n"
     ]
    },
    {
     "name": "stderr",
     "output_type": "stream",
     "text": [
      "05-25 02:40:20 [37] Lr: 0.000808, Training: 100.00%,  Loss: 0.11797, Acc: 95.27%, Recall: 95.79%, F1: 94.96%\r"
     ]
    },
    {
     "name": "stdout",
     "output_type": "stream",
     "text": [
      "\n",
      "38\n"
     ]
    },
    {
     "name": "stderr",
     "output_type": "stream",
     "text": [
      "05-25 02:41:33 [38] Lr: 0.000808, Training: 100.00%,  Loss: 0.11121, Acc: 95.82%, Recall: 96.33%, F1: 95.51%\r"
     ]
    },
    {
     "name": "stdout",
     "output_type": "stream",
     "text": [
      "\n",
      "39\n"
     ]
    },
    {
     "name": "stderr",
     "output_type": "stream",
     "text": [
      "05-25 02:42:46 [39] Lr: 0.000808, Training: 100.00%,  Loss: 0.10736, Acc: 95.71%, Recall: 96.23%, F1: 95.43%%\r"
     ]
    },
    {
     "name": "stdout",
     "output_type": "stream",
     "text": [
      "\n",
      "40\n"
     ]
    },
    {
     "name": "stderr",
     "output_type": "stream",
     "text": [
      "05-25 02:43:59 [40] Lr: 0.000808, Training: 100.00%,  Loss: 0.11188, Acc: 95.76%, Recall: 96.10%, F1: 95.46%\r"
     ]
    },
    {
     "name": "stdout",
     "output_type": "stream",
     "text": [
      "\n"
     ]
    },
    {
     "name": "stderr",
     "output_type": "stream",
     "text": [
      "100%|███████████████████████████████████████████████████████████████████████████████████████████████████████████| 5100/5100 [01:35<00:00, 53.58it/s]\n"
     ]
    },
    {
     "name": "stdout",
     "output_type": "stream",
     "text": [
      "2024-05-25 02:45:34 40 epoch, Acc 95.76%, Recall 96.10%, F1 95.46%, Val_acc 97.41%, Best_acc 97.41%, Val_recall 98.83%, Best_recall 99.79%, Val_f1  97.29%, Best_f1 97.29%\n",
      "41\n"
     ]
    },
    {
     "name": "stderr",
     "output_type": "stream",
     "text": [
      "05-25 02:46:47 [41] Lr: 0.000784, Training: 100.00%,  Loss: 0.09350, Acc: 96.31%, Recall: 96.70%, F1: 96.05%\r"
     ]
    },
    {
     "name": "stdout",
     "output_type": "stream",
     "text": [
      "\n",
      "42\n"
     ]
    },
    {
     "name": "stderr",
     "output_type": "stream",
     "text": [
      "05-25 02:47:59 [42] Lr: 0.000784, Training: 100.00%,  Loss: 0.09141, Acc: 96.38%, Recall: 96.71%, F1: 96.13%\r"
     ]
    },
    {
     "name": "stdout",
     "output_type": "stream",
     "text": [
      "\n",
      "43\n"
     ]
    },
    {
     "name": "stderr",
     "output_type": "stream",
     "text": [
      "05-25 02:49:12 [43] Lr: 0.000784, Training: 100.00%,  Loss: 0.08714, Acc: 96.78%, Recall: 96.92%, F1: 96.57%\r"
     ]
    },
    {
     "name": "stdout",
     "output_type": "stream",
     "text": [
      "\n",
      "44\n"
     ]
    },
    {
     "name": "stderr",
     "output_type": "stream",
     "text": [
      "05-25 02:50:25 [44] Lr: 0.000784, Training: 100.00%,  Loss: 0.08677, Acc: 96.76%, Recall: 97.10%, F1: 96.54%\r"
     ]
    },
    {
     "name": "stdout",
     "output_type": "stream",
     "text": [
      "\n",
      "45\n"
     ]
    },
    {
     "name": "stderr",
     "output_type": "stream",
     "text": [
      "05-25 02:51:37 [45] Lr: 0.000784, Training: 100.00%,  Loss: 0.08668, Acc: 96.76%, Recall: 96.91%, F1: 96.51%\r"
     ]
    },
    {
     "name": "stdout",
     "output_type": "stream",
     "text": [
      "\n"
     ]
    },
    {
     "name": "stderr",
     "output_type": "stream",
     "text": [
      "100%|███████████████████████████████████████████████████████████████████████████████████████████████████████████| 5100/5100 [01:40<00:00, 50.94it/s]\n"
     ]
    },
    {
     "name": "stdout",
     "output_type": "stream",
     "text": [
      "2024-05-25 02:53:18 45 epoch, Acc 96.76%, Recall 96.91%, F1 96.51%, Val_acc 97.37%, Best_acc 97.41%, Val_recall 98.67%, Best_recall 99.79%, Val_f1  97.25%, Best_f1 97.29%\n",
      "46\n"
     ]
    },
    {
     "name": "stderr",
     "output_type": "stream",
     "text": [
      "05-25 02:54:31 [46] Lr: 0.000760, Training: 100.00%,  Loss: 0.08338, Acc: 96.95%, Recall: 97.17%, F1: 96.72%\r"
     ]
    },
    {
     "name": "stdout",
     "output_type": "stream",
     "text": [
      "\n",
      "47\n"
     ]
    },
    {
     "name": "stderr",
     "output_type": "stream",
     "text": [
      "05-25 02:55:44 [47] Lr: 0.000760, Training: 100.00%,  Loss: 0.07198, Acc: 97.19%, Recall: 97.22%, F1: 96.96%\r"
     ]
    },
    {
     "name": "stdout",
     "output_type": "stream",
     "text": [
      "\n",
      "48\n"
     ]
    },
    {
     "name": "stderr",
     "output_type": "stream",
     "text": [
      "05-25 02:56:56 [48] Lr: 0.000760, Training: 100.00%,  Loss: 0.07695, Acc: 97.15%, Recall: 97.32%, F1: 96.96%\r"
     ]
    },
    {
     "name": "stdout",
     "output_type": "stream",
     "text": [
      "\n",
      "49\n"
     ]
    },
    {
     "name": "stderr",
     "output_type": "stream",
     "text": [
      "05-25 02:58:10 [49] Lr: 0.000760, Training: 100.00%,  Loss: 0.06961, Acc: 97.40%, Recall: 97.63%, F1: 97.21%\r"
     ]
    },
    {
     "name": "stdout",
     "output_type": "stream",
     "text": [
      "\n",
      "50\n"
     ]
    },
    {
     "name": "stderr",
     "output_type": "stream",
     "text": [
      "05-25 02:59:22 [50] Lr: 0.000760, Training: 100.00%,  Loss: 0.06532, Acc: 97.47%, Recall: 97.67%, F1: 97.29%%\r"
     ]
    },
    {
     "name": "stdout",
     "output_type": "stream",
     "text": [
      "\n"
     ]
    },
    {
     "name": "stderr",
     "output_type": "stream",
     "text": [
      "100%|███████████████████████████████████████████████████████████████████████████████████████████████████████████| 5100/5100 [01:36<00:00, 52.63it/s]\n"
     ]
    },
    {
     "name": "stdout",
     "output_type": "stream",
     "text": [
      "2024-05-25 03:01:00 50 epoch, Acc 97.47%, Recall 97.67%, F1 97.29%, Val_acc 97.14%, Best_acc 97.41%, Val_recall 99.00%, Best_recall 99.79%, Val_f1  97.02%, Best_f1 97.29%\n",
      "51\n"
     ]
    },
    {
     "name": "stderr",
     "output_type": "stream",
     "text": [
      "05-25 03:02:13 [51] Lr: 0.000737, Training: 100.00%,  Loss: 0.06369, Acc: 97.59%, Recall: 97.67%, F1: 97.41%\r"
     ]
    },
    {
     "name": "stdout",
     "output_type": "stream",
     "text": [
      "\n",
      "52\n"
     ]
    },
    {
     "name": "stderr",
     "output_type": "stream",
     "text": [
      "05-25 03:03:25 [52] Lr: 0.000737, Training: 100.00%,  Loss: 0.06358, Acc: 97.54%, Recall: 97.72%, F1: 97.39%\r"
     ]
    },
    {
     "name": "stdout",
     "output_type": "stream",
     "text": [
      "\n",
      "53\n"
     ]
    },
    {
     "name": "stderr",
     "output_type": "stream",
     "text": [
      "05-25 03:04:38 [53] Lr: 0.000737, Training: 100.00%,  Loss: 0.06225, Acc: 97.69%, Recall: 97.90%, F1: 97.53%\r"
     ]
    },
    {
     "name": "stdout",
     "output_type": "stream",
     "text": [
      "\n",
      "54\n"
     ]
    },
    {
     "name": "stderr",
     "output_type": "stream",
     "text": [
      "05-25 03:05:51 [54] Lr: 0.000737, Training: 100.00%,  Loss: 0.05867, Acc: 97.80%, Recall: 97.97%, F1: 97.63%\r"
     ]
    },
    {
     "name": "stdout",
     "output_type": "stream",
     "text": [
      "\n",
      "55\n"
     ]
    },
    {
     "name": "stderr",
     "output_type": "stream",
     "text": [
      "05-25 03:07:03 [55] Lr: 0.000737, Training: 100.00%,  Loss: 0.05631, Acc: 97.92%, Recall: 98.03%, F1: 97.77%\r"
     ]
    },
    {
     "name": "stdout",
     "output_type": "stream",
     "text": [
      "\n"
     ]
    },
    {
     "name": "stderr",
     "output_type": "stream",
     "text": [
      "100%|███████████████████████████████████████████████████████████████████████████████████████████████████████████| 5100/5100 [01:34<00:00, 53.88it/s]\n"
     ]
    },
    {
     "name": "stdout",
     "output_type": "stream",
     "text": [
      "2024-05-25 03:08:38 55 epoch, Acc 97.92%, Recall 98.03%, F1 97.77%, Val_acc 98.08%, Best_acc 98.08%, Val_recall 98.04%, Best_recall 99.79%, Val_f1  97.96%, Best_f1 97.96%\n",
      "56\n"
     ]
    },
    {
     "name": "stderr",
     "output_type": "stream",
     "text": [
      "05-25 03:09:51 [56] Lr: 0.000715, Training: 100.00%,  Loss: 0.05167, Acc: 98.11%, Recall: 98.17%, F1: 97.98%\r"
     ]
    },
    {
     "name": "stdout",
     "output_type": "stream",
     "text": [
      "\n",
      "57\n"
     ]
    },
    {
     "name": "stderr",
     "output_type": "stream",
     "text": [
      "05-25 03:11:04 [57] Lr: 0.000715, Training: 100.00%,  Loss: 0.05604, Acc: 97.95%, Recall: 98.00%, F1: 97.79%\r"
     ]
    },
    {
     "name": "stdout",
     "output_type": "stream",
     "text": [
      "\n",
      "58\n"
     ]
    },
    {
     "name": "stderr",
     "output_type": "stream",
     "text": [
      "05-25 03:12:16 [58] Lr: 0.000715, Training: 100.00%,  Loss: 0.04991, Acc: 98.21%, Recall: 98.27%, F1: 98.06%\r"
     ]
    },
    {
     "name": "stdout",
     "output_type": "stream",
     "text": [
      "\n",
      "59\n"
     ]
    },
    {
     "name": "stderr",
     "output_type": "stream",
     "text": [
      "05-25 03:13:29 [59] Lr: 0.000715, Training: 100.00%,  Loss: 0.05051, Acc: 98.14%, Recall: 98.09%, F1: 97.99%%\r"
     ]
    },
    {
     "name": "stdout",
     "output_type": "stream",
     "text": [
      "\n",
      "60\n"
     ]
    },
    {
     "name": "stderr",
     "output_type": "stream",
     "text": [
      "05-25 03:14:41 [60] Lr: 0.000715, Training: 100.00%,  Loss: 0.05491, Acc: 97.94%, Recall: 98.07%, F1: 97.79%%\r"
     ]
    },
    {
     "name": "stdout",
     "output_type": "stream",
     "text": [
      "\n"
     ]
    },
    {
     "name": "stderr",
     "output_type": "stream",
     "text": [
      "100%|███████████████████████████████████████████████████████████████████████████████████████████████████████████| 5100/5100 [01:35<00:00, 53.18it/s]\n"
     ]
    },
    {
     "name": "stdout",
     "output_type": "stream",
     "text": [
      "2024-05-25 03:16:18 60 epoch, Acc 97.94%, Recall 98.07%, F1 97.79%, Val_acc 98.63%, Best_acc 98.63%, Val_recall 98.92%, Best_recall 99.79%, Val_f1  98.55%, Best_f1 98.55%\n",
      "61\n"
     ]
    },
    {
     "name": "stderr",
     "output_type": "stream",
     "text": [
      "05-25 03:17:43 [61] Lr: 0.000694, Training: 100.00%,  Loss: 0.04504, Acc: 98.41%, Recall: 98.50%, F1: 98.31%%\r"
     ]
    },
    {
     "name": "stdout",
     "output_type": "stream",
     "text": [
      "\n",
      "62\n"
     ]
    },
    {
     "name": "stderr",
     "output_type": "stream",
     "text": [
      "05-25 03:18:55 [62] Lr: 0.000694, Training: 100.00%,  Loss: 0.05065, Acc: 98.18%, Recall: 98.28%, F1: 98.05%\r"
     ]
    },
    {
     "name": "stdout",
     "output_type": "stream",
     "text": [
      "\n",
      "63\n"
     ]
    },
    {
     "name": "stderr",
     "output_type": "stream",
     "text": [
      "05-25 03:20:08 [63] Lr: 0.000694, Training: 100.00%,  Loss: 0.06077, Acc: 97.85%, Recall: 97.84%, F1: 97.69%\r"
     ]
    },
    {
     "name": "stdout",
     "output_type": "stream",
     "text": [
      "\n",
      "64\n"
     ]
    },
    {
     "name": "stderr",
     "output_type": "stream",
     "text": [
      "05-25 03:21:21 [64] Lr: 0.000694, Training: 100.00%,  Loss: 0.05033, Acc: 98.12%, Recall: 98.08%, F1: 97.99%%\r"
     ]
    },
    {
     "name": "stdout",
     "output_type": "stream",
     "text": [
      "\n",
      "65\n"
     ]
    },
    {
     "name": "stderr",
     "output_type": "stream",
     "text": [
      "05-25 03:22:34 [65] Lr: 0.000694, Training: 100.00%,  Loss: 0.04660, Acc: 98.29%, Recall: 98.33%, F1: 98.17%%\r"
     ]
    },
    {
     "name": "stdout",
     "output_type": "stream",
     "text": [
      "\n"
     ]
    },
    {
     "name": "stderr",
     "output_type": "stream",
     "text": [
      "100%|███████████████████████████████████████████████████████████████████████████████████████████████████████████| 5100/5100 [01:31<00:00, 55.70it/s]\n"
     ]
    },
    {
     "name": "stdout",
     "output_type": "stream",
     "text": [
      "2024-05-25 03:24:06 65 epoch, Acc 98.29%, Recall 98.33%, F1 98.17%, Val_acc 97.86%, Best_acc 98.63%, Val_recall 97.16%, Best_recall 99.79%, Val_f1  97.71%, Best_f1 98.55%\n",
      "66\n"
     ]
    },
    {
     "name": "stderr",
     "output_type": "stream",
     "text": [
      "05-25 03:25:19 [66] Lr: 0.000673, Training: 100.00%,  Loss: 0.04531, Acc: 98.24%, Recall: 98.19%, F1: 98.10%\r"
     ]
    },
    {
     "name": "stdout",
     "output_type": "stream",
     "text": [
      "\n",
      "67\n"
     ]
    },
    {
     "name": "stderr",
     "output_type": "stream",
     "text": [
      "05-25 03:26:33 [67] Lr: 0.000673, Training: 100.00%,  Loss: 0.04366, Acc: 98.44%, Recall: 98.43%, F1: 98.32%\r"
     ]
    },
    {
     "name": "stdout",
     "output_type": "stream",
     "text": [
      "\n",
      "68\n"
     ]
    },
    {
     "name": "stderr",
     "output_type": "stream",
     "text": [
      "05-25 03:27:45 [68] Lr: 0.000673, Training: 100.00%,  Loss: 0.04306, Acc: 98.34%, Recall: 98.45%, F1: 98.23%\r"
     ]
    },
    {
     "name": "stdout",
     "output_type": "stream",
     "text": [
      "\n",
      "69\n"
     ]
    },
    {
     "name": "stderr",
     "output_type": "stream",
     "text": [
      "05-25 03:29:00 [69] Lr: 0.000673, Training: 100.00%,  Loss: 0.04039, Acc: 98.45%, Recall: 98.42%, F1: 98.34%\r"
     ]
    },
    {
     "name": "stdout",
     "output_type": "stream",
     "text": [
      "\n",
      "70\n"
     ]
    },
    {
     "name": "stderr",
     "output_type": "stream",
     "text": [
      "05-25 03:30:13 [70] Lr: 0.000673, Training: 100.00%,  Loss: 0.03709, Acc: 98.59%, Recall: 98.63%, F1: 98.46%\r"
     ]
    },
    {
     "name": "stdout",
     "output_type": "stream",
     "text": [
      "\n"
     ]
    },
    {
     "name": "stderr",
     "output_type": "stream",
     "text": [
      "100%|███████████████████████████████████████████████████████████████████████████████████████████████████████████| 5100/5100 [01:28<00:00, 57.36it/s]\n"
     ]
    },
    {
     "name": "stdout",
     "output_type": "stream",
     "text": [
      "2024-05-25 03:31:43 70 epoch, Acc 98.59%, Recall 98.63%, F1 98.46%, Val_acc 98.12%, Best_acc 98.63%, Val_recall 98.83%, Best_recall 99.79%, Val_f1  98.01%, Best_f1 98.55%\n",
      "71\n"
     ]
    },
    {
     "name": "stderr",
     "output_type": "stream",
     "text": [
      "05-25 03:32:55 [71] Lr: 0.000653, Training: 100.00%,  Loss: 0.03586, Acc: 98.67%, Recall: 98.70%, F1: 98.57%\r"
     ]
    },
    {
     "name": "stdout",
     "output_type": "stream",
     "text": [
      "\n",
      "72\n"
     ]
    },
    {
     "name": "stderr",
     "output_type": "stream",
     "text": [
      "05-25 03:34:07 [72] Lr: 0.000653, Training: 100.00%,  Loss: 0.03710, Acc: 98.61%, Recall: 98.66%, F1: 98.51%\r"
     ]
    },
    {
     "name": "stdout",
     "output_type": "stream",
     "text": [
      "\n",
      "73\n"
     ]
    },
    {
     "name": "stderr",
     "output_type": "stream",
     "text": [
      "05-25 03:35:19 [73] Lr: 0.000653, Training: 100.00%,  Loss: 0.03857, Acc: 98.61%, Recall: 98.61%, F1: 98.50%%\r"
     ]
    },
    {
     "name": "stdout",
     "output_type": "stream",
     "text": [
      "\n",
      "74\n"
     ]
    },
    {
     "name": "stderr",
     "output_type": "stream",
     "text": [
      "05-25 03:36:31 [74] Lr: 0.000653, Training: 100.00%,  Loss: 0.03537, Acc: 98.66%, Recall: 98.76%, F1: 98.54%\r"
     ]
    },
    {
     "name": "stdout",
     "output_type": "stream",
     "text": [
      "\n",
      "75\n"
     ]
    },
    {
     "name": "stderr",
     "output_type": "stream",
     "text": [
      "05-25 03:37:44 [75] Lr: 0.000653, Training: 100.00%,  Loss: 0.03715, Acc: 98.68%, Recall: 98.77%, F1: 98.58%%\r"
     ]
    },
    {
     "name": "stdout",
     "output_type": "stream",
     "text": [
      "\n"
     ]
    },
    {
     "name": "stderr",
     "output_type": "stream",
     "text": [
      "100%|███████████████████████████████████████████████████████████████████████████████████████████████████████████| 5100/5100 [01:28<00:00, 57.47it/s]\n"
     ]
    },
    {
     "name": "stdout",
     "output_type": "stream",
     "text": [
      "2024-05-25 03:39:13 75 epoch, Acc 98.68%, Recall 98.77%, F1 98.58%, Val_acc 98.65%, Best_acc 98.65%, Val_recall 98.83%, Best_recall 99.79%, Val_f1  98.57%, Best_f1 98.57%\n",
      "76\n"
     ]
    },
    {
     "name": "stderr",
     "output_type": "stream",
     "text": [
      "05-25 03:40:26 [76] Lr: 0.000633, Training: 100.00%,  Loss: 0.03321, Acc: 98.75%, Recall: 98.71%, F1: 98.66%\r"
     ]
    },
    {
     "name": "stdout",
     "output_type": "stream",
     "text": [
      "\n",
      "77\n"
     ]
    },
    {
     "name": "stderr",
     "output_type": "stream",
     "text": [
      "05-25 03:41:38 [77] Lr: 0.000633, Training: 100.00%,  Loss: 0.03811, Acc: 98.66%, Recall: 98.64%, F1: 98.58%%\r"
     ]
    },
    {
     "name": "stdout",
     "output_type": "stream",
     "text": [
      "\n",
      "78\n"
     ]
    },
    {
     "name": "stderr",
     "output_type": "stream",
     "text": [
      "05-25 03:42:51 [78] Lr: 0.000633, Training: 100.00%,  Loss: 0.03839, Acc: 98.62%, Recall: 98.60%, F1: 98.53%\r"
     ]
    },
    {
     "name": "stdout",
     "output_type": "stream",
     "text": [
      "\n",
      "79\n"
     ]
    },
    {
     "name": "stderr",
     "output_type": "stream",
     "text": [
      "05-25 03:44:03 [79] Lr: 0.000633, Training: 100.00%,  Loss: 0.03453, Acc: 98.77%, Recall: 98.72%, F1: 98.66%%\r"
     ]
    },
    {
     "name": "stdout",
     "output_type": "stream",
     "text": [
      "\n",
      "80\n"
     ]
    },
    {
     "name": "stderr",
     "output_type": "stream",
     "text": [
      "05-25 03:45:16 [80] Lr: 0.000633, Training: 100.00%,  Loss: 0.03357, Acc: 98.78%, Recall: 98.82%, F1: 98.69%\r"
     ]
    },
    {
     "name": "stdout",
     "output_type": "stream",
     "text": [
      "\n"
     ]
    },
    {
     "name": "stderr",
     "output_type": "stream",
     "text": [
      "100%|███████████████████████████████████████████████████████████████████████████████████████████████████████████| 5100/5100 [01:29<00:00, 57.11it/s]\n"
     ]
    },
    {
     "name": "stdout",
     "output_type": "stream",
     "text": [
      "2024-05-25 03:46:46 80 epoch, Acc 98.78%, Recall 98.82%, F1 98.69%, Val_acc 98.88%, Best_acc 98.88%, Val_recall 98.87%, Best_recall 99.79%, Val_f1  98.81%, Best_f1 98.81%\n",
      "81\n"
     ]
    },
    {
     "name": "stderr",
     "output_type": "stream",
     "text": [
      "05-25 03:47:58 [81] Lr: 0.000614, Training: 100.00%,  Loss: 0.04109, Acc: 98.40%, Recall: 98.37%, F1: 98.30%\r"
     ]
    },
    {
     "name": "stdout",
     "output_type": "stream",
     "text": [
      "\n",
      "82\n"
     ]
    },
    {
     "name": "stderr",
     "output_type": "stream",
     "text": [
      "05-25 03:49:10 [82] Lr: 0.000614, Training: 100.00%,  Loss: 0.03268, Acc: 98.91%, Recall: 98.95%, F1: 98.84%%\r"
     ]
    },
    {
     "name": "stdout",
     "output_type": "stream",
     "text": [
      "\n",
      "83\n"
     ]
    },
    {
     "name": "stderr",
     "output_type": "stream",
     "text": [
      "05-25 03:50:24 [83] Lr: 0.000614, Training: 100.00%,  Loss: 0.02980, Acc: 98.92%, Recall: 98.88%, F1: 98.84%\r"
     ]
    },
    {
     "name": "stdout",
     "output_type": "stream",
     "text": [
      "\n",
      "84\n"
     ]
    },
    {
     "name": "stderr",
     "output_type": "stream",
     "text": [
      "05-25 03:51:36 [84] Lr: 0.000614, Training: 100.00%,  Loss: 0.02762, Acc: 99.11%, Recall: 99.16%, F1: 99.05%%\r"
     ]
    },
    {
     "name": "stdout",
     "output_type": "stream",
     "text": [
      "\n",
      "85\n"
     ]
    },
    {
     "name": "stderr",
     "output_type": "stream",
     "text": [
      "05-25 03:52:48 [85] Lr: 0.000614, Training: 100.00%,  Loss: 0.02530, Acc: 99.07%, Recall: 99.06%, F1: 99.01%\r"
     ]
    },
    {
     "name": "stdout",
     "output_type": "stream",
     "text": [
      "\n"
     ]
    },
    {
     "name": "stderr",
     "output_type": "stream",
     "text": [
      "100%|███████████████████████████████████████████████████████████████████████████████████████████████████████████| 5100/5100 [01:29<00:00, 56.74it/s]\n"
     ]
    },
    {
     "name": "stdout",
     "output_type": "stream",
     "text": [
      "2024-05-25 03:54:19 85 epoch, Acc 99.07%, Recall 99.06%, F1 99.01%, Val_acc 98.65%, Best_acc 98.88%, Val_recall 98.17%, Best_recall 99.79%, Val_f1  98.56%, Best_f1 98.81%\n",
      "86\n"
     ]
    },
    {
     "name": "stderr",
     "output_type": "stream",
     "text": [
      "05-25 03:55:31 [86] Lr: 0.000596, Training: 100.00%,  Loss: 0.02890, Acc: 98.97%, Recall: 98.99%, F1: 98.88%\r"
     ]
    },
    {
     "name": "stdout",
     "output_type": "stream",
     "text": [
      "\n",
      "87\n"
     ]
    },
    {
     "name": "stderr",
     "output_type": "stream",
     "text": [
      "05-25 03:56:43 [87] Lr: 0.000596, Training: 100.00%,  Loss: 0.02692, Acc: 98.99%, Recall: 98.98%, F1: 98.92%\r"
     ]
    },
    {
     "name": "stdout",
     "output_type": "stream",
     "text": [
      "\n",
      "88\n"
     ]
    },
    {
     "name": "stderr",
     "output_type": "stream",
     "text": [
      "05-25 03:57:56 [88] Lr: 0.000596, Training: 100.00%,  Loss: 0.02944, Acc: 99.02%, Recall: 99.04%, F1: 98.95%%\r"
     ]
    },
    {
     "name": "stdout",
     "output_type": "stream",
     "text": [
      "\n",
      "89\n"
     ]
    },
    {
     "name": "stderr",
     "output_type": "stream",
     "text": [
      "05-25 03:59:09 [89] Lr: 0.000596, Training: 100.00%,  Loss: 0.03473, Acc: 98.82%, Recall: 98.79%, F1: 98.72%%\r"
     ]
    },
    {
     "name": "stdout",
     "output_type": "stream",
     "text": [
      "\n",
      "90\n"
     ]
    },
    {
     "name": "stderr",
     "output_type": "stream",
     "text": [
      "05-25 04:00:21 [90] Lr: 0.000596, Training: 100.00%,  Loss: 0.02663, Acc: 98.97%, Recall: 99.01%, F1: 98.90%%\r"
     ]
    },
    {
     "name": "stdout",
     "output_type": "stream",
     "text": [
      "\n"
     ]
    },
    {
     "name": "stderr",
     "output_type": "stream",
     "text": [
      "100%|███████████████████████████████████████████████████████████████████████████████████████████████████████████| 5100/5100 [01:27<00:00, 58.28it/s]\n"
     ]
    },
    {
     "name": "stdout",
     "output_type": "stream",
     "text": [
      "2024-05-25 04:01:49 90 epoch, Acc 98.97%, Recall 99.01%, F1 98.90%, Val_acc 98.24%, Best_acc 98.88%, Val_recall 97.12%, Best_recall 99.79%, Val_f1  98.10%, Best_f1 98.81%\n",
      "91\n"
     ]
    },
    {
     "name": "stderr",
     "output_type": "stream",
     "text": [
      "05-25 04:03:02 [91] Lr: 0.000578, Training: 100.00%,  Loss: 0.02554, Acc: 99.14%, Recall: 99.03%, F1: 99.07%\r"
     ]
    },
    {
     "name": "stdout",
     "output_type": "stream",
     "text": [
      "\n",
      "92\n"
     ]
    },
    {
     "name": "stderr",
     "output_type": "stream",
     "text": [
      "05-25 04:04:14 [92] Lr: 0.000578, Training: 100.00%,  Loss: 0.02552, Acc: 99.09%, Recall: 99.17%, F1: 99.02%\r"
     ]
    },
    {
     "name": "stdout",
     "output_type": "stream",
     "text": [
      "\n",
      "93\n"
     ]
    },
    {
     "name": "stderr",
     "output_type": "stream",
     "text": [
      "05-25 04:05:27 [93] Lr: 0.000578, Training: 100.00%,  Loss: 0.02441, Acc: 99.16%, Recall: 99.09%, F1: 99.09%\r"
     ]
    },
    {
     "name": "stdout",
     "output_type": "stream",
     "text": [
      "\n",
      "94\n"
     ]
    },
    {
     "name": "stderr",
     "output_type": "stream",
     "text": [
      "05-25 04:06:39 [94] Lr: 0.000578, Training: 100.00%,  Loss: 0.02169, Acc: 99.24%, Recall: 99.22%, F1: 99.16%%\r"
     ]
    },
    {
     "name": "stdout",
     "output_type": "stream",
     "text": [
      "\n",
      "95\n"
     ]
    },
    {
     "name": "stderr",
     "output_type": "stream",
     "text": [
      "05-25 04:07:51 [95] Lr: 0.000578, Training: 100.00%,  Loss: 0.02321, Acc: 99.14%, Recall: 99.14%, F1: 99.07%\r"
     ]
    },
    {
     "name": "stdout",
     "output_type": "stream",
     "text": [
      "\n"
     ]
    },
    {
     "name": "stderr",
     "output_type": "stream",
     "text": [
      "100%|███████████████████████████████████████████████████████████████████████████████████████████████████████████| 5100/5100 [01:27<00:00, 58.13it/s]\n"
     ]
    },
    {
     "name": "stdout",
     "output_type": "stream",
     "text": [
      "2024-05-25 04:09:19 95 epoch, Acc 99.14%, Recall 99.14%, F1 99.07%, Val_acc 97.75%, Best_acc 98.88%, Val_recall 98.46%, Best_recall 99.79%, Val_f1  97.62%, Best_f1 98.81%\n",
      "96\n"
     ]
    },
    {
     "name": "stderr",
     "output_type": "stream",
     "text": [
      "05-25 04:10:33 [96] Lr: 0.000561, Training: 100.00%,  Loss: 0.02600, Acc: 99.08%, Recall: 99.11%, F1: 99.01%%\r"
     ]
    },
    {
     "name": "stdout",
     "output_type": "stream",
     "text": [
      "\n",
      "97\n"
     ]
    },
    {
     "name": "stderr",
     "output_type": "stream",
     "text": [
      "05-25 04:11:45 [97] Lr: 0.000561, Training: 100.00%,  Loss: 0.02480, Acc: 99.07%, Recall: 99.07%, F1: 99.01%%\r"
     ]
    },
    {
     "name": "stdout",
     "output_type": "stream",
     "text": [
      "\n",
      "98\n"
     ]
    },
    {
     "name": "stderr",
     "output_type": "stream",
     "text": [
      "05-25 04:12:57 [98] Lr: 0.000561, Training: 100.00%,  Loss: 0.02239, Acc: 99.21%, Recall: 99.18%, F1: 99.15%%\r"
     ]
    },
    {
     "name": "stdout",
     "output_type": "stream",
     "text": [
      "\n",
      "99\n"
     ]
    },
    {
     "name": "stderr",
     "output_type": "stream",
     "text": [
      "05-25 04:14:10 [99] Lr: 0.000561, Training: 100.00%,  Loss: 0.02312, Acc: 99.19%, Recall: 99.13%, F1: 99.13%%\r"
     ]
    },
    {
     "name": "stdout",
     "output_type": "stream",
     "text": [
      "\n",
      "100\n"
     ]
    },
    {
     "name": "stderr",
     "output_type": "stream",
     "text": [
      "05-25 04:15:22 [100] Lr: 0.000561, Training: 100.00%,  Loss: 0.02372, Acc: 99.13%, Recall: 99.09%, F1: 99.07%\r"
     ]
    },
    {
     "name": "stdout",
     "output_type": "stream",
     "text": [
      "\n"
     ]
    },
    {
     "name": "stderr",
     "output_type": "stream",
     "text": [
      "100%|███████████████████████████████████████████████████████████████████████████████████████████████████████████| 5100/5100 [01:28<00:00, 57.61it/s]\n"
     ]
    },
    {
     "name": "stdout",
     "output_type": "stream",
     "text": [
      "2024-05-25 04:16:51 100 epoch, Acc 99.13%, Recall 99.09%, F1 99.07%, Val_acc 98.94%, Best_acc 98.94%, Val_recall 98.75%, Best_recall 99.79%, Val_f1  98.87%, Best_f1 98.87%\n",
      "101\n"
     ]
    },
    {
     "name": "stderr",
     "output_type": "stream",
     "text": [
      "05-25 04:18:12 [101] Lr: 0.000544, Training: 100.00%,  Loss: 0.02179, Acc: 99.19%, Recall: 99.22%, F1: 99.14%\r"
     ]
    },
    {
     "name": "stdout",
     "output_type": "stream",
     "text": [
      "\n",
      "102\n"
     ]
    },
    {
     "name": "stderr",
     "output_type": "stream",
     "text": [
      "05-25 04:19:25 [102] Lr: 0.000544, Training: 100.00%,  Loss: 0.02201, Acc: 99.28%, Recall: 99.21%, F1: 99.23%%\r"
     ]
    },
    {
     "name": "stdout",
     "output_type": "stream",
     "text": [
      "\n",
      "103\n"
     ]
    },
    {
     "name": "stderr",
     "output_type": "stream",
     "text": [
      "05-25 04:20:38 [103] Lr: 0.000544, Training: 100.00%,  Loss: 0.02204, Acc: 99.20%, Recall: 99.23%, F1: 99.13%\r"
     ]
    },
    {
     "name": "stdout",
     "output_type": "stream",
     "text": [
      "\n",
      "104\n"
     ]
    },
    {
     "name": "stderr",
     "output_type": "stream",
     "text": [
      "05-25 04:21:50 [104] Lr: 0.000544, Training: 100.00%,  Loss: 0.01924, Acc: 99.30%, Recall: 99.22%, F1: 99.25%\r"
     ]
    },
    {
     "name": "stdout",
     "output_type": "stream",
     "text": [
      "\n",
      "105\n"
     ]
    },
    {
     "name": "stderr",
     "output_type": "stream",
     "text": [
      "05-25 04:23:02 [105] Lr: 0.000544, Training: 100.00%,  Loss: 0.02075, Acc: 99.23%, Recall: 99.27%, F1: 99.18%%\r"
     ]
    },
    {
     "name": "stdout",
     "output_type": "stream",
     "text": [
      "\n"
     ]
    },
    {
     "name": "stderr",
     "output_type": "stream",
     "text": [
      "100%|███████████████████████████████████████████████████████████████████████████████████████████████████████████| 5100/5100 [01:28<00:00, 57.53it/s]\n"
     ]
    },
    {
     "name": "stdout",
     "output_type": "stream",
     "text": [
      "2024-05-25 04:24:31 105 epoch, Acc 99.23%, Recall 99.27%, F1 99.18%, Val_acc 98.65%, Best_acc 98.94%, Val_recall 98.00%, Best_recall 99.79%, Val_f1  98.55%, Best_f1 98.87%\n",
      "106\n"
     ]
    },
    {
     "name": "stderr",
     "output_type": "stream",
     "text": [
      "05-25 04:25:44 [106] Lr: 0.000527, Training: 100.00%,  Loss: 0.01759, Acc: 99.41%, Recall: 99.41%, F1: 99.35%%\r"
     ]
    },
    {
     "name": "stdout",
     "output_type": "stream",
     "text": [
      "\n",
      "107\n"
     ]
    },
    {
     "name": "stderr",
     "output_type": "stream",
     "text": [
      "05-25 04:26:56 [107] Lr: 0.000527, Training: 100.00%,  Loss: 0.02152, Acc: 99.23%, Recall: 99.28%, F1: 99.17%%\r"
     ]
    },
    {
     "name": "stdout",
     "output_type": "stream",
     "text": [
      "\n",
      "108\n"
     ]
    },
    {
     "name": "stderr",
     "output_type": "stream",
     "text": [
      "05-25 04:28:08 [108] Lr: 0.000527, Training: 100.00%,  Loss: 0.02017, Acc: 99.26%, Recall: 99.27%, F1: 99.20%\r"
     ]
    },
    {
     "name": "stdout",
     "output_type": "stream",
     "text": [
      "\n",
      "109\n"
     ]
    },
    {
     "name": "stderr",
     "output_type": "stream",
     "text": [
      "05-25 04:29:20 [109] Lr: 0.000527, Training: 100.00%,  Loss: 0.01823, Acc: 99.37%, Recall: 99.35%, F1: 99.32%%\r"
     ]
    },
    {
     "name": "stdout",
     "output_type": "stream",
     "text": [
      "\n",
      "110\n"
     ]
    },
    {
     "name": "stderr",
     "output_type": "stream",
     "text": [
      "05-25 04:30:33 [110] Lr: 0.000527, Training: 100.00%,  Loss: 0.01941, Acc: 99.30%, Recall: 99.25%, F1: 99.22%%\r"
     ]
    },
    {
     "name": "stdout",
     "output_type": "stream",
     "text": [
      "\n"
     ]
    },
    {
     "name": "stderr",
     "output_type": "stream",
     "text": [
      "100%|███████████████████████████████████████████████████████████████████████████████████████████████████████████| 5100/5100 [01:27<00:00, 58.32it/s]\n"
     ]
    },
    {
     "name": "stdout",
     "output_type": "stream",
     "text": [
      "2024-05-25 04:32:00 110 epoch, Acc 99.30%, Recall 99.25%, F1 99.22%, Val_acc 98.47%, Best_acc 98.94%, Val_recall 99.04%, Best_recall 99.79%, Val_f1  98.38%, Best_f1 98.87%\n",
      "111\n"
     ]
    },
    {
     "name": "stderr",
     "output_type": "stream",
     "text": [
      "05-25 04:33:13 [111] Lr: 0.000512, Training: 100.00%,  Loss: 0.01845, Acc: 99.38%, Recall: 99.39%, F1: 99.33%%\r"
     ]
    },
    {
     "name": "stdout",
     "output_type": "stream",
     "text": [
      "\n",
      "112\n"
     ]
    },
    {
     "name": "stderr",
     "output_type": "stream",
     "text": [
      "05-25 04:34:24 [112] Lr: 0.000512, Training: 100.00%,  Loss: 0.01789, Acc: 99.25%, Recall: 99.33%, F1: 99.20%\r"
     ]
    },
    {
     "name": "stdout",
     "output_type": "stream",
     "text": [
      "\n",
      "113\n"
     ]
    },
    {
     "name": "stderr",
     "output_type": "stream",
     "text": [
      "05-25 04:35:37 [113] Lr: 0.000512, Training: 100.00%,  Loss: 0.02014, Acc: 99.26%, Recall: 99.28%, F1: 99.22%\r"
     ]
    },
    {
     "name": "stdout",
     "output_type": "stream",
     "text": [
      "\n",
      "114\n"
     ]
    },
    {
     "name": "stderr",
     "output_type": "stream",
     "text": [
      "05-25 04:36:49 [114] Lr: 0.000512, Training: 100.00%,  Loss: 0.01841, Acc: 99.40%, Recall: 99.48%, F1: 99.35%%\r"
     ]
    },
    {
     "name": "stdout",
     "output_type": "stream",
     "text": [
      "\n",
      "115\n"
     ]
    },
    {
     "name": "stderr",
     "output_type": "stream",
     "text": [
      "05-25 04:38:01 [115] Lr: 0.000512, Training: 100.00%,  Loss: 0.01877, Acc: 99.37%, Recall: 99.37%, F1: 99.32%%\r"
     ]
    },
    {
     "name": "stdout",
     "output_type": "stream",
     "text": [
      "\n"
     ]
    },
    {
     "name": "stderr",
     "output_type": "stream",
     "text": [
      "100%|███████████████████████████████████████████████████████████████████████████████████████████████████████████| 5100/5100 [01:25<00:00, 59.67it/s]\n"
     ]
    },
    {
     "name": "stdout",
     "output_type": "stream",
     "text": [
      "2024-05-25 04:39:27 115 epoch, Acc 99.37%, Recall 99.37%, F1 99.32%, Val_acc 98.96%, Best_acc 98.96%, Val_recall 98.75%, Best_recall 99.79%, Val_f1  98.89%, Best_f1 98.89%\n",
      "116\n"
     ]
    },
    {
     "name": "stderr",
     "output_type": "stream",
     "text": [
      "05-25 04:40:39 [116] Lr: 0.000496, Training: 100.00%,  Loss: 0.01892, Acc: 99.34%, Recall: 99.32%, F1: 99.29%\r"
     ]
    },
    {
     "name": "stdout",
     "output_type": "stream",
     "text": [
      "\n",
      "117\n"
     ]
    },
    {
     "name": "stderr",
     "output_type": "stream",
     "text": [
      "05-25 04:41:51 [117] Lr: 0.000496, Training: 100.00%,  Loss: 0.01670, Acc: 99.38%, Recall: 99.42%, F1: 99.33%%\r"
     ]
    },
    {
     "name": "stdout",
     "output_type": "stream",
     "text": [
      "\n",
      "118\n"
     ]
    },
    {
     "name": "stderr",
     "output_type": "stream",
     "text": [
      "05-25 04:43:03 [118] Lr: 0.000496, Training: 100.00%,  Loss: 0.01795, Acc: 99.38%, Recall: 99.42%, F1: 99.33%%\r"
     ]
    },
    {
     "name": "stdout",
     "output_type": "stream",
     "text": [
      "\n",
      "119\n"
     ]
    },
    {
     "name": "stderr",
     "output_type": "stream",
     "text": [
      "05-25 04:44:15 [119] Lr: 0.000496, Training: 100.00%,  Loss: 0.02339, Acc: 99.16%, Recall: 99.17%, F1: 99.11%%\r"
     ]
    },
    {
     "name": "stdout",
     "output_type": "stream",
     "text": [
      "\n",
      "120\n"
     ]
    },
    {
     "name": "stderr",
     "output_type": "stream",
     "text": [
      "05-25 04:45:27 [120] Lr: 0.000496, Training: 100.00%,  Loss: 0.01921, Acc: 99.33%, Recall: 99.33%, F1: 99.28%%\r"
     ]
    },
    {
     "name": "stdout",
     "output_type": "stream",
     "text": [
      "\n"
     ]
    },
    {
     "name": "stderr",
     "output_type": "stream",
     "text": [
      "100%|███████████████████████████████████████████████████████████████████████████████████████████████████████████| 5100/5100 [01:28<00:00, 57.68it/s]\n"
     ]
    },
    {
     "name": "stdout",
     "output_type": "stream",
     "text": [
      "2024-05-25 04:46:56 120 epoch, Acc 99.33%, Recall 99.33%, F1 99.28%, Val_acc 99.18%, Best_acc 99.18%, Val_recall 99.12%, Best_recall 99.79%, Val_f1  99.12%, Best_f1 99.12%\n",
      "121\n"
     ]
    },
    {
     "name": "stderr",
     "output_type": "stream",
     "text": [
      "05-25 04:48:08 [121] Lr: 0.000481, Training: 100.00%,  Loss: 0.01566, Acc: 99.45%, Recall: 99.45%, F1: 99.41%%\r"
     ]
    },
    {
     "name": "stdout",
     "output_type": "stream",
     "text": [
      "\n",
      "122\n"
     ]
    },
    {
     "name": "stderr",
     "output_type": "stream",
     "text": [
      "05-25 04:49:20 [122] Lr: 0.000481, Training: 100.00%,  Loss: 0.01641, Acc: 99.44%, Recall: 99.48%, F1: 99.40%\r"
     ]
    },
    {
     "name": "stdout",
     "output_type": "stream",
     "text": [
      "\n",
      "123\n"
     ]
    },
    {
     "name": "stderr",
     "output_type": "stream",
     "text": [
      "05-25 04:50:33 [123] Lr: 0.000481, Training: 100.00%,  Loss: 0.01469, Acc: 99.46%, Recall: 99.40%, F1: 99.43%%\r"
     ]
    },
    {
     "name": "stdout",
     "output_type": "stream",
     "text": [
      "\n",
      "124\n"
     ]
    },
    {
     "name": "stderr",
     "output_type": "stream",
     "text": [
      "05-25 04:51:45 [124] Lr: 0.000481, Training: 100.00%,  Loss: 0.02534, Acc: 99.08%, Recall: 99.03%, F1: 99.00%\r"
     ]
    },
    {
     "name": "stdout",
     "output_type": "stream",
     "text": [
      "\n",
      "125\n"
     ]
    },
    {
     "name": "stderr",
     "output_type": "stream",
     "text": [
      "05-25 04:52:57 [125] Lr: 0.000481, Training: 100.00%,  Loss: 0.01585, Acc: 99.38%, Recall: 99.35%, F1: 99.33%%\r"
     ]
    },
    {
     "name": "stdout",
     "output_type": "stream",
     "text": [
      "\n"
     ]
    },
    {
     "name": "stderr",
     "output_type": "stream",
     "text": [
      "100%|███████████████████████████████████████████████████████████████████████████████████████████████████████████| 5100/5100 [01:28<00:00, 57.69it/s]\n"
     ]
    },
    {
     "name": "stdout",
     "output_type": "stream",
     "text": [
      "2024-05-25 04:54:26 125 epoch, Acc 99.38%, Recall 99.35%, F1 99.33%, Val_acc 99.06%, Best_acc 99.18%, Val_recall 98.79%, Best_recall 99.79%, Val_f1  99.00%, Best_f1 99.12%\n",
      "126\n"
     ]
    },
    {
     "name": "stderr",
     "output_type": "stream",
     "text": [
      "05-25 04:55:38 [126] Lr: 0.000467, Training: 100.00%,  Loss: 0.02080, Acc: 99.28%, Recall: 99.18%, F1: 99.23%%\r"
     ]
    },
    {
     "name": "stdout",
     "output_type": "stream",
     "text": [
      "\n",
      "127\n"
     ]
    },
    {
     "name": "stderr",
     "output_type": "stream",
     "text": [
      "05-25 04:56:50 [127] Lr: 0.000467, Training: 100.00%,  Loss: 0.01422, Acc: 99.53%, Recall: 99.57%, F1: 99.50%%\r"
     ]
    },
    {
     "name": "stdout",
     "output_type": "stream",
     "text": [
      "\n",
      "128\n"
     ]
    },
    {
     "name": "stderr",
     "output_type": "stream",
     "text": [
      "05-25 04:58:03 [128] Lr: 0.000467, Training: 100.00%,  Loss: 0.01231, Acc: 99.50%, Recall: 99.47%, F1: 99.45%%\r"
     ]
    },
    {
     "name": "stdout",
     "output_type": "stream",
     "text": [
      "\n",
      "129\n"
     ]
    },
    {
     "name": "stderr",
     "output_type": "stream",
     "text": [
      "05-25 04:59:16 [129] Lr: 0.000467, Training: 100.00%,  Loss: 0.01560, Acc: 99.50%, Recall: 99.41%, F1: 99.46%\r"
     ]
    },
    {
     "name": "stdout",
     "output_type": "stream",
     "text": [
      "\n",
      "130\n"
     ]
    },
    {
     "name": "stderr",
     "output_type": "stream",
     "text": [
      "05-25 05:00:28 [130] Lr: 0.000467, Training: 100.00%,  Loss: 0.01382, Acc: 99.50%, Recall: 99.45%, F1: 99.46%\r"
     ]
    },
    {
     "name": "stdout",
     "output_type": "stream",
     "text": [
      "\n"
     ]
    },
    {
     "name": "stderr",
     "output_type": "stream",
     "text": [
      "100%|███████████████████████████████████████████████████████████████████████████████████████████████████████████| 5100/5100 [01:25<00:00, 59.31it/s]\n"
     ]
    },
    {
     "name": "stdout",
     "output_type": "stream",
     "text": [
      "2024-05-25 05:01:55 130 epoch, Acc 99.50%, Recall 99.45%, F1 99.46%, Val_acc 98.57%, Best_acc 99.18%, Val_recall 98.96%, Best_recall 99.79%, Val_f1  98.49%, Best_f1 99.12%\n",
      "131\n"
     ]
    },
    {
     "name": "stderr",
     "output_type": "stream",
     "text": [
      "05-25 05:03:09 [131] Lr: 0.000453, Training: 100.00%,  Loss: 0.01794, Acc: 99.43%, Recall: 99.45%, F1: 99.39%%\r"
     ]
    },
    {
     "name": "stdout",
     "output_type": "stream",
     "text": [
      "\n",
      "132\n"
     ]
    },
    {
     "name": "stderr",
     "output_type": "stream",
     "text": [
      "05-25 05:04:22 [132] Lr: 0.000453, Training: 100.00%,  Loss: 0.01598, Acc: 99.43%, Recall: 99.41%, F1: 99.39%\r"
     ]
    },
    {
     "name": "stdout",
     "output_type": "stream",
     "text": [
      "\n",
      "133\n"
     ]
    },
    {
     "name": "stderr",
     "output_type": "stream",
     "text": [
      "05-25 05:05:35 [133] Lr: 0.000453, Training: 100.00%,  Loss: 0.01460, Acc: 99.44%, Recall: 99.43%, F1: 99.41%%\r"
     ]
    },
    {
     "name": "stdout",
     "output_type": "stream",
     "text": [
      "\n",
      "134\n"
     ]
    },
    {
     "name": "stderr",
     "output_type": "stream",
     "text": [
      "05-25 05:06:47 [134] Lr: 0.000453, Training: 100.00%,  Loss: 0.01327, Acc: 99.58%, Recall: 99.53%, F1: 99.55%\r"
     ]
    },
    {
     "name": "stdout",
     "output_type": "stream",
     "text": [
      "\n",
      "135\n"
     ]
    },
    {
     "name": "stderr",
     "output_type": "stream",
     "text": [
      "05-25 05:08:00 [135] Lr: 0.000453, Training: 100.00%,  Loss: 0.01672, Acc: 99.49%, Recall: 99.46%, F1: 99.45%%\r"
     ]
    },
    {
     "name": "stdout",
     "output_type": "stream",
     "text": [
      "\n"
     ]
    },
    {
     "name": "stderr",
     "output_type": "stream",
     "text": [
      "100%|███████████████████████████████████████████████████████████████████████████████████████████████████████████| 5100/5100 [01:27<00:00, 58.07it/s]\n"
     ]
    },
    {
     "name": "stdout",
     "output_type": "stream",
     "text": [
      "2024-05-25 05:09:28 135 epoch, Acc 99.49%, Recall 99.46%, F1 99.45%, Val_acc 98.88%, Best_acc 99.18%, Val_recall 98.46%, Best_recall 99.79%, Val_f1  98.81%, Best_f1 99.12%\n",
      "136\n"
     ]
    },
    {
     "name": "stderr",
     "output_type": "stream",
     "text": [
      "05-25 05:10:41 [136] Lr: 0.000439, Training: 100.00%,  Loss: 0.01404, Acc: 99.50%, Recall: 99.57%, F1: 99.47%\r"
     ]
    },
    {
     "name": "stdout",
     "output_type": "stream",
     "text": [
      "\n",
      "137\n"
     ]
    },
    {
     "name": "stderr",
     "output_type": "stream",
     "text": [
      "05-25 05:11:53 [137] Lr: 0.000439, Training: 100.00%,  Loss: 0.01405, Acc: 99.54%, Recall: 99.54%, F1: 99.51%%\r"
     ]
    },
    {
     "name": "stdout",
     "output_type": "stream",
     "text": [
      "\n",
      "138\n"
     ]
    },
    {
     "name": "stderr",
     "output_type": "stream",
     "text": [
      "05-25 05:13:05 [138] Lr: 0.000439, Training: 100.00%,  Loss: 0.01225, Acc: 99.61%, Recall: 99.58%, F1: 99.57%%\r"
     ]
    },
    {
     "name": "stdout",
     "output_type": "stream",
     "text": [
      "\n",
      "139\n"
     ]
    },
    {
     "name": "stderr",
     "output_type": "stream",
     "text": [
      "05-25 05:14:17 [139] Lr: 0.000439, Training: 100.00%,  Loss: 0.01233, Acc: 99.54%, Recall: 99.51%, F1: 99.49%%\r"
     ]
    },
    {
     "name": "stdout",
     "output_type": "stream",
     "text": [
      "\n",
      "140\n"
     ]
    },
    {
     "name": "stderr",
     "output_type": "stream",
     "text": [
      "05-25 05:15:29 [140] Lr: 0.000439, Training: 100.00%,  Loss: 0.01411, Acc: 99.51%, Recall: 99.44%, F1: 99.47%\r"
     ]
    },
    {
     "name": "stdout",
     "output_type": "stream",
     "text": [
      "\n"
     ]
    },
    {
     "name": "stderr",
     "output_type": "stream",
     "text": [
      "100%|███████████████████████████████████████████████████████████████████████████████████████████████████████████| 5100/5100 [01:28<00:00, 57.60it/s]\n"
     ]
    },
    {
     "name": "stdout",
     "output_type": "stream",
     "text": [
      "2024-05-25 05:16:58 140 epoch, Acc 99.51%, Recall 99.44%, F1 99.47%, Val_acc 99.02%, Best_acc 99.18%, Val_recall 99.42%, Best_recall 99.79%, Val_f1  98.96%, Best_f1 99.12%\n",
      "141\n"
     ]
    },
    {
     "name": "stderr",
     "output_type": "stream",
     "text": [
      "05-25 05:18:12 [141] Lr: 0.000426, Training: 100.00%,  Loss: 0.01359, Acc: 99.55%, Recall: 99.57%, F1: 99.51%%\r"
     ]
    },
    {
     "name": "stdout",
     "output_type": "stream",
     "text": [
      "\n",
      "142\n"
     ]
    },
    {
     "name": "stderr",
     "output_type": "stream",
     "text": [
      "05-25 05:19:30 [142] Lr: 0.000426, Training: 100.00%,  Loss: 0.01226, Acc: 99.57%, Recall: 99.59%, F1: 99.53%%\r"
     ]
    },
    {
     "name": "stdout",
     "output_type": "stream",
     "text": [
      "\n",
      "143\n"
     ]
    },
    {
     "name": "stderr",
     "output_type": "stream",
     "text": [
      "05-25 05:20:43 [143] Lr: 0.000426, Training: 100.00%,  Loss: 0.01455, Acc: 99.52%, Recall: 99.47%, F1: 99.49%%\r"
     ]
    },
    {
     "name": "stdout",
     "output_type": "stream",
     "text": [
      "\n",
      "144\n"
     ]
    },
    {
     "name": "stderr",
     "output_type": "stream",
     "text": [
      "05-25 05:21:55 [144] Lr: 0.000426, Training: 100.00%,  Loss: 0.01383, Acc: 99.50%, Recall: 99.53%, F1: 99.47%\r"
     ]
    },
    {
     "name": "stdout",
     "output_type": "stream",
     "text": [
      "\n",
      "145\n"
     ]
    },
    {
     "name": "stderr",
     "output_type": "stream",
     "text": [
      "05-25 05:23:08 [145] Lr: 0.000426, Training: 100.00%,  Loss: 0.00972, Acc: 99.65%, Recall: 99.60%, F1: 99.62%%\r"
     ]
    },
    {
     "name": "stdout",
     "output_type": "stream",
     "text": [
      "\n"
     ]
    },
    {
     "name": "stderr",
     "output_type": "stream",
     "text": [
      "100%|███████████████████████████████████████████████████████████████████████████████████████████████████████████| 5100/5100 [02:42<00:00, 31.32it/s]\n"
     ]
    },
    {
     "name": "stdout",
     "output_type": "stream",
     "text": [
      "2024-05-25 05:25:51 145 epoch, Acc 99.65%, Recall 99.60%, F1 99.62%, Val_acc 99.10%, Best_acc 99.18%, Val_recall 99.17%, Best_recall 99.79%, Val_f1  99.04%, Best_f1 99.12%\n",
      "146\n"
     ]
    },
    {
     "name": "stderr",
     "output_type": "stream",
     "text": [
      "05-25 05:28:47 [146] Lr: 0.000413, Training: 100.00%,  Loss: 0.01261, Acc: 99.59%, Recall: 99.62%, F1: 99.55%%\r"
     ]
    },
    {
     "name": "stdout",
     "output_type": "stream",
     "text": [
      "\n",
      "147\n"
     ]
    },
    {
     "name": "stderr",
     "output_type": "stream",
     "text": [
      "05-25 05:30:00 [147] Lr: 0.000413, Training: 100.00%,  Loss: 0.01280, Acc: 99.54%, Recall: 99.55%, F1: 99.51%%\r"
     ]
    },
    {
     "name": "stdout",
     "output_type": "stream",
     "text": [
      "\n",
      "148\n"
     ]
    },
    {
     "name": "stderr",
     "output_type": "stream",
     "text": [
      "05-25 05:31:13 [148] Lr: 0.000413, Training: 100.00%,  Loss: 0.01268, Acc: 99.54%, Recall: 99.59%, F1: 99.51%\r"
     ]
    },
    {
     "name": "stdout",
     "output_type": "stream",
     "text": [
      "\n",
      "149\n"
     ]
    },
    {
     "name": "stderr",
     "output_type": "stream",
     "text": [
      "05-25 05:32:25 [149] Lr: 0.000413, Training: 100.00%,  Loss: 0.01216, Acc: 99.52%, Recall: 99.51%, F1: 99.49%%\r"
     ]
    },
    {
     "name": "stdout",
     "output_type": "stream",
     "text": [
      "\n",
      "150\n"
     ]
    },
    {
     "name": "stderr",
     "output_type": "stream",
     "text": [
      "05-25 05:33:37 [150] Lr: 0.000413, Training: 100.00%,  Loss: 0.01064, Acc: 99.67%, Recall: 99.60%, F1: 99.63%%\r"
     ]
    },
    {
     "name": "stdout",
     "output_type": "stream",
     "text": [
      "\n"
     ]
    },
    {
     "name": "stderr",
     "output_type": "stream",
     "text": [
      "100%|███████████████████████████████████████████████████████████████████████████████████████████████████████████| 5100/5100 [01:36<00:00, 52.62it/s]\n"
     ]
    },
    {
     "name": "stdout",
     "output_type": "stream",
     "text": [
      "2024-05-25 05:35:15 150 epoch, Acc 99.67%, Recall 99.60%, F1 99.63%, Val_acc 99.18%, Best_acc 99.18%, Val_recall 99.50%, Best_recall 99.79%, Val_f1  99.13%, Best_f1 99.13%\n",
      "151\n"
     ]
    },
    {
     "name": "stderr",
     "output_type": "stream",
     "text": [
      "05-25 05:36:27 [151] Lr: 0.000401, Training: 100.00%,  Loss: 0.01262, Acc: 99.54%, Recall: 99.51%, F1: 99.51%\r"
     ]
    },
    {
     "name": "stdout",
     "output_type": "stream",
     "text": [
      "\n",
      "152\n"
     ]
    },
    {
     "name": "stderr",
     "output_type": "stream",
     "text": [
      "05-25 05:37:39 [152] Lr: 0.000401, Training: 100.00%,  Loss: 0.01076, Acc: 99.63%, Recall: 99.60%, F1: 99.61%%\r"
     ]
    },
    {
     "name": "stdout",
     "output_type": "stream",
     "text": [
      "\n",
      "153\n"
     ]
    },
    {
     "name": "stderr",
     "output_type": "stream",
     "text": [
      "05-25 05:38:52 [153] Lr: 0.000401, Training: 100.00%,  Loss: 0.01133, Acc: 99.61%, Recall: 99.59%, F1: 99.58%%\r"
     ]
    },
    {
     "name": "stdout",
     "output_type": "stream",
     "text": [
      "\n",
      "154\n"
     ]
    },
    {
     "name": "stderr",
     "output_type": "stream",
     "text": [
      "05-25 05:40:05 [154] Lr: 0.000401, Training: 100.00%,  Loss: 0.01279, Acc: 99.55%, Recall: 99.52%, F1: 99.52%\r"
     ]
    },
    {
     "name": "stdout",
     "output_type": "stream",
     "text": [
      "\n",
      "155\n"
     ]
    },
    {
     "name": "stderr",
     "output_type": "stream",
     "text": [
      "05-25 05:41:19 [155] Lr: 0.000401, Training: 100.00%,  Loss: 0.01095, Acc: 99.68%, Recall: 99.68%, F1: 99.65%%\r"
     ]
    },
    {
     "name": "stdout",
     "output_type": "stream",
     "text": [
      "\n"
     ]
    },
    {
     "name": "stderr",
     "output_type": "stream",
     "text": [
      "100%|███████████████████████████████████████████████████████████████████████████████████████████████████████████| 5100/5100 [01:26<00:00, 59.16it/s]\n"
     ]
    },
    {
     "name": "stdout",
     "output_type": "stream",
     "text": [
      "2024-05-25 05:42:46 155 epoch, Acc 99.68%, Recall 99.68%, F1 99.65%, Val_acc 99.04%, Best_acc 99.18%, Val_recall 98.75%, Best_recall 99.79%, Val_f1  98.98%, Best_f1 99.13%\n",
      "156\n"
     ]
    },
    {
     "name": "stderr",
     "output_type": "stream",
     "text": [
      "05-25 05:43:58 [156] Lr: 0.000389, Training: 100.00%,  Loss: 0.01204, Acc: 99.61%, Recall: 99.58%, F1: 99.57%%\r"
     ]
    },
    {
     "name": "stdout",
     "output_type": "stream",
     "text": [
      "\n",
      "157\n"
     ]
    },
    {
     "name": "stderr",
     "output_type": "stream",
     "text": [
      "05-25 05:45:10 [157] Lr: 0.000389, Training: 100.00%,  Loss: 0.01055, Acc: 99.66%, Recall: 99.63%, F1: 99.62%%\r"
     ]
    },
    {
     "name": "stdout",
     "output_type": "stream",
     "text": [
      "\n",
      "158\n"
     ]
    },
    {
     "name": "stderr",
     "output_type": "stream",
     "text": [
      "05-25 05:46:23 [158] Lr: 0.000389, Training: 100.00%,  Loss: 0.01148, Acc: 99.56%, Recall: 99.58%, F1: 99.54%%\r"
     ]
    },
    {
     "name": "stdout",
     "output_type": "stream",
     "text": [
      "\n",
      "159\n"
     ]
    },
    {
     "name": "stderr",
     "output_type": "stream",
     "text": [
      "05-25 05:47:35 [159] Lr: 0.000389, Training: 100.00%,  Loss: 0.01065, Acc: 99.67%, Recall: 99.67%, F1: 99.64%%\r"
     ]
    },
    {
     "name": "stdout",
     "output_type": "stream",
     "text": [
      "\n",
      "160\n"
     ]
    },
    {
     "name": "stderr",
     "output_type": "stream",
     "text": [
      "05-25 05:48:47 [160] Lr: 0.000389, Training: 100.00%,  Loss: 0.01237, Acc: 99.59%, Recall: 99.55%, F1: 99.55%%\r"
     ]
    },
    {
     "name": "stdout",
     "output_type": "stream",
     "text": [
      "\n"
     ]
    },
    {
     "name": "stderr",
     "output_type": "stream",
     "text": [
      "100%|███████████████████████████████████████████████████████████████████████████████████████████████████████████| 5100/5100 [01:26<00:00, 59.09it/s]\n"
     ]
    },
    {
     "name": "stdout",
     "output_type": "stream",
     "text": [
      "2024-05-25 05:50:14 160 epoch, Acc 99.59%, Recall 99.55%, F1 99.55%, Val_acc 98.22%, Best_acc 99.18%, Val_recall 99.12%, Best_recall 99.79%, Val_f1  98.12%, Best_f1 99.13%\n",
      "161\n"
     ]
    },
    {
     "name": "stderr",
     "output_type": "stream",
     "text": [
      "05-25 05:51:26 [161] Lr: 0.000377, Training: 100.00%,  Loss: 0.01023, Acc: 99.66%, Recall: 99.62%, F1: 99.64%%\r"
     ]
    },
    {
     "name": "stdout",
     "output_type": "stream",
     "text": [
      "\n",
      "162\n"
     ]
    },
    {
     "name": "stderr",
     "output_type": "stream",
     "text": [
      "05-25 05:52:38 [162] Lr: 0.000377, Training: 100.00%,  Loss: 0.00848, Acc: 99.72%, Recall: 99.74%, F1: 99.70%%\r"
     ]
    },
    {
     "name": "stdout",
     "output_type": "stream",
     "text": [
      "\n",
      "163\n"
     ]
    },
    {
     "name": "stderr",
     "output_type": "stream",
     "text": [
      "05-25 05:53:51 [163] Lr: 0.000377, Training: 100.00%,  Loss: 0.01174, Acc: 99.66%, Recall: 99.68%, F1: 99.63%%\r"
     ]
    },
    {
     "name": "stdout",
     "output_type": "stream",
     "text": [
      "\n",
      "164\n"
     ]
    },
    {
     "name": "stderr",
     "output_type": "stream",
     "text": [
      "05-25 05:55:03 [164] Lr: 0.000377, Training: 100.00%,  Loss: 0.00821, Acc: 99.72%, Recall: 99.72%, F1: 99.68%%\r"
     ]
    },
    {
     "name": "stdout",
     "output_type": "stream",
     "text": [
      "\n",
      "165\n"
     ]
    },
    {
     "name": "stderr",
     "output_type": "stream",
     "text": [
      "05-25 05:56:15 [165] Lr: 0.000377, Training: 100.00%,  Loss: 0.01062, Acc: 99.64%, Recall: 99.70%, F1: 99.61%%\r"
     ]
    },
    {
     "name": "stdout",
     "output_type": "stream",
     "text": [
      "\n"
     ]
    },
    {
     "name": "stderr",
     "output_type": "stream",
     "text": [
      "100%|███████████████████████████████████████████████████████████████████████████████████████████████████████████| 5100/5100 [01:30<00:00, 56.20it/s]\n"
     ]
    },
    {
     "name": "stdout",
     "output_type": "stream",
     "text": [
      "2024-05-25 05:57:46 165 epoch, Acc 99.64%, Recall 99.70%, F1 99.61%, Val_acc 98.92%, Best_acc 99.18%, Val_recall 99.08%, Best_recall 99.79%, Val_f1  98.86%, Best_f1 99.13%\n",
      "166\n"
     ]
    },
    {
     "name": "stderr",
     "output_type": "stream",
     "text": [
      "05-25 05:58:58 [166] Lr: 0.000366, Training: 100.00%,  Loss: 0.00937, Acc: 99.71%, Recall: 99.73%, F1: 99.68%%\r"
     ]
    },
    {
     "name": "stdout",
     "output_type": "stream",
     "text": [
      "\n",
      "167\n"
     ]
    },
    {
     "name": "stderr",
     "output_type": "stream",
     "text": [
      "05-25 06:00:11 [167] Lr: 0.000366, Training: 100.00%,  Loss: 0.00975, Acc: 99.67%, Recall: 99.71%, F1: 99.65%%\r"
     ]
    },
    {
     "name": "stdout",
     "output_type": "stream",
     "text": [
      "\n",
      "168\n"
     ]
    },
    {
     "name": "stderr",
     "output_type": "stream",
     "text": [
      "05-25 06:01:23 [168] Lr: 0.000366, Training: 100.00%,  Loss: 0.01086, Acc: 99.66%, Recall: 99.65%, F1: 99.63%%\r"
     ]
    },
    {
     "name": "stdout",
     "output_type": "stream",
     "text": [
      "\n",
      "169\n"
     ]
    },
    {
     "name": "stderr",
     "output_type": "stream",
     "text": [
      "05-25 06:02:37 [169] Lr: 0.000366, Training: 100.00%,  Loss: 0.00929, Acc: 99.64%, Recall: 99.57%, F1: 99.61%%\r"
     ]
    },
    {
     "name": "stdout",
     "output_type": "stream",
     "text": [
      "\n",
      "170\n"
     ]
    },
    {
     "name": "stderr",
     "output_type": "stream",
     "text": [
      "05-25 06:03:50 [170] Lr: 0.000366, Training: 100.00%,  Loss: 0.01057, Acc: 99.67%, Recall: 99.58%, F1: 99.64%\r"
     ]
    },
    {
     "name": "stdout",
     "output_type": "stream",
     "text": [
      "\n"
     ]
    },
    {
     "name": "stderr",
     "output_type": "stream",
     "text": [
      "100%|███████████████████████████████████████████████████████████████████████████████████████████████████████████| 5100/5100 [01:26<00:00, 59.01it/s]\n"
     ]
    },
    {
     "name": "stdout",
     "output_type": "stream",
     "text": [
      "2024-05-25 06:05:17 170 epoch, Acc 99.67%, Recall 99.58%, F1 99.64%, Val_acc 98.29%, Best_acc 99.18%, Val_recall 99.12%, Best_recall 99.79%, Val_f1  98.20%, Best_f1 99.13%\n",
      "171\n"
     ]
    },
    {
     "name": "stderr",
     "output_type": "stream",
     "text": [
      "05-25 06:06:29 [171] Lr: 0.000355, Training: 100.00%,  Loss: 0.00868, Acc: 99.68%, Recall: 99.68%, F1: 99.66%%\r"
     ]
    },
    {
     "name": "stdout",
     "output_type": "stream",
     "text": [
      "\n",
      "172\n"
     ]
    },
    {
     "name": "stderr",
     "output_type": "stream",
     "text": [
      "05-25 06:07:41 [172] Lr: 0.000355, Training: 100.00%,  Loss: 0.00875, Acc: 99.68%, Recall: 99.66%, F1: 99.65%%\r"
     ]
    },
    {
     "name": "stdout",
     "output_type": "stream",
     "text": [
      "\n",
      "173\n"
     ]
    },
    {
     "name": "stderr",
     "output_type": "stream",
     "text": [
      "05-25 06:08:53 [173] Lr: 0.000355, Training: 100.00%,  Loss: 0.00810, Acc: 99.72%, Recall: 99.73%, F1: 99.69%%\r"
     ]
    },
    {
     "name": "stdout",
     "output_type": "stream",
     "text": [
      "\n",
      "174\n"
     ]
    },
    {
     "name": "stderr",
     "output_type": "stream",
     "text": [
      "05-25 06:10:05 [174] Lr: 0.000355, Training: 100.00%,  Loss: 0.00715, Acc: 99.72%, Recall: 99.75%, F1: 99.71%%\r"
     ]
    },
    {
     "name": "stdout",
     "output_type": "stream",
     "text": [
      "\n",
      "175\n"
     ]
    },
    {
     "name": "stderr",
     "output_type": "stream",
     "text": [
      "05-25 06:11:18 [175] Lr: 0.000355, Training: 100.00%,  Loss: 0.01084, Acc: 99.65%, Recall: 99.60%, F1: 99.62%%\r"
     ]
    },
    {
     "name": "stdout",
     "output_type": "stream",
     "text": [
      "\n"
     ]
    },
    {
     "name": "stderr",
     "output_type": "stream",
     "text": [
      "100%|███████████████████████████████████████████████████████████████████████████████████████████████████████████| 5100/5100 [01:26<00:00, 59.26it/s]\n"
     ]
    },
    {
     "name": "stdout",
     "output_type": "stream",
     "text": [
      "2024-05-25 06:12:44 175 epoch, Acc 99.65%, Recall 99.60%, F1 99.62%, Val_acc 98.25%, Best_acc 99.18%, Val_recall 99.42%, Best_recall 99.79%, Val_f1  98.17%, Best_f1 99.13%\n",
      "176\n"
     ]
    },
    {
     "name": "stderr",
     "output_type": "stream",
     "text": [
      "05-25 06:13:57 [176] Lr: 0.000344, Training: 100.00%,  Loss: 0.00645, Acc: 99.78%, Recall: 99.70%, F1: 99.76%%\r"
     ]
    },
    {
     "name": "stdout",
     "output_type": "stream",
     "text": [
      "\n",
      "177\n"
     ]
    },
    {
     "name": "stderr",
     "output_type": "stream",
     "text": [
      "05-25 06:15:09 [177] Lr: 0.000344, Training: 100.00%,  Loss: 0.01094, Acc: 99.65%, Recall: 99.68%, F1: 99.62%%\r"
     ]
    },
    {
     "name": "stdout",
     "output_type": "stream",
     "text": [
      "\n",
      "178\n"
     ]
    },
    {
     "name": "stderr",
     "output_type": "stream",
     "text": [
      "05-25 06:16:21 [178] Lr: 0.000344, Training: 100.00%,  Loss: 0.00830, Acc: 99.72%, Recall: 99.70%, F1: 99.69%%\r"
     ]
    },
    {
     "name": "stdout",
     "output_type": "stream",
     "text": [
      "\n",
      "179\n"
     ]
    },
    {
     "name": "stderr",
     "output_type": "stream",
     "text": [
      "05-25 06:17:34 [179] Lr: 0.000344, Training: 100.00%,  Loss: 0.01079, Acc: 99.67%, Recall: 99.68%, F1: 99.64%\r"
     ]
    },
    {
     "name": "stdout",
     "output_type": "stream",
     "text": [
      "\n",
      "180\n"
     ]
    },
    {
     "name": "stderr",
     "output_type": "stream",
     "text": [
      "05-25 06:18:50 [180] Lr: 0.000344, Training: 100.00%,  Loss: 0.00718, Acc: 99.73%, Recall: 99.74%, F1: 99.71%%\r"
     ]
    },
    {
     "name": "stdout",
     "output_type": "stream",
     "text": [
      "\n"
     ]
    },
    {
     "name": "stderr",
     "output_type": "stream",
     "text": [
      "100%|███████████████████████████████████████████████████████████████████████████████████████████████████████████| 5100/5100 [01:26<00:00, 59.21it/s]\n"
     ]
    },
    {
     "name": "stdout",
     "output_type": "stream",
     "text": [
      "2024-05-25 06:20:16 180 epoch, Acc 99.73%, Recall 99.74%, F1 99.71%, Val_acc 98.82%, Best_acc 99.18%, Val_recall 99.12%, Best_recall 99.79%, Val_f1  98.75%, Best_f1 99.13%\n",
      "181\n"
     ]
    },
    {
     "name": "stderr",
     "output_type": "stream",
     "text": [
      "05-25 06:21:37 [181] Lr: 0.000334, Training: 100.00%,  Loss: 0.00818, Acc: 99.71%, Recall: 99.69%, F1: 99.69%%\r"
     ]
    },
    {
     "name": "stdout",
     "output_type": "stream",
     "text": [
      "\n",
      "182\n"
     ]
    },
    {
     "name": "stderr",
     "output_type": "stream",
     "text": [
      "05-25 06:22:50 [182] Lr: 0.000334, Training: 100.00%,  Loss: 0.01428, Acc: 99.69%, Recall: 99.67%, F1: 99.67%%\r"
     ]
    },
    {
     "name": "stdout",
     "output_type": "stream",
     "text": [
      "\n",
      "183\n"
     ]
    },
    {
     "name": "stderr",
     "output_type": "stream",
     "text": [
      "05-25 06:24:02 [183] Lr: 0.000334, Training: 100.00%,  Loss: 0.00799, Acc: 99.71%, Recall: 99.71%, F1: 99.69%\r"
     ]
    },
    {
     "name": "stdout",
     "output_type": "stream",
     "text": [
      "\n",
      "184\n"
     ]
    },
    {
     "name": "stderr",
     "output_type": "stream",
     "text": [
      "05-25 06:25:14 [184] Lr: 0.000334, Training: 100.00%,  Loss: 0.00915, Acc: 99.72%, Recall: 99.73%, F1: 99.70%%\r"
     ]
    },
    {
     "name": "stdout",
     "output_type": "stream",
     "text": [
      "\n",
      "185\n"
     ]
    },
    {
     "name": "stderr",
     "output_type": "stream",
     "text": [
      "05-25 06:26:28 [185] Lr: 0.000334, Training: 100.00%,  Loss: 0.00936, Acc: 99.71%, Recall: 99.71%, F1: 99.69%%\r"
     ]
    },
    {
     "name": "stdout",
     "output_type": "stream",
     "text": [
      "\n"
     ]
    },
    {
     "name": "stderr",
     "output_type": "stream",
     "text": [
      "100%|███████████████████████████████████████████████████████████████████████████████████████████████████████████| 5100/5100 [01:28<00:00, 57.93it/s]\n"
     ]
    },
    {
     "name": "stdout",
     "output_type": "stream",
     "text": [
      "2024-05-25 06:27:57 185 epoch, Acc 99.71%, Recall 99.71%, F1 99.69%, Val_acc 99.04%, Best_acc 99.18%, Val_recall 99.67%, Best_recall 99.79%, Val_f1  98.99%, Best_f1 99.13%\n",
      "186\n"
     ]
    },
    {
     "name": "stderr",
     "output_type": "stream",
     "text": [
      "05-25 06:29:09 [186] Lr: 0.000324, Training: 100.00%,  Loss: 0.01106, Acc: 99.67%, Recall: 99.73%, F1: 99.65%%\r"
     ]
    },
    {
     "name": "stdout",
     "output_type": "stream",
     "text": [
      "\n",
      "187\n"
     ]
    },
    {
     "name": "stderr",
     "output_type": "stream",
     "text": [
      "05-25 06:30:21 [187] Lr: 0.000324, Training: 100.00%,  Loss: 0.00829, Acc: 99.68%, Recall: 99.68%, F1: 99.64%%\r"
     ]
    },
    {
     "name": "stdout",
     "output_type": "stream",
     "text": [
      "\n",
      "188\n"
     ]
    },
    {
     "name": "stderr",
     "output_type": "stream",
     "text": [
      "05-25 06:31:33 [188] Lr: 0.000324, Training: 100.00%,  Loss: 0.00747, Acc: 99.73%, Recall: 99.77%, F1: 99.71%%\r"
     ]
    },
    {
     "name": "stdout",
     "output_type": "stream",
     "text": [
      "\n",
      "189\n"
     ]
    },
    {
     "name": "stderr",
     "output_type": "stream",
     "text": [
      "05-25 06:32:45 [189] Lr: 0.000324, Training: 100.00%,  Loss: 0.00569, Acc: 99.79%, Recall: 99.78%, F1: 99.77%%\r"
     ]
    },
    {
     "name": "stdout",
     "output_type": "stream",
     "text": [
      "\n",
      "190\n"
     ]
    },
    {
     "name": "stderr",
     "output_type": "stream",
     "text": [
      "05-25 06:33:57 [190] Lr: 0.000324, Training: 100.00%,  Loss: 0.00837, Acc: 99.73%, Recall: 99.76%, F1: 99.72%%\r"
     ]
    },
    {
     "name": "stdout",
     "output_type": "stream",
     "text": [
      "\n"
     ]
    },
    {
     "name": "stderr",
     "output_type": "stream",
     "text": [
      "100%|███████████████████████████████████████████████████████████████████████████████████████████████████████████| 5100/5100 [01:27<00:00, 58.28it/s]\n"
     ]
    },
    {
     "name": "stdout",
     "output_type": "stream",
     "text": [
      "2024-05-25 06:35:25 190 epoch, Acc 99.73%, Recall 99.76%, F1 99.72%, Val_acc 98.65%, Best_acc 99.18%, Val_recall 99.46%, Best_recall 99.79%, Val_f1  98.57%, Best_f1 99.13%\n",
      "191\n"
     ]
    },
    {
     "name": "stderr",
     "output_type": "stream",
     "text": [
      "05-25 06:36:37 [191] Lr: 0.000314, Training: 100.00%,  Loss: 0.00662, Acc: 99.78%, Recall: 99.76%, F1: 99.76%%\r"
     ]
    },
    {
     "name": "stdout",
     "output_type": "stream",
     "text": [
      "\n",
      "192\n"
     ]
    },
    {
     "name": "stderr",
     "output_type": "stream",
     "text": [
      "05-25 06:37:49 [192] Lr: 0.000314, Training: 100.00%,  Loss: 0.00888, Acc: 99.70%, Recall: 99.71%, F1: 99.68%\r"
     ]
    },
    {
     "name": "stdout",
     "output_type": "stream",
     "text": [
      "\n",
      "193\n"
     ]
    },
    {
     "name": "stderr",
     "output_type": "stream",
     "text": [
      "05-25 06:39:03 [193] Lr: 0.000314, Training: 100.00%,  Loss: 0.00696, Acc: 99.77%, Recall: 99.78%, F1: 99.76%%\r"
     ]
    },
    {
     "name": "stdout",
     "output_type": "stream",
     "text": [
      "\n",
      "194\n"
     ]
    },
    {
     "name": "stderr",
     "output_type": "stream",
     "text": [
      "05-25 06:40:16 [194] Lr: 0.000314, Training: 100.00%,  Loss: 0.00802, Acc: 99.70%, Recall: 99.69%, F1: 99.68%%\r"
     ]
    },
    {
     "name": "stdout",
     "output_type": "stream",
     "text": [
      "\n",
      "195\n"
     ]
    },
    {
     "name": "stderr",
     "output_type": "stream",
     "text": [
      "05-25 06:41:28 [195] Lr: 0.000314, Training: 100.00%,  Loss: 0.00696, Acc: 99.73%, Recall: 99.70%, F1: 99.71%%\r"
     ]
    },
    {
     "name": "stdout",
     "output_type": "stream",
     "text": [
      "\n"
     ]
    },
    {
     "name": "stderr",
     "output_type": "stream",
     "text": [
      "100%|███████████████████████████████████████████████████████████████████████████████████████████████████████████| 5100/5100 [01:25<00:00, 59.49it/s]\n"
     ]
    },
    {
     "name": "stdout",
     "output_type": "stream",
     "text": [
      "2024-05-25 06:42:55 195 epoch, Acc 99.73%, Recall 99.70%, F1 99.71%, Val_acc 99.18%, Best_acc 99.18%, Val_recall 99.58%, Best_recall 99.79%, Val_f1  99.13%, Best_f1 99.13%\n",
      "196\n"
     ]
    },
    {
     "name": "stderr",
     "output_type": "stream",
     "text": [
      "05-25 06:44:07 [196] Lr: 0.000305, Training: 100.00%,  Loss: 0.00484, Acc: 99.82%, Recall: 99.80%, F1: 99.81%\r"
     ]
    },
    {
     "name": "stdout",
     "output_type": "stream",
     "text": [
      "\n",
      "197\n"
     ]
    },
    {
     "name": "stderr",
     "output_type": "stream",
     "text": [
      "05-25 06:45:19 [197] Lr: 0.000305, Training: 100.00%,  Loss: 0.00739, Acc: 99.77%, Recall: 99.76%, F1: 99.75%%\r"
     ]
    },
    {
     "name": "stdout",
     "output_type": "stream",
     "text": [
      "\n",
      "198\n"
     ]
    },
    {
     "name": "stderr",
     "output_type": "stream",
     "text": [
      "05-25 06:46:31 [198] Lr: 0.000305, Training: 100.00%,  Loss: 0.00659, Acc: 99.73%, Recall: 99.70%, F1: 99.71%%\r"
     ]
    },
    {
     "name": "stdout",
     "output_type": "stream",
     "text": [
      "\n",
      "199\n"
     ]
    },
    {
     "name": "stderr",
     "output_type": "stream",
     "text": [
      "05-25 06:47:44 [199] Lr: 0.000305, Training: 100.00%,  Loss: 0.00787, Acc: 99.74%, Recall: 99.75%, F1: 99.71%%\r"
     ]
    },
    {
     "name": "stdout",
     "output_type": "stream",
     "text": [
      "\n",
      "200\n"
     ]
    },
    {
     "name": "stderr",
     "output_type": "stream",
     "text": [
      "05-25 06:48:57 [200] Lr: 0.000305, Training: 100.00%,  Loss: 0.00447, Acc: 99.84%, Recall: 99.85%, F1: 99.83%%\r"
     ]
    },
    {
     "name": "stdout",
     "output_type": "stream",
     "text": [
      "\n"
     ]
    },
    {
     "name": "stderr",
     "output_type": "stream",
     "text": [
      "100%|███████████████████████████████████████████████████████████████████████████████████████████████████████████| 5100/5100 [01:27<00:00, 58.02it/s]\n"
     ]
    },
    {
     "name": "stdout",
     "output_type": "stream",
     "text": [
      "2024-05-25 06:50:25 200 epoch, Acc 99.84%, Recall 99.85%, F1 99.83%, Val_acc 98.71%, Best_acc 99.18%, Val_recall 98.96%, Best_recall 99.79%, Val_f1  98.63%, Best_f1 99.13%\n",
      "201\n"
     ]
    },
    {
     "name": "stderr",
     "output_type": "stream",
     "text": [
      "05-25 06:51:37 [201] Lr: 0.000296, Training: 100.00%,  Loss: 0.00734, Acc: 99.77%, Recall: 99.77%, F1: 99.75%%\r"
     ]
    },
    {
     "name": "stdout",
     "output_type": "stream",
     "text": [
      "\n",
      "202\n"
     ]
    },
    {
     "name": "stderr",
     "output_type": "stream",
     "text": [
      "05-25 06:52:50 [202] Lr: 0.000296, Training: 100.00%,  Loss: 0.00657, Acc: 99.76%, Recall: 99.77%, F1: 99.73%%\r"
     ]
    },
    {
     "name": "stdout",
     "output_type": "stream",
     "text": [
      "\n",
      "203\n"
     ]
    },
    {
     "name": "stderr",
     "output_type": "stream",
     "text": [
      "05-25 06:54:02 [203] Lr: 0.000296, Training: 100.00%,  Loss: 0.00774, Acc: 99.72%, Recall: 99.67%, F1: 99.69%%\r"
     ]
    },
    {
     "name": "stdout",
     "output_type": "stream",
     "text": [
      "\n",
      "204\n"
     ]
    },
    {
     "name": "stderr",
     "output_type": "stream",
     "text": [
      "05-25 06:55:15 [204] Lr: 0.000296, Training: 100.00%,  Loss: 0.00692, Acc: 99.74%, Recall: 99.71%, F1: 99.72%%\r"
     ]
    },
    {
     "name": "stdout",
     "output_type": "stream",
     "text": [
      "\n",
      "205\n"
     ]
    },
    {
     "name": "stderr",
     "output_type": "stream",
     "text": [
      "05-25 06:56:27 [205] Lr: 0.000296, Training: 100.00%,  Loss: 0.00692, Acc: 99.81%, Recall: 99.82%, F1: 99.79%%\r"
     ]
    },
    {
     "name": "stdout",
     "output_type": "stream",
     "text": [
      "\n"
     ]
    },
    {
     "name": "stderr",
     "output_type": "stream",
     "text": [
      "100%|███████████████████████████████████████████████████████████████████████████████████████████████████████████| 5100/5100 [01:29<00:00, 57.08it/s]\n"
     ]
    },
    {
     "name": "stdout",
     "output_type": "stream",
     "text": [
      "2024-05-25 06:57:57 205 epoch, Acc 99.81%, Recall 99.82%, F1 99.79%, Val_acc 97.84%, Best_acc 99.18%, Val_recall 99.25%, Best_recall 99.79%, Val_f1  97.74%, Best_f1 99.13%\n",
      "206\n"
     ]
    },
    {
     "name": "stderr",
     "output_type": "stream",
     "text": [
      "05-25 06:59:09 [206] Lr: 0.000287, Training: 100.00%,  Loss: 0.00598, Acc: 99.83%, Recall: 99.86%, F1: 99.82%%\r"
     ]
    },
    {
     "name": "stdout",
     "output_type": "stream",
     "text": [
      "\n",
      "207\n"
     ]
    },
    {
     "name": "stderr",
     "output_type": "stream",
     "text": [
      "05-25 07:00:22 [207] Lr: 0.000287, Training: 100.00%,  Loss: 0.00652, Acc: 99.75%, Recall: 99.71%, F1: 99.73%%\r"
     ]
    },
    {
     "name": "stdout",
     "output_type": "stream",
     "text": [
      "\n",
      "208\n"
     ]
    },
    {
     "name": "stderr",
     "output_type": "stream",
     "text": [
      "05-25 07:01:34 [208] Lr: 0.000287, Training: 100.00%,  Loss: 0.00626, Acc: 99.80%, Recall: 99.78%, F1: 99.78%%\r"
     ]
    },
    {
     "name": "stdout",
     "output_type": "stream",
     "text": [
      "\n",
      "209\n"
     ]
    },
    {
     "name": "stderr",
     "output_type": "stream",
     "text": [
      "05-25 07:02:46 [209] Lr: 0.000287, Training: 100.00%,  Loss: 0.00689, Acc: 99.82%, Recall: 99.81%, F1: 99.81%%\r"
     ]
    },
    {
     "name": "stdout",
     "output_type": "stream",
     "text": [
      "\n",
      "210\n"
     ]
    },
    {
     "name": "stderr",
     "output_type": "stream",
     "text": [
      "05-25 07:03:58 [210] Lr: 0.000287, Training: 100.00%,  Loss: 0.00831, Acc: 99.73%, Recall: 99.73%, F1: 99.71%\r"
     ]
    },
    {
     "name": "stdout",
     "output_type": "stream",
     "text": [
      "\n"
     ]
    },
    {
     "name": "stderr",
     "output_type": "stream",
     "text": [
      "100%|███████████████████████████████████████████████████████████████████████████████████████████████████████████| 5100/5100 [01:25<00:00, 59.62it/s]\n"
     ]
    },
    {
     "name": "stdout",
     "output_type": "stream",
     "text": [
      "2024-05-25 07:05:24 210 epoch, Acc 99.73%, Recall 99.73%, F1 99.71%, Val_acc 98.71%, Best_acc 99.18%, Val_recall 99.50%, Best_recall 99.79%, Val_f1  98.64%, Best_f1 99.13%\n",
      "211\n"
     ]
    },
    {
     "name": "stderr",
     "output_type": "stream",
     "text": [
      "05-25 07:06:36 [211] Lr: 0.000278, Training: 100.00%,  Loss: 0.00673, Acc: 99.77%, Recall: 99.78%, F1: 99.76%%\r"
     ]
    },
    {
     "name": "stdout",
     "output_type": "stream",
     "text": [
      "\n",
      "212\n"
     ]
    },
    {
     "name": "stderr",
     "output_type": "stream",
     "text": [
      "05-25 07:07:48 [212] Lr: 0.000278, Training: 100.00%,  Loss: 0.00710, Acc: 99.74%, Recall: 99.74%, F1: 99.73%%\r"
     ]
    },
    {
     "name": "stdout",
     "output_type": "stream",
     "text": [
      "\n",
      "213\n"
     ]
    },
    {
     "name": "stderr",
     "output_type": "stream",
     "text": [
      "05-25 07:09:01 [213] Lr: 0.000278, Training: 100.00%,  Loss: 0.00639, Acc: 99.81%, Recall: 99.78%, F1: 99.80%%\r"
     ]
    },
    {
     "name": "stdout",
     "output_type": "stream",
     "text": [
      "\n",
      "214\n"
     ]
    },
    {
     "name": "stderr",
     "output_type": "stream",
     "text": [
      "05-25 07:10:13 [214] Lr: 0.000278, Training: 100.00%,  Loss: 0.00531, Acc: 99.83%, Recall: 99.78%, F1: 99.81%%\r"
     ]
    },
    {
     "name": "stdout",
     "output_type": "stream",
     "text": [
      "\n",
      "215\n"
     ]
    },
    {
     "name": "stderr",
     "output_type": "stream",
     "text": [
      "05-25 07:11:25 [215] Lr: 0.000278, Training: 100.00%,  Loss: 0.00675, Acc: 99.75%, Recall: 99.77%, F1: 99.73%\r"
     ]
    },
    {
     "name": "stdout",
     "output_type": "stream",
     "text": [
      "\n"
     ]
    },
    {
     "name": "stderr",
     "output_type": "stream",
     "text": [
      "100%|███████████████████████████████████████████████████████████████████████████████████████████████████████████| 5100/5100 [01:28<00:00, 57.88it/s]\n"
     ]
    },
    {
     "name": "stdout",
     "output_type": "stream",
     "text": [
      "2024-05-25 07:12:54 215 epoch, Acc 99.75%, Recall 99.77%, F1 99.73%, Val_acc 98.47%, Best_acc 99.18%, Val_recall 99.21%, Best_recall 99.79%, Val_f1  98.39%, Best_f1 99.13%\n",
      "216\n"
     ]
    },
    {
     "name": "stderr",
     "output_type": "stream",
     "text": [
      "05-25 07:14:06 [216] Lr: 0.000270, Training: 100.00%,  Loss: 0.00540, Acc: 99.79%, Recall: 99.77%, F1: 99.78%%\r"
     ]
    },
    {
     "name": "stdout",
     "output_type": "stream",
     "text": [
      "\n",
      "217\n"
     ]
    },
    {
     "name": "stderr",
     "output_type": "stream",
     "text": [
      "05-25 07:15:18 [217] Lr: 0.000270, Training: 100.00%,  Loss: 0.00490, Acc: 99.80%, Recall: 99.80%, F1: 99.79%%\r"
     ]
    },
    {
     "name": "stdout",
     "output_type": "stream",
     "text": [
      "\n",
      "218\n"
     ]
    },
    {
     "name": "stderr",
     "output_type": "stream",
     "text": [
      "05-25 07:16:30 [218] Lr: 0.000270, Training: 100.00%,  Loss: 0.00566, Acc: 99.81%, Recall: 99.78%, F1: 99.80%%\r"
     ]
    },
    {
     "name": "stdout",
     "output_type": "stream",
     "text": [
      "\n",
      "219\n"
     ]
    },
    {
     "name": "stderr",
     "output_type": "stream",
     "text": [
      "05-25 07:17:42 [219] Lr: 0.000270, Training: 100.00%,  Loss: 0.00357, Acc: 99.88%, Recall: 99.91%, F1: 99.86%%\r"
     ]
    },
    {
     "name": "stdout",
     "output_type": "stream",
     "text": [
      "\n",
      "220\n"
     ]
    },
    {
     "name": "stderr",
     "output_type": "stream",
     "text": [
      "05-25 07:18:56 [220] Lr: 0.000270, Training: 100.00%,  Loss: 0.00720, Acc: 99.73%, Recall: 99.71%, F1: 99.71%\r"
     ]
    },
    {
     "name": "stdout",
     "output_type": "stream",
     "text": [
      "\n"
     ]
    },
    {
     "name": "stderr",
     "output_type": "stream",
     "text": [
      "100%|███████████████████████████████████████████████████████████████████████████████████████████████████████████| 5100/5100 [01:26<00:00, 58.96it/s]\n"
     ]
    },
    {
     "name": "stdout",
     "output_type": "stream",
     "text": [
      "2024-05-25 07:20:23 220 epoch, Acc 99.73%, Recall 99.71%, F1 99.71%, Val_acc 99.06%, Best_acc 99.18%, Val_recall 99.12%, Best_recall 99.79%, Val_f1  99.00%, Best_f1 99.13%\n",
      "221\n"
     ]
    },
    {
     "name": "stderr",
     "output_type": "stream",
     "text": [
      "05-25 07:21:39 [221] Lr: 0.000262, Training: 100.00%,  Loss: 0.00406, Acc: 99.87%, Recall: 99.87%, F1: 99.87%%\r"
     ]
    },
    {
     "name": "stdout",
     "output_type": "stream",
     "text": [
      "\n",
      "222\n"
     ]
    },
    {
     "name": "stderr",
     "output_type": "stream",
     "text": [
      "05-25 07:22:55 [222] Lr: 0.000262, Training: 100.00%,  Loss: 0.00574, Acc: 99.76%, Recall: 99.74%, F1: 99.75%\r"
     ]
    },
    {
     "name": "stdout",
     "output_type": "stream",
     "text": [
      "\n",
      "223\n"
     ]
    },
    {
     "name": "stderr",
     "output_type": "stream",
     "text": [
      "05-25 07:24:07 [223] Lr: 0.000262, Training: 100.00%,  Loss: 0.00610, Acc: 99.82%, Recall: 99.81%, F1: 99.80%0%\r"
     ]
    },
    {
     "name": "stdout",
     "output_type": "stream",
     "text": [
      "\n",
      "224\n"
     ]
    },
    {
     "name": "stderr",
     "output_type": "stream",
     "text": [
      "05-25 07:25:20 [224] Lr: 0.000262, Training: 100.00%,  Loss: 0.00685, Acc: 99.76%, Recall: 99.76%, F1: 99.75%\r"
     ]
    },
    {
     "name": "stdout",
     "output_type": "stream",
     "text": [
      "\n",
      "225\n"
     ]
    },
    {
     "name": "stderr",
     "output_type": "stream",
     "text": [
      "05-25 07:26:32 [225] Lr: 0.000262, Training: 100.00%,  Loss: 0.00585, Acc: 99.78%, Recall: 99.79%, F1: 99.77%%\r"
     ]
    },
    {
     "name": "stdout",
     "output_type": "stream",
     "text": [
      "\n"
     ]
    },
    {
     "name": "stderr",
     "output_type": "stream",
     "text": [
      "100%|███████████████████████████████████████████████████████████████████████████████████████████████████████████| 5100/5100 [01:25<00:00, 59.47it/s]\n"
     ]
    },
    {
     "name": "stdout",
     "output_type": "stream",
     "text": [
      "2024-05-25 07:27:58 225 epoch, Acc 99.78%, Recall 99.79%, F1 99.77%, Val_acc 99.12%, Best_acc 99.18%, Val_recall 99.00%, Best_recall 99.79%, Val_f1  99.06%, Best_f1 99.13%\n",
      "226\n"
     ]
    },
    {
     "name": "stderr",
     "output_type": "stream",
     "text": [
      "05-25 07:29:11 [226] Lr: 0.000254, Training: 100.00%,  Loss: 0.00516, Acc: 99.82%, Recall: 99.82%, F1: 99.81%%\r"
     ]
    },
    {
     "name": "stdout",
     "output_type": "stream",
     "text": [
      "\n",
      "227\n"
     ]
    },
    {
     "name": "stderr",
     "output_type": "stream",
     "text": [
      "05-25 07:30:23 [227] Lr: 0.000254, Training: 100.00%,  Loss: 0.00498, Acc: 99.82%, Recall: 99.82%, F1: 99.81%%\r"
     ]
    },
    {
     "name": "stdout",
     "output_type": "stream",
     "text": [
      "\n",
      "228\n"
     ]
    },
    {
     "name": "stderr",
     "output_type": "stream",
     "text": [
      "05-25 07:31:35 [228] Lr: 0.000254, Training: 100.00%,  Loss: 0.00600, Acc: 99.80%, Recall: 99.76%, F1: 99.78%\r"
     ]
    },
    {
     "name": "stdout",
     "output_type": "stream",
     "text": [
      "\n",
      "229\n"
     ]
    },
    {
     "name": "stderr",
     "output_type": "stream",
     "text": [
      "05-25 07:32:48 [229] Lr: 0.000254, Training: 100.00%,  Loss: 0.00654, Acc: 99.79%, Recall: 99.76%, F1: 99.78%%\r"
     ]
    },
    {
     "name": "stdout",
     "output_type": "stream",
     "text": [
      "\n",
      "230\n"
     ]
    },
    {
     "name": "stderr",
     "output_type": "stream",
     "text": [
      "05-25 07:34:00 [230] Lr: 0.000254, Training: 100.00%,  Loss: 0.00544, Acc: 99.81%, Recall: 99.81%, F1: 99.80%%\r"
     ]
    },
    {
     "name": "stdout",
     "output_type": "stream",
     "text": [
      "\n"
     ]
    },
    {
     "name": "stderr",
     "output_type": "stream",
     "text": [
      "100%|███████████████████████████████████████████████████████████████████████████████████████████████████████████| 5100/5100 [01:26<00:00, 58.89it/s]\n"
     ]
    },
    {
     "name": "stdout",
     "output_type": "stream",
     "text": [
      "2024-05-25 07:35:27 230 epoch, Acc 99.81%, Recall 99.81%, F1 99.80%, Val_acc 99.14%, Best_acc 99.18%, Val_recall 99.54%, Best_recall 99.79%, Val_f1  99.09%, Best_f1 99.13%\n",
      "231\n"
     ]
    },
    {
     "name": "stderr",
     "output_type": "stream",
     "text": [
      "05-25 07:36:39 [231] Lr: 0.000246, Training: 100.00%,  Loss: 0.00616, Acc: 99.78%, Recall: 99.75%, F1: 99.77%%\r"
     ]
    },
    {
     "name": "stdout",
     "output_type": "stream",
     "text": [
      "\n",
      "232\n"
     ]
    },
    {
     "name": "stderr",
     "output_type": "stream",
     "text": [
      "05-25 07:37:52 [232] Lr: 0.000246, Training: 100.00%,  Loss: 0.00512, Acc: 99.82%, Recall: 99.83%, F1: 99.80%%\r"
     ]
    },
    {
     "name": "stdout",
     "output_type": "stream",
     "text": [
      "\n",
      "233\n"
     ]
    },
    {
     "name": "stderr",
     "output_type": "stream",
     "text": [
      "05-25 07:39:04 [233] Lr: 0.000246, Training: 100.00%,  Loss: 0.00597, Acc: 99.81%, Recall: 99.81%, F1: 99.79%%\r"
     ]
    },
    {
     "name": "stdout",
     "output_type": "stream",
     "text": [
      "\n",
      "234\n"
     ]
    },
    {
     "name": "stderr",
     "output_type": "stream",
     "text": [
      "05-25 07:40:16 [234] Lr: 0.000246, Training: 100.00%,  Loss: 0.00641, Acc: 99.78%, Recall: 99.77%, F1: 99.77%%\r"
     ]
    },
    {
     "name": "stdout",
     "output_type": "stream",
     "text": [
      "\n",
      "235\n"
     ]
    },
    {
     "name": "stderr",
     "output_type": "stream",
     "text": [
      "05-25 07:41:29 [235] Lr: 0.000246, Training: 100.00%,  Loss: 0.00469, Acc: 99.89%, Recall: 99.90%, F1: 99.88%%\r"
     ]
    },
    {
     "name": "stdout",
     "output_type": "stream",
     "text": [
      "\n"
     ]
    },
    {
     "name": "stderr",
     "output_type": "stream",
     "text": [
      "100%|███████████████████████████████████████████████████████████████████████████████████████████████████████████| 5100/5100 [01:28<00:00, 57.79it/s]\n"
     ]
    },
    {
     "name": "stdout",
     "output_type": "stream",
     "text": [
      "2024-05-25 07:42:58 235 epoch, Acc 99.89%, Recall 99.90%, F1 99.88%, Val_acc 99.06%, Best_acc 99.18%, Val_recall 99.21%, Best_recall 99.79%, Val_f1  99.00%, Best_f1 99.13%\n",
      "236\n"
     ]
    },
    {
     "name": "stderr",
     "output_type": "stream",
     "text": [
      "05-25 07:44:10 [236] Lr: 0.000239, Training: 100.00%,  Loss: 0.00625, Acc: 99.82%, Recall: 99.80%, F1: 99.82%%\r"
     ]
    },
    {
     "name": "stdout",
     "output_type": "stream",
     "text": [
      "\n",
      "237\n"
     ]
    },
    {
     "name": "stderr",
     "output_type": "stream",
     "text": [
      "05-25 07:45:23 [237] Lr: 0.000239, Training: 100.00%,  Loss: 0.00401, Acc: 99.84%, Recall: 99.86%, F1: 99.84%\r"
     ]
    },
    {
     "name": "stdout",
     "output_type": "stream",
     "text": [
      "\n",
      "238\n"
     ]
    },
    {
     "name": "stderr",
     "output_type": "stream",
     "text": [
      "05-25 07:46:35 [238] Lr: 0.000239, Training: 100.00%,  Loss: 0.00366, Acc: 99.86%, Recall: 99.85%, F1: 99.84%%\r"
     ]
    },
    {
     "name": "stdout",
     "output_type": "stream",
     "text": [
      "\n",
      "239\n"
     ]
    },
    {
     "name": "stderr",
     "output_type": "stream",
     "text": [
      "05-25 07:47:47 [239] Lr: 0.000239, Training: 100.00%,  Loss: 0.00595, Acc: 99.81%, Recall: 99.79%, F1: 99.80%%\r"
     ]
    },
    {
     "name": "stdout",
     "output_type": "stream",
     "text": [
      "\n",
      "240\n"
     ]
    },
    {
     "name": "stderr",
     "output_type": "stream",
     "text": [
      "05-25 07:49:00 [240] Lr: 0.000239, Training: 100.00%,  Loss: 0.00500, Acc: 99.82%, Recall: 99.84%, F1: 99.81%%\r"
     ]
    },
    {
     "name": "stdout",
     "output_type": "stream",
     "text": [
      "\n"
     ]
    },
    {
     "name": "stderr",
     "output_type": "stream",
     "text": [
      "100%|███████████████████████████████████████████████████████████████████████████████████████████████████████████| 5100/5100 [01:28<00:00, 57.66it/s]\n"
     ]
    },
    {
     "name": "stdout",
     "output_type": "stream",
     "text": [
      "2024-05-25 07:50:29 240 epoch, Acc 99.82%, Recall 99.84%, F1 99.81%, Val_acc 98.92%, Best_acc 99.18%, Val_recall 99.12%, Best_recall 99.79%, Val_f1  98.86%, Best_f1 99.13%\n",
      "241\n"
     ]
    },
    {
     "name": "stderr",
     "output_type": "stream",
     "text": [
      "05-25 07:51:41 [241] Lr: 0.000232, Training: 100.00%,  Loss: 0.00446, Acc: 99.84%, Recall: 99.85%, F1: 99.83%\r"
     ]
    },
    {
     "name": "stdout",
     "output_type": "stream",
     "text": [
      "\n",
      "242\n"
     ]
    },
    {
     "name": "stderr",
     "output_type": "stream",
     "text": [
      "05-25 07:52:54 [242] Lr: 0.000232, Training: 100.00%,  Loss: 0.00449, Acc: 99.87%, Recall: 99.86%, F1: 99.86%%\r"
     ]
    },
    {
     "name": "stdout",
     "output_type": "stream",
     "text": [
      "\n",
      "243\n"
     ]
    },
    {
     "name": "stderr",
     "output_type": "stream",
     "text": [
      "05-25 07:54:06 [243] Lr: 0.000232, Training: 100.00%,  Loss: 0.00577, Acc: 99.80%, Recall: 99.81%, F1: 99.78%%\r"
     ]
    },
    {
     "name": "stdout",
     "output_type": "stream",
     "text": [
      "\n",
      "244\n"
     ]
    },
    {
     "name": "stderr",
     "output_type": "stream",
     "text": [
      "05-25 07:55:18 [244] Lr: 0.000232, Training: 100.00%,  Loss: 0.00474, Acc: 99.80%, Recall: 99.83%, F1: 99.79%%\r"
     ]
    },
    {
     "name": "stdout",
     "output_type": "stream",
     "text": [
      "\n",
      "245\n"
     ]
    },
    {
     "name": "stderr",
     "output_type": "stream",
     "text": [
      "05-25 07:56:30 [245] Lr: 0.000232, Training: 100.00%,  Loss: 0.00265, Acc: 99.92%, Recall: 99.91%, F1: 99.91%%\r"
     ]
    },
    {
     "name": "stdout",
     "output_type": "stream",
     "text": [
      "\n"
     ]
    },
    {
     "name": "stderr",
     "output_type": "stream",
     "text": [
      "100%|███████████████████████████████████████████████████████████████████████████████████████████████████████████| 5100/5100 [01:28<00:00, 57.66it/s]\n"
     ]
    },
    {
     "name": "stdout",
     "output_type": "stream",
     "text": [
      "2024-05-25 07:57:59 245 epoch, Acc 99.92%, Recall 99.91%, F1 99.91%, Val_acc 99.14%, Best_acc 99.18%, Val_recall 99.33%, Best_recall 99.79%, Val_f1  99.08%, Best_f1 99.13%\n",
      "246\n"
     ]
    },
    {
     "name": "stderr",
     "output_type": "stream",
     "text": [
      "05-25 07:59:11 [246] Lr: 0.000225, Training: 100.00%,  Loss: 0.00535, Acc: 99.79%, Recall: 99.77%, F1: 99.77%%\r"
     ]
    },
    {
     "name": "stdout",
     "output_type": "stream",
     "text": [
      "\n",
      "247\n"
     ]
    },
    {
     "name": "stderr",
     "output_type": "stream",
     "text": [
      "05-25 08:00:25 [247] Lr: 0.000225, Training: 100.00%,  Loss: 0.00391, Acc: 99.86%, Recall: 99.87%, F1: 99.85%0%\r"
     ]
    },
    {
     "name": "stdout",
     "output_type": "stream",
     "text": [
      "\n",
      "248\n"
     ]
    },
    {
     "name": "stderr",
     "output_type": "stream",
     "text": [
      "05-25 08:01:38 [248] Lr: 0.000225, Training: 100.00%,  Loss: 0.00377, Acc: 99.85%, Recall: 99.86%, F1: 99.83%%\r"
     ]
    },
    {
     "name": "stdout",
     "output_type": "stream",
     "text": [
      "\n",
      "249\n"
     ]
    },
    {
     "name": "stderr",
     "output_type": "stream",
     "text": [
      "05-25 08:02:52 [249] Lr: 0.000225, Training: 100.00%,  Loss: 0.00515, Acc: 99.82%, Recall: 99.83%, F1: 99.80%%\r"
     ]
    },
    {
     "name": "stdout",
     "output_type": "stream",
     "text": [
      "\n",
      "250\n"
     ]
    },
    {
     "name": "stderr",
     "output_type": "stream",
     "text": [
      "05-25 08:04:05 [250] Lr: 0.000225, Training: 100.00%,  Loss: 0.00595, Acc: 99.84%, Recall: 99.80%, F1: 99.83%\r"
     ]
    },
    {
     "name": "stdout",
     "output_type": "stream",
     "text": [
      "\n"
     ]
    },
    {
     "name": "stderr",
     "output_type": "stream",
     "text": [
      "100%|███████████████████████████████████████████████████████████████████████████████████████████████████████████| 5100/5100 [01:25<00:00, 59.41it/s]\n"
     ]
    },
    {
     "name": "stdout",
     "output_type": "stream",
     "text": [
      "2024-05-25 08:05:31 250 epoch, Acc 99.84%, Recall 99.80%, F1 99.83%, Val_acc 98.80%, Best_acc 99.18%, Val_recall 99.17%, Best_recall 99.79%, Val_f1  98.73%, Best_f1 99.13%\n",
      "251\n"
     ]
    },
    {
     "name": "stderr",
     "output_type": "stream",
     "text": [
      "05-25 08:06:46 [251] Lr: 0.000218, Training: 100.00%,  Loss: 0.00357, Acc: 99.87%, Recall: 99.85%, F1: 99.85%%\r"
     ]
    },
    {
     "name": "stdout",
     "output_type": "stream",
     "text": [
      "\n",
      "252\n"
     ]
    },
    {
     "name": "stderr",
     "output_type": "stream",
     "text": [
      "05-25 08:07:59 [252] Lr: 0.000218, Training: 100.00%,  Loss: 0.00640, Acc: 99.77%, Recall: 99.76%, F1: 99.75%%\r"
     ]
    },
    {
     "name": "stdout",
     "output_type": "stream",
     "text": [
      "\n",
      "253\n"
     ]
    },
    {
     "name": "stderr",
     "output_type": "stream",
     "text": [
      "05-25 08:09:11 [253] Lr: 0.000218, Training: 100.00%,  Loss: 0.00372, Acc: 99.86%, Recall: 99.83%, F1: 99.85%%\r"
     ]
    },
    {
     "name": "stdout",
     "output_type": "stream",
     "text": [
      "\n",
      "254\n"
     ]
    },
    {
     "name": "stderr",
     "output_type": "stream",
     "text": [
      "05-25 08:10:23 [254] Lr: 0.000218, Training: 100.00%,  Loss: 0.00318, Acc: 99.85%, Recall: 99.82%, F1: 99.85%%\r"
     ]
    },
    {
     "name": "stdout",
     "output_type": "stream",
     "text": [
      "\n",
      "255\n"
     ]
    },
    {
     "name": "stderr",
     "output_type": "stream",
     "text": [
      "05-25 08:11:36 [255] Lr: 0.000218, Training: 100.00%,  Loss: 0.00405, Acc: 99.83%, Recall: 99.82%, F1: 99.82%%\r"
     ]
    },
    {
     "name": "stdout",
     "output_type": "stream",
     "text": [
      "\n"
     ]
    },
    {
     "name": "stderr",
     "output_type": "stream",
     "text": [
      "100%|███████████████████████████████████████████████████████████████████████████████████████████████████████████| 5100/5100 [01:25<00:00, 59.30it/s]\n"
     ]
    },
    {
     "name": "stdout",
     "output_type": "stream",
     "text": [
      "2024-05-25 08:13:02 255 epoch, Acc 99.83%, Recall 99.82%, F1 99.82%, Val_acc 98.69%, Best_acc 99.18%, Val_recall 99.46%, Best_recall 99.79%, Val_f1  98.61%, Best_f1 99.13%\n",
      "256\n"
     ]
    },
    {
     "name": "stderr",
     "output_type": "stream",
     "text": [
      "05-25 08:14:15 [256] Lr: 0.000212, Training: 100.00%,  Loss: 0.00610, Acc: 99.82%, Recall: 99.80%, F1: 99.81%%\r"
     ]
    },
    {
     "name": "stdout",
     "output_type": "stream",
     "text": [
      "\n",
      "257\n"
     ]
    },
    {
     "name": "stderr",
     "output_type": "stream",
     "text": [
      "05-25 08:15:27 [257] Lr: 0.000212, Training: 100.00%,  Loss: 0.00563, Acc: 99.80%, Recall: 99.79%, F1: 99.79%%\r"
     ]
    },
    {
     "name": "stdout",
     "output_type": "stream",
     "text": [
      "\n",
      "258\n"
     ]
    },
    {
     "name": "stderr",
     "output_type": "stream",
     "text": [
      "05-25 08:16:39 [258] Lr: 0.000212, Training: 100.00%,  Loss: 0.00350, Acc: 99.85%, Recall: 99.84%, F1: 99.84%%\r"
     ]
    },
    {
     "name": "stdout",
     "output_type": "stream",
     "text": [
      "\n",
      "259\n"
     ]
    },
    {
     "name": "stderr",
     "output_type": "stream",
     "text": [
      "05-25 08:17:52 [259] Lr: 0.000212, Training: 100.00%,  Loss: 0.00477, Acc: 99.88%, Recall: 99.87%, F1: 99.86%%\r"
     ]
    },
    {
     "name": "stdout",
     "output_type": "stream",
     "text": [
      "\n",
      "260\n"
     ]
    },
    {
     "name": "stderr",
     "output_type": "stream",
     "text": [
      "05-25 08:19:04 [260] Lr: 0.000212, Training: 100.00%,  Loss: 0.00299, Acc: 99.91%, Recall: 99.88%, F1: 99.90%%\r"
     ]
    },
    {
     "name": "stdout",
     "output_type": "stream",
     "text": [
      "\n"
     ]
    },
    {
     "name": "stderr",
     "output_type": "stream",
     "text": [
      "100%|███████████████████████████████████████████████████████████████████████████████████████████████████████████| 5100/5100 [01:26<00:00, 59.08it/s]\n"
     ]
    },
    {
     "name": "stdout",
     "output_type": "stream",
     "text": [
      "2024-05-25 08:20:31 260 epoch, Acc 99.91%, Recall 99.88%, F1 99.90%, Val_acc 97.82%, Best_acc 99.18%, Val_recall 99.37%, Best_recall 99.79%, Val_f1  97.72%, Best_f1 99.13%\n",
      "261\n"
     ]
    },
    {
     "name": "stderr",
     "output_type": "stream",
     "text": [
      "05-25 08:21:45 [261] Lr: 0.000205, Training: 100.00%,  Loss: 0.00441, Acc: 99.81%, Recall: 99.81%, F1: 99.79%%\r"
     ]
    },
    {
     "name": "stdout",
     "output_type": "stream",
     "text": [
      "\n",
      "262\n"
     ]
    },
    {
     "name": "stderr",
     "output_type": "stream",
     "text": [
      "05-25 08:22:58 [262] Lr: 0.000205, Training: 100.00%,  Loss: 0.00345, Acc: 99.87%, Recall: 99.87%, F1: 99.87%%\r"
     ]
    },
    {
     "name": "stdout",
     "output_type": "stream",
     "text": [
      "\n",
      "263\n"
     ]
    },
    {
     "name": "stderr",
     "output_type": "stream",
     "text": [
      "05-25 08:24:11 [263] Lr: 0.000205, Training: 100.00%,  Loss: 0.00416, Acc: 99.87%, Recall: 99.87%, F1: 99.86%%\r"
     ]
    },
    {
     "name": "stdout",
     "output_type": "stream",
     "text": [
      "\n",
      "264\n"
     ]
    },
    {
     "name": "stderr",
     "output_type": "stream",
     "text": [
      "05-25 08:25:23 [264] Lr: 0.000205, Training: 100.00%,  Loss: 0.00452, Acc: 99.84%, Recall: 99.83%, F1: 99.82%%\r"
     ]
    },
    {
     "name": "stdout",
     "output_type": "stream",
     "text": [
      "\n",
      "265\n"
     ]
    },
    {
     "name": "stderr",
     "output_type": "stream",
     "text": [
      "05-25 08:26:36 [265] Lr: 0.000205, Training: 100.00%,  Loss: 0.00263, Acc: 99.92%, Recall: 99.92%, F1: 99.91%%\r"
     ]
    },
    {
     "name": "stdout",
     "output_type": "stream",
     "text": [
      "\n"
     ]
    },
    {
     "name": "stderr",
     "output_type": "stream",
     "text": [
      "100%|███████████████████████████████████████████████████████████████████████████████████████████████████████████| 5100/5100 [01:26<00:00, 59.29it/s]\n"
     ]
    },
    {
     "name": "stdout",
     "output_type": "stream",
     "text": [
      "2024-05-25 08:28:02 265 epoch, Acc 99.92%, Recall 99.92%, F1 99.91%, Val_acc 98.27%, Best_acc 99.18%, Val_recall 99.08%, Best_recall 99.79%, Val_f1  98.18%, Best_f1 99.13%\n",
      "266\n"
     ]
    },
    {
     "name": "stderr",
     "output_type": "stream",
     "text": [
      "05-25 08:29:14 [266] Lr: 0.000199, Training: 100.00%,  Loss: 0.00288, Acc: 99.89%, Recall: 99.87%, F1: 99.88%%\r"
     ]
    },
    {
     "name": "stdout",
     "output_type": "stream",
     "text": [
      "\n",
      "267\n"
     ]
    },
    {
     "name": "stderr",
     "output_type": "stream",
     "text": [
      "05-25 08:30:27 [267] Lr: 0.000199, Training: 100.00%,  Loss: 0.00296, Acc: 99.91%, Recall: 99.87%, F1: 99.90%%\r"
     ]
    },
    {
     "name": "stdout",
     "output_type": "stream",
     "text": [
      "\n",
      "268\n"
     ]
    },
    {
     "name": "stderr",
     "output_type": "stream",
     "text": [
      "05-25 08:31:39 [268] Lr: 0.000199, Training: 100.00%,  Loss: 0.00407, Acc: 99.86%, Recall: 99.84%, F1: 99.85%%\r"
     ]
    },
    {
     "name": "stdout",
     "output_type": "stream",
     "text": [
      "\n",
      "269\n"
     ]
    },
    {
     "name": "stderr",
     "output_type": "stream",
     "text": [
      "05-25 08:32:52 [269] Lr: 0.000199, Training: 100.00%,  Loss: 0.00381, Acc: 99.87%, Recall: 99.82%, F1: 99.85%\r"
     ]
    },
    {
     "name": "stdout",
     "output_type": "stream",
     "text": [
      "\n",
      "270\n"
     ]
    },
    {
     "name": "stderr",
     "output_type": "stream",
     "text": [
      "05-25 08:34:04 [270] Lr: 0.000199, Training: 100.00%,  Loss: 0.00631, Acc: 99.81%, Recall: 99.76%, F1: 99.79%%\r"
     ]
    },
    {
     "name": "stdout",
     "output_type": "stream",
     "text": [
      "\n"
     ]
    },
    {
     "name": "stderr",
     "output_type": "stream",
     "text": [
      "100%|███████████████████████████████████████████████████████████████████████████████████████████████████████████| 5100/5100 [01:25<00:00, 59.34it/s]\n"
     ]
    },
    {
     "name": "stdout",
     "output_type": "stream",
     "text": [
      "2024-05-25 08:35:30 270 epoch, Acc 99.81%, Recall 99.76%, F1 99.79%, Val_acc 98.76%, Best_acc 99.18%, Val_recall 99.25%, Best_recall 99.79%, Val_f1  98.69%, Best_f1 99.13%\n",
      "271\n"
     ]
    },
    {
     "name": "stderr",
     "output_type": "stream",
     "text": [
      "05-25 08:36:43 [271] Lr: 0.000193, Training: 100.00%,  Loss: 0.00352, Acc: 99.88%, Recall: 99.84%, F1: 99.87%%\r"
     ]
    },
    {
     "name": "stdout",
     "output_type": "stream",
     "text": [
      "\n",
      "272\n"
     ]
    },
    {
     "name": "stderr",
     "output_type": "stream",
     "text": [
      "05-25 08:37:55 [272] Lr: 0.000193, Training: 100.00%,  Loss: 0.00233, Acc: 99.89%, Recall: 99.88%, F1: 99.88%0%\r"
     ]
    },
    {
     "name": "stdout",
     "output_type": "stream",
     "text": [
      "\n",
      "273\n"
     ]
    },
    {
     "name": "stderr",
     "output_type": "stream",
     "text": [
      "05-25 08:39:07 [273] Lr: 0.000193, Training: 100.00%,  Loss: 0.00343, Acc: 99.88%, Recall: 99.92%, F1: 99.87%%\r"
     ]
    },
    {
     "name": "stdout",
     "output_type": "stream",
     "text": [
      "\n",
      "274\n"
     ]
    },
    {
     "name": "stderr",
     "output_type": "stream",
     "text": [
      "05-25 08:40:19 [274] Lr: 0.000193, Training: 100.00%,  Loss: 0.00414, Acc: 99.87%, Recall: 99.86%, F1: 99.87%%\r"
     ]
    },
    {
     "name": "stdout",
     "output_type": "stream",
     "text": [
      "\n",
      "275\n"
     ]
    },
    {
     "name": "stderr",
     "output_type": "stream",
     "text": [
      "05-25 08:41:32 [275] Lr: 0.000193, Training: 100.00%,  Loss: 0.00425, Acc: 99.88%, Recall: 99.88%, F1: 99.88%%\r"
     ]
    },
    {
     "name": "stdout",
     "output_type": "stream",
     "text": [
      "\n"
     ]
    },
    {
     "name": "stderr",
     "output_type": "stream",
     "text": [
      "100%|███████████████████████████████████████████████████████████████████████████████████████████████████████████| 5100/5100 [01:27<00:00, 58.44it/s]\n"
     ]
    },
    {
     "name": "stdout",
     "output_type": "stream",
     "text": [
      "2024-05-25 08:43:00 275 epoch, Acc 99.88%, Recall 99.88%, F1 99.88%, Val_acc 98.96%, Best_acc 99.18%, Val_recall 99.50%, Best_recall 99.79%, Val_f1  98.90%, Best_f1 99.13%\n",
      "276\n"
     ]
    },
    {
     "name": "stderr",
     "output_type": "stream",
     "text": [
      "05-25 08:44:12 [276] Lr: 0.000187, Training: 100.00%,  Loss: 0.00282, Acc: 99.89%, Recall: 99.86%, F1: 99.88%%\r"
     ]
    },
    {
     "name": "stdout",
     "output_type": "stream",
     "text": [
      "\n",
      "277\n"
     ]
    },
    {
     "name": "stderr",
     "output_type": "stream",
     "text": [
      "05-25 08:45:24 [277] Lr: 0.000187, Training: 100.00%,  Loss: 0.00373, Acc: 99.89%, Recall: 99.88%, F1: 99.88%%\r"
     ]
    },
    {
     "name": "stdout",
     "output_type": "stream",
     "text": [
      "\n",
      "278\n"
     ]
    },
    {
     "name": "stderr",
     "output_type": "stream",
     "text": [
      "05-25 08:46:36 [278] Lr: 0.000187, Training: 100.00%,  Loss: 0.00577, Acc: 99.81%, Recall: 99.77%, F1: 99.79%%\r"
     ]
    },
    {
     "name": "stdout",
     "output_type": "stream",
     "text": [
      "\n",
      "279\n"
     ]
    },
    {
     "name": "stderr",
     "output_type": "stream",
     "text": [
      "05-25 08:47:49 [279] Lr: 0.000187, Training: 100.00%,  Loss: 0.00317, Acc: 99.89%, Recall: 99.88%, F1: 99.88%%\r"
     ]
    },
    {
     "name": "stdout",
     "output_type": "stream",
     "text": [
      "\n",
      "280\n"
     ]
    },
    {
     "name": "stderr",
     "output_type": "stream",
     "text": [
      "05-25 08:49:01 [280] Lr: 0.000187, Training: 100.00%,  Loss: 0.00306, Acc: 99.87%, Recall: 99.86%, F1: 99.86%%\r"
     ]
    },
    {
     "name": "stdout",
     "output_type": "stream",
     "text": [
      "\n"
     ]
    },
    {
     "name": "stderr",
     "output_type": "stream",
     "text": [
      "100%|███████████████████████████████████████████████████████████████████████████████████████████████████████████| 5100/5100 [01:26<00:00, 59.23it/s]\n"
     ]
    },
    {
     "name": "stdout",
     "output_type": "stream",
     "text": [
      "2024-05-25 08:50:28 280 epoch, Acc 99.87%, Recall 99.86%, F1 99.86%, Val_acc 99.04%, Best_acc 99.18%, Val_recall 98.96%, Best_recall 99.79%, Val_f1  98.98%, Best_f1 99.13%\n",
      "281\n"
     ]
    },
    {
     "name": "stderr",
     "output_type": "stream",
     "text": [
      "05-25 08:51:40 [281] Lr: 0.000182, Training: 100.00%,  Loss: 0.00216, Acc: 99.93%, Recall: 99.91%, F1: 99.93%%\r"
     ]
    },
    {
     "name": "stdout",
     "output_type": "stream",
     "text": [
      "\n",
      "282\n"
     ]
    },
    {
     "name": "stderr",
     "output_type": "stream",
     "text": [
      "05-25 08:52:53 [282] Lr: 0.000182, Training: 100.00%,  Loss: 0.00225, Acc: 99.93%, Recall: 99.92%, F1: 99.92%0%\r"
     ]
    },
    {
     "name": "stdout",
     "output_type": "stream",
     "text": [
      "\n",
      "283\n"
     ]
    },
    {
     "name": "stderr",
     "output_type": "stream",
     "text": [
      "05-25 08:54:05 [283] Lr: 0.000182, Training: 100.00%,  Loss: 0.00241, Acc: 99.91%, Recall: 99.90%, F1: 99.90%0%\r"
     ]
    },
    {
     "name": "stdout",
     "output_type": "stream",
     "text": [
      "\n",
      "284\n"
     ]
    },
    {
     "name": "stderr",
     "output_type": "stream",
     "text": [
      "05-25 08:55:17 [284] Lr: 0.000182, Training: 100.00%,  Loss: 0.00430, Acc: 99.87%, Recall: 99.85%, F1: 99.84%%\r"
     ]
    },
    {
     "name": "stdout",
     "output_type": "stream",
     "text": [
      "\n",
      "285\n"
     ]
    },
    {
     "name": "stderr",
     "output_type": "stream",
     "text": [
      "05-25 08:56:29 [285] Lr: 0.000182, Training: 100.00%,  Loss: 0.00370, Acc: 99.88%, Recall: 99.86%, F1: 99.87%%\r"
     ]
    },
    {
     "name": "stdout",
     "output_type": "stream",
     "text": [
      "\n"
     ]
    },
    {
     "name": "stderr",
     "output_type": "stream",
     "text": [
      "100%|███████████████████████████████████████████████████████████████████████████████████████████████████████████| 5100/5100 [01:25<00:00, 59.36it/s]\n"
     ]
    },
    {
     "name": "stdout",
     "output_type": "stream",
     "text": [
      "2024-05-25 08:57:56 285 epoch, Acc 99.88%, Recall 99.86%, F1 99.87%, Val_acc 97.73%, Best_acc 99.18%, Val_recall 99.54%, Best_recall 99.79%, Val_f1  97.63%, Best_f1 99.13%\n",
      "286\n"
     ]
    },
    {
     "name": "stderr",
     "output_type": "stream",
     "text": [
      "05-25 08:59:08 [286] Lr: 0.000176, Training: 100.00%,  Loss: 0.00449, Acc: 99.85%, Recall: 99.88%, F1: 99.84%%\r"
     ]
    },
    {
     "name": "stdout",
     "output_type": "stream",
     "text": [
      "\n",
      "287\n"
     ]
    },
    {
     "name": "stderr",
     "output_type": "stream",
     "text": [
      "05-25 09:00:21 [287] Lr: 0.000176, Training: 100.00%,  Loss: 0.00336, Acc: 99.89%, Recall: 99.91%, F1: 99.88%%\r"
     ]
    },
    {
     "name": "stdout",
     "output_type": "stream",
     "text": [
      "\n",
      "288\n"
     ]
    },
    {
     "name": "stderr",
     "output_type": "stream",
     "text": [
      "05-25 09:01:33 [288] Lr: 0.000176, Training: 100.00%,  Loss: 0.00324, Acc: 99.85%, Recall: 99.85%, F1: 99.84%%\r"
     ]
    },
    {
     "name": "stdout",
     "output_type": "stream",
     "text": [
      "\n",
      "289\n"
     ]
    },
    {
     "name": "stderr",
     "output_type": "stream",
     "text": [
      "05-25 09:02:46 [289] Lr: 0.000176, Training: 100.00%,  Loss: 0.00538, Acc: 99.83%, Recall: 99.83%, F1: 99.82%%\r"
     ]
    },
    {
     "name": "stdout",
     "output_type": "stream",
     "text": [
      "\n",
      "290\n"
     ]
    },
    {
     "name": "stderr",
     "output_type": "stream",
     "text": [
      "05-25 09:03:58 [290] Lr: 0.000176, Training: 100.00%,  Loss: 0.00247, Acc: 99.89%, Recall: 99.86%, F1: 99.88%%\r"
     ]
    },
    {
     "name": "stdout",
     "output_type": "stream",
     "text": [
      "\n"
     ]
    },
    {
     "name": "stderr",
     "output_type": "stream",
     "text": [
      "100%|███████████████████████████████████████████████████████████████████████████████████████████████████████████| 5100/5100 [01:28<00:00, 57.54it/s]\n"
     ]
    },
    {
     "name": "stdout",
     "output_type": "stream",
     "text": [
      "2024-05-25 09:05:27 290 epoch, Acc 99.89%, Recall 99.86%, F1 99.88%, Val_acc 99.18%, Best_acc 99.18%, Val_recall 99.29%, Best_recall 99.79%, Val_f1  99.13%, Best_f1 99.13%\n",
      "291\n"
     ]
    },
    {
     "name": "stderr",
     "output_type": "stream",
     "text": [
      "05-25 09:06:40 [291] Lr: 0.000171, Training: 100.00%,  Loss: 0.00257, Acc: 99.90%, Recall: 99.88%, F1: 99.89%0%\r"
     ]
    },
    {
     "name": "stdout",
     "output_type": "stream",
     "text": [
      "\n",
      "292\n"
     ]
    },
    {
     "name": "stderr",
     "output_type": "stream",
     "text": [
      "05-25 09:07:52 [292] Lr: 0.000171, Training: 100.00%,  Loss: 0.00242, Acc: 99.91%, Recall: 99.89%, F1: 99.90%%\r"
     ]
    },
    {
     "name": "stdout",
     "output_type": "stream",
     "text": [
      "\n",
      "293\n"
     ]
    },
    {
     "name": "stderr",
     "output_type": "stream",
     "text": [
      "05-25 09:09:05 [293] Lr: 0.000171, Training: 100.00%,  Loss: 0.00406, Acc: 99.88%, Recall: 99.87%, F1: 99.88%%\r"
     ]
    },
    {
     "name": "stdout",
     "output_type": "stream",
     "text": [
      "\n",
      "294\n"
     ]
    },
    {
     "name": "stderr",
     "output_type": "stream",
     "text": [
      "05-25 09:10:17 [294] Lr: 0.000171, Training: 100.00%,  Loss: 0.00350, Acc: 99.91%, Recall: 99.90%, F1: 99.90%0%\r"
     ]
    },
    {
     "name": "stdout",
     "output_type": "stream",
     "text": [
      "\n",
      "295\n"
     ]
    },
    {
     "name": "stderr",
     "output_type": "stream",
     "text": [
      "05-25 09:11:29 [295] Lr: 0.000171, Training: 100.00%,  Loss: 0.00375, Acc: 99.87%, Recall: 99.88%, F1: 99.86%%\r"
     ]
    },
    {
     "name": "stdout",
     "output_type": "stream",
     "text": [
      "\n"
     ]
    },
    {
     "name": "stderr",
     "output_type": "stream",
     "text": [
      "100%|███████████████████████████████████████████████████████████████████████████████████████████████████████████| 5100/5100 [01:28<00:00, 57.78it/s]\n"
     ]
    },
    {
     "name": "stdout",
     "output_type": "stream",
     "text": [
      "2024-05-25 09:12:58 295 epoch, Acc 99.87%, Recall 99.88%, F1 99.86%, Val_acc 99.18%, Best_acc 99.18%, Val_recall 99.33%, Best_recall 99.79%, Val_f1  99.13%, Best_f1 99.13%\n",
      "296\n"
     ]
    },
    {
     "name": "stderr",
     "output_type": "stream",
     "text": [
      "05-25 09:14:11 [296] Lr: 0.000166, Training: 100.00%,  Loss: 0.00291, Acc: 99.90%, Recall: 99.89%, F1: 99.89%%\r"
     ]
    },
    {
     "name": "stdout",
     "output_type": "stream",
     "text": [
      "\n",
      "297\n"
     ]
    },
    {
     "name": "stderr",
     "output_type": "stream",
     "text": [
      "05-25 09:15:23 [297] Lr: 0.000166, Training: 100.00%,  Loss: 0.00223, Acc: 99.92%, Recall: 99.91%, F1: 99.91%%\r"
     ]
    },
    {
     "name": "stdout",
     "output_type": "stream",
     "text": [
      "\n",
      "298\n"
     ]
    },
    {
     "name": "stderr",
     "output_type": "stream",
     "text": [
      "05-25 09:16:35 [298] Lr: 0.000166, Training: 100.00%,  Loss: 0.00326, Acc: 99.92%, Recall: 99.93%, F1: 99.91%%\r"
     ]
    },
    {
     "name": "stdout",
     "output_type": "stream",
     "text": [
      "\n",
      "299\n"
     ]
    },
    {
     "name": "stderr",
     "output_type": "stream",
     "text": [
      "05-25 09:17:48 [299] Lr: 0.000166, Training: 100.00%,  Loss: 0.00380, Acc: 99.89%, Recall: 99.88%, F1: 99.88%%\r"
     ]
    },
    {
     "name": "stdout",
     "output_type": "stream",
     "text": [
      "\n",
      "300\n"
     ]
    },
    {
     "name": "stderr",
     "output_type": "stream",
     "text": [
      "05-25 09:19:00 [300] Lr: 0.000166, Training: 100.00%,  Loss: 0.00265, Acc: 99.93%, Recall: 99.91%, F1: 99.92%0%\r"
     ]
    },
    {
     "name": "stdout",
     "output_type": "stream",
     "text": [
      "\n"
     ]
    },
    {
     "name": "stderr",
     "output_type": "stream",
     "text": [
      "100%|███████████████████████████████████████████████████████████████████████████████████████████████████████████| 5100/5100 [01:28<00:00, 57.77it/s]\n"
     ]
    },
    {
     "name": "stdout",
     "output_type": "stream",
     "text": [
      "2024-05-25 09:20:29 300 epoch, Acc 99.93%, Recall 99.91%, F1 99.92%, Val_acc 98.98%, Best_acc 99.18%, Val_recall 99.17%, Best_recall 99.79%, Val_f1  98.92%, Best_f1 99.13%\n",
      "301\n"
     ]
    },
    {
     "name": "stderr",
     "output_type": "stream",
     "text": [
      "05-25 09:21:43 [301] Lr: 0.000161, Training: 100.00%,  Loss: 0.00255, Acc: 99.90%, Recall: 99.93%, F1: 99.89%%\r"
     ]
    },
    {
     "name": "stdout",
     "output_type": "stream",
     "text": [
      "\n",
      "302\n"
     ]
    },
    {
     "name": "stderr",
     "output_type": "stream",
     "text": [
      "05-25 09:23:00 [302] Lr: 0.000161, Training: 100.00%,  Loss: 0.00216, Acc: 99.90%, Recall: 99.91%, F1: 99.90%%\r"
     ]
    },
    {
     "name": "stdout",
     "output_type": "stream",
     "text": [
      "\n",
      "303\n"
     ]
    },
    {
     "name": "stderr",
     "output_type": "stream",
     "text": [
      "05-25 09:24:18 [303] Lr: 0.000161, Training: 100.00%,  Loss: 0.00356, Acc: 99.89%, Recall: 99.89%, F1: 99.87%%\r"
     ]
    },
    {
     "name": "stdout",
     "output_type": "stream",
     "text": [
      "\n",
      "304\n"
     ]
    },
    {
     "name": "stderr",
     "output_type": "stream",
     "text": [
      "05-25 09:25:30 [304] Lr: 0.000161, Training: 100.00%,  Loss: 0.00244, Acc: 99.93%, Recall: 99.94%, F1: 99.93%%\r"
     ]
    },
    {
     "name": "stdout",
     "output_type": "stream",
     "text": [
      "\n",
      "305\n"
     ]
    },
    {
     "name": "stderr",
     "output_type": "stream",
     "text": [
      "05-25 09:26:43 [305] Lr: 0.000161, Training: 100.00%,  Loss: 0.00232, Acc: 99.90%, Recall: 99.92%, F1: 99.89%%\r"
     ]
    },
    {
     "name": "stdout",
     "output_type": "stream",
     "text": [
      "\n"
     ]
    },
    {
     "name": "stderr",
     "output_type": "stream",
     "text": [
      "100%|███████████████████████████████████████████████████████████████████████████████████████████████████████████| 5100/5100 [01:25<00:00, 59.36it/s]\n"
     ]
    },
    {
     "name": "stdout",
     "output_type": "stream",
     "text": [
      "2024-05-25 09:28:09 305 epoch, Acc 99.90%, Recall 99.92%, F1 99.89%, Val_acc 98.57%, Best_acc 99.18%, Val_recall 99.54%, Best_recall 99.79%, Val_f1  98.49%, Best_f1 99.13%\n",
      "306\n"
     ]
    },
    {
     "name": "stderr",
     "output_type": "stream",
     "text": [
      "05-25 09:29:22 [306] Lr: 0.000156, Training: 100.00%,  Loss: 0.00781, Acc: 99.90%, Recall: 99.90%, F1: 99.88%%\r"
     ]
    },
    {
     "name": "stdout",
     "output_type": "stream",
     "text": [
      "\n",
      "307\n"
     ]
    },
    {
     "name": "stderr",
     "output_type": "stream",
     "text": [
      "05-25 09:30:34 [307] Lr: 0.000156, Training: 100.00%,  Loss: 0.00242, Acc: 99.94%, Recall: 99.92%, F1: 99.94%0%\r"
     ]
    },
    {
     "name": "stdout",
     "output_type": "stream",
     "text": [
      "\n",
      "308\n"
     ]
    },
    {
     "name": "stderr",
     "output_type": "stream",
     "text": [
      "05-25 09:31:46 [308] Lr: 0.000156, Training: 100.00%,  Loss: 0.00286, Acc: 99.93%, Recall: 99.91%, F1: 99.92%%\r"
     ]
    },
    {
     "name": "stdout",
     "output_type": "stream",
     "text": [
      "\n",
      "309\n"
     ]
    },
    {
     "name": "stderr",
     "output_type": "stream",
     "text": [
      "05-25 09:32:58 [309] Lr: 0.000156, Training: 100.00%,  Loss: 0.00210, Acc: 99.90%, Recall: 99.89%, F1: 99.89%%\r"
     ]
    },
    {
     "name": "stdout",
     "output_type": "stream",
     "text": [
      "\n",
      "310\n"
     ]
    },
    {
     "name": "stderr",
     "output_type": "stream",
     "text": [
      "05-25 09:34:11 [310] Lr: 0.000156, Training: 100.00%,  Loss: 0.00220, Acc: 99.92%, Recall: 99.90%, F1: 99.91%%\r"
     ]
    },
    {
     "name": "stdout",
     "output_type": "stream",
     "text": [
      "\n"
     ]
    },
    {
     "name": "stderr",
     "output_type": "stream",
     "text": [
      "100%|███████████████████████████████████████████████████████████████████████████████████████████████████████████| 5100/5100 [01:25<00:00, 59.34it/s]\n"
     ]
    },
    {
     "name": "stdout",
     "output_type": "stream",
     "text": [
      "2024-05-25 09:35:37 310 epoch, Acc 99.92%, Recall 99.90%, F1 99.91%, Val_acc 98.18%, Best_acc 99.18%, Val_recall 99.12%, Best_recall 99.79%, Val_f1  98.08%, Best_f1 99.13%\n",
      "311\n"
     ]
    },
    {
     "name": "stderr",
     "output_type": "stream",
     "text": [
      "05-25 09:36:49 [311] Lr: 0.000151, Training: 100.00%,  Loss: 0.00297, Acc: 99.89%, Recall: 99.89%, F1: 99.89%%\r"
     ]
    },
    {
     "name": "stdout",
     "output_type": "stream",
     "text": [
      "\n",
      "312\n"
     ]
    },
    {
     "name": "stderr",
     "output_type": "stream",
     "text": [
      "05-25 09:38:02 [312] Lr: 0.000151, Training: 100.00%,  Loss: 0.00355, Acc: 99.90%, Recall: 99.90%, F1: 99.89%%\r"
     ]
    },
    {
     "name": "stdout",
     "output_type": "stream",
     "text": [
      "\n",
      "313\n"
     ]
    },
    {
     "name": "stderr",
     "output_type": "stream",
     "text": [
      "05-25 09:39:14 [313] Lr: 0.000151, Training: 100.00%,  Loss: 0.00273, Acc: 99.91%, Recall: 99.92%, F1: 99.91%%\r"
     ]
    },
    {
     "name": "stdout",
     "output_type": "stream",
     "text": [
      "\n",
      "314\n"
     ]
    },
    {
     "name": "stderr",
     "output_type": "stream",
     "text": [
      "05-25 09:40:26 [314] Lr: 0.000151, Training: 100.00%,  Loss: 0.00191, Acc: 99.96%, Recall: 99.96%, F1: 99.95%%\r"
     ]
    },
    {
     "name": "stdout",
     "output_type": "stream",
     "text": [
      "\n",
      "315\n"
     ]
    },
    {
     "name": "stderr",
     "output_type": "stream",
     "text": [
      "05-25 09:41:38 [315] Lr: 0.000151, Training: 100.00%,  Loss: 0.00333, Acc: 99.90%, Recall: 99.90%, F1: 99.89%%\r"
     ]
    },
    {
     "name": "stdout",
     "output_type": "stream",
     "text": [
      "\n"
     ]
    },
    {
     "name": "stderr",
     "output_type": "stream",
     "text": [
      "100%|███████████████████████████████████████████████████████████████████████████████████████████████████████████| 5100/5100 [01:27<00:00, 58.52it/s]\n"
     ]
    },
    {
     "name": "stdout",
     "output_type": "stream",
     "text": [
      "2024-05-25 09:43:06 315 epoch, Acc 99.90%, Recall 99.90%, F1 99.89%, Val_acc 98.57%, Best_acc 99.18%, Val_recall 99.08%, Best_recall 99.79%, Val_f1  98.49%, Best_f1 99.13%\n",
      "316\n"
     ]
    },
    {
     "name": "stderr",
     "output_type": "stream",
     "text": [
      "05-25 09:44:18 [316] Lr: 0.000147, Training: 100.00%,  Loss: 0.00180, Acc: 99.93%, Recall: 99.94%, F1: 99.93%%\r"
     ]
    },
    {
     "name": "stdout",
     "output_type": "stream",
     "text": [
      "\n",
      "317\n"
     ]
    },
    {
     "name": "stderr",
     "output_type": "stream",
     "text": [
      "05-25 09:45:30 [317] Lr: 0.000147, Training: 100.00%,  Loss: 0.00146, Acc: 99.95%, Recall: 99.95%, F1: 99.94%0%\r"
     ]
    },
    {
     "name": "stdout",
     "output_type": "stream",
     "text": [
      "\n",
      "318\n"
     ]
    },
    {
     "name": "stderr",
     "output_type": "stream",
     "text": [
      "05-25 09:46:42 [318] Lr: 0.000147, Training: 100.00%,  Loss: 0.00245, Acc: 99.92%, Recall: 99.90%, F1: 99.91%%\r"
     ]
    },
    {
     "name": "stdout",
     "output_type": "stream",
     "text": [
      "\n",
      "319\n"
     ]
    },
    {
     "name": "stderr",
     "output_type": "stream",
     "text": [
      "05-25 09:47:55 [319] Lr: 0.000147, Training: 100.00%,  Loss: 0.00266, Acc: 99.93%, Recall: 99.92%, F1: 99.92%0%\r"
     ]
    },
    {
     "name": "stdout",
     "output_type": "stream",
     "text": [
      "\n",
      "320\n"
     ]
    },
    {
     "name": "stderr",
     "output_type": "stream",
     "text": [
      "05-25 09:49:07 [320] Lr: 0.000147, Training: 100.00%,  Loss: 0.00264, Acc: 99.92%, Recall: 99.91%, F1: 99.91%%\r"
     ]
    },
    {
     "name": "stdout",
     "output_type": "stream",
     "text": [
      "\n"
     ]
    },
    {
     "name": "stderr",
     "output_type": "stream",
     "text": [
      "100%|███████████████████████████████████████████████████████████████████████████████████████████████████████████| 5100/5100 [01:28<00:00, 57.68it/s]\n"
     ]
    },
    {
     "name": "stdout",
     "output_type": "stream",
     "text": [
      "2024-05-25 09:50:36 320 epoch, Acc 99.92%, Recall 99.91%, F1 99.91%, Val_acc 98.84%, Best_acc 99.18%, Val_recall 99.37%, Best_recall 99.79%, Val_f1  98.78%, Best_f1 99.13%\n",
      "321\n"
     ]
    },
    {
     "name": "stderr",
     "output_type": "stream",
     "text": [
      "05-25 09:51:48 [321] Lr: 0.000142, Training: 100.00%,  Loss: 0.00207, Acc: 99.94%, Recall: 99.93%, F1: 99.93%0%\r"
     ]
    },
    {
     "name": "stdout",
     "output_type": "stream",
     "text": [
      "\n",
      "322\n"
     ]
    },
    {
     "name": "stderr",
     "output_type": "stream",
     "text": [
      "05-25 09:53:00 [322] Lr: 0.000142, Training: 100.00%,  Loss: 0.00331, Acc: 99.90%, Recall: 99.89%, F1: 99.89%%\r"
     ]
    },
    {
     "name": "stdout",
     "output_type": "stream",
     "text": [
      "\n",
      "323\n"
     ]
    },
    {
     "name": "stderr",
     "output_type": "stream",
     "text": [
      "05-25 09:54:13 [323] Lr: 0.000142, Training: 100.00%,  Loss: 0.00278, Acc: 99.90%, Recall: 99.89%, F1: 99.90%%\r"
     ]
    },
    {
     "name": "stdout",
     "output_type": "stream",
     "text": [
      "\n",
      "324\n"
     ]
    },
    {
     "name": "stderr",
     "output_type": "stream",
     "text": [
      "05-25 09:55:25 [324] Lr: 0.000142, Training: 100.00%,  Loss: 0.00227, Acc: 99.91%, Recall: 99.91%, F1: 99.90%%\r"
     ]
    },
    {
     "name": "stdout",
     "output_type": "stream",
     "text": [
      "\n",
      "325\n"
     ]
    },
    {
     "name": "stderr",
     "output_type": "stream",
     "text": [
      "05-25 09:56:38 [325] Lr: 0.000142, Training: 100.00%,  Loss: 0.00308, Acc: 99.89%, Recall: 99.88%, F1: 99.88%%\r"
     ]
    },
    {
     "name": "stdout",
     "output_type": "stream",
     "text": [
      "\n"
     ]
    },
    {
     "name": "stderr",
     "output_type": "stream",
     "text": [
      "100%|███████████████████████████████████████████████████████████████████████████████████████████████████████████| 5100/5100 [01:28<00:00, 57.66it/s]\n"
     ]
    },
    {
     "name": "stdout",
     "output_type": "stream",
     "text": [
      "2024-05-25 09:58:07 325 epoch, Acc 99.89%, Recall 99.88%, F1 99.88%, Val_acc 99.14%, Best_acc 99.18%, Val_recall 99.17%, Best_recall 99.79%, Val_f1  99.08%, Best_f1 99.13%\n",
      "326\n"
     ]
    },
    {
     "name": "stderr",
     "output_type": "stream",
     "text": [
      "05-25 09:59:19 [326] Lr: 0.000138, Training: 100.00%,  Loss: 0.00245, Acc: 99.90%, Recall: 99.87%, F1: 99.89%%\r"
     ]
    },
    {
     "name": "stdout",
     "output_type": "stream",
     "text": [
      "\n",
      "327\n"
     ]
    },
    {
     "name": "stderr",
     "output_type": "stream",
     "text": [
      "05-25 10:00:31 [327] Lr: 0.000138, Training: 100.00%,  Loss: 0.00154, Acc: 99.95%, Recall: 99.95%, F1: 99.95%0%\r"
     ]
    },
    {
     "name": "stdout",
     "output_type": "stream",
     "text": [
      "\n",
      "328\n"
     ]
    },
    {
     "name": "stderr",
     "output_type": "stream",
     "text": [
      "05-25 10:01:43 [328] Lr: 0.000138, Training: 100.00%,  Loss: 0.00310, Acc: 99.89%, Recall: 99.91%, F1: 99.88%%\r"
     ]
    },
    {
     "name": "stdout",
     "output_type": "stream",
     "text": [
      "\n",
      "329\n"
     ]
    },
    {
     "name": "stderr",
     "output_type": "stream",
     "text": [
      "05-25 10:02:56 [329] Lr: 0.000138, Training: 100.00%,  Loss: 0.00338, Acc: 99.88%, Recall: 99.88%, F1: 99.88%%\r"
     ]
    },
    {
     "name": "stdout",
     "output_type": "stream",
     "text": [
      "\n",
      "330\n"
     ]
    },
    {
     "name": "stderr",
     "output_type": "stream",
     "text": [
      "05-25 10:04:08 [330] Lr: 0.000138, Training: 100.00%,  Loss: 0.00235, Acc: 99.89%, Recall: 99.91%, F1: 99.88%%\r"
     ]
    },
    {
     "name": "stdout",
     "output_type": "stream",
     "text": [
      "\n"
     ]
    },
    {
     "name": "stderr",
     "output_type": "stream",
     "text": [
      "100%|███████████████████████████████████████████████████████████████████████████████████████████████████████████| 5100/5100 [01:30<00:00, 56.61it/s]\n"
     ]
    },
    {
     "name": "stdout",
     "output_type": "stream",
     "text": [
      "2024-05-25 10:05:39 330 epoch, Acc 99.89%, Recall 99.91%, F1 99.88%, Val_acc 98.69%, Best_acc 99.18%, Val_recall 99.37%, Best_recall 99.79%, Val_f1  98.61%, Best_f1 99.13%\n",
      "331\n"
     ]
    },
    {
     "name": "stderr",
     "output_type": "stream",
     "text": [
      "05-25 10:06:51 [331] Lr: 0.000134, Training: 100.00%,  Loss: 0.00308, Acc: 99.88%, Recall: 99.88%, F1: 99.86%%\r"
     ]
    },
    {
     "name": "stdout",
     "output_type": "stream",
     "text": [
      "\n",
      "332\n"
     ]
    },
    {
     "name": "stderr",
     "output_type": "stream",
     "text": [
      "05-25 10:08:04 [332] Lr: 0.000134, Training: 100.00%,  Loss: 0.00112, Acc: 99.96%, Recall: 99.95%, F1: 99.95%%\r"
     ]
    },
    {
     "name": "stdout",
     "output_type": "stream",
     "text": [
      "\n",
      "333\n"
     ]
    },
    {
     "name": "stderr",
     "output_type": "stream",
     "text": [
      "05-25 10:09:16 [333] Lr: 0.000134, Training: 100.00%,  Loss: 0.00101, Acc: 99.96%, Recall: 99.96%, F1: 99.96%%\r"
     ]
    },
    {
     "name": "stdout",
     "output_type": "stream",
     "text": [
      "\n",
      "334\n"
     ]
    },
    {
     "name": "stderr",
     "output_type": "stream",
     "text": [
      "05-25 10:10:29 [334] Lr: 0.000134, Training: 100.00%,  Loss: 0.00323, Acc: 99.89%, Recall: 99.89%, F1: 99.88%0%\r"
     ]
    },
    {
     "name": "stdout",
     "output_type": "stream",
     "text": [
      "\n",
      "335\n"
     ]
    },
    {
     "name": "stderr",
     "output_type": "stream",
     "text": [
      "05-25 10:11:41 [335] Lr: 0.000134, Training: 100.00%,  Loss: 0.00311, Acc: 99.91%, Recall: 99.90%, F1: 99.90%%\r"
     ]
    },
    {
     "name": "stdout",
     "output_type": "stream",
     "text": [
      "\n"
     ]
    },
    {
     "name": "stderr",
     "output_type": "stream",
     "text": [
      "100%|███████████████████████████████████████████████████████████████████████████████████████████████████████████| 5100/5100 [01:26<00:00, 59.24it/s]\n"
     ]
    },
    {
     "name": "stdout",
     "output_type": "stream",
     "text": [
      "2024-05-25 10:13:08 335 epoch, Acc 99.91%, Recall 99.90%, F1 99.90%, Val_acc 98.94%, Best_acc 99.18%, Val_recall 99.17%, Best_recall 99.79%, Val_f1  98.88%, Best_f1 99.13%\n",
      "336\n"
     ]
    },
    {
     "name": "stderr",
     "output_type": "stream",
     "text": [
      "05-25 10:14:21 [336] Lr: 0.000130, Training: 100.00%,  Loss: 0.00252, Acc: 99.92%, Recall: 99.90%, F1: 99.91%%\r"
     ]
    },
    {
     "name": "stdout",
     "output_type": "stream",
     "text": [
      "\n",
      "337\n"
     ]
    },
    {
     "name": "stderr",
     "output_type": "stream",
     "text": [
      "05-25 10:15:33 [337] Lr: 0.000130, Training: 100.00%,  Loss: 0.00327, Acc: 99.89%, Recall: 99.90%, F1: 99.88%%\r"
     ]
    },
    {
     "name": "stdout",
     "output_type": "stream",
     "text": [
      "\n",
      "338\n"
     ]
    },
    {
     "name": "stderr",
     "output_type": "stream",
     "text": [
      "05-25 10:16:46 [338] Lr: 0.000130, Training: 100.00%,  Loss: 0.00306, Acc: 99.90%, Recall: 99.92%, F1: 99.89%%\r"
     ]
    },
    {
     "name": "stdout",
     "output_type": "stream",
     "text": [
      "\n",
      "339\n"
     ]
    },
    {
     "name": "stderr",
     "output_type": "stream",
     "text": [
      "05-25 10:17:58 [339] Lr: 0.000130, Training: 100.00%,  Loss: 0.00208, Acc: 99.93%, Recall: 99.93%, F1: 99.93%%\r"
     ]
    },
    {
     "name": "stdout",
     "output_type": "stream",
     "text": [
      "\n",
      "340\n"
     ]
    },
    {
     "name": "stderr",
     "output_type": "stream",
     "text": [
      "05-25 10:19:11 [340] Lr: 0.000130, Training: 100.00%,  Loss: 0.00335, Acc: 99.91%, Recall: 99.91%, F1: 99.91%\r"
     ]
    },
    {
     "name": "stdout",
     "output_type": "stream",
     "text": [
      "\n"
     ]
    },
    {
     "name": "stderr",
     "output_type": "stream",
     "text": [
      "100%|███████████████████████████████████████████████████████████████████████████████████████████████████████████| 5100/5100 [01:26<00:00, 59.16it/s]\n"
     ]
    },
    {
     "name": "stdout",
     "output_type": "stream",
     "text": [
      "2024-05-25 10:20:38 340 epoch, Acc 99.91%, Recall 99.91%, F1 99.91%, Val_acc 98.43%, Best_acc 99.18%, Val_recall 98.92%, Best_recall 99.79%, Val_f1  98.34%, Best_f1 99.13%\n",
      "341\n"
     ]
    },
    {
     "name": "stderr",
     "output_type": "stream",
     "text": [
      "05-25 10:21:50 [341] Lr: 0.000126, Training: 100.00%,  Loss: 0.00158, Acc: 99.95%, Recall: 99.93%, F1: 99.94%%\r"
     ]
    },
    {
     "name": "stdout",
     "output_type": "stream",
     "text": [
      "\n",
      "342\n"
     ]
    },
    {
     "name": "stderr",
     "output_type": "stream",
     "text": [
      "05-25 10:23:05 [342] Lr: 0.000126, Training: 100.00%,  Loss: 0.00175, Acc: 99.94%, Recall: 99.92%, F1: 99.94%%\r"
     ]
    },
    {
     "name": "stdout",
     "output_type": "stream",
     "text": [
      "\n",
      "343\n"
     ]
    },
    {
     "name": "stderr",
     "output_type": "stream",
     "text": [
      "05-25 10:24:19 [343] Lr: 0.000126, Training: 100.00%,  Loss: 0.00152, Acc: 99.94%, Recall: 99.95%, F1: 99.94%%\r"
     ]
    },
    {
     "name": "stdout",
     "output_type": "stream",
     "text": [
      "\n",
      "344\n"
     ]
    },
    {
     "name": "stderr",
     "output_type": "stream",
     "text": [
      "05-25 10:25:32 [344] Lr: 0.000126, Training: 100.00%,  Loss: 0.00234, Acc: 99.92%, Recall: 99.91%, F1: 99.91%%\r"
     ]
    },
    {
     "name": "stdout",
     "output_type": "stream",
     "text": [
      "\n",
      "345\n"
     ]
    },
    {
     "name": "stderr",
     "output_type": "stream",
     "text": [
      "05-25 10:26:45 [345] Lr: 0.000126, Training: 100.00%,  Loss: 0.00246, Acc: 99.92%, Recall: 99.93%, F1: 99.91%%\r"
     ]
    },
    {
     "name": "stdout",
     "output_type": "stream",
     "text": [
      "\n"
     ]
    },
    {
     "name": "stderr",
     "output_type": "stream",
     "text": [
      "100%|███████████████████████████████████████████████████████████████████████████████████████████████████████████| 5100/5100 [01:26<00:00, 59.22it/s]\n"
     ]
    },
    {
     "name": "stdout",
     "output_type": "stream",
     "text": [
      "2024-05-25 10:28:12 345 epoch, Acc 99.92%, Recall 99.93%, F1 99.91%, Val_acc 98.65%, Best_acc 99.18%, Val_recall 99.62%, Best_recall 99.79%, Val_f1  98.58%, Best_f1 99.13%\n",
      "346\n"
     ]
    },
    {
     "name": "stderr",
     "output_type": "stream",
     "text": [
      "05-25 10:29:24 [346] Lr: 0.000122, Training: 100.00%,  Loss: 0.00140, Acc: 99.95%, Recall: 99.97%, F1: 99.95%\r"
     ]
    },
    {
     "name": "stdout",
     "output_type": "stream",
     "text": [
      "\n",
      "347\n"
     ]
    },
    {
     "name": "stderr",
     "output_type": "stream",
     "text": [
      "05-25 10:30:36 [347] Lr: 0.000122, Training: 100.00%,  Loss: 0.00272, Acc: 99.91%, Recall: 99.90%, F1: 99.90%0%\r"
     ]
    },
    {
     "name": "stdout",
     "output_type": "stream",
     "text": [
      "\n",
      "348\n"
     ]
    },
    {
     "name": "stderr",
     "output_type": "stream",
     "text": [
      "05-25 10:31:49 [348] Lr: 0.000122, Training: 100.00%,  Loss: 0.00204, Acc: 99.94%, Recall: 99.94%, F1: 99.93%%\r"
     ]
    },
    {
     "name": "stdout",
     "output_type": "stream",
     "text": [
      "\n",
      "349\n"
     ]
    },
    {
     "name": "stderr",
     "output_type": "stream",
     "text": [
      "05-25 10:33:01 [349] Lr: 0.000122, Training: 100.00%,  Loss: 0.00269, Acc: 99.91%, Recall: 99.91%, F1: 99.91%%\r"
     ]
    },
    {
     "name": "stdout",
     "output_type": "stream",
     "text": [
      "\n",
      "350\n"
     ]
    },
    {
     "name": "stderr",
     "output_type": "stream",
     "text": [
      "05-25 10:34:13 [350] Lr: 0.000122, Training: 100.00%,  Loss: 0.00133, Acc: 99.96%, Recall: 99.98%, F1: 99.96%%\r"
     ]
    },
    {
     "name": "stdout",
     "output_type": "stream",
     "text": [
      "\n"
     ]
    },
    {
     "name": "stderr",
     "output_type": "stream",
     "text": [
      "100%|███████████████████████████████████████████████████████████████████████████████████████████████████████████| 5100/5100 [01:26<00:00, 59.17it/s]\n"
     ]
    },
    {
     "name": "stdout",
     "output_type": "stream",
     "text": [
      "2024-05-25 10:35:40 350 epoch, Acc 99.96%, Recall 99.98%, F1 99.96%, Val_acc 99.22%, Best_acc 99.22%, Val_recall 99.46%, Best_recall 99.79%, Val_f1  99.17%, Best_f1 99.17%\n",
      "351\n"
     ]
    },
    {
     "name": "stderr",
     "output_type": "stream",
     "text": [
      "05-25 10:36:53 [351] Lr: 0.000119, Training: 100.00%,  Loss: 0.00111, Acc: 99.96%, Recall: 99.96%, F1: 99.95%0%\r"
     ]
    },
    {
     "name": "stdout",
     "output_type": "stream",
     "text": [
      "\n",
      "352\n"
     ]
    },
    {
     "name": "stderr",
     "output_type": "stream",
     "text": [
      "05-25 10:38:05 [352] Lr: 0.000119, Training: 100.00%,  Loss: 0.00117, Acc: 99.97%, Recall: 99.97%, F1: 99.97%%\r"
     ]
    },
    {
     "name": "stdout",
     "output_type": "stream",
     "text": [
      "\n",
      "353\n"
     ]
    },
    {
     "name": "stderr",
     "output_type": "stream",
     "text": [
      "05-25 10:39:18 [353] Lr: 0.000119, Training: 100.00%,  Loss: 0.00206, Acc: 99.95%, Recall: 99.93%, F1: 99.94%%\r"
     ]
    },
    {
     "name": "stdout",
     "output_type": "stream",
     "text": [
      "\n",
      "354\n"
     ]
    },
    {
     "name": "stderr",
     "output_type": "stream",
     "text": [
      "05-25 10:40:31 [354] Lr: 0.000119, Training: 100.00%,  Loss: 0.00114, Acc: 99.96%, Recall: 99.95%, F1: 99.95%%\r"
     ]
    },
    {
     "name": "stdout",
     "output_type": "stream",
     "text": [
      "\n",
      "355\n"
     ]
    },
    {
     "name": "stderr",
     "output_type": "stream",
     "text": [
      "05-25 10:41:43 [355] Lr: 0.000119, Training: 100.00%,  Loss: 0.00261, Acc: 99.91%, Recall: 99.89%, F1: 99.90%%\r"
     ]
    },
    {
     "name": "stdout",
     "output_type": "stream",
     "text": [
      "\n"
     ]
    },
    {
     "name": "stderr",
     "output_type": "stream",
     "text": [
      "100%|███████████████████████████████████████████████████████████████████████████████████████████████████████████| 5100/5100 [01:26<00:00, 59.17it/s]\n"
     ]
    },
    {
     "name": "stdout",
     "output_type": "stream",
     "text": [
      "2024-05-25 10:43:10 355 epoch, Acc 99.91%, Recall 99.89%, F1 99.90%, Val_acc 99.14%, Best_acc 99.22%, Val_recall 99.58%, Best_recall 99.79%, Val_f1  99.09%, Best_f1 99.17%\n",
      "356\n"
     ]
    },
    {
     "name": "stderr",
     "output_type": "stream",
     "text": [
      "05-25 10:44:22 [356] Lr: 0.000115, Training: 100.00%,  Loss: 0.00171, Acc: 99.95%, Recall: 99.96%, F1: 99.94%%\r"
     ]
    },
    {
     "name": "stdout",
     "output_type": "stream",
     "text": [
      "\n",
      "357\n"
     ]
    },
    {
     "name": "stderr",
     "output_type": "stream",
     "text": [
      "05-25 10:45:35 [357] Lr: 0.000115, Training: 100.00%,  Loss: 0.00156, Acc: 99.94%, Recall: 99.96%, F1: 99.94%0%\r"
     ]
    },
    {
     "name": "stdout",
     "output_type": "stream",
     "text": [
      "\n",
      "358\n"
     ]
    },
    {
     "name": "stderr",
     "output_type": "stream",
     "text": [
      "05-25 10:46:48 [358] Lr: 0.000115, Training: 100.00%,  Loss: 0.00300, Acc: 99.89%, Recall: 99.89%, F1: 99.88%%\r"
     ]
    },
    {
     "name": "stdout",
     "output_type": "stream",
     "text": [
      "\n",
      "359\n"
     ]
    },
    {
     "name": "stderr",
     "output_type": "stream",
     "text": [
      "05-25 10:48:00 [359] Lr: 0.000115, Training: 100.00%,  Loss: 0.00143, Acc: 99.94%, Recall: 99.96%, F1: 99.93%%\r"
     ]
    },
    {
     "name": "stdout",
     "output_type": "stream",
     "text": [
      "\n",
      "360\n"
     ]
    },
    {
     "name": "stderr",
     "output_type": "stream",
     "text": [
      "05-25 10:49:12 [360] Lr: 0.000115, Training: 100.00%,  Loss: 0.00176, Acc: 99.95%, Recall: 99.95%, F1: 99.94%%\r"
     ]
    },
    {
     "name": "stdout",
     "output_type": "stream",
     "text": [
      "\n"
     ]
    },
    {
     "name": "stderr",
     "output_type": "stream",
     "text": [
      "100%|███████████████████████████████████████████████████████████████████████████████████████████████████████████| 5100/5100 [01:26<00:00, 59.26it/s]\n"
     ]
    },
    {
     "name": "stdout",
     "output_type": "stream",
     "text": [
      "2024-05-25 10:50:39 360 epoch, Acc 99.95%, Recall 99.95%, F1 99.94%, Val_acc 98.92%, Best_acc 99.22%, Val_recall 99.67%, Best_recall 99.79%, Val_f1  98.86%, Best_f1 99.17%\n",
      "361\n"
     ]
    },
    {
     "name": "stderr",
     "output_type": "stream",
     "text": [
      "05-25 10:51:51 [361] Lr: 0.000112, Training: 100.00%,  Loss: 0.00252, Acc: 99.92%, Recall: 99.92%, F1: 99.91%%\r"
     ]
    },
    {
     "name": "stdout",
     "output_type": "stream",
     "text": [
      "\n",
      "362\n"
     ]
    },
    {
     "name": "stderr",
     "output_type": "stream",
     "text": [
      "05-25 10:53:03 [362] Lr: 0.000112, Training: 100.00%,  Loss: 0.00160, Acc: 99.94%, Recall: 99.95%, F1: 99.93%%\r"
     ]
    },
    {
     "name": "stdout",
     "output_type": "stream",
     "text": [
      "\n",
      "363\n"
     ]
    },
    {
     "name": "stderr",
     "output_type": "stream",
     "text": [
      "05-25 10:54:15 [363] Lr: 0.000112, Training: 100.00%,  Loss: 0.00077, Acc: 99.98%, Recall: 99.97%, F1: 99.97%%\r"
     ]
    },
    {
     "name": "stdout",
     "output_type": "stream",
     "text": [
      "\n",
      "364\n"
     ]
    },
    {
     "name": "stderr",
     "output_type": "stream",
     "text": [
      "05-25 10:55:28 [364] Lr: 0.000112, Training: 100.00%,  Loss: 0.00248, Acc: 99.90%, Recall: 99.92%, F1: 99.88%%\r"
     ]
    },
    {
     "name": "stdout",
     "output_type": "stream",
     "text": [
      "\n",
      "365\n"
     ]
    },
    {
     "name": "stderr",
     "output_type": "stream",
     "text": [
      "05-25 10:56:40 [365] Lr: 0.000112, Training: 100.00%,  Loss: 0.00247, Acc: 99.92%, Recall: 99.91%, F1: 99.91%%\r"
     ]
    },
    {
     "name": "stdout",
     "output_type": "stream",
     "text": [
      "\n"
     ]
    },
    {
     "name": "stderr",
     "output_type": "stream",
     "text": [
      "100%|███████████████████████████████████████████████████████████████████████████████████████████████████████████| 5100/5100 [01:27<00:00, 58.13it/s]\n"
     ]
    },
    {
     "name": "stdout",
     "output_type": "stream",
     "text": [
      "2024-05-25 10:58:09 365 epoch, Acc 99.92%, Recall 99.91%, F1 99.91%, Val_acc 99.25%, Best_acc 99.25%, Val_recall 99.33%, Best_recall 99.79%, Val_f1  99.21%, Best_f1 99.21%\n",
      "366\n"
     ]
    },
    {
     "name": "stderr",
     "output_type": "stream",
     "text": [
      "05-25 10:59:21 [366] Lr: 0.000108, Training: 100.00%,  Loss: 0.00302, Acc: 99.92%, Recall: 99.93%, F1: 99.92%%\r"
     ]
    },
    {
     "name": "stdout",
     "output_type": "stream",
     "text": [
      "\n",
      "367\n"
     ]
    },
    {
     "name": "stderr",
     "output_type": "stream",
     "text": [
      "05-25 11:00:33 [367] Lr: 0.000108, Training: 100.00%,  Loss: 0.00186, Acc: 99.93%, Recall: 99.93%, F1: 99.92%%\r"
     ]
    },
    {
     "name": "stdout",
     "output_type": "stream",
     "text": [
      "\n",
      "368\n"
     ]
    },
    {
     "name": "stderr",
     "output_type": "stream",
     "text": [
      "05-25 11:01:46 [368] Lr: 0.000108, Training: 100.00%,  Loss: 0.00166, Acc: 99.93%, Recall: 99.92%, F1: 99.92%%\r"
     ]
    },
    {
     "name": "stdout",
     "output_type": "stream",
     "text": [
      "\n",
      "369\n"
     ]
    },
    {
     "name": "stderr",
     "output_type": "stream",
     "text": [
      "05-25 11:02:58 [369] Lr: 0.000108, Training: 100.00%,  Loss: 0.00129, Acc: 99.95%, Recall: 99.94%, F1: 99.95%%\r"
     ]
    },
    {
     "name": "stdout",
     "output_type": "stream",
     "text": [
      "\n",
      "370\n"
     ]
    },
    {
     "name": "stderr",
     "output_type": "stream",
     "text": [
      "05-25 11:04:10 [370] Lr: 0.000108, Training: 100.00%,  Loss: 0.00142, Acc: 99.95%, Recall: 99.94%, F1: 99.94%0%\r"
     ]
    },
    {
     "name": "stdout",
     "output_type": "stream",
     "text": [
      "\n"
     ]
    },
    {
     "name": "stderr",
     "output_type": "stream",
     "text": [
      "100%|███████████████████████████████████████████████████████████████████████████████████████████████████████████| 5100/5100 [01:30<00:00, 56.61it/s]\n"
     ]
    },
    {
     "name": "stdout",
     "output_type": "stream",
     "text": [
      "2024-05-25 11:05:41 370 epoch, Acc 99.95%, Recall 99.94%, F1 99.94%, Val_acc 98.24%, Best_acc 99.25%, Val_recall 99.58%, Best_recall 99.79%, Val_f1  98.15%, Best_f1 99.21%\n",
      "371\n"
     ]
    },
    {
     "name": "stderr",
     "output_type": "stream",
     "text": [
      "05-25 11:06:53 [371] Lr: 0.000105, Training: 100.00%,  Loss: 0.00305, Acc: 99.91%, Recall: 99.91%, F1: 99.90%%\r"
     ]
    },
    {
     "name": "stdout",
     "output_type": "stream",
     "text": [
      "\n",
      "372\n"
     ]
    },
    {
     "name": "stderr",
     "output_type": "stream",
     "text": [
      "05-25 11:08:06 [372] Lr: 0.000105, Training: 100.00%,  Loss: 0.00147, Acc: 99.97%, Recall: 99.97%, F1: 99.97%0%\r"
     ]
    },
    {
     "name": "stdout",
     "output_type": "stream",
     "text": [
      "\n",
      "373\n"
     ]
    },
    {
     "name": "stderr",
     "output_type": "stream",
     "text": [
      "05-25 11:09:18 [373] Lr: 0.000105, Training: 100.00%,  Loss: 0.00167, Acc: 99.95%, Recall: 99.96%, F1: 99.94%0%\r"
     ]
    },
    {
     "name": "stdout",
     "output_type": "stream",
     "text": [
      "\n",
      "374\n"
     ]
    },
    {
     "name": "stderr",
     "output_type": "stream",
     "text": [
      "05-25 11:10:31 [374] Lr: 0.000105, Training: 100.00%,  Loss: 0.00262, Acc: 99.93%, Recall: 99.93%, F1: 99.93%%\r"
     ]
    },
    {
     "name": "stdout",
     "output_type": "stream",
     "text": [
      "\n",
      "375\n"
     ]
    },
    {
     "name": "stderr",
     "output_type": "stream",
     "text": [
      "05-25 11:11:43 [375] Lr: 0.000105, Training: 100.00%,  Loss: 0.00094, Acc: 99.97%, Recall: 99.98%, F1: 99.97%%\r"
     ]
    },
    {
     "name": "stdout",
     "output_type": "stream",
     "text": [
      "\n"
     ]
    },
    {
     "name": "stderr",
     "output_type": "stream",
     "text": [
      "100%|███████████████████████████████████████████████████████████████████████████████████████████████████████████| 5100/5100 [01:26<00:00, 59.08it/s]\n"
     ]
    },
    {
     "name": "stdout",
     "output_type": "stream",
     "text": [
      "2024-05-25 11:13:10 375 epoch, Acc 99.97%, Recall 99.98%, F1 99.97%, Val_acc 99.06%, Best_acc 99.25%, Val_recall 99.17%, Best_recall 99.79%, Val_f1  99.00%, Best_f1 99.21%\n",
      "376\n"
     ]
    },
    {
     "name": "stderr",
     "output_type": "stream",
     "text": [
      "05-25 11:14:23 [376] Lr: 0.000102, Training: 100.00%,  Loss: 0.00162, Acc: 99.96%, Recall: 99.94%, F1: 99.95%%\r"
     ]
    },
    {
     "name": "stdout",
     "output_type": "stream",
     "text": [
      "\n",
      "377\n"
     ]
    },
    {
     "name": "stderr",
     "output_type": "stream",
     "text": [
      "05-25 11:15:35 [377] Lr: 0.000102, Training: 100.00%,  Loss: 0.00282, Acc: 99.88%, Recall: 99.90%, F1: 99.87%%\r"
     ]
    },
    {
     "name": "stdout",
     "output_type": "stream",
     "text": [
      "\n",
      "378\n"
     ]
    },
    {
     "name": "stderr",
     "output_type": "stream",
     "text": [
      "05-25 11:16:47 [378] Lr: 0.000102, Training: 100.00%,  Loss: 0.00174, Acc: 99.93%, Recall: 99.90%, F1: 99.93%0%\r"
     ]
    },
    {
     "name": "stdout",
     "output_type": "stream",
     "text": [
      "\n",
      "379\n"
     ]
    },
    {
     "name": "stderr",
     "output_type": "stream",
     "text": [
      "05-25 11:18:00 [379] Lr: 0.000102, Training: 100.00%,  Loss: 0.00281, Acc: 99.91%, Recall: 99.88%, F1: 99.91%%\r"
     ]
    },
    {
     "name": "stdout",
     "output_type": "stream",
     "text": [
      "\n",
      "380\n"
     ]
    },
    {
     "name": "stderr",
     "output_type": "stream",
     "text": [
      "05-25 11:19:12 [380] Lr: 0.000102, Training: 100.00%,  Loss: 0.00094, Acc: 99.97%, Recall: 99.97%, F1: 99.97%0%\r"
     ]
    },
    {
     "name": "stdout",
     "output_type": "stream",
     "text": [
      "\n"
     ]
    },
    {
     "name": "stderr",
     "output_type": "stream",
     "text": [
      "100%|███████████████████████████████████████████████████████████████████████████████████████████████████████████| 5100/5100 [01:26<00:00, 58.89it/s]\n"
     ]
    },
    {
     "name": "stdout",
     "output_type": "stream",
     "text": [
      "2024-05-25 11:20:39 380 epoch, Acc 99.97%, Recall 99.97%, F1 99.97%, Val_acc 98.76%, Best_acc 99.25%, Val_recall 99.50%, Best_recall 99.79%, Val_f1  98.70%, Best_f1 99.21%\n",
      "381\n"
     ]
    },
    {
     "name": "stderr",
     "output_type": "stream",
     "text": [
      "05-25 11:21:52 [381] Lr: 0.000099, Training: 100.00%,  Loss: 0.00207, Acc: 99.94%, Recall: 99.91%, F1: 99.93%%\r"
     ]
    },
    {
     "name": "stdout",
     "output_type": "stream",
     "text": [
      "\n",
      "382\n"
     ]
    },
    {
     "name": "stderr",
     "output_type": "stream",
     "text": [
      "05-25 11:23:05 [382] Lr: 0.000099, Training: 100.00%,  Loss: 0.00285, Acc: 99.93%, Recall: 99.93%, F1: 99.92%%\r"
     ]
    },
    {
     "name": "stdout",
     "output_type": "stream",
     "text": [
      "\n",
      "383\n"
     ]
    },
    {
     "name": "stderr",
     "output_type": "stream",
     "text": [
      "05-25 11:24:20 [383] Lr: 0.000099, Training: 100.00%,  Loss: 0.00145, Acc: 99.95%, Recall: 99.93%, F1: 99.94%0%\r"
     ]
    },
    {
     "name": "stdout",
     "output_type": "stream",
     "text": [
      "\n",
      "384\n"
     ]
    },
    {
     "name": "stderr",
     "output_type": "stream",
     "text": [
      "05-25 11:25:35 [384] Lr: 0.000099, Training: 100.00%,  Loss: 0.00186, Acc: 99.94%, Recall: 99.93%, F1: 99.94%0%\r"
     ]
    },
    {
     "name": "stdout",
     "output_type": "stream",
     "text": [
      "\n",
      "385\n"
     ]
    },
    {
     "name": "stderr",
     "output_type": "stream",
     "text": [
      "05-25 11:26:48 [385] Lr: 0.000099, Training: 100.00%,  Loss: 0.00262, Acc: 99.92%, Recall: 99.89%, F1: 99.91%%\r"
     ]
    },
    {
     "name": "stdout",
     "output_type": "stream",
     "text": [
      "\n"
     ]
    },
    {
     "name": "stderr",
     "output_type": "stream",
     "text": [
      "100%|███████████████████████████████████████████████████████████████████████████████████████████████████████████| 5100/5100 [01:26<00:00, 58.91it/s]\n"
     ]
    },
    {
     "name": "stdout",
     "output_type": "stream",
     "text": [
      "2024-05-25 11:28:15 385 epoch, Acc 99.92%, Recall 99.89%, F1 99.91%, Val_acc 99.16%, Best_acc 99.25%, Val_recall 99.33%, Best_recall 99.79%, Val_f1  99.11%, Best_f1 99.21%\n",
      "386\n"
     ]
    },
    {
     "name": "stderr",
     "output_type": "stream",
     "text": [
      "05-25 11:29:28 [386] Lr: 0.000096, Training: 100.00%,  Loss: 0.00152, Acc: 99.95%, Recall: 99.95%, F1: 99.94%%\r"
     ]
    },
    {
     "name": "stdout",
     "output_type": "stream",
     "text": [
      "\n",
      "387\n"
     ]
    },
    {
     "name": "stderr",
     "output_type": "stream",
     "text": [
      "05-25 11:30:40 [387] Lr: 0.000096, Training: 100.00%,  Loss: 0.00174, Acc: 99.95%, Recall: 99.93%, F1: 99.94%%\r"
     ]
    },
    {
     "name": "stdout",
     "output_type": "stream",
     "text": [
      "\n",
      "388\n"
     ]
    },
    {
     "name": "stderr",
     "output_type": "stream",
     "text": [
      "05-25 11:31:53 [388] Lr: 0.000096, Training: 100.00%,  Loss: 0.00123, Acc: 99.97%, Recall: 99.98%, F1: 99.96%%\r"
     ]
    },
    {
     "name": "stdout",
     "output_type": "stream",
     "text": [
      "\n",
      "389\n"
     ]
    },
    {
     "name": "stderr",
     "output_type": "stream",
     "text": [
      "05-25 11:33:06 [389] Lr: 0.000096, Training: 100.00%,  Loss: 0.00066, Acc: 99.99%, Recall: 99.99%, F1: 99.98%%\r"
     ]
    },
    {
     "name": "stdout",
     "output_type": "stream",
     "text": [
      "\n",
      "390\n"
     ]
    },
    {
     "name": "stderr",
     "output_type": "stream",
     "text": [
      "05-25 11:34:19 [390] Lr: 0.000096, Training: 100.00%,  Loss: 0.00160, Acc: 99.95%, Recall: 99.93%, F1: 99.95%%\r"
     ]
    },
    {
     "name": "stdout",
     "output_type": "stream",
     "text": [
      "\n"
     ]
    },
    {
     "name": "stderr",
     "output_type": "stream",
     "text": [
      "100%|███████████████████████████████████████████████████████████████████████████████████████████████████████████| 5100/5100 [01:26<00:00, 59.08it/s]\n"
     ]
    },
    {
     "name": "stdout",
     "output_type": "stream",
     "text": [
      "2024-05-25 11:35:46 390 epoch, Acc 99.95%, Recall 99.93%, F1 99.95%, Val_acc 99.22%, Best_acc 99.25%, Val_recall 99.62%, Best_recall 99.79%, Val_f1  99.17%, Best_f1 99.21%\n",
      "391\n"
     ]
    },
    {
     "name": "stderr",
     "output_type": "stream",
     "text": [
      "05-25 11:36:58 [391] Lr: 0.000093, Training: 100.00%,  Loss: 0.00158, Acc: 99.94%, Recall: 99.94%, F1: 99.93%0%\r"
     ]
    },
    {
     "name": "stdout",
     "output_type": "stream",
     "text": [
      "\n",
      "392\n"
     ]
    },
    {
     "name": "stderr",
     "output_type": "stream",
     "text": [
      "05-25 11:38:11 [392] Lr: 0.000093, Training: 100.00%,  Loss: 0.00169, Acc: 99.96%, Recall: 99.95%, F1: 99.95%%\r"
     ]
    },
    {
     "name": "stdout",
     "output_type": "stream",
     "text": [
      "\n",
      "393\n"
     ]
    },
    {
     "name": "stderr",
     "output_type": "stream",
     "text": [
      "05-25 11:39:23 [393] Lr: 0.000093, Training: 100.00%,  Loss: 0.00089, Acc: 99.96%, Recall: 99.95%, F1: 99.95%%\r"
     ]
    },
    {
     "name": "stdout",
     "output_type": "stream",
     "text": [
      "\n",
      "394\n"
     ]
    },
    {
     "name": "stderr",
     "output_type": "stream",
     "text": [
      "05-25 11:40:36 [394] Lr: 0.000093, Training: 100.00%,  Loss: 0.00162, Acc: 99.94%, Recall: 99.93%, F1: 99.93%%\r"
     ]
    },
    {
     "name": "stdout",
     "output_type": "stream",
     "text": [
      "\n",
      "395\n"
     ]
    },
    {
     "name": "stderr",
     "output_type": "stream",
     "text": [
      "05-25 11:41:48 [395] Lr: 0.000093, Training: 100.00%,  Loss: 0.00191, Acc: 99.93%, Recall: 99.91%, F1: 99.92%%\r"
     ]
    },
    {
     "name": "stdout",
     "output_type": "stream",
     "text": [
      "\n"
     ]
    },
    {
     "name": "stderr",
     "output_type": "stream",
     "text": [
      "100%|███████████████████████████████████████████████████████████████████████████████████████████████████████████| 5100/5100 [01:26<00:00, 59.21it/s]\n"
     ]
    },
    {
     "name": "stdout",
     "output_type": "stream",
     "text": [
      "2024-05-25 11:43:15 395 epoch, Acc 99.93%, Recall 99.91%, F1 99.92%, Val_acc 98.98%, Best_acc 99.25%, Val_recall 99.62%, Best_recall 99.79%, Val_f1  98.92%, Best_f1 99.21%\n",
      "396\n"
     ]
    },
    {
     "name": "stderr",
     "output_type": "stream",
     "text": [
      "05-25 11:44:28 [396] Lr: 0.000090, Training: 100.00%,  Loss: 0.00125, Acc: 99.95%, Recall: 99.94%, F1: 99.94%%\r"
     ]
    },
    {
     "name": "stdout",
     "output_type": "stream",
     "text": [
      "\n",
      "397\n"
     ]
    },
    {
     "name": "stderr",
     "output_type": "stream",
     "text": [
      "05-25 11:45:41 [397] Lr: 0.000090, Training: 100.00%,  Loss: 0.00064, Acc: 99.99%, Recall: 100.00%, F1: 99.98%\r"
     ]
    },
    {
     "name": "stdout",
     "output_type": "stream",
     "text": [
      "\n",
      "398\n"
     ]
    },
    {
     "name": "stderr",
     "output_type": "stream",
     "text": [
      "05-25 11:46:53 [398] Lr: 0.000090, Training: 100.00%,  Loss: 0.00207, Acc: 99.92%, Recall: 99.90%, F1: 99.91%%\r"
     ]
    },
    {
     "name": "stdout",
     "output_type": "stream",
     "text": [
      "\n",
      "399\n"
     ]
    },
    {
     "name": "stderr",
     "output_type": "stream",
     "text": [
      "05-25 11:48:06 [399] Lr: 0.000090, Training: 100.00%,  Loss: 0.00209, Acc: 99.92%, Recall: 99.91%, F1: 99.92%%\r"
     ]
    },
    {
     "name": "stdout",
     "output_type": "stream",
     "text": [
      "\n",
      "400\n"
     ]
    },
    {
     "name": "stderr",
     "output_type": "stream",
     "text": [
      "05-25 11:49:19 [400] Lr: 0.000090, Training: 100.00%,  Loss: 0.00249, Acc: 99.92%, Recall: 99.92%, F1: 99.92%%\r"
     ]
    },
    {
     "name": "stdout",
     "output_type": "stream",
     "text": [
      "\n"
     ]
    },
    {
     "name": "stderr",
     "output_type": "stream",
     "text": [
      "100%|███████████████████████████████████████████████████████████████████████████████████████████████████████████| 5100/5100 [01:26<00:00, 59.12it/s]\n"
     ]
    },
    {
     "name": "stdout",
     "output_type": "stream",
     "text": [
      "2024-05-25 11:50:46 400 epoch, Acc 99.92%, Recall 99.92%, F1 99.92%, Val_acc 99.00%, Best_acc 99.25%, Val_recall 99.50%, Best_recall 99.79%, Val_f1  98.94%, Best_f1 99.21%\n",
      "401\n"
     ]
    },
    {
     "name": "stderr",
     "output_type": "stream",
     "text": [
      "05-25 11:51:58 [401] Lr: 0.000087, Training: 100.00%,  Loss: 0.00153, Acc: 99.94%, Recall: 99.94%, F1: 99.94%%\r"
     ]
    },
    {
     "name": "stdout",
     "output_type": "stream",
     "text": [
      "\n",
      "402\n"
     ]
    },
    {
     "name": "stderr",
     "output_type": "stream",
     "text": [
      "05-25 11:53:12 [402] Lr: 0.000087, Training: 100.00%,  Loss: 0.00126, Acc: 99.93%, Recall: 99.93%, F1: 99.93%%\r"
     ]
    },
    {
     "name": "stdout",
     "output_type": "stream",
     "text": [
      "\n",
      "403\n"
     ]
    },
    {
     "name": "stderr",
     "output_type": "stream",
     "text": [
      "05-25 11:54:24 [403] Lr: 0.000087, Training: 100.00%,  Loss: 0.00096, Acc: 99.95%, Recall: 99.93%, F1: 99.95%0%\r"
     ]
    },
    {
     "name": "stdout",
     "output_type": "stream",
     "text": [
      "\n",
      "404\n"
     ]
    },
    {
     "name": "stderr",
     "output_type": "stream",
     "text": [
      "05-25 11:55:36 [404] Lr: 0.000087, Training: 100.00%,  Loss: 0.00163, Acc: 99.96%, Recall: 99.95%, F1: 99.95%0%\r"
     ]
    },
    {
     "name": "stdout",
     "output_type": "stream",
     "text": [
      "\n",
      "405\n"
     ]
    },
    {
     "name": "stderr",
     "output_type": "stream",
     "text": [
      "05-25 11:56:49 [405] Lr: 0.000087, Training: 100.00%,  Loss: 0.00098, Acc: 99.96%, Recall: 99.96%, F1: 99.96%%\r"
     ]
    },
    {
     "name": "stdout",
     "output_type": "stream",
     "text": [
      "\n"
     ]
    },
    {
     "name": "stderr",
     "output_type": "stream",
     "text": [
      "100%|███████████████████████████████████████████████████████████████████████████████████████████████████████████| 5100/5100 [01:28<00:00, 57.48it/s]\n"
     ]
    },
    {
     "name": "stdout",
     "output_type": "stream",
     "text": [
      "2024-05-25 11:58:18 405 epoch, Acc 99.96%, Recall 99.96%, F1 99.96%, Val_acc 99.04%, Best_acc 99.25%, Val_recall 99.42%, Best_recall 99.79%, Val_f1  98.98%, Best_f1 99.21%\n",
      "406\n"
     ]
    },
    {
     "name": "stderr",
     "output_type": "stream",
     "text": [
      "05-25 11:59:31 [406] Lr: 0.000085, Training: 100.00%,  Loss: 0.00226, Acc: 99.93%, Recall: 99.92%, F1: 99.92%%\r"
     ]
    },
    {
     "name": "stdout",
     "output_type": "stream",
     "text": [
      "\n",
      "407\n"
     ]
    },
    {
     "name": "stderr",
     "output_type": "stream",
     "text": [
      "05-25 12:00:43 [407] Lr: 0.000085, Training: 100.00%,  Loss: 0.00212, Acc: 99.94%, Recall: 99.95%, F1: 99.94%%\r"
     ]
    },
    {
     "name": "stdout",
     "output_type": "stream",
     "text": [
      "\n",
      "408\n"
     ]
    },
    {
     "name": "stderr",
     "output_type": "stream",
     "text": [
      "05-25 12:01:55 [408] Lr: 0.000085, Training: 100.00%,  Loss: 0.00174, Acc: 99.94%, Recall: 99.93%, F1: 99.93%\r"
     ]
    },
    {
     "name": "stdout",
     "output_type": "stream",
     "text": [
      "\n",
      "409\n"
     ]
    },
    {
     "name": "stderr",
     "output_type": "stream",
     "text": [
      "05-25 12:03:07 [409] Lr: 0.000085, Training: 100.00%,  Loss: 0.00263, Acc: 99.95%, Recall: 99.96%, F1: 99.94%%\r"
     ]
    },
    {
     "name": "stdout",
     "output_type": "stream",
     "text": [
      "\n",
      "410\n"
     ]
    },
    {
     "name": "stderr",
     "output_type": "stream",
     "text": [
      "05-25 12:04:20 [410] Lr: 0.000085, Training: 100.00%,  Loss: 0.00090, Acc: 99.98%, Recall: 99.97%, F1: 99.97%%\r"
     ]
    },
    {
     "name": "stdout",
     "output_type": "stream",
     "text": [
      "\n"
     ]
    },
    {
     "name": "stderr",
     "output_type": "stream",
     "text": [
      "100%|███████████████████████████████████████████████████████████████████████████████████████████████████████████| 5100/5100 [01:29<00:00, 57.21it/s]\n"
     ]
    },
    {
     "name": "stdout",
     "output_type": "stream",
     "text": [
      "2024-05-25 12:05:50 410 epoch, Acc 99.98%, Recall 99.97%, F1 99.97%, Val_acc 99.25%, Best_acc 99.25%, Val_recall 99.46%, Best_recall 99.79%, Val_f1  99.21%, Best_f1 99.21%\n",
      "411\n"
     ]
    },
    {
     "name": "stderr",
     "output_type": "stream",
     "text": [
      "05-25 12:07:03 [411] Lr: 0.000082, Training: 100.00%,  Loss: 0.00153, Acc: 99.95%, Recall: 99.95%, F1: 99.95%%\r"
     ]
    },
    {
     "name": "stdout",
     "output_type": "stream",
     "text": [
      "\n",
      "412\n"
     ]
    },
    {
     "name": "stderr",
     "output_type": "stream",
     "text": [
      "05-25 12:08:15 [412] Lr: 0.000082, Training: 100.00%,  Loss: 0.00142, Acc: 99.97%, Recall: 99.96%, F1: 99.96%\r"
     ]
    },
    {
     "name": "stdout",
     "output_type": "stream",
     "text": [
      "\n",
      "413\n"
     ]
    },
    {
     "name": "stderr",
     "output_type": "stream",
     "text": [
      "05-25 12:09:28 [413] Lr: 0.000082, Training: 100.00%,  Loss: 0.00106, Acc: 99.96%, Recall: 99.97%, F1: 99.96%0%\r"
     ]
    },
    {
     "name": "stdout",
     "output_type": "stream",
     "text": [
      "\n",
      "414\n"
     ]
    },
    {
     "name": "stderr",
     "output_type": "stream",
     "text": [
      "05-25 12:10:41 [414] Lr: 0.000082, Training: 100.00%,  Loss: 0.00057, Acc: 99.99%, Recall: 99.99%, F1: 99.99%%\r"
     ]
    },
    {
     "name": "stdout",
     "output_type": "stream",
     "text": [
      "\n",
      "415\n"
     ]
    },
    {
     "name": "stderr",
     "output_type": "stream",
     "text": [
      "05-25 12:11:54 [415] Lr: 0.000082, Training: 100.00%,  Loss: 0.00088, Acc: 99.96%, Recall: 99.96%, F1: 99.95%%\r"
     ]
    },
    {
     "name": "stdout",
     "output_type": "stream",
     "text": [
      "\n"
     ]
    },
    {
     "name": "stderr",
     "output_type": "stream",
     "text": [
      "100%|███████████████████████████████████████████████████████████████████████████████████████████████████████████| 5100/5100 [01:25<00:00, 59.56it/s]\n"
     ]
    },
    {
     "name": "stdout",
     "output_type": "stream",
     "text": [
      "2024-05-25 12:13:20 415 epoch, Acc 99.96%, Recall 99.96%, F1 99.95%, Val_acc 99.25%, Best_acc 99.25%, Val_recall 99.42%, Best_recall 99.79%, Val_f1  99.21%, Best_f1 99.21%\n",
      "416\n"
     ]
    },
    {
     "name": "stderr",
     "output_type": "stream",
     "text": [
      "05-25 12:14:33 [416] Lr: 0.000080, Training: 100.00%,  Loss: 0.00211, Acc: 99.92%, Recall: 99.92%, F1: 99.92%%\r"
     ]
    },
    {
     "name": "stdout",
     "output_type": "stream",
     "text": [
      "\n",
      "417\n"
     ]
    },
    {
     "name": "stderr",
     "output_type": "stream",
     "text": [
      "05-25 12:15:45 [417] Lr: 0.000080, Training: 100.00%,  Loss: 0.00094, Acc: 99.96%, Recall: 99.94%, F1: 99.95%%\r"
     ]
    },
    {
     "name": "stdout",
     "output_type": "stream",
     "text": [
      "\n",
      "418\n"
     ]
    },
    {
     "name": "stderr",
     "output_type": "stream",
     "text": [
      "05-25 12:16:58 [418] Lr: 0.000080, Training: 100.00%,  Loss: 0.00187, Acc: 99.92%, Recall: 99.93%, F1: 99.91%%\r"
     ]
    },
    {
     "name": "stdout",
     "output_type": "stream",
     "text": [
      "\n",
      "419\n"
     ]
    },
    {
     "name": "stderr",
     "output_type": "stream",
     "text": [
      "05-25 12:18:10 [419] Lr: 0.000080, Training: 100.00%,  Loss: 0.00079, Acc: 99.97%, Recall: 99.98%, F1: 99.96%%\r"
     ]
    },
    {
     "name": "stdout",
     "output_type": "stream",
     "text": [
      "\n",
      "420\n"
     ]
    },
    {
     "name": "stderr",
     "output_type": "stream",
     "text": [
      "05-25 12:19:23 [420] Lr: 0.000080, Training: 100.00%,  Loss: 0.00061, Acc: 99.99%, Recall: 99.99%, F1: 99.98%%\r"
     ]
    },
    {
     "name": "stdout",
     "output_type": "stream",
     "text": [
      "\n"
     ]
    },
    {
     "name": "stderr",
     "output_type": "stream",
     "text": [
      "100%|███████████████████████████████████████████████████████████████████████████████████████████████████████████| 5100/5100 [01:25<00:00, 59.43it/s]\n"
     ]
    },
    {
     "name": "stdout",
     "output_type": "stream",
     "text": [
      "2024-05-25 12:20:49 420 epoch, Acc 99.99%, Recall 99.99%, F1 99.98%, Val_acc 99.20%, Best_acc 99.25%, Val_recall 99.21%, Best_recall 99.79%, Val_f1  99.15%, Best_f1 99.21%\n",
      "421\n"
     ]
    },
    {
     "name": "stderr",
     "output_type": "stream",
     "text": [
      "05-25 12:22:01 [421] Lr: 0.000077, Training: 100.00%,  Loss: 0.00104, Acc: 99.98%, Recall: 99.98%, F1: 99.97%%\r"
     ]
    },
    {
     "name": "stdout",
     "output_type": "stream",
     "text": [
      "\n",
      "422\n"
     ]
    },
    {
     "name": "stderr",
     "output_type": "stream",
     "text": [
      "05-25 12:23:14 [422] Lr: 0.000077, Training: 100.00%,  Loss: 0.00064, Acc: 99.97%, Recall: 99.97%, F1: 99.97%%\r"
     ]
    },
    {
     "name": "stdout",
     "output_type": "stream",
     "text": [
      "\n",
      "423\n"
     ]
    },
    {
     "name": "stderr",
     "output_type": "stream",
     "text": [
      "05-25 12:24:28 [423] Lr: 0.000077, Training: 100.00%,  Loss: 0.00166, Acc: 99.96%, Recall: 99.95%, F1: 99.96%0%\r"
     ]
    },
    {
     "name": "stdout",
     "output_type": "stream",
     "text": [
      "\n",
      "424\n"
     ]
    },
    {
     "name": "stderr",
     "output_type": "stream",
     "text": [
      "05-25 12:25:43 [424] Lr: 0.000077, Training: 100.00%,  Loss: 0.00126, Acc: 99.95%, Recall: 99.96%, F1: 99.95%%\r"
     ]
    },
    {
     "name": "stdout",
     "output_type": "stream",
     "text": [
      "\n",
      "425\n"
     ]
    },
    {
     "name": "stderr",
     "output_type": "stream",
     "text": [
      "05-25 12:26:56 [425] Lr: 0.000077, Training: 100.00%,  Loss: 0.00163, Acc: 99.95%, Recall: 99.97%, F1: 99.95%%\r"
     ]
    },
    {
     "name": "stdout",
     "output_type": "stream",
     "text": [
      "\n"
     ]
    },
    {
     "name": "stderr",
     "output_type": "stream",
     "text": [
      "100%|███████████████████████████████████████████████████████████████████████████████████████████████████████████| 5100/5100 [01:27<00:00, 58.31it/s]\n"
     ]
    },
    {
     "name": "stdout",
     "output_type": "stream",
     "text": [
      "2024-05-25 12:28:24 425 epoch, Acc 99.95%, Recall 99.97%, F1 99.95%, Val_acc 99.31%, Best_acc 99.31%, Val_recall 99.29%, Best_recall 99.79%, Val_f1  99.27%, Best_f1 99.27%\n",
      "426\n"
     ]
    },
    {
     "name": "stderr",
     "output_type": "stream",
     "text": [
      "05-25 12:29:37 [426] Lr: 0.000075, Training: 100.00%,  Loss: 0.00092, Acc: 99.98%, Recall: 99.95%, F1: 99.97%0%\r"
     ]
    },
    {
     "name": "stdout",
     "output_type": "stream",
     "text": [
      "\n",
      "427\n"
     ]
    },
    {
     "name": "stderr",
     "output_type": "stream",
     "text": [
      "05-25 12:30:50 [427] Lr: 0.000075, Training: 100.00%,  Loss: 0.00079, Acc: 99.97%, Recall: 99.97%, F1: 99.96%%\r"
     ]
    },
    {
     "name": "stdout",
     "output_type": "stream",
     "text": [
      "\n",
      "428\n"
     ]
    },
    {
     "name": "stderr",
     "output_type": "stream",
     "text": [
      "05-25 12:32:02 [428] Lr: 0.000075, Training: 100.00%,  Loss: 0.00094, Acc: 99.95%, Recall: 99.97%, F1: 99.95%%\r"
     ]
    },
    {
     "name": "stdout",
     "output_type": "stream",
     "text": [
      "\n",
      "429\n"
     ]
    },
    {
     "name": "stderr",
     "output_type": "stream",
     "text": [
      "05-25 12:33:15 [429] Lr: 0.000075, Training: 100.00%,  Loss: 0.00132, Acc: 99.94%, Recall: 99.95%, F1: 99.93%0%\r"
     ]
    },
    {
     "name": "stdout",
     "output_type": "stream",
     "text": [
      "\n",
      "430\n"
     ]
    },
    {
     "name": "stderr",
     "output_type": "stream",
     "text": [
      "05-25 12:34:28 [430] Lr: 0.000075, Training: 100.00%,  Loss: 0.00126, Acc: 99.95%, Recall: 99.94%, F1: 99.95%%\r"
     ]
    },
    {
     "name": "stdout",
     "output_type": "stream",
     "text": [
      "\n"
     ]
    },
    {
     "name": "stderr",
     "output_type": "stream",
     "text": [
      "100%|███████████████████████████████████████████████████████████████████████████████████████████████████████████| 5100/5100 [01:28<00:00, 57.68it/s]\n"
     ]
    },
    {
     "name": "stdout",
     "output_type": "stream",
     "text": [
      "2024-05-25 12:35:57 430 epoch, Acc 99.95%, Recall 99.94%, F1 99.95%, Val_acc 99.04%, Best_acc 99.31%, Val_recall 99.46%, Best_recall 99.79%, Val_f1  98.98%, Best_f1 99.27%\n",
      "431\n"
     ]
    },
    {
     "name": "stderr",
     "output_type": "stream",
     "text": [
      "05-25 12:37:09 [431] Lr: 0.000073, Training: 100.00%,  Loss: 0.00244, Acc: 99.94%, Recall: 99.95%, F1: 99.94%%\r"
     ]
    },
    {
     "name": "stdout",
     "output_type": "stream",
     "text": [
      "\n",
      "432\n"
     ]
    },
    {
     "name": "stderr",
     "output_type": "stream",
     "text": [
      "05-25 12:38:21 [432] Lr: 0.000073, Training: 100.00%,  Loss: 0.00138, Acc: 99.95%, Recall: 99.95%, F1: 99.95%0%\r"
     ]
    },
    {
     "name": "stdout",
     "output_type": "stream",
     "text": [
      "\n",
      "433\n"
     ]
    },
    {
     "name": "stderr",
     "output_type": "stream",
     "text": [
      "05-25 12:39:34 [433] Lr: 0.000073, Training: 100.00%,  Loss: 0.00108, Acc: 99.98%, Recall: 99.98%, F1: 99.98%0%\r"
     ]
    },
    {
     "name": "stdout",
     "output_type": "stream",
     "text": [
      "\n",
      "434\n"
     ]
    },
    {
     "name": "stderr",
     "output_type": "stream",
     "text": [
      "05-25 12:40:46 [434] Lr: 0.000073, Training: 100.00%,  Loss: 0.00056, Acc: 99.98%, Recall: 99.99%, F1: 99.98%%\r"
     ]
    },
    {
     "name": "stdout",
     "output_type": "stream",
     "text": [
      "\n",
      "435\n"
     ]
    },
    {
     "name": "stderr",
     "output_type": "stream",
     "text": [
      "05-25 12:41:58 [435] Lr: 0.000073, Training: 100.00%,  Loss: 0.00114, Acc: 99.97%, Recall: 99.96%, F1: 99.96%%\r"
     ]
    },
    {
     "name": "stdout",
     "output_type": "stream",
     "text": [
      "\n"
     ]
    },
    {
     "name": "stderr",
     "output_type": "stream",
     "text": [
      "100%|███████████████████████████████████████████████████████████████████████████████████████████████████████████| 5100/5100 [01:28<00:00, 57.62it/s]\n"
     ]
    },
    {
     "name": "stdout",
     "output_type": "stream",
     "text": [
      "2024-05-25 12:43:28 435 epoch, Acc 99.97%, Recall 99.96%, F1 99.96%, Val_acc 99.22%, Best_acc 99.31%, Val_recall 99.42%, Best_recall 99.79%, Val_f1  99.17%, Best_f1 99.27%\n",
      "436\n"
     ]
    },
    {
     "name": "stderr",
     "output_type": "stream",
     "text": [
      "05-25 12:44:40 [436] Lr: 0.000071, Training: 100.00%,  Loss: 0.00179, Acc: 99.94%, Recall: 99.94%, F1: 99.94%%\r"
     ]
    },
    {
     "name": "stdout",
     "output_type": "stream",
     "text": [
      "\n",
      "437\n"
     ]
    },
    {
     "name": "stderr",
     "output_type": "stream",
     "text": [
      "05-25 12:45:53 [437] Lr: 0.000071, Training: 100.00%,  Loss: 0.00155, Acc: 99.94%, Recall: 99.94%, F1: 99.94%%\r"
     ]
    },
    {
     "name": "stdout",
     "output_type": "stream",
     "text": [
      "\n",
      "438\n"
     ]
    },
    {
     "name": "stderr",
     "output_type": "stream",
     "text": [
      "05-25 12:47:08 [438] Lr: 0.000071, Training: 100.00%,  Loss: 0.00128, Acc: 99.96%, Recall: 99.95%, F1: 99.96%0%\r"
     ]
    },
    {
     "name": "stdout",
     "output_type": "stream",
     "text": [
      "\n",
      "439\n"
     ]
    },
    {
     "name": "stderr",
     "output_type": "stream",
     "text": [
      "05-25 12:48:20 [439] Lr: 0.000071, Training: 100.00%,  Loss: 0.00113, Acc: 99.97%, Recall: 99.96%, F1: 99.96%%\r"
     ]
    },
    {
     "name": "stdout",
     "output_type": "stream",
     "text": [
      "\n",
      "440\n"
     ]
    },
    {
     "name": "stderr",
     "output_type": "stream",
     "text": [
      "05-25 12:49:33 [440] Lr: 0.000071, Training: 100.00%,  Loss: 0.00114, Acc: 99.97%, Recall: 99.95%, F1: 99.96%0%\r"
     ]
    },
    {
     "name": "stdout",
     "output_type": "stream",
     "text": [
      "\n"
     ]
    },
    {
     "name": "stderr",
     "output_type": "stream",
     "text": [
      "100%|███████████████████████████████████████████████████████████████████████████████████████████████████████████| 5100/5100 [01:28<00:00, 57.59it/s]\n"
     ]
    },
    {
     "name": "stdout",
     "output_type": "stream",
     "text": [
      "2024-05-25 12:51:02 440 epoch, Acc 99.97%, Recall 99.95%, F1 99.96%, Val_acc 99.20%, Best_acc 99.31%, Val_recall 99.62%, Best_recall 99.79%, Val_f1  99.15%, Best_f1 99.27%\n",
      "441\n"
     ]
    },
    {
     "name": "stderr",
     "output_type": "stream",
     "text": [
      "05-25 12:52:14 [441] Lr: 0.000069, Training: 100.00%,  Loss: 0.00123, Acc: 99.93%, Recall: 99.93%, F1: 99.92%%\r"
     ]
    },
    {
     "name": "stdout",
     "output_type": "stream",
     "text": [
      "\n",
      "442\n"
     ]
    },
    {
     "name": "stderr",
     "output_type": "stream",
     "text": [
      "05-25 12:53:27 [442] Lr: 0.000069, Training: 100.00%,  Loss: 0.00102, Acc: 99.96%, Recall: 99.95%, F1: 99.96%0%\r"
     ]
    },
    {
     "name": "stdout",
     "output_type": "stream",
     "text": [
      "\n",
      "443\n"
     ]
    },
    {
     "name": "stderr",
     "output_type": "stream",
     "text": [
      "05-25 12:54:39 [443] Lr: 0.000069, Training: 100.00%,  Loss: 0.00058, Acc: 99.99%, Recall: 99.98%, F1: 99.99%%\r"
     ]
    },
    {
     "name": "stdout",
     "output_type": "stream",
     "text": [
      "\n",
      "444\n"
     ]
    },
    {
     "name": "stderr",
     "output_type": "stream",
     "text": [
      "05-25 12:55:51 [444] Lr: 0.000069, Training: 100.00%,  Loss: 0.00131, Acc: 99.98%, Recall: 99.98%, F1: 99.97%%\r"
     ]
    },
    {
     "name": "stdout",
     "output_type": "stream",
     "text": [
      "\n",
      "445\n"
     ]
    },
    {
     "name": "stderr",
     "output_type": "stream",
     "text": [
      "05-25 12:57:04 [445] Lr: 0.000069, Training: 100.00%,  Loss: 0.00077, Acc: 99.97%, Recall: 99.97%, F1: 99.96%0%\r"
     ]
    },
    {
     "name": "stdout",
     "output_type": "stream",
     "text": [
      "\n"
     ]
    },
    {
     "name": "stderr",
     "output_type": "stream",
     "text": [
      "100%|███████████████████████████████████████████████████████████████████████████████████████████████████████████| 5100/5100 [01:30<00:00, 56.66it/s]\n"
     ]
    },
    {
     "name": "stdout",
     "output_type": "stream",
     "text": [
      "2024-05-25 12:58:34 445 epoch, Acc 99.97%, Recall 99.97%, F1 99.96%, Val_acc 99.24%, Best_acc 99.31%, Val_recall 99.12%, Best_recall 99.79%, Val_f1  99.19%, Best_f1 99.27%\n",
      "446\n"
     ]
    },
    {
     "name": "stderr",
     "output_type": "stream",
     "text": [
      "05-25 12:59:47 [446] Lr: 0.000066, Training: 100.00%,  Loss: 0.00036, Acc: 99.99%, Recall: 99.98%, F1: 99.98%0%\r"
     ]
    },
    {
     "name": "stdout",
     "output_type": "stream",
     "text": [
      "\n",
      "447\n"
     ]
    },
    {
     "name": "stderr",
     "output_type": "stream",
     "text": [
      "05-25 13:00:59 [447] Lr: 0.000066, Training: 100.00%,  Loss: 0.00139, Acc: 99.96%, Recall: 99.96%, F1: 99.95%0%\r"
     ]
    },
    {
     "name": "stdout",
     "output_type": "stream",
     "text": [
      "\n",
      "448\n"
     ]
    },
    {
     "name": "stderr",
     "output_type": "stream",
     "text": [
      "05-25 13:02:12 [448] Lr: 0.000066, Training: 100.00%,  Loss: 0.00163, Acc: 99.95%, Recall: 99.94%, F1: 99.95%%\r"
     ]
    },
    {
     "name": "stdout",
     "output_type": "stream",
     "text": [
      "\n",
      "449\n"
     ]
    },
    {
     "name": "stderr",
     "output_type": "stream",
     "text": [
      "05-25 13:03:24 [449] Lr: 0.000066, Training: 100.00%,  Loss: 0.00096, Acc: 99.97%, Recall: 99.97%, F1: 99.96%0%\r"
     ]
    },
    {
     "name": "stdout",
     "output_type": "stream",
     "text": [
      "\n",
      "450\n"
     ]
    },
    {
     "name": "stderr",
     "output_type": "stream",
     "text": [
      "05-25 13:04:36 [450] Lr: 0.000066, Training: 100.00%,  Loss: 0.00118, Acc: 99.96%, Recall: 99.95%, F1: 99.96%%\r"
     ]
    },
    {
     "name": "stdout",
     "output_type": "stream",
     "text": [
      "\n"
     ]
    },
    {
     "name": "stderr",
     "output_type": "stream",
     "text": [
      "100%|███████████████████████████████████████████████████████████████████████████████████████████████████████████| 5100/5100 [01:29<00:00, 56.80it/s]\n"
     ]
    },
    {
     "name": "stdout",
     "output_type": "stream",
     "text": [
      "2024-05-25 13:06:07 450 epoch, Acc 99.96%, Recall 99.95%, F1 99.96%, Val_acc 99.25%, Best_acc 99.31%, Val_recall 99.54%, Best_recall 99.79%, Val_f1  99.21%, Best_f1 99.27%\n",
      "451\n"
     ]
    },
    {
     "name": "stderr",
     "output_type": "stream",
     "text": [
      "05-25 13:07:20 [451] Lr: 0.000064, Training: 100.00%,  Loss: 0.00171, Acc: 99.95%, Recall: 99.95%, F1: 99.94%%\r"
     ]
    },
    {
     "name": "stdout",
     "output_type": "stream",
     "text": [
      "\n",
      "452\n"
     ]
    },
    {
     "name": "stderr",
     "output_type": "stream",
     "text": [
      "05-25 13:08:33 [452] Lr: 0.000064, Training: 100.00%,  Loss: 0.00126, Acc: 99.95%, Recall: 99.94%, F1: 99.95%0%\r"
     ]
    },
    {
     "name": "stdout",
     "output_type": "stream",
     "text": [
      "\n",
      "453\n"
     ]
    },
    {
     "name": "stderr",
     "output_type": "stream",
     "text": [
      "05-25 13:09:46 [453] Lr: 0.000064, Training: 100.00%,  Loss: 0.00069, Acc: 99.98%, Recall: 99.97%, F1: 99.97%0%\r"
     ]
    },
    {
     "name": "stdout",
     "output_type": "stream",
     "text": [
      "\n",
      "454\n"
     ]
    },
    {
     "name": "stderr",
     "output_type": "stream",
     "text": [
      "05-25 13:10:58 [454] Lr: 0.000064, Training: 100.00%,  Loss: 0.00077, Acc: 99.98%, Recall: 99.97%, F1: 99.98%0%\r"
     ]
    },
    {
     "name": "stdout",
     "output_type": "stream",
     "text": [
      "\n",
      "455\n"
     ]
    },
    {
     "name": "stderr",
     "output_type": "stream",
     "text": [
      "05-25 13:12:11 [455] Lr: 0.000064, Training: 100.00%,  Loss: 0.00146, Acc: 99.95%, Recall: 99.95%, F1: 99.95%%\r"
     ]
    },
    {
     "name": "stdout",
     "output_type": "stream",
     "text": [
      "\n"
     ]
    },
    {
     "name": "stderr",
     "output_type": "stream",
     "text": [
      "100%|███████████████████████████████████████████████████████████████████████████████████████████████████████████| 5100/5100 [01:26<00:00, 58.85it/s]\n"
     ]
    },
    {
     "name": "stdout",
     "output_type": "stream",
     "text": [
      "2024-05-25 13:13:38 455 epoch, Acc 99.95%, Recall 99.95%, F1 99.95%, Val_acc 99.02%, Best_acc 99.31%, Val_recall 99.29%, Best_recall 99.79%, Val_f1  98.96%, Best_f1 99.27%\n",
      "456\n"
     ]
    },
    {
     "name": "stderr",
     "output_type": "stream",
     "text": [
      "05-25 13:14:51 [456] Lr: 0.000063, Training: 100.00%,  Loss: 0.00081, Acc: 99.96%, Recall: 99.96%, F1: 99.95%%\r"
     ]
    },
    {
     "name": "stdout",
     "output_type": "stream",
     "text": [
      "\n",
      "457\n"
     ]
    },
    {
     "name": "stderr",
     "output_type": "stream",
     "text": [
      "05-25 13:16:04 [457] Lr: 0.000063, Training: 100.00%,  Loss: 0.00090, Acc: 99.96%, Recall: 99.96%, F1: 99.96%%\r"
     ]
    },
    {
     "name": "stdout",
     "output_type": "stream",
     "text": [
      "\n",
      "458\n"
     ]
    },
    {
     "name": "stderr",
     "output_type": "stream",
     "text": [
      "05-25 13:17:17 [458] Lr: 0.000063, Training: 100.00%,  Loss: 0.00145, Acc: 99.96%, Recall: 99.95%, F1: 99.96%%\r"
     ]
    },
    {
     "name": "stdout",
     "output_type": "stream",
     "text": [
      "\n",
      "459\n"
     ]
    },
    {
     "name": "stderr",
     "output_type": "stream",
     "text": [
      "05-25 13:18:29 [459] Lr: 0.000063, Training: 100.00%,  Loss: 0.00119, Acc: 99.97%, Recall: 99.97%, F1: 99.96%0%\r"
     ]
    },
    {
     "name": "stdout",
     "output_type": "stream",
     "text": [
      "\n",
      "460\n"
     ]
    },
    {
     "name": "stderr",
     "output_type": "stream",
     "text": [
      "05-25 13:19:42 [460] Lr: 0.000063, Training: 100.00%,  Loss: 0.00115, Acc: 99.96%, Recall: 99.95%, F1: 99.95%%\r"
     ]
    },
    {
     "name": "stdout",
     "output_type": "stream",
     "text": [
      "\n"
     ]
    },
    {
     "name": "stderr",
     "output_type": "stream",
     "text": [
      "100%|███████████████████████████████████████████████████████████████████████████████████████████████████████████| 5100/5100 [01:26<00:00, 58.73it/s]\n"
     ]
    },
    {
     "name": "stdout",
     "output_type": "stream",
     "text": [
      "2024-05-25 13:21:09 460 epoch, Acc 99.96%, Recall 99.95%, F1 99.95%, Val_acc 98.76%, Best_acc 99.31%, Val_recall 99.54%, Best_recall 99.79%, Val_f1  98.70%, Best_f1 99.27%\n",
      "461\n"
     ]
    },
    {
     "name": "stderr",
     "output_type": "stream",
     "text": [
      "05-25 13:22:22 [461] Lr: 0.000061, Training: 100.00%,  Loss: 0.00096, Acc: 99.97%, Recall: 99.97%, F1: 99.96%0%\r"
     ]
    },
    {
     "name": "stdout",
     "output_type": "stream",
     "text": [
      "\n",
      "462\n"
     ]
    },
    {
     "name": "stderr",
     "output_type": "stream",
     "text": [
      "05-25 13:23:35 [462] Lr: 0.000061, Training: 100.00%,  Loss: 0.00083, Acc: 99.98%, Recall: 99.98%, F1: 99.98%%\r"
     ]
    },
    {
     "name": "stdout",
     "output_type": "stream",
     "text": [
      "\n",
      "463\n"
     ]
    },
    {
     "name": "stderr",
     "output_type": "stream",
     "text": [
      "05-25 13:24:48 [463] Lr: 0.000061, Training: 100.00%,  Loss: 0.00103, Acc: 99.95%, Recall: 99.94%, F1: 99.95%0%\r"
     ]
    },
    {
     "name": "stdout",
     "output_type": "stream",
     "text": [
      "\n",
      "464\n"
     ]
    },
    {
     "name": "stderr",
     "output_type": "stream",
     "text": [
      "05-25 13:26:01 [464] Lr: 0.000061, Training: 100.00%,  Loss: 0.00196, Acc: 99.98%, Recall: 99.95%, F1: 99.97%%\r"
     ]
    },
    {
     "name": "stdout",
     "output_type": "stream",
     "text": [
      "\n",
      "465\n"
     ]
    },
    {
     "name": "stderr",
     "output_type": "stream",
     "text": [
      "05-25 13:27:16 [465] Lr: 0.000061, Training: 100.00%,  Loss: 0.00099, Acc: 99.97%, Recall: 99.96%, F1: 99.96%%\r"
     ]
    },
    {
     "name": "stdout",
     "output_type": "stream",
     "text": [
      "\n"
     ]
    },
    {
     "name": "stderr",
     "output_type": "stream",
     "text": [
      "100%|███████████████████████████████████████████████████████████████████████████████████████████████████████████| 5100/5100 [01:29<00:00, 57.29it/s]\n"
     ]
    },
    {
     "name": "stdout",
     "output_type": "stream",
     "text": [
      "2024-05-25 13:28:46 465 epoch, Acc 99.97%, Recall 99.96%, F1 99.96%, Val_acc 99.08%, Best_acc 99.31%, Val_recall 99.33%, Best_recall 99.79%, Val_f1  99.02%, Best_f1 99.27%\n",
      "466\n"
     ]
    },
    {
     "name": "stderr",
     "output_type": "stream",
     "text": [
      "05-25 13:29:58 [466] Lr: 0.000059, Training: 100.00%,  Loss: 0.00068, Acc: 99.98%, Recall: 99.95%, F1: 99.97%%\r"
     ]
    },
    {
     "name": "stdout",
     "output_type": "stream",
     "text": [
      "\n",
      "467\n"
     ]
    },
    {
     "name": "stderr",
     "output_type": "stream",
     "text": [
      "05-25 13:31:11 [467] Lr: 0.000059, Training: 100.00%,  Loss: 0.00122, Acc: 99.96%, Recall: 99.94%, F1: 99.95%%\r"
     ]
    },
    {
     "name": "stdout",
     "output_type": "stream",
     "text": [
      "\n",
      "468\n"
     ]
    },
    {
     "name": "stderr",
     "output_type": "stream",
     "text": [
      "05-25 13:32:24 [468] Lr: 0.000059, Training: 100.00%,  Loss: 0.00105, Acc: 99.96%, Recall: 99.96%, F1: 99.95%%\r"
     ]
    },
    {
     "name": "stdout",
     "output_type": "stream",
     "text": [
      "\n",
      "469\n"
     ]
    },
    {
     "name": "stderr",
     "output_type": "stream",
     "text": [
      "05-25 13:33:37 [469] Lr: 0.000059, Training: 100.00%,  Loss: 0.00161, Acc: 99.95%, Recall: 99.95%, F1: 99.94%%\r"
     ]
    },
    {
     "name": "stdout",
     "output_type": "stream",
     "text": [
      "\n",
      "470\n"
     ]
    },
    {
     "name": "stderr",
     "output_type": "stream",
     "text": [
      "05-25 13:34:50 [470] Lr: 0.000059, Training: 100.00%,  Loss: 0.00117, Acc: 99.96%, Recall: 99.96%, F1: 99.96%0%\r"
     ]
    },
    {
     "name": "stdout",
     "output_type": "stream",
     "text": [
      "\n"
     ]
    },
    {
     "name": "stderr",
     "output_type": "stream",
     "text": [
      "100%|███████████████████████████████████████████████████████████████████████████████████████████████████████████| 5100/5100 [01:29<00:00, 56.82it/s]\n"
     ]
    },
    {
     "name": "stdout",
     "output_type": "stream",
     "text": [
      "2024-05-25 13:36:20 470 epoch, Acc 99.96%, Recall 99.96%, F1 99.96%, Val_acc 99.14%, Best_acc 99.31%, Val_recall 99.42%, Best_recall 99.79%, Val_f1  99.09%, Best_f1 99.27%\n",
      "471\n"
     ]
    },
    {
     "name": "stderr",
     "output_type": "stream",
     "text": [
      "05-25 13:37:35 [471] Lr: 0.000057, Training: 100.00%,  Loss: 0.00062, Acc: 99.98%, Recall: 99.97%, F1: 99.97%0%\r"
     ]
    },
    {
     "name": "stdout",
     "output_type": "stream",
     "text": [
      "\n",
      "472\n"
     ]
    },
    {
     "name": "stderr",
     "output_type": "stream",
     "text": [
      "05-25 13:38:51 [472] Lr: 0.000057, Training: 100.00%,  Loss: 0.00112, Acc: 99.97%, Recall: 99.97%, F1: 99.97%%\r"
     ]
    },
    {
     "name": "stdout",
     "output_type": "stream",
     "text": [
      "\n",
      "473\n"
     ]
    },
    {
     "name": "stderr",
     "output_type": "stream",
     "text": [
      "05-25 13:40:08 [473] Lr: 0.000057, Training: 100.00%,  Loss: 0.00167, Acc: 99.94%, Recall: 99.94%, F1: 99.93%0%\r"
     ]
    },
    {
     "name": "stdout",
     "output_type": "stream",
     "text": [
      "\n",
      "474\n"
     ]
    },
    {
     "name": "stderr",
     "output_type": "stream",
     "text": [
      "05-25 13:41:24 [474] Lr: 0.000057, Training: 100.00%,  Loss: 0.00131, Acc: 99.96%, Recall: 99.97%, F1: 99.96%\r"
     ]
    },
    {
     "name": "stdout",
     "output_type": "stream",
     "text": [
      "\n",
      "475\n"
     ]
    },
    {
     "name": "stderr",
     "output_type": "stream",
     "text": [
      "05-25 13:42:40 [475] Lr: 0.000057, Training: 100.00%,  Loss: 0.00131, Acc: 99.95%, Recall: 99.94%, F1: 99.94%%\r"
     ]
    },
    {
     "name": "stdout",
     "output_type": "stream",
     "text": [
      "\n"
     ]
    },
    {
     "name": "stderr",
     "output_type": "stream",
     "text": [
      "100%|███████████████████████████████████████████████████████████████████████████████████████████████████████████| 5100/5100 [01:35<00:00, 53.68it/s]\n"
     ]
    },
    {
     "name": "stdout",
     "output_type": "stream",
     "text": [
      "2024-05-25 13:44:16 475 epoch, Acc 99.95%, Recall 99.94%, F1 99.94%, Val_acc 98.96%, Best_acc 99.31%, Val_recall 99.42%, Best_recall 99.79%, Val_f1  98.90%, Best_f1 99.27%\n",
      "476\n"
     ]
    },
    {
     "name": "stderr",
     "output_type": "stream",
     "text": [
      "05-25 13:45:48 [476] Lr: 0.000055, Training: 100.00%,  Loss: 0.00067, Acc: 99.98%, Recall: 99.98%, F1: 99.98%0%\r"
     ]
    },
    {
     "name": "stdout",
     "output_type": "stream",
     "text": [
      "\n",
      "477\n"
     ]
    },
    {
     "name": "stderr",
     "output_type": "stream",
     "text": [
      "05-25 13:48:27 [477] Lr: 0.000055, Training: 100.00%,  Loss: 0.00058, Acc: 99.98%, Recall: 99.98%, F1: 99.97%0%\r"
     ]
    },
    {
     "name": "stdout",
     "output_type": "stream",
     "text": [
      "\n",
      "478\n"
     ]
    },
    {
     "name": "stderr",
     "output_type": "stream",
     "text": [
      "05-25 13:49:40 [478] Lr: 0.000055, Training: 100.00%,  Loss: 0.00067, Acc: 99.98%, Recall: 99.97%, F1: 99.97%%\r"
     ]
    },
    {
     "name": "stdout",
     "output_type": "stream",
     "text": [
      "\n",
      "479\n"
     ]
    },
    {
     "name": "stderr",
     "output_type": "stream",
     "text": [
      "05-25 13:50:52 [479] Lr: 0.000055, Training: 100.00%,  Loss: 0.00122, Acc: 99.95%, Recall: 99.94%, F1: 99.94%0%\r"
     ]
    },
    {
     "name": "stdout",
     "output_type": "stream",
     "text": [
      "\n",
      "480\n"
     ]
    },
    {
     "name": "stderr",
     "output_type": "stream",
     "text": [
      "05-25 13:52:05 [480] Lr: 0.000055, Training: 100.00%,  Loss: 0.00098, Acc: 99.98%, Recall: 99.98%, F1: 99.97%0%\r"
     ]
    },
    {
     "name": "stdout",
     "output_type": "stream",
     "text": [
      "\n"
     ]
    },
    {
     "name": "stderr",
     "output_type": "stream",
     "text": [
      "100%|███████████████████████████████████████████████████████████████████████████████████████████████████████████| 5100/5100 [02:53<00:00, 29.42it/s]\n"
     ]
    },
    {
     "name": "stdout",
     "output_type": "stream",
     "text": [
      "2024-05-25 13:54:59 480 epoch, Acc 99.98%, Recall 99.98%, F1 99.97%, Val_acc 99.18%, Best_acc 99.31%, Val_recall 99.12%, Best_recall 99.79%, Val_f1  99.12%, Best_f1 99.27%\n",
      "481\n"
     ]
    },
    {
     "name": "stderr",
     "output_type": "stream",
     "text": [
      "05-25 13:56:12 [481] Lr: 0.000054, Training: 100.00%,  Loss: 0.00070, Acc: 99.98%, Recall: 99.97%, F1: 99.97%0%\r"
     ]
    },
    {
     "name": "stdout",
     "output_type": "stream",
     "text": [
      "\n",
      "482\n"
     ]
    },
    {
     "name": "stderr",
     "output_type": "stream",
     "text": [
      "05-25 13:57:25 [482] Lr: 0.000054, Training: 100.00%,  Loss: 0.00103, Acc: 99.98%, Recall: 99.98%, F1: 99.98%0%\r"
     ]
    },
    {
     "name": "stdout",
     "output_type": "stream",
     "text": [
      "\n",
      "483\n"
     ]
    },
    {
     "name": "stderr",
     "output_type": "stream",
     "text": [
      "05-25 13:58:37 [483] Lr: 0.000054, Training: 100.00%,  Loss: 0.00107, Acc: 99.97%, Recall: 99.97%, F1: 99.97%0%\r"
     ]
    },
    {
     "name": "stdout",
     "output_type": "stream",
     "text": [
      "\n",
      "484\n"
     ]
    },
    {
     "name": "stderr",
     "output_type": "stream",
     "text": [
      "05-25 13:59:50 [484] Lr: 0.000054, Training: 100.00%,  Loss: 0.00109, Acc: 99.98%, Recall: 99.97%, F1: 99.97%0%\r"
     ]
    },
    {
     "name": "stdout",
     "output_type": "stream",
     "text": [
      "\n",
      "485\n"
     ]
    },
    {
     "name": "stderr",
     "output_type": "stream",
     "text": [
      "05-25 14:01:03 [485] Lr: 0.000054, Training: 100.00%,  Loss: 0.00078, Acc: 99.98%, Recall: 99.97%, F1: 99.98%0%\r"
     ]
    },
    {
     "name": "stdout",
     "output_type": "stream",
     "text": [
      "\n"
     ]
    },
    {
     "name": "stderr",
     "output_type": "stream",
     "text": [
      "100%|███████████████████████████████████████████████████████████████████████████████████████████████████████████| 5100/5100 [01:31<00:00, 55.72it/s]\n"
     ]
    },
    {
     "name": "stdout",
     "output_type": "stream",
     "text": [
      "2024-05-25 14:02:35 485 epoch, Acc 99.98%, Recall 99.97%, F1 99.98%, Val_acc 99.06%, Best_acc 99.31%, Val_recall 99.50%, Best_recall 99.79%, Val_f1  99.00%, Best_f1 99.27%\n",
      "486\n"
     ]
    },
    {
     "name": "stderr",
     "output_type": "stream",
     "text": [
      "05-25 14:03:48 [486] Lr: 0.000052, Training: 100.00%,  Loss: 0.00112, Acc: 99.96%, Recall: 99.97%, F1: 99.95%%\r"
     ]
    },
    {
     "name": "stdout",
     "output_type": "stream",
     "text": [
      "\n",
      "487\n"
     ]
    },
    {
     "name": "stderr",
     "output_type": "stream",
     "text": [
      "05-25 14:05:36 [487] Lr: 0.000052, Training: 100.00%,  Loss: 0.00065, Acc: 99.97%, Recall: 99.95%, F1: 99.97%%\r"
     ]
    },
    {
     "name": "stdout",
     "output_type": "stream",
     "text": [
      "\n",
      "488\n"
     ]
    },
    {
     "name": "stderr",
     "output_type": "stream",
     "text": [
      "05-25 14:08:00 [488] Lr: 0.000052, Training: 100.00%,  Loss: 0.00203, Acc: 99.97%, Recall: 99.97%, F1: 99.96%0%\r"
     ]
    },
    {
     "name": "stdout",
     "output_type": "stream",
     "text": [
      "\n",
      "489\n"
     ]
    },
    {
     "name": "stderr",
     "output_type": "stream",
     "text": [
      "05-25 14:09:13 [489] Lr: 0.000052, Training: 100.00%,  Loss: 0.00056, Acc: 99.98%, Recall: 99.98%, F1: 99.98%0%\r"
     ]
    },
    {
     "name": "stdout",
     "output_type": "stream",
     "text": [
      "\n",
      "490\n"
     ]
    },
    {
     "name": "stderr",
     "output_type": "stream",
     "text": [
      "05-25 14:10:26 [490] Lr: 0.000052, Training: 100.00%,  Loss: 0.00110, Acc: 99.95%, Recall: 99.95%, F1: 99.95%%\r"
     ]
    },
    {
     "name": "stdout",
     "output_type": "stream",
     "text": [
      "\n"
     ]
    },
    {
     "name": "stderr",
     "output_type": "stream",
     "text": [
      "100%|███████████████████████████████████████████████████████████████████████████████████████████████████████████| 5100/5100 [02:54<00:00, 29.17it/s]\n"
     ]
    },
    {
     "name": "stdout",
     "output_type": "stream",
     "text": [
      "2024-05-25 14:13:21 490 epoch, Acc 99.95%, Recall 99.95%, F1 99.95%, Val_acc 99.16%, Best_acc 99.31%, Val_recall 99.42%, Best_recall 99.79%, Val_f1  99.11%, Best_f1 99.27%\n",
      "491\n"
     ]
    },
    {
     "name": "stderr",
     "output_type": "stream",
     "text": [
      "05-25 14:14:34 [491] Lr: 0.000051, Training: 100.00%,  Loss: 0.00186, Acc: 99.96%, Recall: 99.97%, F1: 99.96%%\r"
     ]
    },
    {
     "name": "stdout",
     "output_type": "stream",
     "text": [
      "\n",
      "492\n"
     ]
    },
    {
     "name": "stderr",
     "output_type": "stream",
     "text": [
      "05-25 14:15:46 [492] Lr: 0.000051, Training: 100.00%,  Loss: 0.00091, Acc: 99.97%, Recall: 99.94%, F1: 99.96%%\r"
     ]
    },
    {
     "name": "stdout",
     "output_type": "stream",
     "text": [
      "\n",
      "493\n"
     ]
    },
    {
     "name": "stderr",
     "output_type": "stream",
     "text": [
      "05-25 14:17:00 [493] Lr: 0.000051, Training: 100.00%,  Loss: 0.00066, Acc: 99.98%, Recall: 99.97%, F1: 99.97%%\r"
     ]
    },
    {
     "name": "stdout",
     "output_type": "stream",
     "text": [
      "\n",
      "494\n"
     ]
    },
    {
     "name": "stderr",
     "output_type": "stream",
     "text": [
      "05-25 14:18:12 [494] Lr: 0.000051, Training: 100.00%,  Loss: 0.00060, Acc: 99.98%, Recall: 99.98%, F1: 99.98%%\r"
     ]
    },
    {
     "name": "stdout",
     "output_type": "stream",
     "text": [
      "\n",
      "495\n"
     ]
    },
    {
     "name": "stderr",
     "output_type": "stream",
     "text": [
      "05-25 14:19:25 [495] Lr: 0.000051, Training: 100.00%,  Loss: 0.00084, Acc: 99.96%, Recall: 99.97%, F1: 99.96%0%\r"
     ]
    },
    {
     "name": "stdout",
     "output_type": "stream",
     "text": [
      "\n"
     ]
    },
    {
     "name": "stderr",
     "output_type": "stream",
     "text": [
      "100%|███████████████████████████████████████████████████████████████████████████████████████████████████████████| 5100/5100 [01:29<00:00, 56.79it/s]\n"
     ]
    },
    {
     "name": "stdout",
     "output_type": "stream",
     "text": [
      "2024-05-25 14:20:55 495 epoch, Acc 99.96%, Recall 99.97%, F1 99.96%, Val_acc 98.92%, Best_acc 99.31%, Val_recall 99.50%, Best_recall 99.79%, Val_f1  98.86%, Best_f1 99.27%\n",
      "496\n"
     ]
    },
    {
     "name": "stderr",
     "output_type": "stream",
     "text": [
      "05-25 14:22:08 [496] Lr: 0.000049, Training: 100.00%,  Loss: 0.00124, Acc: 99.96%, Recall: 99.98%, F1: 99.96%%\r"
     ]
    },
    {
     "name": "stdout",
     "output_type": "stream",
     "text": [
      "\n",
      "497\n"
     ]
    },
    {
     "name": "stderr",
     "output_type": "stream",
     "text": [
      "05-25 14:23:20 [497] Lr: 0.000049, Training: 100.00%,  Loss: 0.00078, Acc: 99.97%, Recall: 99.97%, F1: 99.97%%\r"
     ]
    },
    {
     "name": "stdout",
     "output_type": "stream",
     "text": [
      "\n",
      "498\n"
     ]
    },
    {
     "name": "stderr",
     "output_type": "stream",
     "text": [
      "05-25 14:24:33 [498] Lr: 0.000049, Training: 100.00%,  Loss: 0.00116, Acc: 99.97%, Recall: 99.96%, F1: 99.96%0%\r"
     ]
    },
    {
     "name": "stdout",
     "output_type": "stream",
     "text": [
      "\n",
      "499\n"
     ]
    },
    {
     "name": "stderr",
     "output_type": "stream",
     "text": [
      "05-25 14:25:46 [499] Lr: 0.000049, Training: 100.00%,  Loss: 0.00047, Acc: 99.98%, Recall: 99.98%, F1: 99.98%0%\r"
     ]
    },
    {
     "name": "stdout",
     "output_type": "stream",
     "text": [
      "\n",
      "500\n"
     ]
    },
    {
     "name": "stderr",
     "output_type": "stream",
     "text": [
      "05-25 14:27:03 [500] Lr: 0.000049, Training: 100.00%,  Loss: 0.00028, Acc: 100.00%, Recall: 100.00%, F1: 99.99%\r"
     ]
    },
    {
     "name": "stdout",
     "output_type": "stream",
     "text": [
      "\n"
     ]
    },
    {
     "name": "stderr",
     "output_type": "stream",
     "text": [
      "100%|███████████████████████████████████████████████████████████████████████████████████████████████████████████| 5100/5100 [01:27<00:00, 58.16it/s]\n"
     ]
    },
    {
     "name": "stdout",
     "output_type": "stream",
     "text": [
      "2024-05-25 14:28:31 500 epoch, Acc 100.00%, Recall 100.00%, F1 99.99%, Val_acc 98.90%, Best_acc 99.31%, Val_recall 99.21%, Best_recall 99.79%, Val_f1  98.84%, Best_f1 99.27%\n",
      "501\n"
     ]
    },
    {
     "name": "stderr",
     "output_type": "stream",
     "text": [
      "05-25 14:29:45 [501] Lr: 0.000048, Training: 100.00%,  Loss: 0.00140, Acc: 99.97%, Recall: 99.96%, F1: 99.97%%\r"
     ]
    },
    {
     "name": "stdout",
     "output_type": "stream",
     "text": [
      "\n",
      "502\n"
     ]
    },
    {
     "name": "stderr",
     "output_type": "stream",
     "text": [
      "05-25 14:30:58 [502] Lr: 0.000048, Training: 100.00%,  Loss: 0.00064, Acc: 99.99%, Recall: 99.99%, F1: 99.98%0%\r"
     ]
    },
    {
     "name": "stdout",
     "output_type": "stream",
     "text": [
      "\n",
      "503\n"
     ]
    },
    {
     "name": "stderr",
     "output_type": "stream",
     "text": [
      "05-25 14:32:11 [503] Lr: 0.000048, Training: 100.00%,  Loss: 0.00097, Acc: 99.96%, Recall: 99.94%, F1: 99.96%0%\r"
     ]
    },
    {
     "name": "stdout",
     "output_type": "stream",
     "text": [
      "\n",
      "504\n"
     ]
    },
    {
     "name": "stderr",
     "output_type": "stream",
     "text": [
      "05-25 14:33:23 [504] Lr: 0.000048, Training: 100.00%,  Loss: 0.00193, Acc: 99.95%, Recall: 99.96%, F1: 99.94%%\r"
     ]
    },
    {
     "name": "stdout",
     "output_type": "stream",
     "text": [
      "\n",
      "505\n"
     ]
    },
    {
     "name": "stderr",
     "output_type": "stream",
     "text": [
      "05-25 14:34:36 [505] Lr: 0.000048, Training: 100.00%,  Loss: 0.00056, Acc: 99.99%, Recall: 100.00%, F1: 99.99%\r"
     ]
    },
    {
     "name": "stdout",
     "output_type": "stream",
     "text": [
      "\n"
     ]
    },
    {
     "name": "stderr",
     "output_type": "stream",
     "text": [
      "100%|███████████████████████████████████████████████████████████████████████████████████████████████████████████| 5100/5100 [01:28<00:00, 57.58it/s]\n"
     ]
    },
    {
     "name": "stdout",
     "output_type": "stream",
     "text": [
      "2024-05-25 14:36:05 505 epoch, Acc 99.99%, Recall 100.00%, F1 99.99%, Val_acc 99.04%, Best_acc 99.31%, Val_recall 99.25%, Best_recall 99.79%, Val_f1  98.98%, Best_f1 99.27%\n",
      "506\n"
     ]
    },
    {
     "name": "stderr",
     "output_type": "stream",
     "text": [
      "05-25 14:37:18 [506] Lr: 0.000046, Training: 100.00%,  Loss: 0.00065, Acc: 99.97%, Recall: 99.96%, F1: 99.97%%\r"
     ]
    },
    {
     "name": "stdout",
     "output_type": "stream",
     "text": [
      "\n",
      "507\n"
     ]
    },
    {
     "name": "stderr",
     "output_type": "stream",
     "text": [
      "05-25 14:38:31 [507] Lr: 0.000046, Training: 100.00%,  Loss: 0.00041, Acc: 99.99%, Recall: 99.99%, F1: 99.99%0%\r"
     ]
    },
    {
     "name": "stdout",
     "output_type": "stream",
     "text": [
      "\n",
      "508\n"
     ]
    },
    {
     "name": "stderr",
     "output_type": "stream",
     "text": [
      "05-25 14:39:43 [508] Lr: 0.000046, Training: 100.00%,  Loss: 0.00088, Acc: 99.97%, Recall: 99.98%, F1: 99.97%0%\r"
     ]
    },
    {
     "name": "stdout",
     "output_type": "stream",
     "text": [
      "\n",
      "509\n"
     ]
    },
    {
     "name": "stderr",
     "output_type": "stream",
     "text": [
      "05-25 14:40:56 [509] Lr: 0.000046, Training: 100.00%,  Loss: 0.00056, Acc: 99.98%, Recall: 99.99%, F1: 99.98%0%\r"
     ]
    },
    {
     "name": "stdout",
     "output_type": "stream",
     "text": [
      "\n",
      "510\n"
     ]
    },
    {
     "name": "stderr",
     "output_type": "stream",
     "text": [
      "05-25 14:42:09 [510] Lr: 0.000046, Training: 100.00%,  Loss: 0.00120, Acc: 99.97%, Recall: 99.97%, F1: 99.97%%\r"
     ]
    },
    {
     "name": "stdout",
     "output_type": "stream",
     "text": [
      "\n"
     ]
    },
    {
     "name": "stderr",
     "output_type": "stream",
     "text": [
      "100%|███████████████████████████████████████████████████████████████████████████████████████████████████████████| 5100/5100 [01:30<00:00, 56.44it/s]\n"
     ]
    },
    {
     "name": "stdout",
     "output_type": "stream",
     "text": [
      "2024-05-25 14:43:40 510 epoch, Acc 99.97%, Recall 99.97%, F1 99.97%, Val_acc 98.94%, Best_acc 99.31%, Val_recall 99.42%, Best_recall 99.79%, Val_f1  98.88%, Best_f1 99.27%\n",
      "511\n"
     ]
    },
    {
     "name": "stderr",
     "output_type": "stream",
     "text": [
      "05-25 14:44:53 [511] Lr: 0.000045, Training: 100.00%,  Loss: 0.00210, Acc: 99.94%, Recall: 99.92%, F1: 99.94%%\r"
     ]
    },
    {
     "name": "stdout",
     "output_type": "stream",
     "text": [
      "\n",
      "512\n"
     ]
    },
    {
     "name": "stderr",
     "output_type": "stream",
     "text": [
      "05-25 14:46:08 [512] Lr: 0.000045, Training: 100.00%,  Loss: 0.00047, Acc: 99.99%, Recall: 99.98%, F1: 99.98%0%\r"
     ]
    },
    {
     "name": "stdout",
     "output_type": "stream",
     "text": [
      "\n",
      "513\n"
     ]
    },
    {
     "name": "stderr",
     "output_type": "stream",
     "text": [
      "05-25 14:47:21 [513] Lr: 0.000045, Training: 100.00%,  Loss: 0.00065, Acc: 99.98%, Recall: 99.98%, F1: 99.98%%\r"
     ]
    },
    {
     "name": "stdout",
     "output_type": "stream",
     "text": [
      "\n",
      "514\n"
     ]
    },
    {
     "name": "stderr",
     "output_type": "stream",
     "text": [
      "05-25 14:48:34 [514] Lr: 0.000045, Training: 100.00%,  Loss: 0.00087, Acc: 99.97%, Recall: 99.97%, F1: 99.96%%\r"
     ]
    },
    {
     "name": "stdout",
     "output_type": "stream",
     "text": [
      "\n",
      "515\n"
     ]
    },
    {
     "name": "stderr",
     "output_type": "stream",
     "text": [
      "05-25 14:49:47 [515] Lr: 0.000045, Training: 100.00%,  Loss: 0.00118, Acc: 99.95%, Recall: 99.94%, F1: 99.94%%\r"
     ]
    },
    {
     "name": "stdout",
     "output_type": "stream",
     "text": [
      "\n"
     ]
    },
    {
     "name": "stderr",
     "output_type": "stream",
     "text": [
      "100%|███████████████████████████████████████████████████████████████████████████████████████████████████████████| 5100/5100 [01:31<00:00, 55.75it/s]\n"
     ]
    },
    {
     "name": "stdout",
     "output_type": "stream",
     "text": [
      "2024-05-25 14:51:20 515 epoch, Acc 99.95%, Recall 99.94%, F1 99.94%, Val_acc 99.04%, Best_acc 99.31%, Val_recall 99.37%, Best_recall 99.79%, Val_f1  98.98%, Best_f1 99.27%\n",
      "516\n"
     ]
    },
    {
     "name": "stderr",
     "output_type": "stream",
     "text": [
      "05-25 14:52:33 [516] Lr: 0.000043, Training: 100.00%,  Loss: 0.00061, Acc: 99.97%, Recall: 99.98%, F1: 99.96%0%\r"
     ]
    },
    {
     "name": "stdout",
     "output_type": "stream",
     "text": [
      "\n",
      "517\n"
     ]
    },
    {
     "name": "stderr",
     "output_type": "stream",
     "text": [
      "05-25 14:53:47 [517] Lr: 0.000043, Training: 100.00%,  Loss: 0.00046, Acc: 99.98%, Recall: 99.96%, F1: 99.98%%\r"
     ]
    },
    {
     "name": "stdout",
     "output_type": "stream",
     "text": [
      "\n",
      "518\n"
     ]
    },
    {
     "name": "stderr",
     "output_type": "stream",
     "text": [
      "05-25 14:55:00 [518] Lr: 0.000043, Training: 100.00%,  Loss: 0.00034, Acc: 99.99%, Recall: 99.98%, F1: 99.98%%\r"
     ]
    },
    {
     "name": "stdout",
     "output_type": "stream",
     "text": [
      "\n",
      "519\n"
     ]
    },
    {
     "name": "stderr",
     "output_type": "stream",
     "text": [
      "05-25 14:56:13 [519] Lr: 0.000043, Training: 100.00%,  Loss: 0.00079, Acc: 99.98%, Recall: 99.97%, F1: 99.97%0%\r"
     ]
    },
    {
     "name": "stdout",
     "output_type": "stream",
     "text": [
      "\n",
      "520\n"
     ]
    },
    {
     "name": "stderr",
     "output_type": "stream",
     "text": [
      "05-25 14:57:26 [520] Lr: 0.000043, Training: 100.00%,  Loss: 0.00063, Acc: 99.98%, Recall: 99.99%, F1: 99.97%%\r"
     ]
    },
    {
     "name": "stdout",
     "output_type": "stream",
     "text": [
      "\n"
     ]
    },
    {
     "name": "stderr",
     "output_type": "stream",
     "text": [
      "100%|███████████████████████████████████████████████████████████████████████████████████████████████████████████| 5100/5100 [01:47<00:00, 47.58it/s]\n"
     ]
    },
    {
     "name": "stdout",
     "output_type": "stream",
     "text": [
      "2024-05-25 14:59:14 520 epoch, Acc 99.98%, Recall 99.99%, F1 99.97%, Val_acc 98.88%, Best_acc 99.31%, Val_recall 99.21%, Best_recall 99.79%, Val_f1  98.82%, Best_f1 99.27%\n",
      "521\n"
     ]
    },
    {
     "name": "stderr",
     "output_type": "stream",
     "text": [
      "05-25 15:00:28 [521] Lr: 0.000042, Training: 100.00%,  Loss: 0.00145, Acc: 99.96%, Recall: 99.95%, F1: 99.96%%\r"
     ]
    },
    {
     "name": "stdout",
     "output_type": "stream",
     "text": [
      "\n",
      "522\n"
     ]
    },
    {
     "name": "stderr",
     "output_type": "stream",
     "text": [
      "05-25 15:01:43 [522] Lr: 0.000042, Training: 100.00%,  Loss: 0.00084, Acc: 99.96%, Recall: 99.96%, F1: 99.95%%\r"
     ]
    },
    {
     "name": "stdout",
     "output_type": "stream",
     "text": [
      "\n",
      "523\n"
     ]
    },
    {
     "name": "stderr",
     "output_type": "stream",
     "text": [
      "05-25 15:02:57 [523] Lr: 0.000042, Training: 100.00%,  Loss: 0.00110, Acc: 99.97%, Recall: 99.96%, F1: 99.96%0%\r"
     ]
    },
    {
     "name": "stdout",
     "output_type": "stream",
     "text": [
      "\n",
      "524\n"
     ]
    },
    {
     "name": "stderr",
     "output_type": "stream",
     "text": [
      "05-25 15:04:14 [524] Lr: 0.000042, Training: 100.00%,  Loss: 0.00094, Acc: 99.97%, Recall: 99.97%, F1: 99.96%%\r"
     ]
    },
    {
     "name": "stdout",
     "output_type": "stream",
     "text": [
      "\n",
      "525\n"
     ]
    },
    {
     "name": "stderr",
     "output_type": "stream",
     "text": [
      "05-25 15:05:31 [525] Lr: 0.000042, Training: 100.00%,  Loss: 0.00110, Acc: 99.97%, Recall: 99.98%, F1: 99.97%%\r"
     ]
    },
    {
     "name": "stdout",
     "output_type": "stream",
     "text": [
      "\n"
     ]
    },
    {
     "name": "stderr",
     "output_type": "stream",
     "text": [
      "100%|███████████████████████████████████████████████████████████████████████████████████████████████████████████| 5100/5100 [01:48<00:00, 47.18it/s]\n"
     ]
    },
    {
     "name": "stdout",
     "output_type": "stream",
     "text": [
      "2024-05-25 15:07:20 525 epoch, Acc 99.97%, Recall 99.98%, F1 99.97%, Val_acc 99.20%, Best_acc 99.31%, Val_recall 99.42%, Best_recall 99.79%, Val_f1  99.15%, Best_f1 99.27%\n",
      "526\n"
     ]
    },
    {
     "name": "stderr",
     "output_type": "stream",
     "text": [
      "05-25 15:08:34 [526] Lr: 0.000041, Training: 100.00%,  Loss: 0.00068, Acc: 99.96%, Recall: 99.94%, F1: 99.96%%\r"
     ]
    },
    {
     "name": "stdout",
     "output_type": "stream",
     "text": [
      "\n",
      "527\n"
     ]
    },
    {
     "name": "stderr",
     "output_type": "stream",
     "text": [
      "05-25 15:09:48 [527] Lr: 0.000041, Training: 100.00%,  Loss: 0.00043, Acc: 99.98%, Recall: 99.99%, F1: 99.98%0%\r"
     ]
    },
    {
     "name": "stdout",
     "output_type": "stream",
     "text": [
      "\n",
      "528\n"
     ]
    },
    {
     "name": "stderr",
     "output_type": "stream",
     "text": [
      "05-25 15:11:03 [528] Lr: 0.000041, Training: 100.00%,  Loss: 0.00033, Acc: 99.99%, Recall: 99.98%, F1: 99.98%%\r"
     ]
    },
    {
     "name": "stdout",
     "output_type": "stream",
     "text": [
      "\n",
      "529\n"
     ]
    },
    {
     "name": "stderr",
     "output_type": "stream",
     "text": [
      "05-25 15:12:17 [529] Lr: 0.000041, Training: 100.00%,  Loss: 0.00067, Acc: 99.98%, Recall: 99.97%, F1: 99.97%%\r"
     ]
    },
    {
     "name": "stdout",
     "output_type": "stream",
     "text": [
      "\n",
      "530\n"
     ]
    },
    {
     "name": "stderr",
     "output_type": "stream",
     "text": [
      "05-25 15:13:32 [530] Lr: 0.000041, Training: 100.00%,  Loss: 0.00051, Acc: 99.99%, Recall: 99.98%, F1: 99.99%0%\r"
     ]
    },
    {
     "name": "stdout",
     "output_type": "stream",
     "text": [
      "\n"
     ]
    },
    {
     "name": "stderr",
     "output_type": "stream",
     "text": [
      "100%|███████████████████████████████████████████████████████████████████████████████████████████████████████████| 5100/5100 [01:50<00:00, 45.96it/s]\n"
     ]
    },
    {
     "name": "stdout",
     "output_type": "stream",
     "text": [
      "2024-05-25 15:15:23 530 epoch, Acc 99.99%, Recall 99.98%, F1 99.99%, Val_acc 98.82%, Best_acc 99.31%, Val_recall 99.46%, Best_recall 99.79%, Val_f1  98.76%, Best_f1 99.27%\n",
      "531\n"
     ]
    },
    {
     "name": "stderr",
     "output_type": "stream",
     "text": [
      "05-25 15:16:38 [531] Lr: 0.000040, Training: 100.00%,  Loss: 0.00113, Acc: 99.97%, Recall: 99.97%, F1: 99.96%%\r"
     ]
    },
    {
     "name": "stdout",
     "output_type": "stream",
     "text": [
      "\n",
      "532\n"
     ]
    },
    {
     "name": "stderr",
     "output_type": "stream",
     "text": [
      "05-25 15:17:53 [532] Lr: 0.000040, Training: 100.00%,  Loss: 0.00073, Acc: 99.97%, Recall: 99.97%, F1: 99.96%0%\r"
     ]
    },
    {
     "name": "stdout",
     "output_type": "stream",
     "text": [
      "\n",
      "533\n"
     ]
    },
    {
     "name": "stderr",
     "output_type": "stream",
     "text": [
      "05-25 15:19:08 [533] Lr: 0.000040, Training: 100.00%,  Loss: 0.00090, Acc: 99.96%, Recall: 99.93%, F1: 99.95%%\r"
     ]
    },
    {
     "name": "stdout",
     "output_type": "stream",
     "text": [
      "\n",
      "534\n"
     ]
    },
    {
     "name": "stderr",
     "output_type": "stream",
     "text": [
      "05-25 15:20:23 [534] Lr: 0.000040, Training: 100.00%,  Loss: 0.00125, Acc: 99.97%, Recall: 99.97%, F1: 99.97%%\r"
     ]
    },
    {
     "name": "stdout",
     "output_type": "stream",
     "text": [
      "\n",
      "535\n"
     ]
    },
    {
     "name": "stderr",
     "output_type": "stream",
     "text": [
      "05-25 15:21:38 [535] Lr: 0.000040, Training: 100.00%,  Loss: 0.00072, Acc: 99.98%, Recall: 99.97%, F1: 99.97%\r"
     ]
    },
    {
     "name": "stdout",
     "output_type": "stream",
     "text": [
      "\n"
     ]
    },
    {
     "name": "stderr",
     "output_type": "stream",
     "text": [
      "100%|███████████████████████████████████████████████████████████████████████████████████████████████████████████| 5100/5100 [01:50<00:00, 46.35it/s]\n"
     ]
    },
    {
     "name": "stdout",
     "output_type": "stream",
     "text": [
      "2024-05-25 15:23:28 535 epoch, Acc 99.98%, Recall 99.97%, F1 99.97%, Val_acc 99.18%, Best_acc 99.31%, Val_recall 99.42%, Best_recall 99.79%, Val_f1  99.13%, Best_f1 99.27%\n",
      "536\n"
     ]
    },
    {
     "name": "stderr",
     "output_type": "stream",
     "text": [
      "05-25 15:24:43 [536] Lr: 0.000038, Training: 100.00%,  Loss: 0.00055, Acc: 99.99%, Recall: 99.99%, F1: 99.99%0%\r"
     ]
    },
    {
     "name": "stdout",
     "output_type": "stream",
     "text": [
      "\n",
      "537\n"
     ]
    },
    {
     "name": "stderr",
     "output_type": "stream",
     "text": [
      "05-25 15:25:57 [537] Lr: 0.000038, Training: 100.00%,  Loss: 0.00069, Acc: 99.99%, Recall: 100.00%, F1: 99.99%%\r"
     ]
    },
    {
     "name": "stdout",
     "output_type": "stream",
     "text": [
      "\n",
      "538\n"
     ]
    },
    {
     "name": "stderr",
     "output_type": "stream",
     "text": [
      "05-25 15:27:14 [538] Lr: 0.000038, Training: 100.00%,  Loss: 0.00025, Acc: 99.99%, Recall: 99.97%, F1: 99.98%0%\r"
     ]
    },
    {
     "name": "stdout",
     "output_type": "stream",
     "text": [
      "\n",
      "539\n"
     ]
    },
    {
     "name": "stderr",
     "output_type": "stream",
     "text": [
      "05-25 15:28:29 [539] Lr: 0.000038, Training: 100.00%,  Loss: 0.00062, Acc: 99.99%, Recall: 100.00%, F1: 99.99%%\r"
     ]
    },
    {
     "name": "stdout",
     "output_type": "stream",
     "text": [
      "\n",
      "540\n"
     ]
    },
    {
     "name": "stderr",
     "output_type": "stream",
     "text": [
      "05-25 15:29:43 [540] Lr: 0.000038, Training: 100.00%,  Loss: 0.00143, Acc: 99.96%, Recall: 99.95%, F1: 99.96%%\r"
     ]
    },
    {
     "name": "stdout",
     "output_type": "stream",
     "text": [
      "\n"
     ]
    },
    {
     "name": "stderr",
     "output_type": "stream",
     "text": [
      "100%|███████████████████████████████████████████████████████████████████████████████████████████████████████████| 5100/5100 [01:46<00:00, 47.83it/s]\n"
     ]
    },
    {
     "name": "stdout",
     "output_type": "stream",
     "text": [
      "2024-05-25 15:31:30 540 epoch, Acc 99.96%, Recall 99.95%, F1 99.96%, Val_acc 99.02%, Best_acc 99.31%, Val_recall 99.29%, Best_recall 99.79%, Val_f1  98.96%, Best_f1 99.27%\n",
      "541\n"
     ]
    },
    {
     "name": "stderr",
     "output_type": "stream",
     "text": [
      "05-25 15:32:49 [541] Lr: 0.000037, Training: 100.00%,  Loss: 0.00171, Acc: 99.96%, Recall: 99.93%, F1: 99.95%0%\r"
     ]
    },
    {
     "name": "stdout",
     "output_type": "stream",
     "text": [
      "\n",
      "542\n"
     ]
    },
    {
     "name": "stderr",
     "output_type": "stream",
     "text": [
      "05-25 15:34:05 [542] Lr: 0.000037, Training: 100.00%,  Loss: 0.00084, Acc: 99.98%, Recall: 99.98%, F1: 99.98%0%\r"
     ]
    },
    {
     "name": "stdout",
     "output_type": "stream",
     "text": [
      "\n",
      "543\n"
     ]
    },
    {
     "name": "stderr",
     "output_type": "stream",
     "text": [
      "05-25 15:35:20 [543] Lr: 0.000037, Training: 100.00%,  Loss: 0.00044, Acc: 99.99%, Recall: 100.00%, F1: 99.99%%\r"
     ]
    },
    {
     "name": "stdout",
     "output_type": "stream",
     "text": [
      "\n",
      "544\n"
     ]
    },
    {
     "name": "stderr",
     "output_type": "stream",
     "text": [
      "05-25 15:36:36 [544] Lr: 0.000037, Training: 100.00%,  Loss: 0.00052, Acc: 99.99%, Recall: 99.99%, F1: 99.98%0%\r"
     ]
    },
    {
     "name": "stdout",
     "output_type": "stream",
     "text": [
      "\n",
      "545\n"
     ]
    },
    {
     "name": "stderr",
     "output_type": "stream",
     "text": [
      "05-25 15:37:53 [545] Lr: 0.000037, Training: 100.00%,  Loss: 0.00031, Acc: 99.99%, Recall: 99.97%, F1: 99.98%%\r"
     ]
    },
    {
     "name": "stdout",
     "output_type": "stream",
     "text": [
      "\n"
     ]
    },
    {
     "name": "stderr",
     "output_type": "stream",
     "text": [
      "100%|███████████████████████████████████████████████████████████████████████████████████████████████████████████| 5100/5100 [01:59<00:00, 42.85it/s]\n"
     ]
    },
    {
     "name": "stdout",
     "output_type": "stream",
     "text": [
      "2024-05-25 15:39:53 545 epoch, Acc 99.99%, Recall 99.97%, F1 99.98%, Val_acc 98.86%, Best_acc 99.31%, Val_recall 99.46%, Best_recall 99.79%, Val_f1  98.80%, Best_f1 99.27%\n",
      "546\n"
     ]
    },
    {
     "name": "stderr",
     "output_type": "stream",
     "text": [
      "05-25 15:41:12 [546] Lr: 0.000036, Training: 100.00%,  Loss: 0.00124, Acc: 99.98%, Recall: 99.99%, F1: 99.97%%\r"
     ]
    },
    {
     "name": "stdout",
     "output_type": "stream",
     "text": [
      "\n",
      "547\n"
     ]
    },
    {
     "name": "stderr",
     "output_type": "stream",
     "text": [
      "05-25 15:42:28 [547] Lr: 0.000036, Training: 100.00%,  Loss: 0.00054, Acc: 99.98%, Recall: 99.97%, F1: 99.98%%\r"
     ]
    },
    {
     "name": "stdout",
     "output_type": "stream",
     "text": [
      "\n",
      "548\n"
     ]
    },
    {
     "name": "stderr",
     "output_type": "stream",
     "text": [
      "05-25 15:43:45 [548] Lr: 0.000036, Training: 100.00%,  Loss: 0.00042, Acc: 99.99%, Recall: 99.98%, F1: 99.98%%\r"
     ]
    },
    {
     "name": "stdout",
     "output_type": "stream",
     "text": [
      "\n",
      "549\n"
     ]
    },
    {
     "name": "stderr",
     "output_type": "stream",
     "text": [
      "05-25 15:45:03 [549] Lr: 0.000036, Training: 100.00%,  Loss: 0.00048, Acc: 99.98%, Recall: 99.98%, F1: 99.98%0%\r"
     ]
    },
    {
     "name": "stdout",
     "output_type": "stream",
     "text": [
      "\n",
      "550\n"
     ]
    },
    {
     "name": "stderr",
     "output_type": "stream",
     "text": [
      "05-25 15:46:22 [550] Lr: 0.000036, Training: 100.00%,  Loss: 0.00086, Acc: 99.97%, Recall: 99.98%, F1: 99.97%0%\r"
     ]
    },
    {
     "name": "stdout",
     "output_type": "stream",
     "text": [
      "\n"
     ]
    },
    {
     "name": "stderr",
     "output_type": "stream",
     "text": [
      "100%|███████████████████████████████████████████████████████████████████████████████████████████████████████████| 5100/5100 [01:59<00:00, 42.79it/s]\n"
     ]
    },
    {
     "name": "stdout",
     "output_type": "stream",
     "text": [
      "2024-05-25 15:48:22 550 epoch, Acc 99.97%, Recall 99.98%, F1 99.97%, Val_acc 98.98%, Best_acc 99.31%, Val_recall 99.42%, Best_recall 99.79%, Val_f1  98.92%, Best_f1 99.27%\n",
      "551\n"
     ]
    },
    {
     "name": "stderr",
     "output_type": "stream",
     "text": [
      "05-25 15:49:41 [551] Lr: 0.000035, Training: 100.00%,  Loss: 0.00026, Acc: 100.00%, Recall: 99.99%, F1: 99.99%%\r"
     ]
    },
    {
     "name": "stdout",
     "output_type": "stream",
     "text": [
      "\n",
      "552\n"
     ]
    },
    {
     "name": "stderr",
     "output_type": "stream",
     "text": [
      "05-25 15:50:57 [552] Lr: 0.000035, Training: 100.00%,  Loss: 0.00053, Acc: 99.98%, Recall: 99.98%, F1: 99.97%0%\r"
     ]
    },
    {
     "name": "stdout",
     "output_type": "stream",
     "text": [
      "\n",
      "553\n"
     ]
    },
    {
     "name": "stderr",
     "output_type": "stream",
     "text": [
      "05-25 15:52:13 [553] Lr: 0.000035, Training: 100.00%,  Loss: 0.00098, Acc: 99.96%, Recall: 99.96%, F1: 99.96%%\r"
     ]
    },
    {
     "name": "stdout",
     "output_type": "stream",
     "text": [
      "\n",
      "554\n"
     ]
    },
    {
     "name": "stderr",
     "output_type": "stream",
     "text": [
      "05-25 15:53:30 [554] Lr: 0.000035, Training: 100.00%,  Loss: 0.00015, Acc: 100.00%, Recall: 100.00%, F1: 99.99%\r"
     ]
    },
    {
     "name": "stdout",
     "output_type": "stream",
     "text": [
      "\n",
      "555\n"
     ]
    },
    {
     "name": "stderr",
     "output_type": "stream",
     "text": [
      "05-25 15:54:46 [555] Lr: 0.000035, Training: 100.00%,  Loss: 0.00055, Acc: 99.98%, Recall: 99.98%, F1: 99.98%0%\r"
     ]
    },
    {
     "name": "stdout",
     "output_type": "stream",
     "text": [
      "\n"
     ]
    },
    {
     "name": "stderr",
     "output_type": "stream",
     "text": [
      "100%|███████████████████████████████████████████████████████████████████████████████████████████████████████████| 5100/5100 [01:51<00:00, 45.91it/s]\n"
     ]
    },
    {
     "name": "stdout",
     "output_type": "stream",
     "text": [
      "2024-05-25 15:56:38 555 epoch, Acc 99.98%, Recall 99.98%, F1 99.98%, Val_acc 99.08%, Best_acc 99.31%, Val_recall 99.42%, Best_recall 99.79%, Val_f1  99.02%, Best_f1 99.27%\n",
      "556\n"
     ]
    },
    {
     "name": "stderr",
     "output_type": "stream",
     "text": [
      "05-25 15:57:52 [556] Lr: 0.000034, Training: 100.00%,  Loss: 0.00047, Acc: 99.99%, Recall: 99.98%, F1: 99.98%0%\r"
     ]
    },
    {
     "name": "stdout",
     "output_type": "stream",
     "text": [
      "\n",
      "557\n"
     ]
    },
    {
     "name": "stderr",
     "output_type": "stream",
     "text": [
      "05-25 15:59:07 [557] Lr: 0.000034, Training: 100.00%,  Loss: 0.00074, Acc: 99.96%, Recall: 99.97%, F1: 99.95%%\r"
     ]
    },
    {
     "name": "stdout",
     "output_type": "stream",
     "text": [
      "\n",
      "558\n"
     ]
    },
    {
     "name": "stderr",
     "output_type": "stream",
     "text": [
      "05-25 16:00:23 [558] Lr: 0.000034, Training: 100.00%,  Loss: 0.00051, Acc: 99.99%, Recall: 99.98%, F1: 99.98%0%\r"
     ]
    },
    {
     "name": "stdout",
     "output_type": "stream",
     "text": [
      "\n",
      "559\n"
     ]
    },
    {
     "name": "stderr",
     "output_type": "stream",
     "text": [
      "05-25 16:01:38 [559] Lr: 0.000034, Training: 100.00%,  Loss: 0.00106, Acc: 99.96%, Recall: 99.95%, F1: 99.95%\r"
     ]
    },
    {
     "name": "stdout",
     "output_type": "stream",
     "text": [
      "\n",
      "560\n"
     ]
    },
    {
     "name": "stderr",
     "output_type": "stream",
     "text": [
      "05-25 16:02:53 [560] Lr: 0.000034, Training: 100.00%,  Loss: 0.00044, Acc: 99.99%, Recall: 99.99%, F1: 99.98%0%\r"
     ]
    },
    {
     "name": "stdout",
     "output_type": "stream",
     "text": [
      "\n"
     ]
    },
    {
     "name": "stderr",
     "output_type": "stream",
     "text": [
      "100%|███████████████████████████████████████████████████████████████████████████████████████████████████████████| 5100/5100 [01:52<00:00, 45.41it/s]\n"
     ]
    },
    {
     "name": "stdout",
     "output_type": "stream",
     "text": [
      "2024-05-25 16:04:46 560 epoch, Acc 99.99%, Recall 99.99%, F1 99.98%, Val_acc 98.90%, Best_acc 99.31%, Val_recall 99.58%, Best_recall 99.79%, Val_f1  98.84%, Best_f1 99.27%\n",
      "561\n"
     ]
    },
    {
     "name": "stderr",
     "output_type": "stream",
     "text": [
      "05-25 16:06:01 [561] Lr: 0.000033, Training: 100.00%,  Loss: 0.00062, Acc: 99.98%, Recall: 99.97%, F1: 99.98%0%\r"
     ]
    },
    {
     "name": "stdout",
     "output_type": "stream",
     "text": [
      "\n",
      "562\n"
     ]
    },
    {
     "name": "stderr",
     "output_type": "stream",
     "text": [
      "05-25 16:07:16 [562] Lr: 0.000033, Training: 100.00%,  Loss: 0.00157, Acc: 99.96%, Recall: 99.97%, F1: 99.95%0%\r"
     ]
    },
    {
     "name": "stdout",
     "output_type": "stream",
     "text": [
      "\n",
      "563\n"
     ]
    },
    {
     "name": "stderr",
     "output_type": "stream",
     "text": [
      "05-25 16:08:30 [563] Lr: 0.000033, Training: 100.00%,  Loss: 0.00068, Acc: 99.98%, Recall: 99.98%, F1: 99.98%0%\r"
     ]
    },
    {
     "name": "stdout",
     "output_type": "stream",
     "text": [
      "\n",
      "564\n"
     ]
    },
    {
     "name": "stderr",
     "output_type": "stream",
     "text": [
      "05-25 16:09:45 [564] Lr: 0.000033, Training: 100.00%,  Loss: 0.00069, Acc: 99.98%, Recall: 99.99%, F1: 99.98%0%\r"
     ]
    },
    {
     "name": "stdout",
     "output_type": "stream",
     "text": [
      "\n",
      "565\n"
     ]
    },
    {
     "name": "stderr",
     "output_type": "stream",
     "text": [
      "05-25 16:11:00 [565] Lr: 0.000033, Training: 100.00%,  Loss: 0.00039, Acc: 99.99%, Recall: 99.99%, F1: 99.98%\r"
     ]
    },
    {
     "name": "stdout",
     "output_type": "stream",
     "text": [
      "\n"
     ]
    },
    {
     "name": "stderr",
     "output_type": "stream",
     "text": [
      "100%|███████████████████████████████████████████████████████████████████████████████████████████████████████████| 5100/5100 [01:37<00:00, 52.17it/s]\n"
     ]
    },
    {
     "name": "stdout",
     "output_type": "stream",
     "text": [
      "2024-05-25 16:12:38 565 epoch, Acc 99.99%, Recall 99.99%, F1 99.98%, Val_acc 98.88%, Best_acc 99.31%, Val_recall 99.46%, Best_recall 99.79%, Val_f1  98.82%, Best_f1 99.27%\n",
      "566\n"
     ]
    },
    {
     "name": "stderr",
     "output_type": "stream",
     "text": [
      "05-25 16:13:51 [566] Lr: 0.000032, Training: 100.00%,  Loss: 0.00083, Acc: 99.97%, Recall: 99.98%, F1: 99.97%%\r"
     ]
    },
    {
     "name": "stdout",
     "output_type": "stream",
     "text": [
      "\n",
      "567\n"
     ]
    },
    {
     "name": "stderr",
     "output_type": "stream",
     "text": [
      "05-25 16:15:04 [567] Lr: 0.000032, Training: 100.00%,  Loss: 0.00027, Acc: 99.99%, Recall: 99.98%, F1: 99.98%0%\r"
     ]
    },
    {
     "name": "stdout",
     "output_type": "stream",
     "text": [
      "\n",
      "568\n"
     ]
    },
    {
     "name": "stderr",
     "output_type": "stream",
     "text": [
      "05-25 16:16:17 [568] Lr: 0.000032, Training: 100.00%,  Loss: 0.00044, Acc: 99.99%, Recall: 100.00%, F1: 99.99%%\r"
     ]
    },
    {
     "name": "stdout",
     "output_type": "stream",
     "text": [
      "\n",
      "569\n"
     ]
    },
    {
     "name": "stderr",
     "output_type": "stream",
     "text": [
      "05-25 16:17:31 [569] Lr: 0.000032, Training: 100.00%,  Loss: 0.00042, Acc: 99.99%, Recall: 99.98%, F1: 99.99%0%\r"
     ]
    },
    {
     "name": "stdout",
     "output_type": "stream",
     "text": [
      "\n",
      "570\n"
     ]
    },
    {
     "name": "stderr",
     "output_type": "stream",
     "text": [
      "05-25 16:18:44 [570] Lr: 0.000032, Training: 100.00%,  Loss: 0.00075, Acc: 99.98%, Recall: 99.98%, F1: 99.97%%\r"
     ]
    },
    {
     "name": "stdout",
     "output_type": "stream",
     "text": [
      "\n"
     ]
    },
    {
     "name": "stderr",
     "output_type": "stream",
     "text": [
      "100%|███████████████████████████████████████████████████████████████████████████████████████████████████████████| 5100/5100 [01:37<00:00, 52.17it/s]\n"
     ]
    },
    {
     "name": "stdout",
     "output_type": "stream",
     "text": [
      "2024-05-25 16:20:22 570 epoch, Acc 99.98%, Recall 99.98%, F1 99.97%, Val_acc 99.20%, Best_acc 99.31%, Val_recall 99.46%, Best_recall 99.79%, Val_f1  99.15%, Best_f1 99.27%\n",
      "571\n"
     ]
    },
    {
     "name": "stderr",
     "output_type": "stream",
     "text": [
      "05-25 16:21:36 [571] Lr: 0.000031, Training: 100.00%,  Loss: 0.00064, Acc: 99.98%, Recall: 99.97%, F1: 99.97%0%\r"
     ]
    },
    {
     "name": "stdout",
     "output_type": "stream",
     "text": [
      "\n",
      "572\n"
     ]
    },
    {
     "name": "stderr",
     "output_type": "stream",
     "text": [
      "05-25 16:22:49 [572] Lr: 0.000031, Training: 100.00%,  Loss: 0.00042, Acc: 99.98%, Recall: 99.97%, F1: 99.98%%\r"
     ]
    },
    {
     "name": "stdout",
     "output_type": "stream",
     "text": [
      "\n",
      "573\n"
     ]
    },
    {
     "name": "stderr",
     "output_type": "stream",
     "text": [
      "05-25 16:24:04 [573] Lr: 0.000031, Training: 100.00%,  Loss: 0.00043, Acc: 99.98%, Recall: 99.98%, F1: 99.98%0%\r"
     ]
    },
    {
     "name": "stdout",
     "output_type": "stream",
     "text": [
      "\n",
      "574\n"
     ]
    },
    {
     "name": "stderr",
     "output_type": "stream",
     "text": [
      "05-25 16:25:17 [574] Lr: 0.000031, Training: 100.00%,  Loss: 0.00048, Acc: 99.99%, Recall: 99.98%, F1: 99.99%%\r"
     ]
    },
    {
     "name": "stdout",
     "output_type": "stream",
     "text": [
      "\n",
      "575\n"
     ]
    },
    {
     "name": "stderr",
     "output_type": "stream",
     "text": [
      "05-25 16:26:32 [575] Lr: 0.000031, Training: 100.00%,  Loss: 0.00035, Acc: 99.99%, Recall: 99.99%, F1: 99.99%0%\r"
     ]
    },
    {
     "name": "stdout",
     "output_type": "stream",
     "text": [
      "\n"
     ]
    },
    {
     "name": "stderr",
     "output_type": "stream",
     "text": [
      "100%|███████████████████████████████████████████████████████████████████████████████████████████████████████████| 5100/5100 [01:30<00:00, 56.16it/s]\n"
     ]
    },
    {
     "name": "stdout",
     "output_type": "stream",
     "text": [
      "2024-05-25 16:28:03 575 epoch, Acc 99.99%, Recall 99.99%, F1 99.99%, Val_acc 99.12%, Best_acc 99.31%, Val_recall 99.50%, Best_recall 99.79%, Val_f1  99.07%, Best_f1 99.27%\n",
      "576\n"
     ]
    },
    {
     "name": "stderr",
     "output_type": "stream",
     "text": [
      "05-25 16:29:23 [576] Lr: 0.000030, Training: 100.00%,  Loss: 0.00091, Acc: 99.97%, Recall: 99.97%, F1: 99.96%%\r"
     ]
    },
    {
     "name": "stdout",
     "output_type": "stream",
     "text": [
      "\n",
      "577\n"
     ]
    },
    {
     "name": "stderr",
     "output_type": "stream",
     "text": [
      "05-25 16:30:36 [577] Lr: 0.000030, Training: 100.00%,  Loss: 0.00012, Acc: 100.00%, Recall: 100.00%, F1: 100.00%\r"
     ]
    },
    {
     "name": "stdout",
     "output_type": "stream",
     "text": [
      "\n",
      "578\n"
     ]
    },
    {
     "name": "stderr",
     "output_type": "stream",
     "text": [
      "05-25 16:31:49 [578] Lr: 0.000030, Training: 100.00%,  Loss: 0.00092, Acc: 99.98%, Recall: 99.97%, F1: 99.98%0%\r"
     ]
    },
    {
     "name": "stdout",
     "output_type": "stream",
     "text": [
      "\n",
      "579\n"
     ]
    },
    {
     "name": "stderr",
     "output_type": "stream",
     "text": [
      "05-25 16:33:03 [579] Lr: 0.000030, Training: 100.00%,  Loss: 0.00047, Acc: 99.98%, Recall: 99.98%, F1: 99.98%0%\r"
     ]
    },
    {
     "name": "stdout",
     "output_type": "stream",
     "text": [
      "\n",
      "580\n"
     ]
    },
    {
     "name": "stderr",
     "output_type": "stream",
     "text": [
      "05-25 16:34:16 [580] Lr: 0.000030, Training: 100.00%,  Loss: 0.00041, Acc: 99.98%, Recall: 99.98%, F1: 99.97%0%\r"
     ]
    },
    {
     "name": "stdout",
     "output_type": "stream",
     "text": [
      "\n"
     ]
    },
    {
     "name": "stderr",
     "output_type": "stream",
     "text": [
      "100%|███████████████████████████████████████████████████████████████████████████████████████████████████████████| 5100/5100 [01:33<00:00, 54.57it/s]\n"
     ]
    },
    {
     "name": "stdout",
     "output_type": "stream",
     "text": [
      "2024-05-25 16:35:50 580 epoch, Acc 99.98%, Recall 99.98%, F1 99.97%, Val_acc 99.14%, Best_acc 99.31%, Val_recall 99.50%, Best_recall 99.79%, Val_f1  99.09%, Best_f1 99.27%\n",
      "581\n"
     ]
    },
    {
     "name": "stderr",
     "output_type": "stream",
     "text": [
      "05-25 16:37:03 [581] Lr: 0.000029, Training: 100.00%,  Loss: 0.00040, Acc: 99.99%, Recall: 99.99%, F1: 99.98%0%\r"
     ]
    },
    {
     "name": "stdout",
     "output_type": "stream",
     "text": [
      "\n",
      "582\n"
     ]
    },
    {
     "name": "stderr",
     "output_type": "stream",
     "text": [
      "05-25 16:38:16 [582] Lr: 0.000029, Training: 100.00%,  Loss: 0.00129, Acc: 99.96%, Recall: 99.96%, F1: 99.96%%\r"
     ]
    },
    {
     "name": "stdout",
     "output_type": "stream",
     "text": [
      "\n",
      "583\n"
     ]
    },
    {
     "name": "stderr",
     "output_type": "stream",
     "text": [
      "05-25 16:39:30 [583] Lr: 0.000029, Training: 100.00%,  Loss: 0.00070, Acc: 99.98%, Recall: 99.97%, F1: 99.98%0%\r"
     ]
    },
    {
     "name": "stdout",
     "output_type": "stream",
     "text": [
      "\n",
      "584\n"
     ]
    },
    {
     "name": "stderr",
     "output_type": "stream",
     "text": [
      "05-25 16:40:43 [584] Lr: 0.000029, Training: 100.00%,  Loss: 0.00072, Acc: 99.97%, Recall: 99.97%, F1: 99.96%0%\r"
     ]
    },
    {
     "name": "stdout",
     "output_type": "stream",
     "text": [
      "\n",
      "585\n"
     ]
    },
    {
     "name": "stderr",
     "output_type": "stream",
     "text": [
      "05-25 16:41:58 [585] Lr: 0.000029, Training: 100.00%,  Loss: 0.00144, Acc: 99.96%, Recall: 99.96%, F1: 99.95%%\r"
     ]
    },
    {
     "name": "stdout",
     "output_type": "stream",
     "text": [
      "\n"
     ]
    },
    {
     "name": "stderr",
     "output_type": "stream",
     "text": [
      "100%|███████████████████████████████████████████████████████████████████████████████████████████████████████████| 5100/5100 [01:46<00:00, 47.86it/s]\n"
     ]
    },
    {
     "name": "stdout",
     "output_type": "stream",
     "text": [
      "2024-05-25 16:43:45 585 epoch, Acc 99.96%, Recall 99.96%, F1 99.95%, Val_acc 99.04%, Best_acc 99.31%, Val_recall 99.54%, Best_recall 99.79%, Val_f1  98.98%, Best_f1 99.27%\n",
      "586\n"
     ]
    },
    {
     "name": "stderr",
     "output_type": "stream",
     "text": [
      "05-25 16:44:59 [586] Lr: 0.000028, Training: 100.00%,  Loss: 0.00102, Acc: 99.98%, Recall: 99.97%, F1: 99.97%%\r"
     ]
    },
    {
     "name": "stdout",
     "output_type": "stream",
     "text": [
      "\n",
      "587\n"
     ]
    },
    {
     "name": "stderr",
     "output_type": "stream",
     "text": [
      "05-25 16:46:13 [587] Lr: 0.000028, Training: 100.00%,  Loss: 0.00088, Acc: 99.98%, Recall: 99.98%, F1: 99.98%0%\r"
     ]
    },
    {
     "name": "stdout",
     "output_type": "stream",
     "text": [
      "\n",
      "588\n"
     ]
    },
    {
     "name": "stderr",
     "output_type": "stream",
     "text": [
      "05-25 16:47:27 [588] Lr: 0.000028, Training: 100.00%,  Loss: 0.00047, Acc: 99.99%, Recall: 99.99%, F1: 99.98%%\r"
     ]
    },
    {
     "name": "stdout",
     "output_type": "stream",
     "text": [
      "\n",
      "589\n"
     ]
    },
    {
     "name": "stderr",
     "output_type": "stream",
     "text": [
      "05-25 16:48:41 [589] Lr: 0.000028, Training: 100.00%,  Loss: 0.00073, Acc: 99.97%, Recall: 99.98%, F1: 99.96%%\r"
     ]
    },
    {
     "name": "stdout",
     "output_type": "stream",
     "text": [
      "\n",
      "590\n"
     ]
    },
    {
     "name": "stderr",
     "output_type": "stream",
     "text": [
      "05-25 16:49:54 [590] Lr: 0.000028, Training: 100.00%,  Loss: 0.00052, Acc: 99.99%, Recall: 99.99%, F1: 99.98%0%\r"
     ]
    },
    {
     "name": "stdout",
     "output_type": "stream",
     "text": [
      "\n"
     ]
    },
    {
     "name": "stderr",
     "output_type": "stream",
     "text": [
      "100%|███████████████████████████████████████████████████████████████████████████████████████████████████████████| 5100/5100 [01:51<00:00, 45.86it/s]\n"
     ]
    },
    {
     "name": "stdout",
     "output_type": "stream",
     "text": [
      "2024-05-25 16:51:46 590 epoch, Acc 99.99%, Recall 99.99%, F1 99.98%, Val_acc 99.04%, Best_acc 99.31%, Val_recall 99.42%, Best_recall 99.79%, Val_f1  98.98%, Best_f1 99.27%\n",
      "591\n"
     ]
    },
    {
     "name": "stderr",
     "output_type": "stream",
     "text": [
      "05-25 16:53:00 [591] Lr: 0.000027, Training: 100.00%,  Loss: 0.00068, Acc: 99.97%, Recall: 99.96%, F1: 99.96%0%\r"
     ]
    },
    {
     "name": "stdout",
     "output_type": "stream",
     "text": [
      "\n",
      "592\n"
     ]
    },
    {
     "name": "stderr",
     "output_type": "stream",
     "text": [
      "05-25 16:54:15 [592] Lr: 0.000027, Training: 100.00%,  Loss: 0.00033, Acc: 99.99%, Recall: 99.99%, F1: 99.99%0%\r"
     ]
    },
    {
     "name": "stdout",
     "output_type": "stream",
     "text": [
      "\n",
      "593\n"
     ]
    },
    {
     "name": "stderr",
     "output_type": "stream",
     "text": [
      "05-25 16:55:30 [593] Lr: 0.000027, Training: 100.00%,  Loss: 0.00063, Acc: 99.99%, Recall: 99.98%, F1: 99.99%%\r"
     ]
    },
    {
     "name": "stdout",
     "output_type": "stream",
     "text": [
      "\n",
      "594\n"
     ]
    },
    {
     "name": "stderr",
     "output_type": "stream",
     "text": [
      "05-25 16:56:45 [594] Lr: 0.000027, Training: 100.00%,  Loss: 0.00061, Acc: 99.98%, Recall: 99.98%, F1: 99.97%0%\r"
     ]
    },
    {
     "name": "stdout",
     "output_type": "stream",
     "text": [
      "\n",
      "595\n"
     ]
    },
    {
     "name": "stderr",
     "output_type": "stream",
     "text": [
      "05-25 16:57:59 [595] Lr: 0.000027, Training: 100.00%,  Loss: 0.00025, Acc: 100.00%, Recall: 99.99%, F1: 100.00%\r"
     ]
    },
    {
     "name": "stdout",
     "output_type": "stream",
     "text": [
      "\n"
     ]
    },
    {
     "name": "stderr",
     "output_type": "stream",
     "text": [
      "100%|███████████████████████████████████████████████████████████████████████████████████████████████████████████| 5100/5100 [01:44<00:00, 48.98it/s]\n"
     ]
    },
    {
     "name": "stdout",
     "output_type": "stream",
     "text": [
      "2024-05-25 16:59:44 595 epoch, Acc 100.00%, Recall 99.99%, F1 100.00%, Val_acc 99.02%, Best_acc 99.31%, Val_recall 99.46%, Best_recall 99.79%, Val_f1  98.96%, Best_f1 99.27%\n",
      "596\n"
     ]
    },
    {
     "name": "stderr",
     "output_type": "stream",
     "text": [
      "05-25 17:00:58 [596] Lr: 0.000027, Training: 100.00%,  Loss: 0.00038, Acc: 99.99%, Recall: 99.98%, F1: 99.98%%\r"
     ]
    },
    {
     "name": "stdout",
     "output_type": "stream",
     "text": [
      "\n",
      "597\n"
     ]
    },
    {
     "name": "stderr",
     "output_type": "stream",
     "text": [
      "05-25 17:02:11 [597] Lr: 0.000027, Training: 100.00%,  Loss: 0.00053, Acc: 99.99%, Recall: 99.97%, F1: 99.98%%\r"
     ]
    },
    {
     "name": "stdout",
     "output_type": "stream",
     "text": [
      "\n",
      "598\n"
     ]
    },
    {
     "name": "stderr",
     "output_type": "stream",
     "text": [
      "05-25 17:03:25 [598] Lr: 0.000027, Training: 100.00%,  Loss: 0.00035, Acc: 99.98%, Recall: 100.00%, F1: 99.98%%\r"
     ]
    },
    {
     "name": "stdout",
     "output_type": "stream",
     "text": [
      "\n",
      "599\n"
     ]
    },
    {
     "name": "stderr",
     "output_type": "stream",
     "text": [
      "05-25 17:04:38 [599] Lr: 0.000027, Training: 100.00%,  Loss: 0.00045, Acc: 99.99%, Recall: 99.97%, F1: 99.98%%\r"
     ]
    },
    {
     "name": "stdout",
     "output_type": "stream",
     "text": [
      "\n",
      "600\n"
     ]
    },
    {
     "name": "stderr",
     "output_type": "stream",
     "text": [
      "05-25 17:05:52 [600] Lr: 0.000027, Training: 100.00%,  Loss: 0.00054, Acc: 99.99%, Recall: 99.99%, F1: 99.99%0%\r"
     ]
    },
    {
     "name": "stdout",
     "output_type": "stream",
     "text": [
      "\n"
     ]
    },
    {
     "name": "stderr",
     "output_type": "stream",
     "text": [
      "100%|███████████████████████████████████████████████████████████████████████████████████████████████████████████| 5100/5100 [01:44<00:00, 48.65it/s]\n"
     ]
    },
    {
     "name": "stdout",
     "output_type": "stream",
     "text": [
      "2024-05-25 17:07:38 600 epoch, Acc 99.99%, Recall 99.99%, F1 99.99%, Val_acc 99.22%, Best_acc 99.31%, Val_recall 99.46%, Best_recall 99.79%, Val_f1  99.17%, Best_f1 99.27%\n",
      "601\n"
     ]
    },
    {
     "name": "stderr",
     "output_type": "stream",
     "text": [
      "05-25 17:08:51 [601] Lr: 0.000026, Training: 100.00%,  Loss: 0.00108, Acc: 99.98%, Recall: 99.98%, F1: 99.97%0%\r"
     ]
    },
    {
     "name": "stdout",
     "output_type": "stream",
     "text": [
      "\n",
      "602\n"
     ]
    },
    {
     "name": "stderr",
     "output_type": "stream",
     "text": [
      "05-25 17:10:05 [602] Lr: 0.000026, Training: 100.00%,  Loss: 0.00021, Acc: 99.99%, Recall: 99.98%, F1: 99.99%0%\r"
     ]
    },
    {
     "name": "stdout",
     "output_type": "stream",
     "text": [
      "\n",
      "603\n"
     ]
    },
    {
     "name": "stderr",
     "output_type": "stream",
     "text": [
      "05-25 17:11:18 [603] Lr: 0.000026, Training: 100.00%,  Loss: 0.00069, Acc: 99.98%, Recall: 99.98%, F1: 99.97%0%\r"
     ]
    },
    {
     "name": "stdout",
     "output_type": "stream",
     "text": [
      "\n",
      "604\n"
     ]
    },
    {
     "name": "stderr",
     "output_type": "stream",
     "text": [
      "05-25 17:12:32 [604] Lr: 0.000026, Training: 100.00%,  Loss: 0.00047, Acc: 99.99%, Recall: 99.99%, F1: 99.99%0%\r"
     ]
    },
    {
     "name": "stdout",
     "output_type": "stream",
     "text": [
      "\n",
      "605\n"
     ]
    },
    {
     "name": "stderr",
     "output_type": "stream",
     "text": [
      "05-25 17:13:45 [605] Lr: 0.000026, Training: 100.00%,  Loss: 0.00044, Acc: 99.99%, Recall: 99.98%, F1: 99.98%0%\r"
     ]
    },
    {
     "name": "stdout",
     "output_type": "stream",
     "text": [
      "\n"
     ]
    },
    {
     "name": "stderr",
     "output_type": "stream",
     "text": [
      "100%|███████████████████████████████████████████████████████████████████████████████████████████████████████████| 5100/5100 [01:35<00:00, 53.14it/s]\n"
     ]
    },
    {
     "name": "stdout",
     "output_type": "stream",
     "text": [
      "2024-05-25 17:15:22 605 epoch, Acc 99.99%, Recall 99.98%, F1 99.98%, Val_acc 99.24%, Best_acc 99.31%, Val_recall 99.46%, Best_recall 99.79%, Val_f1  99.19%, Best_f1 99.27%\n",
      "606\n"
     ]
    },
    {
     "name": "stderr",
     "output_type": "stream",
     "text": [
      "05-25 17:16:35 [606] Lr: 0.000025, Training: 100.00%,  Loss: 0.00051, Acc: 99.99%, Recall: 99.99%, F1: 99.98%%\r"
     ]
    },
    {
     "name": "stdout",
     "output_type": "stream",
     "text": [
      "\n",
      "607\n"
     ]
    },
    {
     "name": "stderr",
     "output_type": "stream",
     "text": [
      "05-25 17:17:49 [607] Lr: 0.000025, Training: 100.00%,  Loss: 0.00030, Acc: 99.99%, Recall: 99.98%, F1: 99.99%0%\r"
     ]
    },
    {
     "name": "stdout",
     "output_type": "stream",
     "text": [
      "\n",
      "608\n"
     ]
    },
    {
     "name": "stderr",
     "output_type": "stream",
     "text": [
      "05-25 17:19:03 [608] Lr: 0.000025, Training: 100.00%,  Loss: 0.00119, Acc: 99.98%, Recall: 99.98%, F1: 99.97%%\r"
     ]
    },
    {
     "name": "stdout",
     "output_type": "stream",
     "text": [
      "\n",
      "609\n"
     ]
    },
    {
     "name": "stderr",
     "output_type": "stream",
     "text": [
      "05-25 17:20:17 [609] Lr: 0.000025, Training: 100.00%,  Loss: 0.00012, Acc: 100.00%, Recall: 100.00%, F1: 100.00%\r"
     ]
    },
    {
     "name": "stdout",
     "output_type": "stream",
     "text": [
      "\n",
      "610\n"
     ]
    },
    {
     "name": "stderr",
     "output_type": "stream",
     "text": [
      "05-25 17:21:31 [610] Lr: 0.000025, Training: 100.00%,  Loss: 0.00075, Acc: 99.98%, Recall: 99.99%, F1: 99.98%%\r"
     ]
    },
    {
     "name": "stdout",
     "output_type": "stream",
     "text": [
      "\n"
     ]
    },
    {
     "name": "stderr",
     "output_type": "stream",
     "text": [
      "100%|███████████████████████████████████████████████████████████████████████████████████████████████████████████| 5100/5100 [01:46<00:00, 47.99it/s]\n"
     ]
    },
    {
     "name": "stdout",
     "output_type": "stream",
     "text": [
      "2024-05-25 17:23:18 610 epoch, Acc 99.98%, Recall 99.99%, F1 99.98%, Val_acc 99.27%, Best_acc 99.31%, Val_recall 99.54%, Best_recall 99.79%, Val_f1  99.23%, Best_f1 99.27%\n",
      "611\n"
     ]
    },
    {
     "name": "stderr",
     "output_type": "stream",
     "text": [
      "05-25 17:24:32 [611] Lr: 0.000024, Training: 100.00%,  Loss: 0.00050, Acc: 99.99%, Recall: 99.98%, F1: 99.99%0%\r"
     ]
    },
    {
     "name": "stdout",
     "output_type": "stream",
     "text": [
      "\n",
      "612\n"
     ]
    },
    {
     "name": "stderr",
     "output_type": "stream",
     "text": [
      "05-25 17:25:45 [612] Lr: 0.000024, Training: 100.00%,  Loss: 0.00081, Acc: 99.98%, Recall: 99.98%, F1: 99.97%%\r"
     ]
    },
    {
     "name": "stdout",
     "output_type": "stream",
     "text": [
      "\n",
      "613\n"
     ]
    },
    {
     "name": "stderr",
     "output_type": "stream",
     "text": [
      "05-25 17:26:59 [613] Lr: 0.000024, Training: 100.00%,  Loss: 0.00056, Acc: 99.98%, Recall: 99.98%, F1: 99.98%0%\r"
     ]
    },
    {
     "name": "stdout",
     "output_type": "stream",
     "text": [
      "\n",
      "614\n"
     ]
    },
    {
     "name": "stderr",
     "output_type": "stream",
     "text": [
      "05-25 17:28:13 [614] Lr: 0.000024, Training: 100.00%,  Loss: 0.00108, Acc: 99.97%, Recall: 99.97%, F1: 99.96%0%\r"
     ]
    },
    {
     "name": "stdout",
     "output_type": "stream",
     "text": [
      "\n",
      "615\n"
     ]
    },
    {
     "name": "stderr",
     "output_type": "stream",
     "text": [
      "05-25 17:29:29 [615] Lr: 0.000024, Training: 100.00%,  Loss: 0.00091, Acc: 99.96%, Recall: 99.94%, F1: 99.95%\r"
     ]
    },
    {
     "name": "stdout",
     "output_type": "stream",
     "text": [
      "\n"
     ]
    },
    {
     "name": "stderr",
     "output_type": "stream",
     "text": [
      "100%|███████████████████████████████████████████████████████████████████████████████████████████████████████████| 5100/5100 [01:45<00:00, 48.49it/s]\n"
     ]
    },
    {
     "name": "stdout",
     "output_type": "stream",
     "text": [
      "2024-05-25 17:31:14 615 epoch, Acc 99.96%, Recall 99.94%, F1 99.95%, Val_acc 98.61%, Best_acc 99.31%, Val_recall 99.50%, Best_recall 99.79%, Val_f1  98.53%, Best_f1 99.27%\n",
      "616\n"
     ]
    },
    {
     "name": "stderr",
     "output_type": "stream",
     "text": [
      "05-25 17:32:29 [616] Lr: 0.000024, Training: 100.00%,  Loss: 0.00099, Acc: 99.98%, Recall: 99.98%, F1: 99.97%0%\r"
     ]
    },
    {
     "name": "stdout",
     "output_type": "stream",
     "text": [
      "\n",
      "617\n"
     ]
    },
    {
     "name": "stderr",
     "output_type": "stream",
     "text": [
      "05-25 17:33:43 [617] Lr: 0.000024, Training: 100.00%,  Loss: 0.00111, Acc: 99.97%, Recall: 99.96%, F1: 99.96%0%\r"
     ]
    },
    {
     "name": "stdout",
     "output_type": "stream",
     "text": [
      "\n",
      "618\n"
     ]
    },
    {
     "name": "stderr",
     "output_type": "stream",
     "text": [
      "05-25 17:34:58 [618] Lr: 0.000024, Training: 100.00%,  Loss: 0.00053, Acc: 99.98%, Recall: 99.98%, F1: 99.98%0%\r"
     ]
    },
    {
     "name": "stdout",
     "output_type": "stream",
     "text": [
      "\n",
      "619\n"
     ]
    },
    {
     "name": "stderr",
     "output_type": "stream",
     "text": [
      "05-25 17:36:13 [619] Lr: 0.000024, Training: 100.00%,  Loss: 0.00110, Acc: 99.97%, Recall: 99.98%, F1: 99.97%%\r"
     ]
    },
    {
     "name": "stdout",
     "output_type": "stream",
     "text": [
      "\n",
      "620\n"
     ]
    },
    {
     "name": "stderr",
     "output_type": "stream",
     "text": [
      "05-25 17:37:27 [620] Lr: 0.000024, Training: 100.00%,  Loss: 0.00078, Acc: 99.98%, Recall: 99.96%, F1: 99.97%%\r"
     ]
    },
    {
     "name": "stdout",
     "output_type": "stream",
     "text": [
      "\n"
     ]
    },
    {
     "name": "stderr",
     "output_type": "stream",
     "text": [
      "100%|███████████████████████████████████████████████████████████████████████████████████████████████████████████| 5100/5100 [01:44<00:00, 48.61it/s]\n"
     ]
    },
    {
     "name": "stdout",
     "output_type": "stream",
     "text": [
      "2024-05-25 17:39:12 620 epoch, Acc 99.98%, Recall 99.96%, F1 99.97%, Val_acc 99.22%, Best_acc 99.31%, Val_recall 99.54%, Best_recall 99.79%, Val_f1  99.17%, Best_f1 99.27%\n",
      "621\n"
     ]
    },
    {
     "name": "stderr",
     "output_type": "stream",
     "text": [
      "05-25 17:40:26 [621] Lr: 0.000023, Training: 100.00%,  Loss: 0.00079, Acc: 99.97%, Recall: 99.96%, F1: 99.97%0%\r"
     ]
    },
    {
     "name": "stdout",
     "output_type": "stream",
     "text": [
      "\n",
      "622\n"
     ]
    },
    {
     "name": "stderr",
     "output_type": "stream",
     "text": [
      "05-25 17:41:40 [622] Lr: 0.000023, Training: 100.00%,  Loss: 0.00067, Acc: 99.98%, Recall: 99.98%, F1: 99.97%0%\r"
     ]
    },
    {
     "name": "stdout",
     "output_type": "stream",
     "text": [
      "\n",
      "623\n"
     ]
    },
    {
     "name": "stderr",
     "output_type": "stream",
     "text": [
      "05-25 17:42:54 [623] Lr: 0.000023, Training: 100.00%,  Loss: 0.00050, Acc: 99.98%, Recall: 99.97%, F1: 99.98%0%\r"
     ]
    },
    {
     "name": "stdout",
     "output_type": "stream",
     "text": [
      "\n",
      "624\n"
     ]
    },
    {
     "name": "stderr",
     "output_type": "stream",
     "text": [
      "05-25 17:44:08 [624] Lr: 0.000023, Training: 100.00%,  Loss: 0.00046, Acc: 99.98%, Recall: 99.97%, F1: 99.98%0%\r"
     ]
    },
    {
     "name": "stdout",
     "output_type": "stream",
     "text": [
      "\n",
      "625\n"
     ]
    },
    {
     "name": "stderr",
     "output_type": "stream",
     "text": [
      "05-25 17:45:22 [625] Lr: 0.000023, Training: 100.00%,  Loss: 0.00064, Acc: 99.99%, Recall: 99.99%, F1: 99.98%0%\r"
     ]
    },
    {
     "name": "stdout",
     "output_type": "stream",
     "text": [
      "\n"
     ]
    },
    {
     "name": "stderr",
     "output_type": "stream",
     "text": [
      "100%|███████████████████████████████████████████████████████████████████████████████████████████████████████████| 5100/5100 [01:54<00:00, 44.42it/s]\n"
     ]
    },
    {
     "name": "stdout",
     "output_type": "stream",
     "text": [
      "2024-05-25 17:47:18 625 epoch, Acc 99.99%, Recall 99.99%, F1 99.98%, Val_acc 98.92%, Best_acc 99.31%, Val_recall 99.58%, Best_recall 99.79%, Val_f1  98.86%, Best_f1 99.27%\n",
      "626\n"
     ]
    },
    {
     "name": "stderr",
     "output_type": "stream",
     "text": [
      "05-25 17:48:33 [626] Lr: 0.000022, Training: 100.00%,  Loss: 0.00061, Acc: 99.99%, Recall: 99.99%, F1: 99.98%0%\r"
     ]
    },
    {
     "name": "stdout",
     "output_type": "stream",
     "text": [
      "\n",
      "627\n"
     ]
    },
    {
     "name": "stderr",
     "output_type": "stream",
     "text": [
      "05-25 17:49:48 [627] Lr: 0.000022, Training: 100.00%,  Loss: 0.00008, Acc: 100.00%, Recall: 100.00%, F1: 100.00%\r"
     ]
    },
    {
     "name": "stdout",
     "output_type": "stream",
     "text": [
      "\n",
      "628\n"
     ]
    },
    {
     "name": "stderr",
     "output_type": "stream",
     "text": [
      "05-25 17:51:02 [628] Lr: 0.000022, Training: 100.00%,  Loss: 0.00081, Acc: 99.98%, Recall: 99.97%, F1: 99.97%%\r"
     ]
    },
    {
     "name": "stdout",
     "output_type": "stream",
     "text": [
      "\n",
      "629\n"
     ]
    },
    {
     "name": "stderr",
     "output_type": "stream",
     "text": [
      "05-25 17:52:17 [629] Lr: 0.000022, Training: 100.00%,  Loss: 0.00027, Acc: 100.00%, Recall: 99.99%, F1: 100.00%\r"
     ]
    },
    {
     "name": "stdout",
     "output_type": "stream",
     "text": [
      "\n",
      "630\n"
     ]
    },
    {
     "name": "stderr",
     "output_type": "stream",
     "text": [
      "05-25 17:53:33 [630] Lr: 0.000022, Training: 100.00%,  Loss: 0.00046, Acc: 99.99%, Recall: 99.99%, F1: 99.98%0%\r"
     ]
    },
    {
     "name": "stdout",
     "output_type": "stream",
     "text": [
      "\n"
     ]
    },
    {
     "name": "stderr",
     "output_type": "stream",
     "text": [
      "100%|███████████████████████████████████████████████████████████████████████████████████████████████████████████| 5100/5100 [01:52<00:00, 45.39it/s]\n"
     ]
    },
    {
     "name": "stdout",
     "output_type": "stream",
     "text": [
      "2024-05-25 17:55:26 630 epoch, Acc 99.99%, Recall 99.99%, F1 99.98%, Val_acc 98.73%, Best_acc 99.31%, Val_recall 99.50%, Best_recall 99.79%, Val_f1  98.66%, Best_f1 99.27%\n",
      "631\n"
     ]
    },
    {
     "name": "stderr",
     "output_type": "stream",
     "text": [
      "05-25 17:56:41 [631] Lr: 0.000022, Training: 100.00%,  Loss: 0.00153, Acc: 99.96%, Recall: 99.94%, F1: 99.96%0%\r"
     ]
    },
    {
     "name": "stdout",
     "output_type": "stream",
     "text": [
      "\n",
      "632\n"
     ]
    },
    {
     "name": "stderr",
     "output_type": "stream",
     "text": [
      "05-25 17:57:56 [632] Lr: 0.000022, Training: 100.00%,  Loss: 0.00020, Acc: 100.00%, Recall: 100.00%, F1: 99.99%\r"
     ]
    },
    {
     "name": "stdout",
     "output_type": "stream",
     "text": [
      "\n",
      "633\n"
     ]
    },
    {
     "name": "stderr",
     "output_type": "stream",
     "text": [
      "05-25 17:59:11 [633] Lr: 0.000022, Training: 100.00%,  Loss: 0.00041, Acc: 99.99%, Recall: 100.00%, F1: 99.99%%\r"
     ]
    },
    {
     "name": "stdout",
     "output_type": "stream",
     "text": [
      "\n",
      "634\n"
     ]
    },
    {
     "name": "stderr",
     "output_type": "stream",
     "text": [
      "05-25 18:00:26 [634] Lr: 0.000022, Training: 100.00%,  Loss: 0.00070, Acc: 99.97%, Recall: 99.96%, F1: 99.97%%\r"
     ]
    },
    {
     "name": "stdout",
     "output_type": "stream",
     "text": [
      "\n",
      "635\n"
     ]
    },
    {
     "name": "stderr",
     "output_type": "stream",
     "text": [
      "05-25 18:01:41 [635] Lr: 0.000022, Training: 100.00%,  Loss: 0.00051, Acc: 99.99%, Recall: 99.98%, F1: 99.98%0%\r"
     ]
    },
    {
     "name": "stdout",
     "output_type": "stream",
     "text": [
      "\n"
     ]
    },
    {
     "name": "stderr",
     "output_type": "stream",
     "text": [
      "100%|███████████████████████████████████████████████████████████████████████████████████████████████████████████| 5100/5100 [01:46<00:00, 47.85it/s]\n"
     ]
    },
    {
     "name": "stdout",
     "output_type": "stream",
     "text": [
      "2024-05-25 18:03:28 635 epoch, Acc 99.99%, Recall 99.98%, F1 99.98%, Val_acc 99.00%, Best_acc 99.31%, Val_recall 99.54%, Best_recall 99.79%, Val_f1  98.94%, Best_f1 99.27%\n",
      "636\n"
     ]
    },
    {
     "name": "stderr",
     "output_type": "stream",
     "text": [
      "05-25 18:04:43 [636] Lr: 0.000021, Training: 100.00%,  Loss: 0.00099, Acc: 99.96%, Recall: 99.98%, F1: 99.96%%\r"
     ]
    },
    {
     "name": "stdout",
     "output_type": "stream",
     "text": [
      "\n",
      "637\n"
     ]
    },
    {
     "name": "stderr",
     "output_type": "stream",
     "text": [
      "05-25 18:05:59 [637] Lr: 0.000021, Training: 100.00%,  Loss: 0.00014, Acc: 100.00%, Recall: 99.99%, F1: 99.99%%\r"
     ]
    },
    {
     "name": "stdout",
     "output_type": "stream",
     "text": [
      "\n",
      "638\n"
     ]
    },
    {
     "name": "stderr",
     "output_type": "stream",
     "text": [
      "05-25 18:07:15 [638] Lr: 0.000021, Training: 100.00%,  Loss: 0.00010, Acc: 100.00%, Recall: 99.99%, F1: 99.99%\r"
     ]
    },
    {
     "name": "stdout",
     "output_type": "stream",
     "text": [
      "\n",
      "639\n"
     ]
    },
    {
     "name": "stderr",
     "output_type": "stream",
     "text": [
      "05-25 18:08:30 [639] Lr: 0.000021, Training: 100.00%,  Loss: 0.00050, Acc: 99.98%, Recall: 99.97%, F1: 99.97%%\r"
     ]
    },
    {
     "name": "stdout",
     "output_type": "stream",
     "text": [
      "\n",
      "640\n"
     ]
    },
    {
     "name": "stderr",
     "output_type": "stream",
     "text": [
      "05-25 18:09:47 [640] Lr: 0.000021, Training: 100.00%,  Loss: 0.00026, Acc: 99.99%, Recall: 100.00%, F1: 99.99%%\r"
     ]
    },
    {
     "name": "stdout",
     "output_type": "stream",
     "text": [
      "\n"
     ]
    },
    {
     "name": "stderr",
     "output_type": "stream",
     "text": [
      "100%|███████████████████████████████████████████████████████████████████████████████████████████████████████████| 5100/5100 [01:49<00:00, 46.49it/s]\n"
     ]
    },
    {
     "name": "stdout",
     "output_type": "stream",
     "text": [
      "2024-05-25 18:11:37 640 epoch, Acc 99.99%, Recall 100.00%, F1 99.99%, Val_acc 99.04%, Best_acc 99.31%, Val_recall 99.37%, Best_recall 99.79%, Val_f1  98.98%, Best_f1 99.27%\n",
      "641\n"
     ]
    },
    {
     "name": "stderr",
     "output_type": "stream",
     "text": [
      "05-25 18:12:52 [641] Lr: 0.000020, Training: 100.00%,  Loss: 0.00048, Acc: 99.98%, Recall: 99.98%, F1: 99.97%%\r"
     ]
    },
    {
     "name": "stdout",
     "output_type": "stream",
     "text": [
      "\n",
      "642\n"
     ]
    },
    {
     "name": "stderr",
     "output_type": "stream",
     "text": [
      "05-25 18:14:08 [642] Lr: 0.000020, Training: 100.00%,  Loss: 0.00121, Acc: 99.96%, Recall: 99.95%, F1: 99.96%%\r"
     ]
    },
    {
     "name": "stdout",
     "output_type": "stream",
     "text": [
      "\n",
      "643\n"
     ]
    },
    {
     "name": "stderr",
     "output_type": "stream",
     "text": [
      "05-25 18:15:22 [643] Lr: 0.000020, Training: 100.00%,  Loss: 0.00038, Acc: 99.99%, Recall: 99.99%, F1: 99.98%0%\r"
     ]
    },
    {
     "name": "stdout",
     "output_type": "stream",
     "text": [
      "\n",
      "644\n"
     ]
    },
    {
     "name": "stderr",
     "output_type": "stream",
     "text": [
      "05-25 18:16:37 [644] Lr: 0.000020, Training: 100.00%,  Loss: 0.00120, Acc: 99.96%, Recall: 99.94%, F1: 99.95%0%\r"
     ]
    },
    {
     "name": "stdout",
     "output_type": "stream",
     "text": [
      "\n",
      "645\n"
     ]
    },
    {
     "name": "stderr",
     "output_type": "stream",
     "text": [
      "05-25 18:17:51 [645] Lr: 0.000020, Training: 100.00%,  Loss: 0.00078, Acc: 99.98%, Recall: 99.96%, F1: 99.97%0%\r"
     ]
    },
    {
     "name": "stdout",
     "output_type": "stream",
     "text": [
      "\n"
     ]
    },
    {
     "name": "stderr",
     "output_type": "stream",
     "text": [
      "100%|███████████████████████████████████████████████████████████████████████████████████████████████████████████| 5100/5100 [01:50<00:00, 46.31it/s]\n"
     ]
    },
    {
     "name": "stdout",
     "output_type": "stream",
     "text": [
      "2024-05-25 18:19:42 645 epoch, Acc 99.98%, Recall 99.96%, F1 99.97%, Val_acc 98.98%, Best_acc 99.31%, Val_recall 99.46%, Best_recall 99.79%, Val_f1  98.92%, Best_f1 99.27%\n",
      "646\n"
     ]
    },
    {
     "name": "stderr",
     "output_type": "stream",
     "text": [
      "05-25 18:20:57 [646] Lr: 0.000020, Training: 100.00%,  Loss: 0.00023, Acc: 100.00%, Recall: 100.00%, F1: 99.99%\r"
     ]
    },
    {
     "name": "stdout",
     "output_type": "stream",
     "text": [
      "\n",
      "647\n"
     ]
    },
    {
     "name": "stderr",
     "output_type": "stream",
     "text": [
      "05-25 18:22:11 [647] Lr: 0.000020, Training: 100.00%,  Loss: 0.00025, Acc: 99.99%, Recall: 100.00%, F1: 99.99%\r"
     ]
    },
    {
     "name": "stdout",
     "output_type": "stream",
     "text": [
      "\n",
      "648\n"
     ]
    },
    {
     "name": "stderr",
     "output_type": "stream",
     "text": [
      "05-25 18:23:25 [648] Lr: 0.000020, Training: 100.00%,  Loss: 0.00110, Acc: 99.98%, Recall: 99.97%, F1: 99.97%0%\r"
     ]
    },
    {
     "name": "stdout",
     "output_type": "stream",
     "text": [
      "\n",
      "649\n"
     ]
    },
    {
     "name": "stderr",
     "output_type": "stream",
     "text": [
      "05-25 18:24:40 [649] Lr: 0.000020, Training: 100.00%,  Loss: 0.00034, Acc: 99.99%, Recall: 99.98%, F1: 99.98%0%\r"
     ]
    },
    {
     "name": "stdout",
     "output_type": "stream",
     "text": [
      "\n",
      "650\n"
     ]
    },
    {
     "name": "stderr",
     "output_type": "stream",
     "text": [
      "05-25 18:25:54 [650] Lr: 0.000020, Training: 100.00%,  Loss: 0.00027, Acc: 99.99%, Recall: 99.99%, F1: 99.99%0%\r"
     ]
    },
    {
     "name": "stdout",
     "output_type": "stream",
     "text": [
      "\n"
     ]
    },
    {
     "name": "stderr",
     "output_type": "stream",
     "text": [
      "100%|███████████████████████████████████████████████████████████████████████████████████████████████████████████| 5100/5100 [01:39<00:00, 51.27it/s]\n"
     ]
    },
    {
     "name": "stdout",
     "output_type": "stream",
     "text": [
      "2024-05-25 18:27:34 650 epoch, Acc 99.99%, Recall 99.99%, F1 99.99%, Val_acc 99.04%, Best_acc 99.31%, Val_recall 99.50%, Best_recall 99.79%, Val_f1  98.98%, Best_f1 99.27%\n",
      "651\n"
     ]
    },
    {
     "name": "stderr",
     "output_type": "stream",
     "text": [
      "05-25 18:28:52 [651] Lr: 0.000019, Training: 100.00%,  Loss: 0.00025, Acc: 99.99%, Recall: 100.00%, F1: 99.99%%\r"
     ]
    },
    {
     "name": "stdout",
     "output_type": "stream",
     "text": [
      "\n",
      "652\n"
     ]
    },
    {
     "name": "stderr",
     "output_type": "stream",
     "text": [
      "05-25 18:30:06 [652] Lr: 0.000019, Training: 100.00%,  Loss: 0.00058, Acc: 99.98%, Recall: 99.97%, F1: 99.97%%\r"
     ]
    },
    {
     "name": "stdout",
     "output_type": "stream",
     "text": [
      "\n",
      "653\n"
     ]
    },
    {
     "name": "stderr",
     "output_type": "stream",
     "text": [
      "05-25 18:31:20 [653] Lr: 0.000019, Training: 100.00%,  Loss: 0.00059, Acc: 99.98%, Recall: 99.98%, F1: 99.98%%\r"
     ]
    },
    {
     "name": "stdout",
     "output_type": "stream",
     "text": [
      "\n",
      "654\n"
     ]
    },
    {
     "name": "stderr",
     "output_type": "stream",
     "text": [
      "05-25 18:32:35 [654] Lr: 0.000019, Training: 100.00%,  Loss: 0.00032, Acc: 99.98%, Recall: 99.98%, F1: 99.98%%\r"
     ]
    },
    {
     "name": "stdout",
     "output_type": "stream",
     "text": [
      "\n",
      "655\n"
     ]
    },
    {
     "name": "stderr",
     "output_type": "stream",
     "text": [
      "05-25 18:33:49 [655] Lr: 0.000019, Training: 100.00%,  Loss: 0.00032, Acc: 99.99%, Recall: 100.00%, F1: 99.99%%\r"
     ]
    },
    {
     "name": "stdout",
     "output_type": "stream",
     "text": [
      "\n"
     ]
    },
    {
     "name": "stderr",
     "output_type": "stream",
     "text": [
      "100%|███████████████████████████████████████████████████████████████████████████████████████████████████████████| 5100/5100 [01:41<00:00, 50.29it/s]\n"
     ]
    },
    {
     "name": "stdout",
     "output_type": "stream",
     "text": [
      "2024-05-25 18:35:31 655 epoch, Acc 99.99%, Recall 100.00%, F1 99.99%, Val_acc 99.22%, Best_acc 99.31%, Val_recall 99.50%, Best_recall 99.79%, Val_f1  99.17%, Best_f1 99.27%\n",
      "656\n"
     ]
    },
    {
     "name": "stderr",
     "output_type": "stream",
     "text": [
      "05-25 18:36:46 [656] Lr: 0.000018, Training: 100.00%,  Loss: 0.00052, Acc: 99.98%, Recall: 99.98%, F1: 99.98%0%\r"
     ]
    },
    {
     "name": "stdout",
     "output_type": "stream",
     "text": [
      "\n",
      "657\n"
     ]
    },
    {
     "name": "stderr",
     "output_type": "stream",
     "text": [
      "05-25 18:38:00 [657] Lr: 0.000018, Training: 100.00%,  Loss: 0.00062, Acc: 99.99%, Recall: 99.99%, F1: 99.98%0%\r"
     ]
    },
    {
     "name": "stdout",
     "output_type": "stream",
     "text": [
      "\n",
      "658\n"
     ]
    },
    {
     "name": "stderr",
     "output_type": "stream",
     "text": [
      "05-25 18:39:13 [658] Lr: 0.000018, Training: 100.00%,  Loss: 0.00036, Acc: 99.99%, Recall: 99.98%, F1: 99.98%0%\r"
     ]
    },
    {
     "name": "stdout",
     "output_type": "stream",
     "text": [
      "\n",
      "659\n"
     ]
    },
    {
     "name": "stderr",
     "output_type": "stream",
     "text": [
      "05-25 18:40:28 [659] Lr: 0.000018, Training: 100.00%,  Loss: 0.00053, Acc: 99.99%, Recall: 99.97%, F1: 99.98%0%\r"
     ]
    },
    {
     "name": "stdout",
     "output_type": "stream",
     "text": [
      "\n",
      "660\n"
     ]
    },
    {
     "name": "stderr",
     "output_type": "stream",
     "text": [
      "05-25 18:41:42 [660] Lr: 0.000018, Training: 100.00%,  Loss: 0.00036, Acc: 99.99%, Recall: 99.99%, F1: 99.98%0%\r"
     ]
    },
    {
     "name": "stdout",
     "output_type": "stream",
     "text": [
      "\n"
     ]
    },
    {
     "name": "stderr",
     "output_type": "stream",
     "text": [
      "100%|███████████████████████████████████████████████████████████████████████████████████████████████████████████| 5100/5100 [01:42<00:00, 49.85it/s]\n"
     ]
    },
    {
     "name": "stdout",
     "output_type": "stream",
     "text": [
      "2024-05-25 18:43:25 660 epoch, Acc 99.99%, Recall 99.99%, F1 99.98%, Val_acc 98.82%, Best_acc 99.31%, Val_recall 99.54%, Best_recall 99.79%, Val_f1  98.76%, Best_f1 99.27%\n",
      "661\n"
     ]
    },
    {
     "name": "stderr",
     "output_type": "stream",
     "text": [
      "05-25 18:44:39 [661] Lr: 0.000018, Training: 100.00%,  Loss: 0.00077, Acc: 99.98%, Recall: 99.97%, F1: 99.98%%\r"
     ]
    },
    {
     "name": "stdout",
     "output_type": "stream",
     "text": [
      "\n",
      "662\n"
     ]
    },
    {
     "name": "stderr",
     "output_type": "stream",
     "text": [
      "05-25 18:45:53 [662] Lr: 0.000018, Training: 100.00%,  Loss: 0.00043, Acc: 99.98%, Recall: 99.99%, F1: 99.98%\r"
     ]
    },
    {
     "name": "stdout",
     "output_type": "stream",
     "text": [
      "\n",
      "663\n"
     ]
    },
    {
     "name": "stderr",
     "output_type": "stream",
     "text": [
      "05-25 18:47:06 [663] Lr: 0.000018, Training: 100.00%,  Loss: 0.00062, Acc: 99.98%, Recall: 99.96%, F1: 99.98%0%\r"
     ]
    },
    {
     "name": "stdout",
     "output_type": "stream",
     "text": [
      "\n",
      "664\n"
     ]
    },
    {
     "name": "stderr",
     "output_type": "stream",
     "text": [
      "05-25 18:48:20 [664] Lr: 0.000018, Training: 100.00%,  Loss: 0.00079, Acc: 99.97%, Recall: 99.96%, F1: 99.97%%\r"
     ]
    },
    {
     "name": "stdout",
     "output_type": "stream",
     "text": [
      "\n",
      "665\n"
     ]
    },
    {
     "name": "stderr",
     "output_type": "stream",
     "text": [
      "05-25 18:49:34 [665] Lr: 0.000018, Training: 100.00%,  Loss: 0.00072, Acc: 99.97%, Recall: 99.98%, F1: 99.96%0%\r"
     ]
    },
    {
     "name": "stdout",
     "output_type": "stream",
     "text": [
      "\n"
     ]
    },
    {
     "name": "stderr",
     "output_type": "stream",
     "text": [
      "100%|███████████████████████████████████████████████████████████████████████████████████████████████████████████| 5100/5100 [01:40<00:00, 50.80it/s]\n"
     ]
    },
    {
     "name": "stdout",
     "output_type": "stream",
     "text": [
      "2024-05-25 18:51:15 665 epoch, Acc 99.97%, Recall 99.98%, F1 99.96%, Val_acc 99.16%, Best_acc 99.31%, Val_recall 99.50%, Best_recall 99.79%, Val_f1  99.11%, Best_f1 99.27%\n",
      "666\n"
     ]
    },
    {
     "name": "stderr",
     "output_type": "stream",
     "text": [
      "05-25 18:52:29 [666] Lr: 0.000017, Training: 100.00%,  Loss: 0.00050, Acc: 99.98%, Recall: 99.98%, F1: 99.98%%\r"
     ]
    },
    {
     "name": "stdout",
     "output_type": "stream",
     "text": [
      "\n",
      "667\n"
     ]
    },
    {
     "name": "stderr",
     "output_type": "stream",
     "text": [
      "05-25 18:53:42 [667] Lr: 0.000017, Training: 100.00%,  Loss: 0.00027, Acc: 99.99%, Recall: 99.99%, F1: 99.99%0%\r"
     ]
    },
    {
     "name": "stdout",
     "output_type": "stream",
     "text": [
      "\n",
      "668\n"
     ]
    },
    {
     "name": "stderr",
     "output_type": "stream",
     "text": [
      "05-25 18:54:56 [668] Lr: 0.000017, Training: 100.00%,  Loss: 0.00061, Acc: 99.98%, Recall: 99.97%, F1: 99.97%0%\r"
     ]
    },
    {
     "name": "stdout",
     "output_type": "stream",
     "text": [
      "\n",
      "669\n"
     ]
    },
    {
     "name": "stderr",
     "output_type": "stream",
     "text": [
      "05-25 18:56:10 [669] Lr: 0.000017, Training: 100.00%,  Loss: 0.00061, Acc: 99.97%, Recall: 99.97%, F1: 99.96%0%\r"
     ]
    },
    {
     "name": "stdout",
     "output_type": "stream",
     "text": [
      "\n",
      "670\n"
     ]
    },
    {
     "name": "stderr",
     "output_type": "stream",
     "text": [
      "05-25 18:57:24 [670] Lr: 0.000017, Training: 100.00%,  Loss: 0.00057, Acc: 99.97%, Recall: 99.94%, F1: 99.97%0%\r"
     ]
    },
    {
     "name": "stdout",
     "output_type": "stream",
     "text": [
      "\n"
     ]
    },
    {
     "name": "stderr",
     "output_type": "stream",
     "text": [
      "100%|███████████████████████████████████████████████████████████████████████████████████████████████████████████| 5100/5100 [01:48<00:00, 47.01it/s]\n"
     ]
    },
    {
     "name": "stdout",
     "output_type": "stream",
     "text": [
      "2024-05-25 18:59:13 670 epoch, Acc 99.97%, Recall 99.94%, F1 99.97%, Val_acc 98.80%, Best_acc 99.31%, Val_recall 99.50%, Best_recall 99.79%, Val_f1  98.74%, Best_f1 99.27%\n",
      "671\n"
     ]
    },
    {
     "name": "stderr",
     "output_type": "stream",
     "text": [
      "05-25 19:00:29 [671] Lr: 0.000017, Training: 100.00%,  Loss: 0.00099, Acc: 99.99%, Recall: 100.00%, F1: 99.99%%\r"
     ]
    },
    {
     "name": "stdout",
     "output_type": "stream",
     "text": [
      "\n",
      "672\n"
     ]
    },
    {
     "name": "stderr",
     "output_type": "stream",
     "text": [
      "05-25 19:01:45 [672] Lr: 0.000017, Training: 100.00%,  Loss: 0.00055, Acc: 99.99%, Recall: 99.98%, F1: 99.99%%\r"
     ]
    },
    {
     "name": "stdout",
     "output_type": "stream",
     "text": [
      "\n",
      "673\n"
     ]
    },
    {
     "name": "stderr",
     "output_type": "stream",
     "text": [
      "05-25 19:03:00 [673] Lr: 0.000017, Training: 100.00%,  Loss: 0.00032, Acc: 99.99%, Recall: 99.97%, F1: 99.98%0%\r"
     ]
    },
    {
     "name": "stdout",
     "output_type": "stream",
     "text": [
      "\n",
      "674\n"
     ]
    },
    {
     "name": "stderr",
     "output_type": "stream",
     "text": [
      "05-25 19:04:15 [674] Lr: 0.000017, Training: 100.00%,  Loss: 0.00051, Acc: 99.99%, Recall: 99.99%, F1: 99.98%0%\r"
     ]
    },
    {
     "name": "stdout",
     "output_type": "stream",
     "text": [
      "\n",
      "675\n"
     ]
    },
    {
     "name": "stderr",
     "output_type": "stream",
     "text": [
      "05-25 19:05:30 [675] Lr: 0.000017, Training: 100.00%,  Loss: 0.00046, Acc: 99.99%, Recall: 99.98%, F1: 99.99%0%\r"
     ]
    },
    {
     "name": "stdout",
     "output_type": "stream",
     "text": [
      "\n"
     ]
    },
    {
     "name": "stderr",
     "output_type": "stream",
     "text": [
      "100%|███████████████████████████████████████████████████████████████████████████████████████████████████████████| 5100/5100 [01:50<00:00, 46.13it/s]\n"
     ]
    },
    {
     "name": "stdout",
     "output_type": "stream",
     "text": [
      "2024-05-25 19:07:21 675 epoch, Acc 99.99%, Recall 99.98%, F1 99.99%, Val_acc 99.20%, Best_acc 99.31%, Val_recall 99.50%, Best_recall 99.79%, Val_f1  99.15%, Best_f1 99.27%\n",
      "676\n"
     ]
    },
    {
     "name": "stderr",
     "output_type": "stream",
     "text": [
      "05-25 19:08:36 [676] Lr: 0.000016, Training: 100.00%,  Loss: 0.00103, Acc: 99.97%, Recall: 99.98%, F1: 99.96%0%\r"
     ]
    },
    {
     "name": "stdout",
     "output_type": "stream",
     "text": [
      "\n",
      "677\n"
     ]
    },
    {
     "name": "stderr",
     "output_type": "stream",
     "text": [
      "05-25 19:09:51 [677] Lr: 0.000016, Training: 100.00%,  Loss: 0.00110, Acc: 99.97%, Recall: 99.96%, F1: 99.97%0%\r"
     ]
    },
    {
     "name": "stdout",
     "output_type": "stream",
     "text": [
      "\n",
      "678\n"
     ]
    },
    {
     "name": "stderr",
     "output_type": "stream",
     "text": [
      "05-25 19:11:07 [678] Lr: 0.000016, Training: 100.00%,  Loss: 0.00027, Acc: 99.99%, Recall: 99.99%, F1: 99.99%0%\r"
     ]
    },
    {
     "name": "stdout",
     "output_type": "stream",
     "text": [
      "\n",
      "679\n"
     ]
    },
    {
     "name": "stderr",
     "output_type": "stream",
     "text": [
      "05-25 19:12:22 [679] Lr: 0.000016, Training: 100.00%,  Loss: 0.00041, Acc: 99.99%, Recall: 99.99%, F1: 99.99%%\r"
     ]
    },
    {
     "name": "stdout",
     "output_type": "stream",
     "text": [
      "\n",
      "680\n"
     ]
    },
    {
     "name": "stderr",
     "output_type": "stream",
     "text": [
      "05-25 19:13:37 [680] Lr: 0.000016, Training: 100.00%,  Loss: 0.00021, Acc: 99.99%, Recall: 99.98%, F1: 99.99%0%\r"
     ]
    },
    {
     "name": "stdout",
     "output_type": "stream",
     "text": [
      "\n"
     ]
    },
    {
     "name": "stderr",
     "output_type": "stream",
     "text": [
      "100%|███████████████████████████████████████████████████████████████████████████████████████████████████████████| 5100/5100 [01:48<00:00, 47.05it/s]\n"
     ]
    },
    {
     "name": "stdout",
     "output_type": "stream",
     "text": [
      "2024-05-25 19:15:26 680 epoch, Acc 99.99%, Recall 99.98%, F1 99.99%, Val_acc 99.24%, Best_acc 99.31%, Val_recall 99.54%, Best_recall 99.79%, Val_f1  99.19%, Best_f1 99.27%\n",
      "681\n"
     ]
    },
    {
     "name": "stderr",
     "output_type": "stream",
     "text": [
      "05-25 19:16:41 [681] Lr: 0.000016, Training: 100.00%,  Loss: 0.00076, Acc: 99.98%, Recall: 99.99%, F1: 99.98%0%\r"
     ]
    },
    {
     "name": "stdout",
     "output_type": "stream",
     "text": [
      "\n",
      "682\n"
     ]
    },
    {
     "name": "stderr",
     "output_type": "stream",
     "text": [
      "05-25 19:17:56 [682] Lr: 0.000016, Training: 100.00%,  Loss: 0.00066, Acc: 99.97%, Recall: 99.97%, F1: 99.96%0%\r"
     ]
    },
    {
     "name": "stdout",
     "output_type": "stream",
     "text": [
      "\n",
      "683\n"
     ]
    },
    {
     "name": "stderr",
     "output_type": "stream",
     "text": [
      "05-25 19:19:11 [683] Lr: 0.000016, Training: 100.00%,  Loss: 0.00077, Acc: 99.98%, Recall: 99.96%, F1: 99.97%%\r"
     ]
    },
    {
     "name": "stdout",
     "output_type": "stream",
     "text": [
      "\n",
      "684\n"
     ]
    },
    {
     "name": "stderr",
     "output_type": "stream",
     "text": [
      "05-25 19:20:27 [684] Lr: 0.000016, Training: 100.00%,  Loss: 0.00066, Acc: 99.97%, Recall: 99.98%, F1: 99.97%0%\r"
     ]
    },
    {
     "name": "stdout",
     "output_type": "stream",
     "text": [
      "\n",
      "685\n"
     ]
    },
    {
     "name": "stderr",
     "output_type": "stream",
     "text": [
      "05-25 19:21:41 [685] Lr: 0.000016, Training: 100.00%,  Loss: 0.00047, Acc: 99.98%, Recall: 99.98%, F1: 99.98%%\r"
     ]
    },
    {
     "name": "stdout",
     "output_type": "stream",
     "text": [
      "\n"
     ]
    },
    {
     "name": "stderr",
     "output_type": "stream",
     "text": [
      "100%|███████████████████████████████████████████████████████████████████████████████████████████████████████████| 5100/5100 [01:41<00:00, 50.29it/s]\n"
     ]
    },
    {
     "name": "stdout",
     "output_type": "stream",
     "text": [
      "2024-05-25 19:23:23 685 epoch, Acc 99.98%, Recall 99.98%, F1 99.98%, Val_acc 99.24%, Best_acc 99.31%, Val_recall 99.50%, Best_recall 99.79%, Val_f1  99.19%, Best_f1 99.27%\n",
      "686\n"
     ]
    },
    {
     "name": "stderr",
     "output_type": "stream",
     "text": [
      "05-25 19:24:37 [686] Lr: 0.000015, Training: 100.00%,  Loss: 0.00051, Acc: 99.98%, Recall: 99.97%, F1: 99.97%0%\r"
     ]
    },
    {
     "name": "stdout",
     "output_type": "stream",
     "text": [
      "\n",
      "687\n"
     ]
    },
    {
     "name": "stderr",
     "output_type": "stream",
     "text": [
      "05-25 19:25:51 [687] Lr: 0.000015, Training: 100.00%,  Loss: 0.00017, Acc: 100.00%, Recall: 99.99%, F1: 99.99%%\r"
     ]
    },
    {
     "name": "stdout",
     "output_type": "stream",
     "text": [
      "\n",
      "688\n"
     ]
    },
    {
     "name": "stderr",
     "output_type": "stream",
     "text": [
      "05-25 19:27:05 [688] Lr: 0.000015, Training: 100.00%,  Loss: 0.00084, Acc: 99.97%, Recall: 99.95%, F1: 99.97%0%\r"
     ]
    },
    {
     "name": "stdout",
     "output_type": "stream",
     "text": [
      "\n",
      "689\n"
     ]
    },
    {
     "name": "stderr",
     "output_type": "stream",
     "text": [
      "05-25 19:28:19 [689] Lr: 0.000015, Training: 100.00%,  Loss: 0.00063, Acc: 99.98%, Recall: 99.98%, F1: 99.97%%\r"
     ]
    },
    {
     "name": "stdout",
     "output_type": "stream",
     "text": [
      "\n",
      "690\n"
     ]
    },
    {
     "name": "stderr",
     "output_type": "stream",
     "text": [
      "05-25 19:29:32 [690] Lr: 0.000015, Training: 100.00%,  Loss: 0.00022, Acc: 100.00%, Recall: 100.00%, F1: 100.00%\r"
     ]
    },
    {
     "name": "stdout",
     "output_type": "stream",
     "text": [
      "\n"
     ]
    },
    {
     "name": "stderr",
     "output_type": "stream",
     "text": [
      "100%|███████████████████████████████████████████████████████████████████████████████████████████████████████████| 5100/5100 [01:40<00:00, 50.72it/s]\n"
     ]
    },
    {
     "name": "stdout",
     "output_type": "stream",
     "text": [
      "2024-05-25 19:31:14 690 epoch, Acc 100.00%, Recall 100.00%, F1 100.00%, Val_acc 99.20%, Best_acc 99.31%, Val_recall 99.42%, Best_recall 99.79%, Val_f1  99.15%, Best_f1 99.27%\n",
      "691\n"
     ]
    },
    {
     "name": "stderr",
     "output_type": "stream",
     "text": [
      "05-25 19:32:30 [691] Lr: 0.000015, Training: 100.00%,  Loss: 0.00049, Acc: 99.99%, Recall: 99.99%, F1: 99.99%%\r"
     ]
    },
    {
     "name": "stdout",
     "output_type": "stream",
     "text": [
      "\n",
      "692\n"
     ]
    },
    {
     "name": "stderr",
     "output_type": "stream",
     "text": [
      "05-25 19:33:44 [692] Lr: 0.000015, Training: 100.00%,  Loss: 0.00079, Acc: 99.98%, Recall: 99.96%, F1: 99.97%0%\r"
     ]
    },
    {
     "name": "stdout",
     "output_type": "stream",
     "text": [
      "\n",
      "693\n"
     ]
    },
    {
     "name": "stderr",
     "output_type": "stream",
     "text": [
      "05-25 19:34:57 [693] Lr: 0.000015, Training: 100.00%,  Loss: 0.00016, Acc: 100.00%, Recall: 100.00%, F1: 99.99%\r"
     ]
    },
    {
     "name": "stdout",
     "output_type": "stream",
     "text": [
      "\n",
      "694\n"
     ]
    },
    {
     "name": "stderr",
     "output_type": "stream",
     "text": [
      "05-25 19:36:11 [694] Lr: 0.000015, Training: 100.00%,  Loss: 0.00047, Acc: 99.99%, Recall: 100.00%, F1: 99.99%%\r"
     ]
    },
    {
     "name": "stdout",
     "output_type": "stream",
     "text": [
      "\n",
      "695\n"
     ]
    },
    {
     "name": "stderr",
     "output_type": "stream",
     "text": [
      "05-25 19:37:25 [695] Lr: 0.000015, Training: 100.00%,  Loss: 0.00071, Acc: 99.99%, Recall: 100.00%, F1: 99.98%%\r"
     ]
    },
    {
     "name": "stdout",
     "output_type": "stream",
     "text": [
      "\n"
     ]
    },
    {
     "name": "stderr",
     "output_type": "stream",
     "text": [
      "100%|███████████████████████████████████████████████████████████████████████████████████████████████████████████| 5100/5100 [01:39<00:00, 51.25it/s]\n"
     ]
    },
    {
     "name": "stdout",
     "output_type": "stream",
     "text": [
      "2024-05-25 19:39:05 695 epoch, Acc 99.99%, Recall 100.00%, F1 99.98%, Val_acc 99.25%, Best_acc 99.31%, Val_recall 99.33%, Best_recall 99.79%, Val_f1  99.21%, Best_f1 99.27%\n",
      "696\n"
     ]
    },
    {
     "name": "stderr",
     "output_type": "stream",
     "text": [
      "05-25 19:40:20 [696] Lr: 0.000014, Training: 100.00%,  Loss: 0.00026, Acc: 99.99%, Recall: 99.99%, F1: 99.99%0%\r"
     ]
    },
    {
     "name": "stdout",
     "output_type": "stream",
     "text": [
      "\n",
      "697\n"
     ]
    },
    {
     "name": "stderr",
     "output_type": "stream",
     "text": [
      "05-25 19:41:35 [697] Lr: 0.000014, Training: 100.00%,  Loss: 0.00041, Acc: 99.99%, Recall: 99.99%, F1: 99.99%0%\r"
     ]
    },
    {
     "name": "stdout",
     "output_type": "stream",
     "text": [
      "\n",
      "698\n"
     ]
    },
    {
     "name": "stderr",
     "output_type": "stream",
     "text": [
      "05-25 19:42:52 [698] Lr: 0.000014, Training: 100.00%,  Loss: 0.00062, Acc: 99.98%, Recall: 99.97%, F1: 99.98%0%\r"
     ]
    },
    {
     "name": "stdout",
     "output_type": "stream",
     "text": [
      "\n",
      "699\n"
     ]
    },
    {
     "name": "stderr",
     "output_type": "stream",
     "text": [
      "05-25 19:44:08 [699] Lr: 0.000014, Training: 100.00%,  Loss: 0.00053, Acc: 99.99%, Recall: 99.98%, F1: 99.98%0%\r"
     ]
    },
    {
     "name": "stdout",
     "output_type": "stream",
     "text": [
      "\n",
      "700\n"
     ]
    },
    {
     "name": "stderr",
     "output_type": "stream",
     "text": [
      "05-25 19:45:25 [700] Lr: 0.000014, Training: 100.00%,  Loss: 0.00031, Acc: 99.98%, Recall: 99.98%, F1: 99.98%0%\r"
     ]
    },
    {
     "name": "stdout",
     "output_type": "stream",
     "text": [
      "\n"
     ]
    },
    {
     "name": "stderr",
     "output_type": "stream",
     "text": [
      "100%|███████████████████████████████████████████████████████████████████████████████████████████████████████████| 5100/5100 [01:54<00:00, 44.43it/s]\n"
     ]
    },
    {
     "name": "stdout",
     "output_type": "stream",
     "text": [
      "2024-05-25 19:47:21 700 epoch, Acc 99.98%, Recall 99.98%, F1 99.98%, Val_acc 99.27%, Best_acc 99.31%, Val_recall 99.50%, Best_recall 99.79%, Val_f1  99.23%, Best_f1 99.27%\n",
      "701\n"
     ]
    },
    {
     "name": "stderr",
     "output_type": "stream",
     "text": [
      "05-25 19:48:36 [701] Lr: 0.000014, Training: 100.00%,  Loss: 0.00033, Acc: 100.00%, Recall: 99.99%, F1: 99.99%%\r"
     ]
    },
    {
     "name": "stdout",
     "output_type": "stream",
     "text": [
      "\n",
      "702\n"
     ]
    },
    {
     "name": "stderr",
     "output_type": "stream",
     "text": [
      "05-25 19:49:51 [702] Lr: 0.000014, Training: 100.00%,  Loss: 0.00035, Acc: 99.99%, Recall: 99.99%, F1: 99.99%0%\r"
     ]
    },
    {
     "name": "stdout",
     "output_type": "stream",
     "text": [
      "\n",
      "703\n"
     ]
    },
    {
     "name": "stderr",
     "output_type": "stream",
     "text": [
      "05-25 19:51:07 [703] Lr: 0.000014, Training: 100.00%,  Loss: 0.00060, Acc: 99.98%, Recall: 99.97%, F1: 99.98%0%\r"
     ]
    },
    {
     "name": "stdout",
     "output_type": "stream",
     "text": [
      "\n",
      "704\n"
     ]
    },
    {
     "name": "stderr",
     "output_type": "stream",
     "text": [
      "05-25 19:52:22 [704] Lr: 0.000014, Training: 100.00%,  Loss: 0.00020, Acc: 100.00%, Recall: 100.00%, F1: 99.99%\r"
     ]
    },
    {
     "name": "stdout",
     "output_type": "stream",
     "text": [
      "\n",
      "705\n"
     ]
    },
    {
     "name": "stderr",
     "output_type": "stream",
     "text": [
      "05-25 19:53:37 [705] Lr: 0.000014, Training: 100.00%,  Loss: 0.00018, Acc: 100.00%, Recall: 99.99%, F1: 100.00%\r"
     ]
    },
    {
     "name": "stdout",
     "output_type": "stream",
     "text": [
      "\n"
     ]
    },
    {
     "name": "stderr",
     "output_type": "stream",
     "text": [
      "100%|███████████████████████████████████████████████████████████████████████████████████████████████████████████| 5100/5100 [01:45<00:00, 48.17it/s]\n"
     ]
    },
    {
     "name": "stdout",
     "output_type": "stream",
     "text": [
      "2024-05-25 19:55:24 705 epoch, Acc 100.00%, Recall 99.99%, F1 100.00%, Val_acc 99.20%, Best_acc 99.31%, Val_recall 99.50%, Best_recall 99.79%, Val_f1  99.15%, Best_f1 99.27%\n",
      "706\n"
     ]
    },
    {
     "name": "stderr",
     "output_type": "stream",
     "text": [
      "05-25 19:56:38 [706] Lr: 0.000014, Training: 100.00%,  Loss: 0.00015, Acc: 99.99%, Recall: 99.98%, F1: 99.99%0%\r"
     ]
    },
    {
     "name": "stdout",
     "output_type": "stream",
     "text": [
      "\n",
      "707\n"
     ]
    },
    {
     "name": "stderr",
     "output_type": "stream",
     "text": [
      "05-25 19:57:52 [707] Lr: 0.000014, Training: 100.00%,  Loss: 0.00017, Acc: 100.00%, Recall: 100.00%, F1: 99.99%\r"
     ]
    },
    {
     "name": "stdout",
     "output_type": "stream",
     "text": [
      "\n",
      "708\n"
     ]
    },
    {
     "name": "stderr",
     "output_type": "stream",
     "text": [
      "05-25 19:59:05 [708] Lr: 0.000014, Training: 100.00%,  Loss: 0.00020, Acc: 99.99%, Recall: 99.99%, F1: 99.99%%\r"
     ]
    },
    {
     "name": "stdout",
     "output_type": "stream",
     "text": [
      "\n",
      "709\n"
     ]
    },
    {
     "name": "stderr",
     "output_type": "stream",
     "text": [
      "05-25 20:00:20 [709] Lr: 0.000014, Training: 100.00%,  Loss: 0.00033, Acc: 99.99%, Recall: 99.97%, F1: 99.98%0%\r"
     ]
    },
    {
     "name": "stdout",
     "output_type": "stream",
     "text": [
      "\n",
      "710\n"
     ]
    },
    {
     "name": "stderr",
     "output_type": "stream",
     "text": [
      "05-25 20:01:35 [710] Lr: 0.000014, Training: 100.00%,  Loss: 0.00073, Acc: 99.99%, Recall: 99.99%, F1: 99.98%0%\r"
     ]
    },
    {
     "name": "stdout",
     "output_type": "stream",
     "text": [
      "\n"
     ]
    },
    {
     "name": "stderr",
     "output_type": "stream",
     "text": [
      "100%|███████████████████████████████████████████████████████████████████████████████████████████████████████████| 5100/5100 [01:49<00:00, 46.67it/s]\n"
     ]
    },
    {
     "name": "stdout",
     "output_type": "stream",
     "text": [
      "2024-05-25 20:03:25 710 epoch, Acc 99.99%, Recall 99.99%, F1 99.98%, Val_acc 99.18%, Best_acc 99.31%, Val_recall 99.42%, Best_recall 99.79%, Val_f1  99.13%, Best_f1 99.27%\n",
      "711\n"
     ]
    },
    {
     "name": "stderr",
     "output_type": "stream",
     "text": [
      "05-25 20:04:40 [711] Lr: 0.000013, Training: 100.00%,  Loss: 0.00045, Acc: 99.99%, Recall: 99.99%, F1: 99.99%0%\r"
     ]
    },
    {
     "name": "stdout",
     "output_type": "stream",
     "text": [
      "\n",
      "712\n"
     ]
    },
    {
     "name": "stderr",
     "output_type": "stream",
     "text": [
      "05-25 20:05:54 [712] Lr: 0.000013, Training: 100.00%,  Loss: 0.00046, Acc: 99.99%, Recall: 99.99%, F1: 99.98%0%\r"
     ]
    },
    {
     "name": "stdout",
     "output_type": "stream",
     "text": [
      "\n",
      "713\n"
     ]
    },
    {
     "name": "stderr",
     "output_type": "stream",
     "text": [
      "05-25 20:07:09 [713] Lr: 0.000013, Training: 100.00%,  Loss: 0.00073, Acc: 99.99%, Recall: 99.99%, F1: 99.99%0%\r"
     ]
    },
    {
     "name": "stdout",
     "output_type": "stream",
     "text": [
      "\n",
      "714\n"
     ]
    },
    {
     "name": "stderr",
     "output_type": "stream",
     "text": [
      "05-25 20:08:25 [714] Lr: 0.000013, Training: 100.00%,  Loss: 0.00027, Acc: 99.99%, Recall: 99.99%, F1: 99.99%0%\r"
     ]
    },
    {
     "name": "stdout",
     "output_type": "stream",
     "text": [
      "\n",
      "715\n"
     ]
    },
    {
     "name": "stderr",
     "output_type": "stream",
     "text": [
      "05-25 20:09:40 [715] Lr: 0.000013, Training: 100.00%,  Loss: 0.00034, Acc: 99.99%, Recall: 100.00%, F1: 99.98%\r"
     ]
    },
    {
     "name": "stdout",
     "output_type": "stream",
     "text": [
      "\n"
     ]
    },
    {
     "name": "stderr",
     "output_type": "stream",
     "text": [
      "100%|███████████████████████████████████████████████████████████████████████████████████████████████████████████| 5100/5100 [01:50<00:00, 46.33it/s]\n"
     ]
    },
    {
     "name": "stdout",
     "output_type": "stream",
     "text": [
      "2024-05-25 20:11:31 715 epoch, Acc 99.99%, Recall 100.00%, F1 99.98%, Val_acc 99.14%, Best_acc 99.31%, Val_recall 99.33%, Best_recall 99.79%, Val_f1  99.08%, Best_f1 99.27%\n",
      "716\n"
     ]
    },
    {
     "name": "stderr",
     "output_type": "stream",
     "text": [
      "05-25 20:12:46 [716] Lr: 0.000013, Training: 100.00%,  Loss: 0.00053, Acc: 99.99%, Recall: 99.98%, F1: 99.98%0%\r"
     ]
    },
    {
     "name": "stdout",
     "output_type": "stream",
     "text": [
      "\n",
      "717\n"
     ]
    },
    {
     "name": "stderr",
     "output_type": "stream",
     "text": [
      "05-25 20:14:01 [717] Lr: 0.000013, Training: 100.00%,  Loss: 0.00022, Acc: 99.99%, Recall: 99.99%, F1: 99.98%0%\r"
     ]
    },
    {
     "name": "stdout",
     "output_type": "stream",
     "text": [
      "\n",
      "718\n"
     ]
    },
    {
     "name": "stderr",
     "output_type": "stream",
     "text": [
      "05-25 20:15:16 [718] Lr: 0.000013, Training: 100.00%,  Loss: 0.00046, Acc: 99.98%, Recall: 99.98%, F1: 99.97%0%\r"
     ]
    },
    {
     "name": "stdout",
     "output_type": "stream",
     "text": [
      "\n",
      "719\n"
     ]
    },
    {
     "name": "stderr",
     "output_type": "stream",
     "text": [
      "05-25 20:16:31 [719] Lr: 0.000013, Training: 100.00%,  Loss: 0.00070, Acc: 99.99%, Recall: 100.00%, F1: 99.99%\r"
     ]
    },
    {
     "name": "stdout",
     "output_type": "stream",
     "text": [
      "\n",
      "720\n"
     ]
    },
    {
     "name": "stderr",
     "output_type": "stream",
     "text": [
      "05-25 20:17:46 [720] Lr: 0.000013, Training: 100.00%,  Loss: 0.00107, Acc: 99.98%, Recall: 99.97%, F1: 99.97%0%\r"
     ]
    },
    {
     "name": "stdout",
     "output_type": "stream",
     "text": [
      "\n"
     ]
    },
    {
     "name": "stderr",
     "output_type": "stream",
     "text": [
      "100%|███████████████████████████████████████████████████████████████████████████████████████████████████████████| 5100/5100 [01:51<00:00, 45.86it/s]\n"
     ]
    },
    {
     "name": "stdout",
     "output_type": "stream",
     "text": [
      "2024-05-25 20:19:38 720 epoch, Acc 99.98%, Recall 99.97%, F1 99.97%, Val_acc 99.14%, Best_acc 99.31%, Val_recall 99.37%, Best_recall 99.79%, Val_f1  99.09%, Best_f1 99.27%\n",
      "721\n"
     ]
    },
    {
     "name": "stderr",
     "output_type": "stream",
     "text": [
      "05-25 20:20:54 [721] Lr: 0.000012, Training: 100.00%,  Loss: 0.00009, Acc: 100.00%, Recall: 100.00%, F1: 100.00%\r"
     ]
    },
    {
     "name": "stdout",
     "output_type": "stream",
     "text": [
      "\n",
      "722\n"
     ]
    },
    {
     "name": "stderr",
     "output_type": "stream",
     "text": [
      "05-25 20:22:10 [722] Lr: 0.000012, Training: 100.00%,  Loss: 0.00052, Acc: 99.98%, Recall: 99.97%, F1: 99.97%%\r"
     ]
    },
    {
     "name": "stdout",
     "output_type": "stream",
     "text": [
      "\n",
      "723\n"
     ]
    },
    {
     "name": "stderr",
     "output_type": "stream",
     "text": [
      "05-25 20:23:25 [723] Lr: 0.000012, Training: 100.00%,  Loss: 0.00011, Acc: 100.00%, Recall: 100.00%, F1: 99.99%\r"
     ]
    },
    {
     "name": "stdout",
     "output_type": "stream",
     "text": [
      "\n",
      "724\n"
     ]
    },
    {
     "name": "stderr",
     "output_type": "stream",
     "text": [
      "05-25 20:24:40 [724] Lr: 0.000012, Training: 100.00%,  Loss: 0.00073, Acc: 99.98%, Recall: 99.97%, F1: 99.98%0%\r"
     ]
    },
    {
     "name": "stdout",
     "output_type": "stream",
     "text": [
      "\n",
      "725\n"
     ]
    },
    {
     "name": "stderr",
     "output_type": "stream",
     "text": [
      "05-25 20:25:55 [725] Lr: 0.000012, Training: 100.00%,  Loss: 0.00021, Acc: 100.00%, Recall: 99.99%, F1: 100.00%\r"
     ]
    },
    {
     "name": "stdout",
     "output_type": "stream",
     "text": [
      "\n"
     ]
    },
    {
     "name": "stderr",
     "output_type": "stream",
     "text": [
      "100%|███████████████████████████████████████████████████████████████████████████████████████████████████████████| 5100/5100 [01:46<00:00, 48.08it/s]\n"
     ]
    },
    {
     "name": "stdout",
     "output_type": "stream",
     "text": [
      "2024-05-25 20:27:41 725 epoch, Acc 100.00%, Recall 99.99%, F1 100.00%, Val_acc 98.90%, Best_acc 99.31%, Val_recall 99.50%, Best_recall 99.79%, Val_f1  98.84%, Best_f1 99.27%\n",
      "726\n"
     ]
    },
    {
     "name": "stderr",
     "output_type": "stream",
     "text": [
      "05-25 20:28:56 [726] Lr: 0.000012, Training: 100.00%,  Loss: 0.00016, Acc: 100.00%, Recall: 100.00%, F1: 99.99%\r"
     ]
    },
    {
     "name": "stdout",
     "output_type": "stream",
     "text": [
      "\n",
      "727\n"
     ]
    },
    {
     "name": "stderr",
     "output_type": "stream",
     "text": [
      "05-25 20:30:12 [727] Lr: 0.000012, Training: 100.00%,  Loss: 0.00053, Acc: 99.99%, Recall: 100.00%, F1: 99.99%%\r"
     ]
    },
    {
     "name": "stdout",
     "output_type": "stream",
     "text": [
      "\n",
      "728\n"
     ]
    },
    {
     "name": "stderr",
     "output_type": "stream",
     "text": [
      "05-25 20:31:27 [728] Lr: 0.000012, Training: 100.00%,  Loss: 0.00099, Acc: 99.98%, Recall: 99.96%, F1: 99.97%0%\r"
     ]
    },
    {
     "name": "stdout",
     "output_type": "stream",
     "text": [
      "\n",
      "729\n"
     ]
    },
    {
     "name": "stderr",
     "output_type": "stream",
     "text": [
      "05-25 20:32:43 [729] Lr: 0.000012, Training: 100.00%,  Loss: 0.00101, Acc: 99.98%, Recall: 99.98%, F1: 99.98%0%\r"
     ]
    },
    {
     "name": "stdout",
     "output_type": "stream",
     "text": [
      "\n",
      "730\n"
     ]
    },
    {
     "name": "stderr",
     "output_type": "stream",
     "text": [
      "05-25 20:33:58 [730] Lr: 0.000012, Training: 100.00%,  Loss: 0.00051, Acc: 99.98%, Recall: 99.98%, F1: 99.98%%\r"
     ]
    },
    {
     "name": "stdout",
     "output_type": "stream",
     "text": [
      "\n"
     ]
    },
    {
     "name": "stderr",
     "output_type": "stream",
     "text": [
      "100%|███████████████████████████████████████████████████████████████████████████████████████████████████████████| 5100/5100 [01:45<00:00, 48.20it/s]\n"
     ]
    },
    {
     "name": "stdout",
     "output_type": "stream",
     "text": [
      "2024-05-25 20:35:45 730 epoch, Acc 99.98%, Recall 99.98%, F1 99.98%, Val_acc 98.82%, Best_acc 99.31%, Val_recall 99.62%, Best_recall 99.79%, Val_f1  98.76%, Best_f1 99.27%\n",
      "731\n"
     ]
    },
    {
     "name": "stderr",
     "output_type": "stream",
     "text": [
      "05-25 20:37:00 [731] Lr: 0.000012, Training: 100.00%,  Loss: 0.00014, Acc: 100.00%, Recall: 99.99%, F1: 99.99%\r"
     ]
    },
    {
     "name": "stdout",
     "output_type": "stream",
     "text": [
      "\n",
      "732\n"
     ]
    },
    {
     "name": "stderr",
     "output_type": "stream",
     "text": [
      "05-25 20:38:19 [732] Lr: 0.000012, Training: 100.00%,  Loss: 0.00057, Acc: 99.99%, Recall: 99.98%, F1: 99.99%0%\r"
     ]
    },
    {
     "name": "stdout",
     "output_type": "stream",
     "text": [
      "\n",
      "733\n"
     ]
    },
    {
     "name": "stderr",
     "output_type": "stream",
     "text": [
      "05-25 20:39:36 [733] Lr: 0.000012, Training: 100.00%,  Loss: 0.00030, Acc: 99.99%, Recall: 99.99%, F1: 99.98%0%\r"
     ]
    },
    {
     "name": "stdout",
     "output_type": "stream",
     "text": [
      "\n",
      "734\n"
     ]
    },
    {
     "name": "stderr",
     "output_type": "stream",
     "text": [
      "05-25 20:40:52 [734] Lr: 0.000012, Training: 100.00%,  Loss: 0.00030, Acc: 99.99%, Recall: 99.99%, F1: 99.99%0%\r"
     ]
    },
    {
     "name": "stdout",
     "output_type": "stream",
     "text": [
      "\n",
      "735\n"
     ]
    },
    {
     "name": "stderr",
     "output_type": "stream",
     "text": [
      "05-25 20:42:09 [735] Lr: 0.000012, Training: 100.00%,  Loss: 0.00019, Acc: 100.00%, Recall: 100.00%, F1: 100.00%\r"
     ]
    },
    {
     "name": "stdout",
     "output_type": "stream",
     "text": [
      "\n"
     ]
    },
    {
     "name": "stderr",
     "output_type": "stream",
     "text": [
      "100%|███████████████████████████████████████████████████████████████████████████████████████████████████████████| 5100/5100 [01:58<00:00, 43.06it/s]\n"
     ]
    },
    {
     "name": "stdout",
     "output_type": "stream",
     "text": [
      "2024-05-25 20:44:08 735 epoch, Acc 100.00%, Recall 100.00%, F1 100.00%, Val_acc 99.12%, Best_acc 99.31%, Val_recall 99.54%, Best_recall 99.79%, Val_f1  99.07%, Best_f1 99.27%\n",
      "736\n"
     ]
    },
    {
     "name": "stderr",
     "output_type": "stream",
     "text": [
      "05-25 20:45:27 [736] Lr: 0.000011, Training: 100.00%,  Loss: 0.00039, Acc: 99.99%, Recall: 99.98%, F1: 99.99%0%\r"
     ]
    },
    {
     "name": "stdout",
     "output_type": "stream",
     "text": [
      "\n",
      "737\n"
     ]
    },
    {
     "name": "stderr",
     "output_type": "stream",
     "text": [
      "05-25 20:46:47 [737] Lr: 0.000011, Training: 100.00%,  Loss: 0.00037, Acc: 99.99%, Recall: 99.99%, F1: 99.99%0%\r"
     ]
    },
    {
     "name": "stdout",
     "output_type": "stream",
     "text": [
      "\n",
      "738\n"
     ]
    },
    {
     "name": "stderr",
     "output_type": "stream",
     "text": [
      "05-25 20:48:05 [738] Lr: 0.000011, Training: 100.00%,  Loss: 0.00048, Acc: 99.99%, Recall: 100.00%, F1: 99.99%%\r"
     ]
    },
    {
     "name": "stdout",
     "output_type": "stream",
     "text": [
      "\n",
      "739\n"
     ]
    },
    {
     "name": "stderr",
     "output_type": "stream",
     "text": [
      "05-25 20:49:25 [739] Lr: 0.000011, Training: 100.00%,  Loss: 0.00012, Acc: 100.00%, Recall: 99.99%, F1: 100.00%\r"
     ]
    },
    {
     "name": "stdout",
     "output_type": "stream",
     "text": [
      "\n",
      "740\n"
     ]
    },
    {
     "name": "stderr",
     "output_type": "stream",
     "text": [
      "05-25 20:50:43 [740] Lr: 0.000011, Training: 100.00%,  Loss: 0.00045, Acc: 99.99%, Recall: 99.99%, F1: 99.98%0%\r"
     ]
    },
    {
     "name": "stdout",
     "output_type": "stream",
     "text": [
      "\n"
     ]
    },
    {
     "name": "stderr",
     "output_type": "stream",
     "text": [
      "100%|███████████████████████████████████████████████████████████████████████████████████████████████████████████| 5100/5100 [02:01<00:00, 42.10it/s]\n"
     ]
    },
    {
     "name": "stdout",
     "output_type": "stream",
     "text": [
      "2024-05-25 20:52:45 740 epoch, Acc 99.99%, Recall 99.99%, F1 99.98%, Val_acc 98.88%, Best_acc 99.31%, Val_recall 99.50%, Best_recall 99.79%, Val_f1  98.82%, Best_f1 99.27%\n",
      "741\n"
     ]
    },
    {
     "name": "stderr",
     "output_type": "stream",
     "text": [
      "05-25 20:54:05 [741] Lr: 0.000011, Training: 100.00%,  Loss: 0.00037, Acc: 99.99%, Recall: 99.98%, F1: 99.99%%%\r"
     ]
    },
    {
     "name": "stdout",
     "output_type": "stream",
     "text": [
      "\n",
      "742\n"
     ]
    },
    {
     "name": "stderr",
     "output_type": "stream",
     "text": [
      "05-25 20:55:24 [742] Lr: 0.000011, Training: 100.00%,  Loss: 0.00044, Acc: 99.98%, Recall: 99.99%, F1: 99.98%%\r"
     ]
    },
    {
     "name": "stdout",
     "output_type": "stream",
     "text": [
      "\n",
      "743\n"
     ]
    },
    {
     "name": "stderr",
     "output_type": "stream",
     "text": [
      "05-25 20:56:44 [743] Lr: 0.000011, Training: 100.00%,  Loss: 0.00054, Acc: 99.99%, Recall: 99.99%, F1: 99.98%0%\r"
     ]
    },
    {
     "name": "stdout",
     "output_type": "stream",
     "text": [
      "\n",
      "744\n"
     ]
    },
    {
     "name": "stderr",
     "output_type": "stream",
     "text": [
      "05-25 20:58:04 [744] Lr: 0.000011, Training: 100.00%,  Loss: 0.00035, Acc: 99.99%, Recall: 99.99%, F1: 99.98%0%\r"
     ]
    },
    {
     "name": "stdout",
     "output_type": "stream",
     "text": [
      "\n",
      "745\n"
     ]
    },
    {
     "name": "stderr",
     "output_type": "stream",
     "text": [
      "05-25 20:59:23 [745] Lr: 0.000011, Training: 100.00%,  Loss: 0.00123, Acc: 99.97%, Recall: 99.95%, F1: 99.97%0%\r"
     ]
    },
    {
     "name": "stdout",
     "output_type": "stream",
     "text": [
      "\n"
     ]
    },
    {
     "name": "stderr",
     "output_type": "stream",
     "text": [
      "100%|███████████████████████████████████████████████████████████████████████████████████████████████████████████| 5100/5100 [01:58<00:00, 43.16it/s]\n"
     ]
    },
    {
     "name": "stdout",
     "output_type": "stream",
     "text": [
      "2024-05-25 21:01:22 745 epoch, Acc 99.97%, Recall 99.95%, F1 99.97%, Val_acc 99.33%, Best_acc 99.33%, Val_recall 99.58%, Best_recall 99.79%, Val_f1  99.29%, Best_f1 99.29%\n",
      "746\n"
     ]
    },
    {
     "name": "stderr",
     "output_type": "stream",
     "text": [
      "05-25 21:02:42 [746] Lr: 0.000011, Training: 100.00%,  Loss: 0.00036, Acc: 99.99%, Recall: 99.99%, F1: 99.98%0%\r"
     ]
    },
    {
     "name": "stdout",
     "output_type": "stream",
     "text": [
      "\n",
      "747\n"
     ]
    },
    {
     "name": "stderr",
     "output_type": "stream",
     "text": [
      "05-25 21:04:02 [747] Lr: 0.000011, Training: 100.00%,  Loss: 0.00057, Acc: 99.98%, Recall: 99.99%, F1: 99.98%0%\r"
     ]
    },
    {
     "name": "stdout",
     "output_type": "stream",
     "text": [
      "\n",
      "748\n"
     ]
    },
    {
     "name": "stderr",
     "output_type": "stream",
     "text": [
      "05-25 21:05:21 [748] Lr: 0.000011, Training: 100.00%,  Loss: 0.00082, Acc: 99.98%, Recall: 99.96%, F1: 99.98%%\r"
     ]
    },
    {
     "name": "stdout",
     "output_type": "stream",
     "text": [
      "\n",
      "749\n"
     ]
    },
    {
     "name": "stderr",
     "output_type": "stream",
     "text": [
      "05-25 21:06:39 [749] Lr: 0.000011, Training: 100.00%,  Loss: 0.00041, Acc: 99.99%, Recall: 99.98%, F1: 99.99%0%\r"
     ]
    },
    {
     "name": "stdout",
     "output_type": "stream",
     "text": [
      "\n",
      "750\n"
     ]
    },
    {
     "name": "stderr",
     "output_type": "stream",
     "text": [
      "05-25 21:07:57 [750] Lr: 0.000011, Training: 100.00%,  Loss: 0.00070, Acc: 99.99%, Recall: 99.99%, F1: 99.98%0%\r"
     ]
    },
    {
     "name": "stdout",
     "output_type": "stream",
     "text": [
      "\n"
     ]
    },
    {
     "name": "stderr",
     "output_type": "stream",
     "text": [
      "100%|███████████████████████████████████████████████████████████████████████████████████████████████████████████| 5100/5100 [01:46<00:00, 48.10it/s]\n"
     ]
    },
    {
     "name": "stdout",
     "output_type": "stream",
     "text": [
      "2024-05-25 21:09:44 750 epoch, Acc 99.99%, Recall 99.99%, F1 99.98%, Val_acc 98.88%, Best_acc 99.33%, Val_recall 99.58%, Best_recall 99.79%, Val_f1  98.82%, Best_f1 99.29%\n",
      "751\n"
     ]
    },
    {
     "name": "stderr",
     "output_type": "stream",
     "text": [
      "05-25 21:11:03 [751] Lr: 0.000010, Training: 100.00%,  Loss: 0.00067, Acc: 99.98%, Recall: 99.99%, F1: 99.98%0%\r"
     ]
    },
    {
     "name": "stdout",
     "output_type": "stream",
     "text": [
      "\n",
      "752\n"
     ]
    },
    {
     "name": "stderr",
     "output_type": "stream",
     "text": [
      "05-25 21:12:22 [752] Lr: 0.000010, Training: 100.00%,  Loss: 0.00024, Acc: 99.99%, Recall: 99.98%, F1: 99.99%0%\r"
     ]
    },
    {
     "name": "stdout",
     "output_type": "stream",
     "text": [
      "\n",
      "753\n"
     ]
    },
    {
     "name": "stderr",
     "output_type": "stream",
     "text": [
      "05-25 21:13:37 [753] Lr: 0.000010, Training: 100.00%,  Loss: 0.00039, Acc: 99.99%, Recall: 99.99%, F1: 99.98%0%\r"
     ]
    },
    {
     "name": "stdout",
     "output_type": "stream",
     "text": [
      "\n",
      "754\n"
     ]
    },
    {
     "name": "stderr",
     "output_type": "stream",
     "text": [
      "05-25 21:14:53 [754] Lr: 0.000010, Training: 100.00%,  Loss: 0.00028, Acc: 99.99%, Recall: 100.00%, F1: 99.99%\r"
     ]
    },
    {
     "name": "stdout",
     "output_type": "stream",
     "text": [
      "\n",
      "755\n"
     ]
    },
    {
     "name": "stderr",
     "output_type": "stream",
     "text": [
      "05-25 21:16:09 [755] Lr: 0.000010, Training: 100.00%,  Loss: 0.00009, Acc: 100.00%, Recall: 100.00%, F1: 100.00%\r"
     ]
    },
    {
     "name": "stdout",
     "output_type": "stream",
     "text": [
      "\n"
     ]
    },
    {
     "name": "stderr",
     "output_type": "stream",
     "text": [
      "100%|███████████████████████████████████████████████████████████████████████████████████████████████████████████| 5100/5100 [01:40<00:00, 50.70it/s]\n"
     ]
    },
    {
     "name": "stdout",
     "output_type": "stream",
     "text": [
      "2024-05-25 21:17:50 755 epoch, Acc 100.00%, Recall 100.00%, F1 100.00%, Val_acc 99.25%, Best_acc 99.33%, Val_recall 99.50%, Best_recall 99.79%, Val_f1  99.21%, Best_f1 99.29%\n",
      "756\n"
     ]
    },
    {
     "name": "stderr",
     "output_type": "stream",
     "text": [
      "05-25 21:19:04 [756] Lr: 0.000010, Training: 100.00%,  Loss: 0.00014, Acc: 100.00%, Recall: 100.00%, F1: 100.00%\r"
     ]
    },
    {
     "name": "stdout",
     "output_type": "stream",
     "text": [
      "\n",
      "757\n"
     ]
    },
    {
     "name": "stderr",
     "output_type": "stream",
     "text": [
      "05-25 21:20:18 [757] Lr: 0.000010, Training: 100.00%,  Loss: 0.00073, Acc: 99.98%, Recall: 99.96%, F1: 99.98%0%\r"
     ]
    },
    {
     "name": "stdout",
     "output_type": "stream",
     "text": [
      "\n",
      "758\n"
     ]
    },
    {
     "name": "stderr",
     "output_type": "stream",
     "text": [
      "05-25 21:21:32 [758] Lr: 0.000010, Training: 100.00%,  Loss: 0.00029, Acc: 99.98%, Recall: 99.97%, F1: 99.98%\r"
     ]
    },
    {
     "name": "stdout",
     "output_type": "stream",
     "text": [
      "\n",
      "759\n"
     ]
    },
    {
     "name": "stderr",
     "output_type": "stream",
     "text": [
      "05-25 21:22:45 [759] Lr: 0.000010, Training: 100.00%,  Loss: 0.00046, Acc: 99.98%, Recall: 99.99%, F1: 99.97%0%\r"
     ]
    },
    {
     "name": "stdout",
     "output_type": "stream",
     "text": [
      "\n",
      "760\n"
     ]
    },
    {
     "name": "stderr",
     "output_type": "stream",
     "text": [
      "05-25 21:23:58 [760] Lr: 0.000010, Training: 100.00%,  Loss: 0.00079, Acc: 99.98%, Recall: 99.98%, F1: 99.98%%\r"
     ]
    },
    {
     "name": "stdout",
     "output_type": "stream",
     "text": [
      "\n"
     ]
    },
    {
     "name": "stderr",
     "output_type": "stream",
     "text": [
      "100%|███████████████████████████████████████████████████████████████████████████████████████████████████████████| 5100/5100 [01:45<00:00, 48.33it/s]\n"
     ]
    },
    {
     "name": "stdout",
     "output_type": "stream",
     "text": [
      "2024-05-25 21:25:44 760 epoch, Acc 99.98%, Recall 99.98%, F1 99.98%, Val_acc 98.92%, Best_acc 99.33%, Val_recall 99.54%, Best_recall 99.79%, Val_f1  98.86%, Best_f1 99.29%\n",
      "761\n"
     ]
    },
    {
     "name": "stderr",
     "output_type": "stream",
     "text": [
      "05-25 21:26:57 [761] Lr: 0.000010, Training: 100.00%,  Loss: 0.00049, Acc: 99.98%, Recall: 99.98%, F1: 99.98%%\r"
     ]
    },
    {
     "name": "stdout",
     "output_type": "stream",
     "text": [
      "\n",
      "762\n"
     ]
    },
    {
     "name": "stderr",
     "output_type": "stream",
     "text": [
      "05-25 21:28:11 [762] Lr: 0.000010, Training: 100.00%,  Loss: 0.00059, Acc: 99.99%, Recall: 99.98%, F1: 99.98%0%\r"
     ]
    },
    {
     "name": "stdout",
     "output_type": "stream",
     "text": [
      "\n",
      "763\n"
     ]
    },
    {
     "name": "stderr",
     "output_type": "stream",
     "text": [
      "05-25 21:29:24 [763] Lr: 0.000010, Training: 100.00%,  Loss: 0.00017, Acc: 100.00%, Recall: 100.00%, F1: 99.99%\r"
     ]
    },
    {
     "name": "stdout",
     "output_type": "stream",
     "text": [
      "\n",
      "764\n"
     ]
    },
    {
     "name": "stderr",
     "output_type": "stream",
     "text": [
      "05-25 21:30:37 [764] Lr: 0.000010, Training: 100.00%,  Loss: 0.00036, Acc: 99.99%, Recall: 99.98%, F1: 99.98%0%\r"
     ]
    },
    {
     "name": "stdout",
     "output_type": "stream",
     "text": [
      "\n",
      "765\n"
     ]
    },
    {
     "name": "stderr",
     "output_type": "stream",
     "text": [
      "05-25 21:31:52 [765] Lr: 0.000010, Training: 100.00%,  Loss: 0.00028, Acc: 100.00%, Recall: 99.99%, F1: 100.00%\r"
     ]
    },
    {
     "name": "stdout",
     "output_type": "stream",
     "text": [
      "\n"
     ]
    },
    {
     "name": "stderr",
     "output_type": "stream",
     "text": [
      "100%|███████████████████████████████████████████████████████████████████████████████████████████████████████████| 5100/5100 [01:45<00:00, 48.20it/s]\n"
     ]
    },
    {
     "name": "stdout",
     "output_type": "stream",
     "text": [
      "2024-05-25 21:33:38 765 epoch, Acc 100.00%, Recall 99.99%, F1 100.00%, Val_acc 99.08%, Best_acc 99.33%, Val_recall 99.58%, Best_recall 99.79%, Val_f1  99.03%, Best_f1 99.29%\n",
      "766\n"
     ]
    },
    {
     "name": "stderr",
     "output_type": "stream",
     "text": [
      "05-25 21:34:55 [766] Lr: 0.000009, Training: 100.00%,  Loss: 0.00060, Acc: 99.99%, Recall: 99.98%, F1: 99.99%0%\r"
     ]
    },
    {
     "name": "stdout",
     "output_type": "stream",
     "text": [
      "\n",
      "767\n"
     ]
    },
    {
     "name": "stderr",
     "output_type": "stream",
     "text": [
      "05-25 21:36:08 [767] Lr: 0.000009, Training: 100.00%,  Loss: 0.00111, Acc: 99.97%, Recall: 99.97%, F1: 99.96%%\r"
     ]
    },
    {
     "name": "stdout",
     "output_type": "stream",
     "text": [
      "\n",
      "768\n"
     ]
    },
    {
     "name": "stderr",
     "output_type": "stream",
     "text": [
      "05-25 21:37:28 [768] Lr: 0.000009, Training: 100.00%,  Loss: 0.00025, Acc: 100.00%, Recall: 99.99%, F1: 99.99%%\r"
     ]
    },
    {
     "name": "stdout",
     "output_type": "stream",
     "text": [
      "\n",
      "769\n"
     ]
    },
    {
     "name": "stderr",
     "output_type": "stream",
     "text": [
      "05-25 21:38:50 [769] Lr: 0.000009, Training: 100.00%,  Loss: 0.00130, Acc: 99.98%, Recall: 100.00%, F1: 99.98%\r"
     ]
    },
    {
     "name": "stdout",
     "output_type": "stream",
     "text": [
      "\n",
      "770\n"
     ]
    },
    {
     "name": "stderr",
     "output_type": "stream",
     "text": [
      "05-25 21:40:06 [770] Lr: 0.000009, Training: 100.00%,  Loss: 0.00060, Acc: 99.98%, Recall: 99.96%, F1: 99.97%0%\r"
     ]
    },
    {
     "name": "stdout",
     "output_type": "stream",
     "text": [
      "\n"
     ]
    },
    {
     "name": "stderr",
     "output_type": "stream",
     "text": [
      "100%|███████████████████████████████████████████████████████████████████████████████████████████████████████████| 5100/5100 [02:01<00:00, 41.81it/s]\n"
     ]
    },
    {
     "name": "stdout",
     "output_type": "stream",
     "text": [
      "2024-05-25 21:42:09 770 epoch, Acc 99.98%, Recall 99.96%, F1 99.97%, Val_acc 99.00%, Best_acc 99.33%, Val_recall 99.46%, Best_recall 99.79%, Val_f1  98.94%, Best_f1 99.29%\n",
      "771\n"
     ]
    },
    {
     "name": "stderr",
     "output_type": "stream",
     "text": [
      "05-25 21:43:25 [771] Lr: 0.000009, Training: 100.00%,  Loss: 0.00072, Acc: 99.98%, Recall: 99.98%, F1: 99.98%\r"
     ]
    },
    {
     "name": "stdout",
     "output_type": "stream",
     "text": [
      "\n",
      "772\n"
     ]
    },
    {
     "name": "stderr",
     "output_type": "stream",
     "text": [
      "05-25 21:44:41 [772] Lr: 0.000009, Training: 100.00%,  Loss: 0.00010, Acc: 100.00%, Recall: 100.00%, F1: 100.00%\r"
     ]
    },
    {
     "name": "stdout",
     "output_type": "stream",
     "text": [
      "\n",
      "773\n"
     ]
    },
    {
     "name": "stderr",
     "output_type": "stream",
     "text": [
      "05-25 21:45:57 [773] Lr: 0.000009, Training: 100.00%,  Loss: 0.00023, Acc: 100.00%, Recall: 100.00%, F1: 100.00%\r"
     ]
    },
    {
     "name": "stdout",
     "output_type": "stream",
     "text": [
      "\n",
      "774\n"
     ]
    },
    {
     "name": "stderr",
     "output_type": "stream",
     "text": [
      "05-25 21:47:12 [774] Lr: 0.000009, Training: 100.00%,  Loss: 0.00026, Acc: 99.99%, Recall: 99.98%, F1: 99.98%%\r"
     ]
    },
    {
     "name": "stdout",
     "output_type": "stream",
     "text": [
      "\n",
      "775\n"
     ]
    },
    {
     "name": "stderr",
     "output_type": "stream",
     "text": [
      "05-25 21:48:27 [775] Lr: 0.000009, Training: 100.00%,  Loss: 0.00045, Acc: 99.98%, Recall: 99.98%, F1: 99.98%0%\r"
     ]
    },
    {
     "name": "stdout",
     "output_type": "stream",
     "text": [
      "\n"
     ]
    },
    {
     "name": "stderr",
     "output_type": "stream",
     "text": [
      "100%|███████████████████████████████████████████████████████████████████████████████████████████████████████████| 5100/5100 [02:00<00:00, 42.33it/s]\n"
     ]
    },
    {
     "name": "stdout",
     "output_type": "stream",
     "text": [
      "2024-05-25 21:50:28 775 epoch, Acc 99.98%, Recall 99.98%, F1 99.98%, Val_acc 99.14%, Best_acc 99.33%, Val_recall 99.46%, Best_recall 99.79%, Val_f1  99.09%, Best_f1 99.29%\n",
      "776\n"
     ]
    },
    {
     "name": "stderr",
     "output_type": "stream",
     "text": [
      "05-25 21:51:44 [776] Lr: 0.000009, Training: 100.00%,  Loss: 0.00039, Acc: 99.99%, Recall: 99.98%, F1: 99.98%0%\r"
     ]
    },
    {
     "name": "stdout",
     "output_type": "stream",
     "text": [
      "\n",
      "777\n"
     ]
    },
    {
     "name": "stderr",
     "output_type": "stream",
     "text": [
      "05-25 21:53:02 [777] Lr: 0.000009, Training: 100.00%,  Loss: 0.00021, Acc: 100.00%, Recall: 100.00%, F1: 100.00%\r"
     ]
    },
    {
     "name": "stdout",
     "output_type": "stream",
     "text": [
      "\n",
      "778\n"
     ]
    },
    {
     "name": "stderr",
     "output_type": "stream",
     "text": [
      "05-25 21:54:19 [778] Lr: 0.000009, Training: 100.00%,  Loss: 0.00016, Acc: 99.99%, Recall: 99.99%, F1: 99.99%0%\r"
     ]
    },
    {
     "name": "stdout",
     "output_type": "stream",
     "text": [
      "\n",
      "779\n"
     ]
    },
    {
     "name": "stderr",
     "output_type": "stream",
     "text": [
      "05-25 21:55:36 [779] Lr: 0.000009, Training: 100.00%,  Loss: 0.00031, Acc: 99.99%, Recall: 99.98%, F1: 99.98%0%\r"
     ]
    },
    {
     "name": "stdout",
     "output_type": "stream",
     "text": [
      "\n",
      "780\n"
     ]
    },
    {
     "name": "stderr",
     "output_type": "stream",
     "text": [
      "05-25 21:56:53 [780] Lr: 0.000009, Training: 100.00%,  Loss: 0.00096, Acc: 99.98%, Recall: 99.98%, F1: 99.98%%\r"
     ]
    },
    {
     "name": "stdout",
     "output_type": "stream",
     "text": [
      "\n"
     ]
    },
    {
     "name": "stderr",
     "output_type": "stream",
     "text": [
      "100%|███████████████████████████████████████████████████████████████████████████████████████████████████████████| 5100/5100 [02:00<00:00, 42.41it/s]\n"
     ]
    },
    {
     "name": "stdout",
     "output_type": "stream",
     "text": [
      "2024-05-25 21:58:54 780 epoch, Acc 99.98%, Recall 99.98%, F1 99.98%, Val_acc 99.29%, Best_acc 99.33%, Val_recall 99.54%, Best_recall 99.79%, Val_f1  99.25%, Best_f1 99.29%\n",
      "781\n"
     ]
    },
    {
     "name": "stderr",
     "output_type": "stream",
     "text": [
      "05-25 22:00:10 [781] Lr: 0.000009, Training: 100.00%,  Loss: 0.00049, Acc: 99.99%, Recall: 99.97%, F1: 99.98%0%\r"
     ]
    },
    {
     "name": "stdout",
     "output_type": "stream",
     "text": [
      "\n",
      "782\n"
     ]
    },
    {
     "name": "stderr",
     "output_type": "stream",
     "text": [
      "05-25 22:01:27 [782] Lr: 0.000009, Training: 100.00%,  Loss: 0.00128, Acc: 99.97%, Recall: 99.97%, F1: 99.96%%\r"
     ]
    },
    {
     "name": "stdout",
     "output_type": "stream",
     "text": [
      "\n",
      "783\n"
     ]
    },
    {
     "name": "stderr",
     "output_type": "stream",
     "text": [
      "05-25 22:02:43 [783] Lr: 0.000009, Training: 100.00%,  Loss: 0.00020, Acc: 99.99%, Recall: 99.98%, F1: 99.99%0%\r"
     ]
    },
    {
     "name": "stdout",
     "output_type": "stream",
     "text": [
      "\n",
      "784\n"
     ]
    },
    {
     "name": "stderr",
     "output_type": "stream",
     "text": [
      "05-25 22:03:59 [784] Lr: 0.000009, Training: 100.00%,  Loss: 0.00039, Acc: 99.98%, Recall: 99.97%, F1: 99.97%0%\r"
     ]
    },
    {
     "name": "stdout",
     "output_type": "stream",
     "text": [
      "\n",
      "785\n"
     ]
    },
    {
     "name": "stderr",
     "output_type": "stream",
     "text": [
      "05-25 22:05:15 [785] Lr: 0.000009, Training: 100.00%,  Loss: 0.00030, Acc: 99.99%, Recall: 99.99%, F1: 99.99%0%\r"
     ]
    },
    {
     "name": "stdout",
     "output_type": "stream",
     "text": [
      "\n"
     ]
    },
    {
     "name": "stderr",
     "output_type": "stream",
     "text": [
      "100%|███████████████████████████████████████████████████████████████████████████████████████████████████████████| 5100/5100 [01:55<00:00, 44.23it/s]\n"
     ]
    },
    {
     "name": "stdout",
     "output_type": "stream",
     "text": [
      "2024-05-25 22:07:11 785 epoch, Acc 99.99%, Recall 99.99%, F1 99.99%, Val_acc 99.14%, Best_acc 99.33%, Val_recall 99.50%, Best_recall 99.79%, Val_f1  99.09%, Best_f1 99.29%\n",
      "786\n"
     ]
    },
    {
     "name": "stderr",
     "output_type": "stream",
     "text": [
      "05-25 22:08:26 [786] Lr: 0.000008, Training: 100.00%,  Loss: 0.00049, Acc: 99.99%, Recall: 99.99%, F1: 99.99%0%\r"
     ]
    },
    {
     "name": "stdout",
     "output_type": "stream",
     "text": [
      "\n",
      "787\n"
     ]
    },
    {
     "name": "stderr",
     "output_type": "stream",
     "text": [
      "05-25 22:09:41 [787] Lr: 0.000008, Training: 100.00%,  Loss: 0.00044, Acc: 99.99%, Recall: 99.99%, F1: 99.99%0%\r"
     ]
    },
    {
     "name": "stdout",
     "output_type": "stream",
     "text": [
      "\n",
      "788\n"
     ]
    },
    {
     "name": "stderr",
     "output_type": "stream",
     "text": [
      "05-25 22:10:56 [788] Lr: 0.000008, Training: 100.00%,  Loss: 0.00076, Acc: 99.97%, Recall: 99.95%, F1: 99.97%0%\r"
     ]
    },
    {
     "name": "stdout",
     "output_type": "stream",
     "text": [
      "\n",
      "789\n"
     ]
    },
    {
     "name": "stderr",
     "output_type": "stream",
     "text": [
      "05-25 22:12:10 [789] Lr: 0.000008, Training: 100.00%,  Loss: 0.00080, Acc: 99.97%, Recall: 99.98%, F1: 99.97%%\r"
     ]
    },
    {
     "name": "stdout",
     "output_type": "stream",
     "text": [
      "\n",
      "790\n"
     ]
    },
    {
     "name": "stderr",
     "output_type": "stream",
     "text": [
      "05-25 22:13:25 [790] Lr: 0.000008, Training: 100.00%,  Loss: 0.00073, Acc: 99.98%, Recall: 99.98%, F1: 99.97%0%\r"
     ]
    },
    {
     "name": "stdout",
     "output_type": "stream",
     "text": [
      "\n"
     ]
    },
    {
     "name": "stderr",
     "output_type": "stream",
     "text": [
      "100%|███████████████████████████████████████████████████████████████████████████████████████████████████████████| 5100/5100 [01:49<00:00, 46.73it/s]\n"
     ]
    },
    {
     "name": "stdout",
     "output_type": "stream",
     "text": [
      "2024-05-25 22:15:15 790 epoch, Acc 99.98%, Recall 99.98%, F1 99.97%, Val_acc 98.88%, Best_acc 99.33%, Val_recall 99.50%, Best_recall 99.79%, Val_f1  98.82%, Best_f1 99.29%\n",
      "791\n"
     ]
    },
    {
     "name": "stderr",
     "output_type": "stream",
     "text": [
      "05-25 22:16:30 [791] Lr: 0.000008, Training: 100.00%,  Loss: 0.00105, Acc: 99.97%, Recall: 99.96%, F1: 99.97%0%\r"
     ]
    },
    {
     "name": "stdout",
     "output_type": "stream",
     "text": [
      "\n",
      "792\n"
     ]
    },
    {
     "name": "stderr",
     "output_type": "stream",
     "text": [
      "05-25 22:17:46 [792] Lr: 0.000008, Training: 100.00%,  Loss: 0.00058, Acc: 99.99%, Recall: 99.99%, F1: 99.98%%\r"
     ]
    },
    {
     "name": "stdout",
     "output_type": "stream",
     "text": [
      "\n",
      "793\n"
     ]
    },
    {
     "name": "stderr",
     "output_type": "stream",
     "text": [
      "05-25 22:19:02 [793] Lr: 0.000008, Training: 100.00%,  Loss: 0.00047, Acc: 99.99%, Recall: 99.97%, F1: 99.99%%\r"
     ]
    },
    {
     "name": "stdout",
     "output_type": "stream",
     "text": [
      "\n",
      "794\n"
     ]
    },
    {
     "name": "stderr",
     "output_type": "stream",
     "text": [
      "05-25 22:20:17 [794] Lr: 0.000008, Training: 100.00%,  Loss: 0.00018, Acc: 100.00%, Recall: 100.00%, F1: 99.99%\r"
     ]
    },
    {
     "name": "stdout",
     "output_type": "stream",
     "text": [
      "\n",
      "795\n"
     ]
    },
    {
     "name": "stderr",
     "output_type": "stream",
     "text": [
      "05-25 22:21:33 [795] Lr: 0.000008, Training: 100.00%,  Loss: 0.00065, Acc: 99.99%, Recall: 100.00%, F1: 99.99%%\r"
     ]
    },
    {
     "name": "stdout",
     "output_type": "stream",
     "text": [
      "\n"
     ]
    },
    {
     "name": "stderr",
     "output_type": "stream",
     "text": [
      "100%|███████████████████████████████████████████████████████████████████████████████████████████████████████████| 5100/5100 [01:48<00:00, 46.88it/s]\n"
     ]
    },
    {
     "name": "stdout",
     "output_type": "stream",
     "text": [
      "2024-05-25 22:23:23 795 epoch, Acc 99.99%, Recall 100.00%, F1 99.99%, Val_acc 99.22%, Best_acc 99.33%, Val_recall 99.42%, Best_recall 99.79%, Val_f1  99.17%, Best_f1 99.29%\n",
      "796\n"
     ]
    },
    {
     "name": "stderr",
     "output_type": "stream",
     "text": [
      "05-25 22:24:36 [796] Lr: 0.000008, Training: 100.00%,  Loss: 0.00090, Acc: 99.97%, Recall: 99.97%, F1: 99.96%%\r"
     ]
    },
    {
     "name": "stdout",
     "output_type": "stream",
     "text": [
      "\n",
      "797\n"
     ]
    },
    {
     "name": "stderr",
     "output_type": "stream",
     "text": [
      "05-25 22:25:48 [797] Lr: 0.000008, Training: 100.00%,  Loss: 0.00012, Acc: 100.00%, Recall: 99.99%, F1: 100.00%\r"
     ]
    },
    {
     "name": "stdout",
     "output_type": "stream",
     "text": [
      "\n",
      "798\n"
     ]
    },
    {
     "name": "stderr",
     "output_type": "stream",
     "text": [
      "05-25 22:27:04 [798] Lr: 0.000008, Training: 100.00%,  Loss: 0.00050, Acc: 99.98%, Recall: 99.98%, F1: 99.98%%\r"
     ]
    },
    {
     "name": "stdout",
     "output_type": "stream",
     "text": [
      "\n",
      "799\n"
     ]
    },
    {
     "name": "stderr",
     "output_type": "stream",
     "text": [
      "05-25 22:28:20 [799] Lr: 0.000008, Training: 100.00%,  Loss: 0.00056, Acc: 99.97%, Recall: 99.97%, F1: 99.97%%\r"
     ]
    },
    {
     "name": "stdout",
     "output_type": "stream",
     "text": [
      "\n",
      "800\n"
     ]
    },
    {
     "name": "stderr",
     "output_type": "stream",
     "text": [
      "05-25 22:29:35 [800] Lr: 0.000008, Training: 100.00%,  Loss: 0.00023, Acc: 99.99%, Recall: 100.00%, F1: 99.99%%\r"
     ]
    },
    {
     "name": "stdout",
     "output_type": "stream",
     "text": [
      "\n"
     ]
    },
    {
     "name": "stderr",
     "output_type": "stream",
     "text": [
      "100%|███████████████████████████████████████████████████████████████████████████████████████████████████████████| 5100/5100 [01:58<00:00, 43.09it/s]\n"
     ]
    },
    {
     "name": "stdout",
     "output_type": "stream",
     "text": [
      "2024-05-25 22:31:34 800 epoch, Acc 99.99%, Recall 100.00%, F1 99.99%, Val_acc 99.31%, Best_acc 99.33%, Val_recall 99.54%, Best_recall 99.79%, Val_f1  99.27%, Best_f1 99.29%\n",
      "801\n"
     ]
    },
    {
     "name": "stderr",
     "output_type": "stream",
     "text": [
      "05-25 22:32:49 [801] Lr: 0.000008, Training: 100.00%,  Loss: 0.00045, Acc: 99.98%, Recall: 99.97%, F1: 99.97%0%\r"
     ]
    },
    {
     "name": "stdout",
     "output_type": "stream",
     "text": [
      "\n",
      "802\n"
     ]
    },
    {
     "name": "stderr",
     "output_type": "stream",
     "text": [
      "05-25 22:34:05 [802] Lr: 0.000008, Training: 100.00%,  Loss: 0.00019, Acc: 100.00%, Recall: 100.00%, F1: 99.99%\r"
     ]
    },
    {
     "name": "stdout",
     "output_type": "stream",
     "text": [
      "\n",
      "803\n"
     ]
    },
    {
     "name": "stderr",
     "output_type": "stream",
     "text": [
      "05-25 22:35:25 [803] Lr: 0.000008, Training: 100.00%,  Loss: 0.00069, Acc: 99.98%, Recall: 99.97%, F1: 99.98%%\r"
     ]
    },
    {
     "name": "stdout",
     "output_type": "stream",
     "text": [
      "\n",
      "804\n"
     ]
    },
    {
     "name": "stderr",
     "output_type": "stream",
     "text": [
      "05-25 22:36:42 [804] Lr: 0.000008, Training: 100.00%,  Loss: 0.00032, Acc: 99.99%, Recall: 99.98%, F1: 99.98%0%\r"
     ]
    },
    {
     "name": "stdout",
     "output_type": "stream",
     "text": [
      "\n",
      "805\n"
     ]
    },
    {
     "name": "stderr",
     "output_type": "stream",
     "text": [
      "05-25 22:37:57 [805] Lr: 0.000008, Training: 100.00%,  Loss: 0.00020, Acc: 100.00%, Recall: 99.99%, F1: 100.00%\r"
     ]
    },
    {
     "name": "stdout",
     "output_type": "stream",
     "text": [
      "\n"
     ]
    },
    {
     "name": "stderr",
     "output_type": "stream",
     "text": [
      "100%|███████████████████████████████████████████████████████████████████████████████████████████████████████████| 5100/5100 [01:58<00:00, 42.91it/s]\n"
     ]
    },
    {
     "name": "stdout",
     "output_type": "stream",
     "text": [
      "2024-05-25 22:39:57 805 epoch, Acc 100.00%, Recall 99.99%, F1 100.00%, Val_acc 99.22%, Best_acc 99.33%, Val_recall 99.50%, Best_recall 99.79%, Val_f1  99.17%, Best_f1 99.29%\n",
      "806\n"
     ]
    },
    {
     "name": "stderr",
     "output_type": "stream",
     "text": [
      "05-25 22:41:12 [806] Lr: 0.000007, Training: 100.00%,  Loss: 0.00061, Acc: 99.99%, Recall: 99.98%, F1: 99.98%0%\r"
     ]
    },
    {
     "name": "stdout",
     "output_type": "stream",
     "text": [
      "\n",
      "807\n"
     ]
    },
    {
     "name": "stderr",
     "output_type": "stream",
     "text": [
      "05-25 22:42:26 [807] Lr: 0.000007, Training: 100.00%,  Loss: 0.00048, Acc: 99.97%, Recall: 99.97%, F1: 99.97%0%\r"
     ]
    },
    {
     "name": "stdout",
     "output_type": "stream",
     "text": [
      "\n",
      "808\n"
     ]
    },
    {
     "name": "stderr",
     "output_type": "stream",
     "text": [
      "05-25 22:43:41 [808] Lr: 0.000007, Training: 100.00%,  Loss: 0.00042, Acc: 99.98%, Recall: 99.99%, F1: 99.98%0%\r"
     ]
    },
    {
     "name": "stdout",
     "output_type": "stream",
     "text": [
      "\n",
      "809\n"
     ]
    },
    {
     "name": "stderr",
     "output_type": "stream",
     "text": [
      "05-25 22:44:54 [809] Lr: 0.000007, Training: 100.00%,  Loss: 0.00046, Acc: 99.99%, Recall: 99.98%, F1: 99.99%%\r"
     ]
    },
    {
     "name": "stdout",
     "output_type": "stream",
     "text": [
      "\n",
      "810\n"
     ]
    },
    {
     "name": "stderr",
     "output_type": "stream",
     "text": [
      "05-25 22:46:08 [810] Lr: 0.000007, Training: 100.00%,  Loss: 0.00035, Acc: 99.99%, Recall: 99.97%, F1: 99.99%0%\r"
     ]
    },
    {
     "name": "stdout",
     "output_type": "stream",
     "text": [
      "\n"
     ]
    },
    {
     "name": "stderr",
     "output_type": "stream",
     "text": [
      "100%|███████████████████████████████████████████████████████████████████████████████████████████████████████████| 5100/5100 [01:59<00:00, 42.54it/s]\n"
     ]
    },
    {
     "name": "stdout",
     "output_type": "stream",
     "text": [
      "2024-05-25 22:48:08 810 epoch, Acc 99.99%, Recall 99.97%, F1 99.99%, Val_acc 99.27%, Best_acc 99.33%, Val_recall 99.62%, Best_recall 99.79%, Val_f1  99.23%, Best_f1 99.29%\n",
      "811\n"
     ]
    },
    {
     "name": "stderr",
     "output_type": "stream",
     "text": [
      "05-25 22:49:23 [811] Lr: 0.000007, Training: 100.00%,  Loss: 0.00006, Acc: 100.00%, Recall: 100.00%, F1: 100.00%\r"
     ]
    },
    {
     "name": "stdout",
     "output_type": "stream",
     "text": [
      "\n",
      "812\n"
     ]
    },
    {
     "name": "stderr",
     "output_type": "stream",
     "text": [
      "05-25 22:50:39 [812] Lr: 0.000007, Training: 100.00%,  Loss: 0.00011, Acc: 100.00%, Recall: 100.00%, F1: 100.00%\r"
     ]
    },
    {
     "name": "stdout",
     "output_type": "stream",
     "text": [
      "\n",
      "813\n"
     ]
    },
    {
     "name": "stderr",
     "output_type": "stream",
     "text": [
      "05-25 22:51:53 [813] Lr: 0.000007, Training: 100.00%,  Loss: 0.00029, Acc: 99.99%, Recall: 100.00%, F1: 99.99%%\r"
     ]
    },
    {
     "name": "stdout",
     "output_type": "stream",
     "text": [
      "\n",
      "814\n"
     ]
    },
    {
     "name": "stderr",
     "output_type": "stream",
     "text": [
      "05-25 22:53:08 [814] Lr: 0.000007, Training: 100.00%,  Loss: 0.00017, Acc: 100.00%, Recall: 99.99%, F1: 99.99%%\r"
     ]
    },
    {
     "name": "stdout",
     "output_type": "stream",
     "text": [
      "\n",
      "815\n"
     ]
    },
    {
     "name": "stderr",
     "output_type": "stream",
     "text": [
      "05-25 22:54:23 [815] Lr: 0.000007, Training: 100.00%,  Loss: 0.00021, Acc: 99.99%, Recall: 99.99%, F1: 99.99%0%\r"
     ]
    },
    {
     "name": "stdout",
     "output_type": "stream",
     "text": [
      "\n"
     ]
    },
    {
     "name": "stderr",
     "output_type": "stream",
     "text": [
      "100%|███████████████████████████████████████████████████████████████████████████████████████████████████████████| 5100/5100 [02:01<00:00, 42.09it/s]\n"
     ]
    },
    {
     "name": "stdout",
     "output_type": "stream",
     "text": [
      "2024-05-25 22:56:24 815 epoch, Acc 99.99%, Recall 99.99%, F1 99.99%, Val_acc 98.92%, Best_acc 99.33%, Val_recall 99.50%, Best_recall 99.79%, Val_f1  98.86%, Best_f1 99.29%\n",
      "816\n"
     ]
    },
    {
     "name": "stderr",
     "output_type": "stream",
     "text": [
      "05-25 22:57:40 [816] Lr: 0.000007, Training: 100.00%,  Loss: 0.00053, Acc: 99.99%, Recall: 99.99%, F1: 99.98%0%\r"
     ]
    },
    {
     "name": "stdout",
     "output_type": "stream",
     "text": [
      "\n",
      "817\n"
     ]
    },
    {
     "name": "stderr",
     "output_type": "stream",
     "text": [
      "05-25 22:58:55 [817] Lr: 0.000007, Training: 100.00%,  Loss: 0.00016, Acc: 99.99%, Recall: 99.99%, F1: 99.99%0%\r"
     ]
    },
    {
     "name": "stdout",
     "output_type": "stream",
     "text": [
      "\n",
      "818\n"
     ]
    },
    {
     "name": "stderr",
     "output_type": "stream",
     "text": [
      "05-25 23:00:11 [818] Lr: 0.000007, Training: 100.00%,  Loss: 0.00008, Acc: 100.00%, Recall: 100.00%, F1: 100.00%\r"
     ]
    },
    {
     "name": "stdout",
     "output_type": "stream",
     "text": [
      "\n",
      "819\n"
     ]
    },
    {
     "name": "stderr",
     "output_type": "stream",
     "text": [
      "05-25 23:01:26 [819] Lr: 0.000007, Training: 100.00%,  Loss: 0.00020, Acc: 100.00%, Recall: 99.99%, F1: 99.99%%\r"
     ]
    },
    {
     "name": "stdout",
     "output_type": "stream",
     "text": [
      "\n",
      "820\n"
     ]
    },
    {
     "name": "stderr",
     "output_type": "stream",
     "text": [
      "05-25 23:02:41 [820] Lr: 0.000007, Training: 100.00%,  Loss: 0.00038, Acc: 99.99%, Recall: 99.99%, F1: 99.98%0%\r"
     ]
    },
    {
     "name": "stdout",
     "output_type": "stream",
     "text": [
      "\n"
     ]
    },
    {
     "name": "stderr",
     "output_type": "stream",
     "text": [
      "100%|███████████████████████████████████████████████████████████████████████████████████████████████████████████| 5100/5100 [01:45<00:00, 48.14it/s]\n"
     ]
    },
    {
     "name": "stdout",
     "output_type": "stream",
     "text": [
      "2024-05-25 23:04:28 820 epoch, Acc 99.99%, Recall 99.99%, F1 99.98%, Val_acc 98.98%, Best_acc 99.33%, Val_recall 99.46%, Best_recall 99.79%, Val_f1  98.92%, Best_f1 99.29%\n",
      "821\n"
     ]
    },
    {
     "name": "stderr",
     "output_type": "stream",
     "text": [
      "05-25 23:05:43 [821] Lr: 0.000007, Training: 100.00%,  Loss: 0.00041, Acc: 99.99%, Recall: 99.98%, F1: 99.99%0%\r"
     ]
    },
    {
     "name": "stdout",
     "output_type": "stream",
     "text": [
      "\n",
      "822\n"
     ]
    },
    {
     "name": "stderr",
     "output_type": "stream",
     "text": [
      "05-25 23:06:58 [822] Lr: 0.000007, Training: 100.00%,  Loss: 0.00031, Acc: 99.99%, Recall: 99.99%, F1: 99.99%0%\r"
     ]
    },
    {
     "name": "stdout",
     "output_type": "stream",
     "text": [
      "\n",
      "823\n"
     ]
    },
    {
     "name": "stderr",
     "output_type": "stream",
     "text": [
      "05-25 23:08:12 [823] Lr: 0.000007, Training: 100.00%,  Loss: 0.00023, Acc: 99.99%, Recall: 99.98%, F1: 99.99%0%\r"
     ]
    },
    {
     "name": "stdout",
     "output_type": "stream",
     "text": [
      "\n",
      "824\n"
     ]
    },
    {
     "name": "stderr",
     "output_type": "stream",
     "text": [
      "05-25 23:09:26 [824] Lr: 0.000007, Training: 100.00%,  Loss: 0.00008, Acc: 100.00%, Recall: 100.00%, F1: 100.00%\r"
     ]
    },
    {
     "name": "stdout",
     "output_type": "stream",
     "text": [
      "\n",
      "825\n"
     ]
    },
    {
     "name": "stderr",
     "output_type": "stream",
     "text": [
      "05-25 23:10:40 [825] Lr: 0.000007, Training: 100.00%,  Loss: 0.00010, Acc: 100.00%, Recall: 100.00%, F1: 100.00%\r"
     ]
    },
    {
     "name": "stdout",
     "output_type": "stream",
     "text": [
      "\n"
     ]
    },
    {
     "name": "stderr",
     "output_type": "stream",
     "text": [
      "100%|███████████████████████████████████████████████████████████████████████████████████████████████████████████| 5100/5100 [01:37<00:00, 52.22it/s]\n"
     ]
    },
    {
     "name": "stdout",
     "output_type": "stream",
     "text": [
      "2024-05-25 23:12:18 825 epoch, Acc 100.00%, Recall 100.00%, F1 100.00%, Val_acc 99.20%, Best_acc 99.33%, Val_recall 99.54%, Best_recall 99.79%, Val_f1  99.15%, Best_f1 99.29%\n",
      "826\n"
     ]
    },
    {
     "name": "stderr",
     "output_type": "stream",
     "text": [
      "05-25 23:13:32 [826] Lr: 0.000007, Training: 100.00%,  Loss: 0.00042, Acc: 99.98%, Recall: 99.98%, F1: 99.97%%\r"
     ]
    },
    {
     "name": "stdout",
     "output_type": "stream",
     "text": [
      "\n",
      "827\n"
     ]
    },
    {
     "name": "stderr",
     "output_type": "stream",
     "text": [
      "05-25 23:14:46 [827] Lr: 0.000007, Training: 100.00%,  Loss: 0.00028, Acc: 99.99%, Recall: 99.98%, F1: 99.99%0%\r"
     ]
    },
    {
     "name": "stdout",
     "output_type": "stream",
     "text": [
      "\n",
      "828\n"
     ]
    },
    {
     "name": "stderr",
     "output_type": "stream",
     "text": [
      "05-25 23:16:00 [828] Lr: 0.000007, Training: 100.00%,  Loss: 0.00014, Acc: 100.00%, Recall: 100.00%, F1: 100.00%\r"
     ]
    },
    {
     "name": "stdout",
     "output_type": "stream",
     "text": [
      "\n",
      "829\n"
     ]
    },
    {
     "name": "stderr",
     "output_type": "stream",
     "text": [
      "05-25 23:17:15 [829] Lr: 0.000007, Training: 100.00%,  Loss: 0.00053, Acc: 99.99%, Recall: 99.99%, F1: 99.99%0%\r"
     ]
    },
    {
     "name": "stdout",
     "output_type": "stream",
     "text": [
      "\n",
      "830\n"
     ]
    },
    {
     "name": "stderr",
     "output_type": "stream",
     "text": [
      "05-25 23:18:29 [830] Lr: 0.000007, Training: 100.00%,  Loss: 0.00037, Acc: 99.98%, Recall: 99.97%, F1: 99.98%%\r"
     ]
    },
    {
     "name": "stdout",
     "output_type": "stream",
     "text": [
      "\n"
     ]
    },
    {
     "name": "stderr",
     "output_type": "stream",
     "text": [
      "100%|███████████████████████████████████████████████████████████████████████████████████████████████████████████| 5100/5100 [01:36<00:00, 52.70it/s]\n"
     ]
    },
    {
     "name": "stdout",
     "output_type": "stream",
     "text": [
      "2024-05-25 23:20:06 830 epoch, Acc 99.98%, Recall 99.97%, F1 99.98%, Val_acc 99.25%, Best_acc 99.33%, Val_recall 99.46%, Best_recall 99.79%, Val_f1  99.21%, Best_f1 99.29%\n",
      "831\n"
     ]
    },
    {
     "name": "stderr",
     "output_type": "stream",
     "text": [
      "05-25 23:21:20 [831] Lr: 0.000006, Training: 100.00%,  Loss: 0.00018, Acc: 99.99%, Recall: 99.99%, F1: 99.99%0%\r"
     ]
    },
    {
     "name": "stdout",
     "output_type": "stream",
     "text": [
      "\n",
      "832\n"
     ]
    },
    {
     "name": "stderr",
     "output_type": "stream",
     "text": [
      "05-25 23:22:34 [832] Lr: 0.000006, Training: 100.00%,  Loss: 0.00017, Acc: 100.00%, Recall: 99.99%, F1: 99.99%%\r"
     ]
    },
    {
     "name": "stdout",
     "output_type": "stream",
     "text": [
      "\n",
      "833\n"
     ]
    },
    {
     "name": "stderr",
     "output_type": "stream",
     "text": [
      "05-25 23:23:48 [833] Lr: 0.000006, Training: 100.00%,  Loss: 0.00063, Acc: 99.98%, Recall: 99.97%, F1: 99.98%%\r"
     ]
    },
    {
     "name": "stdout",
     "output_type": "stream",
     "text": [
      "\n",
      "834\n"
     ]
    },
    {
     "name": "stderr",
     "output_type": "stream",
     "text": [
      "05-25 23:25:02 [834] Lr: 0.000006, Training: 100.00%,  Loss: 0.00018, Acc: 100.00%, Recall: 99.99%, F1: 99.99%%\r"
     ]
    },
    {
     "name": "stdout",
     "output_type": "stream",
     "text": [
      "\n",
      "835\n"
     ]
    },
    {
     "name": "stderr",
     "output_type": "stream",
     "text": [
      "05-25 23:26:17 [835] Lr: 0.000006, Training: 100.00%,  Loss: 0.00107, Acc: 99.98%, Recall: 99.97%, F1: 99.97%%\r"
     ]
    },
    {
     "name": "stdout",
     "output_type": "stream",
     "text": [
      "\n"
     ]
    },
    {
     "name": "stderr",
     "output_type": "stream",
     "text": [
      "100%|███████████████████████████████████████████████████████████████████████████████████████████████████████████| 5100/5100 [01:55<00:00, 44.01it/s]\n"
     ]
    },
    {
     "name": "stdout",
     "output_type": "stream",
     "text": [
      "2024-05-25 23:28:13 835 epoch, Acc 99.98%, Recall 99.97%, F1 99.97%, Val_acc 99.20%, Best_acc 99.33%, Val_recall 99.54%, Best_recall 99.79%, Val_f1  99.15%, Best_f1 99.29%\n",
      "836\n"
     ]
    },
    {
     "name": "stderr",
     "output_type": "stream",
     "text": [
      "05-25 23:29:27 [836] Lr: 0.000006, Training: 100.00%,  Loss: 0.00010, Acc: 100.00%, Recall: 100.00%, F1: 99.99%\r"
     ]
    },
    {
     "name": "stdout",
     "output_type": "stream",
     "text": [
      "\n",
      "837\n"
     ]
    },
    {
     "name": "stderr",
     "output_type": "stream",
     "text": [
      "05-25 23:30:42 [837] Lr: 0.000006, Training: 100.00%,  Loss: 0.00008, Acc: 100.00%, Recall: 100.00%, F1: 100.00%\r"
     ]
    },
    {
     "name": "stdout",
     "output_type": "stream",
     "text": [
      "\n",
      "838\n"
     ]
    },
    {
     "name": "stderr",
     "output_type": "stream",
     "text": [
      "05-25 23:31:56 [838] Lr: 0.000006, Training: 100.00%,  Loss: 0.00035, Acc: 99.98%, Recall: 99.99%, F1: 99.98%0%\r"
     ]
    },
    {
     "name": "stdout",
     "output_type": "stream",
     "text": [
      "\n",
      "839\n"
     ]
    },
    {
     "name": "stderr",
     "output_type": "stream",
     "text": [
      "05-25 23:33:11 [839] Lr: 0.000006, Training: 100.00%,  Loss: 0.00037, Acc: 99.99%, Recall: 99.99%, F1: 99.98%%\r"
     ]
    },
    {
     "name": "stdout",
     "output_type": "stream",
     "text": [
      "\n",
      "840\n"
     ]
    },
    {
     "name": "stderr",
     "output_type": "stream",
     "text": [
      "05-25 23:34:25 [840] Lr: 0.000006, Training: 100.00%,  Loss: 0.00045, Acc: 99.98%, Recall: 99.97%, F1: 99.98%0%\r"
     ]
    },
    {
     "name": "stdout",
     "output_type": "stream",
     "text": [
      "\n"
     ]
    },
    {
     "name": "stderr",
     "output_type": "stream",
     "text": [
      "100%|███████████████████████████████████████████████████████████████████████████████████████████████████████████| 5100/5100 [01:39<00:00, 51.06it/s]\n"
     ]
    },
    {
     "name": "stdout",
     "output_type": "stream",
     "text": [
      "2024-05-25 23:36:06 840 epoch, Acc 99.98%, Recall 99.97%, F1 99.98%, Val_acc 99.27%, Best_acc 99.33%, Val_recall 99.50%, Best_recall 99.79%, Val_f1  99.23%, Best_f1 99.29%\n",
      "841\n"
     ]
    },
    {
     "name": "stderr",
     "output_type": "stream",
     "text": [
      "05-25 23:37:25 [841] Lr: 0.000006, Training: 100.00%,  Loss: 0.00023, Acc: 99.99%, Recall: 99.99%, F1: 99.98%0%\r"
     ]
    },
    {
     "name": "stdout",
     "output_type": "stream",
     "text": [
      "\n",
      "842\n"
     ]
    },
    {
     "name": "stderr",
     "output_type": "stream",
     "text": [
      "05-25 23:38:39 [842] Lr: 0.000006, Training: 100.00%,  Loss: 0.00045, Acc: 100.00%, Recall: 100.00%, F1: 100.00%\r"
     ]
    },
    {
     "name": "stdout",
     "output_type": "stream",
     "text": [
      "\n",
      "843\n"
     ]
    },
    {
     "name": "stderr",
     "output_type": "stream",
     "text": [
      "05-25 23:39:53 [843] Lr: 0.000006, Training: 100.00%,  Loss: 0.00032, Acc: 99.99%, Recall: 99.98%, F1: 99.99%0%\r"
     ]
    },
    {
     "name": "stdout",
     "output_type": "stream",
     "text": [
      "\n",
      "844\n"
     ]
    },
    {
     "name": "stderr",
     "output_type": "stream",
     "text": [
      "05-25 23:41:09 [844] Lr: 0.000006, Training: 100.00%,  Loss: 0.00132, Acc: 99.98%, Recall: 99.99%, F1: 99.97%0%\r"
     ]
    },
    {
     "name": "stdout",
     "output_type": "stream",
     "text": [
      "\n",
      "845\n"
     ]
    },
    {
     "name": "stderr",
     "output_type": "stream",
     "text": [
      "05-25 23:42:24 [845] Lr: 0.000006, Training: 100.00%,  Loss: 0.00030, Acc: 99.99%, Recall: 99.99%, F1: 99.99%0%\r"
     ]
    },
    {
     "name": "stdout",
     "output_type": "stream",
     "text": [
      "\n"
     ]
    },
    {
     "name": "stderr",
     "output_type": "stream",
     "text": [
      "100%|███████████████████████████████████████████████████████████████████████████████████████████████████████████| 5100/5100 [01:55<00:00, 44.04it/s]\n"
     ]
    },
    {
     "name": "stdout",
     "output_type": "stream",
     "text": [
      "2024-05-25 23:44:21 845 epoch, Acc 99.99%, Recall 99.99%, F1 99.99%, Val_acc 99.24%, Best_acc 99.33%, Val_recall 99.42%, Best_recall 99.79%, Val_f1  99.19%, Best_f1 99.29%\n",
      "846\n"
     ]
    },
    {
     "name": "stderr",
     "output_type": "stream",
     "text": [
      "05-25 23:45:35 [846] Lr: 0.000006, Training: 100.00%,  Loss: 0.00079, Acc: 99.98%, Recall: 99.98%, F1: 99.96%0%\r"
     ]
    },
    {
     "name": "stdout",
     "output_type": "stream",
     "text": [
      "\n",
      "847\n"
     ]
    },
    {
     "name": "stderr",
     "output_type": "stream",
     "text": [
      "05-25 23:46:49 [847] Lr: 0.000006, Training: 100.00%,  Loss: 0.00027, Acc: 99.99%, Recall: 100.00%, F1: 99.98%%\r"
     ]
    },
    {
     "name": "stdout",
     "output_type": "stream",
     "text": [
      "\n",
      "848\n"
     ]
    },
    {
     "name": "stderr",
     "output_type": "stream",
     "text": [
      "05-25 23:48:03 [848] Lr: 0.000006, Training: 100.00%,  Loss: 0.00054, Acc: 99.98%, Recall: 99.98%, F1: 99.98%%\r"
     ]
    },
    {
     "name": "stdout",
     "output_type": "stream",
     "text": [
      "\n",
      "849\n"
     ]
    },
    {
     "name": "stderr",
     "output_type": "stream",
     "text": [
      "05-25 23:49:18 [849] Lr: 0.000006, Training: 100.00%,  Loss: 0.00038, Acc: 99.99%, Recall: 99.97%, F1: 99.98%%\r"
     ]
    },
    {
     "name": "stdout",
     "output_type": "stream",
     "text": [
      "\n",
      "850\n"
     ]
    },
    {
     "name": "stderr",
     "output_type": "stream",
     "text": [
      "05-25 23:50:32 [850] Lr: 0.000006, Training: 100.00%,  Loss: 0.00091, Acc: 99.99%, Recall: 99.98%, F1: 99.98%0%\r"
     ]
    },
    {
     "name": "stdout",
     "output_type": "stream",
     "text": [
      "\n"
     ]
    },
    {
     "name": "stderr",
     "output_type": "stream",
     "text": [
      "100%|███████████████████████████████████████████████████████████████████████████████████████████████████████████| 5100/5100 [01:59<00:00, 42.70it/s]\n"
     ]
    },
    {
     "name": "stdout",
     "output_type": "stream",
     "text": [
      "2024-05-25 23:52:33 850 epoch, Acc 99.99%, Recall 99.98%, F1 99.98%, Val_acc 99.22%, Best_acc 99.33%, Val_recall 99.46%, Best_recall 99.79%, Val_f1  99.17%, Best_f1 99.29%\n",
      "851\n"
     ]
    },
    {
     "name": "stderr",
     "output_type": "stream",
     "text": [
      "05-25 23:53:47 [851] Lr: 0.000006, Training: 100.00%,  Loss: 0.00032, Acc: 99.98%, Recall: 99.98%, F1: 99.98%0%\r"
     ]
    },
    {
     "name": "stdout",
     "output_type": "stream",
     "text": [
      "\n",
      "852\n"
     ]
    },
    {
     "name": "stderr",
     "output_type": "stream",
     "text": [
      "05-25 23:55:02 [852] Lr: 0.000006, Training: 100.00%,  Loss: 0.00012, Acc: 100.00%, Recall: 100.00%, F1: 99.99%\r"
     ]
    },
    {
     "name": "stdout",
     "output_type": "stream",
     "text": [
      "\n",
      "853\n"
     ]
    },
    {
     "name": "stderr",
     "output_type": "stream",
     "text": [
      "05-25 23:56:16 [853] Lr: 0.000006, Training: 100.00%,  Loss: 0.00080, Acc: 99.98%, Recall: 99.99%, F1: 99.98%0%\r"
     ]
    },
    {
     "name": "stdout",
     "output_type": "stream",
     "text": [
      "\n",
      "854\n"
     ]
    },
    {
     "name": "stderr",
     "output_type": "stream",
     "text": [
      "05-25 23:57:31 [854] Lr: 0.000006, Training: 100.00%,  Loss: 0.00012, Acc: 100.00%, Recall: 99.99%, F1: 100.00%\r"
     ]
    },
    {
     "name": "stdout",
     "output_type": "stream",
     "text": [
      "\n",
      "855\n"
     ]
    },
    {
     "name": "stderr",
     "output_type": "stream",
     "text": [
      "05-25 23:58:46 [855] Lr: 0.000006, Training: 100.00%,  Loss: 0.00062, Acc: 99.99%, Recall: 99.99%, F1: 99.98%%\r"
     ]
    },
    {
     "name": "stdout",
     "output_type": "stream",
     "text": [
      "\n"
     ]
    },
    {
     "name": "stderr",
     "output_type": "stream",
     "text": [
      "100%|███████████████████████████████████████████████████████████████████████████████████████████████████████████| 5100/5100 [01:55<00:00, 44.10it/s]\n"
     ]
    },
    {
     "name": "stdout",
     "output_type": "stream",
     "text": [
      "2024-05-26 00:00:42 855 epoch, Acc 99.99%, Recall 99.99%, F1 99.98%, Val_acc 99.20%, Best_acc 99.33%, Val_recall 99.46%, Best_recall 99.79%, Val_f1  99.15%, Best_f1 99.29%\n",
      "856\n"
     ]
    },
    {
     "name": "stderr",
     "output_type": "stream",
     "text": [
      "05-26 00:01:56 [856] Lr: 0.000005, Training: 100.00%,  Loss: 0.00011, Acc: 100.00%, Recall: 99.99%, F1: 100.00%\r"
     ]
    },
    {
     "name": "stdout",
     "output_type": "stream",
     "text": [
      "\n",
      "857\n"
     ]
    },
    {
     "name": "stderr",
     "output_type": "stream",
     "text": [
      "05-26 00:03:10 [857] Lr: 0.000005, Training: 100.00%,  Loss: 0.00026, Acc: 99.99%, Recall: 99.98%, F1: 99.99%%\r"
     ]
    },
    {
     "name": "stdout",
     "output_type": "stream",
     "text": [
      "\n",
      "858\n"
     ]
    },
    {
     "name": "stderr",
     "output_type": "stream",
     "text": [
      "05-26 00:04:25 [858] Lr: 0.000005, Training: 100.00%,  Loss: 0.00049, Acc: 99.99%, Recall: 99.98%, F1: 99.98%%\r"
     ]
    },
    {
     "name": "stdout",
     "output_type": "stream",
     "text": [
      "\n",
      "859\n"
     ]
    },
    {
     "name": "stderr",
     "output_type": "stream",
     "text": [
      "05-26 00:05:39 [859] Lr: 0.000005, Training: 100.00%,  Loss: 0.00012, Acc: 100.00%, Recall: 100.00%, F1: 100.00%\r"
     ]
    },
    {
     "name": "stdout",
     "output_type": "stream",
     "text": [
      "\n",
      "860\n"
     ]
    },
    {
     "name": "stderr",
     "output_type": "stream",
     "text": [
      "05-26 00:06:54 [860] Lr: 0.000005, Training: 100.00%,  Loss: 0.00070, Acc: 99.98%, Recall: 99.97%, F1: 99.97%0%\r"
     ]
    },
    {
     "name": "stdout",
     "output_type": "stream",
     "text": [
      "\n"
     ]
    },
    {
     "name": "stderr",
     "output_type": "stream",
     "text": [
      "100%|███████████████████████████████████████████████████████████████████████████████████████████████████████████| 5100/5100 [01:57<00:00, 43.57it/s]\n"
     ]
    },
    {
     "name": "stdout",
     "output_type": "stream",
     "text": [
      "2024-05-26 00:08:51 860 epoch, Acc 99.98%, Recall 99.97%, F1 99.97%, Val_acc 98.90%, Best_acc 99.33%, Val_recall 99.46%, Best_recall 99.79%, Val_f1  98.84%, Best_f1 99.29%\n",
      "861\n"
     ]
    },
    {
     "name": "stderr",
     "output_type": "stream",
     "text": [
      "05-26 00:10:06 [861] Lr: 0.000005, Training: 100.00%,  Loss: 0.00087, Acc: 99.98%, Recall: 99.98%, F1: 99.97%0%\r"
     ]
    },
    {
     "name": "stdout",
     "output_type": "stream",
     "text": [
      "\n",
      "862\n"
     ]
    },
    {
     "name": "stderr",
     "output_type": "stream",
     "text": [
      "05-26 00:11:20 [862] Lr: 0.000005, Training: 100.00%,  Loss: 0.00050, Acc: 99.99%, Recall: 99.98%, F1: 99.98%0%\r"
     ]
    },
    {
     "name": "stdout",
     "output_type": "stream",
     "text": [
      "\n",
      "863\n"
     ]
    },
    {
     "name": "stderr",
     "output_type": "stream",
     "text": [
      "05-26 00:12:35 [863] Lr: 0.000005, Training: 100.00%,  Loss: 0.00035, Acc: 99.99%, Recall: 100.00%, F1: 99.99%%\r"
     ]
    },
    {
     "name": "stdout",
     "output_type": "stream",
     "text": [
      "\n",
      "864\n"
     ]
    },
    {
     "name": "stderr",
     "output_type": "stream",
     "text": [
      "05-26 00:13:49 [864] Lr: 0.000005, Training: 100.00%,  Loss: 0.00082, Acc: 99.98%, Recall: 99.97%, F1: 99.98%0%\r"
     ]
    },
    {
     "name": "stdout",
     "output_type": "stream",
     "text": [
      "\n",
      "865\n"
     ]
    },
    {
     "name": "stderr",
     "output_type": "stream",
     "text": [
      "05-26 00:15:04 [865] Lr: 0.000005, Training: 100.00%,  Loss: 0.00028, Acc: 99.99%, Recall: 99.98%, F1: 99.99%%\r"
     ]
    },
    {
     "name": "stdout",
     "output_type": "stream",
     "text": [
      "\n"
     ]
    },
    {
     "name": "stderr",
     "output_type": "stream",
     "text": [
      "100%|███████████████████████████████████████████████████████████████████████████████████████████████████████████| 5100/5100 [01:56<00:00, 43.89it/s]\n"
     ]
    },
    {
     "name": "stdout",
     "output_type": "stream",
     "text": [
      "2024-05-26 00:17:00 865 epoch, Acc 99.99%, Recall 99.98%, F1 99.99%, Val_acc 98.84%, Best_acc 99.33%, Val_recall 99.54%, Best_recall 99.79%, Val_f1  98.78%, Best_f1 99.29%\n",
      "866\n"
     ]
    },
    {
     "name": "stderr",
     "output_type": "stream",
     "text": [
      "05-26 00:18:15 [866] Lr: 0.000005, Training: 100.00%,  Loss: 0.00051, Acc: 99.99%, Recall: 99.99%, F1: 99.99%%%\r"
     ]
    },
    {
     "name": "stdout",
     "output_type": "stream",
     "text": [
      "\n",
      "867\n"
     ]
    },
    {
     "name": "stderr",
     "output_type": "stream",
     "text": [
      "05-26 00:19:27 [867] Lr: 0.000005, Training: 100.00%,  Loss: 0.00042, Acc: 99.99%, Recall: 100.00%, F1: 99.99%\r"
     ]
    },
    {
     "name": "stdout",
     "output_type": "stream",
     "text": [
      "\n",
      "868\n"
     ]
    },
    {
     "name": "stderr",
     "output_type": "stream",
     "text": [
      "05-26 00:20:40 [868] Lr: 0.000005, Training: 100.00%,  Loss: 0.00084, Acc: 100.00%, Recall: 100.00%, F1: 99.99%\r"
     ]
    },
    {
     "name": "stdout",
     "output_type": "stream",
     "text": [
      "\n",
      "869\n"
     ]
    },
    {
     "name": "stderr",
     "output_type": "stream",
     "text": [
      "05-26 00:21:53 [869] Lr: 0.000005, Training: 100.00%,  Loss: 0.00009, Acc: 100.00%, Recall: 100.00%, F1: 100.00%\r"
     ]
    },
    {
     "name": "stdout",
     "output_type": "stream",
     "text": [
      "\n",
      "870\n"
     ]
    },
    {
     "name": "stderr",
     "output_type": "stream",
     "text": [
      "05-26 00:23:05 [870] Lr: 0.000005, Training: 100.00%,  Loss: 0.00023, Acc: 100.00%, Recall: 100.00%, F1: 100.00%\r"
     ]
    },
    {
     "name": "stdout",
     "output_type": "stream",
     "text": [
      "\n"
     ]
    },
    {
     "name": "stderr",
     "output_type": "stream",
     "text": [
      "100%|███████████████████████████████████████████████████████████████████████████████████████████████████████████| 5100/5100 [01:33<00:00, 54.70it/s]\n"
     ]
    },
    {
     "name": "stdout",
     "output_type": "stream",
     "text": [
      "2024-05-26 00:24:39 870 epoch, Acc 100.00%, Recall 100.00%, F1 100.00%, Val_acc 99.22%, Best_acc 99.33%, Val_recall 99.50%, Best_recall 99.79%, Val_f1  99.17%, Best_f1 99.29%\n",
      "871\n"
     ]
    },
    {
     "name": "stderr",
     "output_type": "stream",
     "text": [
      "05-26 00:25:51 [871] Lr: 0.000005, Training: 100.00%,  Loss: 0.00047, Acc: 99.99%, Recall: 99.99%, F1: 99.99%%\r"
     ]
    },
    {
     "name": "stdout",
     "output_type": "stream",
     "text": [
      "\n",
      "872\n"
     ]
    },
    {
     "name": "stderr",
     "output_type": "stream",
     "text": [
      "05-26 00:27:04 [872] Lr: 0.000005, Training: 100.00%,  Loss: 0.00032, Acc: 99.99%, Recall: 99.98%, F1: 99.98%0%\r"
     ]
    },
    {
     "name": "stdout",
     "output_type": "stream",
     "text": [
      "\n",
      "873\n"
     ]
    },
    {
     "name": "stderr",
     "output_type": "stream",
     "text": [
      "05-26 00:28:17 [873] Lr: 0.000005, Training: 100.00%,  Loss: 0.00022, Acc: 99.99%, Recall: 99.98%, F1: 99.99%0%\r"
     ]
    },
    {
     "name": "stdout",
     "output_type": "stream",
     "text": [
      "\n",
      "874\n"
     ]
    },
    {
     "name": "stderr",
     "output_type": "stream",
     "text": [
      "05-26 00:29:30 [874] Lr: 0.000005, Training: 100.00%,  Loss: 0.00014, Acc: 100.00%, Recall: 99.99%, F1: 99.99%%\r"
     ]
    },
    {
     "name": "stdout",
     "output_type": "stream",
     "text": [
      "\n",
      "875\n"
     ]
    },
    {
     "name": "stderr",
     "output_type": "stream",
     "text": [
      "05-26 00:30:44 [875] Lr: 0.000005, Training: 100.00%,  Loss: 0.00032, Acc: 100.00%, Recall: 99.99%, F1: 100.00%\r"
     ]
    },
    {
     "name": "stdout",
     "output_type": "stream",
     "text": [
      "\n"
     ]
    },
    {
     "name": "stderr",
     "output_type": "stream",
     "text": [
      "100%|███████████████████████████████████████████████████████████████████████████████████████████████████████████| 5100/5100 [01:35<00:00, 53.17it/s]\n"
     ]
    },
    {
     "name": "stdout",
     "output_type": "stream",
     "text": [
      "2024-05-26 00:32:21 875 epoch, Acc 100.00%, Recall 99.99%, F1 100.00%, Val_acc 99.14%, Best_acc 99.33%, Val_recall 99.54%, Best_recall 99.79%, Val_f1  99.09%, Best_f1 99.29%\n",
      "876\n"
     ]
    },
    {
     "name": "stderr",
     "output_type": "stream",
     "text": [
      "05-26 00:33:34 [876] Lr: 0.000005, Training: 100.00%,  Loss: 0.00023, Acc: 100.00%, Recall: 99.99%, F1: 100.00%\r"
     ]
    },
    {
     "name": "stdout",
     "output_type": "stream",
     "text": [
      "\n",
      "877\n"
     ]
    },
    {
     "name": "stderr",
     "output_type": "stream",
     "text": [
      "05-26 00:34:47 [877] Lr: 0.000005, Training: 100.00%,  Loss: 0.00077, Acc: 100.00%, Recall: 100.00%, F1: 99.99%\r"
     ]
    },
    {
     "name": "stdout",
     "output_type": "stream",
     "text": [
      "\n",
      "878\n"
     ]
    },
    {
     "name": "stderr",
     "output_type": "stream",
     "text": [
      "05-26 00:36:01 [878] Lr: 0.000005, Training: 100.00%,  Loss: 0.00039, Acc: 99.98%, Recall: 99.99%, F1: 99.98%%\r"
     ]
    },
    {
     "name": "stdout",
     "output_type": "stream",
     "text": [
      "\n",
      "879\n"
     ]
    },
    {
     "name": "stderr",
     "output_type": "stream",
     "text": [
      "05-26 00:37:15 [879] Lr: 0.000005, Training: 100.00%,  Loss: 0.00016, Acc: 100.00%, Recall: 99.99%, F1: 99.99%%\r"
     ]
    },
    {
     "name": "stdout",
     "output_type": "stream",
     "text": [
      "\n",
      "880\n"
     ]
    },
    {
     "name": "stderr",
     "output_type": "stream",
     "text": [
      "05-26 00:38:32 [880] Lr: 0.000005, Training: 100.00%,  Loss: 0.00014, Acc: 99.99%, Recall: 99.99%, F1: 99.99%0%\r"
     ]
    },
    {
     "name": "stdout",
     "output_type": "stream",
     "text": [
      "\n"
     ]
    },
    {
     "name": "stderr",
     "output_type": "stream",
     "text": [
      "100%|███████████████████████████████████████████████████████████████████████████████████████████████████████████| 5100/5100 [01:34<00:00, 54.22it/s]\n"
     ]
    },
    {
     "name": "stdout",
     "output_type": "stream",
     "text": [
      "2024-05-26 00:40:07 880 epoch, Acc 99.99%, Recall 99.99%, F1 99.99%, Val_acc 99.25%, Best_acc 99.33%, Val_recall 99.58%, Best_recall 99.79%, Val_f1  99.21%, Best_f1 99.29%\n",
      "881\n"
     ]
    },
    {
     "name": "stderr",
     "output_type": "stream",
     "text": [
      "05-26 00:41:20 [881] Lr: 0.000005, Training: 100.00%,  Loss: 0.00051, Acc: 99.99%, Recall: 99.99%, F1: 99.99%0%\r"
     ]
    },
    {
     "name": "stdout",
     "output_type": "stream",
     "text": [
      "\n",
      "882\n"
     ]
    },
    {
     "name": "stderr",
     "output_type": "stream",
     "text": [
      "05-26 00:42:34 [882] Lr: 0.000005, Training: 100.00%,  Loss: 0.00013, Acc: 100.00%, Recall: 100.00%, F1: 100.00%\r"
     ]
    },
    {
     "name": "stdout",
     "output_type": "stream",
     "text": [
      "\n",
      "883\n"
     ]
    },
    {
     "name": "stderr",
     "output_type": "stream",
     "text": [
      "05-26 00:43:47 [883] Lr: 0.000005, Training: 100.00%,  Loss: 0.00045, Acc: 100.00%, Recall: 99.99%, F1: 99.99%%\r"
     ]
    },
    {
     "name": "stdout",
     "output_type": "stream",
     "text": [
      "\n",
      "884\n"
     ]
    },
    {
     "name": "stderr",
     "output_type": "stream",
     "text": [
      "05-26 00:45:00 [884] Lr: 0.000005, Training: 100.00%,  Loss: 0.00028, Acc: 99.99%, Recall: 100.00%, F1: 99.99%%\r"
     ]
    },
    {
     "name": "stdout",
     "output_type": "stream",
     "text": [
      "\n",
      "885\n"
     ]
    },
    {
     "name": "stderr",
     "output_type": "stream",
     "text": [
      "05-26 00:46:14 [885] Lr: 0.000005, Training: 100.00%,  Loss: 0.00024, Acc: 100.00%, Recall: 100.00%, F1: 99.99%\r"
     ]
    },
    {
     "name": "stdout",
     "output_type": "stream",
     "text": [
      "\n"
     ]
    },
    {
     "name": "stderr",
     "output_type": "stream",
     "text": [
      "100%|███████████████████████████████████████████████████████████████████████████████████████████████████████████| 5100/5100 [01:38<00:00, 51.91it/s]\n"
     ]
    },
    {
     "name": "stdout",
     "output_type": "stream",
     "text": [
      "2024-05-26 00:47:53 885 epoch, Acc 100.00%, Recall 100.00%, F1 99.99%, Val_acc 99.27%, Best_acc 99.33%, Val_recall 99.58%, Best_recall 99.79%, Val_f1  99.23%, Best_f1 99.29%\n",
      "886\n"
     ]
    },
    {
     "name": "stderr",
     "output_type": "stream",
     "text": [
      "05-26 00:49:06 [886] Lr: 0.000005, Training: 100.00%,  Loss: 0.00037, Acc: 99.99%, Recall: 99.99%, F1: 99.99%0%\r"
     ]
    },
    {
     "name": "stdout",
     "output_type": "stream",
     "text": [
      "\n",
      "887\n"
     ]
    },
    {
     "name": "stderr",
     "output_type": "stream",
     "text": [
      "05-26 00:50:21 [887] Lr: 0.000005, Training: 100.00%,  Loss: 0.00064, Acc: 99.99%, Recall: 99.99%, F1: 99.98%0%\r"
     ]
    },
    {
     "name": "stdout",
     "output_type": "stream",
     "text": [
      "\n",
      "888\n"
     ]
    },
    {
     "name": "stderr",
     "output_type": "stream",
     "text": [
      "05-26 00:51:35 [888] Lr: 0.000005, Training: 100.00%,  Loss: 0.00022, Acc: 99.99%, Recall: 100.00%, F1: 99.99%\r"
     ]
    },
    {
     "name": "stdout",
     "output_type": "stream",
     "text": [
      "\n",
      "889\n"
     ]
    },
    {
     "name": "stderr",
     "output_type": "stream",
     "text": [
      "05-26 00:52:48 [889] Lr: 0.000005, Training: 100.00%,  Loss: 0.00021, Acc: 99.98%, Recall: 99.98%, F1: 99.98%%\r"
     ]
    },
    {
     "name": "stdout",
     "output_type": "stream",
     "text": [
      "\n",
      "890\n"
     ]
    },
    {
     "name": "stderr",
     "output_type": "stream",
     "text": [
      "05-26 00:54:02 [890] Lr: 0.000005, Training: 100.00%,  Loss: 0.00017, Acc: 99.99%, Recall: 99.98%, F1: 99.99%%\r"
     ]
    },
    {
     "name": "stdout",
     "output_type": "stream",
     "text": [
      "\n"
     ]
    },
    {
     "name": "stderr",
     "output_type": "stream",
     "text": [
      "100%|███████████████████████████████████████████████████████████████████████████████████████████████████████████| 5100/5100 [01:37<00:00, 52.35it/s]\n"
     ]
    },
    {
     "name": "stdout",
     "output_type": "stream",
     "text": [
      "2024-05-26 00:55:40 890 epoch, Acc 99.99%, Recall 99.98%, F1 99.99%, Val_acc 99.24%, Best_acc 99.33%, Val_recall 99.46%, Best_recall 99.79%, Val_f1  99.19%, Best_f1 99.29%\n",
      "891\n"
     ]
    },
    {
     "name": "stderr",
     "output_type": "stream",
     "text": [
      "05-26 00:56:53 [891] Lr: 0.000004, Training: 100.00%,  Loss: 0.00016, Acc: 100.00%, Recall: 100.00%, F1: 99.99%\r"
     ]
    },
    {
     "name": "stdout",
     "output_type": "stream",
     "text": [
      "\n",
      "892\n"
     ]
    },
    {
     "name": "stderr",
     "output_type": "stream",
     "text": [
      "05-26 00:58:05 [892] Lr: 0.000004, Training: 100.00%,  Loss: 0.00078, Acc: 99.98%, Recall: 99.96%, F1: 99.97%%\r"
     ]
    },
    {
     "name": "stdout",
     "output_type": "stream",
     "text": [
      "\n",
      "893\n"
     ]
    },
    {
     "name": "stderr",
     "output_type": "stream",
     "text": [
      "05-26 00:59:19 [893] Lr: 0.000004, Training: 100.00%,  Loss: 0.00040, Acc: 99.99%, Recall: 100.00%, F1: 99.99%%\r"
     ]
    },
    {
     "name": "stdout",
     "output_type": "stream",
     "text": [
      "\n",
      "894\n"
     ]
    },
    {
     "name": "stderr",
     "output_type": "stream",
     "text": [
      "05-26 01:00:32 [894] Lr: 0.000004, Training: 100.00%,  Loss: 0.00044, Acc: 99.99%, Recall: 100.00%, F1: 99.99%%\r"
     ]
    },
    {
     "name": "stdout",
     "output_type": "stream",
     "text": [
      "\n",
      "895\n"
     ]
    },
    {
     "name": "stderr",
     "output_type": "stream",
     "text": [
      "05-26 01:01:46 [895] Lr: 0.000004, Training: 100.00%,  Loss: 0.00020, Acc: 100.00%, Recall: 99.99%, F1: 99.99%%\r"
     ]
    },
    {
     "name": "stdout",
     "output_type": "stream",
     "text": [
      "\n"
     ]
    },
    {
     "name": "stderr",
     "output_type": "stream",
     "text": [
      "100%|███████████████████████████████████████████████████████████████████████████████████████████████████████████| 5100/5100 [01:31<00:00, 55.64it/s]\n"
     ]
    },
    {
     "name": "stdout",
     "output_type": "stream",
     "text": [
      "2024-05-26 01:03:18 895 epoch, Acc 100.00%, Recall 99.99%, F1 99.99%, Val_acc 99.12%, Best_acc 99.33%, Val_recall 99.46%, Best_recall 99.79%, Val_f1  99.07%, Best_f1 99.29%\n",
      "896\n"
     ]
    },
    {
     "name": "stderr",
     "output_type": "stream",
     "text": [
      "05-26 01:04:31 [896] Lr: 0.000004, Training: 100.00%,  Loss: 0.00067, Acc: 99.99%, Recall: 99.98%, F1: 99.98%0%\r"
     ]
    },
    {
     "name": "stdout",
     "output_type": "stream",
     "text": [
      "\n",
      "897\n"
     ]
    },
    {
     "name": "stderr",
     "output_type": "stream",
     "text": [
      "05-26 01:05:44 [897] Lr: 0.000004, Training: 100.00%,  Loss: 0.00012, Acc: 100.00%, Recall: 99.99%, F1: 99.99%%\r"
     ]
    },
    {
     "name": "stdout",
     "output_type": "stream",
     "text": [
      "\n",
      "898\n"
     ]
    },
    {
     "name": "stderr",
     "output_type": "stream",
     "text": [
      "05-26 01:06:57 [898] Lr: 0.000004, Training: 100.00%,  Loss: 0.00012, Acc: 100.00%, Recall: 100.00%, F1: 100.00%\r"
     ]
    },
    {
     "name": "stdout",
     "output_type": "stream",
     "text": [
      "\n",
      "899\n"
     ]
    },
    {
     "name": "stderr",
     "output_type": "stream",
     "text": [
      "05-26 01:08:11 [899] Lr: 0.000004, Training: 100.00%,  Loss: 0.00011, Acc: 99.99%, Recall: 100.00%, F1: 99.99%%\r"
     ]
    },
    {
     "name": "stdout",
     "output_type": "stream",
     "text": [
      "\n",
      "900\n"
     ]
    },
    {
     "name": "stderr",
     "output_type": "stream",
     "text": [
      "05-26 01:09:24 [900] Lr: 0.000004, Training: 100.00%,  Loss: 0.00017, Acc: 100.00%, Recall: 99.99%, F1: 100.00%\r"
     ]
    },
    {
     "name": "stdout",
     "output_type": "stream",
     "text": [
      "\n"
     ]
    },
    {
     "name": "stderr",
     "output_type": "stream",
     "text": [
      "100%|███████████████████████████████████████████████████████████████████████████████████████████████████████████| 5100/5100 [01:31<00:00, 55.90it/s]\n"
     ]
    },
    {
     "name": "stdout",
     "output_type": "stream",
     "text": [
      "2024-05-26 01:10:56 900 epoch, Acc 100.00%, Recall 99.99%, F1 100.00%, Val_acc 99.25%, Best_acc 99.33%, Val_recall 99.50%, Best_recall 99.79%, Val_f1  99.21%, Best_f1 99.29%\n",
      "901\n"
     ]
    },
    {
     "name": "stderr",
     "output_type": "stream",
     "text": [
      "05-26 01:12:09 [901] Lr: 0.000004, Training: 100.00%,  Loss: 0.00062, Acc: 99.98%, Recall: 99.97%, F1: 99.98%0%\r"
     ]
    },
    {
     "name": "stdout",
     "output_type": "stream",
     "text": [
      "\n",
      "902\n"
     ]
    },
    {
     "name": "stderr",
     "output_type": "stream",
     "text": [
      "05-26 01:13:22 [902] Lr: 0.000004, Training: 100.00%,  Loss: 0.00225, Acc: 99.97%, Recall: 99.97%, F1: 99.97%%\r"
     ]
    },
    {
     "name": "stdout",
     "output_type": "stream",
     "text": [
      "\n",
      "903\n"
     ]
    },
    {
     "name": "stderr",
     "output_type": "stream",
     "text": [
      "05-26 01:14:34 [903] Lr: 0.000004, Training: 100.00%,  Loss: 0.00041, Acc: 99.99%, Recall: 99.99%, F1: 99.99%0%\r"
     ]
    },
    {
     "name": "stdout",
     "output_type": "stream",
     "text": [
      "\n",
      "904\n"
     ]
    },
    {
     "name": "stderr",
     "output_type": "stream",
     "text": [
      "05-26 01:15:47 [904] Lr: 0.000004, Training: 100.00%,  Loss: 0.00058, Acc: 99.98%, Recall: 99.96%, F1: 99.97%%\r"
     ]
    },
    {
     "name": "stdout",
     "output_type": "stream",
     "text": [
      "\n",
      "905\n"
     ]
    },
    {
     "name": "stderr",
     "output_type": "stream",
     "text": [
      "05-26 01:16:59 [905] Lr: 0.000004, Training: 100.00%,  Loss: 0.00029, Acc: 99.98%, Recall: 99.98%, F1: 99.98%%\r"
     ]
    },
    {
     "name": "stdout",
     "output_type": "stream",
     "text": [
      "\n"
     ]
    },
    {
     "name": "stderr",
     "output_type": "stream",
     "text": [
      "100%|███████████████████████████████████████████████████████████████████████████████████████████████████████████| 5100/5100 [01:31<00:00, 55.75it/s]\n"
     ]
    },
    {
     "name": "stdout",
     "output_type": "stream",
     "text": [
      "2024-05-26 01:18:31 905 epoch, Acc 99.98%, Recall 99.98%, F1 99.98%, Val_acc 99.20%, Best_acc 99.33%, Val_recall 99.50%, Best_recall 99.79%, Val_f1  99.15%, Best_f1 99.29%\n",
      "906\n"
     ]
    },
    {
     "name": "stderr",
     "output_type": "stream",
     "text": [
      "05-26 01:19:44 [906] Lr: 0.000004, Training: 100.00%,  Loss: 0.00038, Acc: 99.99%, Recall: 100.00%, F1: 99.98%\r"
     ]
    },
    {
     "name": "stdout",
     "output_type": "stream",
     "text": [
      "\n",
      "907\n"
     ]
    },
    {
     "name": "stderr",
     "output_type": "stream",
     "text": [
      "05-26 01:20:57 [907] Lr: 0.000004, Training: 100.00%,  Loss: 0.00034, Acc: 99.99%, Recall: 99.99%, F1: 99.98%%\r"
     ]
    },
    {
     "name": "stdout",
     "output_type": "stream",
     "text": [
      "\n",
      "908\n"
     ]
    },
    {
     "name": "stderr",
     "output_type": "stream",
     "text": [
      "05-26 01:22:10 [908] Lr: 0.000004, Training: 100.00%,  Loss: 0.00050, Acc: 99.98%, Recall: 99.99%, F1: 99.98%%\r"
     ]
    },
    {
     "name": "stdout",
     "output_type": "stream",
     "text": [
      "\n",
      "909\n"
     ]
    },
    {
     "name": "stderr",
     "output_type": "stream",
     "text": [
      "05-26 01:23:23 [909] Lr: 0.000004, Training: 100.00%,  Loss: 0.00034, Acc: 99.98%, Recall: 99.98%, F1: 99.97%%\r"
     ]
    },
    {
     "name": "stdout",
     "output_type": "stream",
     "text": [
      "\n",
      "910\n"
     ]
    },
    {
     "name": "stderr",
     "output_type": "stream",
     "text": [
      "05-26 01:24:35 [910] Lr: 0.000004, Training: 100.00%,  Loss: 0.00019, Acc: 100.00%, Recall: 99.98%, F1: 99.99%%\r"
     ]
    },
    {
     "name": "stdout",
     "output_type": "stream",
     "text": [
      "\n"
     ]
    },
    {
     "name": "stderr",
     "output_type": "stream",
     "text": [
      "100%|███████████████████████████████████████████████████████████████████████████████████████████████████████████| 5100/5100 [01:30<00:00, 56.43it/s]\n"
     ]
    },
    {
     "name": "stdout",
     "output_type": "stream",
     "text": [
      "2024-05-26 01:26:06 910 epoch, Acc 100.00%, Recall 99.98%, F1 99.99%, Val_acc 99.31%, Best_acc 99.33%, Val_recall 99.50%, Best_recall 99.79%, Val_f1  99.27%, Best_f1 99.29%\n",
      "911\n"
     ]
    },
    {
     "name": "stderr",
     "output_type": "stream",
     "text": [
      "05-26 01:27:19 [911] Lr: 0.000004, Training: 100.00%,  Loss: 0.00072, Acc: 99.98%, Recall: 99.98%, F1: 99.98%0%\r"
     ]
    },
    {
     "name": "stdout",
     "output_type": "stream",
     "text": [
      "\n",
      "912\n"
     ]
    },
    {
     "name": "stderr",
     "output_type": "stream",
     "text": [
      "05-26 01:28:31 [912] Lr: 0.000004, Training: 100.00%,  Loss: 0.00025, Acc: 99.99%, Recall: 99.98%, F1: 99.98%%\r"
     ]
    },
    {
     "name": "stdout",
     "output_type": "stream",
     "text": [
      "\n",
      "913\n"
     ]
    },
    {
     "name": "stderr",
     "output_type": "stream",
     "text": [
      "05-26 01:29:44 [913] Lr: 0.000004, Training: 100.00%,  Loss: 0.00159, Acc: 99.97%, Recall: 99.96%, F1: 99.97%%\r"
     ]
    },
    {
     "name": "stdout",
     "output_type": "stream",
     "text": [
      "\n",
      "914\n"
     ]
    },
    {
     "name": "stderr",
     "output_type": "stream",
     "text": [
      "05-26 01:30:57 [914] Lr: 0.000004, Training: 100.00%,  Loss: 0.00089, Acc: 99.98%, Recall: 99.96%, F1: 99.97%%\r"
     ]
    },
    {
     "name": "stdout",
     "output_type": "stream",
     "text": [
      "\n",
      "915\n"
     ]
    },
    {
     "name": "stderr",
     "output_type": "stream",
     "text": [
      "05-26 01:32:10 [915] Lr: 0.000004, Training: 100.00%,  Loss: 0.00010, Acc: 100.00%, Recall: 100.00%, F1: 99.99%\r"
     ]
    },
    {
     "name": "stdout",
     "output_type": "stream",
     "text": [
      "\n"
     ]
    },
    {
     "name": "stderr",
     "output_type": "stream",
     "text": [
      "100%|███████████████████████████████████████████████████████████████████████████████████████████████████████████| 5100/5100 [01:30<00:00, 56.34it/s]\n"
     ]
    },
    {
     "name": "stdout",
     "output_type": "stream",
     "text": [
      "2024-05-26 01:33:41 915 epoch, Acc 100.00%, Recall 100.00%, F1 99.99%, Val_acc 98.92%, Best_acc 99.33%, Val_recall 99.58%, Best_recall 99.79%, Val_f1  98.86%, Best_f1 99.29%\n",
      "916\n"
     ]
    },
    {
     "name": "stderr",
     "output_type": "stream",
     "text": [
      "05-26 01:34:54 [916] Lr: 0.000004, Training: 100.00%,  Loss: 0.00014, Acc: 99.99%, Recall: 99.99%, F1: 99.99%0%\r"
     ]
    },
    {
     "name": "stdout",
     "output_type": "stream",
     "text": [
      "\n",
      "917\n"
     ]
    },
    {
     "name": "stderr",
     "output_type": "stream",
     "text": [
      "05-26 01:36:07 [917] Lr: 0.000004, Training: 100.00%,  Loss: 0.00016, Acc: 100.00%, Recall: 100.00%, F1: 100.00%\r"
     ]
    },
    {
     "name": "stdout",
     "output_type": "stream",
     "text": [
      "\n",
      "918\n"
     ]
    },
    {
     "name": "stderr",
     "output_type": "stream",
     "text": [
      "05-26 01:37:19 [918] Lr: 0.000004, Training: 100.00%,  Loss: 0.00015, Acc: 100.00%, Recall: 100.00%, F1: 100.00%\r"
     ]
    },
    {
     "name": "stdout",
     "output_type": "stream",
     "text": [
      "\n",
      "919\n"
     ]
    },
    {
     "name": "stderr",
     "output_type": "stream",
     "text": [
      "05-26 01:38:35 [919] Lr: 0.000004, Training: 100.00%,  Loss: 0.00046, Acc: 99.99%, Recall: 99.98%, F1: 99.98%0%\r"
     ]
    },
    {
     "name": "stdout",
     "output_type": "stream",
     "text": [
      "\n",
      "920\n"
     ]
    },
    {
     "name": "stderr",
     "output_type": "stream",
     "text": [
      "05-26 01:39:48 [920] Lr: 0.000004, Training: 100.00%,  Loss: 0.00031, Acc: 99.99%, Recall: 99.98%, F1: 99.98%0%\r"
     ]
    },
    {
     "name": "stdout",
     "output_type": "stream",
     "text": [
      "\n"
     ]
    },
    {
     "name": "stderr",
     "output_type": "stream",
     "text": [
      "100%|███████████████████████████████████████████████████████████████████████████████████████████████████████████| 5100/5100 [01:29<00:00, 56.72it/s]\n"
     ]
    },
    {
     "name": "stdout",
     "output_type": "stream",
     "text": [
      "2024-05-26 01:41:19 920 epoch, Acc 99.99%, Recall 99.98%, F1 99.98%, Val_acc 99.20%, Best_acc 99.33%, Val_recall 99.54%, Best_recall 99.79%, Val_f1  99.15%, Best_f1 99.29%\n",
      "921\n"
     ]
    },
    {
     "name": "stderr",
     "output_type": "stream",
     "text": [
      "05-26 01:42:32 [921] Lr: 0.000004, Training: 100.00%,  Loss: 0.00026, Acc: 99.99%, Recall: 100.00%, F1: 99.99%\r"
     ]
    },
    {
     "name": "stdout",
     "output_type": "stream",
     "text": [
      "\n",
      "922\n"
     ]
    },
    {
     "name": "stderr",
     "output_type": "stream",
     "text": [
      "05-26 01:43:45 [922] Lr: 0.000004, Training: 100.00%,  Loss: 0.00044, Acc: 99.99%, Recall: 99.97%, F1: 99.99%0%\r"
     ]
    },
    {
     "name": "stdout",
     "output_type": "stream",
     "text": [
      "\n",
      "923\n"
     ]
    },
    {
     "name": "stderr",
     "output_type": "stream",
     "text": [
      "05-26 01:44:57 [923] Lr: 0.000004, Training: 100.00%,  Loss: 0.00060, Acc: 99.99%, Recall: 99.99%, F1: 99.99%0%\r"
     ]
    },
    {
     "name": "stdout",
     "output_type": "stream",
     "text": [
      "\n",
      "924\n"
     ]
    },
    {
     "name": "stderr",
     "output_type": "stream",
     "text": [
      "05-26 01:46:10 [924] Lr: 0.000004, Training: 100.00%,  Loss: 0.00018, Acc: 99.99%, Recall: 99.99%, F1: 99.99%0%\r"
     ]
    },
    {
     "name": "stdout",
     "output_type": "stream",
     "text": [
      "\n",
      "925\n"
     ]
    },
    {
     "name": "stderr",
     "output_type": "stream",
     "text": [
      "05-26 01:47:22 [925] Lr: 0.000004, Training: 100.00%,  Loss: 0.00049, Acc: 99.98%, Recall: 99.98%, F1: 99.98%0%\r"
     ]
    },
    {
     "name": "stdout",
     "output_type": "stream",
     "text": [
      "\n"
     ]
    },
    {
     "name": "stderr",
     "output_type": "stream",
     "text": [
      "100%|███████████████████████████████████████████████████████████████████████████████████████████████████████████| 5100/5100 [01:30<00:00, 56.56it/s]\n"
     ]
    },
    {
     "name": "stdout",
     "output_type": "stream",
     "text": [
      "2024-05-26 01:48:53 925 epoch, Acc 99.98%, Recall 99.98%, F1 99.98%, Val_acc 99.02%, Best_acc 99.33%, Val_recall 99.50%, Best_recall 99.79%, Val_f1  98.96%, Best_f1 99.29%\n",
      "926\n"
     ]
    },
    {
     "name": "stderr",
     "output_type": "stream",
     "text": [
      "05-26 01:50:06 [926] Lr: 0.000004, Training: 100.00%,  Loss: 0.00033, Acc: 99.99%, Recall: 99.99%, F1: 99.99%0%\r"
     ]
    },
    {
     "name": "stdout",
     "output_type": "stream",
     "text": [
      "\n",
      "927\n"
     ]
    },
    {
     "name": "stderr",
     "output_type": "stream",
     "text": [
      "05-26 01:51:19 [927] Lr: 0.000004, Training: 100.00%,  Loss: 0.00071, Acc: 99.97%, Recall: 99.96%, F1: 99.96%%\r"
     ]
    },
    {
     "name": "stdout",
     "output_type": "stream",
     "text": [
      "\n",
      "928\n"
     ]
    },
    {
     "name": "stderr",
     "output_type": "stream",
     "text": [
      "05-26 01:52:32 [928] Lr: 0.000004, Training: 100.00%,  Loss: 0.00022, Acc: 99.99%, Recall: 99.98%, F1: 99.99%0%\r"
     ]
    },
    {
     "name": "stdout",
     "output_type": "stream",
     "text": [
      "\n",
      "929\n"
     ]
    },
    {
     "name": "stderr",
     "output_type": "stream",
     "text": [
      "05-26 01:53:44 [929] Lr: 0.000004, Training: 100.00%,  Loss: 0.00032, Acc: 99.99%, Recall: 99.99%, F1: 99.99%0%\r"
     ]
    },
    {
     "name": "stdout",
     "output_type": "stream",
     "text": [
      "\n",
      "930\n"
     ]
    },
    {
     "name": "stderr",
     "output_type": "stream",
     "text": [
      "05-26 01:54:57 [930] Lr: 0.000004, Training: 100.00%,  Loss: 0.00060, Acc: 99.99%, Recall: 100.00%, F1: 99.99%%\r"
     ]
    },
    {
     "name": "stdout",
     "output_type": "stream",
     "text": [
      "\n"
     ]
    },
    {
     "name": "stderr",
     "output_type": "stream",
     "text": [
      "100%|███████████████████████████████████████████████████████████████████████████████████████████████████████████| 5100/5100 [01:31<00:00, 55.44it/s]\n"
     ]
    },
    {
     "name": "stdout",
     "output_type": "stream",
     "text": [
      "2024-05-26 01:56:29 930 epoch, Acc 99.99%, Recall 100.00%, F1 99.99%, Val_acc 99.18%, Best_acc 99.33%, Val_recall 99.54%, Best_recall 99.79%, Val_f1  99.13%, Best_f1 99.29%\n",
      "931\n"
     ]
    },
    {
     "name": "stderr",
     "output_type": "stream",
     "text": [
      "05-26 01:57:42 [931] Lr: 0.000003, Training: 100.00%,  Loss: 0.00036, Acc: 99.99%, Recall: 100.00%, F1: 99.99%%\r"
     ]
    },
    {
     "name": "stdout",
     "output_type": "stream",
     "text": [
      "\n",
      "932\n"
     ]
    },
    {
     "name": "stderr",
     "output_type": "stream",
     "text": [
      "05-26 01:58:55 [932] Lr: 0.000003, Training: 100.00%,  Loss: 0.00006, Acc: 100.00%, Recall: 100.00%, F1: 100.00%\r"
     ]
    },
    {
     "name": "stdout",
     "output_type": "stream",
     "text": [
      "\n",
      "933\n"
     ]
    },
    {
     "name": "stderr",
     "output_type": "stream",
     "text": [
      "05-26 02:00:08 [933] Lr: 0.000003, Training: 100.00%,  Loss: 0.00030, Acc: 99.99%, Recall: 99.98%, F1: 99.99%0%\r"
     ]
    },
    {
     "name": "stdout",
     "output_type": "stream",
     "text": [
      "\n",
      "934\n"
     ]
    },
    {
     "name": "stderr",
     "output_type": "stream",
     "text": [
      "05-26 02:01:21 [934] Lr: 0.000003, Training: 100.00%,  Loss: 0.00050, Acc: 99.97%, Recall: 99.95%, F1: 99.97%0%\r"
     ]
    },
    {
     "name": "stdout",
     "output_type": "stream",
     "text": [
      "\n",
      "935\n"
     ]
    },
    {
     "name": "stderr",
     "output_type": "stream",
     "text": [
      "05-26 02:02:34 [935] Lr: 0.000003, Training: 100.00%,  Loss: 0.00014, Acc: 100.00%, Recall: 99.99%, F1: 99.99%%\r"
     ]
    },
    {
     "name": "stdout",
     "output_type": "stream",
     "text": [
      "\n"
     ]
    },
    {
     "name": "stderr",
     "output_type": "stream",
     "text": [
      "100%|███████████████████████████████████████████████████████████████████████████████████████████████████████████| 5100/5100 [01:29<00:00, 56.70it/s]\n"
     ]
    },
    {
     "name": "stdout",
     "output_type": "stream",
     "text": [
      "2024-05-26 02:04:04 935 epoch, Acc 100.00%, Recall 99.99%, F1 99.99%, Val_acc 98.98%, Best_acc 99.33%, Val_recall 99.62%, Best_recall 99.79%, Val_f1  98.92%, Best_f1 99.29%\n",
      "936\n"
     ]
    },
    {
     "name": "stderr",
     "output_type": "stream",
     "text": [
      "05-26 02:05:17 [936] Lr: 0.000003, Training: 100.00%,  Loss: 0.00084, Acc: 99.99%, Recall: 100.00%, F1: 99.98%\r"
     ]
    },
    {
     "name": "stdout",
     "output_type": "stream",
     "text": [
      "\n",
      "937\n"
     ]
    },
    {
     "name": "stderr",
     "output_type": "stream",
     "text": [
      "05-26 02:06:30 [937] Lr: 0.000003, Training: 100.00%,  Loss: 0.00045, Acc: 99.99%, Recall: 99.98%, F1: 99.98%0%\r"
     ]
    },
    {
     "name": "stdout",
     "output_type": "stream",
     "text": [
      "\n",
      "938\n"
     ]
    },
    {
     "name": "stderr",
     "output_type": "stream",
     "text": [
      "05-26 02:07:42 [938] Lr: 0.000003, Training: 100.00%,  Loss: 0.00009, Acc: 100.00%, Recall: 100.00%, F1: 100.00%\r"
     ]
    },
    {
     "name": "stdout",
     "output_type": "stream",
     "text": [
      "\n",
      "939\n"
     ]
    },
    {
     "name": "stderr",
     "output_type": "stream",
     "text": [
      "05-26 02:08:55 [939] Lr: 0.000003, Training: 100.00%,  Loss: 0.00059, Acc: 99.98%, Recall: 99.98%, F1: 99.98%%\r"
     ]
    },
    {
     "name": "stdout",
     "output_type": "stream",
     "text": [
      "\n",
      "940\n"
     ]
    },
    {
     "name": "stderr",
     "output_type": "stream",
     "text": [
      "05-26 02:10:07 [940] Lr: 0.000003, Training: 100.00%,  Loss: 0.00071, Acc: 99.98%, Recall: 99.99%, F1: 99.97%0%\r"
     ]
    },
    {
     "name": "stdout",
     "output_type": "stream",
     "text": [
      "\n"
     ]
    },
    {
     "name": "stderr",
     "output_type": "stream",
     "text": [
      "100%|███████████████████████████████████████████████████████████████████████████████████████████████████████████| 5100/5100 [01:31<00:00, 55.81it/s]\n"
     ]
    },
    {
     "name": "stdout",
     "output_type": "stream",
     "text": [
      "2024-05-26 02:11:39 940 epoch, Acc 99.98%, Recall 99.99%, F1 99.97%, Val_acc 99.08%, Best_acc 99.33%, Val_recall 99.54%, Best_recall 99.79%, Val_f1  99.03%, Best_f1 99.29%\n",
      "941\n"
     ]
    },
    {
     "name": "stderr",
     "output_type": "stream",
     "text": [
      "05-26 02:12:52 [941] Lr: 0.000003, Training: 100.00%,  Loss: 0.00053, Acc: 99.98%, Recall: 99.97%, F1: 99.98%0%\r"
     ]
    },
    {
     "name": "stdout",
     "output_type": "stream",
     "text": [
      "\n",
      "942\n"
     ]
    },
    {
     "name": "stderr",
     "output_type": "stream",
     "text": [
      "05-26 02:14:04 [942] Lr: 0.000003, Training: 100.00%,  Loss: 0.00045, Acc: 99.99%, Recall: 99.99%, F1: 99.98%%\r"
     ]
    },
    {
     "name": "stdout",
     "output_type": "stream",
     "text": [
      "\n",
      "943\n"
     ]
    },
    {
     "name": "stderr",
     "output_type": "stream",
     "text": [
      "05-26 02:15:17 [943] Lr: 0.000003, Training: 100.00%,  Loss: 0.00108, Acc: 99.97%, Recall: 99.96%, F1: 99.97%%\r"
     ]
    },
    {
     "name": "stdout",
     "output_type": "stream",
     "text": [
      "\n",
      "944\n"
     ]
    },
    {
     "name": "stderr",
     "output_type": "stream",
     "text": [
      "05-26 02:16:30 [944] Lr: 0.000003, Training: 100.00%,  Loss: 0.00040, Acc: 99.99%, Recall: 99.99%, F1: 99.99%0%\r"
     ]
    },
    {
     "name": "stdout",
     "output_type": "stream",
     "text": [
      "\n",
      "945\n"
     ]
    },
    {
     "name": "stderr",
     "output_type": "stream",
     "text": [
      "05-26 02:17:42 [945] Lr: 0.000003, Training: 100.00%,  Loss: 0.00047, Acc: 99.98%, Recall: 99.99%, F1: 99.98%0%\r"
     ]
    },
    {
     "name": "stdout",
     "output_type": "stream",
     "text": [
      "\n"
     ]
    },
    {
     "name": "stderr",
     "output_type": "stream",
     "text": [
      "100%|███████████████████████████████████████████████████████████████████████████████████████████████████████████| 5100/5100 [01:32<00:00, 55.23it/s]\n"
     ]
    },
    {
     "name": "stdout",
     "output_type": "stream",
     "text": [
      "2024-05-26 02:19:15 945 epoch, Acc 99.98%, Recall 99.99%, F1 99.98%, Val_acc 98.76%, Best_acc 99.33%, Val_recall 99.54%, Best_recall 99.79%, Val_f1  98.70%, Best_f1 99.29%\n",
      "946\n"
     ]
    },
    {
     "name": "stderr",
     "output_type": "stream",
     "text": [
      "05-26 02:20:28 [946] Lr: 0.000003, Training: 100.00%,  Loss: 0.00144, Acc: 99.98%, Recall: 99.97%, F1: 99.98%0%\r"
     ]
    },
    {
     "name": "stdout",
     "output_type": "stream",
     "text": [
      "\n",
      "947\n"
     ]
    },
    {
     "name": "stderr",
     "output_type": "stream",
     "text": [
      "05-26 02:21:41 [947] Lr: 0.000003, Training: 100.00%,  Loss: 0.00006, Acc: 100.00%, Recall: 100.00%, F1: 100.00%\r"
     ]
    },
    {
     "name": "stdout",
     "output_type": "stream",
     "text": [
      "\n",
      "948\n"
     ]
    },
    {
     "name": "stderr",
     "output_type": "stream",
     "text": [
      "05-26 02:22:53 [948] Lr: 0.000003, Training: 100.00%,  Loss: 0.00030, Acc: 99.99%, Recall: 99.98%, F1: 99.98%0%\r"
     ]
    },
    {
     "name": "stdout",
     "output_type": "stream",
     "text": [
      "\n",
      "949\n"
     ]
    },
    {
     "name": "stderr",
     "output_type": "stream",
     "text": [
      "05-26 02:24:06 [949] Lr: 0.000003, Training: 100.00%,  Loss: 0.00052, Acc: 99.99%, Recall: 100.00%, F1: 99.99%%\r"
     ]
    },
    {
     "name": "stdout",
     "output_type": "stream",
     "text": [
      "\n",
      "950\n"
     ]
    },
    {
     "name": "stderr",
     "output_type": "stream",
     "text": [
      "05-26 02:25:19 [950] Lr: 0.000003, Training: 100.00%,  Loss: 0.00136, Acc: 99.99%, Recall: 99.98%, F1: 99.99%%\r"
     ]
    },
    {
     "name": "stdout",
     "output_type": "stream",
     "text": [
      "\n"
     ]
    },
    {
     "name": "stderr",
     "output_type": "stream",
     "text": [
      "100%|███████████████████████████████████████████████████████████████████████████████████████████████████████████| 5100/5100 [01:30<00:00, 56.41it/s]\n"
     ]
    },
    {
     "name": "stdout",
     "output_type": "stream",
     "text": [
      "2024-05-26 02:26:50 950 epoch, Acc 99.99%, Recall 99.98%, F1 99.99%, Val_acc 98.92%, Best_acc 99.33%, Val_recall 99.50%, Best_recall 99.79%, Val_f1  98.86%, Best_f1 99.29%\n",
      "951\n"
     ]
    },
    {
     "name": "stderr",
     "output_type": "stream",
     "text": [
      "05-26 02:28:03 [951] Lr: 0.000003, Training: 100.00%,  Loss: 0.00057, Acc: 99.98%, Recall: 99.98%, F1: 99.98%%\r"
     ]
    },
    {
     "name": "stdout",
     "output_type": "stream",
     "text": [
      "\n",
      "952\n"
     ]
    },
    {
     "name": "stderr",
     "output_type": "stream",
     "text": [
      "05-26 02:29:16 [952] Lr: 0.000003, Training: 100.00%,  Loss: 0.00031, Acc: 99.99%, Recall: 99.99%, F1: 99.99%0%\r"
     ]
    },
    {
     "name": "stdout",
     "output_type": "stream",
     "text": [
      "\n",
      "953\n"
     ]
    },
    {
     "name": "stderr",
     "output_type": "stream",
     "text": [
      "05-26 02:30:28 [953] Lr: 0.000003, Training: 100.00%,  Loss: 0.00034, Acc: 99.99%, Recall: 99.99%, F1: 99.99%0%\r"
     ]
    },
    {
     "name": "stdout",
     "output_type": "stream",
     "text": [
      "\n",
      "954\n"
     ]
    },
    {
     "name": "stderr",
     "output_type": "stream",
     "text": [
      "05-26 02:31:41 [954] Lr: 0.000003, Training: 100.00%,  Loss: 0.00095, Acc: 99.98%, Recall: 99.97%, F1: 99.98%0%\r"
     ]
    },
    {
     "name": "stdout",
     "output_type": "stream",
     "text": [
      "\n",
      "955\n"
     ]
    },
    {
     "name": "stderr",
     "output_type": "stream",
     "text": [
      "05-26 02:32:54 [955] Lr: 0.000003, Training: 100.00%,  Loss: 0.00045, Acc: 99.97%, Recall: 99.97%, F1: 99.97%%\r"
     ]
    },
    {
     "name": "stdout",
     "output_type": "stream",
     "text": [
      "\n"
     ]
    },
    {
     "name": "stderr",
     "output_type": "stream",
     "text": [
      "100%|███████████████████████████████████████████████████████████████████████████████████████████████████████████| 5100/5100 [01:31<00:00, 56.02it/s]\n"
     ]
    },
    {
     "name": "stdout",
     "output_type": "stream",
     "text": [
      "2024-05-26 02:34:26 955 epoch, Acc 99.97%, Recall 99.97%, F1 99.97%, Val_acc 99.20%, Best_acc 99.33%, Val_recall 99.58%, Best_recall 99.79%, Val_f1  99.15%, Best_f1 99.29%\n",
      "956\n"
     ]
    },
    {
     "name": "stderr",
     "output_type": "stream",
     "text": [
      "05-26 02:35:39 [956] Lr: 0.000003, Training: 100.00%,  Loss: 0.00057, Acc: 100.00%, Recall: 99.99%, F1: 100.00%\r"
     ]
    },
    {
     "name": "stdout",
     "output_type": "stream",
     "text": [
      "\n",
      "957\n"
     ]
    },
    {
     "name": "stderr",
     "output_type": "stream",
     "text": [
      "05-26 02:36:52 [957] Lr: 0.000003, Training: 100.00%,  Loss: 0.00039, Acc: 99.98%, Recall: 99.98%, F1: 99.98%0%\r"
     ]
    },
    {
     "name": "stdout",
     "output_type": "stream",
     "text": [
      "\n",
      "958\n"
     ]
    },
    {
     "name": "stderr",
     "output_type": "stream",
     "text": [
      "05-26 02:38:05 [958] Lr: 0.000003, Training: 100.00%,  Loss: 0.00045, Acc: 99.98%, Recall: 99.96%, F1: 99.98%0%\r"
     ]
    },
    {
     "name": "stdout",
     "output_type": "stream",
     "text": [
      "\n",
      "959\n"
     ]
    },
    {
     "name": "stderr",
     "output_type": "stream",
     "text": [
      "05-26 02:39:19 [959] Lr: 0.000003, Training: 100.00%,  Loss: 0.00053, Acc: 99.98%, Recall: 99.97%, F1: 99.98%0%\r"
     ]
    },
    {
     "name": "stdout",
     "output_type": "stream",
     "text": [
      "\n",
      "960\n"
     ]
    },
    {
     "name": "stderr",
     "output_type": "stream",
     "text": [
      "05-26 02:40:32 [960] Lr: 0.000003, Training: 100.00%,  Loss: 0.00029, Acc: 100.00%, Recall: 100.00%, F1: 99.99%\r"
     ]
    },
    {
     "name": "stdout",
     "output_type": "stream",
     "text": [
      "\n"
     ]
    },
    {
     "name": "stderr",
     "output_type": "stream",
     "text": [
      "100%|███████████████████████████████████████████████████████████████████████████████████████████████████████████| 5100/5100 [01:31<00:00, 55.47it/s]\n"
     ]
    },
    {
     "name": "stdout",
     "output_type": "stream",
     "text": [
      "2024-05-26 02:42:04 960 epoch, Acc 100.00%, Recall 100.00%, F1 99.99%, Val_acc 99.24%, Best_acc 99.33%, Val_recall 99.54%, Best_recall 99.79%, Val_f1  99.19%, Best_f1 99.29%\n",
      "961\n"
     ]
    },
    {
     "name": "stderr",
     "output_type": "stream",
     "text": [
      "05-26 02:43:17 [961] Lr: 0.000003, Training: 100.00%,  Loss: 0.00046, Acc: 99.98%, Recall: 99.98%, F1: 99.98%%\r"
     ]
    },
    {
     "name": "stdout",
     "output_type": "stream",
     "text": [
      "\n",
      "962\n"
     ]
    },
    {
     "name": "stderr",
     "output_type": "stream",
     "text": [
      "05-26 02:44:30 [962] Lr: 0.000003, Training: 100.00%,  Loss: 0.00033, Acc: 99.99%, Recall: 99.99%, F1: 99.98%%\r"
     ]
    },
    {
     "name": "stdout",
     "output_type": "stream",
     "text": [
      "\n",
      "963\n"
     ]
    },
    {
     "name": "stderr",
     "output_type": "stream",
     "text": [
      "05-26 02:45:43 [963] Lr: 0.000003, Training: 100.00%,  Loss: 0.00037, Acc: 99.98%, Recall: 99.99%, F1: 99.98%%\r"
     ]
    },
    {
     "name": "stdout",
     "output_type": "stream",
     "text": [
      "\n",
      "964\n"
     ]
    },
    {
     "name": "stderr",
     "output_type": "stream",
     "text": [
      "05-26 02:46:56 [964] Lr: 0.000003, Training: 100.00%,  Loss: 0.00034, Acc: 100.00%, Recall: 100.00%, F1: 99.99%\r"
     ]
    },
    {
     "name": "stdout",
     "output_type": "stream",
     "text": [
      "\n",
      "965\n"
     ]
    },
    {
     "name": "stderr",
     "output_type": "stream",
     "text": [
      "05-26 02:48:08 [965] Lr: 0.000003, Training: 100.00%,  Loss: 0.00039, Acc: 99.98%, Recall: 99.99%, F1: 99.98%0%\r"
     ]
    },
    {
     "name": "stdout",
     "output_type": "stream",
     "text": [
      "\n"
     ]
    },
    {
     "name": "stderr",
     "output_type": "stream",
     "text": [
      "100%|███████████████████████████████████████████████████████████████████████████████████████████████████████████| 5100/5100 [01:30<00:00, 56.58it/s]\n"
     ]
    },
    {
     "name": "stdout",
     "output_type": "stream",
     "text": [
      "2024-05-26 02:49:39 965 epoch, Acc 99.98%, Recall 99.99%, F1 99.98%, Val_acc 98.96%, Best_acc 99.33%, Val_recall 99.50%, Best_recall 99.79%, Val_f1  98.90%, Best_f1 99.29%\n",
      "966\n"
     ]
    },
    {
     "name": "stderr",
     "output_type": "stream",
     "text": [
      "05-26 02:50:52 [966] Lr: 0.000003, Training: 100.00%,  Loss: 0.00023, Acc: 100.00%, Recall: 100.00%, F1: 99.99%\r"
     ]
    },
    {
     "name": "stdout",
     "output_type": "stream",
     "text": [
      "\n",
      "967\n"
     ]
    },
    {
     "name": "stderr",
     "output_type": "stream",
     "text": [
      "05-26 02:52:05 [967] Lr: 0.000003, Training: 100.00%,  Loss: 0.00056, Acc: 99.98%, Recall: 99.99%, F1: 99.98%%\r"
     ]
    },
    {
     "name": "stdout",
     "output_type": "stream",
     "text": [
      "\n",
      "968\n"
     ]
    },
    {
     "name": "stderr",
     "output_type": "stream",
     "text": [
      "05-26 02:53:17 [968] Lr: 0.000003, Training: 100.00%,  Loss: 0.00026, Acc: 99.99%, Recall: 99.99%, F1: 99.99%0%\r"
     ]
    },
    {
     "name": "stdout",
     "output_type": "stream",
     "text": [
      "\n",
      "969\n"
     ]
    },
    {
     "name": "stderr",
     "output_type": "stream",
     "text": [
      "05-26 02:54:30 [969] Lr: 0.000003, Training: 100.00%,  Loss: 0.00051, Acc: 99.98%, Recall: 99.96%, F1: 99.98%0%\r"
     ]
    },
    {
     "name": "stdout",
     "output_type": "stream",
     "text": [
      "\n",
      "970\n"
     ]
    },
    {
     "name": "stderr",
     "output_type": "stream",
     "text": [
      "05-26 02:55:42 [970] Lr: 0.000003, Training: 100.00%,  Loss: 0.00022, Acc: 100.00%, Recall: 99.99%, F1: 99.99%%\r"
     ]
    },
    {
     "name": "stdout",
     "output_type": "stream",
     "text": [
      "\n"
     ]
    },
    {
     "name": "stderr",
     "output_type": "stream",
     "text": [
      "100%|███████████████████████████████████████████████████████████████████████████████████████████████████████████| 5100/5100 [01:32<00:00, 54.88it/s]\n"
     ]
    },
    {
     "name": "stdout",
     "output_type": "stream",
     "text": [
      "2024-05-26 02:57:16 970 epoch, Acc 100.00%, Recall 99.99%, F1 99.99%, Val_acc 99.25%, Best_acc 99.33%, Val_recall 99.58%, Best_recall 99.79%, Val_f1  99.21%, Best_f1 99.29%\n",
      "971\n"
     ]
    },
    {
     "name": "stderr",
     "output_type": "stream",
     "text": [
      "05-26 02:58:29 [971] Lr: 0.000003, Training: 100.00%,  Loss: 0.00019, Acc: 100.00%, Recall: 100.00%, F1: 99.99%\r"
     ]
    },
    {
     "name": "stdout",
     "output_type": "stream",
     "text": [
      "\n",
      "972\n"
     ]
    },
    {
     "name": "stderr",
     "output_type": "stream",
     "text": [
      "05-26 02:59:42 [972] Lr: 0.000003, Training: 100.00%,  Loss: 0.00072, Acc: 99.98%, Recall: 99.97%, F1: 99.98%0%\r"
     ]
    },
    {
     "name": "stdout",
     "output_type": "stream",
     "text": [
      "\n",
      "973\n"
     ]
    },
    {
     "name": "stderr",
     "output_type": "stream",
     "text": [
      "05-26 03:00:55 [973] Lr: 0.000003, Training: 100.00%,  Loss: 0.00033, Acc: 99.99%, Recall: 99.99%, F1: 99.99%0%\r"
     ]
    },
    {
     "name": "stdout",
     "output_type": "stream",
     "text": [
      "\n",
      "974\n"
     ]
    },
    {
     "name": "stderr",
     "output_type": "stream",
     "text": [
      "05-26 03:02:08 [974] Lr: 0.000003, Training: 100.00%,  Loss: 0.00033, Acc: 99.99%, Recall: 99.99%, F1: 99.99%0%\r"
     ]
    },
    {
     "name": "stdout",
     "output_type": "stream",
     "text": [
      "\n",
      "975\n"
     ]
    },
    {
     "name": "stderr",
     "output_type": "stream",
     "text": [
      "05-26 03:03:21 [975] Lr: 0.000003, Training: 100.00%,  Loss: 0.00027, Acc: 99.99%, Recall: 99.99%, F1: 99.98%0%\r"
     ]
    },
    {
     "name": "stdout",
     "output_type": "stream",
     "text": [
      "\n"
     ]
    },
    {
     "name": "stderr",
     "output_type": "stream",
     "text": [
      "100%|███████████████████████████████████████████████████████████████████████████████████████████████████████████| 5100/5100 [01:30<00:00, 56.15it/s]\n"
     ]
    },
    {
     "name": "stdout",
     "output_type": "stream",
     "text": [
      "2024-05-26 03:04:53 975 epoch, Acc 99.99%, Recall 99.99%, F1 99.98%, Val_acc 99.20%, Best_acc 99.33%, Val_recall 99.54%, Best_recall 99.79%, Val_f1  99.15%, Best_f1 99.29%\n",
      "976\n"
     ]
    },
    {
     "name": "stderr",
     "output_type": "stream",
     "text": [
      "05-26 03:06:06 [976] Lr: 0.000003, Training: 100.00%,  Loss: 0.00044, Acc: 100.00%, Recall: 100.00%, F1: 99.99%\r"
     ]
    },
    {
     "name": "stdout",
     "output_type": "stream",
     "text": [
      "\n",
      "977\n"
     ]
    },
    {
     "name": "stderr",
     "output_type": "stream",
     "text": [
      "05-26 03:07:19 [977] Lr: 0.000003, Training: 100.00%,  Loss: 0.00056, Acc: 99.99%, Recall: 100.00%, F1: 99.99%%\r"
     ]
    },
    {
     "name": "stdout",
     "output_type": "stream",
     "text": [
      "\n",
      "978\n"
     ]
    },
    {
     "name": "stderr",
     "output_type": "stream",
     "text": [
      "05-26 03:08:31 [978] Lr: 0.000003, Training: 100.00%,  Loss: 0.00080, Acc: 99.97%, Recall: 99.95%, F1: 99.96%0%\r"
     ]
    },
    {
     "name": "stdout",
     "output_type": "stream",
     "text": [
      "\n",
      "979\n"
     ]
    },
    {
     "name": "stderr",
     "output_type": "stream",
     "text": [
      "05-26 03:09:44 [979] Lr: 0.000003, Training: 100.00%,  Loss: 0.00075, Acc: 99.99%, Recall: 99.97%, F1: 99.98%0%\r"
     ]
    },
    {
     "name": "stdout",
     "output_type": "stream",
     "text": [
      "\n",
      "980\n"
     ]
    },
    {
     "name": "stderr",
     "output_type": "stream",
     "text": [
      "05-26 03:10:57 [980] Lr: 0.000003, Training: 100.00%,  Loss: 0.00022, Acc: 99.99%, Recall: 99.99%, F1: 99.99%0%\r"
     ]
    },
    {
     "name": "stdout",
     "output_type": "stream",
     "text": [
      "\n"
     ]
    },
    {
     "name": "stderr",
     "output_type": "stream",
     "text": [
      "100%|███████████████████████████████████████████████████████████████████████████████████████████████████████████| 5100/5100 [01:31<00:00, 56.00it/s]\n"
     ]
    },
    {
     "name": "stdout",
     "output_type": "stream",
     "text": [
      "2024-05-26 03:12:29 980 epoch, Acc 99.99%, Recall 99.99%, F1 99.99%, Val_acc 99.25%, Best_acc 99.33%, Val_recall 99.54%, Best_recall 99.79%, Val_f1  99.21%, Best_f1 99.29%\n",
      "981\n"
     ]
    },
    {
     "name": "stderr",
     "output_type": "stream",
     "text": [
      "05-26 03:13:42 [981] Lr: 0.000003, Training: 100.00%,  Loss: 0.00026, Acc: 99.99%, Recall: 99.98%, F1: 99.98%0%\r"
     ]
    },
    {
     "name": "stdout",
     "output_type": "stream",
     "text": [
      "\n",
      "982\n"
     ]
    },
    {
     "name": "stderr",
     "output_type": "stream",
     "text": [
      "05-26 03:14:55 [982] Lr: 0.000003, Training: 100.00%,  Loss: 0.00021, Acc: 100.00%, Recall: 100.00%, F1: 99.99%\r"
     ]
    },
    {
     "name": "stdout",
     "output_type": "stream",
     "text": [
      "\n",
      "983\n"
     ]
    },
    {
     "name": "stderr",
     "output_type": "stream",
     "text": [
      "05-26 03:16:08 [983] Lr: 0.000003, Training: 100.00%,  Loss: 0.00016, Acc: 99.99%, Recall: 100.00%, F1: 99.99%\r"
     ]
    },
    {
     "name": "stdout",
     "output_type": "stream",
     "text": [
      "\n",
      "984\n"
     ]
    },
    {
     "name": "stderr",
     "output_type": "stream",
     "text": [
      "05-26 03:17:21 [984] Lr: 0.000003, Training: 100.00%,  Loss: 0.00025, Acc: 99.99%, Recall: 99.98%, F1: 99.98%0%\r"
     ]
    },
    {
     "name": "stdout",
     "output_type": "stream",
     "text": [
      "\n",
      "985\n"
     ]
    },
    {
     "name": "stderr",
     "output_type": "stream",
     "text": [
      "05-26 03:18:34 [985] Lr: 0.000003, Training: 100.00%,  Loss: 0.00057, Acc: 99.97%, Recall: 99.96%, F1: 99.97%0%\r"
     ]
    },
    {
     "name": "stdout",
     "output_type": "stream",
     "text": [
      "\n"
     ]
    },
    {
     "name": "stderr",
     "output_type": "stream",
     "text": [
      "100%|███████████████████████████████████████████████████████████████████████████████████████████████████████████| 5100/5100 [01:30<00:00, 56.46it/s]\n"
     ]
    },
    {
     "name": "stdout",
     "output_type": "stream",
     "text": [
      "2024-05-26 03:20:04 985 epoch, Acc 99.97%, Recall 99.96%, F1 99.97%, Val_acc 99.22%, Best_acc 99.33%, Val_recall 99.58%, Best_recall 99.79%, Val_f1  99.17%, Best_f1 99.29%\n",
      "986\n"
     ]
    },
    {
     "name": "stderr",
     "output_type": "stream",
     "text": [
      "05-26 03:21:17 [986] Lr: 0.000002, Training: 100.00%,  Loss: 0.00052, Acc: 99.97%, Recall: 99.99%, F1: 99.97%%\r"
     ]
    },
    {
     "name": "stdout",
     "output_type": "stream",
     "text": [
      "\n",
      "987\n"
     ]
    },
    {
     "name": "stderr",
     "output_type": "stream",
     "text": [
      "05-26 03:22:30 [987] Lr: 0.000002, Training: 100.00%,  Loss: 0.00017, Acc: 99.99%, Recall: 100.00%, F1: 99.99%%\r"
     ]
    },
    {
     "name": "stdout",
     "output_type": "stream",
     "text": [
      "\n",
      "988\n"
     ]
    },
    {
     "name": "stderr",
     "output_type": "stream",
     "text": [
      "05-26 03:23:43 [988] Lr: 0.000002, Training: 100.00%,  Loss: 0.00010, Acc: 100.00%, Recall: 100.00%, F1: 100.00%\r"
     ]
    },
    {
     "name": "stdout",
     "output_type": "stream",
     "text": [
      "\n",
      "989\n"
     ]
    },
    {
     "name": "stderr",
     "output_type": "stream",
     "text": [
      "05-26 03:24:56 [989] Lr: 0.000002, Training: 100.00%,  Loss: 0.00030, Acc: 99.98%, Recall: 99.98%, F1: 99.98%0%\r"
     ]
    },
    {
     "name": "stdout",
     "output_type": "stream",
     "text": [
      "\n",
      "990\n"
     ]
    },
    {
     "name": "stderr",
     "output_type": "stream",
     "text": [
      "05-26 03:26:09 [990] Lr: 0.000002, Training: 100.00%,  Loss: 0.00036, Acc: 99.98%, Recall: 99.97%, F1: 99.98%%\r"
     ]
    },
    {
     "name": "stdout",
     "output_type": "stream",
     "text": [
      "\n"
     ]
    },
    {
     "name": "stderr",
     "output_type": "stream",
     "text": [
      "100%|███████████████████████████████████████████████████████████████████████████████████████████████████████████| 5100/5100 [01:28<00:00, 57.47it/s]\n"
     ]
    },
    {
     "name": "stdout",
     "output_type": "stream",
     "text": [
      "2024-05-26 03:27:38 990 epoch, Acc 99.98%, Recall 99.97%, F1 99.98%, Val_acc 99.27%, Best_acc 99.33%, Val_recall 99.54%, Best_recall 99.79%, Val_f1  99.23%, Best_f1 99.29%\n",
      "991\n"
     ]
    },
    {
     "name": "stderr",
     "output_type": "stream",
     "text": [
      "05-26 03:28:51 [991] Lr: 0.000002, Training: 100.00%,  Loss: 0.00075, Acc: 99.99%, Recall: 99.98%, F1: 99.99%0%\r"
     ]
    },
    {
     "name": "stdout",
     "output_type": "stream",
     "text": [
      "\n",
      "992\n"
     ]
    },
    {
     "name": "stderr",
     "output_type": "stream",
     "text": [
      "05-26 03:30:04 [992] Lr: 0.000002, Training: 100.00%,  Loss: 0.00025, Acc: 99.99%, Recall: 99.98%, F1: 99.99%0%\r"
     ]
    },
    {
     "name": "stdout",
     "output_type": "stream",
     "text": [
      "\n",
      "993\n"
     ]
    },
    {
     "name": "stderr",
     "output_type": "stream",
     "text": [
      "05-26 03:31:16 [993] Lr: 0.000002, Training: 100.00%,  Loss: 0.00043, Acc: 99.99%, Recall: 99.99%, F1: 99.99%0%\r"
     ]
    },
    {
     "name": "stdout",
     "output_type": "stream",
     "text": [
      "\n",
      "994\n"
     ]
    },
    {
     "name": "stderr",
     "output_type": "stream",
     "text": [
      "05-26 03:32:29 [994] Lr: 0.000002, Training: 100.00%,  Loss: 0.00030, Acc: 100.00%, Recall: 99.99%, F1: 99.99%%\r"
     ]
    },
    {
     "name": "stdout",
     "output_type": "stream",
     "text": [
      "\n",
      "995\n"
     ]
    },
    {
     "name": "stderr",
     "output_type": "stream",
     "text": [
      "05-26 03:33:42 [995] Lr: 0.000002, Training: 100.00%,  Loss: 0.00019, Acc: 100.00%, Recall: 100.00%, F1: 100.00%\r"
     ]
    },
    {
     "name": "stdout",
     "output_type": "stream",
     "text": [
      "\n"
     ]
    },
    {
     "name": "stderr",
     "output_type": "stream",
     "text": [
      "100%|███████████████████████████████████████████████████████████████████████████████████████████████████████████| 5100/5100 [01:30<00:00, 56.23it/s]\n"
     ]
    },
    {
     "name": "stdout",
     "output_type": "stream",
     "text": [
      "2024-05-26 03:35:13 995 epoch, Acc 100.00%, Recall 100.00%, F1 100.00%, Val_acc 99.22%, Best_acc 99.33%, Val_recall 99.58%, Best_recall 99.79%, Val_f1  99.17%, Best_f1 99.29%\n",
      "996\n"
     ]
    },
    {
     "name": "stderr",
     "output_type": "stream",
     "text": [
      "05-26 03:36:41 [996] Lr: 0.000002, Training: 100.00%,  Loss: 0.00110, Acc: 99.98%, Recall: 100.00%, F1: 99.97%\r"
     ]
    },
    {
     "name": "stdout",
     "output_type": "stream",
     "text": [
      "\n",
      "997\n"
     ]
    },
    {
     "name": "stderr",
     "output_type": "stream",
     "text": [
      "05-26 03:39:22 [997] Lr: 0.000002, Training: 100.00%,  Loss: 0.00036, Acc: 99.98%, Recall: 99.98%, F1: 99.98%0%\r"
     ]
    },
    {
     "name": "stdout",
     "output_type": "stream",
     "text": [
      "\n",
      "998\n"
     ]
    },
    {
     "name": "stderr",
     "output_type": "stream",
     "text": [
      "05-26 03:40:38 [998] Lr: 0.000002, Training: 100.00%,  Loss: 0.00040, Acc: 99.98%, Recall: 99.98%, F1: 99.98%0%\r"
     ]
    },
    {
     "name": "stdout",
     "output_type": "stream",
     "text": [
      "\n",
      "999\n"
     ]
    },
    {
     "name": "stderr",
     "output_type": "stream",
     "text": [
      "05-26 03:41:51 [999] Lr: 0.000002, Training: 100.00%,  Loss: 0.00020, Acc: 100.00%, Recall: 100.00%, F1: 99.99%\r"
     ]
    },
    {
     "name": "stdout",
     "output_type": "stream",
     "text": [
      "\n",
      "1000\n"
     ]
    },
    {
     "name": "stderr",
     "output_type": "stream",
     "text": [
      "05-26 03:43:04 [1000] Lr: 0.000002, Training: 100.00%,  Loss: 0.00035, Acc: 100.00%, Recall: 99.99%, F1: 99.99%%\r"
     ]
    },
    {
     "name": "stdout",
     "output_type": "stream",
     "text": [
      "\n"
     ]
    },
    {
     "name": "stderr",
     "output_type": "stream",
     "text": [
      "100%|███████████████████████████████████████████████████████████████████████████████████████████████████████████| 5100/5100 [02:56<00:00, 28.98it/s]\n"
     ]
    },
    {
     "name": "stdout",
     "output_type": "stream",
     "text": [
      "2024-05-26 03:46:01 1000 epoch, Acc 100.00%, Recall 99.99%, F1 99.99%, Val_acc 99.33%, Best_acc 99.33%, Val_recall 99.58%, Best_recall 99.79%, Val_f1  99.29%, Best_f1 99.29%\n",
      "1001\n"
     ]
    },
    {
     "name": "stderr",
     "output_type": "stream",
     "text": [
      "05-26 03:47:14 [1001] Lr: 0.000002, Training: 100.00%,  Loss: 0.00023, Acc: 99.99%, Recall: 99.98%, F1: 99.99%0%\r"
     ]
    },
    {
     "name": "stdout",
     "output_type": "stream",
     "text": [
      "\n",
      "1002\n"
     ]
    },
    {
     "name": "stderr",
     "output_type": "stream",
     "text": [
      "05-26 03:48:27 [1002] Lr: 0.000002, Training: 100.00%,  Loss: 0.00026, Acc: 99.99%, Recall: 99.99%, F1: 99.99%0%\r"
     ]
    },
    {
     "name": "stdout",
     "output_type": "stream",
     "text": [
      "\n",
      "1003\n"
     ]
    },
    {
     "name": "stderr",
     "output_type": "stream",
     "text": [
      "05-26 03:49:40 [1003] Lr: 0.000002, Training: 100.00%,  Loss: 0.00027, Acc: 99.99%, Recall: 99.99%, F1: 99.99%0%\r"
     ]
    },
    {
     "name": "stdout",
     "output_type": "stream",
     "text": [
      "\n",
      "1004\n"
     ]
    },
    {
     "name": "stderr",
     "output_type": "stream",
     "text": [
      "05-26 03:50:53 [1004] Lr: 0.000002, Training: 100.00%,  Loss: 0.00028, Acc: 100.00%, Recall: 100.00%, F1: 100.00%\r"
     ]
    },
    {
     "name": "stdout",
     "output_type": "stream",
     "text": [
      "\n",
      "1005\n"
     ]
    },
    {
     "name": "stderr",
     "output_type": "stream",
     "text": [
      "05-26 03:52:06 [1005] Lr: 0.000002, Training: 100.00%,  Loss: 0.00011, Acc: 100.00%, Recall: 99.99%, F1: 99.99%%\r"
     ]
    },
    {
     "name": "stdout",
     "output_type": "stream",
     "text": [
      "\n"
     ]
    },
    {
     "name": "stderr",
     "output_type": "stream",
     "text": [
      "100%|███████████████████████████████████████████████████████████████████████████████████████████████████████████| 5100/5100 [01:29<00:00, 57.13it/s]\n"
     ]
    },
    {
     "name": "stdout",
     "output_type": "stream",
     "text": [
      "2024-05-26 03:53:36 1005 epoch, Acc 100.00%, Recall 99.99%, F1 99.99%, Val_acc 99.00%, Best_acc 99.33%, Val_recall 99.58%, Best_recall 99.79%, Val_f1  98.94%, Best_f1 99.29%\n",
      "1006\n"
     ]
    },
    {
     "name": "stderr",
     "output_type": "stream",
     "text": [
      "05-26 03:54:48 [1006] Lr: 0.000002, Training: 100.00%,  Loss: 0.00021, Acc: 100.00%, Recall: 100.00%, F1: 100.00%\r"
     ]
    },
    {
     "name": "stdout",
     "output_type": "stream",
     "text": [
      "\n",
      "1007\n"
     ]
    },
    {
     "name": "stderr",
     "output_type": "stream",
     "text": [
      "05-26 03:56:01 [1007] Lr: 0.000002, Training: 100.00%,  Loss: 0.00046, Acc: 99.99%, Recall: 99.98%, F1: 99.99%%\r"
     ]
    },
    {
     "name": "stdout",
     "output_type": "stream",
     "text": [
      "\n",
      "1008\n"
     ]
    },
    {
     "name": "stderr",
     "output_type": "stream",
     "text": [
      "05-26 03:57:14 [1008] Lr: 0.000002, Training: 100.00%,  Loss: 0.00015, Acc: 99.99%, Recall: 99.98%, F1: 99.99%0%\r"
     ]
    },
    {
     "name": "stdout",
     "output_type": "stream",
     "text": [
      "\n",
      "1009\n"
     ]
    },
    {
     "name": "stderr",
     "output_type": "stream",
     "text": [
      "05-26 03:58:27 [1009] Lr: 0.000002, Training: 100.00%,  Loss: 0.00038, Acc: 99.99%, Recall: 100.00%, F1: 99.99%\r"
     ]
    },
    {
     "name": "stdout",
     "output_type": "stream",
     "text": [
      "\n",
      "1010\n"
     ]
    },
    {
     "name": "stderr",
     "output_type": "stream",
     "text": [
      "05-26 03:59:40 [1010] Lr: 0.000002, Training: 100.00%,  Loss: 0.00094, Acc: 99.97%, Recall: 99.95%, F1: 99.96%0%\r"
     ]
    },
    {
     "name": "stdout",
     "output_type": "stream",
     "text": [
      "\n"
     ]
    },
    {
     "name": "stderr",
     "output_type": "stream",
     "text": [
      "100%|███████████████████████████████████████████████████████████████████████████████████████████████████████████| 5100/5100 [01:31<00:00, 55.56it/s]\n"
     ]
    },
    {
     "name": "stdout",
     "output_type": "stream",
     "text": [
      "2024-05-26 04:01:12 1010 epoch, Acc 99.97%, Recall 99.95%, F1 99.96%, Val_acc 99.27%, Best_acc 99.33%, Val_recall 99.58%, Best_recall 99.79%, Val_f1  99.23%, Best_f1 99.29%\n",
      "1011\n"
     ]
    },
    {
     "name": "stderr",
     "output_type": "stream",
     "text": [
      "05-26 04:02:25 [1011] Lr: 0.000002, Training: 100.00%,  Loss: 0.00115, Acc: 99.96%, Recall: 99.97%, F1: 99.96%%\r"
     ]
    },
    {
     "name": "stdout",
     "output_type": "stream",
     "text": [
      "\n",
      "1012\n"
     ]
    },
    {
     "name": "stderr",
     "output_type": "stream",
     "text": [
      "05-26 04:03:38 [1012] Lr: 0.000002, Training: 100.00%,  Loss: 0.00031, Acc: 99.99%, Recall: 100.00%, F1: 99.98%%\r"
     ]
    },
    {
     "name": "stdout",
     "output_type": "stream",
     "text": [
      "\n",
      "1013\n"
     ]
    },
    {
     "name": "stderr",
     "output_type": "stream",
     "text": [
      "05-26 04:04:51 [1013] Lr: 0.000002, Training: 100.00%,  Loss: 0.00022, Acc: 99.99%, Recall: 99.99%, F1: 99.99%0%\r"
     ]
    },
    {
     "name": "stdout",
     "output_type": "stream",
     "text": [
      "\n",
      "1014\n"
     ]
    },
    {
     "name": "stderr",
     "output_type": "stream",
     "text": [
      "05-26 04:06:04 [1014] Lr: 0.000002, Training: 100.00%,  Loss: 0.00032, Acc: 99.99%, Recall: 100.00%, F1: 99.99%%\r"
     ]
    },
    {
     "name": "stdout",
     "output_type": "stream",
     "text": [
      "\n",
      "1015\n"
     ]
    },
    {
     "name": "stderr",
     "output_type": "stream",
     "text": [
      "05-26 04:07:17 [1015] Lr: 0.000002, Training: 100.00%,  Loss: 0.00014, Acc: 100.00%, Recall: 100.00%, F1: 100.00%\r"
     ]
    },
    {
     "name": "stdout",
     "output_type": "stream",
     "text": [
      "\n"
     ]
    },
    {
     "name": "stderr",
     "output_type": "stream",
     "text": [
      "100%|███████████████████████████████████████████████████████████████████████████████████████████████████████████| 5100/5100 [01:29<00:00, 56.77it/s]\n"
     ]
    },
    {
     "name": "stdout",
     "output_type": "stream",
     "text": [
      "2024-05-26 04:08:47 1015 epoch, Acc 100.00%, Recall 100.00%, F1 100.00%, Val_acc 99.24%, Best_acc 99.33%, Val_recall 99.50%, Best_recall 99.79%, Val_f1  99.19%, Best_f1 99.29%\n",
      "1016\n"
     ]
    },
    {
     "name": "stderr",
     "output_type": "stream",
     "text": [
      "05-26 04:10:00 [1016] Lr: 0.000002, Training: 100.00%,  Loss: 0.00025, Acc: 100.00%, Recall: 99.99%, F1: 100.00%\r"
     ]
    },
    {
     "name": "stdout",
     "output_type": "stream",
     "text": [
      "\n",
      "1017\n"
     ]
    },
    {
     "name": "stderr",
     "output_type": "stream",
     "text": [
      "05-26 04:11:13 [1017] Lr: 0.000002, Training: 100.00%,  Loss: 0.00056, Acc: 99.98%, Recall: 99.98%, F1: 99.98%0%\r"
     ]
    },
    {
     "name": "stdout",
     "output_type": "stream",
     "text": [
      "\n",
      "1018\n"
     ]
    },
    {
     "name": "stderr",
     "output_type": "stream",
     "text": [
      "05-26 04:12:26 [1018] Lr: 0.000002, Training: 100.00%,  Loss: 0.00021, Acc: 99.99%, Recall: 99.97%, F1: 99.99%0%\r"
     ]
    },
    {
     "name": "stdout",
     "output_type": "stream",
     "text": [
      "\n",
      "1019\n"
     ]
    },
    {
     "name": "stderr",
     "output_type": "stream",
     "text": [
      "05-26 04:13:38 [1019] Lr: 0.000002, Training: 100.00%,  Loss: 0.00018, Acc: 100.00%, Recall: 100.00%, F1: 100.00%\r"
     ]
    },
    {
     "name": "stdout",
     "output_type": "stream",
     "text": [
      "\n",
      "1020\n"
     ]
    },
    {
     "name": "stderr",
     "output_type": "stream",
     "text": [
      "05-26 04:14:51 [1020] Lr: 0.000002, Training: 100.00%,  Loss: 0.00030, Acc: 99.99%, Recall: 99.98%, F1: 99.99%0%\r"
     ]
    },
    {
     "name": "stdout",
     "output_type": "stream",
     "text": [
      "\n"
     ]
    },
    {
     "name": "stderr",
     "output_type": "stream",
     "text": [
      "100%|███████████████████████████████████████████████████████████████████████████████████████████████████████████| 5100/5100 [01:29<00:00, 56.79it/s]\n"
     ]
    },
    {
     "name": "stdout",
     "output_type": "stream",
     "text": [
      "2024-05-26 04:16:22 1020 epoch, Acc 99.99%, Recall 99.98%, F1 99.99%, Val_acc 99.08%, Best_acc 99.33%, Val_recall 99.46%, Best_recall 99.79%, Val_f1  99.02%, Best_f1 99.29%\n",
      "1021\n"
     ]
    },
    {
     "name": "stderr",
     "output_type": "stream",
     "text": [
      "05-26 04:17:34 [1021] Lr: 0.000002, Training: 100.00%,  Loss: 0.00120, Acc: 99.98%, Recall: 99.98%, F1: 99.97%0%\r"
     ]
    },
    {
     "name": "stdout",
     "output_type": "stream",
     "text": [
      "\n",
      "1022\n"
     ]
    },
    {
     "name": "stderr",
     "output_type": "stream",
     "text": [
      "05-26 04:18:48 [1022] Lr: 0.000002, Training: 100.00%,  Loss: 0.00038, Acc: 99.99%, Recall: 100.00%, F1: 99.98%%\r"
     ]
    },
    {
     "name": "stdout",
     "output_type": "stream",
     "text": [
      "\n",
      "1023\n"
     ]
    },
    {
     "name": "stderr",
     "output_type": "stream",
     "text": [
      "05-26 04:20:02 [1023] Lr: 0.000002, Training: 100.00%,  Loss: 0.00031, Acc: 99.98%, Recall: 99.96%, F1: 99.98%0%\r"
     ]
    },
    {
     "name": "stdout",
     "output_type": "stream",
     "text": [
      "\n",
      "1024\n"
     ]
    },
    {
     "name": "stderr",
     "output_type": "stream",
     "text": [
      "05-26 04:21:14 [1024] Lr: 0.000002, Training: 100.00%,  Loss: 0.00015, Acc: 100.00%, Recall: 100.00%, F1: 100.00%\r"
     ]
    },
    {
     "name": "stdout",
     "output_type": "stream",
     "text": [
      "\n",
      "1025\n"
     ]
    },
    {
     "name": "stderr",
     "output_type": "stream",
     "text": [
      "05-26 04:22:26 [1025] Lr: 0.000002, Training: 100.00%,  Loss: 0.00012, Acc: 100.00%, Recall: 100.00%, F1: 100.00%\r"
     ]
    },
    {
     "name": "stdout",
     "output_type": "stream",
     "text": [
      "\n"
     ]
    },
    {
     "name": "stderr",
     "output_type": "stream",
     "text": [
      "100%|███████████████████████████████████████████████████████████████████████████████████████████████████████████| 5100/5100 [01:29<00:00, 56.97it/s]\n"
     ]
    },
    {
     "name": "stdout",
     "output_type": "stream",
     "text": [
      "2024-05-26 04:23:56 1025 epoch, Acc 100.00%, Recall 100.00%, F1 100.00%, Val_acc 99.27%, Best_acc 99.33%, Val_recall 99.50%, Best_recall 99.79%, Val_f1  99.23%, Best_f1 99.29%\n",
      "1026\n"
     ]
    },
    {
     "name": "stderr",
     "output_type": "stream",
     "text": [
      "05-26 04:25:08 [1026] Lr: 0.000002, Training: 100.00%,  Loss: 0.00013, Acc: 100.00%, Recall: 100.00%, F1: 100.00%\r"
     ]
    },
    {
     "name": "stdout",
     "output_type": "stream",
     "text": [
      "\n",
      "1027\n"
     ]
    },
    {
     "name": "stderr",
     "output_type": "stream",
     "text": [
      "05-26 04:26:21 [1027] Lr: 0.000002, Training: 100.00%,  Loss: 0.00024, Acc: 99.99%, Recall: 99.98%, F1: 99.99%0%\r"
     ]
    },
    {
     "name": "stdout",
     "output_type": "stream",
     "text": [
      "\n",
      "1028\n"
     ]
    },
    {
     "name": "stderr",
     "output_type": "stream",
     "text": [
      "05-26 04:27:33 [1028] Lr: 0.000002, Training: 100.00%,  Loss: 0.00012, Acc: 100.00%, Recall: 100.00%, F1: 100.00%\r"
     ]
    },
    {
     "name": "stdout",
     "output_type": "stream",
     "text": [
      "\n",
      "1029\n"
     ]
    },
    {
     "name": "stderr",
     "output_type": "stream",
     "text": [
      "05-26 04:28:46 [1029] Lr: 0.000002, Training: 100.00%,  Loss: 0.00054, Acc: 99.99%, Recall: 99.99%, F1: 99.98%0%\r"
     ]
    },
    {
     "name": "stdout",
     "output_type": "stream",
     "text": [
      "\n",
      "1030\n"
     ]
    },
    {
     "name": "stderr",
     "output_type": "stream",
     "text": [
      "05-26 04:29:58 [1030] Lr: 0.000002, Training: 100.00%,  Loss: 0.00045, Acc: 99.99%, Recall: 100.00%, F1: 99.99%\r"
     ]
    },
    {
     "name": "stdout",
     "output_type": "stream",
     "text": [
      "\n"
     ]
    },
    {
     "name": "stderr",
     "output_type": "stream",
     "text": [
      "100%|███████████████████████████████████████████████████████████████████████████████████████████████████████████| 5100/5100 [01:30<00:00, 56.53it/s]\n"
     ]
    },
    {
     "name": "stdout",
     "output_type": "stream",
     "text": [
      "2024-05-26 04:31:29 1030 epoch, Acc 99.99%, Recall 100.00%, F1 99.99%, Val_acc 98.92%, Best_acc 99.33%, Val_recall 99.46%, Best_recall 99.79%, Val_f1  98.86%, Best_f1 99.29%\n",
      "1031\n"
     ]
    },
    {
     "name": "stderr",
     "output_type": "stream",
     "text": [
      "05-26 04:32:42 [1031] Lr: 0.000002, Training: 100.00%,  Loss: 0.00009, Acc: 100.00%, Recall: 100.00%, F1: 100.00%\r"
     ]
    },
    {
     "name": "stdout",
     "output_type": "stream",
     "text": [
      "\n",
      "1032\n"
     ]
    },
    {
     "name": "stderr",
     "output_type": "stream",
     "text": [
      "05-26 04:33:54 [1032] Lr: 0.000002, Training: 100.00%,  Loss: 0.00027, Acc: 99.99%, Recall: 99.99%, F1: 99.99%%\r"
     ]
    },
    {
     "name": "stdout",
     "output_type": "stream",
     "text": [
      "\n",
      "1033\n"
     ]
    },
    {
     "name": "stderr",
     "output_type": "stream",
     "text": [
      "05-26 04:35:07 [1033] Lr: 0.000002, Training: 100.00%,  Loss: 0.00048, Acc: 99.99%, Recall: 100.00%, F1: 99.99%%\r"
     ]
    },
    {
     "name": "stdout",
     "output_type": "stream",
     "text": [
      "\n",
      "1034\n"
     ]
    },
    {
     "name": "stderr",
     "output_type": "stream",
     "text": [
      "05-26 04:36:20 [1034] Lr: 0.000002, Training: 100.00%,  Loss: 0.00045, Acc: 99.99%, Recall: 99.98%, F1: 99.99%0%\r"
     ]
    },
    {
     "name": "stdout",
     "output_type": "stream",
     "text": [
      "\n",
      "1035\n"
     ]
    },
    {
     "name": "stderr",
     "output_type": "stream",
     "text": [
      "05-26 04:37:33 [1035] Lr: 0.000002, Training: 100.00%,  Loss: 0.00035, Acc: 99.98%, Recall: 99.98%, F1: 99.98%0%\r"
     ]
    },
    {
     "name": "stdout",
     "output_type": "stream",
     "text": [
      "\n"
     ]
    },
    {
     "name": "stderr",
     "output_type": "stream",
     "text": [
      "100%|███████████████████████████████████████████████████████████████████████████████████████████████████████████| 5100/5100 [01:29<00:00, 56.88it/s]\n"
     ]
    },
    {
     "name": "stdout",
     "output_type": "stream",
     "text": [
      "2024-05-26 04:39:03 1035 epoch, Acc 99.98%, Recall 99.98%, F1 99.98%, Val_acc 99.22%, Best_acc 99.33%, Val_recall 99.50%, Best_recall 99.79%, Val_f1  99.17%, Best_f1 99.29%\n",
      "1036\n"
     ]
    },
    {
     "name": "stderr",
     "output_type": "stream",
     "text": [
      "05-26 04:40:17 [1036] Lr: 0.000002, Training: 100.00%,  Loss: 0.00005, Acc: 100.00%, Recall: 100.00%, F1: 100.00%\r"
     ]
    },
    {
     "name": "stdout",
     "output_type": "stream",
     "text": [
      "\n",
      "1037\n"
     ]
    },
    {
     "name": "stderr",
     "output_type": "stream",
     "text": [
      "05-26 04:41:31 [1037] Lr: 0.000002, Training: 100.00%,  Loss: 0.00019, Acc: 100.00%, Recall: 99.99%, F1: 100.00%\r"
     ]
    },
    {
     "name": "stdout",
     "output_type": "stream",
     "text": [
      "\n",
      "1038\n"
     ]
    },
    {
     "name": "stderr",
     "output_type": "stream",
     "text": [
      "05-26 04:42:45 [1038] Lr: 0.000002, Training: 100.00%,  Loss: 0.00034, Acc: 99.98%, Recall: 99.99%, F1: 99.98%0%\r"
     ]
    },
    {
     "name": "stdout",
     "output_type": "stream",
     "text": [
      "\n",
      "1039\n"
     ]
    },
    {
     "name": "stderr",
     "output_type": "stream",
     "text": [
      "05-26 04:43:58 [1039] Lr: 0.000002, Training: 100.00%,  Loss: 0.00038, Acc: 99.99%, Recall: 100.00%, F1: 99.99%\r"
     ]
    },
    {
     "name": "stdout",
     "output_type": "stream",
     "text": [
      "\n",
      "1040\n"
     ]
    },
    {
     "name": "stderr",
     "output_type": "stream",
     "text": [
      "05-26 04:45:11 [1040] Lr: 0.000002, Training: 100.00%,  Loss: 0.00044, Acc: 99.99%, Recall: 99.97%, F1: 99.99%0%\r"
     ]
    },
    {
     "name": "stdout",
     "output_type": "stream",
     "text": [
      "\n"
     ]
    },
    {
     "name": "stderr",
     "output_type": "stream",
     "text": [
      "100%|███████████████████████████████████████████████████████████████████████████████████████████████████████████| 5100/5100 [01:26<00:00, 58.70it/s]\n"
     ]
    },
    {
     "name": "stdout",
     "output_type": "stream",
     "text": [
      "2024-05-26 04:46:38 1040 epoch, Acc 99.99%, Recall 99.97%, F1 99.99%, Val_acc 99.06%, Best_acc 99.33%, Val_recall 99.54%, Best_recall 99.79%, Val_f1  99.00%, Best_f1 99.29%\n",
      "1041\n"
     ]
    },
    {
     "name": "stderr",
     "output_type": "stream",
     "text": [
      "05-26 04:47:53 [1041] Lr: 0.000002, Training: 100.00%,  Loss: 0.00021, Acc: 99.99%, Recall: 99.98%, F1: 99.99%0%\r"
     ]
    },
    {
     "name": "stdout",
     "output_type": "stream",
     "text": [
      "\n",
      "1042\n"
     ]
    },
    {
     "name": "stderr",
     "output_type": "stream",
     "text": [
      "05-26 04:49:06 [1042] Lr: 0.000002, Training: 100.00%,  Loss: 0.00018, Acc: 100.00%, Recall: 100.00%, F1: 99.99%\r"
     ]
    },
    {
     "name": "stdout",
     "output_type": "stream",
     "text": [
      "\n",
      "1043\n"
     ]
    },
    {
     "name": "stderr",
     "output_type": "stream",
     "text": [
      "05-26 04:50:19 [1043] Lr: 0.000002, Training: 100.00%,  Loss: 0.00040, Acc: 99.98%, Recall: 99.97%, F1: 99.98%0%\r"
     ]
    },
    {
     "name": "stdout",
     "output_type": "stream",
     "text": [
      "\n",
      "1044\n"
     ]
    },
    {
     "name": "stderr",
     "output_type": "stream",
     "text": [
      "05-26 04:51:32 [1044] Lr: 0.000002, Training: 100.00%,  Loss: 0.00017, Acc: 100.00%, Recall: 100.00%, F1: 100.00%\r"
     ]
    },
    {
     "name": "stdout",
     "output_type": "stream",
     "text": [
      "\n",
      "1045\n"
     ]
    },
    {
     "name": "stderr",
     "output_type": "stream",
     "text": [
      "05-26 04:52:45 [1045] Lr: 0.000002, Training: 100.00%,  Loss: 0.00041, Acc: 100.00%, Recall: 99.99%, F1: 100.00%\r"
     ]
    },
    {
     "name": "stdout",
     "output_type": "stream",
     "text": [
      "\n"
     ]
    },
    {
     "name": "stderr",
     "output_type": "stream",
     "text": [
      "100%|███████████████████████████████████████████████████████████████████████████████████████████████████████████| 5100/5100 [01:28<00:00, 57.68it/s]\n"
     ]
    },
    {
     "name": "stdout",
     "output_type": "stream",
     "text": [
      "2024-05-26 04:54:14 1045 epoch, Acc 100.00%, Recall 99.99%, F1 100.00%, Val_acc 99.12%, Best_acc 99.33%, Val_recall 99.50%, Best_recall 99.79%, Val_f1  99.07%, Best_f1 99.29%\n",
      "1046\n"
     ]
    },
    {
     "name": "stderr",
     "output_type": "stream",
     "text": [
      "05-26 04:55:26 [1046] Lr: 0.000002, Training: 100.00%,  Loss: 0.00044, Acc: 99.99%, Recall: 99.99%, F1: 99.99%0%\r"
     ]
    },
    {
     "name": "stdout",
     "output_type": "stream",
     "text": [
      "\n",
      "1047\n"
     ]
    },
    {
     "name": "stderr",
     "output_type": "stream",
     "text": [
      "05-26 04:56:39 [1047] Lr: 0.000002, Training: 100.00%,  Loss: 0.00023, Acc: 99.99%, Recall: 99.99%, F1: 99.99%0%\r"
     ]
    },
    {
     "name": "stdout",
     "output_type": "stream",
     "text": [
      "\n",
      "1048\n"
     ]
    },
    {
     "name": "stderr",
     "output_type": "stream",
     "text": [
      "05-26 04:57:52 [1048] Lr: 0.000002, Training: 100.00%,  Loss: 0.00069, Acc: 99.99%, Recall: 100.00%, F1: 99.98%%\r"
     ]
    },
    {
     "name": "stdout",
     "output_type": "stream",
     "text": [
      "\n",
      "1049\n"
     ]
    },
    {
     "name": "stderr",
     "output_type": "stream",
     "text": [
      "05-26 04:59:05 [1049] Lr: 0.000002, Training: 100.00%,  Loss: 0.00023, Acc: 99.99%, Recall: 99.99%, F1: 99.99%0%\r"
     ]
    },
    {
     "name": "stdout",
     "output_type": "stream",
     "text": [
      "\n",
      "1050\n"
     ]
    },
    {
     "name": "stderr",
     "output_type": "stream",
     "text": [
      "05-26 05:00:17 [1050] Lr: 0.000002, Training: 100.00%,  Loss: 0.00042, Acc: 99.99%, Recall: 99.98%, F1: 99.99%0%\r"
     ]
    },
    {
     "name": "stdout",
     "output_type": "stream",
     "text": [
      "\n"
     ]
    },
    {
     "name": "stderr",
     "output_type": "stream",
     "text": [
      "100%|███████████████████████████████████████████████████████████████████████████████████████████████████████████| 5100/5100 [01:31<00:00, 55.80it/s]\n"
     ]
    },
    {
     "name": "stdout",
     "output_type": "stream",
     "text": [
      "2024-05-26 05:01:49 1050 epoch, Acc 99.99%, Recall 99.98%, F1 99.99%, Val_acc 99.18%, Best_acc 99.33%, Val_recall 99.46%, Best_recall 99.79%, Val_f1  99.13%, Best_f1 99.29%\n",
      "1051\n"
     ]
    },
    {
     "name": "stderr",
     "output_type": "stream",
     "text": [
      "05-26 05:03:02 [1051] Lr: 0.000002, Training: 100.00%,  Loss: 0.00021, Acc: 100.00%, Recall: 99.99%, F1: 99.99%%\r"
     ]
    },
    {
     "name": "stdout",
     "output_type": "stream",
     "text": [
      "\n",
      "1052\n"
     ]
    },
    {
     "name": "stderr",
     "output_type": "stream",
     "text": [
      "05-26 05:04:15 [1052] Lr: 0.000002, Training: 100.00%,  Loss: 0.00029, Acc: 99.99%, Recall: 99.98%, F1: 99.99%%\r"
     ]
    },
    {
     "name": "stdout",
     "output_type": "stream",
     "text": [
      "\n",
      "1053\n"
     ]
    },
    {
     "name": "stderr",
     "output_type": "stream",
     "text": [
      "05-26 05:05:27 [1053] Lr: 0.000002, Training: 100.00%,  Loss: 0.00014, Acc: 100.00%, Recall: 99.99%, F1: 100.00%\r"
     ]
    },
    {
     "name": "stdout",
     "output_type": "stream",
     "text": [
      "\n",
      "1054\n"
     ]
    },
    {
     "name": "stderr",
     "output_type": "stream",
     "text": [
      "05-26 05:06:39 [1054] Lr: 0.000002, Training: 100.00%,  Loss: 0.00030, Acc: 99.99%, Recall: 99.99%, F1: 99.98%0%\r"
     ]
    },
    {
     "name": "stdout",
     "output_type": "stream",
     "text": [
      "\n",
      "1055\n"
     ]
    },
    {
     "name": "stderr",
     "output_type": "stream",
     "text": [
      "05-26 05:07:52 [1055] Lr: 0.000002, Training: 100.00%,  Loss: 0.00036, Acc: 99.98%, Recall: 99.99%, F1: 99.98%%\r"
     ]
    },
    {
     "name": "stdout",
     "output_type": "stream",
     "text": [
      "\n"
     ]
    },
    {
     "name": "stderr",
     "output_type": "stream",
     "text": [
      "100%|███████████████████████████████████████████████████████████████████████████████████████████████████████████| 5100/5100 [01:30<00:00, 56.38it/s]\n"
     ]
    },
    {
     "name": "stdout",
     "output_type": "stream",
     "text": [
      "2024-05-26 05:09:23 1055 epoch, Acc 99.98%, Recall 99.99%, F1 99.98%, Val_acc 99.25%, Best_acc 99.33%, Val_recall 99.54%, Best_recall 99.79%, Val_f1  99.21%, Best_f1 99.29%\n",
      "1056\n"
     ]
    },
    {
     "name": "stderr",
     "output_type": "stream",
     "text": [
      "05-26 05:10:36 [1056] Lr: 0.000002, Training: 100.00%,  Loss: 0.00027, Acc: 99.99%, Recall: 99.98%, F1: 99.99%0%\r"
     ]
    },
    {
     "name": "stdout",
     "output_type": "stream",
     "text": [
      "\n",
      "1057\n"
     ]
    },
    {
     "name": "stderr",
     "output_type": "stream",
     "text": [
      "05-26 05:11:49 [1057] Lr: 0.000002, Training: 100.00%,  Loss: 0.00026, Acc: 99.99%, Recall: 99.98%, F1: 99.98%0%\r"
     ]
    },
    {
     "name": "stdout",
     "output_type": "stream",
     "text": [
      "\n",
      "1058\n"
     ]
    },
    {
     "name": "stderr",
     "output_type": "stream",
     "text": [
      "05-26 05:13:01 [1058] Lr: 0.000002, Training: 100.00%,  Loss: 0.00008, Acc: 100.00%, Recall: 100.00%, F1: 100.00%\r"
     ]
    },
    {
     "name": "stdout",
     "output_type": "stream",
     "text": [
      "\n",
      "1059\n"
     ]
    },
    {
     "name": "stderr",
     "output_type": "stream",
     "text": [
      "05-26 05:14:14 [1059] Lr: 0.000002, Training: 100.00%,  Loss: 0.00026, Acc: 99.99%, Recall: 99.99%, F1: 99.99%0%\r"
     ]
    },
    {
     "name": "stdout",
     "output_type": "stream",
     "text": [
      "\n",
      "1060\n"
     ]
    },
    {
     "name": "stderr",
     "output_type": "stream",
     "text": [
      "05-26 05:15:27 [1060] Lr: 0.000002, Training: 100.00%,  Loss: 0.00035, Acc: 99.99%, Recall: 99.99%, F1: 99.99%0%\r"
     ]
    },
    {
     "name": "stdout",
     "output_type": "stream",
     "text": [
      "\n"
     ]
    },
    {
     "name": "stderr",
     "output_type": "stream",
     "text": [
      "100%|███████████████████████████████████████████████████████████████████████████████████████████████████████████| 5100/5100 [01:30<00:00, 56.53it/s]\n"
     ]
    },
    {
     "name": "stdout",
     "output_type": "stream",
     "text": [
      "2024-05-26 05:16:57 1060 epoch, Acc 99.99%, Recall 99.99%, F1 99.99%, Val_acc 99.27%, Best_acc 99.33%, Val_recall 99.58%, Best_recall 99.79%, Val_f1  99.23%, Best_f1 99.29%\n",
      "1061\n"
     ]
    },
    {
     "name": "stderr",
     "output_type": "stream",
     "text": [
      "05-26 05:18:10 [1061] Lr: 0.000002, Training: 100.00%,  Loss: 0.00127, Acc: 99.98%, Recall: 99.97%, F1: 99.97%0%\r"
     ]
    },
    {
     "name": "stdout",
     "output_type": "stream",
     "text": [
      "\n",
      "1062\n"
     ]
    },
    {
     "name": "stderr",
     "output_type": "stream",
     "text": [
      "05-26 05:19:23 [1062] Lr: 0.000002, Training: 100.00%,  Loss: 0.00008, Acc: 100.00%, Recall: 100.00%, F1: 100.00%\r"
     ]
    },
    {
     "name": "stdout",
     "output_type": "stream",
     "text": [
      "\n",
      "1063\n"
     ]
    },
    {
     "name": "stderr",
     "output_type": "stream",
     "text": [
      "05-26 05:20:36 [1063] Lr: 0.000002, Training: 100.00%,  Loss: 0.00006, Acc: 100.00%, Recall: 100.00%, F1: 100.00%\r"
     ]
    },
    {
     "name": "stdout",
     "output_type": "stream",
     "text": [
      "\n",
      "1064\n"
     ]
    },
    {
     "name": "stderr",
     "output_type": "stream",
     "text": [
      "05-26 05:21:48 [1064] Lr: 0.000002, Training: 100.00%,  Loss: 0.00063, Acc: 99.97%, Recall: 99.98%, F1: 99.97%0%\r"
     ]
    },
    {
     "name": "stdout",
     "output_type": "stream",
     "text": [
      "\n",
      "1065\n"
     ]
    },
    {
     "name": "stderr",
     "output_type": "stream",
     "text": [
      "05-26 05:23:01 [1065] Lr: 0.000002, Training: 100.00%,  Loss: 0.00017, Acc: 100.00%, Recall: 99.99%, F1: 99.99%%\r"
     ]
    },
    {
     "name": "stdout",
     "output_type": "stream",
     "text": [
      "\n"
     ]
    },
    {
     "name": "stderr",
     "output_type": "stream",
     "text": [
      "100%|███████████████████████████████████████████████████████████████████████████████████████████████████████████| 5100/5100 [01:28<00:00, 57.93it/s]\n"
     ]
    },
    {
     "name": "stdout",
     "output_type": "stream",
     "text": [
      "2024-05-26 05:24:29 1065 epoch, Acc 100.00%, Recall 99.99%, F1 99.99%, Val_acc 99.02%, Best_acc 99.33%, Val_recall 99.54%, Best_recall 99.79%, Val_f1  98.96%, Best_f1 99.29%\n",
      "1066\n"
     ]
    },
    {
     "name": "stderr",
     "output_type": "stream",
     "text": [
      "05-26 05:25:43 [1066] Lr: 0.000002, Training: 100.00%,  Loss: 0.00014, Acc: 100.00%, Recall: 99.99%, F1: 100.00%\r"
     ]
    },
    {
     "name": "stdout",
     "output_type": "stream",
     "text": [
      "\n",
      "1067\n"
     ]
    },
    {
     "name": "stderr",
     "output_type": "stream",
     "text": [
      "05-26 05:26:56 [1067] Lr: 0.000002, Training: 100.00%,  Loss: 0.00032, Acc: 99.99%, Recall: 99.99%, F1: 99.99%0%\r"
     ]
    },
    {
     "name": "stdout",
     "output_type": "stream",
     "text": [
      "\n",
      "1068\n"
     ]
    },
    {
     "name": "stderr",
     "output_type": "stream",
     "text": [
      "05-26 05:28:09 [1068] Lr: 0.000002, Training: 100.00%,  Loss: 0.00035, Acc: 99.99%, Recall: 100.00%, F1: 99.98%%\r"
     ]
    },
    {
     "name": "stdout",
     "output_type": "stream",
     "text": [
      "\n",
      "1069\n"
     ]
    },
    {
     "name": "stderr",
     "output_type": "stream",
     "text": [
      "05-26 05:29:22 [1069] Lr: 0.000002, Training: 100.00%,  Loss: 0.00069, Acc: 99.99%, Recall: 99.99%, F1: 99.98%0%\r"
     ]
    },
    {
     "name": "stdout",
     "output_type": "stream",
     "text": [
      "\n",
      "1070\n"
     ]
    },
    {
     "name": "stderr",
     "output_type": "stream",
     "text": [
      "05-26 05:30:34 [1070] Lr: 0.000002, Training: 100.00%,  Loss: 0.00019, Acc: 99.99%, Recall: 99.99%, F1: 99.99%0%\r"
     ]
    },
    {
     "name": "stdout",
     "output_type": "stream",
     "text": [
      "\n"
     ]
    },
    {
     "name": "stderr",
     "output_type": "stream",
     "text": [
      "100%|███████████████████████████████████████████████████████████████████████████████████████████████████████████| 5100/5100 [01:28<00:00, 57.60it/s]\n"
     ]
    },
    {
     "name": "stdout",
     "output_type": "stream",
     "text": [
      "2024-05-26 05:32:04 1070 epoch, Acc 99.99%, Recall 99.99%, F1 99.99%, Val_acc 99.25%, Best_acc 99.33%, Val_recall 99.50%, Best_recall 99.79%, Val_f1  99.21%, Best_f1 99.29%\n",
      "1071\n"
     ]
    },
    {
     "name": "stderr",
     "output_type": "stream",
     "text": [
      "05-26 05:33:17 [1071] Lr: 0.000001, Training: 100.00%,  Loss: 0.00012, Acc: 100.00%, Recall: 99.99%, F1: 99.99%%\r"
     ]
    },
    {
     "name": "stdout",
     "output_type": "stream",
     "text": [
      "\n",
      "1072\n"
     ]
    },
    {
     "name": "stderr",
     "output_type": "stream",
     "text": [
      "05-26 05:34:29 [1072] Lr: 0.000001, Training: 100.00%,  Loss: 0.00039, Acc: 99.99%, Recall: 100.00%, F1: 99.99%%\r"
     ]
    },
    {
     "name": "stdout",
     "output_type": "stream",
     "text": [
      "\n",
      "1073\n"
     ]
    },
    {
     "name": "stderr",
     "output_type": "stream",
     "text": [
      "05-26 05:35:42 [1073] Lr: 0.000001, Training: 100.00%,  Loss: 0.00022, Acc: 99.99%, Recall: 100.00%, F1: 99.99%%\r"
     ]
    },
    {
     "name": "stdout",
     "output_type": "stream",
     "text": [
      "\n",
      "1074\n"
     ]
    },
    {
     "name": "stderr",
     "output_type": "stream",
     "text": [
      "05-26 05:36:55 [1074] Lr: 0.000001, Training: 100.00%,  Loss: 0.00031, Acc: 99.99%, Recall: 99.98%, F1: 99.99%0%\r"
     ]
    },
    {
     "name": "stdout",
     "output_type": "stream",
     "text": [
      "\n",
      "1075\n"
     ]
    },
    {
     "name": "stderr",
     "output_type": "stream",
     "text": [
      "05-26 05:38:08 [1075] Lr: 0.000001, Training: 100.00%,  Loss: 0.00032, Acc: 99.99%, Recall: 99.99%, F1: 99.99%0%\r"
     ]
    },
    {
     "name": "stdout",
     "output_type": "stream",
     "text": [
      "\n"
     ]
    },
    {
     "name": "stderr",
     "output_type": "stream",
     "text": [
      "100%|███████████████████████████████████████████████████████████████████████████████████████████████████████████| 5100/5100 [01:31<00:00, 56.01it/s]\n"
     ]
    },
    {
     "name": "stdout",
     "output_type": "stream",
     "text": [
      "2024-05-26 05:39:39 1075 epoch, Acc 99.99%, Recall 99.99%, F1 99.99%, Val_acc 99.24%, Best_acc 99.33%, Val_recall 99.54%, Best_recall 99.79%, Val_f1  99.19%, Best_f1 99.29%\n",
      "1076\n"
     ]
    },
    {
     "name": "stderr",
     "output_type": "stream",
     "text": [
      "05-26 05:40:54 [1076] Lr: 0.000001, Training: 100.00%,  Loss: 0.00058, Acc: 99.99%, Recall: 99.98%, F1: 99.98%0%\r"
     ]
    },
    {
     "name": "stdout",
     "output_type": "stream",
     "text": [
      "\n",
      "1077\n"
     ]
    },
    {
     "name": "stderr",
     "output_type": "stream",
     "text": [
      "05-26 05:42:09 [1077] Lr: 0.000001, Training: 100.00%,  Loss: 0.00029, Acc: 99.99%, Recall: 99.98%, F1: 99.99%0%\r"
     ]
    },
    {
     "name": "stdout",
     "output_type": "stream",
     "text": [
      "\n",
      "1078\n"
     ]
    },
    {
     "name": "stderr",
     "output_type": "stream",
     "text": [
      "05-26 05:43:22 [1078] Lr: 0.000001, Training: 100.00%,  Loss: 0.00040, Acc: 99.99%, Recall: 99.98%, F1: 99.98%0%\r"
     ]
    },
    {
     "name": "stdout",
     "output_type": "stream",
     "text": [
      "\n",
      "1079\n"
     ]
    },
    {
     "name": "stderr",
     "output_type": "stream",
     "text": [
      "05-26 05:44:34 [1079] Lr: 0.000001, Training: 100.00%,  Loss: 0.00008, Acc: 100.00%, Recall: 99.99%, F1: 100.00%\r"
     ]
    },
    {
     "name": "stdout",
     "output_type": "stream",
     "text": [
      "\n",
      "1080\n"
     ]
    },
    {
     "name": "stderr",
     "output_type": "stream",
     "text": [
      "05-26 05:45:47 [1080] Lr: 0.000001, Training: 100.00%,  Loss: 0.00018, Acc: 99.99%, Recall: 99.99%, F1: 99.99%0%\r"
     ]
    },
    {
     "name": "stdout",
     "output_type": "stream",
     "text": [
      "\n"
     ]
    },
    {
     "name": "stderr",
     "output_type": "stream",
     "text": [
      "100%|███████████████████████████████████████████████████████████████████████████████████████████████████████████| 5100/5100 [01:29<00:00, 56.77it/s]\n"
     ]
    },
    {
     "name": "stdout",
     "output_type": "stream",
     "text": [
      "2024-05-26 05:47:17 1080 epoch, Acc 99.99%, Recall 99.99%, F1 99.99%, Val_acc 99.24%, Best_acc 99.33%, Val_recall 99.54%, Best_recall 99.79%, Val_f1  99.19%, Best_f1 99.29%\n",
      "1081\n"
     ]
    },
    {
     "name": "stderr",
     "output_type": "stream",
     "text": [
      "05-26 05:48:30 [1081] Lr: 0.000001, Training: 100.00%,  Loss: 0.00084, Acc: 99.97%, Recall: 99.96%, F1: 99.97%0%\r"
     ]
    },
    {
     "name": "stdout",
     "output_type": "stream",
     "text": [
      "\n",
      "1082\n"
     ]
    },
    {
     "name": "stderr",
     "output_type": "stream",
     "text": [
      "05-26 05:49:44 [1082] Lr: 0.000001, Training: 100.00%,  Loss: 0.00041, Acc: 99.98%, Recall: 99.97%, F1: 99.98%0%\r"
     ]
    },
    {
     "name": "stdout",
     "output_type": "stream",
     "text": [
      "\n",
      "1083\n"
     ]
    },
    {
     "name": "stderr",
     "output_type": "stream",
     "text": [
      "05-26 05:50:56 [1083] Lr: 0.000001, Training: 100.00%,  Loss: 0.00023, Acc: 99.99%, Recall: 99.99%, F1: 99.99%%\r"
     ]
    },
    {
     "name": "stdout",
     "output_type": "stream",
     "text": [
      "\n",
      "1084\n"
     ]
    },
    {
     "name": "stderr",
     "output_type": "stream",
     "text": [
      "05-26 05:52:09 [1084] Lr: 0.000001, Training: 100.00%,  Loss: 0.00008, Acc: 100.00%, Recall: 100.00%, F1: 100.00%\r"
     ]
    },
    {
     "name": "stdout",
     "output_type": "stream",
     "text": [
      "\n",
      "1085\n"
     ]
    },
    {
     "name": "stderr",
     "output_type": "stream",
     "text": [
      "05-26 05:53:21 [1085] Lr: 0.000001, Training: 100.00%,  Loss: 0.00086, Acc: 99.99%, Recall: 100.00%, F1: 99.99%%\r"
     ]
    },
    {
     "name": "stdout",
     "output_type": "stream",
     "text": [
      "\n"
     ]
    },
    {
     "name": "stderr",
     "output_type": "stream",
     "text": [
      "100%|███████████████████████████████████████████████████████████████████████████████████████████████████████████| 5100/5100 [01:30<00:00, 56.18it/s]\n"
     ]
    },
    {
     "name": "stdout",
     "output_type": "stream",
     "text": [
      "2024-05-26 05:54:53 1085 epoch, Acc 99.99%, Recall 100.00%, F1 99.99%, Val_acc 99.10%, Best_acc 99.33%, Val_recall 99.54%, Best_recall 99.79%, Val_f1  99.05%, Best_f1 99.29%\n",
      "1086\n"
     ]
    },
    {
     "name": "stderr",
     "output_type": "stream",
     "text": [
      "05-26 05:56:06 [1086] Lr: 0.000001, Training: 100.00%,  Loss: 0.00053, Acc: 99.99%, Recall: 100.00%, F1: 99.99%%\r"
     ]
    },
    {
     "name": "stdout",
     "output_type": "stream",
     "text": [
      "\n",
      "1087\n"
     ]
    },
    {
     "name": "stderr",
     "output_type": "stream",
     "text": [
      "05-26 05:57:19 [1087] Lr: 0.000001, Training: 100.00%,  Loss: 0.00008, Acc: 100.00%, Recall: 100.00%, F1: 100.00%\r"
     ]
    },
    {
     "name": "stdout",
     "output_type": "stream",
     "text": [
      "\n",
      "1088\n"
     ]
    },
    {
     "name": "stderr",
     "output_type": "stream",
     "text": [
      "05-26 05:58:32 [1088] Lr: 0.000001, Training: 100.00%,  Loss: 0.00083, Acc: 99.99%, Recall: 99.98%, F1: 99.98%%\r"
     ]
    },
    {
     "name": "stdout",
     "output_type": "stream",
     "text": [
      "\n",
      "1089\n"
     ]
    },
    {
     "name": "stderr",
     "output_type": "stream",
     "text": [
      "05-26 05:59:45 [1089] Lr: 0.000001, Training: 100.00%,  Loss: 0.00023, Acc: 99.99%, Recall: 99.99%, F1: 99.99%0%\r"
     ]
    },
    {
     "name": "stdout",
     "output_type": "stream",
     "text": [
      "\n",
      "1090\n"
     ]
    },
    {
     "name": "stderr",
     "output_type": "stream",
     "text": [
      "05-26 06:00:58 [1090] Lr: 0.000001, Training: 100.00%,  Loss: 0.00104, Acc: 99.98%, Recall: 100.00%, F1: 99.98%%\r"
     ]
    },
    {
     "name": "stdout",
     "output_type": "stream",
     "text": [
      "\n"
     ]
    },
    {
     "name": "stderr",
     "output_type": "stream",
     "text": [
      "100%|███████████████████████████████████████████████████████████████████████████████████████████████████████████| 5100/5100 [01:30<00:00, 56.40it/s]\n"
     ]
    },
    {
     "name": "stdout",
     "output_type": "stream",
     "text": [
      "2024-05-26 06:02:29 1090 epoch, Acc 99.98%, Recall 100.00%, F1 99.98%, Val_acc 99.22%, Best_acc 99.33%, Val_recall 99.50%, Best_recall 99.79%, Val_f1  99.17%, Best_f1 99.29%\n",
      "1091\n"
     ]
    },
    {
     "name": "stderr",
     "output_type": "stream",
     "text": [
      "05-26 06:03:42 [1091] Lr: 0.000001, Training: 100.00%,  Loss: 0.00089, Acc: 99.97%, Recall: 99.97%, F1: 99.97%%\r"
     ]
    },
    {
     "name": "stdout",
     "output_type": "stream",
     "text": [
      "\n",
      "1092\n"
     ]
    },
    {
     "name": "stderr",
     "output_type": "stream",
     "text": [
      "05-26 06:04:55 [1092] Lr: 0.000001, Training: 100.00%,  Loss: 0.00063, Acc: 99.99%, Recall: 99.99%, F1: 99.98%%\r"
     ]
    },
    {
     "name": "stdout",
     "output_type": "stream",
     "text": [
      "\n",
      "1093\n"
     ]
    },
    {
     "name": "stderr",
     "output_type": "stream",
     "text": [
      "05-26 06:06:08 [1093] Lr: 0.000001, Training: 100.00%,  Loss: 0.00019, Acc: 100.00%, Recall: 100.00%, F1: 99.99%\r"
     ]
    },
    {
     "name": "stdout",
     "output_type": "stream",
     "text": [
      "\n",
      "1094\n"
     ]
    },
    {
     "name": "stderr",
     "output_type": "stream",
     "text": [
      "05-26 06:07:20 [1094] Lr: 0.000001, Training: 100.00%,  Loss: 0.00077, Acc: 99.97%, Recall: 99.95%, F1: 99.97%%\r"
     ]
    },
    {
     "name": "stdout",
     "output_type": "stream",
     "text": [
      "\n",
      "1095\n"
     ]
    },
    {
     "name": "stderr",
     "output_type": "stream",
     "text": [
      "05-26 06:08:33 [1095] Lr: 0.000001, Training: 100.00%,  Loss: 0.00064, Acc: 99.99%, Recall: 99.97%, F1: 99.99%0%\r"
     ]
    },
    {
     "name": "stdout",
     "output_type": "stream",
     "text": [
      "\n"
     ]
    },
    {
     "name": "stderr",
     "output_type": "stream",
     "text": [
      "100%|███████████████████████████████████████████████████████████████████████████████████████████████████████████| 5100/5100 [01:30<00:00, 56.39it/s]\n"
     ]
    },
    {
     "name": "stdout",
     "output_type": "stream",
     "text": [
      "2024-05-26 06:10:04 1095 epoch, Acc 99.99%, Recall 99.97%, F1 99.99%, Val_acc 99.25%, Best_acc 99.33%, Val_recall 99.50%, Best_recall 99.79%, Val_f1  99.21%, Best_f1 99.29%\n",
      "1096\n"
     ]
    },
    {
     "name": "stderr",
     "output_type": "stream",
     "text": [
      "05-26 06:11:17 [1096] Lr: 0.000001, Training: 100.00%,  Loss: 0.00034, Acc: 99.99%, Recall: 99.99%, F1: 99.99%0%\r"
     ]
    },
    {
     "name": "stdout",
     "output_type": "stream",
     "text": [
      "\n",
      "1097\n"
     ]
    },
    {
     "name": "stderr",
     "output_type": "stream",
     "text": [
      "05-26 06:12:30 [1097] Lr: 0.000001, Training: 100.00%,  Loss: 0.00099, Acc: 99.97%, Recall: 99.97%, F1: 99.96%%\r"
     ]
    },
    {
     "name": "stdout",
     "output_type": "stream",
     "text": [
      "\n",
      "1098\n"
     ]
    },
    {
     "name": "stderr",
     "output_type": "stream",
     "text": [
      "05-26 06:13:43 [1098] Lr: 0.000001, Training: 100.00%,  Loss: 0.00019, Acc: 99.99%, Recall: 99.99%, F1: 99.99%\r"
     ]
    },
    {
     "name": "stdout",
     "output_type": "stream",
     "text": [
      "\n",
      "1099\n"
     ]
    },
    {
     "name": "stderr",
     "output_type": "stream",
     "text": [
      "05-26 06:14:55 [1099] Lr: 0.000001, Training: 100.00%,  Loss: 0.00021, Acc: 100.00%, Recall: 99.99%, F1: 99.99%%\r"
     ]
    },
    {
     "name": "stdout",
     "output_type": "stream",
     "text": [
      "\n",
      "1100\n"
     ]
    },
    {
     "name": "stderr",
     "output_type": "stream",
     "text": [
      "05-26 06:16:08 [1100] Lr: 0.000001, Training: 100.00%,  Loss: 0.00024, Acc: 99.99%, Recall: 99.98%, F1: 99.99%0%\r"
     ]
    },
    {
     "name": "stdout",
     "output_type": "stream",
     "text": [
      "\n"
     ]
    },
    {
     "name": "stderr",
     "output_type": "stream",
     "text": [
      "100%|███████████████████████████████████████████████████████████████████████████████████████████████████████████| 5100/5100 [01:29<00:00, 57.17it/s]\n"
     ]
    },
    {
     "name": "stdout",
     "output_type": "stream",
     "text": [
      "2024-05-26 06:17:38 1100 epoch, Acc 99.99%, Recall 99.98%, F1 99.99%, Val_acc 98.98%, Best_acc 99.33%, Val_recall 99.54%, Best_recall 99.79%, Val_f1  98.92%, Best_f1 99.29%\n",
      "1101\n"
     ]
    },
    {
     "name": "stderr",
     "output_type": "stream",
     "text": [
      "05-26 06:18:51 [1101] Lr: 0.000001, Training: 100.00%,  Loss: 0.00034, Acc: 99.99%, Recall: 99.98%, F1: 99.98%0%\r"
     ]
    },
    {
     "name": "stdout",
     "output_type": "stream",
     "text": [
      "\n",
      "1102\n"
     ]
    },
    {
     "name": "stderr",
     "output_type": "stream",
     "text": [
      "05-26 06:20:04 [1102] Lr: 0.000001, Training: 100.00%,  Loss: 0.00050, Acc: 100.00%, Recall: 99.99%, F1: 100.00%\r"
     ]
    },
    {
     "name": "stdout",
     "output_type": "stream",
     "text": [
      "\n",
      "1103\n"
     ]
    },
    {
     "name": "stderr",
     "output_type": "stream",
     "text": [
      "05-26 06:21:17 [1103] Lr: 0.000001, Training: 100.00%,  Loss: 0.00054, Acc: 99.99%, Recall: 100.00%, F1: 99.99%%\r"
     ]
    },
    {
     "name": "stdout",
     "output_type": "stream",
     "text": [
      "\n",
      "1104\n"
     ]
    },
    {
     "name": "stderr",
     "output_type": "stream",
     "text": [
      "05-26 06:22:30 [1104] Lr: 0.000001, Training: 100.00%,  Loss: 0.00120, Acc: 99.97%, Recall: 99.95%, F1: 99.97%%\r"
     ]
    },
    {
     "name": "stdout",
     "output_type": "stream",
     "text": [
      "\n",
      "1105\n"
     ]
    },
    {
     "name": "stderr",
     "output_type": "stream",
     "text": [
      "05-26 06:23:43 [1105] Lr: 0.000001, Training: 100.00%,  Loss: 0.00069, Acc: 100.00%, Recall: 100.00%, F1: 99.99%\r"
     ]
    },
    {
     "name": "stdout",
     "output_type": "stream",
     "text": [
      "\n"
     ]
    },
    {
     "name": "stderr",
     "output_type": "stream",
     "text": [
      "100%|███████████████████████████████████████████████████████████████████████████████████████████████████████████| 5100/5100 [01:29<00:00, 56.87it/s]\n"
     ]
    },
    {
     "name": "stdout",
     "output_type": "stream",
     "text": [
      "2024-05-26 06:25:14 1105 epoch, Acc 100.00%, Recall 100.00%, F1 99.99%, Val_acc 99.22%, Best_acc 99.33%, Val_recall 99.50%, Best_recall 99.79%, Val_f1  99.17%, Best_f1 99.29%\n",
      "1106\n"
     ]
    },
    {
     "name": "stderr",
     "output_type": "stream",
     "text": [
      "05-26 06:26:26 [1106] Lr: 0.000001, Training: 100.00%,  Loss: 0.00058, Acc: 99.98%, Recall: 100.00%, F1: 99.98%\r"
     ]
    },
    {
     "name": "stdout",
     "output_type": "stream",
     "text": [
      "\n",
      "1107\n"
     ]
    },
    {
     "name": "stderr",
     "output_type": "stream",
     "text": [
      "05-26 06:27:39 [1107] Lr: 0.000001, Training: 100.00%,  Loss: 0.00090, Acc: 100.00%, Recall: 99.99%, F1: 100.00%\r"
     ]
    },
    {
     "name": "stdout",
     "output_type": "stream",
     "text": [
      "\n",
      "1108\n"
     ]
    },
    {
     "name": "stderr",
     "output_type": "stream",
     "text": [
      "05-26 06:28:51 [1108] Lr: 0.000001, Training: 100.00%,  Loss: 0.00009, Acc: 100.00%, Recall: 100.00%, F1: 100.00%\r"
     ]
    },
    {
     "name": "stdout",
     "output_type": "stream",
     "text": [
      "\n",
      "1109\n"
     ]
    },
    {
     "name": "stderr",
     "output_type": "stream",
     "text": [
      "05-26 06:30:04 [1109] Lr: 0.000001, Training: 100.00%,  Loss: 0.00015, Acc: 100.00%, Recall: 100.00%, F1: 100.00%\r"
     ]
    },
    {
     "name": "stdout",
     "output_type": "stream",
     "text": [
      "\n",
      "1110\n"
     ]
    },
    {
     "name": "stderr",
     "output_type": "stream",
     "text": [
      "05-26 06:31:17 [1110] Lr: 0.000001, Training: 100.00%,  Loss: 0.00043, Acc: 99.99%, Recall: 99.99%, F1: 99.99%0%\r"
     ]
    },
    {
     "name": "stdout",
     "output_type": "stream",
     "text": [
      "\n"
     ]
    },
    {
     "name": "stderr",
     "output_type": "stream",
     "text": [
      "100%|███████████████████████████████████████████████████████████████████████████████████████████████████████████| 5100/5100 [01:29<00:00, 57.04it/s]\n"
     ]
    },
    {
     "name": "stdout",
     "output_type": "stream",
     "text": [
      "2024-05-26 06:32:47 1110 epoch, Acc 99.99%, Recall 99.99%, F1 99.99%, Val_acc 99.20%, Best_acc 99.33%, Val_recall 99.50%, Best_recall 99.79%, Val_f1  99.15%, Best_f1 99.29%\n",
      "1111\n"
     ]
    },
    {
     "name": "stderr",
     "output_type": "stream",
     "text": [
      "05-26 06:34:00 [1111] Lr: 0.000001, Training: 100.00%,  Loss: 0.00019, Acc: 100.00%, Recall: 100.00%, F1: 99.99%\r"
     ]
    },
    {
     "name": "stdout",
     "output_type": "stream",
     "text": [
      "\n",
      "1112\n"
     ]
    },
    {
     "name": "stderr",
     "output_type": "stream",
     "text": [
      "05-26 06:35:13 [1112] Lr: 0.000001, Training: 100.00%,  Loss: 0.00046, Acc: 99.99%, Recall: 99.99%, F1: 99.99%0%\r"
     ]
    },
    {
     "name": "stdout",
     "output_type": "stream",
     "text": [
      "\n",
      "1113\n"
     ]
    },
    {
     "name": "stderr",
     "output_type": "stream",
     "text": [
      "05-26 06:36:26 [1113] Lr: 0.000001, Training: 100.00%,  Loss: 0.00061, Acc: 99.98%, Recall: 99.97%, F1: 99.98%%\r"
     ]
    },
    {
     "name": "stdout",
     "output_type": "stream",
     "text": [
      "\n",
      "1114\n"
     ]
    },
    {
     "name": "stderr",
     "output_type": "stream",
     "text": [
      "05-26 06:37:40 [1114] Lr: 0.000001, Training: 100.00%,  Loss: 0.00024, Acc: 100.00%, Recall: 99.99%, F1: 99.99%%\r"
     ]
    },
    {
     "name": "stdout",
     "output_type": "stream",
     "text": [
      "\n",
      "1115\n"
     ]
    },
    {
     "name": "stderr",
     "output_type": "stream",
     "text": [
      "05-26 06:38:53 [1115] Lr: 0.000001, Training: 100.00%,  Loss: 0.00017, Acc: 100.00%, Recall: 99.99%, F1: 99.99%%\r"
     ]
    },
    {
     "name": "stdout",
     "output_type": "stream",
     "text": [
      "\n"
     ]
    },
    {
     "name": "stderr",
     "output_type": "stream",
     "text": [
      "100%|███████████████████████████████████████████████████████████████████████████████████████████████████████████| 5100/5100 [01:27<00:00, 58.03it/s]\n"
     ]
    },
    {
     "name": "stdout",
     "output_type": "stream",
     "text": [
      "2024-05-26 06:40:22 1115 epoch, Acc 100.00%, Recall 99.99%, F1 99.99%, Val_acc 99.24%, Best_acc 99.33%, Val_recall 99.50%, Best_recall 99.79%, Val_f1  99.19%, Best_f1 99.29%\n",
      "1116\n"
     ]
    },
    {
     "name": "stderr",
     "output_type": "stream",
     "text": [
      "05-26 06:41:36 [1116] Lr: 0.000001, Training: 100.00%,  Loss: 0.00033, Acc: 100.00%, Recall: 100.00%, F1: 99.99%\r"
     ]
    },
    {
     "name": "stdout",
     "output_type": "stream",
     "text": [
      "\n",
      "1117\n"
     ]
    },
    {
     "name": "stderr",
     "output_type": "stream",
     "text": [
      "05-26 06:42:50 [1117] Lr: 0.000001, Training: 100.00%,  Loss: 0.00013, Acc: 100.00%, Recall: 99.99%, F1: 99.99%%\r"
     ]
    },
    {
     "name": "stdout",
     "output_type": "stream",
     "text": [
      "\n",
      "1118\n"
     ]
    },
    {
     "name": "stderr",
     "output_type": "stream",
     "text": [
      "05-26 06:44:04 [1118] Lr: 0.000001, Training: 100.00%,  Loss: 0.00008, Acc: 100.00%, Recall: 100.00%, F1: 100.00%\r"
     ]
    },
    {
     "name": "stdout",
     "output_type": "stream",
     "text": [
      "\n",
      "1119\n"
     ]
    },
    {
     "name": "stderr",
     "output_type": "stream",
     "text": [
      "05-26 06:45:17 [1119] Lr: 0.000001, Training: 100.00%,  Loss: 0.00014, Acc: 100.00%, Recall: 99.99%, F1: 99.99%%\r"
     ]
    },
    {
     "name": "stdout",
     "output_type": "stream",
     "text": [
      "\n",
      "1120\n"
     ]
    },
    {
     "name": "stderr",
     "output_type": "stream",
     "text": [
      "05-26 06:46:30 [1120] Lr: 0.000001, Training: 100.00%,  Loss: 0.00086, Acc: 99.99%, Recall: 99.98%, F1: 99.99%0%\r"
     ]
    },
    {
     "name": "stdout",
     "output_type": "stream",
     "text": [
      "\n"
     ]
    },
    {
     "name": "stderr",
     "output_type": "stream",
     "text": [
      "100%|███████████████████████████████████████████████████████████████████████████████████████████████████████████| 5100/5100 [01:30<00:00, 56.42it/s]\n"
     ]
    },
    {
     "name": "stdout",
     "output_type": "stream",
     "text": [
      "2024-05-26 06:48:01 1120 epoch, Acc 99.99%, Recall 99.98%, F1 99.99%, Val_acc 99.18%, Best_acc 99.33%, Val_recall 99.46%, Best_recall 99.79%, Val_f1  99.13%, Best_f1 99.29%\n",
      "1121\n"
     ]
    },
    {
     "name": "stderr",
     "output_type": "stream",
     "text": [
      "05-26 06:49:14 [1121] Lr: 0.000001, Training: 100.00%,  Loss: 0.00022, Acc: 99.99%, Recall: 99.99%, F1: 99.99%0%\r"
     ]
    },
    {
     "name": "stdout",
     "output_type": "stream",
     "text": [
      "\n",
      "1122\n"
     ]
    },
    {
     "name": "stderr",
     "output_type": "stream",
     "text": [
      "05-26 06:50:27 [1122] Lr: 0.000001, Training: 100.00%,  Loss: 0.00020, Acc: 100.00%, Recall: 99.99%, F1: 99.99%%\r"
     ]
    },
    {
     "name": "stdout",
     "output_type": "stream",
     "text": [
      "\n",
      "1123\n"
     ]
    },
    {
     "name": "stderr",
     "output_type": "stream",
     "text": [
      "05-26 06:51:40 [1123] Lr: 0.000001, Training: 100.00%,  Loss: 0.00036, Acc: 99.99%, Recall: 100.00%, F1: 99.99%%\r"
     ]
    },
    {
     "name": "stdout",
     "output_type": "stream",
     "text": [
      "\n",
      "1124\n"
     ]
    },
    {
     "name": "stderr",
     "output_type": "stream",
     "text": [
      "05-26 06:52:53 [1124] Lr: 0.000001, Training: 100.00%,  Loss: 0.00020, Acc: 100.00%, Recall: 100.00%, F1: 99.99%\r"
     ]
    },
    {
     "name": "stdout",
     "output_type": "stream",
     "text": [
      "\n",
      "1125\n"
     ]
    },
    {
     "name": "stderr",
     "output_type": "stream",
     "text": [
      "05-26 06:54:06 [1125] Lr: 0.000001, Training: 100.00%,  Loss: 0.00043, Acc: 99.99%, Recall: 99.98%, F1: 99.98%0%\r"
     ]
    },
    {
     "name": "stdout",
     "output_type": "stream",
     "text": [
      "\n"
     ]
    },
    {
     "name": "stderr",
     "output_type": "stream",
     "text": [
      "100%|███████████████████████████████████████████████████████████████████████████████████████████████████████████| 5100/5100 [01:31<00:00, 55.90it/s]\n"
     ]
    },
    {
     "name": "stdout",
     "output_type": "stream",
     "text": [
      "2024-05-26 06:55:38 1125 epoch, Acc 99.99%, Recall 99.98%, F1 99.98%, Val_acc 98.75%, Best_acc 99.33%, Val_recall 99.58%, Best_recall 99.79%, Val_f1  98.68%, Best_f1 99.29%\n",
      "1126\n"
     ]
    },
    {
     "name": "stderr",
     "output_type": "stream",
     "text": [
      "05-26 06:56:51 [1126] Lr: 0.000001, Training: 100.00%,  Loss: 0.00041, Acc: 99.98%, Recall: 100.00%, F1: 99.97%\r"
     ]
    },
    {
     "name": "stdout",
     "output_type": "stream",
     "text": [
      "\n",
      "1127\n"
     ]
    },
    {
     "name": "stderr",
     "output_type": "stream",
     "text": [
      "05-26 06:58:04 [1127] Lr: 0.000001, Training: 100.00%,  Loss: 0.00031, Acc: 99.99%, Recall: 100.00%, F1: 99.99%%\r"
     ]
    },
    {
     "name": "stdout",
     "output_type": "stream",
     "text": [
      "\n",
      "1128\n"
     ]
    },
    {
     "name": "stderr",
     "output_type": "stream",
     "text": [
      "05-26 06:59:17 [1128] Lr: 0.000001, Training: 100.00%,  Loss: 0.00044, Acc: 99.98%, Recall: 99.98%, F1: 99.98%0%\r"
     ]
    },
    {
     "name": "stdout",
     "output_type": "stream",
     "text": [
      "\n",
      "1129\n"
     ]
    },
    {
     "name": "stderr",
     "output_type": "stream",
     "text": [
      "05-26 07:00:30 [1129] Lr: 0.000001, Training: 100.00%,  Loss: 0.00070, Acc: 99.98%, Recall: 99.95%, F1: 99.98%0%\r"
     ]
    },
    {
     "name": "stdout",
     "output_type": "stream",
     "text": [
      "\n",
      "1130\n"
     ]
    },
    {
     "name": "stderr",
     "output_type": "stream",
     "text": [
      "05-26 07:01:42 [1130] Lr: 0.000001, Training: 100.00%,  Loss: 0.00089, Acc: 99.98%, Recall: 99.96%, F1: 99.97%%\r"
     ]
    },
    {
     "name": "stdout",
     "output_type": "stream",
     "text": [
      "\n"
     ]
    },
    {
     "name": "stderr",
     "output_type": "stream",
     "text": [
      "100%|███████████████████████████████████████████████████████████████████████████████████████████████████████████| 5100/5100 [01:31<00:00, 55.58it/s]\n"
     ]
    },
    {
     "name": "stdout",
     "output_type": "stream",
     "text": [
      "2024-05-26 07:03:15 1130 epoch, Acc 99.98%, Recall 99.96%, F1 99.97%, Val_acc 99.22%, Best_acc 99.33%, Val_recall 99.54%, Best_recall 99.79%, Val_f1  99.17%, Best_f1 99.29%\n",
      "1131\n"
     ]
    },
    {
     "name": "stderr",
     "output_type": "stream",
     "text": [
      "05-26 07:04:27 [1131] Lr: 0.000001, Training: 100.00%,  Loss: 0.00009, Acc: 100.00%, Recall: 100.00%, F1: 100.00%\r"
     ]
    },
    {
     "name": "stdout",
     "output_type": "stream",
     "text": [
      "\n",
      "1132\n"
     ]
    },
    {
     "name": "stderr",
     "output_type": "stream",
     "text": [
      "05-26 07:05:40 [1132] Lr: 0.000001, Training: 100.00%,  Loss: 0.00020, Acc: 99.99%, Recall: 99.99%, F1: 99.99%0%\r"
     ]
    },
    {
     "name": "stdout",
     "output_type": "stream",
     "text": [
      "\n",
      "1133\n"
     ]
    },
    {
     "name": "stderr",
     "output_type": "stream",
     "text": [
      "05-26 07:06:53 [1133] Lr: 0.000001, Training: 100.00%,  Loss: 0.00102, Acc: 99.99%, Recall: 99.99%, F1: 99.98%%\r"
     ]
    },
    {
     "name": "stdout",
     "output_type": "stream",
     "text": [
      "\n",
      "1134\n"
     ]
    },
    {
     "name": "stderr",
     "output_type": "stream",
     "text": [
      "05-26 07:08:06 [1134] Lr: 0.000001, Training: 100.00%,  Loss: 0.00014, Acc: 100.00%, Recall: 99.99%, F1: 100.00%\r"
     ]
    },
    {
     "name": "stdout",
     "output_type": "stream",
     "text": [
      "\n",
      "1135\n"
     ]
    },
    {
     "name": "stderr",
     "output_type": "stream",
     "text": [
      "05-26 07:09:18 [1135] Lr: 0.000001, Training: 100.00%,  Loss: 0.00019, Acc: 99.99%, Recall: 99.98%, F1: 99.99%0%\r"
     ]
    },
    {
     "name": "stdout",
     "output_type": "stream",
     "text": [
      "\n"
     ]
    },
    {
     "name": "stderr",
     "output_type": "stream",
     "text": [
      "100%|███████████████████████████████████████████████████████████████████████████████████████████████████████████| 5100/5100 [01:30<00:00, 56.40it/s]\n"
     ]
    },
    {
     "name": "stdout",
     "output_type": "stream",
     "text": [
      "2024-05-26 07:10:49 1135 epoch, Acc 99.99%, Recall 99.98%, F1 99.99%, Val_acc 99.24%, Best_acc 99.33%, Val_recall 99.46%, Best_recall 99.79%, Val_f1  99.19%, Best_f1 99.29%\n",
      "1136\n"
     ]
    },
    {
     "name": "stderr",
     "output_type": "stream",
     "text": [
      "05-26 07:12:02 [1136] Lr: 0.000001, Training: 100.00%,  Loss: 0.00052, Acc: 99.98%, Recall: 99.99%, F1: 99.98%%\r"
     ]
    },
    {
     "name": "stdout",
     "output_type": "stream",
     "text": [
      "\n",
      "1137\n"
     ]
    },
    {
     "name": "stderr",
     "output_type": "stream",
     "text": [
      "05-26 07:13:15 [1137] Lr: 0.000001, Training: 100.00%,  Loss: 0.00034, Acc: 99.99%, Recall: 99.99%, F1: 99.98%0%\r"
     ]
    },
    {
     "name": "stdout",
     "output_type": "stream",
     "text": [
      "\n",
      "1138\n"
     ]
    },
    {
     "name": "stderr",
     "output_type": "stream",
     "text": [
      "05-26 07:14:27 [1138] Lr: 0.000001, Training: 100.00%,  Loss: 0.00130, Acc: 99.98%, Recall: 99.99%, F1: 99.97%0%\r"
     ]
    },
    {
     "name": "stdout",
     "output_type": "stream",
     "text": [
      "\n",
      "1139\n"
     ]
    },
    {
     "name": "stderr",
     "output_type": "stream",
     "text": [
      "05-26 07:15:40 [1139] Lr: 0.000001, Training: 100.00%,  Loss: 0.00026, Acc: 100.00%, Recall: 100.00%, F1: 100.00%\r"
     ]
    },
    {
     "name": "stdout",
     "output_type": "stream",
     "text": [
      "\n",
      "1140\n"
     ]
    },
    {
     "name": "stderr",
     "output_type": "stream",
     "text": [
      "05-26 07:16:53 [1140] Lr: 0.000001, Training: 100.00%,  Loss: 0.00031, Acc: 99.99%, Recall: 99.98%, F1: 99.99%0%\r"
     ]
    },
    {
     "name": "stdout",
     "output_type": "stream",
     "text": [
      "\n"
     ]
    },
    {
     "name": "stderr",
     "output_type": "stream",
     "text": [
      "100%|███████████████████████████████████████████████████████████████████████████████████████████████████████████| 5100/5100 [01:32<00:00, 55.40it/s]\n"
     ]
    },
    {
     "name": "stdout",
     "output_type": "stream",
     "text": [
      "2024-05-26 07:18:26 1140 epoch, Acc 99.99%, Recall 99.98%, F1 99.99%, Val_acc 98.94%, Best_acc 99.33%, Val_recall 99.46%, Best_recall 99.79%, Val_f1  98.88%, Best_f1 99.29%\n",
      "1141\n"
     ]
    },
    {
     "name": "stderr",
     "output_type": "stream",
     "text": [
      "05-26 07:19:38 [1141] Lr: 0.000001, Training: 100.00%,  Loss: 0.00041, Acc: 99.99%, Recall: 99.98%, F1: 99.98%0%\r"
     ]
    },
    {
     "name": "stdout",
     "output_type": "stream",
     "text": [
      "\n",
      "1142\n"
     ]
    },
    {
     "name": "stderr",
     "output_type": "stream",
     "text": [
      "05-26 07:20:51 [1142] Lr: 0.000001, Training: 100.00%,  Loss: 0.00020, Acc: 100.00%, Recall: 100.00%, F1: 100.00%\r"
     ]
    },
    {
     "name": "stdout",
     "output_type": "stream",
     "text": [
      "\n",
      "1143\n"
     ]
    },
    {
     "name": "stderr",
     "output_type": "stream",
     "text": [
      "05-26 07:22:03 [1143] Lr: 0.000001, Training: 100.00%,  Loss: 0.00038, Acc: 99.98%, Recall: 99.98%, F1: 99.98%%\r"
     ]
    },
    {
     "name": "stdout",
     "output_type": "stream",
     "text": [
      "\n",
      "1144\n"
     ]
    },
    {
     "name": "stderr",
     "output_type": "stream",
     "text": [
      "05-26 07:23:16 [1144] Lr: 0.000001, Training: 100.00%,  Loss: 0.00056, Acc: 99.99%, Recall: 99.98%, F1: 99.98%0%\r"
     ]
    },
    {
     "name": "stdout",
     "output_type": "stream",
     "text": [
      "\n",
      "1145\n"
     ]
    },
    {
     "name": "stderr",
     "output_type": "stream",
     "text": [
      "05-26 07:24:29 [1145] Lr: 0.000001, Training: 100.00%,  Loss: 0.00055, Acc: 99.98%, Recall: 99.97%, F1: 99.98%0%\r"
     ]
    },
    {
     "name": "stdout",
     "output_type": "stream",
     "text": [
      "\n"
     ]
    },
    {
     "name": "stderr",
     "output_type": "stream",
     "text": [
      "100%|███████████████████████████████████████████████████████████████████████████████████████████████████████████| 5100/5100 [01:27<00:00, 58.01it/s]\n"
     ]
    },
    {
     "name": "stdout",
     "output_type": "stream",
     "text": [
      "2024-05-26 07:25:57 1145 epoch, Acc 99.98%, Recall 99.97%, F1 99.98%, Val_acc 98.96%, Best_acc 99.33%, Val_recall 99.54%, Best_recall 99.79%, Val_f1  98.90%, Best_f1 99.29%\n",
      "1146\n"
     ]
    },
    {
     "name": "stderr",
     "output_type": "stream",
     "text": [
      "05-26 07:27:10 [1146] Lr: 0.000001, Training: 100.00%,  Loss: 0.00049, Acc: 99.99%, Recall: 100.00%, F1: 99.99%%\r"
     ]
    },
    {
     "name": "stdout",
     "output_type": "stream",
     "text": [
      "\n",
      "1147\n"
     ]
    },
    {
     "name": "stderr",
     "output_type": "stream",
     "text": [
      "05-26 07:28:23 [1147] Lr: 0.000001, Training: 100.00%,  Loss: 0.00023, Acc: 99.99%, Recall: 99.99%, F1: 99.99%0%\r"
     ]
    },
    {
     "name": "stdout",
     "output_type": "stream",
     "text": [
      "\n",
      "1148\n"
     ]
    },
    {
     "name": "stderr",
     "output_type": "stream",
     "text": [
      "05-26 07:29:36 [1148] Lr: 0.000001, Training: 100.00%,  Loss: 0.00004, Acc: 100.00%, Recall: 100.00%, F1: 100.00%\r"
     ]
    },
    {
     "name": "stdout",
     "output_type": "stream",
     "text": [
      "\n",
      "1149\n"
     ]
    },
    {
     "name": "stderr",
     "output_type": "stream",
     "text": [
      "05-26 07:30:48 [1149] Lr: 0.000001, Training: 100.00%,  Loss: 0.00034, Acc: 99.99%, Recall: 99.99%, F1: 99.99%%\r"
     ]
    },
    {
     "name": "stdout",
     "output_type": "stream",
     "text": [
      "\n",
      "1150\n"
     ]
    },
    {
     "name": "stderr",
     "output_type": "stream",
     "text": [
      "05-26 07:32:01 [1150] Lr: 0.000001, Training: 100.00%,  Loss: 0.00015, Acc: 100.00%, Recall: 100.00%, F1: 99.99%\r"
     ]
    },
    {
     "name": "stdout",
     "output_type": "stream",
     "text": [
      "\n"
     ]
    },
    {
     "name": "stderr",
     "output_type": "stream",
     "text": [
      "100%|███████████████████████████████████████████████████████████████████████████████████████████████████████████| 5100/5100 [01:29<00:00, 57.22it/s]\n"
     ]
    },
    {
     "name": "stdout",
     "output_type": "stream",
     "text": [
      "2024-05-26 07:33:31 1150 epoch, Acc 100.00%, Recall 100.00%, F1 99.99%, Val_acc 99.22%, Best_acc 99.33%, Val_recall 99.46%, Best_recall 99.79%, Val_f1  99.17%, Best_f1 99.29%\n",
      "1151\n"
     ]
    },
    {
     "name": "stderr",
     "output_type": "stream",
     "text": [
      "05-26 07:34:44 [1151] Lr: 0.000001, Training: 100.00%,  Loss: 0.00023, Acc: 99.99%, Recall: 100.00%, F1: 99.98%%\r"
     ]
    },
    {
     "name": "stdout",
     "output_type": "stream",
     "text": [
      "\n",
      "1152\n"
     ]
    },
    {
     "name": "stderr",
     "output_type": "stream",
     "text": [
      "05-26 07:35:57 [1152] Lr: 0.000001, Training: 100.00%,  Loss: 0.00046, Acc: 99.98%, Recall: 99.97%, F1: 99.97%0%\r"
     ]
    },
    {
     "name": "stdout",
     "output_type": "stream",
     "text": [
      "\n",
      "1153\n"
     ]
    },
    {
     "name": "stderr",
     "output_type": "stream",
     "text": [
      "05-26 07:37:10 [1153] Lr: 0.000001, Training: 100.00%,  Loss: 0.00025, Acc: 99.99%, Recall: 99.99%, F1: 99.98%0%\r"
     ]
    },
    {
     "name": "stdout",
     "output_type": "stream",
     "text": [
      "\n",
      "1154\n"
     ]
    },
    {
     "name": "stderr",
     "output_type": "stream",
     "text": [
      "05-26 07:38:22 [1154] Lr: 0.000001, Training: 100.00%,  Loss: 0.00508, Acc: 99.99%, Recall: 99.99%, F1: 99.99%0%\r"
     ]
    },
    {
     "name": "stdout",
     "output_type": "stream",
     "text": [
      "\n",
      "1155\n"
     ]
    },
    {
     "name": "stderr",
     "output_type": "stream",
     "text": [
      "05-26 07:39:36 [1155] Lr: 0.000001, Training: 100.00%,  Loss: 0.00006, Acc: 100.00%, Recall: 100.00%, F1: 100.00%\r"
     ]
    },
    {
     "name": "stdout",
     "output_type": "stream",
     "text": [
      "\n"
     ]
    },
    {
     "name": "stderr",
     "output_type": "stream",
     "text": [
      "100%|███████████████████████████████████████████████████████████████████████████████████████████████████████████| 5100/5100 [01:27<00:00, 58.08it/s]\n"
     ]
    },
    {
     "name": "stdout",
     "output_type": "stream",
     "text": [
      "2024-05-26 07:41:04 1155 epoch, Acc 100.00%, Recall 100.00%, F1 100.00%, Val_acc 99.22%, Best_acc 99.33%, Val_recall 99.50%, Best_recall 99.79%, Val_f1  99.17%, Best_f1 99.29%\n",
      "1156\n"
     ]
    },
    {
     "name": "stderr",
     "output_type": "stream",
     "text": [
      "05-26 07:42:17 [1156] Lr: 0.000001, Training: 100.00%,  Loss: 0.00040, Acc: 99.98%, Recall: 99.99%, F1: 99.98%0%\r"
     ]
    },
    {
     "name": "stdout",
     "output_type": "stream",
     "text": [
      "\n",
      "1157\n"
     ]
    },
    {
     "name": "stderr",
     "output_type": "stream",
     "text": [
      "05-26 07:43:30 [1157] Lr: 0.000001, Training: 100.00%,  Loss: 0.00002, Acc: 100.00%, Recall: 100.00%, F1: 100.00%\r"
     ]
    },
    {
     "name": "stdout",
     "output_type": "stream",
     "text": [
      "\n",
      "1158\n"
     ]
    },
    {
     "name": "stderr",
     "output_type": "stream",
     "text": [
      "05-26 07:44:42 [1158] Lr: 0.000001, Training: 100.00%,  Loss: 0.00007, Acc: 100.00%, Recall: 100.00%, F1: 100.00%\r"
     ]
    },
    {
     "name": "stdout",
     "output_type": "stream",
     "text": [
      "\n",
      "1159\n"
     ]
    },
    {
     "name": "stderr",
     "output_type": "stream",
     "text": [
      "05-26 07:45:55 [1159] Lr: 0.000001, Training: 100.00%,  Loss: 0.00011, Acc: 100.00%, Recall: 100.00%, F1: 100.00%\r"
     ]
    },
    {
     "name": "stdout",
     "output_type": "stream",
     "text": [
      "\n",
      "1160\n"
     ]
    },
    {
     "name": "stderr",
     "output_type": "stream",
     "text": [
      "05-26 07:47:08 [1160] Lr: 0.000001, Training: 100.00%,  Loss: 0.00042, Acc: 99.98%, Recall: 99.97%, F1: 99.97%0%\r"
     ]
    },
    {
     "name": "stdout",
     "output_type": "stream",
     "text": [
      "\n"
     ]
    },
    {
     "name": "stderr",
     "output_type": "stream",
     "text": [
      "100%|███████████████████████████████████████████████████████████████████████████████████████████████████████████| 5100/5100 [01:29<00:00, 56.83it/s]\n"
     ]
    },
    {
     "name": "stdout",
     "output_type": "stream",
     "text": [
      "2024-05-26 07:48:38 1160 epoch, Acc 99.98%, Recall 99.97%, F1 99.97%, Val_acc 98.80%, Best_acc 99.33%, Val_recall 99.46%, Best_recall 99.79%, Val_f1  98.74%, Best_f1 99.29%\n",
      "1161\n"
     ]
    },
    {
     "name": "stderr",
     "output_type": "stream",
     "text": [
      "05-26 07:49:51 [1161] Lr: 0.000001, Training: 100.00%,  Loss: 0.00035, Acc: 99.99%, Recall: 99.98%, F1: 99.98%%\r"
     ]
    },
    {
     "name": "stdout",
     "output_type": "stream",
     "text": [
      "\n",
      "1162\n"
     ]
    },
    {
     "name": "stderr",
     "output_type": "stream",
     "text": [
      "05-26 07:51:04 [1162] Lr: 0.000001, Training: 100.00%,  Loss: 0.00088, Acc: 99.98%, Recall: 99.99%, F1: 99.98%0%\r"
     ]
    },
    {
     "name": "stdout",
     "output_type": "stream",
     "text": [
      "\n",
      "1163\n"
     ]
    },
    {
     "name": "stderr",
     "output_type": "stream",
     "text": [
      "05-26 07:52:17 [1163] Lr: 0.000001, Training: 100.00%,  Loss: 0.00018, Acc: 99.99%, Recall: 99.98%, F1: 99.99%%\r"
     ]
    },
    {
     "name": "stdout",
     "output_type": "stream",
     "text": [
      "\n",
      "1164\n"
     ]
    },
    {
     "name": "stderr",
     "output_type": "stream",
     "text": [
      "05-26 07:53:30 [1164] Lr: 0.000001, Training: 100.00%,  Loss: 0.00037, Acc: 99.98%, Recall: 99.95%, F1: 99.97%0%\r"
     ]
    },
    {
     "name": "stdout",
     "output_type": "stream",
     "text": [
      "\n",
      "1165\n"
     ]
    },
    {
     "name": "stderr",
     "output_type": "stream",
     "text": [
      "05-26 07:54:43 [1165] Lr: 0.000001, Training: 100.00%,  Loss: 0.00027, Acc: 99.99%, Recall: 99.98%, F1: 99.99%0%\r"
     ]
    },
    {
     "name": "stdout",
     "output_type": "stream",
     "text": [
      "\n"
     ]
    },
    {
     "name": "stderr",
     "output_type": "stream",
     "text": [
      "100%|███████████████████████████████████████████████████████████████████████████████████████████████████████████| 5100/5100 [01:31<00:00, 56.03it/s]\n"
     ]
    },
    {
     "name": "stdout",
     "output_type": "stream",
     "text": [
      "2024-05-26 07:56:15 1165 epoch, Acc 99.99%, Recall 99.98%, F1 99.99%, Val_acc 98.98%, Best_acc 99.33%, Val_recall 99.50%, Best_recall 99.79%, Val_f1  98.92%, Best_f1 99.29%\n",
      "1166\n"
     ]
    },
    {
     "name": "stderr",
     "output_type": "stream",
     "text": [
      "05-26 07:57:27 [1166] Lr: 0.000001, Training: 100.00%,  Loss: 0.00030, Acc: 99.99%, Recall: 100.00%, F1: 99.99%%\r"
     ]
    },
    {
     "name": "stdout",
     "output_type": "stream",
     "text": [
      "\n",
      "1167\n"
     ]
    },
    {
     "name": "stderr",
     "output_type": "stream",
     "text": [
      "05-26 07:58:41 [1167] Lr: 0.000001, Training: 100.00%,  Loss: 0.00033, Acc: 99.99%, Recall: 99.99%, F1: 99.99%0%\r"
     ]
    },
    {
     "name": "stdout",
     "output_type": "stream",
     "text": [
      "\n",
      "1168\n"
     ]
    },
    {
     "name": "stderr",
     "output_type": "stream",
     "text": [
      "05-26 07:59:54 [1168] Lr: 0.000001, Training: 100.00%,  Loss: 0.00070, Acc: 99.97%, Recall: 99.98%, F1: 99.97%%\r"
     ]
    },
    {
     "name": "stdout",
     "output_type": "stream",
     "text": [
      "\n",
      "1169\n"
     ]
    },
    {
     "name": "stderr",
     "output_type": "stream",
     "text": [
      "05-26 08:01:07 [1169] Lr: 0.000001, Training: 100.00%,  Loss: 0.00059, Acc: 99.97%, Recall: 99.97%, F1: 99.97%0%\r"
     ]
    },
    {
     "name": "stdout",
     "output_type": "stream",
     "text": [
      "\n",
      "1170\n"
     ]
    },
    {
     "name": "stderr",
     "output_type": "stream",
     "text": [
      "05-26 08:02:21 [1170] Lr: 0.000001, Training: 100.00%,  Loss: 0.00035, Acc: 99.99%, Recall: 99.99%, F1: 99.98%0%\r"
     ]
    },
    {
     "name": "stdout",
     "output_type": "stream",
     "text": [
      "\n"
     ]
    },
    {
     "name": "stderr",
     "output_type": "stream",
     "text": [
      "100%|███████████████████████████████████████████████████████████████████████████████████████████████████████████| 5100/5100 [01:31<00:00, 55.63it/s]\n"
     ]
    },
    {
     "name": "stdout",
     "output_type": "stream",
     "text": [
      "2024-05-26 08:03:53 1170 epoch, Acc 99.99%, Recall 99.99%, F1 99.98%, Val_acc 98.88%, Best_acc 99.33%, Val_recall 99.50%, Best_recall 99.79%, Val_f1  98.82%, Best_f1 99.29%\n",
      "1171\n"
     ]
    },
    {
     "name": "stderr",
     "output_type": "stream",
     "text": [
      "05-26 08:05:07 [1171] Lr: 0.000001, Training: 100.00%,  Loss: 0.00018, Acc: 99.99%, Recall: 99.98%, F1: 99.99%0%\r"
     ]
    },
    {
     "name": "stdout",
     "output_type": "stream",
     "text": [
      "\n",
      "1172\n"
     ]
    },
    {
     "name": "stderr",
     "output_type": "stream",
     "text": [
      "05-26 08:06:20 [1172] Lr: 0.000001, Training: 100.00%,  Loss: 0.00049, Acc: 99.98%, Recall: 99.96%, F1: 99.97%%\r"
     ]
    },
    {
     "name": "stdout",
     "output_type": "stream",
     "text": [
      "\n",
      "1173\n"
     ]
    },
    {
     "name": "stderr",
     "output_type": "stream",
     "text": [
      "05-26 08:07:32 [1173] Lr: 0.000001, Training: 100.00%,  Loss: 0.00036, Acc: 99.99%, Recall: 100.00%, F1: 99.98%%\r"
     ]
    },
    {
     "name": "stdout",
     "output_type": "stream",
     "text": [
      "\n",
      "1174\n"
     ]
    },
    {
     "name": "stderr",
     "output_type": "stream",
     "text": [
      "05-26 08:08:46 [1174] Lr: 0.000001, Training: 100.00%,  Loss: 0.00032, Acc: 99.99%, Recall: 99.98%, F1: 99.98%0%\r"
     ]
    },
    {
     "name": "stdout",
     "output_type": "stream",
     "text": [
      "\n",
      "1175\n"
     ]
    },
    {
     "name": "stderr",
     "output_type": "stream",
     "text": [
      "05-26 08:09:58 [1175] Lr: 0.000001, Training: 100.00%,  Loss: 0.00067, Acc: 99.97%, Recall: 99.98%, F1: 99.96%%\r"
     ]
    },
    {
     "name": "stdout",
     "output_type": "stream",
     "text": [
      "\n"
     ]
    },
    {
     "name": "stderr",
     "output_type": "stream",
     "text": [
      "100%|███████████████████████████████████████████████████████████████████████████████████████████████████████████| 5100/5100 [01:27<00:00, 57.97it/s]\n"
     ]
    },
    {
     "name": "stdout",
     "output_type": "stream",
     "text": [
      "2024-05-26 08:11:27 1175 epoch, Acc 99.97%, Recall 99.98%, F1 99.96%, Val_acc 99.24%, Best_acc 99.33%, Val_recall 99.50%, Best_recall 99.79%, Val_f1  99.19%, Best_f1 99.29%\n",
      "1176\n"
     ]
    },
    {
     "name": "stderr",
     "output_type": "stream",
     "text": [
      "05-26 08:12:40 [1176] Lr: 0.000001, Training: 100.00%,  Loss: 0.00010, Acc: 100.00%, Recall: 100.00%, F1: 100.00%\r"
     ]
    },
    {
     "name": "stdout",
     "output_type": "stream",
     "text": [
      "\n",
      "1177\n"
     ]
    },
    {
     "name": "stderr",
     "output_type": "stream",
     "text": [
      "05-26 08:13:53 [1177] Lr: 0.000001, Training: 100.00%,  Loss: 0.00029, Acc: 99.99%, Recall: 99.97%, F1: 99.98%%\r"
     ]
    },
    {
     "name": "stdout",
     "output_type": "stream",
     "text": [
      "\n",
      "1178\n"
     ]
    },
    {
     "name": "stderr",
     "output_type": "stream",
     "text": [
      "05-26 08:15:06 [1178] Lr: 0.000001, Training: 100.00%,  Loss: 0.00033, Acc: 99.99%, Recall: 99.99%, F1: 99.99%%%\r"
     ]
    },
    {
     "name": "stdout",
     "output_type": "stream",
     "text": [
      "\n",
      "1179\n"
     ]
    },
    {
     "name": "stderr",
     "output_type": "stream",
     "text": [
      "05-26 08:16:19 [1179] Lr: 0.000001, Training: 100.00%,  Loss: 0.00016, Acc: 100.00%, Recall: 100.00%, F1: 100.00%\r"
     ]
    },
    {
     "name": "stdout",
     "output_type": "stream",
     "text": [
      "\n",
      "1180\n"
     ]
    },
    {
     "name": "stderr",
     "output_type": "stream",
     "text": [
      "05-26 08:17:32 [1180] Lr: 0.000001, Training: 100.00%,  Loss: 0.00019, Acc: 99.99%, Recall: 99.99%, F1: 99.99%0%\r"
     ]
    },
    {
     "name": "stdout",
     "output_type": "stream",
     "text": [
      "\n"
     ]
    },
    {
     "name": "stderr",
     "output_type": "stream",
     "text": [
      "100%|███████████████████████████████████████████████████████████████████████████████████████████████████████████| 5100/5100 [01:29<00:00, 57.30it/s]\n"
     ]
    },
    {
     "name": "stdout",
     "output_type": "stream",
     "text": [
      "2024-05-26 08:19:01 1180 epoch, Acc 99.99%, Recall 99.99%, F1 99.99%, Val_acc 98.96%, Best_acc 99.33%, Val_recall 99.54%, Best_recall 99.79%, Val_f1  98.90%, Best_f1 99.29%\n",
      "1181\n"
     ]
    },
    {
     "name": "stderr",
     "output_type": "stream",
     "text": [
      "05-26 08:20:14 [1181] Lr: 0.000001, Training: 100.00%,  Loss: 0.00014, Acc: 100.00%, Recall: 100.00%, F1: 100.00%\r"
     ]
    },
    {
     "name": "stdout",
     "output_type": "stream",
     "text": [
      "\n",
      "1182\n"
     ]
    },
    {
     "name": "stderr",
     "output_type": "stream",
     "text": [
      "05-26 08:21:28 [1182] Lr: 0.000001, Training: 100.00%,  Loss: 0.00035, Acc: 99.99%, Recall: 99.98%, F1: 99.99%0%\r"
     ]
    },
    {
     "name": "stdout",
     "output_type": "stream",
     "text": [
      "\n",
      "1183\n"
     ]
    },
    {
     "name": "stderr",
     "output_type": "stream",
     "text": [
      "05-26 08:22:40 [1183] Lr: 0.000001, Training: 100.00%,  Loss: 0.00029, Acc: 99.99%, Recall: 99.98%, F1: 99.98%0%\r"
     ]
    },
    {
     "name": "stdout",
     "output_type": "stream",
     "text": [
      "\n",
      "1184\n"
     ]
    },
    {
     "name": "stderr",
     "output_type": "stream",
     "text": [
      "05-26 08:23:53 [1184] Lr: 0.000001, Training: 100.00%,  Loss: 0.00058, Acc: 99.98%, Recall: 99.97%, F1: 99.98%0%\r"
     ]
    },
    {
     "name": "stdout",
     "output_type": "stream",
     "text": [
      "\n",
      "1185\n"
     ]
    },
    {
     "name": "stderr",
     "output_type": "stream",
     "text": [
      "05-26 08:25:06 [1185] Lr: 0.000001, Training: 100.00%,  Loss: 0.00010, Acc: 100.00%, Recall: 100.00%, F1: 100.00%\r"
     ]
    },
    {
     "name": "stdout",
     "output_type": "stream",
     "text": [
      "\n"
     ]
    },
    {
     "name": "stderr",
     "output_type": "stream",
     "text": [
      "100%|███████████████████████████████████████████████████████████████████████████████████████████████████████████| 5100/5100 [01:30<00:00, 56.13it/s]\n"
     ]
    },
    {
     "name": "stdout",
     "output_type": "stream",
     "text": [
      "2024-05-26 08:26:38 1185 epoch, Acc 100.00%, Recall 100.00%, F1 100.00%, Val_acc 98.90%, Best_acc 99.33%, Val_recall 99.50%, Best_recall 99.79%, Val_f1  98.84%, Best_f1 99.29%\n",
      "1186\n"
     ]
    },
    {
     "name": "stderr",
     "output_type": "stream",
     "text": [
      "05-26 08:27:50 [1186] Lr: 0.000001, Training: 100.00%,  Loss: 0.00011, Acc: 100.00%, Recall: 99.99%, F1: 100.00%\r"
     ]
    },
    {
     "name": "stdout",
     "output_type": "stream",
     "text": [
      "\n",
      "1187\n"
     ]
    },
    {
     "name": "stderr",
     "output_type": "stream",
     "text": [
      "05-26 08:29:03 [1187] Lr: 0.000001, Training: 100.00%,  Loss: 0.00030, Acc: 99.99%, Recall: 99.99%, F1: 99.99%0%\r"
     ]
    },
    {
     "name": "stdout",
     "output_type": "stream",
     "text": [
      "\n",
      "1188\n"
     ]
    },
    {
     "name": "stderr",
     "output_type": "stream",
     "text": [
      "05-26 08:30:16 [1188] Lr: 0.000001, Training: 100.00%,  Loss: 0.00037, Acc: 99.99%, Recall: 99.99%, F1: 99.98%0%\r"
     ]
    },
    {
     "name": "stdout",
     "output_type": "stream",
     "text": [
      "\n",
      "1189\n"
     ]
    },
    {
     "name": "stderr",
     "output_type": "stream",
     "text": [
      "05-26 08:31:29 [1189] Lr: 0.000001, Training: 100.00%,  Loss: 0.00049, Acc: 99.99%, Recall: 100.00%, F1: 99.99%%\r"
     ]
    },
    {
     "name": "stdout",
     "output_type": "stream",
     "text": [
      "\n",
      "1190\n"
     ]
    },
    {
     "name": "stderr",
     "output_type": "stream",
     "text": [
      "05-26 08:32:42 [1190] Lr: 0.000001, Training: 100.00%,  Loss: 0.00018, Acc: 100.00%, Recall: 100.00%, F1: 99.99%\r"
     ]
    },
    {
     "name": "stdout",
     "output_type": "stream",
     "text": [
      "\n"
     ]
    },
    {
     "name": "stderr",
     "output_type": "stream",
     "text": [
      "100%|███████████████████████████████████████████████████████████████████████████████████████████████████████████| 5100/5100 [01:30<00:00, 56.67it/s]\n"
     ]
    },
    {
     "name": "stdout",
     "output_type": "stream",
     "text": [
      "2024-05-26 08:34:12 1190 epoch, Acc 100.00%, Recall 100.00%, F1 99.99%, Val_acc 99.24%, Best_acc 99.33%, Val_recall 99.50%, Best_recall 99.79%, Val_f1  99.19%, Best_f1 99.29%\n",
      "1191\n"
     ]
    },
    {
     "name": "stderr",
     "output_type": "stream",
     "text": [
      "05-26 08:35:25 [1191] Lr: 0.000001, Training: 100.00%,  Loss: 0.00021, Acc: 99.99%, Recall: 99.98%, F1: 99.99%0%\r"
     ]
    },
    {
     "name": "stdout",
     "output_type": "stream",
     "text": [
      "\n",
      "1192\n"
     ]
    },
    {
     "name": "stderr",
     "output_type": "stream",
     "text": [
      "05-26 08:36:38 [1192] Lr: 0.000001, Training: 100.00%,  Loss: 0.00023, Acc: 100.00%, Recall: 100.00%, F1: 100.00%\r"
     ]
    },
    {
     "name": "stdout",
     "output_type": "stream",
     "text": [
      "\n",
      "1193\n"
     ]
    },
    {
     "name": "stderr",
     "output_type": "stream",
     "text": [
      "05-26 08:37:51 [1193] Lr: 0.000001, Training: 100.00%,  Loss: 0.00006, Acc: 100.00%, Recall: 100.00%, F1: 100.00%\r"
     ]
    },
    {
     "name": "stdout",
     "output_type": "stream",
     "text": [
      "\n",
      "1194\n"
     ]
    },
    {
     "name": "stderr",
     "output_type": "stream",
     "text": [
      "05-26 08:39:04 [1194] Lr: 0.000001, Training: 100.00%,  Loss: 0.00042, Acc: 99.99%, Recall: 100.00%, F1: 99.99%%\r"
     ]
    },
    {
     "name": "stdout",
     "output_type": "stream",
     "text": [
      "\n",
      "1195\n"
     ]
    },
    {
     "name": "stderr",
     "output_type": "stream",
     "text": [
      "05-26 08:40:17 [1195] Lr: 0.000001, Training: 100.00%,  Loss: 0.00010, Acc: 100.00%, Recall: 100.00%, F1: 99.99%\r"
     ]
    },
    {
     "name": "stdout",
     "output_type": "stream",
     "text": [
      "\n"
     ]
    },
    {
     "name": "stderr",
     "output_type": "stream",
     "text": [
      "100%|███████████████████████████████████████████████████████████████████████████████████████████████████████████| 5100/5100 [01:28<00:00, 57.77it/s]\n"
     ]
    },
    {
     "name": "stdout",
     "output_type": "stream",
     "text": [
      "2024-05-26 08:41:46 1195 epoch, Acc 100.00%, Recall 100.00%, F1 99.99%, Val_acc 98.86%, Best_acc 99.33%, Val_recall 99.46%, Best_recall 99.79%, Val_f1  98.80%, Best_f1 99.29%\n",
      "1196\n"
     ]
    },
    {
     "name": "stderr",
     "output_type": "stream",
     "text": [
      "05-26 08:42:59 [1196] Lr: 0.000001, Training: 100.00%,  Loss: 0.00027, Acc: 99.99%, Recall: 99.99%, F1: 99.99%%%\r"
     ]
    },
    {
     "name": "stdout",
     "output_type": "stream",
     "text": [
      "\n",
      "1197\n"
     ]
    },
    {
     "name": "stderr",
     "output_type": "stream",
     "text": [
      "05-26 08:44:13 [1197] Lr: 0.000001, Training: 100.00%,  Loss: 0.00056, Acc: 99.98%, Recall: 99.98%, F1: 99.98%0%\r"
     ]
    },
    {
     "name": "stdout",
     "output_type": "stream",
     "text": [
      "\n",
      "1198\n"
     ]
    },
    {
     "name": "stderr",
     "output_type": "stream",
     "text": [
      "05-26 08:45:26 [1198] Lr: 0.000001, Training: 100.00%,  Loss: 0.00008, Acc: 100.00%, Recall: 99.99%, F1: 99.99%%\r"
     ]
    },
    {
     "name": "stdout",
     "output_type": "stream",
     "text": [
      "\n",
      "1199\n"
     ]
    },
    {
     "name": "stderr",
     "output_type": "stream",
     "text": [
      "05-26 08:46:40 [1199] Lr: 0.000001, Training: 100.00%,  Loss: 0.00006, Acc: 100.00%, Recall: 100.00%, F1: 100.00%\r"
     ]
    },
    {
     "name": "stdout",
     "output_type": "stream",
     "text": [
      "\n",
      "1200\n"
     ]
    },
    {
     "name": "stderr",
     "output_type": "stream",
     "text": [
      "05-26 08:47:53 [1200] Lr: 0.000001, Training: 100.00%,  Loss: 0.00018, Acc: 100.00%, Recall: 100.00%, F1: 100.00%\r"
     ]
    },
    {
     "name": "stdout",
     "output_type": "stream",
     "text": [
      "\n"
     ]
    },
    {
     "name": "stderr",
     "output_type": "stream",
     "text": [
      "100%|███████████████████████████████████████████████████████████████████████████████████████████████████████████| 5100/5100 [01:27<00:00, 58.11it/s]\n"
     ]
    },
    {
     "name": "stdout",
     "output_type": "stream",
     "text": [
      "2024-05-26 08:49:21 1200 epoch, Acc 100.00%, Recall 100.00%, F1 100.00%, Val_acc 98.80%, Best_acc 99.33%, Val_recall 99.50%, Best_recall 99.79%, Val_f1  98.74%, Best_f1 99.29%\n",
      "1201\n"
     ]
    },
    {
     "name": "stderr",
     "output_type": "stream",
     "text": [
      "05-26 08:50:35 [1201] Lr: 0.000001, Training: 100.00%,  Loss: 0.00015, Acc: 99.99%, Recall: 99.99%, F1: 99.99%0%\r"
     ]
    },
    {
     "name": "stdout",
     "output_type": "stream",
     "text": [
      "\n",
      "1202\n"
     ]
    },
    {
     "name": "stderr",
     "output_type": "stream",
     "text": [
      "05-26 08:51:48 [1202] Lr: 0.000001, Training: 100.00%,  Loss: 0.00048, Acc: 99.99%, Recall: 99.99%, F1: 99.99%%\r"
     ]
    },
    {
     "name": "stdout",
     "output_type": "stream",
     "text": [
      "\n",
      "1203\n"
     ]
    },
    {
     "name": "stderr",
     "output_type": "stream",
     "text": [
      "05-26 08:53:01 [1203] Lr: 0.000001, Training: 100.00%,  Loss: 0.00025, Acc: 100.00%, Recall: 99.99%, F1: 99.99%%\r"
     ]
    },
    {
     "name": "stdout",
     "output_type": "stream",
     "text": [
      "\n",
      "1204\n"
     ]
    },
    {
     "name": "stderr",
     "output_type": "stream",
     "text": [
      "05-26 08:54:14 [1204] Lr: 0.000001, Training: 100.00%,  Loss: 0.00008, Acc: 100.00%, Recall: 100.00%, F1: 100.00%\r"
     ]
    },
    {
     "name": "stdout",
     "output_type": "stream",
     "text": [
      "\n",
      "1205\n"
     ]
    },
    {
     "name": "stderr",
     "output_type": "stream",
     "text": [
      "05-26 08:55:27 [1205] Lr: 0.000001, Training: 100.00%,  Loss: 0.00073, Acc: 99.99%, Recall: 99.98%, F1: 99.99%0%\r"
     ]
    },
    {
     "name": "stdout",
     "output_type": "stream",
     "text": [
      "\n"
     ]
    },
    {
     "name": "stderr",
     "output_type": "stream",
     "text": [
      "100%|███████████████████████████████████████████████████████████████████████████████████████████████████████████| 5100/5100 [01:32<00:00, 55.29it/s]\n"
     ]
    },
    {
     "name": "stdout",
     "output_type": "stream",
     "text": [
      "2024-05-26 08:57:00 1205 epoch, Acc 99.99%, Recall 99.98%, F1 99.99%, Val_acc 99.14%, Best_acc 99.33%, Val_recall 99.50%, Best_recall 99.79%, Val_f1  99.09%, Best_f1 99.29%\n",
      "1206\n"
     ]
    },
    {
     "name": "stderr",
     "output_type": "stream",
     "text": [
      "05-26 08:58:13 [1206] Lr: 0.000001, Training: 100.00%,  Loss: 0.00018, Acc: 99.99%, Recall: 99.98%, F1: 99.99%%\r"
     ]
    },
    {
     "name": "stdout",
     "output_type": "stream",
     "text": [
      "\n",
      "1207\n"
     ]
    },
    {
     "name": "stderr",
     "output_type": "stream",
     "text": [
      "05-26 08:59:26 [1207] Lr: 0.000001, Training: 100.00%,  Loss: 0.00029, Acc: 100.00%, Recall: 99.99%, F1: 99.99%%\r"
     ]
    },
    {
     "name": "stdout",
     "output_type": "stream",
     "text": [
      "\n",
      "1208\n"
     ]
    },
    {
     "name": "stderr",
     "output_type": "stream",
     "text": [
      "05-26 09:00:38 [1208] Lr: 0.000001, Training: 100.00%,  Loss: 0.00017, Acc: 99.99%, Recall: 99.98%, F1: 99.99%%\r"
     ]
    },
    {
     "name": "stdout",
     "output_type": "stream",
     "text": [
      "\n",
      "1209\n"
     ]
    },
    {
     "name": "stderr",
     "output_type": "stream",
     "text": [
      "05-26 09:01:52 [1209] Lr: 0.000001, Training: 100.00%,  Loss: 0.00006, Acc: 100.00%, Recall: 100.00%, F1: 100.00%\r"
     ]
    },
    {
     "name": "stdout",
     "output_type": "stream",
     "text": [
      "\n",
      "1210\n"
     ]
    },
    {
     "name": "stderr",
     "output_type": "stream",
     "text": [
      "05-26 09:03:04 [1210] Lr: 0.000001, Training: 100.00%,  Loss: 0.00008, Acc: 100.00%, Recall: 100.00%, F1: 100.00%\r"
     ]
    },
    {
     "name": "stdout",
     "output_type": "stream",
     "text": [
      "\n"
     ]
    },
    {
     "name": "stderr",
     "output_type": "stream",
     "text": [
      "100%|███████████████████████████████████████████████████████████████████████████████████████████████████████████| 5100/5100 [01:30<00:00, 56.08it/s]\n"
     ]
    },
    {
     "name": "stdout",
     "output_type": "stream",
     "text": [
      "2024-05-26 09:04:36 1210 epoch, Acc 100.00%, Recall 100.00%, F1 100.00%, Val_acc 99.20%, Best_acc 99.33%, Val_recall 99.46%, Best_recall 99.79%, Val_f1  99.15%, Best_f1 99.29%\n",
      "1211\n"
     ]
    },
    {
     "name": "stderr",
     "output_type": "stream",
     "text": [
      "05-26 09:05:49 [1211] Lr: 0.000001, Training: 100.00%,  Loss: 0.00021, Acc: 99.99%, Recall: 99.99%, F1: 99.99%0%\r"
     ]
    },
    {
     "name": "stdout",
     "output_type": "stream",
     "text": [
      "\n",
      "1212\n"
     ]
    },
    {
     "name": "stderr",
     "output_type": "stream",
     "text": [
      "05-26 09:07:02 [1212] Lr: 0.000001, Training: 100.00%,  Loss: 0.00006, Acc: 100.00%, Recall: 100.00%, F1: 100.00%\r"
     ]
    },
    {
     "name": "stdout",
     "output_type": "stream",
     "text": [
      "\n",
      "1213\n"
     ]
    },
    {
     "name": "stderr",
     "output_type": "stream",
     "text": [
      "05-26 09:08:15 [1213] Lr: 0.000001, Training: 100.00%,  Loss: 0.00007, Acc: 100.00%, Recall: 100.00%, F1: 99.99%\r"
     ]
    },
    {
     "name": "stdout",
     "output_type": "stream",
     "text": [
      "\n",
      "1214\n"
     ]
    },
    {
     "name": "stderr",
     "output_type": "stream",
     "text": [
      "05-26 09:09:28 [1214] Lr: 0.000001, Training: 100.00%,  Loss: 0.00021, Acc: 100.00%, Recall: 100.00%, F1: 100.00%\r"
     ]
    },
    {
     "name": "stdout",
     "output_type": "stream",
     "text": [
      "\n",
      "1215\n"
     ]
    },
    {
     "name": "stderr",
     "output_type": "stream",
     "text": [
      "05-26 09:10:41 [1215] Lr: 0.000001, Training: 100.00%,  Loss: 0.00033, Acc: 99.98%, Recall: 99.97%, F1: 99.98%%\r"
     ]
    },
    {
     "name": "stdout",
     "output_type": "stream",
     "text": [
      "\n"
     ]
    },
    {
     "name": "stderr",
     "output_type": "stream",
     "text": [
      "100%|███████████████████████████████████████████████████████████████████████████████████████████████████████████| 5100/5100 [01:30<00:00, 56.06it/s]\n"
     ]
    },
    {
     "name": "stdout",
     "output_type": "stream",
     "text": [
      "2024-05-26 09:12:13 1215 epoch, Acc 99.98%, Recall 99.97%, F1 99.98%, Val_acc 99.24%, Best_acc 99.33%, Val_recall 99.50%, Best_recall 99.79%, Val_f1  99.19%, Best_f1 99.29%\n",
      "1216\n"
     ]
    },
    {
     "name": "stderr",
     "output_type": "stream",
     "text": [
      "05-26 09:13:26 [1216] Lr: 0.000001, Training: 100.00%,  Loss: 0.00024, Acc: 99.99%, Recall: 100.00%, F1: 99.99%%\r"
     ]
    },
    {
     "name": "stdout",
     "output_type": "stream",
     "text": [
      "\n",
      "1217\n"
     ]
    },
    {
     "name": "stderr",
     "output_type": "stream",
     "text": [
      "05-26 09:14:39 [1217] Lr: 0.000001, Training: 100.00%,  Loss: 0.00029, Acc: 99.99%, Recall: 100.00%, F1: 99.98%%\r"
     ]
    },
    {
     "name": "stdout",
     "output_type": "stream",
     "text": [
      "\n",
      "1218\n"
     ]
    },
    {
     "name": "stderr",
     "output_type": "stream",
     "text": [
      "05-26 09:15:52 [1218] Lr: 0.000001, Training: 100.00%,  Loss: 0.00007, Acc: 100.00%, Recall: 100.00%, F1: 100.00%\r"
     ]
    },
    {
     "name": "stdout",
     "output_type": "stream",
     "text": [
      "\n",
      "1219\n"
     ]
    },
    {
     "name": "stderr",
     "output_type": "stream",
     "text": [
      "05-26 09:17:05 [1219] Lr: 0.000001, Training: 100.00%,  Loss: 0.00024, Acc: 99.99%, Recall: 99.99%, F1: 99.99%0%\r"
     ]
    },
    {
     "name": "stdout",
     "output_type": "stream",
     "text": [
      "\n",
      "1220\n"
     ]
    },
    {
     "name": "stderr",
     "output_type": "stream",
     "text": [
      "05-26 09:18:18 [1220] Lr: 0.000001, Training: 100.00%,  Loss: 0.00035, Acc: 99.99%, Recall: 99.97%, F1: 99.98%%\r"
     ]
    },
    {
     "name": "stdout",
     "output_type": "stream",
     "text": [
      "\n"
     ]
    },
    {
     "name": "stderr",
     "output_type": "stream",
     "text": [
      "100%|███████████████████████████████████████████████████████████████████████████████████████████████████████████| 5100/5100 [01:29<00:00, 56.69it/s]\n"
     ]
    },
    {
     "name": "stdout",
     "output_type": "stream",
     "text": [
      "2024-05-26 09:19:49 1220 epoch, Acc 99.99%, Recall 99.97%, F1 99.98%, Val_acc 98.86%, Best_acc 99.33%, Val_recall 99.50%, Best_recall 99.79%, Val_f1  98.80%, Best_f1 99.29%\n",
      "1221\n"
     ]
    },
    {
     "name": "stderr",
     "output_type": "stream",
     "text": [
      "05-26 09:21:02 [1221] Lr: 0.000001, Training: 100.00%,  Loss: 0.00021, Acc: 100.00%, Recall: 99.99%, F1: 99.99%%\r"
     ]
    },
    {
     "name": "stdout",
     "output_type": "stream",
     "text": [
      "\n",
      "1222\n"
     ]
    },
    {
     "name": "stderr",
     "output_type": "stream",
     "text": [
      "05-26 09:22:15 [1222] Lr: 0.000001, Training: 100.00%,  Loss: 0.00016, Acc: 100.00%, Recall: 99.99%, F1: 99.99%%\r"
     ]
    },
    {
     "name": "stdout",
     "output_type": "stream",
     "text": [
      "\n",
      "1223\n"
     ]
    },
    {
     "name": "stderr",
     "output_type": "stream",
     "text": [
      "05-26 09:23:28 [1223] Lr: 0.000001, Training: 100.00%,  Loss: 0.00029, Acc: 99.99%, Recall: 99.99%, F1: 99.99%%\r"
     ]
    },
    {
     "name": "stdout",
     "output_type": "stream",
     "text": [
      "\n",
      "1224\n"
     ]
    },
    {
     "name": "stderr",
     "output_type": "stream",
     "text": [
      "05-26 09:24:40 [1224] Lr: 0.000001, Training: 100.00%,  Loss: 0.00056, Acc: 99.99%, Recall: 99.99%, F1: 99.99%0%\r"
     ]
    },
    {
     "name": "stdout",
     "output_type": "stream",
     "text": [
      "\n",
      "1225\n"
     ]
    },
    {
     "name": "stderr",
     "output_type": "stream",
     "text": [
      "05-26 09:25:53 [1225] Lr: 0.000001, Training: 100.00%,  Loss: 0.00014, Acc: 100.00%, Recall: 100.00%, F1: 100.00%\r"
     ]
    },
    {
     "name": "stdout",
     "output_type": "stream",
     "text": [
      "\n"
     ]
    },
    {
     "name": "stderr",
     "output_type": "stream",
     "text": [
      "100%|███████████████████████████████████████████████████████████████████████████████████████████████████████████| 5100/5100 [01:29<00:00, 56.86it/s]\n"
     ]
    },
    {
     "name": "stdout",
     "output_type": "stream",
     "text": [
      "2024-05-26 09:27:23 1225 epoch, Acc 100.00%, Recall 100.00%, F1 100.00%, Val_acc 99.18%, Best_acc 99.33%, Val_recall 99.50%, Best_recall 99.79%, Val_f1  99.13%, Best_f1 99.29%\n",
      "1226\n"
     ]
    },
    {
     "name": "stderr",
     "output_type": "stream",
     "text": [
      "05-26 09:28:36 [1226] Lr: 0.000001, Training: 100.00%,  Loss: 0.00028, Acc: 99.99%, Recall: 99.99%, F1: 99.99%0%\r"
     ]
    },
    {
     "name": "stdout",
     "output_type": "stream",
     "text": [
      "\n",
      "1227\n"
     ]
    },
    {
     "name": "stderr",
     "output_type": "stream",
     "text": [
      "05-26 09:29:49 [1227] Lr: 0.000001, Training: 100.00%,  Loss: 0.00010, Acc: 100.00%, Recall: 100.00%, F1: 100.00%\r"
     ]
    },
    {
     "name": "stdout",
     "output_type": "stream",
     "text": [
      "\n",
      "1228\n"
     ]
    },
    {
     "name": "stderr",
     "output_type": "stream",
     "text": [
      "05-26 09:31:02 [1228] Lr: 0.000001, Training: 100.00%,  Loss: 0.00006, Acc: 100.00%, Recall: 100.00%, F1: 100.00%\r"
     ]
    },
    {
     "name": "stdout",
     "output_type": "stream",
     "text": [
      "\n",
      "1229\n"
     ]
    },
    {
     "name": "stderr",
     "output_type": "stream",
     "text": [
      "05-26 09:32:15 [1229] Lr: 0.000001, Training: 100.00%,  Loss: 0.00032, Acc: 99.99%, Recall: 99.99%, F1: 99.99%0%\r"
     ]
    },
    {
     "name": "stdout",
     "output_type": "stream",
     "text": [
      "\n",
      "1230\n"
     ]
    },
    {
     "name": "stderr",
     "output_type": "stream",
     "text": [
      "05-26 09:33:27 [1230] Lr: 0.000001, Training: 100.00%,  Loss: 0.00041, Acc: 99.99%, Recall: 99.98%, F1: 99.99%0%\r"
     ]
    },
    {
     "name": "stdout",
     "output_type": "stream",
     "text": [
      "\n"
     ]
    },
    {
     "name": "stderr",
     "output_type": "stream",
     "text": [
      "100%|███████████████████████████████████████████████████████████████████████████████████████████████████████████| 5100/5100 [01:31<00:00, 55.87it/s]\n"
     ]
    },
    {
     "name": "stdout",
     "output_type": "stream",
     "text": [
      "2024-05-26 09:34:59 1230 epoch, Acc 99.99%, Recall 99.98%, F1 99.99%, Val_acc 99.24%, Best_acc 99.33%, Val_recall 99.54%, Best_recall 99.79%, Val_f1  99.19%, Best_f1 99.29%\n",
      "1231\n"
     ]
    },
    {
     "name": "stderr",
     "output_type": "stream",
     "text": [
      "05-26 09:36:12 [1231] Lr: 0.000001, Training: 100.00%,  Loss: 0.00030, Acc: 99.99%, Recall: 100.00%, F1: 99.98%\r"
     ]
    },
    {
     "name": "stdout",
     "output_type": "stream",
     "text": [
      "\n",
      "1232\n"
     ]
    },
    {
     "name": "stderr",
     "output_type": "stream",
     "text": [
      "05-26 09:37:25 [1232] Lr: 0.000001, Training: 100.00%,  Loss: 0.00016, Acc: 100.00%, Recall: 100.00%, F1: 99.99%\r"
     ]
    },
    {
     "name": "stdout",
     "output_type": "stream",
     "text": [
      "\n",
      "1233\n"
     ]
    },
    {
     "name": "stderr",
     "output_type": "stream",
     "text": [
      "05-26 09:38:38 [1233] Lr: 0.000001, Training: 100.00%,  Loss: 0.00064, Acc: 100.00%, Recall: 99.99%, F1: 100.00%\r"
     ]
    },
    {
     "name": "stdout",
     "output_type": "stream",
     "text": [
      "\n",
      "1234\n"
     ]
    },
    {
     "name": "stderr",
     "output_type": "stream",
     "text": [
      "05-26 09:39:52 [1234] Lr: 0.000001, Training: 100.00%,  Loss: 0.00010, Acc: 100.00%, Recall: 100.00%, F1: 100.00%\r"
     ]
    },
    {
     "name": "stdout",
     "output_type": "stream",
     "text": [
      "\n",
      "1235\n"
     ]
    },
    {
     "name": "stderr",
     "output_type": "stream",
     "text": [
      "05-26 09:41:05 [1235] Lr: 0.000001, Training: 100.00%,  Loss: 0.00035, Acc: 99.98%, Recall: 99.97%, F1: 99.98%%\r"
     ]
    },
    {
     "name": "stdout",
     "output_type": "stream",
     "text": [
      "\n"
     ]
    },
    {
     "name": "stderr",
     "output_type": "stream",
     "text": [
      "100%|███████████████████████████████████████████████████████████████████████████████████████████████████████████| 5100/5100 [01:31<00:00, 55.52it/s]\n"
     ]
    },
    {
     "name": "stdout",
     "output_type": "stream",
     "text": [
      "2024-05-26 09:42:38 1235 epoch, Acc 99.98%, Recall 99.97%, F1 99.98%, Val_acc 99.22%, Best_acc 99.33%, Val_recall 99.46%, Best_recall 99.79%, Val_f1  99.17%, Best_f1 99.29%\n",
      "1236\n"
     ]
    },
    {
     "name": "stderr",
     "output_type": "stream",
     "text": [
      "05-26 09:43:52 [1236] Lr: 0.000001, Training: 100.00%,  Loss: 0.00031, Acc: 99.99%, Recall: 99.99%, F1: 99.99%0%\r"
     ]
    },
    {
     "name": "stdout",
     "output_type": "stream",
     "text": [
      "\n",
      "1237\n"
     ]
    },
    {
     "name": "stderr",
     "output_type": "stream",
     "text": [
      "05-26 09:45:05 [1237] Lr: 0.000001, Training: 100.00%,  Loss: 0.00035, Acc: 99.99%, Recall: 100.00%, F1: 99.99%%\r"
     ]
    },
    {
     "name": "stdout",
     "output_type": "stream",
     "text": [
      "\n",
      "1238\n"
     ]
    },
    {
     "name": "stderr",
     "output_type": "stream",
     "text": [
      "05-26 09:46:19 [1238] Lr: 0.000001, Training: 100.00%,  Loss: 0.00030, Acc: 99.99%, Recall: 99.98%, F1: 99.99%0%\r"
     ]
    },
    {
     "name": "stdout",
     "output_type": "stream",
     "text": [
      "\n",
      "1239\n"
     ]
    },
    {
     "name": "stderr",
     "output_type": "stream",
     "text": [
      "05-26 09:47:33 [1239] Lr: 0.000001, Training: 100.00%,  Loss: 0.00036, Acc: 99.99%, Recall: 100.00%, F1: 99.99%%\r"
     ]
    },
    {
     "name": "stdout",
     "output_type": "stream",
     "text": [
      "\n",
      "1240\n"
     ]
    },
    {
     "name": "stderr",
     "output_type": "stream",
     "text": [
      "05-26 09:48:46 [1240] Lr: 0.000001, Training: 100.00%,  Loss: 0.00054, Acc: 99.97%, Recall: 99.96%, F1: 99.97%%\r"
     ]
    },
    {
     "name": "stdout",
     "output_type": "stream",
     "text": [
      "\n"
     ]
    },
    {
     "name": "stderr",
     "output_type": "stream",
     "text": [
      "100%|███████████████████████████████████████████████████████████████████████████████████████████████████████████| 5100/5100 [01:30<00:00, 56.12it/s]\n"
     ]
    },
    {
     "name": "stdout",
     "output_type": "stream",
     "text": [
      "2024-05-26 09:50:17 1240 epoch, Acc 99.97%, Recall 99.96%, F1 99.97%, Val_acc 99.00%, Best_acc 99.33%, Val_recall 99.50%, Best_recall 99.79%, Val_f1  98.94%, Best_f1 99.29%\n",
      "1241\n"
     ]
    },
    {
     "name": "stderr",
     "output_type": "stream",
     "text": [
      "05-26 09:51:31 [1241] Lr: 0.000001, Training: 100.00%,  Loss: 0.00001, Acc: 100.00%, Recall: 100.00%, F1: 100.00%\r"
     ]
    },
    {
     "name": "stdout",
     "output_type": "stream",
     "text": [
      "\n",
      "1242\n"
     ]
    },
    {
     "name": "stderr",
     "output_type": "stream",
     "text": [
      "05-26 09:52:45 [1242] Lr: 0.000001, Training: 100.00%,  Loss: 0.00096, Acc: 99.99%, Recall: 99.98%, F1: 99.99%0%\r"
     ]
    },
    {
     "name": "stdout",
     "output_type": "stream",
     "text": [
      "\n",
      "1243\n"
     ]
    },
    {
     "name": "stderr",
     "output_type": "stream",
     "text": [
      "05-26 09:53:58 [1243] Lr: 0.000001, Training: 100.00%,  Loss: 0.00011, Acc: 100.00%, Recall: 100.00%, F1: 99.99%\r"
     ]
    },
    {
     "name": "stdout",
     "output_type": "stream",
     "text": [
      "\n",
      "1244\n"
     ]
    },
    {
     "name": "stderr",
     "output_type": "stream",
     "text": [
      "05-26 09:55:11 [1244] Lr: 0.000001, Training: 100.00%,  Loss: 0.00042, Acc: 99.99%, Recall: 99.98%, F1: 99.98%%\r"
     ]
    },
    {
     "name": "stdout",
     "output_type": "stream",
     "text": [
      "\n",
      "1245\n"
     ]
    },
    {
     "name": "stderr",
     "output_type": "stream",
     "text": [
      "05-26 09:56:24 [1245] Lr: 0.000001, Training: 100.00%,  Loss: 0.00049, Acc: 99.99%, Recall: 99.98%, F1: 99.98%0%\r"
     ]
    },
    {
     "name": "stdout",
     "output_type": "stream",
     "text": [
      "\n"
     ]
    },
    {
     "name": "stderr",
     "output_type": "stream",
     "text": [
      "100%|███████████████████████████████████████████████████████████████████████████████████████████████████████████| 5100/5100 [01:31<00:00, 55.97it/s]\n"
     ]
    },
    {
     "name": "stdout",
     "output_type": "stream",
     "text": [
      "2024-05-26 09:57:55 1245 epoch, Acc 99.99%, Recall 99.98%, F1 99.98%, Val_acc 99.12%, Best_acc 99.33%, Val_recall 99.46%, Best_recall 99.79%, Val_f1  99.07%, Best_f1 99.29%\n",
      "1246\n"
     ]
    },
    {
     "name": "stderr",
     "output_type": "stream",
     "text": [
      "05-26 09:59:08 [1246] Lr: 0.000001, Training: 100.00%,  Loss: 0.00013, Acc: 100.00%, Recall: 100.00%, F1: 100.00%\r"
     ]
    },
    {
     "name": "stdout",
     "output_type": "stream",
     "text": [
      "\n",
      "1247\n"
     ]
    },
    {
     "name": "stderr",
     "output_type": "stream",
     "text": [
      "05-26 10:00:21 [1247] Lr: 0.000001, Training: 100.00%,  Loss: 0.00028, Acc: 100.00%, Recall: 99.99%, F1: 99.99%%\r"
     ]
    },
    {
     "name": "stdout",
     "output_type": "stream",
     "text": [
      "\n",
      "1248\n"
     ]
    },
    {
     "name": "stderr",
     "output_type": "stream",
     "text": [
      "05-26 10:01:34 [1248] Lr: 0.000001, Training: 100.00%,  Loss: 0.00019, Acc: 100.00%, Recall: 100.00%, F1: 100.00%\r"
     ]
    },
    {
     "name": "stdout",
     "output_type": "stream",
     "text": [
      "\n",
      "1249\n"
     ]
    },
    {
     "name": "stderr",
     "output_type": "stream",
     "text": [
      "05-26 10:02:47 [1249] Lr: 0.000001, Training: 100.00%,  Loss: 0.00043, Acc: 99.99%, Recall: 99.99%, F1: 99.98%\r"
     ]
    },
    {
     "name": "stdout",
     "output_type": "stream",
     "text": [
      "\n",
      "1250\n"
     ]
    },
    {
     "name": "stderr",
     "output_type": "stream",
     "text": [
      "05-26 10:04:00 [1250] Lr: 0.000001, Training: 100.00%,  Loss: 0.00062, Acc: 100.00%, Recall: 100.00%, F1: 100.00%\r"
     ]
    },
    {
     "name": "stdout",
     "output_type": "stream",
     "text": [
      "\n"
     ]
    },
    {
     "name": "stderr",
     "output_type": "stream",
     "text": [
      "100%|███████████████████████████████████████████████████████████████████████████████████████████████████████████| 5100/5100 [01:33<00:00, 54.78it/s]\n"
     ]
    },
    {
     "name": "stdout",
     "output_type": "stream",
     "text": [
      "2024-05-26 10:05:34 1250 epoch, Acc 100.00%, Recall 100.00%, F1 100.00%, Val_acc 99.04%, Best_acc 99.33%, Val_recall 99.46%, Best_recall 99.79%, Val_f1  98.98%, Best_f1 99.29%\n",
      "1251\n"
     ]
    },
    {
     "name": "stderr",
     "output_type": "stream",
     "text": [
      "05-26 10:06:46 [1251] Lr: 0.000000, Training: 100.00%,  Loss: 0.00031, Acc: 99.99%, Recall: 99.98%, F1: 99.98%0%\r"
     ]
    },
    {
     "name": "stdout",
     "output_type": "stream",
     "text": [
      "\n",
      "1252\n"
     ]
    },
    {
     "name": "stderr",
     "output_type": "stream",
     "text": [
      "05-26 10:07:59 [1252] Lr: 0.000000, Training: 100.00%,  Loss: 0.00033, Acc: 99.99%, Recall: 99.99%, F1: 99.99%0%\r"
     ]
    },
    {
     "name": "stdout",
     "output_type": "stream",
     "text": [
      "\n",
      "1253\n"
     ]
    },
    {
     "name": "stderr",
     "output_type": "stream",
     "text": [
      "05-26 10:09:12 [1253] Lr: 0.000000, Training: 100.00%,  Loss: 0.00014, Acc: 100.00%, Recall: 100.00%, F1: 99.99%\r"
     ]
    },
    {
     "name": "stdout",
     "output_type": "stream",
     "text": [
      "\n",
      "1254\n"
     ]
    },
    {
     "name": "stderr",
     "output_type": "stream",
     "text": [
      "05-26 10:10:25 [1254] Lr: 0.000000, Training: 100.00%,  Loss: 0.00053, Acc: 99.98%, Recall: 99.96%, F1: 99.97%%\r"
     ]
    },
    {
     "name": "stdout",
     "output_type": "stream",
     "text": [
      "\n",
      "1255\n"
     ]
    },
    {
     "name": "stderr",
     "output_type": "stream",
     "text": [
      "05-26 10:11:39 [1255] Lr: 0.000000, Training: 100.00%,  Loss: 0.00053, Acc: 99.98%, Recall: 99.96%, F1: 99.97%%\r"
     ]
    },
    {
     "name": "stdout",
     "output_type": "stream",
     "text": [
      "\n"
     ]
    },
    {
     "name": "stderr",
     "output_type": "stream",
     "text": [
      "100%|███████████████████████████████████████████████████████████████████████████████████████████████████████████| 5100/5100 [01:32<00:00, 55.34it/s]\n"
     ]
    },
    {
     "name": "stdout",
     "output_type": "stream",
     "text": [
      "2024-05-26 10:13:11 1255 epoch, Acc 99.98%, Recall 99.96%, F1 99.97%, Val_acc 99.04%, Best_acc 99.33%, Val_recall 99.50%, Best_recall 99.79%, Val_f1  98.98%, Best_f1 99.29%\n",
      "1256\n"
     ]
    },
    {
     "name": "stderr",
     "output_type": "stream",
     "text": [
      "05-26 10:14:25 [1256] Lr: 0.000000, Training: 100.00%,  Loss: 0.00059, Acc: 99.98%, Recall: 99.98%, F1: 99.98%0%\r"
     ]
    },
    {
     "name": "stdout",
     "output_type": "stream",
     "text": [
      "\n",
      "1257\n"
     ]
    },
    {
     "name": "stderr",
     "output_type": "stream",
     "text": [
      "05-26 10:15:37 [1257] Lr: 0.000000, Training: 100.00%,  Loss: 0.00016, Acc: 100.00%, Recall: 100.00%, F1: 100.00%\r"
     ]
    },
    {
     "name": "stdout",
     "output_type": "stream",
     "text": [
      "\n",
      "1258\n"
     ]
    },
    {
     "name": "stderr",
     "output_type": "stream",
     "text": [
      "05-26 10:16:50 [1258] Lr: 0.000000, Training: 100.00%,  Loss: 0.00011, Acc: 100.00%, Recall: 100.00%, F1: 99.99%\r"
     ]
    },
    {
     "name": "stdout",
     "output_type": "stream",
     "text": [
      "\n",
      "1259\n"
     ]
    },
    {
     "name": "stderr",
     "output_type": "stream",
     "text": [
      "05-26 10:18:03 [1259] Lr: 0.000000, Training: 100.00%,  Loss: 0.00058, Acc: 99.98%, Recall: 99.99%, F1: 99.98%0%\r"
     ]
    },
    {
     "name": "stdout",
     "output_type": "stream",
     "text": [
      "\n",
      "1260\n"
     ]
    },
    {
     "name": "stderr",
     "output_type": "stream",
     "text": [
      "05-26 10:19:16 [1260] Lr: 0.000000, Training: 100.00%,  Loss: 0.00020, Acc: 100.00%, Recall: 100.00%, F1: 99.99%\r"
     ]
    },
    {
     "name": "stdout",
     "output_type": "stream",
     "text": [
      "\n"
     ]
    },
    {
     "name": "stderr",
     "output_type": "stream",
     "text": [
      "100%|███████████████████████████████████████████████████████████████████████████████████████████████████████████| 5100/5100 [01:31<00:00, 55.68it/s]\n"
     ]
    },
    {
     "name": "stdout",
     "output_type": "stream",
     "text": [
      "2024-05-26 10:20:48 1260 epoch, Acc 100.00%, Recall 100.00%, F1 99.99%, Val_acc 99.24%, Best_acc 99.33%, Val_recall 99.46%, Best_recall 99.79%, Val_f1  99.19%, Best_f1 99.29%\n",
      "1261\n"
     ]
    },
    {
     "name": "stderr",
     "output_type": "stream",
     "text": [
      "05-26 10:22:01 [1261] Lr: 0.000000, Training: 100.00%,  Loss: 0.00061, Acc: 99.99%, Recall: 99.99%, F1: 99.99%0%\r"
     ]
    },
    {
     "name": "stdout",
     "output_type": "stream",
     "text": [
      "\n",
      "1262\n"
     ]
    },
    {
     "name": "stderr",
     "output_type": "stream",
     "text": [
      "05-26 10:23:14 [1262] Lr: 0.000000, Training: 100.00%,  Loss: 0.00016, Acc: 100.00%, Recall: 99.99%, F1: 99.99%%\r"
     ]
    },
    {
     "name": "stdout",
     "output_type": "stream",
     "text": [
      "\n",
      "1263\n"
     ]
    },
    {
     "name": "stderr",
     "output_type": "stream",
     "text": [
      "05-26 10:24:28 [1263] Lr: 0.000000, Training: 100.00%,  Loss: 0.00030, Acc: 99.99%, Recall: 99.98%, F1: 99.99%%\r"
     ]
    },
    {
     "name": "stdout",
     "output_type": "stream",
     "text": [
      "\n",
      "1264\n"
     ]
    },
    {
     "name": "stderr",
     "output_type": "stream",
     "text": [
      "05-26 10:25:41 [1264] Lr: 0.000000, Training: 100.00%,  Loss: 0.00025, Acc: 99.99%, Recall: 99.99%, F1: 99.99%%%\r"
     ]
    },
    {
     "name": "stdout",
     "output_type": "stream",
     "text": [
      "\n",
      "1265\n"
     ]
    },
    {
     "name": "stderr",
     "output_type": "stream",
     "text": [
      "05-26 10:26:54 [1265] Lr: 0.000000, Training: 100.00%,  Loss: 0.00060, Acc: 99.98%, Recall: 99.99%, F1: 99.98%%\r"
     ]
    },
    {
     "name": "stdout",
     "output_type": "stream",
     "text": [
      "\n"
     ]
    },
    {
     "name": "stderr",
     "output_type": "stream",
     "text": [
      "100%|███████████████████████████████████████████████████████████████████████████████████████████████████████████| 5100/5100 [01:29<00:00, 57.26it/s]\n"
     ]
    },
    {
     "name": "stdout",
     "output_type": "stream",
     "text": [
      "2024-05-26 10:28:23 1265 epoch, Acc 99.98%, Recall 99.99%, F1 99.98%, Val_acc 99.25%, Best_acc 99.33%, Val_recall 99.50%, Best_recall 99.79%, Val_f1  99.21%, Best_f1 99.29%\n",
      "1266\n"
     ]
    },
    {
     "name": "stderr",
     "output_type": "stream",
     "text": [
      "05-26 10:29:36 [1266] Lr: 0.000000, Training: 100.00%,  Loss: 0.00005, Acc: 100.00%, Recall: 100.00%, F1: 100.00%\r"
     ]
    },
    {
     "name": "stdout",
     "output_type": "stream",
     "text": [
      "\n",
      "1267\n"
     ]
    },
    {
     "name": "stderr",
     "output_type": "stream",
     "text": [
      "05-26 10:30:49 [1267] Lr: 0.000000, Training: 100.00%,  Loss: 0.00017, Acc: 99.99%, Recall: 99.99%, F1: 99.99%0%\r"
     ]
    },
    {
     "name": "stdout",
     "output_type": "stream",
     "text": [
      "\n",
      "1268\n"
     ]
    },
    {
     "name": "stderr",
     "output_type": "stream",
     "text": [
      "05-26 10:32:02 [1268] Lr: 0.000000, Training: 100.00%,  Loss: 0.00018, Acc: 99.99%, Recall: 99.99%, F1: 99.98%0%\r"
     ]
    },
    {
     "name": "stdout",
     "output_type": "stream",
     "text": [
      "\n",
      "1269\n"
     ]
    },
    {
     "name": "stderr",
     "output_type": "stream",
     "text": [
      "05-26 10:33:15 [1269] Lr: 0.000000, Training: 100.00%,  Loss: 0.00024, Acc: 99.99%, Recall: 99.98%, F1: 99.99%0%\r"
     ]
    },
    {
     "name": "stdout",
     "output_type": "stream",
     "text": [
      "\n",
      "1270\n"
     ]
    },
    {
     "name": "stderr",
     "output_type": "stream",
     "text": [
      "05-26 10:34:28 [1270] Lr: 0.000000, Training: 100.00%,  Loss: 0.00025, Acc: 99.99%, Recall: 99.99%, F1: 99.99%0%\r"
     ]
    },
    {
     "name": "stdout",
     "output_type": "stream",
     "text": [
      "\n"
     ]
    },
    {
     "name": "stderr",
     "output_type": "stream",
     "text": [
      "100%|███████████████████████████████████████████████████████████████████████████████████████████████████████████| 5100/5100 [01:30<00:00, 56.30it/s]\n"
     ]
    },
    {
     "name": "stdout",
     "output_type": "stream",
     "text": [
      "2024-05-26 10:35:59 1270 epoch, Acc 99.99%, Recall 99.99%, F1 99.99%, Val_acc 99.24%, Best_acc 99.33%, Val_recall 99.58%, Best_recall 99.79%, Val_f1  99.19%, Best_f1 99.29%\n",
      "1271\n"
     ]
    },
    {
     "name": "stderr",
     "output_type": "stream",
     "text": [
      "05-26 10:37:12 [1271] Lr: 0.000000, Training: 100.00%,  Loss: 0.00020, Acc: 99.99%, Recall: 100.00%, F1: 99.99%%\r"
     ]
    },
    {
     "name": "stdout",
     "output_type": "stream",
     "text": [
      "\n",
      "1272\n"
     ]
    },
    {
     "name": "stderr",
     "output_type": "stream",
     "text": [
      "05-26 10:38:25 [1272] Lr: 0.000000, Training: 100.00%,  Loss: 0.00032, Acc: 99.99%, Recall: 99.98%, F1: 99.99%0%\r"
     ]
    },
    {
     "name": "stdout",
     "output_type": "stream",
     "text": [
      "\n",
      "1273\n"
     ]
    },
    {
     "name": "stderr",
     "output_type": "stream",
     "text": [
      "05-26 10:39:39 [1273] Lr: 0.000000, Training: 100.00%,  Loss: 0.00053, Acc: 99.99%, Recall: 100.00%, F1: 99.99%%\r"
     ]
    },
    {
     "name": "stdout",
     "output_type": "stream",
     "text": [
      "\n",
      "1274\n"
     ]
    },
    {
     "name": "stderr",
     "output_type": "stream",
     "text": [
      "05-26 10:40:52 [1274] Lr: 0.000000, Training: 100.00%,  Loss: 0.00022, Acc: 100.00%, Recall: 100.00%, F1: 99.99%\r"
     ]
    },
    {
     "name": "stdout",
     "output_type": "stream",
     "text": [
      "\n",
      "1275\n"
     ]
    },
    {
     "name": "stderr",
     "output_type": "stream",
     "text": [
      "05-26 10:42:05 [1275] Lr: 0.000000, Training: 100.00%,  Loss: 0.00010, Acc: 100.00%, Recall: 100.00%, F1: 99.99%\r"
     ]
    },
    {
     "name": "stdout",
     "output_type": "stream",
     "text": [
      "\n"
     ]
    },
    {
     "name": "stderr",
     "output_type": "stream",
     "text": [
      "100%|███████████████████████████████████████████████████████████████████████████████████████████████████████████| 5100/5100 [01:32<00:00, 55.08it/s]\n"
     ]
    },
    {
     "name": "stdout",
     "output_type": "stream",
     "text": [
      "2024-05-26 10:43:38 1275 epoch, Acc 100.00%, Recall 100.00%, F1 99.99%, Val_acc 99.22%, Best_acc 99.33%, Val_recall 99.50%, Best_recall 99.79%, Val_f1  99.17%, Best_f1 99.29%\n",
      "1276\n"
     ]
    },
    {
     "name": "stderr",
     "output_type": "stream",
     "text": [
      "05-26 10:44:55 [1276] Lr: 0.000000, Training: 100.00%,  Loss: 0.00056, Acc: 99.98%, Recall: 99.98%, F1: 99.98%%\r"
     ]
    },
    {
     "name": "stdout",
     "output_type": "stream",
     "text": [
      "\n",
      "1277\n"
     ]
    },
    {
     "name": "stderr",
     "output_type": "stream",
     "text": [
      "05-26 10:46:08 [1277] Lr: 0.000000, Training: 100.00%,  Loss: 0.00027, Acc: 99.99%, Recall: 99.99%, F1: 99.98%0%\r"
     ]
    },
    {
     "name": "stdout",
     "output_type": "stream",
     "text": [
      "\n",
      "1278\n"
     ]
    },
    {
     "name": "stderr",
     "output_type": "stream",
     "text": [
      "05-26 10:47:21 [1278] Lr: 0.000000, Training: 100.00%,  Loss: 0.00021, Acc: 100.00%, Recall: 100.00%, F1: 99.99%\r"
     ]
    },
    {
     "name": "stdout",
     "output_type": "stream",
     "text": [
      "\n",
      "1279\n"
     ]
    },
    {
     "name": "stderr",
     "output_type": "stream",
     "text": [
      "05-26 10:48:34 [1279] Lr: 0.000000, Training: 100.00%,  Loss: 0.00026, Acc: 100.00%, Recall: 99.99%, F1: 99.99%%\r"
     ]
    },
    {
     "name": "stdout",
     "output_type": "stream",
     "text": [
      "\n",
      "1280\n"
     ]
    },
    {
     "name": "stderr",
     "output_type": "stream",
     "text": [
      "05-26 10:49:47 [1280] Lr: 0.000000, Training: 100.00%,  Loss: 0.00047, Acc: 99.99%, Recall: 100.00%, F1: 99.99%\r"
     ]
    },
    {
     "name": "stdout",
     "output_type": "stream",
     "text": [
      "\n"
     ]
    },
    {
     "name": "stderr",
     "output_type": "stream",
     "text": [
      "100%|███████████████████████████████████████████████████████████████████████████████████████████████████████████| 5100/5100 [01:33<00:00, 54.70it/s]\n"
     ]
    },
    {
     "name": "stdout",
     "output_type": "stream",
     "text": [
      "2024-05-26 10:51:21 1280 epoch, Acc 99.99%, Recall 100.00%, F1 99.99%, Val_acc 99.22%, Best_acc 99.33%, Val_recall 99.50%, Best_recall 99.79%, Val_f1  99.17%, Best_f1 99.29%\n",
      "1281\n"
     ]
    },
    {
     "name": "stderr",
     "output_type": "stream",
     "text": [
      "05-26 10:52:35 [1281] Lr: 0.000000, Training: 100.00%,  Loss: 0.00024, Acc: 99.99%, Recall: 99.99%, F1: 99.99%0%\r"
     ]
    },
    {
     "name": "stdout",
     "output_type": "stream",
     "text": [
      "\n",
      "1282\n"
     ]
    },
    {
     "name": "stderr",
     "output_type": "stream",
     "text": [
      "05-26 10:53:48 [1282] Lr: 0.000000, Training: 100.00%,  Loss: 0.00005, Acc: 100.00%, Recall: 100.00%, F1: 100.00%\r"
     ]
    },
    {
     "name": "stdout",
     "output_type": "stream",
     "text": [
      "\n",
      "1283\n"
     ]
    },
    {
     "name": "stderr",
     "output_type": "stream",
     "text": [
      "05-26 10:55:01 [1283] Lr: 0.000000, Training: 100.00%,  Loss: 0.00027, Acc: 99.99%, Recall: 99.98%, F1: 99.98%0%\r"
     ]
    },
    {
     "name": "stdout",
     "output_type": "stream",
     "text": [
      "\n",
      "1284\n"
     ]
    },
    {
     "name": "stderr",
     "output_type": "stream",
     "text": [
      "05-26 10:56:14 [1284] Lr: 0.000000, Training: 100.00%,  Loss: 0.00007, Acc: 100.00%, Recall: 100.00%, F1: 100.00%\r"
     ]
    },
    {
     "name": "stdout",
     "output_type": "stream",
     "text": [
      "\n",
      "1285\n"
     ]
    },
    {
     "name": "stderr",
     "output_type": "stream",
     "text": [
      "05-26 10:57:27 [1285] Lr: 0.000000, Training: 100.00%,  Loss: 0.00041, Acc: 99.99%, Recall: 99.99%, F1: 99.99%0%\r"
     ]
    },
    {
     "name": "stdout",
     "output_type": "stream",
     "text": [
      "\n"
     ]
    },
    {
     "name": "stderr",
     "output_type": "stream",
     "text": [
      "100%|███████████████████████████████████████████████████████████████████████████████████████████████████████████| 5100/5100 [01:31<00:00, 55.78it/s]\n"
     ]
    },
    {
     "name": "stdout",
     "output_type": "stream",
     "text": [
      "2024-05-26 10:58:59 1285 epoch, Acc 99.99%, Recall 99.99%, F1 99.99%, Val_acc 99.18%, Best_acc 99.33%, Val_recall 99.46%, Best_recall 99.79%, Val_f1  99.13%, Best_f1 99.29%\n",
      "1286\n"
     ]
    },
    {
     "name": "stderr",
     "output_type": "stream",
     "text": [
      "05-26 11:00:12 [1286] Lr: 0.000000, Training: 100.00%,  Loss: 0.00022, Acc: 99.99%, Recall: 100.00%, F1: 99.99%\r"
     ]
    },
    {
     "name": "stdout",
     "output_type": "stream",
     "text": [
      "\n",
      "1287\n"
     ]
    },
    {
     "name": "stderr",
     "output_type": "stream",
     "text": [
      "05-26 11:01:25 [1287] Lr: 0.000000, Training: 100.00%,  Loss: 0.00024, Acc: 99.99%, Recall: 99.99%, F1: 99.98%0%\r"
     ]
    },
    {
     "name": "stdout",
     "output_type": "stream",
     "text": [
      "\n",
      "1288\n"
     ]
    },
    {
     "name": "stderr",
     "output_type": "stream",
     "text": [
      "05-26 11:02:38 [1288] Lr: 0.000000, Training: 100.00%,  Loss: 0.00084, Acc: 99.98%, Recall: 99.96%, F1: 99.97%%\r"
     ]
    },
    {
     "name": "stdout",
     "output_type": "stream",
     "text": [
      "\n",
      "1289\n"
     ]
    },
    {
     "name": "stderr",
     "output_type": "stream",
     "text": [
      "05-26 11:03:52 [1289] Lr: 0.000000, Training: 100.00%,  Loss: 0.00059, Acc: 99.99%, Recall: 99.99%, F1: 99.98%0%\r"
     ]
    },
    {
     "name": "stdout",
     "output_type": "stream",
     "text": [
      "\n",
      "1290\n"
     ]
    },
    {
     "name": "stderr",
     "output_type": "stream",
     "text": [
      "05-26 11:05:04 [1290] Lr: 0.000000, Training: 100.00%,  Loss: 0.00013, Acc: 100.00%, Recall: 99.99%, F1: 99.99%%\r"
     ]
    },
    {
     "name": "stdout",
     "output_type": "stream",
     "text": [
      "\n"
     ]
    },
    {
     "name": "stderr",
     "output_type": "stream",
     "text": [
      "100%|███████████████████████████████████████████████████████████████████████████████████████████████████████████| 5100/5100 [01:31<00:00, 55.96it/s]\n"
     ]
    },
    {
     "name": "stdout",
     "output_type": "stream",
     "text": [
      "2024-05-26 11:06:36 1290 epoch, Acc 100.00%, Recall 99.99%, F1 99.99%, Val_acc 98.84%, Best_acc 99.33%, Val_recall 99.50%, Best_recall 99.79%, Val_f1  98.78%, Best_f1 99.29%\n",
      "1291\n"
     ]
    },
    {
     "name": "stderr",
     "output_type": "stream",
     "text": [
      "05-26 11:07:50 [1291] Lr: 0.000000, Training: 100.00%,  Loss: 0.00038, Acc: 100.00%, Recall: 100.00%, F1: 100.00%\r"
     ]
    },
    {
     "name": "stdout",
     "output_type": "stream",
     "text": [
      "\n",
      "1292\n"
     ]
    },
    {
     "name": "stderr",
     "output_type": "stream",
     "text": [
      "05-26 11:09:03 [1292] Lr: 0.000000, Training: 100.00%,  Loss: 0.00096, Acc: 99.96%, Recall: 99.97%, F1: 99.96%0%\r"
     ]
    },
    {
     "name": "stdout",
     "output_type": "stream",
     "text": [
      "\n",
      "1293\n"
     ]
    },
    {
     "name": "stderr",
     "output_type": "stream",
     "text": [
      "05-26 11:10:17 [1293] Lr: 0.000000, Training: 100.00%,  Loss: 0.00007, Acc: 100.00%, Recall: 100.00%, F1: 100.00%\r"
     ]
    },
    {
     "name": "stdout",
     "output_type": "stream",
     "text": [
      "\n",
      "1294\n"
     ]
    },
    {
     "name": "stderr",
     "output_type": "stream",
     "text": [
      "05-26 11:11:30 [1294] Lr: 0.000000, Training: 100.00%,  Loss: 0.00024, Acc: 99.99%, Recall: 99.98%, F1: 99.99%%\r"
     ]
    },
    {
     "name": "stdout",
     "output_type": "stream",
     "text": [
      "\n",
      "1295\n"
     ]
    },
    {
     "name": "stderr",
     "output_type": "stream",
     "text": [
      "05-26 11:12:43 [1295] Lr: 0.000000, Training: 100.00%,  Loss: 0.00123, Acc: 99.97%, Recall: 100.00%, F1: 99.97%\r"
     ]
    },
    {
     "name": "stdout",
     "output_type": "stream",
     "text": [
      "\n"
     ]
    },
    {
     "name": "stderr",
     "output_type": "stream",
     "text": [
      "100%|███████████████████████████████████████████████████████████████████████████████████████████████████████████| 5100/5100 [01:35<00:00, 53.14it/s]\n"
     ]
    },
    {
     "name": "stdout",
     "output_type": "stream",
     "text": [
      "2024-05-26 11:14:20 1295 epoch, Acc 99.97%, Recall 100.00%, F1 99.97%, Val_acc 99.24%, Best_acc 99.33%, Val_recall 99.54%, Best_recall 99.79%, Val_f1  99.19%, Best_f1 99.29%\n",
      "1296\n"
     ]
    },
    {
     "name": "stderr",
     "output_type": "stream",
     "text": [
      "05-26 11:15:34 [1296] Lr: 0.000000, Training: 100.00%,  Loss: 0.00055, Acc: 99.98%, Recall: 99.98%, F1: 99.98%0%\r"
     ]
    },
    {
     "name": "stdout",
     "output_type": "stream",
     "text": [
      "\n",
      "1297\n"
     ]
    },
    {
     "name": "stderr",
     "output_type": "stream",
     "text": [
      "05-26 11:16:47 [1297] Lr: 0.000000, Training: 100.00%,  Loss: 0.00032, Acc: 99.98%, Recall: 99.98%, F1: 99.98%%\r"
     ]
    },
    {
     "name": "stdout",
     "output_type": "stream",
     "text": [
      "\n",
      "1298\n"
     ]
    },
    {
     "name": "stderr",
     "output_type": "stream",
     "text": [
      "05-26 11:18:00 [1298] Lr: 0.000000, Training: 100.00%,  Loss: 0.00032, Acc: 99.99%, Recall: 99.98%, F1: 99.99%0%\r"
     ]
    },
    {
     "name": "stdout",
     "output_type": "stream",
     "text": [
      "\n",
      "1299\n"
     ]
    },
    {
     "name": "stderr",
     "output_type": "stream",
     "text": [
      "05-26 11:19:13 [1299] Lr: 0.000000, Training: 100.00%,  Loss: 0.00027, Acc: 100.00%, Recall: 100.00%, F1: 99.99%\r"
     ]
    },
    {
     "name": "stdout",
     "output_type": "stream",
     "text": [
      "\n",
      "1300\n"
     ]
    },
    {
     "name": "stderr",
     "output_type": "stream",
     "text": [
      "05-26 11:20:27 [1300] Lr: 0.000000, Training: 100.00%,  Loss: 0.00053, Acc: 99.99%, Recall: 99.98%, F1: 99.99%0%\r"
     ]
    },
    {
     "name": "stdout",
     "output_type": "stream",
     "text": [
      "\n"
     ]
    },
    {
     "name": "stderr",
     "output_type": "stream",
     "text": [
      "100%|███████████████████████████████████████████████████████████████████████████████████████████████████████████| 5100/5100 [01:29<00:00, 57.07it/s]\n"
     ]
    },
    {
     "name": "stdout",
     "output_type": "stream",
     "text": [
      "2024-05-26 11:21:57 1300 epoch, Acc 99.99%, Recall 99.98%, F1 99.99%, Val_acc 99.20%, Best_acc 99.33%, Val_recall 99.50%, Best_recall 99.79%, Val_f1  99.15%, Best_f1 99.29%\n",
      "1301\n"
     ]
    },
    {
     "name": "stderr",
     "output_type": "stream",
     "text": [
      "05-26 11:23:10 [1301] Lr: 0.000000, Training: 100.00%,  Loss: 0.00080, Acc: 99.98%, Recall: 99.97%, F1: 99.98%%\r"
     ]
    },
    {
     "name": "stdout",
     "output_type": "stream",
     "text": [
      "\n",
      "1302\n"
     ]
    },
    {
     "name": "stderr",
     "output_type": "stream",
     "text": [
      "05-26 11:24:23 [1302] Lr: 0.000000, Training: 100.00%,  Loss: 0.00015, Acc: 99.99%, Recall: 99.99%, F1: 99.99%0%\r"
     ]
    },
    {
     "name": "stdout",
     "output_type": "stream",
     "text": [
      "\n",
      "1303\n"
     ]
    },
    {
     "name": "stderr",
     "output_type": "stream",
     "text": [
      "05-26 11:25:35 [1303] Lr: 0.000000, Training: 100.00%,  Loss: 0.00102, Acc: 99.97%, Recall: 99.97%, F1: 99.96%\r"
     ]
    },
    {
     "name": "stdout",
     "output_type": "stream",
     "text": [
      "\n",
      "1304\n"
     ]
    },
    {
     "name": "stderr",
     "output_type": "stream",
     "text": [
      "05-26 11:26:48 [1304] Lr: 0.000000, Training: 100.00%,  Loss: 0.00021, Acc: 100.00%, Recall: 99.99%, F1: 100.00%\r"
     ]
    },
    {
     "name": "stdout",
     "output_type": "stream",
     "text": [
      "\n",
      "1305\n"
     ]
    },
    {
     "name": "stderr",
     "output_type": "stream",
     "text": [
      "05-26 11:28:01 [1305] Lr: 0.000000, Training: 100.00%,  Loss: 0.00017, Acc: 100.00%, Recall: 100.00%, F1: 100.00%\r"
     ]
    },
    {
     "name": "stdout",
     "output_type": "stream",
     "text": [
      "\n"
     ]
    },
    {
     "name": "stderr",
     "output_type": "stream",
     "text": [
      "100%|███████████████████████████████████████████████████████████████████████████████████████████████████████████| 5100/5100 [01:30<00:00, 56.65it/s]\n"
     ]
    },
    {
     "name": "stdout",
     "output_type": "stream",
     "text": [
      "2024-05-26 11:29:32 1305 epoch, Acc 100.00%, Recall 100.00%, F1 100.00%, Val_acc 99.20%, Best_acc 99.33%, Val_recall 99.50%, Best_recall 99.79%, Val_f1  99.15%, Best_f1 99.29%\n",
      "1306\n"
     ]
    },
    {
     "name": "stderr",
     "output_type": "stream",
     "text": [
      "05-26 11:30:45 [1306] Lr: 0.000000, Training: 100.00%,  Loss: 0.00021, Acc: 99.99%, Recall: 99.98%, F1: 99.99%0%\r"
     ]
    },
    {
     "name": "stdout",
     "output_type": "stream",
     "text": [
      "\n",
      "1307\n"
     ]
    },
    {
     "name": "stderr",
     "output_type": "stream",
     "text": [
      "05-26 11:31:59 [1307] Lr: 0.000000, Training: 100.00%,  Loss: 0.00004, Acc: 100.00%, Recall: 100.00%, F1: 100.00%\r"
     ]
    },
    {
     "name": "stdout",
     "output_type": "stream",
     "text": [
      "\n",
      "1308\n"
     ]
    },
    {
     "name": "stderr",
     "output_type": "stream",
     "text": [
      "05-26 11:33:12 [1308] Lr: 0.000000, Training: 100.00%,  Loss: 0.00038, Acc: 99.99%, Recall: 99.98%, F1: 99.98%0%\r"
     ]
    },
    {
     "name": "stdout",
     "output_type": "stream",
     "text": [
      "\n",
      "1309\n"
     ]
    },
    {
     "name": "stderr",
     "output_type": "stream",
     "text": [
      "05-26 11:34:26 [1309] Lr: 0.000000, Training: 100.00%,  Loss: 0.00056, Acc: 99.98%, Recall: 99.98%, F1: 99.97%0%\r"
     ]
    },
    {
     "name": "stdout",
     "output_type": "stream",
     "text": [
      "\n",
      "1310\n"
     ]
    },
    {
     "name": "stderr",
     "output_type": "stream",
     "text": [
      "05-26 11:35:39 [1310] Lr: 0.000000, Training: 100.00%,  Loss: 0.00023, Acc: 99.99%, Recall: 99.99%, F1: 99.99%0%\r"
     ]
    },
    {
     "name": "stdout",
     "output_type": "stream",
     "text": [
      "\n"
     ]
    },
    {
     "name": "stderr",
     "output_type": "stream",
     "text": [
      "100%|███████████████████████████████████████████████████████████████████████████████████████████████████████████| 5100/5100 [01:29<00:00, 56.72it/s]\n"
     ]
    },
    {
     "name": "stdout",
     "output_type": "stream",
     "text": [
      "2024-05-26 11:37:09 1310 epoch, Acc 99.99%, Recall 99.99%, F1 99.99%, Val_acc 99.24%, Best_acc 99.33%, Val_recall 99.54%, Best_recall 99.79%, Val_f1  99.19%, Best_f1 99.29%\n",
      "1311\n"
     ]
    },
    {
     "name": "stderr",
     "output_type": "stream",
     "text": [
      "05-26 11:38:22 [1311] Lr: 0.000000, Training: 100.00%,  Loss: 0.00027, Acc: 100.00%, Recall: 99.99%, F1: 100.00%\r"
     ]
    },
    {
     "name": "stdout",
     "output_type": "stream",
     "text": [
      "\n",
      "1312\n"
     ]
    },
    {
     "name": "stderr",
     "output_type": "stream",
     "text": [
      "05-26 11:39:36 [1312] Lr: 0.000000, Training: 100.00%,  Loss: 0.00022, Acc: 99.99%, Recall: 100.00%, F1: 99.99%%\r"
     ]
    },
    {
     "name": "stdout",
     "output_type": "stream",
     "text": [
      "\n",
      "1313\n"
     ]
    },
    {
     "name": "stderr",
     "output_type": "stream",
     "text": [
      "05-26 11:40:49 [1313] Lr: 0.000000, Training: 100.00%,  Loss: 0.00004, Acc: 100.00%, Recall: 100.00%, F1: 100.00%\r"
     ]
    },
    {
     "name": "stdout",
     "output_type": "stream",
     "text": [
      "\n",
      "1314\n"
     ]
    },
    {
     "name": "stderr",
     "output_type": "stream",
     "text": [
      "05-26 11:42:03 [1314] Lr: 0.000000, Training: 100.00%,  Loss: 0.00040, Acc: 99.99%, Recall: 99.98%, F1: 99.99%%\r"
     ]
    },
    {
     "name": "stdout",
     "output_type": "stream",
     "text": [
      "\n",
      "1315\n"
     ]
    },
    {
     "name": "stderr",
     "output_type": "stream",
     "text": [
      "05-26 11:43:17 [1315] Lr: 0.000000, Training: 100.00%,  Loss: 0.00015, Acc: 99.99%, Recall: 99.99%, F1: 99.99%0%\r"
     ]
    },
    {
     "name": "stdout",
     "output_type": "stream",
     "text": [
      "\n"
     ]
    },
    {
     "name": "stderr",
     "output_type": "stream",
     "text": [
      "100%|███████████████████████████████████████████████████████████████████████████████████████████████████████████| 5100/5100 [01:29<00:00, 56.85it/s]\n"
     ]
    },
    {
     "name": "stdout",
     "output_type": "stream",
     "text": [
      "2024-05-26 11:44:47 1315 epoch, Acc 99.99%, Recall 99.99%, F1 99.99%, Val_acc 99.22%, Best_acc 99.33%, Val_recall 99.50%, Best_recall 99.79%, Val_f1  99.17%, Best_f1 99.29%\n",
      "1316\n"
     ]
    },
    {
     "name": "stderr",
     "output_type": "stream",
     "text": [
      "05-26 11:46:01 [1316] Lr: 0.000000, Training: 100.00%,  Loss: 0.00015, Acc: 100.00%, Recall: 100.00%, F1: 99.99%\r"
     ]
    },
    {
     "name": "stdout",
     "output_type": "stream",
     "text": [
      "\n",
      "1317\n"
     ]
    },
    {
     "name": "stderr",
     "output_type": "stream",
     "text": [
      "05-26 11:47:14 [1317] Lr: 0.000000, Training: 100.00%,  Loss: 0.00018, Acc: 99.99%, Recall: 99.99%, F1: 99.99%0%\r"
     ]
    },
    {
     "name": "stdout",
     "output_type": "stream",
     "text": [
      "\n",
      "1318\n"
     ]
    },
    {
     "name": "stderr",
     "output_type": "stream",
     "text": [
      "05-26 11:48:27 [1318] Lr: 0.000000, Training: 100.00%,  Loss: 0.00047, Acc: 99.99%, Recall: 99.98%, F1: 99.98%0%\r"
     ]
    },
    {
     "name": "stdout",
     "output_type": "stream",
     "text": [
      "\n",
      "1319\n"
     ]
    },
    {
     "name": "stderr",
     "output_type": "stream",
     "text": [
      "05-26 11:49:41 [1319] Lr: 0.000000, Training: 100.00%,  Loss: 0.00019, Acc: 99.99%, Recall: 99.98%, F1: 99.99%0%\r"
     ]
    },
    {
     "name": "stdout",
     "output_type": "stream",
     "text": [
      "\n",
      "1320\n"
     ]
    },
    {
     "name": "stderr",
     "output_type": "stream",
     "text": [
      "05-26 11:50:54 [1320] Lr: 0.000000, Training: 100.00%,  Loss: 0.00011, Acc: 100.00%, Recall: 100.00%, F1: 100.00%\r"
     ]
    },
    {
     "name": "stdout",
     "output_type": "stream",
     "text": [
      "\n"
     ]
    },
    {
     "name": "stderr",
     "output_type": "stream",
     "text": [
      "100%|███████████████████████████████████████████████████████████████████████████████████████████████████████████| 5100/5100 [01:32<00:00, 55.02it/s]\n"
     ]
    },
    {
     "name": "stdout",
     "output_type": "stream",
     "text": [
      "2024-05-26 11:52:27 1320 epoch, Acc 100.00%, Recall 100.00%, F1 100.00%, Val_acc 99.16%, Best_acc 99.33%, Val_recall 99.50%, Best_recall 99.79%, Val_f1  99.11%, Best_f1 99.29%\n",
      "1321\n"
     ]
    },
    {
     "name": "stderr",
     "output_type": "stream",
     "text": [
      "05-26 11:53:41 [1321] Lr: 0.000000, Training: 100.00%,  Loss: 0.00020, Acc: 99.99%, Recall: 99.99%, F1: 99.99%%%\r"
     ]
    },
    {
     "name": "stdout",
     "output_type": "stream",
     "text": [
      "\n",
      "1322\n"
     ]
    },
    {
     "name": "stderr",
     "output_type": "stream",
     "text": [
      "05-26 11:54:54 [1322] Lr: 0.000000, Training: 100.00%,  Loss: 0.00009, Acc: 100.00%, Recall: 100.00%, F1: 100.00%\r"
     ]
    },
    {
     "name": "stdout",
     "output_type": "stream",
     "text": [
      "\n",
      "1323\n"
     ]
    },
    {
     "name": "stderr",
     "output_type": "stream",
     "text": [
      "05-26 11:56:08 [1323] Lr: 0.000000, Training: 100.00%,  Loss: 0.00038, Acc: 99.99%, Recall: 100.00%, F1: 99.98%%\r"
     ]
    },
    {
     "name": "stdout",
     "output_type": "stream",
     "text": [
      "\n",
      "1324\n"
     ]
    },
    {
     "name": "stderr",
     "output_type": "stream",
     "text": [
      "05-26 11:57:21 [1324] Lr: 0.000000, Training: 100.00%,  Loss: 0.00013, Acc: 100.00%, Recall: 99.99%, F1: 100.00%\r"
     ]
    },
    {
     "name": "stdout",
     "output_type": "stream",
     "text": [
      "\n",
      "1325\n"
     ]
    },
    {
     "name": "stderr",
     "output_type": "stream",
     "text": [
      "05-26 11:58:33 [1325] Lr: 0.000000, Training: 100.00%,  Loss: 0.00012, Acc: 100.00%, Recall: 99.99%, F1: 99.99%%\r"
     ]
    },
    {
     "name": "stdout",
     "output_type": "stream",
     "text": [
      "\n"
     ]
    },
    {
     "name": "stderr",
     "output_type": "stream",
     "text": [
      "100%|███████████████████████████████████████████████████████████████████████████████████████████████████████████| 5100/5100 [01:29<00:00, 57.01it/s]\n"
     ]
    },
    {
     "name": "stdout",
     "output_type": "stream",
     "text": [
      "2024-05-26 12:00:03 1325 epoch, Acc 100.00%, Recall 99.99%, F1 99.99%, Val_acc 99.22%, Best_acc 99.33%, Val_recall 99.46%, Best_recall 99.79%, Val_f1  99.17%, Best_f1 99.29%\n",
      "1326\n"
     ]
    },
    {
     "name": "stderr",
     "output_type": "stream",
     "text": [
      "05-26 12:01:17 [1326] Lr: 0.000000, Training: 100.00%,  Loss: 0.00023, Acc: 100.00%, Recall: 100.00%, F1: 100.00%\r"
     ]
    },
    {
     "name": "stdout",
     "output_type": "stream",
     "text": [
      "\n",
      "1327\n"
     ]
    },
    {
     "name": "stderr",
     "output_type": "stream",
     "text": [
      "05-26 12:01:33 [1327] Lr: 0.000000, Training: 21.70%,  Loss: 0.00029, Acc: 99.98%, Recall: 99.95%, F1: 99.97%0%\r"
     ]
    },
    {
     "ename": "KeyboardInterrupt",
     "evalue": "",
     "output_type": "error",
     "traceback": [
      "\u001b[1;31m---------------------------------------------------------------------------\u001b[0m",
      "\u001b[1;31mKeyboardInterrupt\u001b[0m                         Traceback (most recent call last)",
      "Cell \u001b[1;32mIn[11], line 18\u001b[0m\n\u001b[0;32m     16\u001b[0m \u001b[38;5;28mprint\u001b[39m(epoch)\n\u001b[0;32m     17\u001b[0m \u001b[38;5;66;03m## Training for one epoch\u001b[39;00m\n\u001b[1;32m---> 18\u001b[0m loss, lr, acc, recall, f1 \u001b[38;5;241m=\u001b[39m \u001b[43ms\u001b[49m\u001b[38;5;241;43m.\u001b[39;49m\u001b[43mtrain_network\u001b[49m\u001b[43m(\u001b[49m\u001b[43mepoch\u001b[49m\u001b[43m \u001b[49m\u001b[38;5;241;43m=\u001b[39;49m\u001b[43m \u001b[49m\u001b[43mepoch\u001b[49m\u001b[43m,\u001b[49m\u001b[43m \u001b[49m\u001b[43mloader\u001b[49m\u001b[43m \u001b[49m\u001b[38;5;241;43m=\u001b[39;49m\u001b[43m \u001b[49m\u001b[43mtrainLoader\u001b[49m\u001b[43m)\u001b[49m\n\u001b[0;32m     20\u001b[0m \u001b[38;5;66;03m## Evaluation every [test_step] epochs\u001b[39;00m\n\u001b[0;32m     21\u001b[0m \u001b[38;5;28;01mif\u001b[39;00m epoch \u001b[38;5;241m%\u001b[39m args\u001b[38;5;241m.\u001b[39mtest_step \u001b[38;5;241m==\u001b[39m \u001b[38;5;241m0\u001b[39m:\n",
      "Cell \u001b[1;32mIn[9], line 31\u001b[0m, in \u001b[0;36mFakeModel.train_network\u001b[1;34m(self, epoch, loader)\u001b[0m\n\u001b[0;32m     28\u001b[0m \u001b[38;5;28mself\u001b[39m\u001b[38;5;241m.\u001b[39mzero_grad()\n\u001b[0;32m     29\u001b[0m labels \u001b[38;5;241m=\u001b[39m torch\u001b[38;5;241m.\u001b[39mLongTensor(labels)\u001b[38;5;241m.\u001b[39mto(\u001b[38;5;28mself\u001b[39m\u001b[38;5;241m.\u001b[39mdevice) \u001b[38;5;66;03m# （bs）\u001b[39;00m\n\u001b[1;32m---> 31\u001b[0m outputs \u001b[38;5;241m=\u001b[39m \u001b[38;5;28;43mself\u001b[39;49m\u001b[38;5;241;43m.\u001b[39;49m\u001b[43mspeaker_encoder\u001b[49m\u001b[38;5;241;43m.\u001b[39;49m\u001b[43mforward\u001b[49m\u001b[43m(\u001b[49m\u001b[43mdata\u001b[49m\u001b[38;5;241;43m.\u001b[39;49m\u001b[43mto\u001b[49m\u001b[43m(\u001b[49m\u001b[38;5;28;43mself\u001b[39;49m\u001b[38;5;241;43m.\u001b[39;49m\u001b[43mdevice\u001b[49m\u001b[43m)\u001b[49m\u001b[43m)\u001b[49m  \u001b[38;5;66;03m# 二维（bs, 1）\u001b[39;00m\n\u001b[0;32m     32\u001b[0m outputs \u001b[38;5;241m=\u001b[39m outputs\u001b[38;5;241m.\u001b[39mview(\u001b[38;5;241m-\u001b[39m\u001b[38;5;241m1\u001b[39m,)\n\u001b[0;32m     34\u001b[0m outputs \u001b[38;5;241m=\u001b[39m outputs\u001b[38;5;241m.\u001b[39mfloat()\n",
      "Cell \u001b[1;32mIn[5], line 58\u001b[0m, in \u001b[0;36mCNN.forward\u001b[1;34m(self, x)\u001b[0m\n\u001b[0;32m     56\u001b[0m x \u001b[38;5;241m=\u001b[39m x\u001b[38;5;241m.\u001b[39munsqueeze(\u001b[38;5;241m1\u001b[39m)  \u001b[38;5;66;03m# torch.Size([bs, 1, n_mel(freq), time])\u001b[39;00m\n\u001b[0;32m     57\u001b[0m x \u001b[38;5;241m=\u001b[39m x\u001b[38;5;241m.\u001b[39mexpand(x\u001b[38;5;241m.\u001b[39mshape[\u001b[38;5;241m0\u001b[39m], \u001b[38;5;241m3\u001b[39m, x\u001b[38;5;241m.\u001b[39mshape[\u001b[38;5;241m2\u001b[39m], x\u001b[38;5;241m.\u001b[39mshape[\u001b[38;5;241m3\u001b[39m]) \u001b[38;5;66;03m# torch.Size([128, 3, 40, 101])\u001b[39;00m\n\u001b[1;32m---> 58\u001b[0m x \u001b[38;5;241m=\u001b[39m \u001b[38;5;28;43mself\u001b[39;49m\u001b[38;5;241;43m.\u001b[39;49m\u001b[43mresnet_feature_extractor\u001b[49m\u001b[43m(\u001b[49m\u001b[43mx\u001b[49m\u001b[43m)\u001b[49m\n\u001b[0;32m     60\u001b[0m \u001b[38;5;66;03m# Aggregate in frequency axis\u001b[39;00m\n\u001b[0;32m     61\u001b[0m x \u001b[38;5;241m=\u001b[39m torch\u001b[38;5;241m.\u001b[39mmean(x, dim\u001b[38;5;241m=\u001b[39m\u001b[38;5;241m3\u001b[39m)\n",
      "Cell \u001b[1;32mIn[5], line 48\u001b[0m, in \u001b[0;36mCNN.resnet_feature_extractor\u001b[1;34m(self, x)\u001b[0m\n\u001b[0;32m     47\u001b[0m \u001b[38;5;28;01mdef\u001b[39;00m \u001b[38;5;21mresnet_feature_extractor\u001b[39m(\u001b[38;5;28mself\u001b[39m, x):\n\u001b[1;32m---> 48\u001b[0m     x \u001b[38;5;241m=\u001b[39m \u001b[38;5;28;43mself\u001b[39;49m\u001b[38;5;241;43m.\u001b[39;49m\u001b[43mresnet_features\u001b[49m\u001b[43m(\u001b[49m\u001b[43mx\u001b[49m\u001b[43m)\u001b[49m\n\u001b[0;32m     49\u001b[0m     \u001b[38;5;28;01mreturn\u001b[39;00m x\n",
      "File \u001b[1;32mF:\\Anaconda\\envs\\pytorch\\lib\\site-packages\\torch\\nn\\modules\\module.py:1501\u001b[0m, in \u001b[0;36mModule._call_impl\u001b[1;34m(self, *args, **kwargs)\u001b[0m\n\u001b[0;32m   1496\u001b[0m \u001b[38;5;66;03m# If we don't have any hooks, we want to skip the rest of the logic in\u001b[39;00m\n\u001b[0;32m   1497\u001b[0m \u001b[38;5;66;03m# this function, and just call forward.\u001b[39;00m\n\u001b[0;32m   1498\u001b[0m \u001b[38;5;28;01mif\u001b[39;00m \u001b[38;5;129;01mnot\u001b[39;00m (\u001b[38;5;28mself\u001b[39m\u001b[38;5;241m.\u001b[39m_backward_hooks \u001b[38;5;129;01mor\u001b[39;00m \u001b[38;5;28mself\u001b[39m\u001b[38;5;241m.\u001b[39m_backward_pre_hooks \u001b[38;5;129;01mor\u001b[39;00m \u001b[38;5;28mself\u001b[39m\u001b[38;5;241m.\u001b[39m_forward_hooks \u001b[38;5;129;01mor\u001b[39;00m \u001b[38;5;28mself\u001b[39m\u001b[38;5;241m.\u001b[39m_forward_pre_hooks\n\u001b[0;32m   1499\u001b[0m         \u001b[38;5;129;01mor\u001b[39;00m _global_backward_pre_hooks \u001b[38;5;129;01mor\u001b[39;00m _global_backward_hooks\n\u001b[0;32m   1500\u001b[0m         \u001b[38;5;129;01mor\u001b[39;00m _global_forward_hooks \u001b[38;5;129;01mor\u001b[39;00m _global_forward_pre_hooks):\n\u001b[1;32m-> 1501\u001b[0m     \u001b[38;5;28;01mreturn\u001b[39;00m \u001b[43mforward_call\u001b[49m\u001b[43m(\u001b[49m\u001b[38;5;241;43m*\u001b[39;49m\u001b[43margs\u001b[49m\u001b[43m,\u001b[49m\u001b[43m \u001b[49m\u001b[38;5;241;43m*\u001b[39;49m\u001b[38;5;241;43m*\u001b[39;49m\u001b[43mkwargs\u001b[49m\u001b[43m)\u001b[49m\n\u001b[0;32m   1502\u001b[0m \u001b[38;5;66;03m# Do not call functions when jit is used\u001b[39;00m\n\u001b[0;32m   1503\u001b[0m full_backward_hooks, non_full_backward_hooks \u001b[38;5;241m=\u001b[39m [], []\n",
      "File \u001b[1;32mF:\\Anaconda\\envs\\pytorch\\lib\\site-packages\\torch\\nn\\modules\\container.py:217\u001b[0m, in \u001b[0;36mSequential.forward\u001b[1;34m(self, input)\u001b[0m\n\u001b[0;32m    215\u001b[0m \u001b[38;5;28;01mdef\u001b[39;00m \u001b[38;5;21mforward\u001b[39m(\u001b[38;5;28mself\u001b[39m, \u001b[38;5;28minput\u001b[39m):\n\u001b[0;32m    216\u001b[0m     \u001b[38;5;28;01mfor\u001b[39;00m module \u001b[38;5;129;01min\u001b[39;00m \u001b[38;5;28mself\u001b[39m:\n\u001b[1;32m--> 217\u001b[0m         \u001b[38;5;28minput\u001b[39m \u001b[38;5;241m=\u001b[39m \u001b[43mmodule\u001b[49m\u001b[43m(\u001b[49m\u001b[38;5;28;43minput\u001b[39;49m\u001b[43m)\u001b[49m\n\u001b[0;32m    218\u001b[0m     \u001b[38;5;28;01mreturn\u001b[39;00m \u001b[38;5;28minput\u001b[39m\n",
      "File \u001b[1;32mF:\\Anaconda\\envs\\pytorch\\lib\\site-packages\\torch\\nn\\modules\\module.py:1501\u001b[0m, in \u001b[0;36mModule._call_impl\u001b[1;34m(self, *args, **kwargs)\u001b[0m\n\u001b[0;32m   1496\u001b[0m \u001b[38;5;66;03m# If we don't have any hooks, we want to skip the rest of the logic in\u001b[39;00m\n\u001b[0;32m   1497\u001b[0m \u001b[38;5;66;03m# this function, and just call forward.\u001b[39;00m\n\u001b[0;32m   1498\u001b[0m \u001b[38;5;28;01mif\u001b[39;00m \u001b[38;5;129;01mnot\u001b[39;00m (\u001b[38;5;28mself\u001b[39m\u001b[38;5;241m.\u001b[39m_backward_hooks \u001b[38;5;129;01mor\u001b[39;00m \u001b[38;5;28mself\u001b[39m\u001b[38;5;241m.\u001b[39m_backward_pre_hooks \u001b[38;5;129;01mor\u001b[39;00m \u001b[38;5;28mself\u001b[39m\u001b[38;5;241m.\u001b[39m_forward_hooks \u001b[38;5;129;01mor\u001b[39;00m \u001b[38;5;28mself\u001b[39m\u001b[38;5;241m.\u001b[39m_forward_pre_hooks\n\u001b[0;32m   1499\u001b[0m         \u001b[38;5;129;01mor\u001b[39;00m _global_backward_pre_hooks \u001b[38;5;129;01mor\u001b[39;00m _global_backward_hooks\n\u001b[0;32m   1500\u001b[0m         \u001b[38;5;129;01mor\u001b[39;00m _global_forward_hooks \u001b[38;5;129;01mor\u001b[39;00m _global_forward_pre_hooks):\n\u001b[1;32m-> 1501\u001b[0m     \u001b[38;5;28;01mreturn\u001b[39;00m \u001b[43mforward_call\u001b[49m\u001b[43m(\u001b[49m\u001b[38;5;241;43m*\u001b[39;49m\u001b[43margs\u001b[49m\u001b[43m,\u001b[49m\u001b[43m \u001b[49m\u001b[38;5;241;43m*\u001b[39;49m\u001b[38;5;241;43m*\u001b[39;49m\u001b[43mkwargs\u001b[49m\u001b[43m)\u001b[49m\n\u001b[0;32m   1502\u001b[0m \u001b[38;5;66;03m# Do not call functions when jit is used\u001b[39;00m\n\u001b[0;32m   1503\u001b[0m full_backward_hooks, non_full_backward_hooks \u001b[38;5;241m=\u001b[39m [], []\n",
      "File \u001b[1;32mF:\\Anaconda\\envs\\pytorch\\lib\\site-packages\\torch\\nn\\modules\\container.py:217\u001b[0m, in \u001b[0;36mSequential.forward\u001b[1;34m(self, input)\u001b[0m\n\u001b[0;32m    215\u001b[0m \u001b[38;5;28;01mdef\u001b[39;00m \u001b[38;5;21mforward\u001b[39m(\u001b[38;5;28mself\u001b[39m, \u001b[38;5;28minput\u001b[39m):\n\u001b[0;32m    216\u001b[0m     \u001b[38;5;28;01mfor\u001b[39;00m module \u001b[38;5;129;01min\u001b[39;00m \u001b[38;5;28mself\u001b[39m:\n\u001b[1;32m--> 217\u001b[0m         \u001b[38;5;28minput\u001b[39m \u001b[38;5;241m=\u001b[39m \u001b[43mmodule\u001b[49m\u001b[43m(\u001b[49m\u001b[38;5;28;43minput\u001b[39;49m\u001b[43m)\u001b[49m\n\u001b[0;32m    218\u001b[0m     \u001b[38;5;28;01mreturn\u001b[39;00m \u001b[38;5;28minput\u001b[39m\n",
      "File \u001b[1;32mF:\\Anaconda\\envs\\pytorch\\lib\\site-packages\\torch\\nn\\modules\\module.py:1501\u001b[0m, in \u001b[0;36mModule._call_impl\u001b[1;34m(self, *args, **kwargs)\u001b[0m\n\u001b[0;32m   1496\u001b[0m \u001b[38;5;66;03m# If we don't have any hooks, we want to skip the rest of the logic in\u001b[39;00m\n\u001b[0;32m   1497\u001b[0m \u001b[38;5;66;03m# this function, and just call forward.\u001b[39;00m\n\u001b[0;32m   1498\u001b[0m \u001b[38;5;28;01mif\u001b[39;00m \u001b[38;5;129;01mnot\u001b[39;00m (\u001b[38;5;28mself\u001b[39m\u001b[38;5;241m.\u001b[39m_backward_hooks \u001b[38;5;129;01mor\u001b[39;00m \u001b[38;5;28mself\u001b[39m\u001b[38;5;241m.\u001b[39m_backward_pre_hooks \u001b[38;5;129;01mor\u001b[39;00m \u001b[38;5;28mself\u001b[39m\u001b[38;5;241m.\u001b[39m_forward_hooks \u001b[38;5;129;01mor\u001b[39;00m \u001b[38;5;28mself\u001b[39m\u001b[38;5;241m.\u001b[39m_forward_pre_hooks\n\u001b[0;32m   1499\u001b[0m         \u001b[38;5;129;01mor\u001b[39;00m _global_backward_pre_hooks \u001b[38;5;129;01mor\u001b[39;00m _global_backward_hooks\n\u001b[0;32m   1500\u001b[0m         \u001b[38;5;129;01mor\u001b[39;00m _global_forward_hooks \u001b[38;5;129;01mor\u001b[39;00m _global_forward_pre_hooks):\n\u001b[1;32m-> 1501\u001b[0m     \u001b[38;5;28;01mreturn\u001b[39;00m \u001b[43mforward_call\u001b[49m\u001b[43m(\u001b[49m\u001b[38;5;241;43m*\u001b[39;49m\u001b[43margs\u001b[49m\u001b[43m,\u001b[49m\u001b[43m \u001b[49m\u001b[38;5;241;43m*\u001b[39;49m\u001b[38;5;241;43m*\u001b[39;49m\u001b[43mkwargs\u001b[49m\u001b[43m)\u001b[49m\n\u001b[0;32m   1502\u001b[0m \u001b[38;5;66;03m# Do not call functions when jit is used\u001b[39;00m\n\u001b[0;32m   1503\u001b[0m full_backward_hooks, non_full_backward_hooks \u001b[38;5;241m=\u001b[39m [], []\n",
      "File \u001b[1;32mF:\\Anaconda\\envs\\pytorch\\lib\\site-packages\\torchvision\\models\\resnet.py:147\u001b[0m, in \u001b[0;36mBottleneck.forward\u001b[1;34m(self, x)\u001b[0m\n\u001b[0;32m    144\u001b[0m identity \u001b[38;5;241m=\u001b[39m x\n\u001b[0;32m    146\u001b[0m out \u001b[38;5;241m=\u001b[39m \u001b[38;5;28mself\u001b[39m\u001b[38;5;241m.\u001b[39mconv1(x)\n\u001b[1;32m--> 147\u001b[0m out \u001b[38;5;241m=\u001b[39m \u001b[38;5;28;43mself\u001b[39;49m\u001b[38;5;241;43m.\u001b[39;49m\u001b[43mbn1\u001b[49m\u001b[43m(\u001b[49m\u001b[43mout\u001b[49m\u001b[43m)\u001b[49m\n\u001b[0;32m    148\u001b[0m out \u001b[38;5;241m=\u001b[39m \u001b[38;5;28mself\u001b[39m\u001b[38;5;241m.\u001b[39mrelu(out)\n\u001b[0;32m    150\u001b[0m out \u001b[38;5;241m=\u001b[39m \u001b[38;5;28mself\u001b[39m\u001b[38;5;241m.\u001b[39mconv2(out)\n",
      "File \u001b[1;32mF:\\Anaconda\\envs\\pytorch\\lib\\site-packages\\torch\\nn\\modules\\module.py:1501\u001b[0m, in \u001b[0;36mModule._call_impl\u001b[1;34m(self, *args, **kwargs)\u001b[0m\n\u001b[0;32m   1496\u001b[0m \u001b[38;5;66;03m# If we don't have any hooks, we want to skip the rest of the logic in\u001b[39;00m\n\u001b[0;32m   1497\u001b[0m \u001b[38;5;66;03m# this function, and just call forward.\u001b[39;00m\n\u001b[0;32m   1498\u001b[0m \u001b[38;5;28;01mif\u001b[39;00m \u001b[38;5;129;01mnot\u001b[39;00m (\u001b[38;5;28mself\u001b[39m\u001b[38;5;241m.\u001b[39m_backward_hooks \u001b[38;5;129;01mor\u001b[39;00m \u001b[38;5;28mself\u001b[39m\u001b[38;5;241m.\u001b[39m_backward_pre_hooks \u001b[38;5;129;01mor\u001b[39;00m \u001b[38;5;28mself\u001b[39m\u001b[38;5;241m.\u001b[39m_forward_hooks \u001b[38;5;129;01mor\u001b[39;00m \u001b[38;5;28mself\u001b[39m\u001b[38;5;241m.\u001b[39m_forward_pre_hooks\n\u001b[0;32m   1499\u001b[0m         \u001b[38;5;129;01mor\u001b[39;00m _global_backward_pre_hooks \u001b[38;5;129;01mor\u001b[39;00m _global_backward_hooks\n\u001b[0;32m   1500\u001b[0m         \u001b[38;5;129;01mor\u001b[39;00m _global_forward_hooks \u001b[38;5;129;01mor\u001b[39;00m _global_forward_pre_hooks):\n\u001b[1;32m-> 1501\u001b[0m     \u001b[38;5;28;01mreturn\u001b[39;00m \u001b[43mforward_call\u001b[49m\u001b[43m(\u001b[49m\u001b[38;5;241;43m*\u001b[39;49m\u001b[43margs\u001b[49m\u001b[43m,\u001b[49m\u001b[43m \u001b[49m\u001b[38;5;241;43m*\u001b[39;49m\u001b[38;5;241;43m*\u001b[39;49m\u001b[43mkwargs\u001b[49m\u001b[43m)\u001b[49m\n\u001b[0;32m   1502\u001b[0m \u001b[38;5;66;03m# Do not call functions when jit is used\u001b[39;00m\n\u001b[0;32m   1503\u001b[0m full_backward_hooks, non_full_backward_hooks \u001b[38;5;241m=\u001b[39m [], []\n",
      "File \u001b[1;32mF:\\Anaconda\\envs\\pytorch\\lib\\site-packages\\torch\\nn\\modules\\batchnorm.py:171\u001b[0m, in \u001b[0;36m_BatchNorm.forward\u001b[1;34m(self, input)\u001b[0m\n\u001b[0;32m    164\u001b[0m     bn_training \u001b[38;5;241m=\u001b[39m (\u001b[38;5;28mself\u001b[39m\u001b[38;5;241m.\u001b[39mrunning_mean \u001b[38;5;129;01mis\u001b[39;00m \u001b[38;5;28;01mNone\u001b[39;00m) \u001b[38;5;129;01mand\u001b[39;00m (\u001b[38;5;28mself\u001b[39m\u001b[38;5;241m.\u001b[39mrunning_var \u001b[38;5;129;01mis\u001b[39;00m \u001b[38;5;28;01mNone\u001b[39;00m)\n\u001b[0;32m    166\u001b[0m \u001b[38;5;250m\u001b[39m\u001b[38;5;124mr\u001b[39m\u001b[38;5;124;03m\"\"\"\u001b[39;00m\n\u001b[0;32m    167\u001b[0m \u001b[38;5;124;03mBuffers are only updated if they are to be tracked and we are in training mode. Thus they only need to be\u001b[39;00m\n\u001b[0;32m    168\u001b[0m \u001b[38;5;124;03mpassed when the update should occur (i.e. in training mode when they are tracked), or when buffer stats are\u001b[39;00m\n\u001b[0;32m    169\u001b[0m \u001b[38;5;124;03mused for normalization (i.e. in eval mode when buffers are not None).\u001b[39;00m\n\u001b[0;32m    170\u001b[0m \u001b[38;5;124;03m\"\"\"\u001b[39;00m\n\u001b[1;32m--> 171\u001b[0m \u001b[38;5;28;01mreturn\u001b[39;00m \u001b[43mF\u001b[49m\u001b[38;5;241;43m.\u001b[39;49m\u001b[43mbatch_norm\u001b[49m\u001b[43m(\u001b[49m\n\u001b[0;32m    172\u001b[0m \u001b[43m    \u001b[49m\u001b[38;5;28;43minput\u001b[39;49m\u001b[43m,\u001b[49m\n\u001b[0;32m    173\u001b[0m \u001b[43m    \u001b[49m\u001b[38;5;66;43;03m# If buffers are not to be tracked, ensure that they won't be updated\u001b[39;49;00m\n\u001b[0;32m    174\u001b[0m \u001b[43m    \u001b[49m\u001b[38;5;28;43mself\u001b[39;49m\u001b[38;5;241;43m.\u001b[39;49m\u001b[43mrunning_mean\u001b[49m\n\u001b[0;32m    175\u001b[0m \u001b[43m    \u001b[49m\u001b[38;5;28;43;01mif\u001b[39;49;00m\u001b[43m \u001b[49m\u001b[38;5;129;43;01mnot\u001b[39;49;00m\u001b[43m \u001b[49m\u001b[38;5;28;43mself\u001b[39;49m\u001b[38;5;241;43m.\u001b[39;49m\u001b[43mtraining\u001b[49m\u001b[43m \u001b[49m\u001b[38;5;129;43;01mor\u001b[39;49;00m\u001b[43m \u001b[49m\u001b[38;5;28;43mself\u001b[39;49m\u001b[38;5;241;43m.\u001b[39;49m\u001b[43mtrack_running_stats\u001b[49m\n\u001b[0;32m    176\u001b[0m \u001b[43m    \u001b[49m\u001b[38;5;28;43;01melse\u001b[39;49;00m\u001b[43m \u001b[49m\u001b[38;5;28;43;01mNone\u001b[39;49;00m\u001b[43m,\u001b[49m\n\u001b[0;32m    177\u001b[0m \u001b[43m    \u001b[49m\u001b[38;5;28;43mself\u001b[39;49m\u001b[38;5;241;43m.\u001b[39;49m\u001b[43mrunning_var\u001b[49m\u001b[43m \u001b[49m\u001b[38;5;28;43;01mif\u001b[39;49;00m\u001b[43m \u001b[49m\u001b[38;5;129;43;01mnot\u001b[39;49;00m\u001b[43m \u001b[49m\u001b[38;5;28;43mself\u001b[39;49m\u001b[38;5;241;43m.\u001b[39;49m\u001b[43mtraining\u001b[49m\u001b[43m \u001b[49m\u001b[38;5;129;43;01mor\u001b[39;49;00m\u001b[43m \u001b[49m\u001b[38;5;28;43mself\u001b[39;49m\u001b[38;5;241;43m.\u001b[39;49m\u001b[43mtrack_running_stats\u001b[49m\u001b[43m \u001b[49m\u001b[38;5;28;43;01melse\u001b[39;49;00m\u001b[43m \u001b[49m\u001b[38;5;28;43;01mNone\u001b[39;49;00m\u001b[43m,\u001b[49m\n\u001b[0;32m    178\u001b[0m \u001b[43m    \u001b[49m\u001b[38;5;28;43mself\u001b[39;49m\u001b[38;5;241;43m.\u001b[39;49m\u001b[43mweight\u001b[49m\u001b[43m,\u001b[49m\n\u001b[0;32m    179\u001b[0m \u001b[43m    \u001b[49m\u001b[38;5;28;43mself\u001b[39;49m\u001b[38;5;241;43m.\u001b[39;49m\u001b[43mbias\u001b[49m\u001b[43m,\u001b[49m\n\u001b[0;32m    180\u001b[0m \u001b[43m    \u001b[49m\u001b[43mbn_training\u001b[49m\u001b[43m,\u001b[49m\n\u001b[0;32m    181\u001b[0m \u001b[43m    \u001b[49m\u001b[43mexponential_average_factor\u001b[49m\u001b[43m,\u001b[49m\n\u001b[0;32m    182\u001b[0m \u001b[43m    \u001b[49m\u001b[38;5;28;43mself\u001b[39;49m\u001b[38;5;241;43m.\u001b[39;49m\u001b[43meps\u001b[49m\u001b[43m,\u001b[49m\n\u001b[0;32m    183\u001b[0m \u001b[43m\u001b[49m\u001b[43m)\u001b[49m\n",
      "File \u001b[1;32mF:\\Anaconda\\envs\\pytorch\\lib\\site-packages\\torch\\nn\\functional.py:2450\u001b[0m, in \u001b[0;36mbatch_norm\u001b[1;34m(input, running_mean, running_var, weight, bias, training, momentum, eps)\u001b[0m\n\u001b[0;32m   2447\u001b[0m \u001b[38;5;28;01mif\u001b[39;00m training:\n\u001b[0;32m   2448\u001b[0m     _verify_batch_size(\u001b[38;5;28minput\u001b[39m\u001b[38;5;241m.\u001b[39msize())\n\u001b[1;32m-> 2450\u001b[0m \u001b[38;5;28;01mreturn\u001b[39;00m \u001b[43mtorch\u001b[49m\u001b[38;5;241;43m.\u001b[39;49m\u001b[43mbatch_norm\u001b[49m\u001b[43m(\u001b[49m\n\u001b[0;32m   2451\u001b[0m \u001b[43m    \u001b[49m\u001b[38;5;28;43minput\u001b[39;49m\u001b[43m,\u001b[49m\u001b[43m \u001b[49m\u001b[43mweight\u001b[49m\u001b[43m,\u001b[49m\u001b[43m \u001b[49m\u001b[43mbias\u001b[49m\u001b[43m,\u001b[49m\u001b[43m \u001b[49m\u001b[43mrunning_mean\u001b[49m\u001b[43m,\u001b[49m\u001b[43m \u001b[49m\u001b[43mrunning_var\u001b[49m\u001b[43m,\u001b[49m\u001b[43m \u001b[49m\u001b[43mtraining\u001b[49m\u001b[43m,\u001b[49m\u001b[43m \u001b[49m\u001b[43mmomentum\u001b[49m\u001b[43m,\u001b[49m\u001b[43m \u001b[49m\u001b[43meps\u001b[49m\u001b[43m,\u001b[49m\u001b[43m \u001b[49m\u001b[43mtorch\u001b[49m\u001b[38;5;241;43m.\u001b[39;49m\u001b[43mbackends\u001b[49m\u001b[38;5;241;43m.\u001b[39;49m\u001b[43mcudnn\u001b[49m\u001b[38;5;241;43m.\u001b[39;49m\u001b[43menabled\u001b[49m\n\u001b[0;32m   2452\u001b[0m \u001b[43m\u001b[49m\u001b[43m)\u001b[49m\n",
      "\u001b[1;31mKeyboardInterrupt\u001b[0m: "
     ]
    }
   ],
   "source": [
    "epoch = 1\n",
    "s = FakeModel(**vars(args))\n",
    "warnings.simplefilter(\"ignore\")\n",
    "torch.multiprocessing.set_sharing_strategy('file_system')\n",
    "filepath = \"../user_data/train_data.csv\"\n",
    "trainloader = train_loader(filepath, num_frames=args.num_frames)\n",
    "trainLoader = torch.utils.data.DataLoader(trainloader, batch_size = args.batch_size, shuffle = True,\n",
    "                                          num_workers = args.n_cpu, drop_last = True)\n",
    "\n",
    "ACCs = []\n",
    "RECALLs = []\n",
    "F1s = []\n",
    "score_file = open(args.score_save_path, \"a+\")\n",
    "\n",
    "while(1):\n",
    "    print(epoch)\n",
    "    ## Training for one epoch\n",
    "    loss, lr, acc, recall, f1 = s.train_network(epoch = epoch, loader = trainLoader)\n",
    "\n",
    "    ## Evaluation every [test_step] epochs\n",
    "    if epoch % args.test_step == 0:\n",
    "        s.save_parameters(args.model_save_path + \"/model_%04d.model\"%epoch)\n",
    "        eval_list = \"../user_data/eval_data.csv\"\n",
    "        acc_pred, recall_pred, f1_pred = s.eval_network(eval_list = eval_list,\n",
    "                                                        num_frames=args.num_frames)\n",
    "        ACCs.append(acc_pred)\n",
    "        RECALLs.append(recall_pred)\n",
    "        F1s.append(f1_pred)\n",
    "        print(time.strftime(\"%Y-%m-%d %H:%M:%S\"), \"%d epoch, Acc %2.2f%%, Recall %2.2f%%, F1 %2.2f%%, Val_acc %2.2f%%, Best_acc %2.2f%%, Val_recall %2.2f%%, Best_recall %2.2f%%, Val_f1  %2.2f%%, Best_f1 %2.2f%%\"%(epoch, acc, recall, f1, ACCs[-1], max(ACCs), RECALLs[-1], max(RECALLs), F1s[-1], max(F1s)))\n",
    "        score_file.write(\"%d epoch, Acc %2.2f%%, Recall %2.2f%%, F1 %2.2f%%, Val_acc %2.2f%%, Best_acc %2.2f%%, Val_recall %2.2f%%, Best_recall %2.2f%%, Val_f1  %2.2f%%, Best_f1 %2.2f%%\\n\"%(epoch, acc, recall, f1, ACCs[-1], max(ACCs), RECALLs[-1], max(RECALLs), F1s[-1], max(F1s)))\n",
    "        score_file.flush()\n",
    "\n",
    "    if epoch >= args.max_epoch:\n",
    "        quit()\n",
    "        \n",
    "    epoch += 1"
   ]
  },
  {
   "cell_type": "markdown",
   "id": "93c807df-c582-4e14-983a-c136853778ba",
   "metadata": {},
   "source": [
    "# 测试"
   ]
  },
  {
   "cell_type": "code",
   "execution_count": 26,
   "id": "04a11c46-9d58-4241-afb5-7fcd3c5f2a6c",
   "metadata": {
    "tags": []
   },
   "outputs": [
    {
     "name": "stdout",
     "output_type": "stream",
     "text": [
      "loading model...\n"
     ]
    },
    {
     "name": "stderr",
     "output_type": "stream",
     "text": [
      "F:\\Anaconda\\envs\\pytorch\\lib\\site-packages\\torchvision\\models\\_utils.py:208: UserWarning: The parameter 'pretrained' is deprecated since 0.13 and may be removed in the future, please use 'weights' instead.\n",
      "  warnings.warn(\n",
      "F:\\Anaconda\\envs\\pytorch\\lib\\site-packages\\torchvision\\models\\_utils.py:223: UserWarning: Arguments other than a weight enum or `None` for 'weights' are deprecated since 0.13 and may be removed in the future. The current behavior is equivalent to passing `weights=DenseNet121_Weights.IMAGENET1K_V1`. You can also use `weights=DenseNet121_Weights.DEFAULT` to get the most up-to-date weights.\n",
      "  warnings.warn(msg)\n",
      "F:\\Anaconda\\envs\\pytorch\\lib\\site-packages\\torchvision\\models\\_utils.py:223: UserWarning: Arguments other than a weight enum or `None` for 'weights' are deprecated since 0.13 and may be removed in the future. The current behavior is equivalent to passing `weights=ResNet101_Weights.IMAGENET1K_V1`. You can also use `weights=ResNet101_Weights.DEFAULT` to get the most up-to-date weights.\n",
      "  warnings.warn(msg)\n"
     ]
    },
    {
     "name": "stdout",
     "output_type": "stream",
     "text": [
      "model inferring...\n"
     ]
    },
    {
     "name": "stderr",
     "output_type": "stream",
     "text": [
      "100%|███████████████████████████████████████████████████████████████████████████████████████████████████████████| 4894/4894 [03:09<00:00, 25.77it/s]"
     ]
    },
    {
     "name": "stdout",
     "output_type": "stream",
     "text": [
      "done!\n"
     ]
    },
    {
     "name": "stderr",
     "output_type": "stream",
     "text": [
      "\n"
     ]
    }
   ],
   "source": [
    "class Inferencer(object):\n",
    "    def __init__(self, model_path):\n",
    "        self.model = self.load_model(model_path)\n",
    "\n",
    "    def load_model(self, model_path):\n",
    "        model = CNN(in_features=1)\n",
    "        self_state = model.state_dict()\n",
    "        loaded_state = torch.load(model_path)\n",
    "        for name, param in loaded_state.items():\n",
    "            origname = name\n",
    "            if name not in self_state:\n",
    "                name = name.replace(\"speaker_encoder.\", \"\")\n",
    "                if name not in self_state:\n",
    "                    print(\"%s is not in the model.\"%origname)\n",
    "                    continue\n",
    "            if self_state[name].size() != loaded_state[origname].size():\n",
    "                print(\"Wrong parameter length: %s, model: %s, loaded: %s\"%(origname, self_state[name].size(), loaded_state[origname].size()))\n",
    "                continue\n",
    "            self_state[name].copy_(param)\n",
    "\n",
    "        model.load_state_dict(self_state)\n",
    "        model.eval().cuda()\n",
    "        return model\n",
    "\n",
    "    def eval_embedding(self, speech_path, num_frames=500, max_audio=48000, channel='left'):\n",
    "        #处理音频\n",
    "        audio, _  = soundfile.read(speech_path)\n",
    "\n",
    "        max_audio = num_frames*80\n",
    "        if audio.shape[0] <= max_audio:\n",
    "            shortage = max_audio - audio.shape[0]\n",
    "            audio = np.pad(audio, (0, shortage), 'wrap')\n",
    "        feats = []\n",
    "        startframe = np.linspace(0, audio.shape[0]-max_audio, num=5)    \n",
    "        for asf in startframe:\n",
    "            feats.append(audio[int(asf):int(asf)+max_audio])\n",
    "\n",
    "        feats = np.stack(feats, axis = 0).astype(np.float32)\n",
    "        data = torch.FloatTensor(feats).cuda()\n",
    "        \n",
    "        #推断\n",
    "        with torch.no_grad():\n",
    "            outputs = self.model.forward(data)\n",
    "            outputs = torch.mean(outputs, dim=0).view(1, -1)# 因为数据处理成5维的，所以要换成一维的\n",
    "        output = outputs.detach().cpu().numpy()\n",
    "        output = output > 0.5  # 这会创建一个布尔数组，True 表示原值大于0.5，False 表示小于等于0.5\n",
    "        output = output.astype(int)  # 将布尔值转换为整数，True 变为 1，False 变为 0\n",
    "        \n",
    "        return output[0][0]\n",
    "    \n",
    "def main(speech_list, infer, res_path):\n",
    "    result = []\n",
    "    for idx, file in tqdm.tqdm(enumerate(speech_list), total = len(speech_list)):\n",
    "        output = infer.eval_embedding(file)\n",
    "        result.append([os.path.basename(file), output])\n",
    "    df_result = pd.DataFrame(result, columns=[\"speech_name\", \"pred_label\"])\n",
    "    df_result.to_csv(res_path, index=False, header=None)\n",
    "    return df_result\n",
    "    \n",
    "\n",
    "if __name__==\"__main__\":\n",
    "    parser = argparse.ArgumentParser(description = \"DeepFake audio\")\n",
    "    parser.add_argument('--model_path',      type=str,   default='../out_put/base_1st_res_model/model_0070.model',       help='Model checkpoint path')\n",
    "    parser.add_argument('--test_path',      type=str,   default='../raw_data/finvcup9th_1st_ds5/test_data.csv',       help='Path of test file, strictly same with the original file')\n",
    "    parser.add_argument('--save_path', type=str, default='../out_put/submit.csv', help='Path of result')\n",
    "    args = parser.parse_args([])\n",
    "    print('loading model...')\n",
    "    infer = Inferencer(args.model_path)\n",
    "    df_test = pd.read_csv(args.test_path)\n",
    "   \n",
    "    print('model inferring...')\n",
    "    main(df_test[\"wav_path\"].tolist(), infer, res_path=args.save_path)\n",
    "    print('done!')"
   ]
  },
  {
   "cell_type": "markdown",
   "id": "d1b7673c-278c-4fb5-aa45-7487a9fa7d39",
   "metadata": {},
   "source": [
    "### 后处理"
   ]
  },
  {
   "cell_type": "code",
   "execution_count": 1,
   "id": "21ee9f05-0975-4fa0-bdf9-7ad23e3a9b8b",
   "metadata": {
    "tags": []
   },
   "outputs": [],
   "source": [
    "import os, shutil\n",
    "import librosa\n",
    "import numpy as np\n",
    "import glob\n",
    "import pandas as pd\n",
    "pd.set_option('display.max_columns',None)\n",
    "pd.set_option('display.max_rows',None)"
   ]
  },
  {
   "cell_type": "code",
   "execution_count": 2,
   "id": "86f34811-0471-4443-bd12-20128aed0fed",
   "metadata": {
    "collapsed": true,
    "jupyter": {
     "outputs_hidden": true
    },
    "tags": []
   },
   "outputs": [
    {
     "name": "stdout",
     "output_type": "stream",
     "text": [
      "1\n",
      "0    2471\n",
      "1    2423\n",
      "Name: count, dtype: int64\n"
     ]
    },
    {
     "name": "stderr",
     "output_type": "stream",
     "text": [
      "C:\\Users\\Huolj\\AppData\\Local\\Temp\\ipykernel_22604\\4093830948.py:8: UserWarning: PySoundFile failed. Trying audioread instead.\n",
      "  y, sr = librosa.load(filename, sr=None)\n",
      "F:\\Anaconda\\envs\\pytorch\\lib\\site-packages\\librosa\\core\\audio.py:184: FutureWarning: librosa.core.audio.__audioread_load\n",
      "\tDeprecated as of librosa version 0.10.0.\n",
      "\tIt will be removed in librosa version 1.0.\n",
      "  y, sr_native = __audioread_load(path, offset, duration, dtype)\n"
     ]
    },
    {
     "ename": "FileNotFoundError",
     "evalue": "[Errno 2] No such file or directory: '../raw_data/finvcup9th_1st_ds5/test/test\\\\00047facd39a8f1427ecc55e3809d370.wav'",
     "output_type": "error",
     "traceback": [
      "\u001b[1;31m---------------------------------------------------------------------------\u001b[0m",
      "\u001b[1;31mLibsndfileError\u001b[0m                           Traceback (most recent call last)",
      "File \u001b[1;32mF:\\Anaconda\\envs\\pytorch\\lib\\site-packages\\librosa\\core\\audio.py:176\u001b[0m, in \u001b[0;36mload\u001b[1;34m(path, sr, mono, offset, duration, dtype, res_type)\u001b[0m\n\u001b[0;32m    175\u001b[0m \u001b[38;5;28;01mtry\u001b[39;00m:\n\u001b[1;32m--> 176\u001b[0m     y, sr_native \u001b[38;5;241m=\u001b[39m \u001b[43m__soundfile_load\u001b[49m\u001b[43m(\u001b[49m\u001b[43mpath\u001b[49m\u001b[43m,\u001b[49m\u001b[43m \u001b[49m\u001b[43moffset\u001b[49m\u001b[43m,\u001b[49m\u001b[43m \u001b[49m\u001b[43mduration\u001b[49m\u001b[43m,\u001b[49m\u001b[43m \u001b[49m\u001b[43mdtype\u001b[49m\u001b[43m)\u001b[49m\n\u001b[0;32m    178\u001b[0m \u001b[38;5;28;01mexcept\u001b[39;00m sf\u001b[38;5;241m.\u001b[39mSoundFileRuntimeError \u001b[38;5;28;01mas\u001b[39;00m exc:\n\u001b[0;32m    179\u001b[0m     \u001b[38;5;66;03m# If soundfile failed, try audioread instead\u001b[39;00m\n",
      "File \u001b[1;32mF:\\Anaconda\\envs\\pytorch\\lib\\site-packages\\librosa\\core\\audio.py:209\u001b[0m, in \u001b[0;36m__soundfile_load\u001b[1;34m(path, offset, duration, dtype)\u001b[0m\n\u001b[0;32m    207\u001b[0m \u001b[38;5;28;01melse\u001b[39;00m:\n\u001b[0;32m    208\u001b[0m     \u001b[38;5;66;03m# Otherwise, create the soundfile object\u001b[39;00m\n\u001b[1;32m--> 209\u001b[0m     context \u001b[38;5;241m=\u001b[39m \u001b[43msf\u001b[49m\u001b[38;5;241;43m.\u001b[39;49m\u001b[43mSoundFile\u001b[49m\u001b[43m(\u001b[49m\u001b[43mpath\u001b[49m\u001b[43m)\u001b[49m\n\u001b[0;32m    211\u001b[0m \u001b[38;5;28;01mwith\u001b[39;00m context \u001b[38;5;28;01mas\u001b[39;00m sf_desc:\n",
      "File \u001b[1;32mF:\\Anaconda\\envs\\pytorch\\lib\\site-packages\\soundfile.py:658\u001b[0m, in \u001b[0;36mSoundFile.__init__\u001b[1;34m(self, file, mode, samplerate, channels, subtype, endian, format, closefd)\u001b[0m\n\u001b[0;32m    656\u001b[0m \u001b[38;5;28mself\u001b[39m\u001b[38;5;241m.\u001b[39m_info \u001b[38;5;241m=\u001b[39m _create_info_struct(file, mode, samplerate, channels,\n\u001b[0;32m    657\u001b[0m                                  \u001b[38;5;28mformat\u001b[39m, subtype, endian)\n\u001b[1;32m--> 658\u001b[0m \u001b[38;5;28mself\u001b[39m\u001b[38;5;241m.\u001b[39m_file \u001b[38;5;241m=\u001b[39m \u001b[38;5;28;43mself\u001b[39;49m\u001b[38;5;241;43m.\u001b[39;49m\u001b[43m_open\u001b[49m\u001b[43m(\u001b[49m\u001b[43mfile\u001b[49m\u001b[43m,\u001b[49m\u001b[43m \u001b[49m\u001b[43mmode_int\u001b[49m\u001b[43m,\u001b[49m\u001b[43m \u001b[49m\u001b[43mclosefd\u001b[49m\u001b[43m)\u001b[49m\n\u001b[0;32m    659\u001b[0m \u001b[38;5;28;01mif\u001b[39;00m \u001b[38;5;28mset\u001b[39m(mode)\u001b[38;5;241m.\u001b[39missuperset(\u001b[38;5;124m'\u001b[39m\u001b[38;5;124mr+\u001b[39m\u001b[38;5;124m'\u001b[39m) \u001b[38;5;129;01mand\u001b[39;00m \u001b[38;5;28mself\u001b[39m\u001b[38;5;241m.\u001b[39mseekable():\n\u001b[0;32m    660\u001b[0m     \u001b[38;5;66;03m# Move write position to 0 (like in Python file objects)\u001b[39;00m\n",
      "File \u001b[1;32mF:\\Anaconda\\envs\\pytorch\\lib\\site-packages\\soundfile.py:1216\u001b[0m, in \u001b[0;36mSoundFile._open\u001b[1;34m(self, file, mode_int, closefd)\u001b[0m\n\u001b[0;32m   1215\u001b[0m     err \u001b[38;5;241m=\u001b[39m _snd\u001b[38;5;241m.\u001b[39msf_error(file_ptr)\n\u001b[1;32m-> 1216\u001b[0m     \u001b[38;5;28;01mraise\u001b[39;00m LibsndfileError(err, prefix\u001b[38;5;241m=\u001b[39m\u001b[38;5;124m\"\u001b[39m\u001b[38;5;124mError opening \u001b[39m\u001b[38;5;132;01m{0!r}\u001b[39;00m\u001b[38;5;124m: \u001b[39m\u001b[38;5;124m\"\u001b[39m\u001b[38;5;241m.\u001b[39mformat(\u001b[38;5;28mself\u001b[39m\u001b[38;5;241m.\u001b[39mname))\n\u001b[0;32m   1217\u001b[0m \u001b[38;5;28;01mif\u001b[39;00m mode_int \u001b[38;5;241m==\u001b[39m _snd\u001b[38;5;241m.\u001b[39mSFM_WRITE:\n\u001b[0;32m   1218\u001b[0m     \u001b[38;5;66;03m# Due to a bug in libsndfile version <= 1.0.25, frames != 0\u001b[39;00m\n\u001b[0;32m   1219\u001b[0m     \u001b[38;5;66;03m# when opening a named pipe in SFM_WRITE mode.\u001b[39;00m\n\u001b[0;32m   1220\u001b[0m     \u001b[38;5;66;03m# See http://github.com/erikd/libsndfile/issues/77.\u001b[39;00m\n",
      "\u001b[1;31mLibsndfileError\u001b[0m: Error opening '../raw_data/finvcup9th_1st_ds5/test/test\\\\00047facd39a8f1427ecc55e3809d370.wav': System error.",
      "\nDuring handling of the above exception, another exception occurred:\n",
      "\u001b[1;31mFileNotFoundError\u001b[0m                         Traceback (most recent call last)",
      "Cell \u001b[1;32mIn[2], line 8\u001b[0m\n\u001b[0;32m      6\u001b[0m \u001b[38;5;28;01mfor\u001b[39;00m i \u001b[38;5;129;01min\u001b[39;00m sub[\u001b[38;5;241m0\u001b[39m]:\n\u001b[0;32m      7\u001b[0m     filename \u001b[38;5;241m=\u001b[39m test_path \u001b[38;5;241m+\u001b[39m i\n\u001b[1;32m----> 8\u001b[0m     y, sr \u001b[38;5;241m=\u001b[39m \u001b[43mlibrosa\u001b[49m\u001b[38;5;241;43m.\u001b[39;49m\u001b[43mload\u001b[49m\u001b[43m(\u001b[49m\u001b[43mfilename\u001b[49m\u001b[43m,\u001b[49m\u001b[43m \u001b[49m\u001b[43msr\u001b[49m\u001b[38;5;241;43m=\u001b[39;49m\u001b[38;5;28;43;01mNone\u001b[39;49;00m\u001b[43m)\u001b[49m\n\u001b[0;32m      9\u001b[0m     duration \u001b[38;5;241m=\u001b[39m librosa\u001b[38;5;241m.\u001b[39mget_duration(y\u001b[38;5;241m=\u001b[39my, sr\u001b[38;5;241m=\u001b[39msr)\n\u001b[0;32m     10\u001b[0m     \u001b[38;5;28;01mif\u001b[39;00m duration\u001b[38;5;241m<\u001b[39m\u001b[38;5;241m1\u001b[39m:\n",
      "File \u001b[1;32mF:\\Anaconda\\envs\\pytorch\\lib\\site-packages\\librosa\\core\\audio.py:184\u001b[0m, in \u001b[0;36mload\u001b[1;34m(path, sr, mono, offset, duration, dtype, res_type)\u001b[0m\n\u001b[0;32m    180\u001b[0m \u001b[38;5;28;01mif\u001b[39;00m \u001b[38;5;28misinstance\u001b[39m(path, (\u001b[38;5;28mstr\u001b[39m, pathlib\u001b[38;5;241m.\u001b[39mPurePath)):\n\u001b[0;32m    181\u001b[0m     warnings\u001b[38;5;241m.\u001b[39mwarn(\n\u001b[0;32m    182\u001b[0m         \u001b[38;5;124m\"\u001b[39m\u001b[38;5;124mPySoundFile failed. Trying audioread instead.\u001b[39m\u001b[38;5;124m\"\u001b[39m, stacklevel\u001b[38;5;241m=\u001b[39m\u001b[38;5;241m2\u001b[39m\n\u001b[0;32m    183\u001b[0m     )\n\u001b[1;32m--> 184\u001b[0m     y, sr_native \u001b[38;5;241m=\u001b[39m \u001b[43m__audioread_load\u001b[49m\u001b[43m(\u001b[49m\u001b[43mpath\u001b[49m\u001b[43m,\u001b[49m\u001b[43m \u001b[49m\u001b[43moffset\u001b[49m\u001b[43m,\u001b[49m\u001b[43m \u001b[49m\u001b[43mduration\u001b[49m\u001b[43m,\u001b[49m\u001b[43m \u001b[49m\u001b[43mdtype\u001b[49m\u001b[43m)\u001b[49m\n\u001b[0;32m    185\u001b[0m \u001b[38;5;28;01melse\u001b[39;00m:\n\u001b[0;32m    186\u001b[0m     \u001b[38;5;28;01mraise\u001b[39;00m exc\n",
      "File \u001b[1;32mF:\\Anaconda\\envs\\pytorch\\lib\\site-packages\\decorator.py:232\u001b[0m, in \u001b[0;36mdecorate.<locals>.fun\u001b[1;34m(*args, **kw)\u001b[0m\n\u001b[0;32m    230\u001b[0m \u001b[38;5;28;01mif\u001b[39;00m \u001b[38;5;129;01mnot\u001b[39;00m kwsyntax:\n\u001b[0;32m    231\u001b[0m     args, kw \u001b[38;5;241m=\u001b[39m fix(args, kw, sig)\n\u001b[1;32m--> 232\u001b[0m \u001b[38;5;28;01mreturn\u001b[39;00m \u001b[43mcaller\u001b[49m\u001b[43m(\u001b[49m\u001b[43mfunc\u001b[49m\u001b[43m,\u001b[49m\u001b[43m \u001b[49m\u001b[38;5;241;43m*\u001b[39;49m\u001b[43m(\u001b[49m\u001b[43mextras\u001b[49m\u001b[43m \u001b[49m\u001b[38;5;241;43m+\u001b[39;49m\u001b[43m \u001b[49m\u001b[43margs\u001b[49m\u001b[43m)\u001b[49m\u001b[43m,\u001b[49m\u001b[43m \u001b[49m\u001b[38;5;241;43m*\u001b[39;49m\u001b[38;5;241;43m*\u001b[39;49m\u001b[43mkw\u001b[49m\u001b[43m)\u001b[49m\n",
      "File \u001b[1;32mF:\\Anaconda\\envs\\pytorch\\lib\\site-packages\\librosa\\util\\decorators.py:59\u001b[0m, in \u001b[0;36mdeprecated.<locals>.__wrapper\u001b[1;34m(func, *args, **kwargs)\u001b[0m\n\u001b[0;32m     50\u001b[0m \u001b[38;5;250m\u001b[39m\u001b[38;5;124;03m\"\"\"Warn the user, and then proceed.\"\"\"\u001b[39;00m\n\u001b[0;32m     51\u001b[0m warnings\u001b[38;5;241m.\u001b[39mwarn(\n\u001b[0;32m     52\u001b[0m     \u001b[38;5;124m\"\u001b[39m\u001b[38;5;132;01m{:s}\u001b[39;00m\u001b[38;5;124m.\u001b[39m\u001b[38;5;132;01m{:s}\u001b[39;00m\u001b[38;5;130;01m\\n\u001b[39;00m\u001b[38;5;130;01m\\t\u001b[39;00m\u001b[38;5;124mDeprecated as of librosa version \u001b[39m\u001b[38;5;132;01m{:s}\u001b[39;00m\u001b[38;5;124m.\u001b[39m\u001b[38;5;124m\"\u001b[39m\n\u001b[0;32m     53\u001b[0m     \u001b[38;5;124m\"\u001b[39m\u001b[38;5;130;01m\\n\u001b[39;00m\u001b[38;5;130;01m\\t\u001b[39;00m\u001b[38;5;124mIt will be removed in librosa version \u001b[39m\u001b[38;5;132;01m{:s}\u001b[39;00m\u001b[38;5;124m.\u001b[39m\u001b[38;5;124m\"\u001b[39m\u001b[38;5;241m.\u001b[39mformat(\n\u001b[1;32m   (...)\u001b[0m\n\u001b[0;32m     57\u001b[0m     stacklevel\u001b[38;5;241m=\u001b[39m\u001b[38;5;241m3\u001b[39m,  \u001b[38;5;66;03m# Would be 2, but the decorator adds a level\u001b[39;00m\n\u001b[0;32m     58\u001b[0m )\n\u001b[1;32m---> 59\u001b[0m \u001b[38;5;28;01mreturn\u001b[39;00m \u001b[43mfunc\u001b[49m\u001b[43m(\u001b[49m\u001b[38;5;241;43m*\u001b[39;49m\u001b[43margs\u001b[49m\u001b[43m,\u001b[49m\u001b[43m \u001b[49m\u001b[38;5;241;43m*\u001b[39;49m\u001b[38;5;241;43m*\u001b[39;49m\u001b[43mkwargs\u001b[49m\u001b[43m)\u001b[49m\n",
      "File \u001b[1;32mF:\\Anaconda\\envs\\pytorch\\lib\\site-packages\\librosa\\core\\audio.py:240\u001b[0m, in \u001b[0;36m__audioread_load\u001b[1;34m(path, offset, duration, dtype)\u001b[0m\n\u001b[0;32m    237\u001b[0m     reader \u001b[38;5;241m=\u001b[39m path\n\u001b[0;32m    238\u001b[0m \u001b[38;5;28;01melse\u001b[39;00m:\n\u001b[0;32m    239\u001b[0m     \u001b[38;5;66;03m# If the input was not an audioread object, try to open it\u001b[39;00m\n\u001b[1;32m--> 240\u001b[0m     reader \u001b[38;5;241m=\u001b[39m \u001b[43maudioread\u001b[49m\u001b[38;5;241;43m.\u001b[39;49m\u001b[43maudio_open\u001b[49m\u001b[43m(\u001b[49m\u001b[43mpath\u001b[49m\u001b[43m)\u001b[49m\n\u001b[0;32m    242\u001b[0m \u001b[38;5;28;01mwith\u001b[39;00m reader \u001b[38;5;28;01mas\u001b[39;00m input_file:\n\u001b[0;32m    243\u001b[0m     sr_native \u001b[38;5;241m=\u001b[39m input_file\u001b[38;5;241m.\u001b[39msamplerate\n",
      "File \u001b[1;32mF:\\Anaconda\\envs\\pytorch\\lib\\site-packages\\audioread\\__init__.py:127\u001b[0m, in \u001b[0;36maudio_open\u001b[1;34m(path, backends)\u001b[0m\n\u001b[0;32m    125\u001b[0m \u001b[38;5;28;01mfor\u001b[39;00m BackendClass \u001b[38;5;129;01min\u001b[39;00m backends:\n\u001b[0;32m    126\u001b[0m     \u001b[38;5;28;01mtry\u001b[39;00m:\n\u001b[1;32m--> 127\u001b[0m         \u001b[38;5;28;01mreturn\u001b[39;00m \u001b[43mBackendClass\u001b[49m\u001b[43m(\u001b[49m\u001b[43mpath\u001b[49m\u001b[43m)\u001b[49m\n\u001b[0;32m    128\u001b[0m     \u001b[38;5;28;01mexcept\u001b[39;00m DecodeError:\n\u001b[0;32m    129\u001b[0m         \u001b[38;5;28;01mpass\u001b[39;00m\n",
      "File \u001b[1;32mF:\\Anaconda\\envs\\pytorch\\lib\\site-packages\\audioread\\rawread.py:59\u001b[0m, in \u001b[0;36mRawAudioFile.__init__\u001b[1;34m(self, filename)\u001b[0m\n\u001b[0;32m     58\u001b[0m \u001b[38;5;28;01mdef\u001b[39;00m \u001b[38;5;21m__init__\u001b[39m(\u001b[38;5;28mself\u001b[39m, filename):\n\u001b[1;32m---> 59\u001b[0m     \u001b[38;5;28mself\u001b[39m\u001b[38;5;241m.\u001b[39m_fh \u001b[38;5;241m=\u001b[39m \u001b[38;5;28;43mopen\u001b[39;49m\u001b[43m(\u001b[49m\u001b[43mfilename\u001b[49m\u001b[43m,\u001b[49m\u001b[43m \u001b[49m\u001b[38;5;124;43m'\u001b[39;49m\u001b[38;5;124;43mrb\u001b[39;49m\u001b[38;5;124;43m'\u001b[39;49m\u001b[43m)\u001b[49m\n\u001b[0;32m     61\u001b[0m     \u001b[38;5;28;01mtry\u001b[39;00m:\n\u001b[0;32m     62\u001b[0m         \u001b[38;5;28mself\u001b[39m\u001b[38;5;241m.\u001b[39m_file \u001b[38;5;241m=\u001b[39m aifc\u001b[38;5;241m.\u001b[39mopen(\u001b[38;5;28mself\u001b[39m\u001b[38;5;241m.\u001b[39m_fh)\n",
      "\u001b[1;31mFileNotFoundError\u001b[0m: [Errno 2] No such file or directory: '../raw_data/finvcup9th_1st_ds5/test/test\\\\00047facd39a8f1427ecc55e3809d370.wav'"
     ]
    }
   ],
   "source": [
    "test_path = \"../raw_data/finvcup9th_1st_ds5/test/\"\n",
    "sub = pd.read_csv(\"../out_put/submit.csv\", header=None)\n",
    "print(sub[1].value_counts())\n",
    "test_dict = sub.set_index(0)[1].to_dict()\n",
    "under_1s_test = {}\n",
    "for i in sub[0]:\n",
    "    filename = test_path + i\n",
    "    y, sr = librosa.load(filename, sr=None)\n",
    "    duration = librosa.get_duration(y=y, sr=sr)\n",
    "    if duration<1:\n",
    "        under_1s_test[i] = 0\n",
    "print(len(under_1s_test))\n",
    "\n",
    "under_1s_testlabel = []\n",
    "for i in under_1s_test:\n",
    "    under_1s_testlabel.append(test_dict[i])\n",
    "pd.Series(under_1s_testlabel).value_counts()"
   ]
  },
  {
   "cell_type": "code",
   "execution_count": 14,
   "id": "b480a3c1-1302-48ef-a73b-2efcabeb8652",
   "metadata": {
    "tags": []
   },
   "outputs": [],
   "source": [
    "test_path = \"../raw_data/finvcup9th_1st_ds5/test/\"\n",
    "sub = pd.read_csv(\"../out_put/submit.csv\")"
   ]
  },
  {
   "cell_type": "code",
   "execution_count": null,
   "id": "d43194c7-6fbe-496e-987c-469d81119332",
   "metadata": {},
   "outputs": [],
   "source": [
    "sub.iloc[:,0] = sub.iloc[:,0].str.replace(r'test\\\\', '')"
   ]
  },
  {
   "cell_type": "code",
   "execution_count": null,
   "id": "4b866c57-ccdd-4ea4-be44-385e97447860",
   "metadata": {},
   "outputs": [],
   "source": []
  },
  {
   "cell_type": "code",
   "execution_count": 22,
   "id": "21d6d606-74e9-44a6-a394-757b81a6468e",
   "metadata": {
    "tags": []
   },
   "outputs": [],
   "source": [
    "sub.loc[sub[0].isin(list(under_1s_test.keys())), 1] = 1"
   ]
  },
  {
   "cell_type": "code",
   "execution_count": 23,
   "id": "fe8b5162-3c4b-47cb-8ceb-165ab54221af",
   "metadata": {
    "tags": []
   },
   "outputs": [
    {
     "data": {
      "text/plain": [
       "1\n",
       "0    3237\n",
       "1    1657\n",
       "Name: count, dtype: int64"
      ]
     },
     "execution_count": 23,
     "metadata": {},
     "output_type": "execute_result"
    }
   ],
   "source": [
    "sub[1].value_counts()"
   ]
  },
  {
   "cell_type": "code",
   "execution_count": 18,
   "id": "342604e6-3e07-4413-acb8-cd9893f484a7",
   "metadata": {
    "tags": []
   },
   "outputs": [],
   "source": [
    "sub.to_csv(\"../out_put/submit_yhl.csv\", header=0, index=0)"
   ]
  },
  {
   "cell_type": "code",
   "execution_count": null,
   "id": "75d20954-69c7-48a1-8c39-687f1ace0b25",
   "metadata": {},
   "outputs": [],
   "source": []
  }
 ],
 "metadata": {
  "kernelspec": {
   "display_name": "pytorch",
   "language": "python",
   "name": "pytorch"
  },
  "language_info": {
   "codemirror_mode": {
    "name": "ipython",
    "version": 3
   },
   "file_extension": ".py",
   "mimetype": "text/x-python",
   "name": "python",
   "nbconvert_exporter": "python",
   "pygments_lexer": "ipython3",
   "version": "3.8.18"
  }
 },
 "nbformat": 4,
 "nbformat_minor": 5
}
